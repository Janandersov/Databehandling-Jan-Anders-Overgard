{
 "cells": [
  {
   "cell_type": "code",
   "execution_count": 1,
   "id": "initial_id",
   "metadata": {
    "collapsed": true,
    "ExecuteTime": {
     "end_time": "2023-11-09T16:58:35.828182800Z",
     "start_time": "2023-11-09T16:58:35.736690Z"
    }
   },
   "outputs": [],
   "source": [
    "import pandas as pd\n",
    "import seaborn as sns\n",
    "import plotly_express as px"
   ]
  },
  {
   "cell_type": "markdown",
   "source": [
    "# Importing dataset from excel file"
   ],
   "metadata": {
    "collapsed": false
   },
   "id": "eabf30d6cbdb5ccc"
  },
  {
   "cell_type": "code",
   "execution_count": 12,
   "outputs": [],
   "source": [
    "df_veckodata_riket = pd.read_excel(\"../Lab 1/Data/Folkhalsomyndigheten_Covid19.xlsx\", sheet_name=\"Veckodata Riket\")"
   ],
   "metadata": {
    "collapsed": false,
    "ExecuteTime": {
     "end_time": "2023-11-09T17:20:39.201120800Z",
     "start_time": "2023-11-09T17:20:37.870103700Z"
    }
   },
   "id": "14a4000912d87f1b"
  },
  {
   "cell_type": "code",
   "execution_count": 13,
   "outputs": [
    {
     "data": {
      "text/plain": "       år  veckonummer  Antal_fall_vecka  Antal_fall_100000inv_vecka  \\\n0    2020            6                 1                           0   \n1    2020            7                 0                           0   \n2    2020            8                 0                           0   \n3    2020            9                13                           0   \n4    2020           10               211                           2   \n..    ...          ...               ...                         ...   \n137  2022           38              4669                          45   \n138  2022           39             13532                         130   \n139  2022           40              3999                          39   \n140  2022           41              3408                          33   \n141  2022           42              3279                          32   \n\n     Antal_fall_100000inv_14dagar  Kum_antal_fall  Kum_fall_100000inv  \\\n0                               0               1                   0   \n1                               0               1                   0   \n2                               0               1                   0   \n3                               0              14                   0   \n4                               2             225                   2   \n..                            ...             ...                 ...   \n137                            93         2585507               24910   \n138                           175         2599039               25041   \n139                           169         2603038               25079   \n140                            72         2606446               25112   \n141                            65         2609725               25144   \n\n     Antal_nyaintensivvårdade_vecka  Kum_antal_intensivvårdade  \\\n0                                 0                          0   \n1                                 0                          0   \n2                                 0                          0   \n3                                 0                          0   \n4                                 3                          3   \n..                              ...                        ...   \n137                              22                       9475   \n138                              15                       9490   \n139                              19                       9509   \n140                              13                       9522   \n141                              17                       9539   \n\n     Antal_avlidna_vecka  Antal_avlidna_milj_inv_vecka  Kum_antal_avlidna  \\\n0                      0                           0.0                  0   \n1                      0                           0.0                  0   \n2                      0                           0.0                  0   \n3                      0                           0.0                  0   \n4                      0                           0.0                  0   \n..                   ...                           ...                ...   \n137                   88                           8.5              20303   \n138                   92                           8.9              20395   \n139                   88                           8.5              20483   \n140                   73                           7.0              20556   \n141                   25                           2.4              20581   \n\n     Kum_antal_avlidna_milj_inv  \n0                      0.000000  \n1                      0.000000  \n2                      0.000000  \n3                      0.000000  \n4                      0.000000  \n..                          ...  \n137                 1956.099976  \n138                 1965.000000  \n139                 1973.400024  \n140                 1980.500000  \n141                 1982.900024  \n\n[142 rows x 13 columns]",
      "text/html": "<div>\n<style scoped>\n    .dataframe tbody tr th:only-of-type {\n        vertical-align: middle;\n    }\n\n    .dataframe tbody tr th {\n        vertical-align: top;\n    }\n\n    .dataframe thead th {\n        text-align: right;\n    }\n</style>\n<table border=\"1\" class=\"dataframe\">\n  <thead>\n    <tr style=\"text-align: right;\">\n      <th></th>\n      <th>år</th>\n      <th>veckonummer</th>\n      <th>Antal_fall_vecka</th>\n      <th>Antal_fall_100000inv_vecka</th>\n      <th>Antal_fall_100000inv_14dagar</th>\n      <th>Kum_antal_fall</th>\n      <th>Kum_fall_100000inv</th>\n      <th>Antal_nyaintensivvårdade_vecka</th>\n      <th>Kum_antal_intensivvårdade</th>\n      <th>Antal_avlidna_vecka</th>\n      <th>Antal_avlidna_milj_inv_vecka</th>\n      <th>Kum_antal_avlidna</th>\n      <th>Kum_antal_avlidna_milj_inv</th>\n    </tr>\n  </thead>\n  <tbody>\n    <tr>\n      <th>0</th>\n      <td>2020</td>\n      <td>6</td>\n      <td>1</td>\n      <td>0</td>\n      <td>0</td>\n      <td>1</td>\n      <td>0</td>\n      <td>0</td>\n      <td>0</td>\n      <td>0</td>\n      <td>0.0</td>\n      <td>0</td>\n      <td>0.000000</td>\n    </tr>\n    <tr>\n      <th>1</th>\n      <td>2020</td>\n      <td>7</td>\n      <td>0</td>\n      <td>0</td>\n      <td>0</td>\n      <td>1</td>\n      <td>0</td>\n      <td>0</td>\n      <td>0</td>\n      <td>0</td>\n      <td>0.0</td>\n      <td>0</td>\n      <td>0.000000</td>\n    </tr>\n    <tr>\n      <th>2</th>\n      <td>2020</td>\n      <td>8</td>\n      <td>0</td>\n      <td>0</td>\n      <td>0</td>\n      <td>1</td>\n      <td>0</td>\n      <td>0</td>\n      <td>0</td>\n      <td>0</td>\n      <td>0.0</td>\n      <td>0</td>\n      <td>0.000000</td>\n    </tr>\n    <tr>\n      <th>3</th>\n      <td>2020</td>\n      <td>9</td>\n      <td>13</td>\n      <td>0</td>\n      <td>0</td>\n      <td>14</td>\n      <td>0</td>\n      <td>0</td>\n      <td>0</td>\n      <td>0</td>\n      <td>0.0</td>\n      <td>0</td>\n      <td>0.000000</td>\n    </tr>\n    <tr>\n      <th>4</th>\n      <td>2020</td>\n      <td>10</td>\n      <td>211</td>\n      <td>2</td>\n      <td>2</td>\n      <td>225</td>\n      <td>2</td>\n      <td>3</td>\n      <td>3</td>\n      <td>0</td>\n      <td>0.0</td>\n      <td>0</td>\n      <td>0.000000</td>\n    </tr>\n    <tr>\n      <th>...</th>\n      <td>...</td>\n      <td>...</td>\n      <td>...</td>\n      <td>...</td>\n      <td>...</td>\n      <td>...</td>\n      <td>...</td>\n      <td>...</td>\n      <td>...</td>\n      <td>...</td>\n      <td>...</td>\n      <td>...</td>\n      <td>...</td>\n    </tr>\n    <tr>\n      <th>137</th>\n      <td>2022</td>\n      <td>38</td>\n      <td>4669</td>\n      <td>45</td>\n      <td>93</td>\n      <td>2585507</td>\n      <td>24910</td>\n      <td>22</td>\n      <td>9475</td>\n      <td>88</td>\n      <td>8.5</td>\n      <td>20303</td>\n      <td>1956.099976</td>\n    </tr>\n    <tr>\n      <th>138</th>\n      <td>2022</td>\n      <td>39</td>\n      <td>13532</td>\n      <td>130</td>\n      <td>175</td>\n      <td>2599039</td>\n      <td>25041</td>\n      <td>15</td>\n      <td>9490</td>\n      <td>92</td>\n      <td>8.9</td>\n      <td>20395</td>\n      <td>1965.000000</td>\n    </tr>\n    <tr>\n      <th>139</th>\n      <td>2022</td>\n      <td>40</td>\n      <td>3999</td>\n      <td>39</td>\n      <td>169</td>\n      <td>2603038</td>\n      <td>25079</td>\n      <td>19</td>\n      <td>9509</td>\n      <td>88</td>\n      <td>8.5</td>\n      <td>20483</td>\n      <td>1973.400024</td>\n    </tr>\n    <tr>\n      <th>140</th>\n      <td>2022</td>\n      <td>41</td>\n      <td>3408</td>\n      <td>33</td>\n      <td>72</td>\n      <td>2606446</td>\n      <td>25112</td>\n      <td>13</td>\n      <td>9522</td>\n      <td>73</td>\n      <td>7.0</td>\n      <td>20556</td>\n      <td>1980.500000</td>\n    </tr>\n    <tr>\n      <th>141</th>\n      <td>2022</td>\n      <td>42</td>\n      <td>3279</td>\n      <td>32</td>\n      <td>65</td>\n      <td>2609725</td>\n      <td>25144</td>\n      <td>17</td>\n      <td>9539</td>\n      <td>25</td>\n      <td>2.4</td>\n      <td>20581</td>\n      <td>1982.900024</td>\n    </tr>\n  </tbody>\n</table>\n<p>142 rows × 13 columns</p>\n</div>"
     },
     "execution_count": 13,
     "metadata": {},
     "output_type": "execute_result"
    }
   ],
   "source": [
    "df_veckodata_riket"
   ],
   "metadata": {
    "collapsed": false,
    "ExecuteTime": {
     "end_time": "2023-11-09T17:20:39.658936200Z",
     "start_time": "2023-11-09T17:20:39.634532200Z"
    }
   },
   "id": "e396bb08ab286e3d"
  },
  {
   "cell_type": "markdown",
   "source": [
    "### Task A"
   ],
   "metadata": {
    "collapsed": false
   },
   "id": "47f8422ad1d5fc4"
  },
  {
   "cell_type": "code",
   "execution_count": 18,
   "outputs": [
    {
     "name": "stdout",
     "output_type": "stream",
     "text": [
      "<class 'pandas.core.frame.DataFrame'>\n",
      "RangeIndex: 142 entries, 0 to 141\n",
      "Data columns (total 13 columns):\n",
      " #   Column                          Non-Null Count  Dtype  \n",
      "---  ------                          --------------  -----  \n",
      " 0   år                              142 non-null    int64  \n",
      " 1   veckonummer                     142 non-null    int64  \n",
      " 2   Antal_fall_vecka                142 non-null    int64  \n",
      " 3   Antal_fall_100000inv_vecka      142 non-null    int64  \n",
      " 4   Antal_fall_100000inv_14dagar    142 non-null    int64  \n",
      " 5   Kum_antal_fall                  142 non-null    int64  \n",
      " 6   Kum_fall_100000inv              142 non-null    int64  \n",
      " 7   Antal_nyaintensivvårdade_vecka  142 non-null    int64  \n",
      " 8   Kum_antal_intensivvårdade       142 non-null    int64  \n",
      " 9   Antal_avlidna_vecka             142 non-null    int64  \n",
      " 10  Antal_avlidna_milj_inv_vecka    142 non-null    float64\n",
      " 11  Kum_antal_avlidna               142 non-null    int64  \n",
      " 12  Kum_antal_avlidna_milj_inv      142 non-null    float64\n",
      "dtypes: float64(2), int64(11)\n",
      "memory usage: 14.6 KB\n"
     ]
    }
   ],
   "source": [
    "df_veckodata_riket.info()"
   ],
   "metadata": {
    "collapsed": false,
    "ExecuteTime": {
     "end_time": "2023-11-09T17:25:34.419983400Z",
     "start_time": "2023-11-09T17:25:34.407277500Z"
    }
   },
   "id": "548f90d8a03dfbcc"
  },
  {
   "cell_type": "markdown",
   "source": [
    "### Task B"
   ],
   "metadata": {
    "collapsed": false
   },
   "id": "3a570bbfe89a54b3"
  },
  {
   "cell_type": "code",
   "execution_count": null,
   "outputs": [],
   "source": [],
   "metadata": {
    "collapsed": false
   },
   "id": "300c5b9efebfa02d"
  }
 ],
 "metadata": {
  "kernelspec": {
   "display_name": "Python 3",
   "language": "python",
   "name": "python3"
  },
  "language_info": {
   "codemirror_mode": {
    "name": "ipython",
    "version": 2
   },
   "file_extension": ".py",
   "mimetype": "text/x-python",
   "name": "python",
   "nbconvert_exporter": "python",
   "pygments_lexer": "ipython2",
   "version": "2.7.6"
  }
 },
 "nbformat": 4,
 "nbformat_minor": 5
}
