{
 "cells": [
  {
   "cell_type": "code",
   "execution_count": 2,
   "id": "initial_id",
   "metadata": {
    "collapsed": true,
    "ExecuteTime": {
     "end_time": "2023-11-13T09:42:00.400548700Z",
     "start_time": "2023-11-13T09:42:00.267642300Z"
    }
   },
   "outputs": [],
   "source": [
    "import pandas as pd\n",
    "import seaborn as sns\n",
    "import plotly_express as px"
   ]
  },
  {
   "cell_type": "markdown",
   "source": [
    "# Importing dataset from excel file"
   ],
   "metadata": {
    "collapsed": false
   },
   "id": "eabf30d6cbdb5ccc"
  },
  {
   "cell_type": "code",
   "execution_count": 3,
   "outputs": [],
   "source": [
    "df_veckodata_riket = pd.read_excel(\"./Data/Folkhalsomyndigheten_Covid19.xlsx\", sheet_name=\"Veckodata Riket\")"
   ],
   "metadata": {
    "collapsed": false,
    "ExecuteTime": {
     "end_time": "2023-11-13T09:42:04.247361700Z",
     "start_time": "2023-11-13T09:42:02.539564300Z"
    }
   },
   "id": "14a4000912d87f1b"
  },
  {
   "cell_type": "code",
   "execution_count": 4,
   "outputs": [
    {
     "data": {
      "text/plain": "       år  veckonummer  Antal_fall_vecka  Antal_fall_100000inv_vecka  \\\n0    2020            6                 1                           0   \n1    2020            7                 0                           0   \n2    2020            8                 0                           0   \n3    2020            9                13                           0   \n4    2020           10               211                           2   \n..    ...          ...               ...                         ...   \n137  2022           38              4669                          45   \n138  2022           39             13532                         130   \n139  2022           40              3999                          39   \n140  2022           41              3408                          33   \n141  2022           42              3279                          32   \n\n     Antal_fall_100000inv_14dagar  Kum_antal_fall  Kum_fall_100000inv  \\\n0                               0               1                   0   \n1                               0               1                   0   \n2                               0               1                   0   \n3                               0              14                   0   \n4                               2             225                   2   \n..                            ...             ...                 ...   \n137                            93         2585507               24910   \n138                           175         2599039               25041   \n139                           169         2603038               25079   \n140                            72         2606446               25112   \n141                            65         2609725               25144   \n\n     Antal_nyaintensivvårdade_vecka  Kum_antal_intensivvårdade  \\\n0                                 0                          0   \n1                                 0                          0   \n2                                 0                          0   \n3                                 0                          0   \n4                                 3                          3   \n..                              ...                        ...   \n137                              22                       9475   \n138                              15                       9490   \n139                              19                       9509   \n140                              13                       9522   \n141                              17                       9539   \n\n     Antal_avlidna_vecka  Antal_avlidna_milj_inv_vecka  Kum_antal_avlidna  \\\n0                      0                           0.0                  0   \n1                      0                           0.0                  0   \n2                      0                           0.0                  0   \n3                      0                           0.0                  0   \n4                      0                           0.0                  0   \n..                   ...                           ...                ...   \n137                   88                           8.5              20303   \n138                   92                           8.9              20395   \n139                   88                           8.5              20483   \n140                   73                           7.0              20556   \n141                   25                           2.4              20581   \n\n     Kum_antal_avlidna_milj_inv  \n0                      0.000000  \n1                      0.000000  \n2                      0.000000  \n3                      0.000000  \n4                      0.000000  \n..                          ...  \n137                 1956.099976  \n138                 1965.000000  \n139                 1973.400024  \n140                 1980.500000  \n141                 1982.900024  \n\n[142 rows x 13 columns]",
      "text/html": "<div>\n<style scoped>\n    .dataframe tbody tr th:only-of-type {\n        vertical-align: middle;\n    }\n\n    .dataframe tbody tr th {\n        vertical-align: top;\n    }\n\n    .dataframe thead th {\n        text-align: right;\n    }\n</style>\n<table border=\"1\" class=\"dataframe\">\n  <thead>\n    <tr style=\"text-align: right;\">\n      <th></th>\n      <th>år</th>\n      <th>veckonummer</th>\n      <th>Antal_fall_vecka</th>\n      <th>Antal_fall_100000inv_vecka</th>\n      <th>Antal_fall_100000inv_14dagar</th>\n      <th>Kum_antal_fall</th>\n      <th>Kum_fall_100000inv</th>\n      <th>Antal_nyaintensivvårdade_vecka</th>\n      <th>Kum_antal_intensivvårdade</th>\n      <th>Antal_avlidna_vecka</th>\n      <th>Antal_avlidna_milj_inv_vecka</th>\n      <th>Kum_antal_avlidna</th>\n      <th>Kum_antal_avlidna_milj_inv</th>\n    </tr>\n  </thead>\n  <tbody>\n    <tr>\n      <th>0</th>\n      <td>2020</td>\n      <td>6</td>\n      <td>1</td>\n      <td>0</td>\n      <td>0</td>\n      <td>1</td>\n      <td>0</td>\n      <td>0</td>\n      <td>0</td>\n      <td>0</td>\n      <td>0.0</td>\n      <td>0</td>\n      <td>0.000000</td>\n    </tr>\n    <tr>\n      <th>1</th>\n      <td>2020</td>\n      <td>7</td>\n      <td>0</td>\n      <td>0</td>\n      <td>0</td>\n      <td>1</td>\n      <td>0</td>\n      <td>0</td>\n      <td>0</td>\n      <td>0</td>\n      <td>0.0</td>\n      <td>0</td>\n      <td>0.000000</td>\n    </tr>\n    <tr>\n      <th>2</th>\n      <td>2020</td>\n      <td>8</td>\n      <td>0</td>\n      <td>0</td>\n      <td>0</td>\n      <td>1</td>\n      <td>0</td>\n      <td>0</td>\n      <td>0</td>\n      <td>0</td>\n      <td>0.0</td>\n      <td>0</td>\n      <td>0.000000</td>\n    </tr>\n    <tr>\n      <th>3</th>\n      <td>2020</td>\n      <td>9</td>\n      <td>13</td>\n      <td>0</td>\n      <td>0</td>\n      <td>14</td>\n      <td>0</td>\n      <td>0</td>\n      <td>0</td>\n      <td>0</td>\n      <td>0.0</td>\n      <td>0</td>\n      <td>0.000000</td>\n    </tr>\n    <tr>\n      <th>4</th>\n      <td>2020</td>\n      <td>10</td>\n      <td>211</td>\n      <td>2</td>\n      <td>2</td>\n      <td>225</td>\n      <td>2</td>\n      <td>3</td>\n      <td>3</td>\n      <td>0</td>\n      <td>0.0</td>\n      <td>0</td>\n      <td>0.000000</td>\n    </tr>\n    <tr>\n      <th>...</th>\n      <td>...</td>\n      <td>...</td>\n      <td>...</td>\n      <td>...</td>\n      <td>...</td>\n      <td>...</td>\n      <td>...</td>\n      <td>...</td>\n      <td>...</td>\n      <td>...</td>\n      <td>...</td>\n      <td>...</td>\n      <td>...</td>\n    </tr>\n    <tr>\n      <th>137</th>\n      <td>2022</td>\n      <td>38</td>\n      <td>4669</td>\n      <td>45</td>\n      <td>93</td>\n      <td>2585507</td>\n      <td>24910</td>\n      <td>22</td>\n      <td>9475</td>\n      <td>88</td>\n      <td>8.5</td>\n      <td>20303</td>\n      <td>1956.099976</td>\n    </tr>\n    <tr>\n      <th>138</th>\n      <td>2022</td>\n      <td>39</td>\n      <td>13532</td>\n      <td>130</td>\n      <td>175</td>\n      <td>2599039</td>\n      <td>25041</td>\n      <td>15</td>\n      <td>9490</td>\n      <td>92</td>\n      <td>8.9</td>\n      <td>20395</td>\n      <td>1965.000000</td>\n    </tr>\n    <tr>\n      <th>139</th>\n      <td>2022</td>\n      <td>40</td>\n      <td>3999</td>\n      <td>39</td>\n      <td>169</td>\n      <td>2603038</td>\n      <td>25079</td>\n      <td>19</td>\n      <td>9509</td>\n      <td>88</td>\n      <td>8.5</td>\n      <td>20483</td>\n      <td>1973.400024</td>\n    </tr>\n    <tr>\n      <th>140</th>\n      <td>2022</td>\n      <td>41</td>\n      <td>3408</td>\n      <td>33</td>\n      <td>72</td>\n      <td>2606446</td>\n      <td>25112</td>\n      <td>13</td>\n      <td>9522</td>\n      <td>73</td>\n      <td>7.0</td>\n      <td>20556</td>\n      <td>1980.500000</td>\n    </tr>\n    <tr>\n      <th>141</th>\n      <td>2022</td>\n      <td>42</td>\n      <td>3279</td>\n      <td>32</td>\n      <td>65</td>\n      <td>2609725</td>\n      <td>25144</td>\n      <td>17</td>\n      <td>9539</td>\n      <td>25</td>\n      <td>2.4</td>\n      <td>20581</td>\n      <td>1982.900024</td>\n    </tr>\n  </tbody>\n</table>\n<p>142 rows × 13 columns</p>\n</div>"
     },
     "execution_count": 4,
     "metadata": {},
     "output_type": "execute_result"
    }
   ],
   "source": [
    "df_veckodata_riket"
   ],
   "metadata": {
    "collapsed": false,
    "ExecuteTime": {
     "end_time": "2023-11-13T09:42:05.847035800Z",
     "start_time": "2023-11-13T09:42:05.810779900Z"
    }
   },
   "id": "e396bb08ab286e3d"
  },
  {
   "cell_type": "markdown",
   "source": [
    "### Task A\n",
    "A quick look trough the data."
   ],
   "metadata": {
    "collapsed": false
   },
   "id": "47f8422ad1d5fc4"
  },
  {
   "cell_type": "code",
   "execution_count": 7,
   "outputs": [
    {
     "name": "stdout",
     "output_type": "stream",
     "text": [
      "<class 'pandas.core.frame.DataFrame'>\n",
      "RangeIndex: 142 entries, 0 to 141\n",
      "Data columns (total 13 columns):\n",
      " #   Column                          Non-Null Count  Dtype  \n",
      "---  ------                          --------------  -----  \n",
      " 0   år                              142 non-null    int64  \n",
      " 1   veckonummer                     142 non-null    int64  \n",
      " 2   Antal_fall_vecka                142 non-null    int64  \n",
      " 3   Antal_fall_100000inv_vecka      142 non-null    int64  \n",
      " 4   Antal_fall_100000inv_14dagar    142 non-null    int64  \n",
      " 5   Kum_antal_fall                  142 non-null    int64  \n",
      " 6   Kum_fall_100000inv              142 non-null    int64  \n",
      " 7   Antal_nyaintensivvårdade_vecka  142 non-null    int64  \n",
      " 8   Kum_antal_intensivvårdade       142 non-null    int64  \n",
      " 9   Antal_avlidna_vecka             142 non-null    int64  \n",
      " 10  Antal_avlidna_milj_inv_vecka    142 non-null    float64\n",
      " 11  Kum_antal_avlidna               142 non-null    int64  \n",
      " 12  Kum_antal_avlidna_milj_inv      142 non-null    float64\n",
      "dtypes: float64(2), int64(11)\n",
      "memory usage: 14.6 KB\n"
     ]
    }
   ],
   "source": [
    "df_veckodata_riket.info()"
   ],
   "metadata": {
    "collapsed": false,
    "ExecuteTime": {
     "end_time": "2023-11-13T09:43:43.334696Z",
     "start_time": "2023-11-13T09:43:43.313347Z"
    }
   },
   "id": "548f90d8a03dfbcc"
  },
  {
   "cell_type": "code",
   "execution_count": 8,
   "outputs": [
    {
     "data": {
      "text/plain": "                år  veckonummer  Antal_fall_vecka  Antal_fall_100000inv_vecka  \\\ncount   142.000000   142.000000        142.000000                  142.000000   \nmean   2020.957746    26.035211      18378.345070                  177.197183   \nstd       0.797809    14.228835      38569.455753                  371.689114   \nmin    2020.000000     1.000000          0.000000                    0.000000   \n25%    2020.000000    14.000000       3075.000000                   30.000000   \n50%    2021.000000    26.000000       5531.000000                   53.000000   \n75%    2022.000000    37.750000      21125.000000                  203.500000   \nmax    2022.000000    53.000000     265043.000000                 2554.000000   \n\n       Antal_fall_100000inv_14dagar  Kum_antal_fall  Kum_fall_100000inv  \\\ncount                    142.000000    1.420000e+02          142.000000   \nmean                     354.169014    1.125288e+06        10843.281690   \nstd                      725.677174    9.618084e+05         9265.100705   \nmin                        0.000000    1.000000e+00            0.000000   \n25%                       59.750000    1.014860e+05          982.500000   \n50%                      107.500000    1.085848e+06        10461.500000   \n75%                      421.250000    2.423603e+06        23350.500000   \nmax                     5024.000000    2.609725e+06        25144.000000   \n\n       Antal_nyaintensivvårdade_vecka  Kum_antal_intensivvårdade  \\\ncount                      142.000000                 142.000000   \nmean                        67.176056                6000.464789   \nstd                         73.435000                3076.853993   \nmin                          0.000000                   0.000000   \n25%                         14.000000                2643.750000   \n50%                         27.500000                7559.500000   \n75%                        109.000000                8863.250000   \nmax                        289.000000                9539.000000   \n\n       Antal_avlidna_vecka  Antal_avlidna_milj_inv_vecka  Kum_antal_avlidna  \\\ncount           142.000000                    142.000000         142.000000   \nmean            144.936620                     14.000000       12321.154930   \nstd             173.659331                     16.796551        6103.235009   \nmin               0.000000                      0.000000           0.000000   \n25%              25.250000                      2.425000        5880.000000   \n50%              77.500000                      7.450000       14610.500000   \n75%             185.500000                     17.950000       17177.750000   \nmax             664.000000                     64.300003       20581.000000   \n\n       Kum_antal_avlidna_milj_inv  \ncount                  142.000000  \nmean                  1187.840841  \nstd                    587.255605  \nmin                      0.000000  \n25%                    569.375000  \n50%                   1407.650024  \n75%                   1654.999969  \nmax                   1982.900024  ",
      "text/html": "<div>\n<style scoped>\n    .dataframe tbody tr th:only-of-type {\n        vertical-align: middle;\n    }\n\n    .dataframe tbody tr th {\n        vertical-align: top;\n    }\n\n    .dataframe thead th {\n        text-align: right;\n    }\n</style>\n<table border=\"1\" class=\"dataframe\">\n  <thead>\n    <tr style=\"text-align: right;\">\n      <th></th>\n      <th>år</th>\n      <th>veckonummer</th>\n      <th>Antal_fall_vecka</th>\n      <th>Antal_fall_100000inv_vecka</th>\n      <th>Antal_fall_100000inv_14dagar</th>\n      <th>Kum_antal_fall</th>\n      <th>Kum_fall_100000inv</th>\n      <th>Antal_nyaintensivvårdade_vecka</th>\n      <th>Kum_antal_intensivvårdade</th>\n      <th>Antal_avlidna_vecka</th>\n      <th>Antal_avlidna_milj_inv_vecka</th>\n      <th>Kum_antal_avlidna</th>\n      <th>Kum_antal_avlidna_milj_inv</th>\n    </tr>\n  </thead>\n  <tbody>\n    <tr>\n      <th>count</th>\n      <td>142.000000</td>\n      <td>142.000000</td>\n      <td>142.000000</td>\n      <td>142.000000</td>\n      <td>142.000000</td>\n      <td>1.420000e+02</td>\n      <td>142.000000</td>\n      <td>142.000000</td>\n      <td>142.000000</td>\n      <td>142.000000</td>\n      <td>142.000000</td>\n      <td>142.000000</td>\n      <td>142.000000</td>\n    </tr>\n    <tr>\n      <th>mean</th>\n      <td>2020.957746</td>\n      <td>26.035211</td>\n      <td>18378.345070</td>\n      <td>177.197183</td>\n      <td>354.169014</td>\n      <td>1.125288e+06</td>\n      <td>10843.281690</td>\n      <td>67.176056</td>\n      <td>6000.464789</td>\n      <td>144.936620</td>\n      <td>14.000000</td>\n      <td>12321.154930</td>\n      <td>1187.840841</td>\n    </tr>\n    <tr>\n      <th>std</th>\n      <td>0.797809</td>\n      <td>14.228835</td>\n      <td>38569.455753</td>\n      <td>371.689114</td>\n      <td>725.677174</td>\n      <td>9.618084e+05</td>\n      <td>9265.100705</td>\n      <td>73.435000</td>\n      <td>3076.853993</td>\n      <td>173.659331</td>\n      <td>16.796551</td>\n      <td>6103.235009</td>\n      <td>587.255605</td>\n    </tr>\n    <tr>\n      <th>min</th>\n      <td>2020.000000</td>\n      <td>1.000000</td>\n      <td>0.000000</td>\n      <td>0.000000</td>\n      <td>0.000000</td>\n      <td>1.000000e+00</td>\n      <td>0.000000</td>\n      <td>0.000000</td>\n      <td>0.000000</td>\n      <td>0.000000</td>\n      <td>0.000000</td>\n      <td>0.000000</td>\n      <td>0.000000</td>\n    </tr>\n    <tr>\n      <th>25%</th>\n      <td>2020.000000</td>\n      <td>14.000000</td>\n      <td>3075.000000</td>\n      <td>30.000000</td>\n      <td>59.750000</td>\n      <td>1.014860e+05</td>\n      <td>982.500000</td>\n      <td>14.000000</td>\n      <td>2643.750000</td>\n      <td>25.250000</td>\n      <td>2.425000</td>\n      <td>5880.000000</td>\n      <td>569.375000</td>\n    </tr>\n    <tr>\n      <th>50%</th>\n      <td>2021.000000</td>\n      <td>26.000000</td>\n      <td>5531.000000</td>\n      <td>53.000000</td>\n      <td>107.500000</td>\n      <td>1.085848e+06</td>\n      <td>10461.500000</td>\n      <td>27.500000</td>\n      <td>7559.500000</td>\n      <td>77.500000</td>\n      <td>7.450000</td>\n      <td>14610.500000</td>\n      <td>1407.650024</td>\n    </tr>\n    <tr>\n      <th>75%</th>\n      <td>2022.000000</td>\n      <td>37.750000</td>\n      <td>21125.000000</td>\n      <td>203.500000</td>\n      <td>421.250000</td>\n      <td>2.423603e+06</td>\n      <td>23350.500000</td>\n      <td>109.000000</td>\n      <td>8863.250000</td>\n      <td>185.500000</td>\n      <td>17.950000</td>\n      <td>17177.750000</td>\n      <td>1654.999969</td>\n    </tr>\n    <tr>\n      <th>max</th>\n      <td>2022.000000</td>\n      <td>53.000000</td>\n      <td>265043.000000</td>\n      <td>2554.000000</td>\n      <td>5024.000000</td>\n      <td>2.609725e+06</td>\n      <td>25144.000000</td>\n      <td>289.000000</td>\n      <td>9539.000000</td>\n      <td>664.000000</td>\n      <td>64.300003</td>\n      <td>20581.000000</td>\n      <td>1982.900024</td>\n    </tr>\n  </tbody>\n</table>\n</div>"
     },
     "execution_count": 8,
     "metadata": {},
     "output_type": "execute_result"
    }
   ],
   "source": [
    "df_veckodata_riket.describe()"
   ],
   "metadata": {
    "collapsed": false,
    "ExecuteTime": {
     "end_time": "2023-11-13T09:43:45.277767300Z",
     "start_time": "2023-11-13T09:43:45.242354100Z"
    }
   },
   "id": "300c5b9efebfa02d"
  },
  {
   "cell_type": "code",
   "execution_count": 10,
   "outputs": [
    {
     "data": {
      "text/plain": "Index(['år', 'veckonummer', 'Antal_fall_vecka', 'Antal_fall_100000inv_vecka',\n       'Antal_fall_100000inv_14dagar', 'Kum_antal_fall', 'Kum_fall_100000inv',\n       'Antal_nyaintensivvårdade_vecka', 'Kum_antal_intensivvårdade',\n       'Antal_avlidna_vecka', 'Antal_avlidna_milj_inv_vecka',\n       'Kum_antal_avlidna', 'Kum_antal_avlidna_milj_inv'],\n      dtype='object')"
     },
     "execution_count": 10,
     "metadata": {},
     "output_type": "execute_result"
    }
   ],
   "source": [
    "df_veckodata_riket.columns"
   ],
   "metadata": {
    "collapsed": false,
    "ExecuteTime": {
     "end_time": "2023-11-13T10:07:45.003159400Z",
     "start_time": "2023-11-13T10:07:44.970686100Z"
    }
   },
   "id": "b5ccdad94ff9291e"
  },
  {
   "cell_type": "code",
   "execution_count": 11,
   "outputs": [
    {
     "data": {
      "text/plain": "RangeIndex(start=0, stop=142, step=1)"
     },
     "execution_count": 11,
     "metadata": {},
     "output_type": "execute_result"
    }
   ],
   "source": [
    "df_veckodata_riket.index"
   ],
   "metadata": {
    "collapsed": false,
    "ExecuteTime": {
     "end_time": "2023-11-13T10:08:07.678410900Z",
     "start_time": "2023-11-13T10:08:07.661789500Z"
    }
   },
   "id": "e63d931abe36ee83"
  },
  {
   "cell_type": "code",
   "execution_count": 17,
   "outputs": [
    {
     "data": {
      "text/plain": "år    veckonummer  Antal_fall_vecka  Antal_fall_100000inv_vecka  Antal_fall_100000inv_14dagar  Kum_antal_fall  Kum_fall_100000inv  Antal_nyaintensivvårdade_vecka  Kum_antal_intensivvårdade  Antal_avlidna_vecka  Antal_avlidna_milj_inv_vecka  Kum_antal_avlidna  Kum_antal_avlidna_milj_inv\n2020  6            1                 0                           0                             1               0                   0                               0                          0                    0.0                           0                  0.000000                      1\n      7            0                 0                           0                             1               0                   0                               0                          0                    0.0                           0                  0.000000                      1\n      8            0                 0                           0                             1               0                   0                               0                          0                    0.0                           0                  0.000000                      1\n      9            13                0                           0                             14              0                   0                               0                          0                    0.0                           0                  0.000000                      1\n      10           211               2                           2                             225             2                   3                               3                          0                    0.0                           0                  0.000000                      1\n                                                                                                                                                                                                                                                                                                 ..\n2022  38           4669              45                          93                            2585507         24910               22                              9475                       88                   8.5                           20303              1956.099976                   1\n      39           13532             130                         175                           2599039         25041               15                              9490                       92                   8.9                           20395              1965.000000                   1\n      40           3999              39                          169                           2603038         25079               19                              9509                       88                   8.5                           20483              1973.400024                   1\n      41           3408              33                          72                            2606446         25112               13                              9522                       73                   7.0                           20556              1980.500000                   1\n      42           3279              32                          65                            2609725         25144               17                              9539                       25                   2.4                           20581              1982.900024                   1\nName: count, Length: 142, dtype: int64"
     },
     "execution_count": 17,
     "metadata": {},
     "output_type": "execute_result"
    }
   ],
   "source": [
    "df_veckodata_riket.value_counts(sort=False)"
   ],
   "metadata": {
    "collapsed": false,
    "ExecuteTime": {
     "end_time": "2023-11-13T10:12:00.427222400Z",
     "start_time": "2023-11-13T10:12:00.408033600Z"
    }
   },
   "id": "d42ca840f7e72745"
  },
  {
   "cell_type": "code",
   "execution_count": 18,
   "outputs": [
    {
     "data": {
      "text/plain": "142"
     },
     "execution_count": 18,
     "metadata": {},
     "output_type": "execute_result"
    }
   ],
   "source": [
    "df_veckodata_riket.value_counts().sum()"
   ],
   "metadata": {
    "collapsed": false,
    "ExecuteTime": {
     "end_time": "2023-11-13T10:12:10.001162300Z",
     "start_time": "2023-11-13T10:12:09.988707900Z"
    }
   },
   "id": "dc403e5c823770e"
  },
  {
   "cell_type": "code",
   "execution_count": 19,
   "outputs": [
    {
     "data": {
      "text/plain": "     år  veckonummer  Antal_fall_vecka  Antal_fall_100000inv_vecka  \\\n0  2020            6                 1                           0   \n1  2020            7                 0                           0   \n2  2020            8                 0                           0   \n3  2020            9                13                           0   \n4  2020           10               211                           2   \n\n   Antal_fall_100000inv_14dagar  Kum_antal_fall  Kum_fall_100000inv  \\\n0                             0               1                   0   \n1                             0               1                   0   \n2                             0               1                   0   \n3                             0              14                   0   \n4                             2             225                   2   \n\n   Antal_nyaintensivvårdade_vecka  Kum_antal_intensivvårdade  \\\n0                               0                          0   \n1                               0                          0   \n2                               0                          0   \n3                               0                          0   \n4                               3                          3   \n\n   Antal_avlidna_vecka  Antal_avlidna_milj_inv_vecka  Kum_antal_avlidna  \\\n0                    0                           0.0                  0   \n1                    0                           0.0                  0   \n2                    0                           0.0                  0   \n3                    0                           0.0                  0   \n4                    0                           0.0                  0   \n\n   Kum_antal_avlidna_milj_inv  \n0                         0.0  \n1                         0.0  \n2                         0.0  \n3                         0.0  \n4                         0.0  ",
      "text/html": "<div>\n<style scoped>\n    .dataframe tbody tr th:only-of-type {\n        vertical-align: middle;\n    }\n\n    .dataframe tbody tr th {\n        vertical-align: top;\n    }\n\n    .dataframe thead th {\n        text-align: right;\n    }\n</style>\n<table border=\"1\" class=\"dataframe\">\n  <thead>\n    <tr style=\"text-align: right;\">\n      <th></th>\n      <th>år</th>\n      <th>veckonummer</th>\n      <th>Antal_fall_vecka</th>\n      <th>Antal_fall_100000inv_vecka</th>\n      <th>Antal_fall_100000inv_14dagar</th>\n      <th>Kum_antal_fall</th>\n      <th>Kum_fall_100000inv</th>\n      <th>Antal_nyaintensivvårdade_vecka</th>\n      <th>Kum_antal_intensivvårdade</th>\n      <th>Antal_avlidna_vecka</th>\n      <th>Antal_avlidna_milj_inv_vecka</th>\n      <th>Kum_antal_avlidna</th>\n      <th>Kum_antal_avlidna_milj_inv</th>\n    </tr>\n  </thead>\n  <tbody>\n    <tr>\n      <th>0</th>\n      <td>2020</td>\n      <td>6</td>\n      <td>1</td>\n      <td>0</td>\n      <td>0</td>\n      <td>1</td>\n      <td>0</td>\n      <td>0</td>\n      <td>0</td>\n      <td>0</td>\n      <td>0.0</td>\n      <td>0</td>\n      <td>0.0</td>\n    </tr>\n    <tr>\n      <th>1</th>\n      <td>2020</td>\n      <td>7</td>\n      <td>0</td>\n      <td>0</td>\n      <td>0</td>\n      <td>1</td>\n      <td>0</td>\n      <td>0</td>\n      <td>0</td>\n      <td>0</td>\n      <td>0.0</td>\n      <td>0</td>\n      <td>0.0</td>\n    </tr>\n    <tr>\n      <th>2</th>\n      <td>2020</td>\n      <td>8</td>\n      <td>0</td>\n      <td>0</td>\n      <td>0</td>\n      <td>1</td>\n      <td>0</td>\n      <td>0</td>\n      <td>0</td>\n      <td>0</td>\n      <td>0.0</td>\n      <td>0</td>\n      <td>0.0</td>\n    </tr>\n    <tr>\n      <th>3</th>\n      <td>2020</td>\n      <td>9</td>\n      <td>13</td>\n      <td>0</td>\n      <td>0</td>\n      <td>14</td>\n      <td>0</td>\n      <td>0</td>\n      <td>0</td>\n      <td>0</td>\n      <td>0.0</td>\n      <td>0</td>\n      <td>0.0</td>\n    </tr>\n    <tr>\n      <th>4</th>\n      <td>2020</td>\n      <td>10</td>\n      <td>211</td>\n      <td>2</td>\n      <td>2</td>\n      <td>225</td>\n      <td>2</td>\n      <td>3</td>\n      <td>3</td>\n      <td>0</td>\n      <td>0.0</td>\n      <td>0</td>\n      <td>0.0</td>\n    </tr>\n  </tbody>\n</table>\n</div>"
     },
     "execution_count": 19,
     "metadata": {},
     "output_type": "execute_result"
    }
   ],
   "source": [
    "df_veckodata_riket.head(5)"
   ],
   "metadata": {
    "collapsed": false,
    "ExecuteTime": {
     "end_time": "2023-11-13T10:12:44.405450400Z",
     "start_time": "2023-11-13T10:12:44.360465900Z"
    }
   },
   "id": "1ccf806aa34ab80e"
  },
  {
   "cell_type": "code",
   "execution_count": null,
   "outputs": [],
   "source": [],
   "metadata": {
    "collapsed": false
   },
   "id": "614bdb5e56497725"
  }
 ],
 "metadata": {
  "kernelspec": {
   "display_name": "Python 3",
   "language": "python",
   "name": "python3"
  },
  "language_info": {
   "codemirror_mode": {
    "name": "ipython",
    "version": 2
   },
   "file_extension": ".py",
   "mimetype": "text/x-python",
   "name": "python",
   "nbconvert_exporter": "python",
   "pygments_lexer": "ipython2",
   "version": "2.7.6"
  }
 },
 "nbformat": 4,
 "nbformat_minor": 5
}
