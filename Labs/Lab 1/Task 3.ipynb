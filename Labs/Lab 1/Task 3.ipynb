{
 "cells": [
  {
   "cell_type": "markdown",
   "source": [
    "### Exploring KPI's"
   ],
   "metadata": {
    "collapsed": false
   },
   "id": "d5468d6702167537"
  },
  {
   "cell_type": "markdown",
   "source": [
    "I will be analysing the datasets from the previous two tasks and look at the following:\n",
    "\n",
    "- Total cases to deaths ratio per county.\n",
    "- Fist to second dose completion ratio. \n",
    "- Amount of 3rd doses taken per age group."
   ],
   "metadata": {
    "collapsed": false
   },
   "id": "9e19d5fbde7c5f9b"
  },
  {
   "cell_type": "code",
   "execution_count": 1,
   "outputs": [],
   "source": [
    "import pandas as pd\n",
    "import plotly_express as px"
   ],
   "metadata": {
    "collapsed": false,
    "ExecuteTime": {
     "end_time": "2023-11-14T11:41:25.421954100Z",
     "start_time": "2023-11-14T11:41:25.326449800Z"
    }
   },
   "id": "ae023202d6f49179"
  },
  {
   "cell_type": "markdown",
   "source": [
    "### Total cases to deaths ratio per county."
   ],
   "metadata": {
    "collapsed": false
   },
   "id": "514f5e4ffa9a9640"
  },
  {
   "cell_type": "code",
   "execution_count": 14,
   "outputs": [],
   "source": [
    "totals_per_region = pd.read_excel(\"./Data/Folkhalsomyndigheten_Covid19.xlsx\", sheet_name=\"Totalt antal per region\")"
   ],
   "metadata": {
    "collapsed": false,
    "ExecuteTime": {
     "end_time": "2023-11-14T11:57:34.793247500Z",
     "start_time": "2023-11-14T11:57:33.348195700Z"
    }
   },
   "id": "6e17e53087a3099a"
  },
  {
   "cell_type": "code",
   "execution_count": 15,
   "outputs": [
    {
     "name": "stdout",
     "output_type": "stream",
     "text": [
      "<class 'pandas.core.frame.DataFrame'>\n",
      "RangeIndex: 21 entries, 0 to 20\n",
      "Data columns (total 5 columns):\n",
      " #   Column                        Non-Null Count  Dtype  \n",
      "---  ------                        --------------  -----  \n",
      " 0   Region                        21 non-null     object \n",
      " 1   Totalt_antal_fall             21 non-null     int64  \n",
      " 2   Fall_per_100000_inv           21 non-null     float64\n",
      " 3   Totalt_antal_intensivvårdade  21 non-null     int64  \n",
      " 4   Totalt_antal_avlidna          21 non-null     int64  \n",
      "dtypes: float64(1), int64(3), object(1)\n",
      "memory usage: 972.0+ bytes\n"
     ]
    }
   ],
   "source": [
    "totals_per_region.info()"
   ],
   "metadata": {
    "collapsed": false,
    "ExecuteTime": {
     "end_time": "2023-11-14T11:57:35.646864100Z",
     "start_time": "2023-11-14T11:57:35.626495500Z"
    }
   },
   "id": "ac8cdce2a8d1faba"
  },
  {
   "cell_type": "code",
   "execution_count": 16,
   "outputs": [
    {
     "data": {
      "text/plain": "Region                          0\nTotalt_antal_fall               0\nFall_per_100000_inv             0\nTotalt_antal_intensivvårdade    0\nTotalt_antal_avlidna            0\ndtype: int64"
     },
     "execution_count": 16,
     "metadata": {},
     "output_type": "execute_result"
    }
   ],
   "source": [
    "totals_per_region.isna().sum()"
   ],
   "metadata": {
    "collapsed": false,
    "ExecuteTime": {
     "end_time": "2023-11-14T11:57:36.397253300Z",
     "start_time": "2023-11-14T11:57:36.365284300Z"
    }
   },
   "id": "d8f0d3f033206814"
  },
  {
   "cell_type": "markdown",
   "source": [
    "We have no NaN values so cleaning isn't needed. We can also see that we won't need \"Fall_per_100000_inv\" and \"Totalt_antal_intensivvårdade\" for now.\n"
   ],
   "metadata": {
    "collapsed": false
   },
   "id": "748754deea65fb87"
  },
  {
   "cell_type": "code",
   "execution_count": 17,
   "outputs": [],
   "source": [
    "totals_per_region.drop([\"Fall_per_100000_inv\",\"Totalt_antal_intensivvårdade\"],axis=1, inplace=True)"
   ],
   "metadata": {
    "collapsed": false,
    "ExecuteTime": {
     "end_time": "2023-11-14T11:57:48.982357500Z",
     "start_time": "2023-11-14T11:57:48.964481800Z"
    }
   },
   "id": "3255d8bd76285f64"
  },
  {
   "cell_type": "code",
   "execution_count": 18,
   "outputs": [
    {
     "data": {
      "text/plain": "                 Region  Totalt_antal_fall  Totalt_antal_avlidna\n0              Blekinge              30829                   184\n1               Dalarna              75091                   544\n2               Gotland              11874                    82\n3             Gävleborg              74803                   754\n4               Halland             108822                   518\n5   Jämtland Härjedalen              34347                   197\n6             Jönköping              89662                   756\n7                Kalmar              62810                   385\n8             Kronoberg              51460                   410\n9            Norrbotten              50755                   459\n10                Skåne             346727                  2587\n11            Stockholm             606611                  5626\n12             Sörmland              67918                   662\n13              Uppsala              93746                   722\n14             Värmland              69277                   411\n15         Västerbotten              60186                   393\n16       Västernorrland              56224                   678\n17          Västmanland              78438                   534\n18      Västra Götaland             444278                  3342\n19               Örebro              98929                   525\n20         Östergötland              98793                   890",
      "text/html": "<div>\n<style scoped>\n    .dataframe tbody tr th:only-of-type {\n        vertical-align: middle;\n    }\n\n    .dataframe tbody tr th {\n        vertical-align: top;\n    }\n\n    .dataframe thead th {\n        text-align: right;\n    }\n</style>\n<table border=\"1\" class=\"dataframe\">\n  <thead>\n    <tr style=\"text-align: right;\">\n      <th></th>\n      <th>Region</th>\n      <th>Totalt_antal_fall</th>\n      <th>Totalt_antal_avlidna</th>\n    </tr>\n  </thead>\n  <tbody>\n    <tr>\n      <th>0</th>\n      <td>Blekinge</td>\n      <td>30829</td>\n      <td>184</td>\n    </tr>\n    <tr>\n      <th>1</th>\n      <td>Dalarna</td>\n      <td>75091</td>\n      <td>544</td>\n    </tr>\n    <tr>\n      <th>2</th>\n      <td>Gotland</td>\n      <td>11874</td>\n      <td>82</td>\n    </tr>\n    <tr>\n      <th>3</th>\n      <td>Gävleborg</td>\n      <td>74803</td>\n      <td>754</td>\n    </tr>\n    <tr>\n      <th>4</th>\n      <td>Halland</td>\n      <td>108822</td>\n      <td>518</td>\n    </tr>\n    <tr>\n      <th>5</th>\n      <td>Jämtland Härjedalen</td>\n      <td>34347</td>\n      <td>197</td>\n    </tr>\n    <tr>\n      <th>6</th>\n      <td>Jönköping</td>\n      <td>89662</td>\n      <td>756</td>\n    </tr>\n    <tr>\n      <th>7</th>\n      <td>Kalmar</td>\n      <td>62810</td>\n      <td>385</td>\n    </tr>\n    <tr>\n      <th>8</th>\n      <td>Kronoberg</td>\n      <td>51460</td>\n      <td>410</td>\n    </tr>\n    <tr>\n      <th>9</th>\n      <td>Norrbotten</td>\n      <td>50755</td>\n      <td>459</td>\n    </tr>\n    <tr>\n      <th>10</th>\n      <td>Skåne</td>\n      <td>346727</td>\n      <td>2587</td>\n    </tr>\n    <tr>\n      <th>11</th>\n      <td>Stockholm</td>\n      <td>606611</td>\n      <td>5626</td>\n    </tr>\n    <tr>\n      <th>12</th>\n      <td>Sörmland</td>\n      <td>67918</td>\n      <td>662</td>\n    </tr>\n    <tr>\n      <th>13</th>\n      <td>Uppsala</td>\n      <td>93746</td>\n      <td>722</td>\n    </tr>\n    <tr>\n      <th>14</th>\n      <td>Värmland</td>\n      <td>69277</td>\n      <td>411</td>\n    </tr>\n    <tr>\n      <th>15</th>\n      <td>Västerbotten</td>\n      <td>60186</td>\n      <td>393</td>\n    </tr>\n    <tr>\n      <th>16</th>\n      <td>Västernorrland</td>\n      <td>56224</td>\n      <td>678</td>\n    </tr>\n    <tr>\n      <th>17</th>\n      <td>Västmanland</td>\n      <td>78438</td>\n      <td>534</td>\n    </tr>\n    <tr>\n      <th>18</th>\n      <td>Västra Götaland</td>\n      <td>444278</td>\n      <td>3342</td>\n    </tr>\n    <tr>\n      <th>19</th>\n      <td>Örebro</td>\n      <td>98929</td>\n      <td>525</td>\n    </tr>\n    <tr>\n      <th>20</th>\n      <td>Östergötland</td>\n      <td>98793</td>\n      <td>890</td>\n    </tr>\n  </tbody>\n</table>\n</div>"
     },
     "execution_count": 18,
     "metadata": {},
     "output_type": "execute_result"
    }
   ],
   "source": [
    "totals_per_region"
   ],
   "metadata": {
    "collapsed": false,
    "ExecuteTime": {
     "end_time": "2023-11-14T11:57:50.588130100Z",
     "start_time": "2023-11-14T11:57:50.568762700Z"
    }
   },
   "id": "7cfda3a0b321ad37"
  },
  {
   "cell_type": "markdown",
   "source": [
    "Now we're adding a \"death_percentage\" column to the DataFrame."
   ],
   "metadata": {
    "collapsed": false
   },
   "id": "d5fc69983ef6245c"
  },
  {
   "cell_type": "code",
   "execution_count": 23,
   "outputs": [],
   "source": [
    "totals_per_region[\"death_percentage\"] = (totals_per_region[\"Totalt_antal_avlidna\"] / \n",
    "                                         totals_per_region[\"Totalt_antal_fall\"]) * 100"
   ],
   "metadata": {
    "collapsed": false,
    "ExecuteTime": {
     "end_time": "2023-11-14T12:03:58.770656700Z",
     "start_time": "2023-11-14T12:03:58.738909900Z"
    }
   },
   "id": "ec248310cc703cf5"
  },
  {
   "cell_type": "code",
   "execution_count": 24,
   "outputs": [
    {
     "data": {
      "text/plain": "                 Region  Totalt_antal_fall  Totalt_antal_avlidna  \\\n0              Blekinge              30829                   184   \n1               Dalarna              75091                   544   \n2               Gotland              11874                    82   \n3             Gävleborg              74803                   754   \n4               Halland             108822                   518   \n5   Jämtland Härjedalen              34347                   197   \n6             Jönköping              89662                   756   \n7                Kalmar              62810                   385   \n8             Kronoberg              51460                   410   \n9            Norrbotten              50755                   459   \n10                Skåne             346727                  2587   \n11            Stockholm             606611                  5626   \n12             Sörmland              67918                   662   \n13              Uppsala              93746                   722   \n14             Värmland              69277                   411   \n15         Västerbotten              60186                   393   \n16       Västernorrland              56224                   678   \n17          Västmanland              78438                   534   \n18      Västra Götaland             444278                  3342   \n19               Örebro              98929                   525   \n20         Östergötland              98793                   890   \n\n    death_percentage  \n0           0.596841  \n1           0.724454  \n2           0.690584  \n3           1.007981  \n4           0.476007  \n5           0.573558  \n6           0.843167  \n7           0.612960  \n8           0.796735  \n9           0.904344  \n10          0.746120  \n11          0.927448  \n12          0.974705  \n13          0.770166  \n14          0.593270  \n15          0.652976  \n16          1.205891  \n17          0.680792  \n18          0.752232  \n19          0.530684  \n20          0.900874  ",
      "text/html": "<div>\n<style scoped>\n    .dataframe tbody tr th:only-of-type {\n        vertical-align: middle;\n    }\n\n    .dataframe tbody tr th {\n        vertical-align: top;\n    }\n\n    .dataframe thead th {\n        text-align: right;\n    }\n</style>\n<table border=\"1\" class=\"dataframe\">\n  <thead>\n    <tr style=\"text-align: right;\">\n      <th></th>\n      <th>Region</th>\n      <th>Totalt_antal_fall</th>\n      <th>Totalt_antal_avlidna</th>\n      <th>death_percentage</th>\n    </tr>\n  </thead>\n  <tbody>\n    <tr>\n      <th>0</th>\n      <td>Blekinge</td>\n      <td>30829</td>\n      <td>184</td>\n      <td>0.596841</td>\n    </tr>\n    <tr>\n      <th>1</th>\n      <td>Dalarna</td>\n      <td>75091</td>\n      <td>544</td>\n      <td>0.724454</td>\n    </tr>\n    <tr>\n      <th>2</th>\n      <td>Gotland</td>\n      <td>11874</td>\n      <td>82</td>\n      <td>0.690584</td>\n    </tr>\n    <tr>\n      <th>3</th>\n      <td>Gävleborg</td>\n      <td>74803</td>\n      <td>754</td>\n      <td>1.007981</td>\n    </tr>\n    <tr>\n      <th>4</th>\n      <td>Halland</td>\n      <td>108822</td>\n      <td>518</td>\n      <td>0.476007</td>\n    </tr>\n    <tr>\n      <th>5</th>\n      <td>Jämtland Härjedalen</td>\n      <td>34347</td>\n      <td>197</td>\n      <td>0.573558</td>\n    </tr>\n    <tr>\n      <th>6</th>\n      <td>Jönköping</td>\n      <td>89662</td>\n      <td>756</td>\n      <td>0.843167</td>\n    </tr>\n    <tr>\n      <th>7</th>\n      <td>Kalmar</td>\n      <td>62810</td>\n      <td>385</td>\n      <td>0.612960</td>\n    </tr>\n    <tr>\n      <th>8</th>\n      <td>Kronoberg</td>\n      <td>51460</td>\n      <td>410</td>\n      <td>0.796735</td>\n    </tr>\n    <tr>\n      <th>9</th>\n      <td>Norrbotten</td>\n      <td>50755</td>\n      <td>459</td>\n      <td>0.904344</td>\n    </tr>\n    <tr>\n      <th>10</th>\n      <td>Skåne</td>\n      <td>346727</td>\n      <td>2587</td>\n      <td>0.746120</td>\n    </tr>\n    <tr>\n      <th>11</th>\n      <td>Stockholm</td>\n      <td>606611</td>\n      <td>5626</td>\n      <td>0.927448</td>\n    </tr>\n    <tr>\n      <th>12</th>\n      <td>Sörmland</td>\n      <td>67918</td>\n      <td>662</td>\n      <td>0.974705</td>\n    </tr>\n    <tr>\n      <th>13</th>\n      <td>Uppsala</td>\n      <td>93746</td>\n      <td>722</td>\n      <td>0.770166</td>\n    </tr>\n    <tr>\n      <th>14</th>\n      <td>Värmland</td>\n      <td>69277</td>\n      <td>411</td>\n      <td>0.593270</td>\n    </tr>\n    <tr>\n      <th>15</th>\n      <td>Västerbotten</td>\n      <td>60186</td>\n      <td>393</td>\n      <td>0.652976</td>\n    </tr>\n    <tr>\n      <th>16</th>\n      <td>Västernorrland</td>\n      <td>56224</td>\n      <td>678</td>\n      <td>1.205891</td>\n    </tr>\n    <tr>\n      <th>17</th>\n      <td>Västmanland</td>\n      <td>78438</td>\n      <td>534</td>\n      <td>0.680792</td>\n    </tr>\n    <tr>\n      <th>18</th>\n      <td>Västra Götaland</td>\n      <td>444278</td>\n      <td>3342</td>\n      <td>0.752232</td>\n    </tr>\n    <tr>\n      <th>19</th>\n      <td>Örebro</td>\n      <td>98929</td>\n      <td>525</td>\n      <td>0.530684</td>\n    </tr>\n    <tr>\n      <th>20</th>\n      <td>Östergötland</td>\n      <td>98793</td>\n      <td>890</td>\n      <td>0.900874</td>\n    </tr>\n  </tbody>\n</table>\n</div>"
     },
     "execution_count": 24,
     "metadata": {},
     "output_type": "execute_result"
    }
   ],
   "source": [
    "totals_per_region"
   ],
   "metadata": {
    "collapsed": false,
    "ExecuteTime": {
     "end_time": "2023-11-14T12:03:59.492773Z",
     "start_time": "2023-11-14T12:03:59.470164900Z"
    }
   },
   "id": "b90fba644df0bd42"
  },
  {
   "cell_type": "markdown",
   "source": [
    "It's interesting that the amount of deaths does not seem to follow the amount of total cases. At the bottom we have Halland with over 100k cases but a death percentage under 0.5%, meanwhile Västernorrland with a bit over half the cases of Halland has a death percentage over 1.2%.\n",
    "\n",
    "Out of the big three, Stockholm seems to stand out with a death percentage at over 0.9%, while Västra Götaland and Skåne are pretty close together, both at around 0.75%."
   ],
   "metadata": {
    "collapsed": false
   },
   "id": "677edc1e266433f0"
  },
  {
   "cell_type": "code",
   "execution_count": 33,
   "outputs": [
    {
     "data": {
      "application/vnd.plotly.v1+json": {
       "data": [
        {
         "alignmentgroup": "True",
         "hovertemplate": "Region=%{x}<br>Death Percentage=%{y}<extra></extra>",
         "legendgroup": "",
         "marker": {
          "color": "#636efa",
          "pattern": {
           "shape": ""
          }
         },
         "name": "",
         "offsetgroup": "",
         "orientation": "v",
         "showlegend": false,
         "textposition": "auto",
         "x": [
          "Blekinge",
          "Dalarna",
          "Gotland",
          "Gävleborg",
          "Halland",
          "Jämtland Härjedalen",
          "Jönköping",
          "Kalmar",
          "Kronoberg",
          "Norrbotten",
          "Skåne",
          "Stockholm",
          "Sörmland",
          "Uppsala",
          "Värmland",
          "Västerbotten",
          "Västernorrland",
          "Västmanland",
          "Västra Götaland",
          "Örebro",
          "Östergötland"
         ],
         "xaxis": "x",
         "y": [
          0.5968406370625061,
          0.724454328747786,
          0.6905844702711808,
          1.0079809633303478,
          0.4760066898237489,
          0.5735580982327423,
          0.8431665588543642,
          0.6129597197898424,
          0.7967353284104158,
          0.9043443995665451,
          0.746120146397598,
          0.9274477383364298,
          0.9747047910715864,
          0.7701661937576003,
          0.593270493814686,
          0.6529757750971986,
          1.2058907228229938,
          0.6807924730360284,
          0.7522317107756855,
          0.530683621587199,
          0.9008735436721226
         ],
         "yaxis": "y",
         "type": "bar"
        }
       ],
       "layout": {
        "template": {
         "data": {
          "histogram2dcontour": [
           {
            "type": "histogram2dcontour",
            "colorbar": {
             "outlinewidth": 0,
             "ticks": ""
            },
            "colorscale": [
             [
              0.0,
              "#0d0887"
             ],
             [
              0.1111111111111111,
              "#46039f"
             ],
             [
              0.2222222222222222,
              "#7201a8"
             ],
             [
              0.3333333333333333,
              "#9c179e"
             ],
             [
              0.4444444444444444,
              "#bd3786"
             ],
             [
              0.5555555555555556,
              "#d8576b"
             ],
             [
              0.6666666666666666,
              "#ed7953"
             ],
             [
              0.7777777777777778,
              "#fb9f3a"
             ],
             [
              0.8888888888888888,
              "#fdca26"
             ],
             [
              1.0,
              "#f0f921"
             ]
            ]
           }
          ],
          "choropleth": [
           {
            "type": "choropleth",
            "colorbar": {
             "outlinewidth": 0,
             "ticks": ""
            }
           }
          ],
          "histogram2d": [
           {
            "type": "histogram2d",
            "colorbar": {
             "outlinewidth": 0,
             "ticks": ""
            },
            "colorscale": [
             [
              0.0,
              "#0d0887"
             ],
             [
              0.1111111111111111,
              "#46039f"
             ],
             [
              0.2222222222222222,
              "#7201a8"
             ],
             [
              0.3333333333333333,
              "#9c179e"
             ],
             [
              0.4444444444444444,
              "#bd3786"
             ],
             [
              0.5555555555555556,
              "#d8576b"
             ],
             [
              0.6666666666666666,
              "#ed7953"
             ],
             [
              0.7777777777777778,
              "#fb9f3a"
             ],
             [
              0.8888888888888888,
              "#fdca26"
             ],
             [
              1.0,
              "#f0f921"
             ]
            ]
           }
          ],
          "heatmap": [
           {
            "type": "heatmap",
            "colorbar": {
             "outlinewidth": 0,
             "ticks": ""
            },
            "colorscale": [
             [
              0.0,
              "#0d0887"
             ],
             [
              0.1111111111111111,
              "#46039f"
             ],
             [
              0.2222222222222222,
              "#7201a8"
             ],
             [
              0.3333333333333333,
              "#9c179e"
             ],
             [
              0.4444444444444444,
              "#bd3786"
             ],
             [
              0.5555555555555556,
              "#d8576b"
             ],
             [
              0.6666666666666666,
              "#ed7953"
             ],
             [
              0.7777777777777778,
              "#fb9f3a"
             ],
             [
              0.8888888888888888,
              "#fdca26"
             ],
             [
              1.0,
              "#f0f921"
             ]
            ]
           }
          ],
          "heatmapgl": [
           {
            "type": "heatmapgl",
            "colorbar": {
             "outlinewidth": 0,
             "ticks": ""
            },
            "colorscale": [
             [
              0.0,
              "#0d0887"
             ],
             [
              0.1111111111111111,
              "#46039f"
             ],
             [
              0.2222222222222222,
              "#7201a8"
             ],
             [
              0.3333333333333333,
              "#9c179e"
             ],
             [
              0.4444444444444444,
              "#bd3786"
             ],
             [
              0.5555555555555556,
              "#d8576b"
             ],
             [
              0.6666666666666666,
              "#ed7953"
             ],
             [
              0.7777777777777778,
              "#fb9f3a"
             ],
             [
              0.8888888888888888,
              "#fdca26"
             ],
             [
              1.0,
              "#f0f921"
             ]
            ]
           }
          ],
          "contourcarpet": [
           {
            "type": "contourcarpet",
            "colorbar": {
             "outlinewidth": 0,
             "ticks": ""
            }
           }
          ],
          "contour": [
           {
            "type": "contour",
            "colorbar": {
             "outlinewidth": 0,
             "ticks": ""
            },
            "colorscale": [
             [
              0.0,
              "#0d0887"
             ],
             [
              0.1111111111111111,
              "#46039f"
             ],
             [
              0.2222222222222222,
              "#7201a8"
             ],
             [
              0.3333333333333333,
              "#9c179e"
             ],
             [
              0.4444444444444444,
              "#bd3786"
             ],
             [
              0.5555555555555556,
              "#d8576b"
             ],
             [
              0.6666666666666666,
              "#ed7953"
             ],
             [
              0.7777777777777778,
              "#fb9f3a"
             ],
             [
              0.8888888888888888,
              "#fdca26"
             ],
             [
              1.0,
              "#f0f921"
             ]
            ]
           }
          ],
          "surface": [
           {
            "type": "surface",
            "colorbar": {
             "outlinewidth": 0,
             "ticks": ""
            },
            "colorscale": [
             [
              0.0,
              "#0d0887"
             ],
             [
              0.1111111111111111,
              "#46039f"
             ],
             [
              0.2222222222222222,
              "#7201a8"
             ],
             [
              0.3333333333333333,
              "#9c179e"
             ],
             [
              0.4444444444444444,
              "#bd3786"
             ],
             [
              0.5555555555555556,
              "#d8576b"
             ],
             [
              0.6666666666666666,
              "#ed7953"
             ],
             [
              0.7777777777777778,
              "#fb9f3a"
             ],
             [
              0.8888888888888888,
              "#fdca26"
             ],
             [
              1.0,
              "#f0f921"
             ]
            ]
           }
          ],
          "mesh3d": [
           {
            "type": "mesh3d",
            "colorbar": {
             "outlinewidth": 0,
             "ticks": ""
            }
           }
          ],
          "scatter": [
           {
            "marker": {
             "line": {
              "color": "#283442"
             }
            },
            "type": "scatter"
           }
          ],
          "parcoords": [
           {
            "type": "parcoords",
            "line": {
             "colorbar": {
              "outlinewidth": 0,
              "ticks": ""
             }
            }
           }
          ],
          "scatterpolargl": [
           {
            "type": "scatterpolargl",
            "marker": {
             "colorbar": {
              "outlinewidth": 0,
              "ticks": ""
             }
            }
           }
          ],
          "bar": [
           {
            "error_x": {
             "color": "#f2f5fa"
            },
            "error_y": {
             "color": "#f2f5fa"
            },
            "marker": {
             "line": {
              "color": "rgb(17,17,17)",
              "width": 0.5
             },
             "pattern": {
              "fillmode": "overlay",
              "size": 10,
              "solidity": 0.2
             }
            },
            "type": "bar"
           }
          ],
          "scattergeo": [
           {
            "type": "scattergeo",
            "marker": {
             "colorbar": {
              "outlinewidth": 0,
              "ticks": ""
             }
            }
           }
          ],
          "scatterpolar": [
           {
            "type": "scatterpolar",
            "marker": {
             "colorbar": {
              "outlinewidth": 0,
              "ticks": ""
             }
            }
           }
          ],
          "histogram": [
           {
            "marker": {
             "pattern": {
              "fillmode": "overlay",
              "size": 10,
              "solidity": 0.2
             }
            },
            "type": "histogram"
           }
          ],
          "scattergl": [
           {
            "marker": {
             "line": {
              "color": "#283442"
             }
            },
            "type": "scattergl"
           }
          ],
          "scatter3d": [
           {
            "type": "scatter3d",
            "line": {
             "colorbar": {
              "outlinewidth": 0,
              "ticks": ""
             }
            },
            "marker": {
             "colorbar": {
              "outlinewidth": 0,
              "ticks": ""
             }
            }
           }
          ],
          "scattermapbox": [
           {
            "type": "scattermapbox",
            "marker": {
             "colorbar": {
              "outlinewidth": 0,
              "ticks": ""
             }
            }
           }
          ],
          "scatterternary": [
           {
            "type": "scatterternary",
            "marker": {
             "colorbar": {
              "outlinewidth": 0,
              "ticks": ""
             }
            }
           }
          ],
          "scattercarpet": [
           {
            "type": "scattercarpet",
            "marker": {
             "colorbar": {
              "outlinewidth": 0,
              "ticks": ""
             }
            }
           }
          ],
          "carpet": [
           {
            "aaxis": {
             "endlinecolor": "#A2B1C6",
             "gridcolor": "#506784",
             "linecolor": "#506784",
             "minorgridcolor": "#506784",
             "startlinecolor": "#A2B1C6"
            },
            "baxis": {
             "endlinecolor": "#A2B1C6",
             "gridcolor": "#506784",
             "linecolor": "#506784",
             "minorgridcolor": "#506784",
             "startlinecolor": "#A2B1C6"
            },
            "type": "carpet"
           }
          ],
          "table": [
           {
            "cells": {
             "fill": {
              "color": "#506784"
             },
             "line": {
              "color": "rgb(17,17,17)"
             }
            },
            "header": {
             "fill": {
              "color": "#2a3f5f"
             },
             "line": {
              "color": "rgb(17,17,17)"
             }
            },
            "type": "table"
           }
          ],
          "barpolar": [
           {
            "marker": {
             "line": {
              "color": "rgb(17,17,17)",
              "width": 0.5
             },
             "pattern": {
              "fillmode": "overlay",
              "size": 10,
              "solidity": 0.2
             }
            },
            "type": "barpolar"
           }
          ],
          "pie": [
           {
            "automargin": true,
            "type": "pie"
           }
          ]
         },
         "layout": {
          "autotypenumbers": "strict",
          "colorway": [
           "#636efa",
           "#EF553B",
           "#00cc96",
           "#ab63fa",
           "#FFA15A",
           "#19d3f3",
           "#FF6692",
           "#B6E880",
           "#FF97FF",
           "#FECB52"
          ],
          "font": {
           "color": "#f2f5fa"
          },
          "hovermode": "closest",
          "hoverlabel": {
           "align": "left"
          },
          "paper_bgcolor": "rgb(17,17,17)",
          "plot_bgcolor": "rgb(17,17,17)",
          "polar": {
           "bgcolor": "rgb(17,17,17)",
           "angularaxis": {
            "gridcolor": "#506784",
            "linecolor": "#506784",
            "ticks": ""
           },
           "radialaxis": {
            "gridcolor": "#506784",
            "linecolor": "#506784",
            "ticks": ""
           }
          },
          "ternary": {
           "bgcolor": "rgb(17,17,17)",
           "aaxis": {
            "gridcolor": "#506784",
            "linecolor": "#506784",
            "ticks": ""
           },
           "baxis": {
            "gridcolor": "#506784",
            "linecolor": "#506784",
            "ticks": ""
           },
           "caxis": {
            "gridcolor": "#506784",
            "linecolor": "#506784",
            "ticks": ""
           }
          },
          "coloraxis": {
           "colorbar": {
            "outlinewidth": 0,
            "ticks": ""
           }
          },
          "colorscale": {
           "sequential": [
            [
             0.0,
             "#0d0887"
            ],
            [
             0.1111111111111111,
             "#46039f"
            ],
            [
             0.2222222222222222,
             "#7201a8"
            ],
            [
             0.3333333333333333,
             "#9c179e"
            ],
            [
             0.4444444444444444,
             "#bd3786"
            ],
            [
             0.5555555555555556,
             "#d8576b"
            ],
            [
             0.6666666666666666,
             "#ed7953"
            ],
            [
             0.7777777777777778,
             "#fb9f3a"
            ],
            [
             0.8888888888888888,
             "#fdca26"
            ],
            [
             1.0,
             "#f0f921"
            ]
           ],
           "sequentialminus": [
            [
             0.0,
             "#0d0887"
            ],
            [
             0.1111111111111111,
             "#46039f"
            ],
            [
             0.2222222222222222,
             "#7201a8"
            ],
            [
             0.3333333333333333,
             "#9c179e"
            ],
            [
             0.4444444444444444,
             "#bd3786"
            ],
            [
             0.5555555555555556,
             "#d8576b"
            ],
            [
             0.6666666666666666,
             "#ed7953"
            ],
            [
             0.7777777777777778,
             "#fb9f3a"
            ],
            [
             0.8888888888888888,
             "#fdca26"
            ],
            [
             1.0,
             "#f0f921"
            ]
           ],
           "diverging": [
            [
             0,
             "#8e0152"
            ],
            [
             0.1,
             "#c51b7d"
            ],
            [
             0.2,
             "#de77ae"
            ],
            [
             0.3,
             "#f1b6da"
            ],
            [
             0.4,
             "#fde0ef"
            ],
            [
             0.5,
             "#f7f7f7"
            ],
            [
             0.6,
             "#e6f5d0"
            ],
            [
             0.7,
             "#b8e186"
            ],
            [
             0.8,
             "#7fbc41"
            ],
            [
             0.9,
             "#4d9221"
            ],
            [
             1,
             "#276419"
            ]
           ]
          },
          "xaxis": {
           "gridcolor": "#283442",
           "linecolor": "#506784",
           "ticks": "",
           "title": {
            "standoff": 15
           },
           "zerolinecolor": "#283442",
           "automargin": true,
           "zerolinewidth": 2
          },
          "yaxis": {
           "gridcolor": "#283442",
           "linecolor": "#506784",
           "ticks": "",
           "title": {
            "standoff": 15
           },
           "zerolinecolor": "#283442",
           "automargin": true,
           "zerolinewidth": 2
          },
          "scene": {
           "xaxis": {
            "backgroundcolor": "rgb(17,17,17)",
            "gridcolor": "#506784",
            "linecolor": "#506784",
            "showbackground": true,
            "ticks": "",
            "zerolinecolor": "#C8D4E3",
            "gridwidth": 2
           },
           "yaxis": {
            "backgroundcolor": "rgb(17,17,17)",
            "gridcolor": "#506784",
            "linecolor": "#506784",
            "showbackground": true,
            "ticks": "",
            "zerolinecolor": "#C8D4E3",
            "gridwidth": 2
           },
           "zaxis": {
            "backgroundcolor": "rgb(17,17,17)",
            "gridcolor": "#506784",
            "linecolor": "#506784",
            "showbackground": true,
            "ticks": "",
            "zerolinecolor": "#C8D4E3",
            "gridwidth": 2
           }
          },
          "shapedefaults": {
           "line": {
            "color": "#f2f5fa"
           }
          },
          "annotationdefaults": {
           "arrowcolor": "#f2f5fa",
           "arrowhead": 0,
           "arrowwidth": 1
          },
          "geo": {
           "bgcolor": "rgb(17,17,17)",
           "landcolor": "rgb(17,17,17)",
           "subunitcolor": "#506784",
           "showland": true,
           "showlakes": true,
           "lakecolor": "rgb(17,17,17)"
          },
          "title": {
           "x": 0.05
          },
          "updatemenudefaults": {
           "bgcolor": "#506784",
           "borderwidth": 0
          },
          "sliderdefaults": {
           "bgcolor": "#C8D4E3",
           "borderwidth": 1,
           "bordercolor": "rgb(17,17,17)",
           "tickwidth": 0
          },
          "mapbox": {
           "style": "dark"
          }
         }
        },
        "xaxis": {
         "anchor": "y",
         "domain": [
          0.0,
          1.0
         ],
         "title": {
          "text": "Region"
         },
         "categoryorder": "array",
         "categoryarray": [
          "Västernorrland",
          "Gävleborg",
          "Sörmland",
          "Stockholm",
          "Norrbotten",
          "Östergötland",
          "Jönköping",
          "Kronoberg",
          "Uppsala",
          "Västra Götaland",
          "Skåne",
          "Dalarna",
          "Gotland",
          "Västmanland",
          "Västerbotten",
          "Kalmar",
          "Blekinge",
          "Värmland",
          "Jämtland Härjedalen",
          "Örebro",
          "Halland"
         ]
        },
        "yaxis": {
         "anchor": "x",
         "domain": [
          0.0,
          1.0
         ],
         "title": {
          "text": "Death Percentage"
         }
        },
        "legend": {
         "tracegroupgap": 0
        },
        "title": {
         "text": "Percentage of deaths from covid-cases per region"
        },
        "barmode": "relative"
       },
       "config": {
        "plotlyServerURL": "https://plot.ly"
       }
      },
      "text/html": "<div>                            <div id=\"2302ae59-ee67-425c-860f-c51d7a7110a4\" class=\"plotly-graph-div\" style=\"height:525px; width:100%;\"></div>            <script type=\"text/javascript\">                require([\"plotly\"], function(Plotly) {                    window.PLOTLYENV=window.PLOTLYENV || {};                                    if (document.getElementById(\"2302ae59-ee67-425c-860f-c51d7a7110a4\")) {                    Plotly.newPlot(                        \"2302ae59-ee67-425c-860f-c51d7a7110a4\",                        [{\"alignmentgroup\":\"True\",\"hovertemplate\":\"Region=%{x}\\u003cbr\\u003eDeath Percentage=%{y}\\u003cextra\\u003e\\u003c\\u002fextra\\u003e\",\"legendgroup\":\"\",\"marker\":{\"color\":\"#636efa\",\"pattern\":{\"shape\":\"\"}},\"name\":\"\",\"offsetgroup\":\"\",\"orientation\":\"v\",\"showlegend\":false,\"textposition\":\"auto\",\"x\":[\"Blekinge\",\"Dalarna\",\"Gotland\",\"G\\u00e4vleborg\",\"Halland\",\"J\\u00e4mtland H\\u00e4rjedalen\",\"J\\u00f6nk\\u00f6ping\",\"Kalmar\",\"Kronoberg\",\"Norrbotten\",\"Sk\\u00e5ne\",\"Stockholm\",\"S\\u00f6rmland\",\"Uppsala\",\"V\\u00e4rmland\",\"V\\u00e4sterbotten\",\"V\\u00e4sternorrland\",\"V\\u00e4stmanland\",\"V\\u00e4stra G\\u00f6taland\",\"\\u00d6rebro\",\"\\u00d6sterg\\u00f6tland\"],\"xaxis\":\"x\",\"y\":[0.5968406370625061,0.724454328747786,0.6905844702711808,1.0079809633303478,0.4760066898237489,0.5735580982327423,0.8431665588543642,0.6129597197898424,0.7967353284104158,0.9043443995665451,0.746120146397598,0.9274477383364298,0.9747047910715864,0.7701661937576003,0.593270493814686,0.6529757750971986,1.2058907228229938,0.6807924730360284,0.7522317107756855,0.530683621587199,0.9008735436721226],\"yaxis\":\"y\",\"type\":\"bar\"}],                        {\"template\":{\"data\":{\"histogram2dcontour\":[{\"type\":\"histogram2dcontour\",\"colorbar\":{\"outlinewidth\":0,\"ticks\":\"\"},\"colorscale\":[[0.0,\"#0d0887\"],[0.1111111111111111,\"#46039f\"],[0.2222222222222222,\"#7201a8\"],[0.3333333333333333,\"#9c179e\"],[0.4444444444444444,\"#bd3786\"],[0.5555555555555556,\"#d8576b\"],[0.6666666666666666,\"#ed7953\"],[0.7777777777777778,\"#fb9f3a\"],[0.8888888888888888,\"#fdca26\"],[1.0,\"#f0f921\"]]}],\"choropleth\":[{\"type\":\"choropleth\",\"colorbar\":{\"outlinewidth\":0,\"ticks\":\"\"}}],\"histogram2d\":[{\"type\":\"histogram2d\",\"colorbar\":{\"outlinewidth\":0,\"ticks\":\"\"},\"colorscale\":[[0.0,\"#0d0887\"],[0.1111111111111111,\"#46039f\"],[0.2222222222222222,\"#7201a8\"],[0.3333333333333333,\"#9c179e\"],[0.4444444444444444,\"#bd3786\"],[0.5555555555555556,\"#d8576b\"],[0.6666666666666666,\"#ed7953\"],[0.7777777777777778,\"#fb9f3a\"],[0.8888888888888888,\"#fdca26\"],[1.0,\"#f0f921\"]]}],\"heatmap\":[{\"type\":\"heatmap\",\"colorbar\":{\"outlinewidth\":0,\"ticks\":\"\"},\"colorscale\":[[0.0,\"#0d0887\"],[0.1111111111111111,\"#46039f\"],[0.2222222222222222,\"#7201a8\"],[0.3333333333333333,\"#9c179e\"],[0.4444444444444444,\"#bd3786\"],[0.5555555555555556,\"#d8576b\"],[0.6666666666666666,\"#ed7953\"],[0.7777777777777778,\"#fb9f3a\"],[0.8888888888888888,\"#fdca26\"],[1.0,\"#f0f921\"]]}],\"heatmapgl\":[{\"type\":\"heatmapgl\",\"colorbar\":{\"outlinewidth\":0,\"ticks\":\"\"},\"colorscale\":[[0.0,\"#0d0887\"],[0.1111111111111111,\"#46039f\"],[0.2222222222222222,\"#7201a8\"],[0.3333333333333333,\"#9c179e\"],[0.4444444444444444,\"#bd3786\"],[0.5555555555555556,\"#d8576b\"],[0.6666666666666666,\"#ed7953\"],[0.7777777777777778,\"#fb9f3a\"],[0.8888888888888888,\"#fdca26\"],[1.0,\"#f0f921\"]]}],\"contourcarpet\":[{\"type\":\"contourcarpet\",\"colorbar\":{\"outlinewidth\":0,\"ticks\":\"\"}}],\"contour\":[{\"type\":\"contour\",\"colorbar\":{\"outlinewidth\":0,\"ticks\":\"\"},\"colorscale\":[[0.0,\"#0d0887\"],[0.1111111111111111,\"#46039f\"],[0.2222222222222222,\"#7201a8\"],[0.3333333333333333,\"#9c179e\"],[0.4444444444444444,\"#bd3786\"],[0.5555555555555556,\"#d8576b\"],[0.6666666666666666,\"#ed7953\"],[0.7777777777777778,\"#fb9f3a\"],[0.8888888888888888,\"#fdca26\"],[1.0,\"#f0f921\"]]}],\"surface\":[{\"type\":\"surface\",\"colorbar\":{\"outlinewidth\":0,\"ticks\":\"\"},\"colorscale\":[[0.0,\"#0d0887\"],[0.1111111111111111,\"#46039f\"],[0.2222222222222222,\"#7201a8\"],[0.3333333333333333,\"#9c179e\"],[0.4444444444444444,\"#bd3786\"],[0.5555555555555556,\"#d8576b\"],[0.6666666666666666,\"#ed7953\"],[0.7777777777777778,\"#fb9f3a\"],[0.8888888888888888,\"#fdca26\"],[1.0,\"#f0f921\"]]}],\"mesh3d\":[{\"type\":\"mesh3d\",\"colorbar\":{\"outlinewidth\":0,\"ticks\":\"\"}}],\"scatter\":[{\"marker\":{\"line\":{\"color\":\"#283442\"}},\"type\":\"scatter\"}],\"parcoords\":[{\"type\":\"parcoords\",\"line\":{\"colorbar\":{\"outlinewidth\":0,\"ticks\":\"\"}}}],\"scatterpolargl\":[{\"type\":\"scatterpolargl\",\"marker\":{\"colorbar\":{\"outlinewidth\":0,\"ticks\":\"\"}}}],\"bar\":[{\"error_x\":{\"color\":\"#f2f5fa\"},\"error_y\":{\"color\":\"#f2f5fa\"},\"marker\":{\"line\":{\"color\":\"rgb(17,17,17)\",\"width\":0.5},\"pattern\":{\"fillmode\":\"overlay\",\"size\":10,\"solidity\":0.2}},\"type\":\"bar\"}],\"scattergeo\":[{\"type\":\"scattergeo\",\"marker\":{\"colorbar\":{\"outlinewidth\":0,\"ticks\":\"\"}}}],\"scatterpolar\":[{\"type\":\"scatterpolar\",\"marker\":{\"colorbar\":{\"outlinewidth\":0,\"ticks\":\"\"}}}],\"histogram\":[{\"marker\":{\"pattern\":{\"fillmode\":\"overlay\",\"size\":10,\"solidity\":0.2}},\"type\":\"histogram\"}],\"scattergl\":[{\"marker\":{\"line\":{\"color\":\"#283442\"}},\"type\":\"scattergl\"}],\"scatter3d\":[{\"type\":\"scatter3d\",\"line\":{\"colorbar\":{\"outlinewidth\":0,\"ticks\":\"\"}},\"marker\":{\"colorbar\":{\"outlinewidth\":0,\"ticks\":\"\"}}}],\"scattermapbox\":[{\"type\":\"scattermapbox\",\"marker\":{\"colorbar\":{\"outlinewidth\":0,\"ticks\":\"\"}}}],\"scatterternary\":[{\"type\":\"scatterternary\",\"marker\":{\"colorbar\":{\"outlinewidth\":0,\"ticks\":\"\"}}}],\"scattercarpet\":[{\"type\":\"scattercarpet\",\"marker\":{\"colorbar\":{\"outlinewidth\":0,\"ticks\":\"\"}}}],\"carpet\":[{\"aaxis\":{\"endlinecolor\":\"#A2B1C6\",\"gridcolor\":\"#506784\",\"linecolor\":\"#506784\",\"minorgridcolor\":\"#506784\",\"startlinecolor\":\"#A2B1C6\"},\"baxis\":{\"endlinecolor\":\"#A2B1C6\",\"gridcolor\":\"#506784\",\"linecolor\":\"#506784\",\"minorgridcolor\":\"#506784\",\"startlinecolor\":\"#A2B1C6\"},\"type\":\"carpet\"}],\"table\":[{\"cells\":{\"fill\":{\"color\":\"#506784\"},\"line\":{\"color\":\"rgb(17,17,17)\"}},\"header\":{\"fill\":{\"color\":\"#2a3f5f\"},\"line\":{\"color\":\"rgb(17,17,17)\"}},\"type\":\"table\"}],\"barpolar\":[{\"marker\":{\"line\":{\"color\":\"rgb(17,17,17)\",\"width\":0.5},\"pattern\":{\"fillmode\":\"overlay\",\"size\":10,\"solidity\":0.2}},\"type\":\"barpolar\"}],\"pie\":[{\"automargin\":true,\"type\":\"pie\"}]},\"layout\":{\"autotypenumbers\":\"strict\",\"colorway\":[\"#636efa\",\"#EF553B\",\"#00cc96\",\"#ab63fa\",\"#FFA15A\",\"#19d3f3\",\"#FF6692\",\"#B6E880\",\"#FF97FF\",\"#FECB52\"],\"font\":{\"color\":\"#f2f5fa\"},\"hovermode\":\"closest\",\"hoverlabel\":{\"align\":\"left\"},\"paper_bgcolor\":\"rgb(17,17,17)\",\"plot_bgcolor\":\"rgb(17,17,17)\",\"polar\":{\"bgcolor\":\"rgb(17,17,17)\",\"angularaxis\":{\"gridcolor\":\"#506784\",\"linecolor\":\"#506784\",\"ticks\":\"\"},\"radialaxis\":{\"gridcolor\":\"#506784\",\"linecolor\":\"#506784\",\"ticks\":\"\"}},\"ternary\":{\"bgcolor\":\"rgb(17,17,17)\",\"aaxis\":{\"gridcolor\":\"#506784\",\"linecolor\":\"#506784\",\"ticks\":\"\"},\"baxis\":{\"gridcolor\":\"#506784\",\"linecolor\":\"#506784\",\"ticks\":\"\"},\"caxis\":{\"gridcolor\":\"#506784\",\"linecolor\":\"#506784\",\"ticks\":\"\"}},\"coloraxis\":{\"colorbar\":{\"outlinewidth\":0,\"ticks\":\"\"}},\"colorscale\":{\"sequential\":[[0.0,\"#0d0887\"],[0.1111111111111111,\"#46039f\"],[0.2222222222222222,\"#7201a8\"],[0.3333333333333333,\"#9c179e\"],[0.4444444444444444,\"#bd3786\"],[0.5555555555555556,\"#d8576b\"],[0.6666666666666666,\"#ed7953\"],[0.7777777777777778,\"#fb9f3a\"],[0.8888888888888888,\"#fdca26\"],[1.0,\"#f0f921\"]],\"sequentialminus\":[[0.0,\"#0d0887\"],[0.1111111111111111,\"#46039f\"],[0.2222222222222222,\"#7201a8\"],[0.3333333333333333,\"#9c179e\"],[0.4444444444444444,\"#bd3786\"],[0.5555555555555556,\"#d8576b\"],[0.6666666666666666,\"#ed7953\"],[0.7777777777777778,\"#fb9f3a\"],[0.8888888888888888,\"#fdca26\"],[1.0,\"#f0f921\"]],\"diverging\":[[0,\"#8e0152\"],[0.1,\"#c51b7d\"],[0.2,\"#de77ae\"],[0.3,\"#f1b6da\"],[0.4,\"#fde0ef\"],[0.5,\"#f7f7f7\"],[0.6,\"#e6f5d0\"],[0.7,\"#b8e186\"],[0.8,\"#7fbc41\"],[0.9,\"#4d9221\"],[1,\"#276419\"]]},\"xaxis\":{\"gridcolor\":\"#283442\",\"linecolor\":\"#506784\",\"ticks\":\"\",\"title\":{\"standoff\":15},\"zerolinecolor\":\"#283442\",\"automargin\":true,\"zerolinewidth\":2},\"yaxis\":{\"gridcolor\":\"#283442\",\"linecolor\":\"#506784\",\"ticks\":\"\",\"title\":{\"standoff\":15},\"zerolinecolor\":\"#283442\",\"automargin\":true,\"zerolinewidth\":2},\"scene\":{\"xaxis\":{\"backgroundcolor\":\"rgb(17,17,17)\",\"gridcolor\":\"#506784\",\"linecolor\":\"#506784\",\"showbackground\":true,\"ticks\":\"\",\"zerolinecolor\":\"#C8D4E3\",\"gridwidth\":2},\"yaxis\":{\"backgroundcolor\":\"rgb(17,17,17)\",\"gridcolor\":\"#506784\",\"linecolor\":\"#506784\",\"showbackground\":true,\"ticks\":\"\",\"zerolinecolor\":\"#C8D4E3\",\"gridwidth\":2},\"zaxis\":{\"backgroundcolor\":\"rgb(17,17,17)\",\"gridcolor\":\"#506784\",\"linecolor\":\"#506784\",\"showbackground\":true,\"ticks\":\"\",\"zerolinecolor\":\"#C8D4E3\",\"gridwidth\":2}},\"shapedefaults\":{\"line\":{\"color\":\"#f2f5fa\"}},\"annotationdefaults\":{\"arrowcolor\":\"#f2f5fa\",\"arrowhead\":0,\"arrowwidth\":1},\"geo\":{\"bgcolor\":\"rgb(17,17,17)\",\"landcolor\":\"rgb(17,17,17)\",\"subunitcolor\":\"#506784\",\"showland\":true,\"showlakes\":true,\"lakecolor\":\"rgb(17,17,17)\"},\"title\":{\"x\":0.05},\"updatemenudefaults\":{\"bgcolor\":\"#506784\",\"borderwidth\":0},\"sliderdefaults\":{\"bgcolor\":\"#C8D4E3\",\"borderwidth\":1,\"bordercolor\":\"rgb(17,17,17)\",\"tickwidth\":0},\"mapbox\":{\"style\":\"dark\"}}},\"xaxis\":{\"anchor\":\"y\",\"domain\":[0.0,1.0],\"title\":{\"text\":\"Region\"},\"categoryorder\":\"array\",\"categoryarray\":[\"V\\u00e4sternorrland\",\"G\\u00e4vleborg\",\"S\\u00f6rmland\",\"Stockholm\",\"Norrbotten\",\"\\u00d6sterg\\u00f6tland\",\"J\\u00f6nk\\u00f6ping\",\"Kronoberg\",\"Uppsala\",\"V\\u00e4stra G\\u00f6taland\",\"Sk\\u00e5ne\",\"Dalarna\",\"Gotland\",\"V\\u00e4stmanland\",\"V\\u00e4sterbotten\",\"Kalmar\",\"Blekinge\",\"V\\u00e4rmland\",\"J\\u00e4mtland H\\u00e4rjedalen\",\"\\u00d6rebro\",\"Halland\"]},\"yaxis\":{\"anchor\":\"x\",\"domain\":[0.0,1.0],\"title\":{\"text\":\"Death Percentage\"}},\"legend\":{\"tracegroupgap\":0},\"title\":{\"text\":\"Percentage of deaths from covid-cases per region\"},\"barmode\":\"relative\"},                        {\"responsive\": true}                    ).then(function(){\n                            \nvar gd = document.getElementById('2302ae59-ee67-425c-860f-c51d7a7110a4');\nvar x = new MutationObserver(function (mutations, observer) {{\n        var display = window.getComputedStyle(gd).display;\n        if (!display || display === 'none') {{\n            console.log([gd, 'removed!']);\n            Plotly.purge(gd);\n            observer.disconnect();\n        }}\n}});\n\n// Listen for the removal of the full notebook cells\nvar notebookContainer = gd.closest('#notebook-container');\nif (notebookContainer) {{\n    x.observe(notebookContainer, {childList: true});\n}}\n\n// Listen for the clearing of the current output cell\nvar outputEl = gd.closest('.output');\nif (outputEl) {{\n    x.observe(outputEl, {childList: true});\n}}\n\n                        })                };                });            </script>        </div>"
     },
     "metadata": {},
     "output_type": "display_data"
    }
   ],
   "source": [
    "death_percentage_region_bar = px.bar(totals_per_region,\n",
    "                                         x=\"Region\",\n",
    "                                         y=\"death_percentage\",\n",
    "                                         title=\"Percentage of deaths from covid-cases per region\",\n",
    "                                         labels={\"death_percentage\": \"Death Percentage\", \"Region\": \"Region\"},\n",
    "                                         category_orders={\"Region\": totals_per_region.sort_values(\"death_percentage\", ascending=False)[\"Region\"]}\n",
    "                                         )\n",
    "death_percentage_region_bar.show()\n",
    "death_percentage_region_bar.write_html(\"./Visualisations/Task_3_plotly_death_percentage_per_region.html\")"
   ],
   "metadata": {
    "collapsed": false,
    "ExecuteTime": {
     "end_time": "2023-11-14T12:38:21.773617300Z",
     "start_time": "2023-11-14T12:38:21.747180700Z"
    }
   },
   "id": "4c4032298b408cc7"
  },
  {
   "cell_type": "code",
   "execution_count": null,
   "outputs": [],
   "source": [],
   "metadata": {
    "collapsed": false
   },
   "id": "45e6111c04b2b5e6"
  }
 ],
 "metadata": {
  "kernelspec": {
   "display_name": "Python 3",
   "language": "python",
   "name": "python3"
  },
  "language_info": {
   "codemirror_mode": {
    "name": "ipython",
    "version": 2
   },
   "file_extension": ".py",
   "mimetype": "text/x-python",
   "name": "python",
   "nbconvert_exporter": "python",
   "pygments_lexer": "ipython2",
   "version": "2.7.6"
  }
 },
 "nbformat": 4,
 "nbformat_minor": 5
}
