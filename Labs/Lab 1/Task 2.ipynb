{
 "cells": [
  {
   "cell_type": "code",
   "execution_count": 1,
   "id": "initial_id",
   "metadata": {
    "collapsed": true,
    "ExecuteTime": {
     "end_time": "2023-11-14T05:27:34.779446900Z",
     "start_time": "2023-11-14T05:27:34.578370600Z"
    }
   },
   "outputs": [],
   "source": [
    "import plotly_express as px\n",
    "import pandas as pd"
   ]
  },
  {
   "cell_type": "markdown",
   "source": [
    "# Importing dataset from excel file"
   ],
   "metadata": {
    "collapsed": false
   },
   "id": "5500e931d6b01d2a"
  },
  {
   "cell_type": "code",
   "execution_count": 14,
   "outputs": [],
   "source": [
    "df_vaccine_data = pd.read_excel(\"./Data/folkhalsomyndigheten_Covid19_Vaccine.xlsx\", sheet_name= \"Vaccinerade kommun och ålder\")"
   ],
   "metadata": {
    "collapsed": false,
    "ExecuteTime": {
     "end_time": "2023-11-14T05:44:31.504059200Z",
     "start_time": "2023-11-14T05:44:30.703820300Z"
    }
   },
   "id": "af8ba3df16e537ef"
  },
  {
   "cell_type": "code",
   "execution_count": 15,
   "outputs": [
    {
     "name": "stdout",
     "output_type": "stream",
     "text": [
      "<class 'pandas.core.frame.DataFrame'>\n",
      "RangeIndex: 2900 entries, 0 to 2899\n",
      "Data columns (total 14 columns):\n",
      " #   Column               Non-Null Count  Dtype  \n",
      "---  ------               --------------  -----  \n",
      " 0   Län                  2900 non-null   int64  \n",
      " 1   Län_namn             2900 non-null   object \n",
      " 2   Kommun               2900 non-null   int64  \n",
      " 3   Kommun_namn          2900 non-null   object \n",
      " 4   Ålder                2900 non-null   object \n",
      " 5   Befolkning           2900 non-null   int64  \n",
      " 6   Antal minst 1 dos    2900 non-null   int64  \n",
      " 7   Antal minst 2 doser  2900 non-null   int64  \n",
      " 8   Antal 3 doser        2320 non-null   float64\n",
      " 9   Antal 4 doser        870 non-null    float64\n",
      " 10  Andel minst 1 dos    2900 non-null   float64\n",
      " 11  Andel minst 2 doser  2900 non-null   float64\n",
      " 12  Andel 3 doser        2320 non-null   float64\n",
      " 13  Andel 4 doser        870 non-null    float64\n",
      "dtypes: float64(6), int64(5), object(3)\n",
      "memory usage: 317.3+ KB\n"
     ]
    }
   ],
   "source": [
    "df_vaccine_data.info()"
   ],
   "metadata": {
    "collapsed": false,
    "ExecuteTime": {
     "end_time": "2023-11-14T05:44:32.106170900Z",
     "start_time": "2023-11-14T05:44:32.089966100Z"
    }
   },
   "id": "7682c95fa4df29e3"
  },
  {
   "cell_type": "code",
   "execution_count": 16,
   "outputs": [
    {
     "data": {
      "text/plain": "   Län        Län_namn  Kommun     Kommun_namn  Ålder  Befolkning  \\\n0    1  Stockholms län     114  Upplands Väsby  12-15        2422   \n1    1  Stockholms län     114  Upplands Väsby  16-17        1203   \n2    1  Stockholms län     114  Upplands Väsby  18-29        6692   \n3    1  Stockholms län     114  Upplands Väsby  30-39        7332   \n4    1  Stockholms län     114  Upplands Väsby  40-49        6946   \n5    1  Stockholms län     114  Upplands Väsby  50-59        6332   \n6    1  Stockholms län     114  Upplands Väsby  60-69        4258   \n\n   Antal minst 1 dos  Antal minst 2 doser  Antal 3 doser  Antal 4 doser  \\\n0               1206                 1046            NaN            NaN   \n1                839                  755            NaN            NaN   \n2               4887                 4469         1959.0            NaN   \n3               5542                 5240         2878.0            NaN   \n4               5592                 5429         3719.0            NaN   \n5               5644                 5558         4535.0            NaN   \n6               3829                 3786         3335.0            NaN   \n\n   Andel minst 1 dos  Andel minst 2 doser  Andel 3 doser  Andel 4 doser  \n0           0.497936             0.431874            NaN            NaN  \n1           0.697423             0.627598            NaN            NaN  \n2           0.730275             0.667812       0.292738            NaN  \n3           0.755865             0.714675       0.392526            NaN  \n4           0.805068             0.781601       0.535416            NaN  \n5           0.891346             0.877764       0.716203            NaN  \n6           0.899248             0.889150       0.783232            NaN  ",
      "text/html": "<div>\n<style scoped>\n    .dataframe tbody tr th:only-of-type {\n        vertical-align: middle;\n    }\n\n    .dataframe tbody tr th {\n        vertical-align: top;\n    }\n\n    .dataframe thead th {\n        text-align: right;\n    }\n</style>\n<table border=\"1\" class=\"dataframe\">\n  <thead>\n    <tr style=\"text-align: right;\">\n      <th></th>\n      <th>Län</th>\n      <th>Län_namn</th>\n      <th>Kommun</th>\n      <th>Kommun_namn</th>\n      <th>Ålder</th>\n      <th>Befolkning</th>\n      <th>Antal minst 1 dos</th>\n      <th>Antal minst 2 doser</th>\n      <th>Antal 3 doser</th>\n      <th>Antal 4 doser</th>\n      <th>Andel minst 1 dos</th>\n      <th>Andel minst 2 doser</th>\n      <th>Andel 3 doser</th>\n      <th>Andel 4 doser</th>\n    </tr>\n  </thead>\n  <tbody>\n    <tr>\n      <th>0</th>\n      <td>1</td>\n      <td>Stockholms län</td>\n      <td>114</td>\n      <td>Upplands Väsby</td>\n      <td>12-15</td>\n      <td>2422</td>\n      <td>1206</td>\n      <td>1046</td>\n      <td>NaN</td>\n      <td>NaN</td>\n      <td>0.497936</td>\n      <td>0.431874</td>\n      <td>NaN</td>\n      <td>NaN</td>\n    </tr>\n    <tr>\n      <th>1</th>\n      <td>1</td>\n      <td>Stockholms län</td>\n      <td>114</td>\n      <td>Upplands Väsby</td>\n      <td>16-17</td>\n      <td>1203</td>\n      <td>839</td>\n      <td>755</td>\n      <td>NaN</td>\n      <td>NaN</td>\n      <td>0.697423</td>\n      <td>0.627598</td>\n      <td>NaN</td>\n      <td>NaN</td>\n    </tr>\n    <tr>\n      <th>2</th>\n      <td>1</td>\n      <td>Stockholms län</td>\n      <td>114</td>\n      <td>Upplands Väsby</td>\n      <td>18-29</td>\n      <td>6692</td>\n      <td>4887</td>\n      <td>4469</td>\n      <td>1959.0</td>\n      <td>NaN</td>\n      <td>0.730275</td>\n      <td>0.667812</td>\n      <td>0.292738</td>\n      <td>NaN</td>\n    </tr>\n    <tr>\n      <th>3</th>\n      <td>1</td>\n      <td>Stockholms län</td>\n      <td>114</td>\n      <td>Upplands Väsby</td>\n      <td>30-39</td>\n      <td>7332</td>\n      <td>5542</td>\n      <td>5240</td>\n      <td>2878.0</td>\n      <td>NaN</td>\n      <td>0.755865</td>\n      <td>0.714675</td>\n      <td>0.392526</td>\n      <td>NaN</td>\n    </tr>\n    <tr>\n      <th>4</th>\n      <td>1</td>\n      <td>Stockholms län</td>\n      <td>114</td>\n      <td>Upplands Väsby</td>\n      <td>40-49</td>\n      <td>6946</td>\n      <td>5592</td>\n      <td>5429</td>\n      <td>3719.0</td>\n      <td>NaN</td>\n      <td>0.805068</td>\n      <td>0.781601</td>\n      <td>0.535416</td>\n      <td>NaN</td>\n    </tr>\n    <tr>\n      <th>5</th>\n      <td>1</td>\n      <td>Stockholms län</td>\n      <td>114</td>\n      <td>Upplands Väsby</td>\n      <td>50-59</td>\n      <td>6332</td>\n      <td>5644</td>\n      <td>5558</td>\n      <td>4535.0</td>\n      <td>NaN</td>\n      <td>0.891346</td>\n      <td>0.877764</td>\n      <td>0.716203</td>\n      <td>NaN</td>\n    </tr>\n    <tr>\n      <th>6</th>\n      <td>1</td>\n      <td>Stockholms län</td>\n      <td>114</td>\n      <td>Upplands Väsby</td>\n      <td>60-69</td>\n      <td>4258</td>\n      <td>3829</td>\n      <td>3786</td>\n      <td>3335.0</td>\n      <td>NaN</td>\n      <td>0.899248</td>\n      <td>0.889150</td>\n      <td>0.783232</td>\n      <td>NaN</td>\n    </tr>\n  </tbody>\n</table>\n</div>"
     },
     "execution_count": 16,
     "metadata": {},
     "output_type": "execute_result"
    }
   ],
   "source": [
    "df_vaccine_data.head(7)"
   ],
   "metadata": {
    "collapsed": false,
    "ExecuteTime": {
     "end_time": "2023-11-14T05:44:33.170169500Z",
     "start_time": "2023-11-14T05:44:33.156646600Z"
    }
   },
   "id": "fd3708f6279a7f00"
  },
  {
   "cell_type": "markdown",
   "source": [
    "### Task A\n",
    "Counties in the dataset"
   ],
   "metadata": {
    "collapsed": false
   },
   "id": "b84ba40c4adb4402"
  },
  {
   "cell_type": "code",
   "execution_count": 17,
   "outputs": [
    {
     "data": {
      "text/plain": "array(['Stockholms län', 'Uppsala län', 'Södermanlands län',\n       'Östergötlands län', 'Jönköpings län', 'Kronobergs län',\n       'Kalmar län', 'Gotlands län', 'Blekinge län', 'Skåne län',\n       'Hallands län', 'Västra Götalands län', 'Värmlands län',\n       'Örebro län', 'Västmanlands län', 'Dalarnas län', 'Gävleborgs län',\n       'Västernorrlands län', 'Jämtlands län', 'Västerbottens län',\n       'Norrbottens län'], dtype=object)"
     },
     "execution_count": 17,
     "metadata": {},
     "output_type": "execute_result"
    }
   ],
   "source": [
    "df_vaccine_data[\"Län_namn\"].unique()"
   ],
   "metadata": {
    "collapsed": false,
    "ExecuteTime": {
     "end_time": "2023-11-14T05:44:36.695451Z",
     "start_time": "2023-11-14T05:44:36.684467800Z"
    }
   },
   "id": "a8bff4e991c9e5c9"
  },
  {
   "cell_type": "code",
   "execution_count": 18,
   "outputs": [
    {
     "data": {
      "text/plain": "21"
     },
     "execution_count": 18,
     "metadata": {},
     "output_type": "execute_result"
    }
   ],
   "source": [
    "df_vaccine_data[\"Län_namn\"].nunique()"
   ],
   "metadata": {
    "collapsed": false,
    "ExecuteTime": {
     "end_time": "2023-11-14T05:44:37.536847700Z",
     "start_time": "2023-11-14T05:44:37.519526300Z"
    }
   },
   "id": "fcec897fdebd0ab6"
  },
  {
   "cell_type": "markdown",
   "source": [
    "There are 21 counties in sweden, so the dataset seems to have data about all of them."
   ],
   "metadata": {
    "collapsed": false
   },
   "id": "ce85ed53101bb141"
  },
  {
   "cell_type": "markdown",
   "source": [
    "### Task B\n",
    "Municipalities in the dataset"
   ],
   "metadata": {
    "collapsed": false
   },
   "id": "6fe8959e6769a775"
  },
  {
   "cell_type": "code",
   "execution_count": 22,
   "outputs": [
    {
     "data": {
      "text/plain": "array(['Upplands Väsby', 'Vallentuna', 'Österåker', 'Värmdö', 'Järfälla',\n       'Ekerö', 'Huddinge', 'Botkyrka', 'Salem', 'Haninge', 'Tyresö',\n       'Upplands-Bro', 'Nykvarn', 'Täby', 'Danderyd', 'Sollentuna',\n       'Stockholm', 'Södertälje', 'Nacka', 'Sundbyberg', 'Solna',\n       'Lidingö', 'Vaxholm', 'Norrtälje', 'Sigtuna', 'Nynäshamn', 'Håbo',\n       'Älvkarleby', 'Knivsta', 'Heby', 'Tierp', 'Uppsala', 'Enköping',\n       'Östhammar', 'Vingåker', 'Gnesta', 'Nyköping', 'Oxelösund', 'Flen',\n       'Katrineholm', 'Eskilstuna', 'Strängnäs', 'Trosa', 'Ödeshög',\n       'Ydre', 'Kinda', 'Boxholm', 'Åtvidaberg', 'Finspång',\n       'Valdemarsvik', 'Linköping', 'Norrköping', 'Söderköping', 'Motala',\n       'Vadstena', 'Mjölby', 'Aneby', 'Gnosjö', 'Mullsjö', 'Habo',\n       'Gislaved', 'Vaggeryd', 'Jönköping', 'Nässjö', 'Värnamo', 'Sävsjö',\n       'Vetlanda', 'Eksjö', 'Tranås', 'Uppvidinge', 'Lessebo', 'Tingsryd',\n       'Alvesta', 'Älmhult', 'Markaryd', 'Växjö', 'Ljungby', 'Högsby',\n       'Torsås', 'Mörbylånga', 'Hultsfred', 'Mönsterås', 'Emmaboda',\n       'Kalmar', 'Nybro', 'Oskarshamn', 'Västervik', 'Vimmerby',\n       'Borgholm', 'Gotland', 'Olofström', 'Karlskrona', 'Ronneby',\n       'Karlshamn', 'Sölvesborg', 'Svalöv', 'Staffanstorp', 'Burlöv',\n       'Vellinge', 'Östra Göinge', 'Örkelljunga', 'Bjuv', 'Kävlinge',\n       'Lomma', 'Svedala', 'Skurup', 'Sjöbo', 'Hörby', 'Höör',\n       'Tomelilla', 'Bromölla', 'Osby', 'Perstorp', 'Klippan', 'Åstorp',\n       'Båstad', 'Malmö', 'Lund', 'Landskrona', 'Helsingborg', 'Höganäs',\n       'Eslöv', 'Ystad', 'Trelleborg', 'Kristianstad', 'Simrishamn',\n       'Ängelholm', 'Hässleholm', 'Hylte', 'Halmstad', 'Laholm',\n       'Falkenberg', 'Varberg', 'Kungsbacka', 'Härryda', 'Partille',\n       'Öckerö', 'Stenungsund', 'Tjörn', 'Orust', 'Sotenäs', 'Munkedal',\n       'Tanum', 'Dals-Ed', 'Färgelanda', 'Ale', 'Lerum', 'Vårgårda',\n       'Bollebygd', 'Grästorp', 'Essunga', 'Karlsborg', 'Gullspång',\n       'Tranemo', 'Bengtsfors', 'Mellerud', 'Lilla Edet', 'Mark',\n       'Svenljunga', 'Herrljunga', 'Vara', 'Götene', 'Tibro', 'Töreboda',\n       'Göteborg', 'Mölndal', 'Kungälv', 'Lysekil', 'Uddevalla',\n       'Strömstad', 'Vänersborg', 'Trollhättan', 'Alingsås', 'Borås',\n       'Ulricehamn', 'Åmål', 'Mariestad', 'Lidköping', 'Skara', 'Skövde',\n       'Hjo', 'Tidaholm', 'Falköping', 'Kil', 'Eda', 'Torsby', 'Storfors',\n       'Hammarö', 'Munkfors', 'Forshaga', 'Grums', 'Årjäng', 'Sunne',\n       'Karlstad', 'Kristinehamn', 'Filipstad', 'Hagfors', 'Arvika',\n       'Säffle', 'Lekeberg', 'Laxå', 'Hallsberg', 'Degerfors',\n       'Hällefors', 'Ljusnarsberg', 'Örebro', 'Kumla', 'Askersund',\n       'Karlskoga', 'Nora', 'Lindesberg', 'Skinnskatteberg', 'Surahammar',\n       'Kungsör', 'Hallstahammar', 'Norberg', 'Västerås', 'Sala',\n       'Fagersta', 'Köping', 'Arboga', 'Vansbro', 'Malung-Sälen',\n       'Gagnef', 'Leksand', 'Rättvik', 'Orsa', 'Älvdalen', 'Smedjebacken',\n       'Mora', 'Falun', 'Borlänge', 'Säter', 'Hedemora', 'Avesta',\n       'Ludvika', 'Ockelbo', 'Hofors', 'Ovanåker', 'Nordanstig',\n       'Ljusdal', 'Gävle', 'Sandviken', 'Söderhamn', 'Bollnäs',\n       'Hudiksvall', 'Ånge', 'Timrå', 'Härnösand', 'Sundsvall',\n       'Kramfors', 'Sollefteå', 'Örnsköldsvik', 'Ragunda', 'Bräcke',\n       'Krokom', 'Strömsund', 'Åre', 'Berg', 'Härjedalen', 'Östersund',\n       'Nordmaling', 'Bjurholm', 'Vindeln', 'Robertsfors', 'Norsjö',\n       'Malå', 'Storuman', 'Sorsele', 'Dorotea', 'Vännäs', 'Vilhelmina',\n       'Åsele', 'Umeå', 'Lycksele', 'Skellefteå', 'Arvidsjaur',\n       'Arjeplog', 'Jokkmokk', 'Överkalix', 'Kalix', 'Övertorneå',\n       'Pajala', 'Gällivare', 'Älvsbyn', 'Luleå', 'Piteå', 'Boden',\n       'Haparanda', 'Kiruna'], dtype=object)"
     },
     "execution_count": 22,
     "metadata": {},
     "output_type": "execute_result"
    }
   ],
   "source": [
    "df_vaccine_data[\"Kommun_namn\"].unique()"
   ],
   "metadata": {
    "collapsed": false,
    "ExecuteTime": {
     "end_time": "2023-11-14T05:45:31.884268Z",
     "start_time": "2023-11-14T05:45:31.873027500Z"
    }
   },
   "id": "8210180e5057a974"
  },
  {
   "cell_type": "code",
   "execution_count": 23,
   "outputs": [
    {
     "data": {
      "text/plain": "290"
     },
     "execution_count": 23,
     "metadata": {},
     "output_type": "execute_result"
    }
   ],
   "source": [
    "df_vaccine_data[\"Kommun_namn\"].nunique()"
   ],
   "metadata": {
    "collapsed": false,
    "ExecuteTime": {
     "end_time": "2023-11-14T05:45:32.614692500Z",
     "start_time": "2023-11-14T05:45:32.601304100Z"
    }
   },
   "id": "762374f5a73310c5"
  },
  {
   "cell_type": "markdown",
   "source": [
    "There are 290 counties in sweden, so the dataset seems to have data about all of them as well."
   ],
   "metadata": {
    "collapsed": false
   },
   "id": "1247a10736dd7cb3"
  },
  {
   "cell_type": "markdown",
   "source": [
    "### Task C\n",
    "Population in the dataset"
   ],
   "metadata": {
    "collapsed": false
   },
   "id": "fcff98a0a6cf717b"
  },
  {
   "cell_type": "code",
   "execution_count": 33,
   "outputs": [],
   "source": [
    "vaccine_data_population = df_vaccine_data[\"Befolkning\"].sum()"
   ],
   "metadata": {
    "collapsed": false,
    "ExecuteTime": {
     "end_time": "2023-11-14T06:15:53.668973300Z",
     "start_time": "2023-11-14T06:15:53.635189700Z"
    }
   },
   "id": "f53459461b81f7d5"
  },
  {
   "cell_type": "code",
   "execution_count": 34,
   "outputs": [
    {
     "data": {
      "text/plain": "9092790"
     },
     "execution_count": 34,
     "metadata": {},
     "output_type": "execute_result"
    }
   ],
   "source": [
    "vaccine_data_population"
   ],
   "metadata": {
    "collapsed": false,
    "ExecuteTime": {
     "end_time": "2023-11-14T06:15:54.218568Z",
     "start_time": "2023-11-14T06:15:54.186516700Z"
    }
   },
   "id": "8022b90f9804650d"
  },
  {
   "cell_type": "markdown",
   "source": [
    "It seems that the population in the dataset is 9 092 790 people."
   ],
   "metadata": {
    "collapsed": false
   },
   "id": "509cd2b11a3cba39"
  },
  {
   "cell_type": "markdown",
   "source": [
    "### Task D\n",
    "Children under age 18"
   ],
   "metadata": {
    "collapsed": false
   },
   "id": "ae6ec121484f761e"
  },
  {
   "cell_type": "code",
   "execution_count": 30,
   "outputs": [],
   "source": [
    "df_vaccine_data_ages = df_vaccine_data[\"Ålder\"].unique()"
   ],
   "metadata": {
    "collapsed": false,
    "ExecuteTime": {
     "end_time": "2023-11-14T06:03:47.893135400Z",
     "start_time": "2023-11-14T06:03:47.876652600Z"
    }
   },
   "id": "2f2dc9fc7e366f6f"
  },
  {
   "cell_type": "code",
   "execution_count": 31,
   "outputs": [
    {
     "data": {
      "text/plain": "array(['12-15', '16-17', '18-29', '30-39', '40-49', '50-59', '60-69',\n       '70-79', '80-89', '90 eller äldre'], dtype=object)"
     },
     "execution_count": 31,
     "metadata": {},
     "output_type": "execute_result"
    }
   ],
   "source": [
    "df_vaccine_data_ages"
   ],
   "metadata": {
    "collapsed": false,
    "ExecuteTime": {
     "end_time": "2023-11-14T06:03:48.826048900Z",
     "start_time": "2023-11-14T06:03:48.813140200Z"
    }
   },
   "id": "fb05eb9c54471db2"
  },
  {
   "cell_type": "markdown",
   "source": [
    "Looking at the dataset, it doesn't seem to have data about children under the age of 12.\n",
    "We'll have to use info about whole population of sweden in 2022 to help us find those.\n",
    "According to SCB the population of sweden was 10 521 556 in 2022."
   ],
   "metadata": {
    "collapsed": false
   },
   "id": "4d781ce2a3febca3"
  },
  {
   "cell_type": "code",
   "execution_count": 32,
   "outputs": [],
   "source": [
    "sweden_population_2022 = 10521556"
   ],
   "metadata": {
    "collapsed": false,
    "ExecuteTime": {
     "end_time": "2023-11-14T06:14:15.387965200Z",
     "start_time": "2023-11-14T06:14:15.363666600Z"
    }
   },
   "id": "74b627c894c2664f"
  },
  {
   "cell_type": "code",
   "execution_count": 36,
   "outputs": [],
   "source": [
    "excluded_age_groups = [\"12-15\", \"16-17\"]\n",
    "adult_population = df_vaccine_data[~df_vaccine_data[\"Ålder\"].isin(excluded_age_groups)][\"Befolkning\"].sum()"
   ],
   "metadata": {
    "collapsed": false,
    "ExecuteTime": {
     "end_time": "2023-11-14T06:25:59.314138600Z",
     "start_time": "2023-11-14T06:25:59.303065400Z"
    }
   },
   "id": "86e68128a7c00cad"
  },
  {
   "cell_type": "code",
   "execution_count": 37,
   "outputs": [
    {
     "data": {
      "text/plain": "8347420"
     },
     "execution_count": 37,
     "metadata": {},
     "output_type": "execute_result"
    }
   ],
   "source": [
    "adult_population"
   ],
   "metadata": {
    "collapsed": false,
    "ExecuteTime": {
     "end_time": "2023-11-14T06:26:02.107302800Z",
     "start_time": "2023-11-14T06:26:02.079735800Z"
    }
   },
   "id": "27166b2051762f3f"
  },
  {
   "cell_type": "code",
   "execution_count": 38,
   "outputs": [],
   "source": [
    "child_population = sweden_population_2022 - adult_population"
   ],
   "metadata": {
    "collapsed": false,
    "ExecuteTime": {
     "end_time": "2023-11-14T06:27:30.305700500Z",
     "start_time": "2023-11-14T06:27:30.265125700Z"
    }
   },
   "id": "b8d0b0001b7661a3"
  },
  {
   "cell_type": "code",
   "execution_count": 39,
   "outputs": [
    {
     "data": {
      "text/plain": "2174136"
     },
     "execution_count": 39,
     "metadata": {},
     "output_type": "execute_result"
    }
   ],
   "source": [
    "child_population"
   ],
   "metadata": {
    "collapsed": false,
    "ExecuteTime": {
     "end_time": "2023-11-14T06:27:33.504932500Z",
     "start_time": "2023-11-14T06:27:33.483648200Z"
    }
   },
   "id": "a4435190a556354d"
  },
  {
   "cell_type": "markdown",
   "source": [
    "Using the data from SCB we can find out that the population of children under the age of 18 is 2 174 136."
   ],
   "metadata": {
    "collapsed": false
   },
   "id": "b3f72548f5983feb"
  },
  {
   "cell_type": "markdown",
   "source": [
    "### Task E\n",
    "Age distribution diagram."
   ],
   "metadata": {
    "collapsed": false
   },
   "id": "a252914f8761b3a6"
  },
  {
   "cell_type": "markdown",
   "source": [
    "We'll need to add the population of ages 0-11 to the dataset before we can make the diagram."
   ],
   "metadata": {
    "collapsed": false
   },
   "id": "92b425aea40e1db6"
  },
  {
   "cell_type": "code",
   "execution_count": 118,
   "outputs": [],
   "source": [
    "ages_0_11 = {\"Ålder\" : \"0-11\", \"Befolkning\" : sweden_population_2022 - vaccine_data_population}"
   ],
   "metadata": {
    "collapsed": false,
    "ExecuteTime": {
     "end_time": "2023-11-14T07:42:02.928219500Z",
     "start_time": "2023-11-14T07:42:02.924494400Z"
    }
   },
   "id": "ba9f44b3a8cd7568"
  },
  {
   "cell_type": "code",
   "execution_count": 119,
   "outputs": [],
   "source": [
    "df_ages_0_11 = pd.DataFrame([ages_0_11])"
   ],
   "metadata": {
    "collapsed": false,
    "ExecuteTime": {
     "end_time": "2023-11-14T07:42:03.625761Z",
     "start_time": "2023-11-14T07:42:03.622725900Z"
    }
   },
   "id": "999fd09e70b17bfc"
  },
  {
   "cell_type": "code",
   "execution_count": 120,
   "outputs": [
    {
     "data": {
      "text/plain": "  Ålder  Befolkning\n0  0-11     1428766",
      "text/html": "<div>\n<style scoped>\n    .dataframe tbody tr th:only-of-type {\n        vertical-align: middle;\n    }\n\n    .dataframe tbody tr th {\n        vertical-align: top;\n    }\n\n    .dataframe thead th {\n        text-align: right;\n    }\n</style>\n<table border=\"1\" class=\"dataframe\">\n  <thead>\n    <tr style=\"text-align: right;\">\n      <th></th>\n      <th>Ålder</th>\n      <th>Befolkning</th>\n    </tr>\n  </thead>\n  <tbody>\n    <tr>\n      <th>0</th>\n      <td>0-11</td>\n      <td>1428766</td>\n    </tr>\n  </tbody>\n</table>\n</div>"
     },
     "execution_count": 120,
     "metadata": {},
     "output_type": "execute_result"
    }
   ],
   "source": [
    "df_ages_0_11"
   ],
   "metadata": {
    "collapsed": false,
    "ExecuteTime": {
     "end_time": "2023-11-14T07:42:13.562239600Z",
     "start_time": "2023-11-14T07:42:13.541381700Z"
    }
   },
   "id": "8e0531671e73c8ec"
  },
  {
   "cell_type": "code",
   "execution_count": 121,
   "outputs": [],
   "source": [
    "df_age_ranges_population = pd.DataFrame({\"Ålder\" : df_vaccine_data_ages, \"Befolkning\" : 0})"
   ],
   "metadata": {
    "collapsed": false,
    "ExecuteTime": {
     "end_time": "2023-11-14T07:42:23.058106300Z",
     "start_time": "2023-11-14T07:42:23.038342100Z"
    }
   },
   "id": "ff159f2093b12060"
  },
  {
   "cell_type": "code",
   "execution_count": 122,
   "outputs": [
    {
     "data": {
      "text/plain": "            Ålder  Befolkning\n0           12-15           0\n1           16-17           0\n2           18-29           0\n3           30-39           0\n4           40-49           0\n5           50-59           0\n6           60-69           0\n7           70-79           0\n8           80-89           0\n9  90 eller äldre           0",
      "text/html": "<div>\n<style scoped>\n    .dataframe tbody tr th:only-of-type {\n        vertical-align: middle;\n    }\n\n    .dataframe tbody tr th {\n        vertical-align: top;\n    }\n\n    .dataframe thead th {\n        text-align: right;\n    }\n</style>\n<table border=\"1\" class=\"dataframe\">\n  <thead>\n    <tr style=\"text-align: right;\">\n      <th></th>\n      <th>Ålder</th>\n      <th>Befolkning</th>\n    </tr>\n  </thead>\n  <tbody>\n    <tr>\n      <th>0</th>\n      <td>12-15</td>\n      <td>0</td>\n    </tr>\n    <tr>\n      <th>1</th>\n      <td>16-17</td>\n      <td>0</td>\n    </tr>\n    <tr>\n      <th>2</th>\n      <td>18-29</td>\n      <td>0</td>\n    </tr>\n    <tr>\n      <th>3</th>\n      <td>30-39</td>\n      <td>0</td>\n    </tr>\n    <tr>\n      <th>4</th>\n      <td>40-49</td>\n      <td>0</td>\n    </tr>\n    <tr>\n      <th>5</th>\n      <td>50-59</td>\n      <td>0</td>\n    </tr>\n    <tr>\n      <th>6</th>\n      <td>60-69</td>\n      <td>0</td>\n    </tr>\n    <tr>\n      <th>7</th>\n      <td>70-79</td>\n      <td>0</td>\n    </tr>\n    <tr>\n      <th>8</th>\n      <td>80-89</td>\n      <td>0</td>\n    </tr>\n    <tr>\n      <th>9</th>\n      <td>90 eller äldre</td>\n      <td>0</td>\n    </tr>\n  </tbody>\n</table>\n</div>"
     },
     "execution_count": 122,
     "metadata": {},
     "output_type": "execute_result"
    }
   ],
   "source": [
    "df_age_ranges_population"
   ],
   "metadata": {
    "collapsed": false,
    "ExecuteTime": {
     "end_time": "2023-11-14T07:42:25.192136Z",
     "start_time": "2023-11-14T07:42:25.166882500Z"
    }
   },
   "id": "14f48d5c9af6ee9f"
  },
  {
   "cell_type": "code",
   "execution_count": 123,
   "outputs": [],
   "source": [
    "df_age_ranges_population[\"Befolkning\"] = df_vaccine_data.groupby(\"Ålder\")[\"Befolkning\"].sum().values"
   ],
   "metadata": {
    "collapsed": false,
    "ExecuteTime": {
     "end_time": "2023-11-14T07:42:28.803626100Z",
     "start_time": "2023-11-14T07:42:28.783547100Z"
    }
   },
   "id": "dc889405945d02c6"
  },
  {
   "cell_type": "code",
   "execution_count": 124,
   "outputs": [
    {
     "data": {
      "text/plain": "            Ålder  Befolkning\n0           12-15      503831\n1           16-17      241539\n2           18-29     1475950\n3           30-39     1467590\n4           40-49     1298156\n5           50-59     1339798\n6           60-69     1121922\n7           70-79     1033113\n8           80-89      496750\n9  90 eller äldre      114141",
      "text/html": "<div>\n<style scoped>\n    .dataframe tbody tr th:only-of-type {\n        vertical-align: middle;\n    }\n\n    .dataframe tbody tr th {\n        vertical-align: top;\n    }\n\n    .dataframe thead th {\n        text-align: right;\n    }\n</style>\n<table border=\"1\" class=\"dataframe\">\n  <thead>\n    <tr style=\"text-align: right;\">\n      <th></th>\n      <th>Ålder</th>\n      <th>Befolkning</th>\n    </tr>\n  </thead>\n  <tbody>\n    <tr>\n      <th>0</th>\n      <td>12-15</td>\n      <td>503831</td>\n    </tr>\n    <tr>\n      <th>1</th>\n      <td>16-17</td>\n      <td>241539</td>\n    </tr>\n    <tr>\n      <th>2</th>\n      <td>18-29</td>\n      <td>1475950</td>\n    </tr>\n    <tr>\n      <th>3</th>\n      <td>30-39</td>\n      <td>1467590</td>\n    </tr>\n    <tr>\n      <th>4</th>\n      <td>40-49</td>\n      <td>1298156</td>\n    </tr>\n    <tr>\n      <th>5</th>\n      <td>50-59</td>\n      <td>1339798</td>\n    </tr>\n    <tr>\n      <th>6</th>\n      <td>60-69</td>\n      <td>1121922</td>\n    </tr>\n    <tr>\n      <th>7</th>\n      <td>70-79</td>\n      <td>1033113</td>\n    </tr>\n    <tr>\n      <th>8</th>\n      <td>80-89</td>\n      <td>496750</td>\n    </tr>\n    <tr>\n      <th>9</th>\n      <td>90 eller äldre</td>\n      <td>114141</td>\n    </tr>\n  </tbody>\n</table>\n</div>"
     },
     "execution_count": 124,
     "metadata": {},
     "output_type": "execute_result"
    }
   ],
   "source": [
    "df_age_ranges_population"
   ],
   "metadata": {
    "collapsed": false,
    "ExecuteTime": {
     "end_time": "2023-11-14T07:42:29.919384600Z",
     "start_time": "2023-11-14T07:42:29.889505300Z"
    }
   },
   "id": "8c03fbe25c29f448"
  },
  {
   "cell_type": "code",
   "execution_count": 127,
   "outputs": [],
   "source": [
    "df_age_ranges_population = pd.concat([df_ages_0_11, df_age_ranges_population], ignore_index=True)"
   ],
   "metadata": {
    "collapsed": false,
    "ExecuteTime": {
     "end_time": "2023-11-14T07:42:50.554859900Z",
     "start_time": "2023-11-14T07:42:50.547799500Z"
    }
   },
   "id": "6fb4bebb0f96095b"
  },
  {
   "cell_type": "code",
   "execution_count": 128,
   "outputs": [
    {
     "data": {
      "text/plain": "             Ålder  Befolkning\n0             0-11     1428766\n1            12-15      503831\n2            16-17      241539\n3            18-29     1475950\n4            30-39     1467590\n5            40-49     1298156\n6            50-59     1339798\n7            60-69     1121922\n8            70-79     1033113\n9            80-89      496750\n10  90 eller äldre      114141",
      "text/html": "<div>\n<style scoped>\n    .dataframe tbody tr th:only-of-type {\n        vertical-align: middle;\n    }\n\n    .dataframe tbody tr th {\n        vertical-align: top;\n    }\n\n    .dataframe thead th {\n        text-align: right;\n    }\n</style>\n<table border=\"1\" class=\"dataframe\">\n  <thead>\n    <tr style=\"text-align: right;\">\n      <th></th>\n      <th>Ålder</th>\n      <th>Befolkning</th>\n    </tr>\n  </thead>\n  <tbody>\n    <tr>\n      <th>0</th>\n      <td>0-11</td>\n      <td>1428766</td>\n    </tr>\n    <tr>\n      <th>1</th>\n      <td>12-15</td>\n      <td>503831</td>\n    </tr>\n    <tr>\n      <th>2</th>\n      <td>16-17</td>\n      <td>241539</td>\n    </tr>\n    <tr>\n      <th>3</th>\n      <td>18-29</td>\n      <td>1475950</td>\n    </tr>\n    <tr>\n      <th>4</th>\n      <td>30-39</td>\n      <td>1467590</td>\n    </tr>\n    <tr>\n      <th>5</th>\n      <td>40-49</td>\n      <td>1298156</td>\n    </tr>\n    <tr>\n      <th>6</th>\n      <td>50-59</td>\n      <td>1339798</td>\n    </tr>\n    <tr>\n      <th>7</th>\n      <td>60-69</td>\n      <td>1121922</td>\n    </tr>\n    <tr>\n      <th>8</th>\n      <td>70-79</td>\n      <td>1033113</td>\n    </tr>\n    <tr>\n      <th>9</th>\n      <td>80-89</td>\n      <td>496750</td>\n    </tr>\n    <tr>\n      <th>10</th>\n      <td>90 eller äldre</td>\n      <td>114141</td>\n    </tr>\n  </tbody>\n</table>\n</div>"
     },
     "execution_count": 128,
     "metadata": {},
     "output_type": "execute_result"
    }
   ],
   "source": [
    "df_age_ranges_population"
   ],
   "metadata": {
    "collapsed": false,
    "ExecuteTime": {
     "end_time": "2023-11-14T07:42:52.259697800Z",
     "start_time": "2023-11-14T07:42:52.197281200Z"
    }
   },
   "id": "f16f08d7b75052f2"
  },
  {
   "cell_type": "markdown",
   "source": [
    "Creating a pie-chart to show the population by age group."
   ],
   "metadata": {
    "collapsed": false
   },
   "id": "a33d2eff5be827e5"
  },
  {
   "cell_type": "code",
   "execution_count": 134,
   "outputs": [
    {
     "data": {
      "application/vnd.plotly.v1+json": {
       "data": [
        {
         "direction": "clockwise",
         "domain": {
          "x": [
           0.0,
           1.0
          ],
          "y": [
           0.0,
           1.0
          ]
         },
         "hovertemplate": "Ålder=%{label}<br>Befolkning=%{value}<extra></extra>",
         "labels": [
          "0-11",
          "12-15",
          "16-17",
          "18-29",
          "30-39",
          "40-49",
          "50-59",
          "60-69",
          "70-79",
          "80-89",
          "90 eller äldre"
         ],
         "legendgroup": "",
         "name": "",
         "showlegend": true,
         "sort": false,
         "values": [
          1428766,
          503831,
          241539,
          1475950,
          1467590,
          1298156,
          1339798,
          1121922,
          1033113,
          496750,
          114141
         ],
         "type": "pie"
        }
       ],
       "layout": {
        "template": {
         "data": {
          "histogram2dcontour": [
           {
            "type": "histogram2dcontour",
            "colorbar": {
             "outlinewidth": 0,
             "ticks": ""
            },
            "colorscale": [
             [
              0.0,
              "#0d0887"
             ],
             [
              0.1111111111111111,
              "#46039f"
             ],
             [
              0.2222222222222222,
              "#7201a8"
             ],
             [
              0.3333333333333333,
              "#9c179e"
             ],
             [
              0.4444444444444444,
              "#bd3786"
             ],
             [
              0.5555555555555556,
              "#d8576b"
             ],
             [
              0.6666666666666666,
              "#ed7953"
             ],
             [
              0.7777777777777778,
              "#fb9f3a"
             ],
             [
              0.8888888888888888,
              "#fdca26"
             ],
             [
              1.0,
              "#f0f921"
             ]
            ]
           }
          ],
          "choropleth": [
           {
            "type": "choropleth",
            "colorbar": {
             "outlinewidth": 0,
             "ticks": ""
            }
           }
          ],
          "histogram2d": [
           {
            "type": "histogram2d",
            "colorbar": {
             "outlinewidth": 0,
             "ticks": ""
            },
            "colorscale": [
             [
              0.0,
              "#0d0887"
             ],
             [
              0.1111111111111111,
              "#46039f"
             ],
             [
              0.2222222222222222,
              "#7201a8"
             ],
             [
              0.3333333333333333,
              "#9c179e"
             ],
             [
              0.4444444444444444,
              "#bd3786"
             ],
             [
              0.5555555555555556,
              "#d8576b"
             ],
             [
              0.6666666666666666,
              "#ed7953"
             ],
             [
              0.7777777777777778,
              "#fb9f3a"
             ],
             [
              0.8888888888888888,
              "#fdca26"
             ],
             [
              1.0,
              "#f0f921"
             ]
            ]
           }
          ],
          "heatmap": [
           {
            "type": "heatmap",
            "colorbar": {
             "outlinewidth": 0,
             "ticks": ""
            },
            "colorscale": [
             [
              0.0,
              "#0d0887"
             ],
             [
              0.1111111111111111,
              "#46039f"
             ],
             [
              0.2222222222222222,
              "#7201a8"
             ],
             [
              0.3333333333333333,
              "#9c179e"
             ],
             [
              0.4444444444444444,
              "#bd3786"
             ],
             [
              0.5555555555555556,
              "#d8576b"
             ],
             [
              0.6666666666666666,
              "#ed7953"
             ],
             [
              0.7777777777777778,
              "#fb9f3a"
             ],
             [
              0.8888888888888888,
              "#fdca26"
             ],
             [
              1.0,
              "#f0f921"
             ]
            ]
           }
          ],
          "heatmapgl": [
           {
            "type": "heatmapgl",
            "colorbar": {
             "outlinewidth": 0,
             "ticks": ""
            },
            "colorscale": [
             [
              0.0,
              "#0d0887"
             ],
             [
              0.1111111111111111,
              "#46039f"
             ],
             [
              0.2222222222222222,
              "#7201a8"
             ],
             [
              0.3333333333333333,
              "#9c179e"
             ],
             [
              0.4444444444444444,
              "#bd3786"
             ],
             [
              0.5555555555555556,
              "#d8576b"
             ],
             [
              0.6666666666666666,
              "#ed7953"
             ],
             [
              0.7777777777777778,
              "#fb9f3a"
             ],
             [
              0.8888888888888888,
              "#fdca26"
             ],
             [
              1.0,
              "#f0f921"
             ]
            ]
           }
          ],
          "contourcarpet": [
           {
            "type": "contourcarpet",
            "colorbar": {
             "outlinewidth": 0,
             "ticks": ""
            }
           }
          ],
          "contour": [
           {
            "type": "contour",
            "colorbar": {
             "outlinewidth": 0,
             "ticks": ""
            },
            "colorscale": [
             [
              0.0,
              "#0d0887"
             ],
             [
              0.1111111111111111,
              "#46039f"
             ],
             [
              0.2222222222222222,
              "#7201a8"
             ],
             [
              0.3333333333333333,
              "#9c179e"
             ],
             [
              0.4444444444444444,
              "#bd3786"
             ],
             [
              0.5555555555555556,
              "#d8576b"
             ],
             [
              0.6666666666666666,
              "#ed7953"
             ],
             [
              0.7777777777777778,
              "#fb9f3a"
             ],
             [
              0.8888888888888888,
              "#fdca26"
             ],
             [
              1.0,
              "#f0f921"
             ]
            ]
           }
          ],
          "surface": [
           {
            "type": "surface",
            "colorbar": {
             "outlinewidth": 0,
             "ticks": ""
            },
            "colorscale": [
             [
              0.0,
              "#0d0887"
             ],
             [
              0.1111111111111111,
              "#46039f"
             ],
             [
              0.2222222222222222,
              "#7201a8"
             ],
             [
              0.3333333333333333,
              "#9c179e"
             ],
             [
              0.4444444444444444,
              "#bd3786"
             ],
             [
              0.5555555555555556,
              "#d8576b"
             ],
             [
              0.6666666666666666,
              "#ed7953"
             ],
             [
              0.7777777777777778,
              "#fb9f3a"
             ],
             [
              0.8888888888888888,
              "#fdca26"
             ],
             [
              1.0,
              "#f0f921"
             ]
            ]
           }
          ],
          "mesh3d": [
           {
            "type": "mesh3d",
            "colorbar": {
             "outlinewidth": 0,
             "ticks": ""
            }
           }
          ],
          "scatter": [
           {
            "marker": {
             "line": {
              "color": "#283442"
             }
            },
            "type": "scatter"
           }
          ],
          "parcoords": [
           {
            "type": "parcoords",
            "line": {
             "colorbar": {
              "outlinewidth": 0,
              "ticks": ""
             }
            }
           }
          ],
          "scatterpolargl": [
           {
            "type": "scatterpolargl",
            "marker": {
             "colorbar": {
              "outlinewidth": 0,
              "ticks": ""
             }
            }
           }
          ],
          "bar": [
           {
            "error_x": {
             "color": "#f2f5fa"
            },
            "error_y": {
             "color": "#f2f5fa"
            },
            "marker": {
             "line": {
              "color": "rgb(17,17,17)",
              "width": 0.5
             },
             "pattern": {
              "fillmode": "overlay",
              "size": 10,
              "solidity": 0.2
             }
            },
            "type": "bar"
           }
          ],
          "scattergeo": [
           {
            "type": "scattergeo",
            "marker": {
             "colorbar": {
              "outlinewidth": 0,
              "ticks": ""
             }
            }
           }
          ],
          "scatterpolar": [
           {
            "type": "scatterpolar",
            "marker": {
             "colorbar": {
              "outlinewidth": 0,
              "ticks": ""
             }
            }
           }
          ],
          "histogram": [
           {
            "marker": {
             "pattern": {
              "fillmode": "overlay",
              "size": 10,
              "solidity": 0.2
             }
            },
            "type": "histogram"
           }
          ],
          "scattergl": [
           {
            "marker": {
             "line": {
              "color": "#283442"
             }
            },
            "type": "scattergl"
           }
          ],
          "scatter3d": [
           {
            "type": "scatter3d",
            "line": {
             "colorbar": {
              "outlinewidth": 0,
              "ticks": ""
             }
            },
            "marker": {
             "colorbar": {
              "outlinewidth": 0,
              "ticks": ""
             }
            }
           }
          ],
          "scattermapbox": [
           {
            "type": "scattermapbox",
            "marker": {
             "colorbar": {
              "outlinewidth": 0,
              "ticks": ""
             }
            }
           }
          ],
          "scatterternary": [
           {
            "type": "scatterternary",
            "marker": {
             "colorbar": {
              "outlinewidth": 0,
              "ticks": ""
             }
            }
           }
          ],
          "scattercarpet": [
           {
            "type": "scattercarpet",
            "marker": {
             "colorbar": {
              "outlinewidth": 0,
              "ticks": ""
             }
            }
           }
          ],
          "carpet": [
           {
            "aaxis": {
             "endlinecolor": "#A2B1C6",
             "gridcolor": "#506784",
             "linecolor": "#506784",
             "minorgridcolor": "#506784",
             "startlinecolor": "#A2B1C6"
            },
            "baxis": {
             "endlinecolor": "#A2B1C6",
             "gridcolor": "#506784",
             "linecolor": "#506784",
             "minorgridcolor": "#506784",
             "startlinecolor": "#A2B1C6"
            },
            "type": "carpet"
           }
          ],
          "table": [
           {
            "cells": {
             "fill": {
              "color": "#506784"
             },
             "line": {
              "color": "rgb(17,17,17)"
             }
            },
            "header": {
             "fill": {
              "color": "#2a3f5f"
             },
             "line": {
              "color": "rgb(17,17,17)"
             }
            },
            "type": "table"
           }
          ],
          "barpolar": [
           {
            "marker": {
             "line": {
              "color": "rgb(17,17,17)",
              "width": 0.5
             },
             "pattern": {
              "fillmode": "overlay",
              "size": 10,
              "solidity": 0.2
             }
            },
            "type": "barpolar"
           }
          ],
          "pie": [
           {
            "automargin": true,
            "type": "pie"
           }
          ]
         },
         "layout": {
          "autotypenumbers": "strict",
          "colorway": [
           "#636efa",
           "#EF553B",
           "#00cc96",
           "#ab63fa",
           "#FFA15A",
           "#19d3f3",
           "#FF6692",
           "#B6E880",
           "#FF97FF",
           "#FECB52"
          ],
          "font": {
           "color": "#f2f5fa"
          },
          "hovermode": "closest",
          "hoverlabel": {
           "align": "left"
          },
          "paper_bgcolor": "rgb(17,17,17)",
          "plot_bgcolor": "rgb(17,17,17)",
          "polar": {
           "bgcolor": "rgb(17,17,17)",
           "angularaxis": {
            "gridcolor": "#506784",
            "linecolor": "#506784",
            "ticks": ""
           },
           "radialaxis": {
            "gridcolor": "#506784",
            "linecolor": "#506784",
            "ticks": ""
           }
          },
          "ternary": {
           "bgcolor": "rgb(17,17,17)",
           "aaxis": {
            "gridcolor": "#506784",
            "linecolor": "#506784",
            "ticks": ""
           },
           "baxis": {
            "gridcolor": "#506784",
            "linecolor": "#506784",
            "ticks": ""
           },
           "caxis": {
            "gridcolor": "#506784",
            "linecolor": "#506784",
            "ticks": ""
           }
          },
          "coloraxis": {
           "colorbar": {
            "outlinewidth": 0,
            "ticks": ""
           }
          },
          "colorscale": {
           "sequential": [
            [
             0.0,
             "#0d0887"
            ],
            [
             0.1111111111111111,
             "#46039f"
            ],
            [
             0.2222222222222222,
             "#7201a8"
            ],
            [
             0.3333333333333333,
             "#9c179e"
            ],
            [
             0.4444444444444444,
             "#bd3786"
            ],
            [
             0.5555555555555556,
             "#d8576b"
            ],
            [
             0.6666666666666666,
             "#ed7953"
            ],
            [
             0.7777777777777778,
             "#fb9f3a"
            ],
            [
             0.8888888888888888,
             "#fdca26"
            ],
            [
             1.0,
             "#f0f921"
            ]
           ],
           "sequentialminus": [
            [
             0.0,
             "#0d0887"
            ],
            [
             0.1111111111111111,
             "#46039f"
            ],
            [
             0.2222222222222222,
             "#7201a8"
            ],
            [
             0.3333333333333333,
             "#9c179e"
            ],
            [
             0.4444444444444444,
             "#bd3786"
            ],
            [
             0.5555555555555556,
             "#d8576b"
            ],
            [
             0.6666666666666666,
             "#ed7953"
            ],
            [
             0.7777777777777778,
             "#fb9f3a"
            ],
            [
             0.8888888888888888,
             "#fdca26"
            ],
            [
             1.0,
             "#f0f921"
            ]
           ],
           "diverging": [
            [
             0,
             "#8e0152"
            ],
            [
             0.1,
             "#c51b7d"
            ],
            [
             0.2,
             "#de77ae"
            ],
            [
             0.3,
             "#f1b6da"
            ],
            [
             0.4,
             "#fde0ef"
            ],
            [
             0.5,
             "#f7f7f7"
            ],
            [
             0.6,
             "#e6f5d0"
            ],
            [
             0.7,
             "#b8e186"
            ],
            [
             0.8,
             "#7fbc41"
            ],
            [
             0.9,
             "#4d9221"
            ],
            [
             1,
             "#276419"
            ]
           ]
          },
          "xaxis": {
           "gridcolor": "#283442",
           "linecolor": "#506784",
           "ticks": "",
           "title": {
            "standoff": 15
           },
           "zerolinecolor": "#283442",
           "automargin": true,
           "zerolinewidth": 2
          },
          "yaxis": {
           "gridcolor": "#283442",
           "linecolor": "#506784",
           "ticks": "",
           "title": {
            "standoff": 15
           },
           "zerolinecolor": "#283442",
           "automargin": true,
           "zerolinewidth": 2
          },
          "scene": {
           "xaxis": {
            "backgroundcolor": "rgb(17,17,17)",
            "gridcolor": "#506784",
            "linecolor": "#506784",
            "showbackground": true,
            "ticks": "",
            "zerolinecolor": "#C8D4E3",
            "gridwidth": 2
           },
           "yaxis": {
            "backgroundcolor": "rgb(17,17,17)",
            "gridcolor": "#506784",
            "linecolor": "#506784",
            "showbackground": true,
            "ticks": "",
            "zerolinecolor": "#C8D4E3",
            "gridwidth": 2
           },
           "zaxis": {
            "backgroundcolor": "rgb(17,17,17)",
            "gridcolor": "#506784",
            "linecolor": "#506784",
            "showbackground": true,
            "ticks": "",
            "zerolinecolor": "#C8D4E3",
            "gridwidth": 2
           }
          },
          "shapedefaults": {
           "line": {
            "color": "#f2f5fa"
           }
          },
          "annotationdefaults": {
           "arrowcolor": "#f2f5fa",
           "arrowhead": 0,
           "arrowwidth": 1
          },
          "geo": {
           "bgcolor": "rgb(17,17,17)",
           "landcolor": "rgb(17,17,17)",
           "subunitcolor": "#506784",
           "showland": true,
           "showlakes": true,
           "lakecolor": "rgb(17,17,17)"
          },
          "title": {
           "x": 0.05
          },
          "updatemenudefaults": {
           "bgcolor": "#506784",
           "borderwidth": 0
          },
          "sliderdefaults": {
           "bgcolor": "#C8D4E3",
           "borderwidth": 1,
           "bordercolor": "rgb(17,17,17)",
           "tickwidth": 0
          },
          "mapbox": {
           "style": "dark"
          }
         }
        },
        "legend": {
         "tracegroupgap": 0
        },
        "title": {
         "text": "Swedish population by age groups"
        }
       },
       "config": {
        "plotlyServerURL": "https://plot.ly"
       }
      },
      "text/html": "<div>                            <div id=\"67af29a6-80e8-45ef-bde3-332b56df3336\" class=\"plotly-graph-div\" style=\"height:525px; width:100%;\"></div>            <script type=\"text/javascript\">                require([\"plotly\"], function(Plotly) {                    window.PLOTLYENV=window.PLOTLYENV || {};                                    if (document.getElementById(\"67af29a6-80e8-45ef-bde3-332b56df3336\")) {                    Plotly.newPlot(                        \"67af29a6-80e8-45ef-bde3-332b56df3336\",                        [{\"direction\":\"clockwise\",\"domain\":{\"x\":[0.0,1.0],\"y\":[0.0,1.0]},\"hovertemplate\":\"\\u00c5lder=%{label}\\u003cbr\\u003eBefolkning=%{value}\\u003cextra\\u003e\\u003c\\u002fextra\\u003e\",\"labels\":[\"0-11\",\"12-15\",\"16-17\",\"18-29\",\"30-39\",\"40-49\",\"50-59\",\"60-69\",\"70-79\",\"80-89\",\"90 eller \\u00e4ldre\"],\"legendgroup\":\"\",\"name\":\"\",\"showlegend\":true,\"sort\":false,\"values\":[1428766,503831,241539,1475950,1467590,1298156,1339798,1121922,1033113,496750,114141],\"type\":\"pie\"}],                        {\"template\":{\"data\":{\"histogram2dcontour\":[{\"type\":\"histogram2dcontour\",\"colorbar\":{\"outlinewidth\":0,\"ticks\":\"\"},\"colorscale\":[[0.0,\"#0d0887\"],[0.1111111111111111,\"#46039f\"],[0.2222222222222222,\"#7201a8\"],[0.3333333333333333,\"#9c179e\"],[0.4444444444444444,\"#bd3786\"],[0.5555555555555556,\"#d8576b\"],[0.6666666666666666,\"#ed7953\"],[0.7777777777777778,\"#fb9f3a\"],[0.8888888888888888,\"#fdca26\"],[1.0,\"#f0f921\"]]}],\"choropleth\":[{\"type\":\"choropleth\",\"colorbar\":{\"outlinewidth\":0,\"ticks\":\"\"}}],\"histogram2d\":[{\"type\":\"histogram2d\",\"colorbar\":{\"outlinewidth\":0,\"ticks\":\"\"},\"colorscale\":[[0.0,\"#0d0887\"],[0.1111111111111111,\"#46039f\"],[0.2222222222222222,\"#7201a8\"],[0.3333333333333333,\"#9c179e\"],[0.4444444444444444,\"#bd3786\"],[0.5555555555555556,\"#d8576b\"],[0.6666666666666666,\"#ed7953\"],[0.7777777777777778,\"#fb9f3a\"],[0.8888888888888888,\"#fdca26\"],[1.0,\"#f0f921\"]]}],\"heatmap\":[{\"type\":\"heatmap\",\"colorbar\":{\"outlinewidth\":0,\"ticks\":\"\"},\"colorscale\":[[0.0,\"#0d0887\"],[0.1111111111111111,\"#46039f\"],[0.2222222222222222,\"#7201a8\"],[0.3333333333333333,\"#9c179e\"],[0.4444444444444444,\"#bd3786\"],[0.5555555555555556,\"#d8576b\"],[0.6666666666666666,\"#ed7953\"],[0.7777777777777778,\"#fb9f3a\"],[0.8888888888888888,\"#fdca26\"],[1.0,\"#f0f921\"]]}],\"heatmapgl\":[{\"type\":\"heatmapgl\",\"colorbar\":{\"outlinewidth\":0,\"ticks\":\"\"},\"colorscale\":[[0.0,\"#0d0887\"],[0.1111111111111111,\"#46039f\"],[0.2222222222222222,\"#7201a8\"],[0.3333333333333333,\"#9c179e\"],[0.4444444444444444,\"#bd3786\"],[0.5555555555555556,\"#d8576b\"],[0.6666666666666666,\"#ed7953\"],[0.7777777777777778,\"#fb9f3a\"],[0.8888888888888888,\"#fdca26\"],[1.0,\"#f0f921\"]]}],\"contourcarpet\":[{\"type\":\"contourcarpet\",\"colorbar\":{\"outlinewidth\":0,\"ticks\":\"\"}}],\"contour\":[{\"type\":\"contour\",\"colorbar\":{\"outlinewidth\":0,\"ticks\":\"\"},\"colorscale\":[[0.0,\"#0d0887\"],[0.1111111111111111,\"#46039f\"],[0.2222222222222222,\"#7201a8\"],[0.3333333333333333,\"#9c179e\"],[0.4444444444444444,\"#bd3786\"],[0.5555555555555556,\"#d8576b\"],[0.6666666666666666,\"#ed7953\"],[0.7777777777777778,\"#fb9f3a\"],[0.8888888888888888,\"#fdca26\"],[1.0,\"#f0f921\"]]}],\"surface\":[{\"type\":\"surface\",\"colorbar\":{\"outlinewidth\":0,\"ticks\":\"\"},\"colorscale\":[[0.0,\"#0d0887\"],[0.1111111111111111,\"#46039f\"],[0.2222222222222222,\"#7201a8\"],[0.3333333333333333,\"#9c179e\"],[0.4444444444444444,\"#bd3786\"],[0.5555555555555556,\"#d8576b\"],[0.6666666666666666,\"#ed7953\"],[0.7777777777777778,\"#fb9f3a\"],[0.8888888888888888,\"#fdca26\"],[1.0,\"#f0f921\"]]}],\"mesh3d\":[{\"type\":\"mesh3d\",\"colorbar\":{\"outlinewidth\":0,\"ticks\":\"\"}}],\"scatter\":[{\"marker\":{\"line\":{\"color\":\"#283442\"}},\"type\":\"scatter\"}],\"parcoords\":[{\"type\":\"parcoords\",\"line\":{\"colorbar\":{\"outlinewidth\":0,\"ticks\":\"\"}}}],\"scatterpolargl\":[{\"type\":\"scatterpolargl\",\"marker\":{\"colorbar\":{\"outlinewidth\":0,\"ticks\":\"\"}}}],\"bar\":[{\"error_x\":{\"color\":\"#f2f5fa\"},\"error_y\":{\"color\":\"#f2f5fa\"},\"marker\":{\"line\":{\"color\":\"rgb(17,17,17)\",\"width\":0.5},\"pattern\":{\"fillmode\":\"overlay\",\"size\":10,\"solidity\":0.2}},\"type\":\"bar\"}],\"scattergeo\":[{\"type\":\"scattergeo\",\"marker\":{\"colorbar\":{\"outlinewidth\":0,\"ticks\":\"\"}}}],\"scatterpolar\":[{\"type\":\"scatterpolar\",\"marker\":{\"colorbar\":{\"outlinewidth\":0,\"ticks\":\"\"}}}],\"histogram\":[{\"marker\":{\"pattern\":{\"fillmode\":\"overlay\",\"size\":10,\"solidity\":0.2}},\"type\":\"histogram\"}],\"scattergl\":[{\"marker\":{\"line\":{\"color\":\"#283442\"}},\"type\":\"scattergl\"}],\"scatter3d\":[{\"type\":\"scatter3d\",\"line\":{\"colorbar\":{\"outlinewidth\":0,\"ticks\":\"\"}},\"marker\":{\"colorbar\":{\"outlinewidth\":0,\"ticks\":\"\"}}}],\"scattermapbox\":[{\"type\":\"scattermapbox\",\"marker\":{\"colorbar\":{\"outlinewidth\":0,\"ticks\":\"\"}}}],\"scatterternary\":[{\"type\":\"scatterternary\",\"marker\":{\"colorbar\":{\"outlinewidth\":0,\"ticks\":\"\"}}}],\"scattercarpet\":[{\"type\":\"scattercarpet\",\"marker\":{\"colorbar\":{\"outlinewidth\":0,\"ticks\":\"\"}}}],\"carpet\":[{\"aaxis\":{\"endlinecolor\":\"#A2B1C6\",\"gridcolor\":\"#506784\",\"linecolor\":\"#506784\",\"minorgridcolor\":\"#506784\",\"startlinecolor\":\"#A2B1C6\"},\"baxis\":{\"endlinecolor\":\"#A2B1C6\",\"gridcolor\":\"#506784\",\"linecolor\":\"#506784\",\"minorgridcolor\":\"#506784\",\"startlinecolor\":\"#A2B1C6\"},\"type\":\"carpet\"}],\"table\":[{\"cells\":{\"fill\":{\"color\":\"#506784\"},\"line\":{\"color\":\"rgb(17,17,17)\"}},\"header\":{\"fill\":{\"color\":\"#2a3f5f\"},\"line\":{\"color\":\"rgb(17,17,17)\"}},\"type\":\"table\"}],\"barpolar\":[{\"marker\":{\"line\":{\"color\":\"rgb(17,17,17)\",\"width\":0.5},\"pattern\":{\"fillmode\":\"overlay\",\"size\":10,\"solidity\":0.2}},\"type\":\"barpolar\"}],\"pie\":[{\"automargin\":true,\"type\":\"pie\"}]},\"layout\":{\"autotypenumbers\":\"strict\",\"colorway\":[\"#636efa\",\"#EF553B\",\"#00cc96\",\"#ab63fa\",\"#FFA15A\",\"#19d3f3\",\"#FF6692\",\"#B6E880\",\"#FF97FF\",\"#FECB52\"],\"font\":{\"color\":\"#f2f5fa\"},\"hovermode\":\"closest\",\"hoverlabel\":{\"align\":\"left\"},\"paper_bgcolor\":\"rgb(17,17,17)\",\"plot_bgcolor\":\"rgb(17,17,17)\",\"polar\":{\"bgcolor\":\"rgb(17,17,17)\",\"angularaxis\":{\"gridcolor\":\"#506784\",\"linecolor\":\"#506784\",\"ticks\":\"\"},\"radialaxis\":{\"gridcolor\":\"#506784\",\"linecolor\":\"#506784\",\"ticks\":\"\"}},\"ternary\":{\"bgcolor\":\"rgb(17,17,17)\",\"aaxis\":{\"gridcolor\":\"#506784\",\"linecolor\":\"#506784\",\"ticks\":\"\"},\"baxis\":{\"gridcolor\":\"#506784\",\"linecolor\":\"#506784\",\"ticks\":\"\"},\"caxis\":{\"gridcolor\":\"#506784\",\"linecolor\":\"#506784\",\"ticks\":\"\"}},\"coloraxis\":{\"colorbar\":{\"outlinewidth\":0,\"ticks\":\"\"}},\"colorscale\":{\"sequential\":[[0.0,\"#0d0887\"],[0.1111111111111111,\"#46039f\"],[0.2222222222222222,\"#7201a8\"],[0.3333333333333333,\"#9c179e\"],[0.4444444444444444,\"#bd3786\"],[0.5555555555555556,\"#d8576b\"],[0.6666666666666666,\"#ed7953\"],[0.7777777777777778,\"#fb9f3a\"],[0.8888888888888888,\"#fdca26\"],[1.0,\"#f0f921\"]],\"sequentialminus\":[[0.0,\"#0d0887\"],[0.1111111111111111,\"#46039f\"],[0.2222222222222222,\"#7201a8\"],[0.3333333333333333,\"#9c179e\"],[0.4444444444444444,\"#bd3786\"],[0.5555555555555556,\"#d8576b\"],[0.6666666666666666,\"#ed7953\"],[0.7777777777777778,\"#fb9f3a\"],[0.8888888888888888,\"#fdca26\"],[1.0,\"#f0f921\"]],\"diverging\":[[0,\"#8e0152\"],[0.1,\"#c51b7d\"],[0.2,\"#de77ae\"],[0.3,\"#f1b6da\"],[0.4,\"#fde0ef\"],[0.5,\"#f7f7f7\"],[0.6,\"#e6f5d0\"],[0.7,\"#b8e186\"],[0.8,\"#7fbc41\"],[0.9,\"#4d9221\"],[1,\"#276419\"]]},\"xaxis\":{\"gridcolor\":\"#283442\",\"linecolor\":\"#506784\",\"ticks\":\"\",\"title\":{\"standoff\":15},\"zerolinecolor\":\"#283442\",\"automargin\":true,\"zerolinewidth\":2},\"yaxis\":{\"gridcolor\":\"#283442\",\"linecolor\":\"#506784\",\"ticks\":\"\",\"title\":{\"standoff\":15},\"zerolinecolor\":\"#283442\",\"automargin\":true,\"zerolinewidth\":2},\"scene\":{\"xaxis\":{\"backgroundcolor\":\"rgb(17,17,17)\",\"gridcolor\":\"#506784\",\"linecolor\":\"#506784\",\"showbackground\":true,\"ticks\":\"\",\"zerolinecolor\":\"#C8D4E3\",\"gridwidth\":2},\"yaxis\":{\"backgroundcolor\":\"rgb(17,17,17)\",\"gridcolor\":\"#506784\",\"linecolor\":\"#506784\",\"showbackground\":true,\"ticks\":\"\",\"zerolinecolor\":\"#C8D4E3\",\"gridwidth\":2},\"zaxis\":{\"backgroundcolor\":\"rgb(17,17,17)\",\"gridcolor\":\"#506784\",\"linecolor\":\"#506784\",\"showbackground\":true,\"ticks\":\"\",\"zerolinecolor\":\"#C8D4E3\",\"gridwidth\":2}},\"shapedefaults\":{\"line\":{\"color\":\"#f2f5fa\"}},\"annotationdefaults\":{\"arrowcolor\":\"#f2f5fa\",\"arrowhead\":0,\"arrowwidth\":1},\"geo\":{\"bgcolor\":\"rgb(17,17,17)\",\"landcolor\":\"rgb(17,17,17)\",\"subunitcolor\":\"#506784\",\"showland\":true,\"showlakes\":true,\"lakecolor\":\"rgb(17,17,17)\"},\"title\":{\"x\":0.05},\"updatemenudefaults\":{\"bgcolor\":\"#506784\",\"borderwidth\":0},\"sliderdefaults\":{\"bgcolor\":\"#C8D4E3\",\"borderwidth\":1,\"bordercolor\":\"rgb(17,17,17)\",\"tickwidth\":0},\"mapbox\":{\"style\":\"dark\"}}},\"legend\":{\"tracegroupgap\":0},\"title\":{\"text\":\"Swedish population by age groups\"}},                        {\"responsive\": true}                    ).then(function(){\n                            \nvar gd = document.getElementById('67af29a6-80e8-45ef-bde3-332b56df3336');\nvar x = new MutationObserver(function (mutations, observer) {{\n        var display = window.getComputedStyle(gd).display;\n        if (!display || display === 'none') {{\n            console.log([gd, 'removed!']);\n            Plotly.purge(gd);\n            observer.disconnect();\n        }}\n}});\n\n// Listen for the removal of the full notebook cells\nvar notebookContainer = gd.closest('#notebook-container');\nif (notebookContainer) {{\n    x.observe(notebookContainer, {childList: true});\n}}\n\n// Listen for the clearing of the current output cell\nvar outputEl = gd.closest('.output');\nif (outputEl) {{\n    x.observe(outputEl, {childList: true});\n}}\n\n                        })                };                });            </script>        </div>"
     },
     "metadata": {},
     "output_type": "display_data"
    }
   ],
   "source": [
    "category_order = df_age_ranges_population[\"Ålder\"].tolist()\n",
    "\n",
    "age_group_population_chart = px.pie(\n",
    "    df_age_ranges_population, names=\"Ålder\", values=\"Befolkning\", \n",
    "    title=\"Swedish population by age groups\", category_orders={\"Ålder\": category_order}\n",
    ")\n",
    "age_group_population_chart.show()\n",
    "age_group_population_chart.write_html(\"./Visualisations/Task_2_plotly_swedish_population_by_age_group.html\")"
   ],
   "metadata": {
    "collapsed": false,
    "ExecuteTime": {
     "end_time": "2023-11-14T07:58:34.674916300Z",
     "start_time": "2023-11-14T07:58:34.624719400Z"
    }
   },
   "id": "1eb19f41ce221b9"
  },
  {
   "cell_type": "markdown",
   "source": [
    "### Task F\n",
    "Diagram with amount of doses"
   ],
   "metadata": {
    "collapsed": false
   },
   "id": "d9dce8af301dd87a"
  },
  {
   "cell_type": "code",
   "execution_count": 169,
   "outputs": [
    {
     "data": {
      "text/plain": "   Län        Län_namn  Kommun     Kommun_namn           Ålder  Befolkning  \\\n0    1  Stockholms län     114  Upplands Väsby           12-15        2422   \n1    1  Stockholms län     114  Upplands Väsby           16-17        1203   \n2    1  Stockholms län     114  Upplands Väsby           18-29        6692   \n3    1  Stockholms län     114  Upplands Väsby           30-39        7332   \n4    1  Stockholms län     114  Upplands Väsby           40-49        6946   \n5    1  Stockholms län     114  Upplands Väsby           50-59        6332   \n6    1  Stockholms län     114  Upplands Väsby           60-69        4258   \n7    1  Stockholms län     114  Upplands Väsby           70-79        3987   \n8    1  Stockholms län     114  Upplands Väsby           80-89        1934   \n9    1  Stockholms län     114  Upplands Väsby  90 eller äldre         337   \n\n   Antal minst 1 dos  Antal minst 2 doser  Antal 3 doser  Antal 4 doser  \\\n0               1206                 1046            NaN            NaN   \n1                839                  755            NaN            NaN   \n2               4887                 4469         1959.0            NaN   \n3               5542                 5240         2878.0            NaN   \n4               5592                 5429         3719.0            NaN   \n5               5644                 5558         4535.0            NaN   \n6               3829                 3786         3335.0            NaN   \n7               3786                 3758         3584.0         3051.0   \n8               1859                 1856         1802.0         1617.0   \n9                330                  327          319.0          277.0   \n\n   Andel minst 1 dos  Andel minst 2 doser  Andel 3 doser  Andel 4 doser  \n0           0.497936             0.431874       0.000000       0.000000  \n1           0.697423             0.627598       0.000000       0.000000  \n2           0.730275             0.667812       0.292738       0.000000  \n3           0.755865             0.714675       0.392526       0.000000  \n4           0.805068             0.781601       0.535416       0.000000  \n5           0.891346             0.877764       0.716203       0.000000  \n6           0.899248             0.889150       0.783232       0.000000  \n7           0.949586             0.942563       0.898921       0.765237  \n8           0.961220             0.959669       0.931748       0.836091  \n9           0.979228             0.970326       0.946588       0.821958  ",
      "text/html": "<div>\n<style scoped>\n    .dataframe tbody tr th:only-of-type {\n        vertical-align: middle;\n    }\n\n    .dataframe tbody tr th {\n        vertical-align: top;\n    }\n\n    .dataframe thead th {\n        text-align: right;\n    }\n</style>\n<table border=\"1\" class=\"dataframe\">\n  <thead>\n    <tr style=\"text-align: right;\">\n      <th></th>\n      <th>Län</th>\n      <th>Län_namn</th>\n      <th>Kommun</th>\n      <th>Kommun_namn</th>\n      <th>Ålder</th>\n      <th>Befolkning</th>\n      <th>Antal minst 1 dos</th>\n      <th>Antal minst 2 doser</th>\n      <th>Antal 3 doser</th>\n      <th>Antal 4 doser</th>\n      <th>Andel minst 1 dos</th>\n      <th>Andel minst 2 doser</th>\n      <th>Andel 3 doser</th>\n      <th>Andel 4 doser</th>\n    </tr>\n  </thead>\n  <tbody>\n    <tr>\n      <th>0</th>\n      <td>1</td>\n      <td>Stockholms län</td>\n      <td>114</td>\n      <td>Upplands Väsby</td>\n      <td>12-15</td>\n      <td>2422</td>\n      <td>1206</td>\n      <td>1046</td>\n      <td>NaN</td>\n      <td>NaN</td>\n      <td>0.497936</td>\n      <td>0.431874</td>\n      <td>0.000000</td>\n      <td>0.000000</td>\n    </tr>\n    <tr>\n      <th>1</th>\n      <td>1</td>\n      <td>Stockholms län</td>\n      <td>114</td>\n      <td>Upplands Väsby</td>\n      <td>16-17</td>\n      <td>1203</td>\n      <td>839</td>\n      <td>755</td>\n      <td>NaN</td>\n      <td>NaN</td>\n      <td>0.697423</td>\n      <td>0.627598</td>\n      <td>0.000000</td>\n      <td>0.000000</td>\n    </tr>\n    <tr>\n      <th>2</th>\n      <td>1</td>\n      <td>Stockholms län</td>\n      <td>114</td>\n      <td>Upplands Väsby</td>\n      <td>18-29</td>\n      <td>6692</td>\n      <td>4887</td>\n      <td>4469</td>\n      <td>1959.0</td>\n      <td>NaN</td>\n      <td>0.730275</td>\n      <td>0.667812</td>\n      <td>0.292738</td>\n      <td>0.000000</td>\n    </tr>\n    <tr>\n      <th>3</th>\n      <td>1</td>\n      <td>Stockholms län</td>\n      <td>114</td>\n      <td>Upplands Väsby</td>\n      <td>30-39</td>\n      <td>7332</td>\n      <td>5542</td>\n      <td>5240</td>\n      <td>2878.0</td>\n      <td>NaN</td>\n      <td>0.755865</td>\n      <td>0.714675</td>\n      <td>0.392526</td>\n      <td>0.000000</td>\n    </tr>\n    <tr>\n      <th>4</th>\n      <td>1</td>\n      <td>Stockholms län</td>\n      <td>114</td>\n      <td>Upplands Väsby</td>\n      <td>40-49</td>\n      <td>6946</td>\n      <td>5592</td>\n      <td>5429</td>\n      <td>3719.0</td>\n      <td>NaN</td>\n      <td>0.805068</td>\n      <td>0.781601</td>\n      <td>0.535416</td>\n      <td>0.000000</td>\n    </tr>\n    <tr>\n      <th>5</th>\n      <td>1</td>\n      <td>Stockholms län</td>\n      <td>114</td>\n      <td>Upplands Väsby</td>\n      <td>50-59</td>\n      <td>6332</td>\n      <td>5644</td>\n      <td>5558</td>\n      <td>4535.0</td>\n      <td>NaN</td>\n      <td>0.891346</td>\n      <td>0.877764</td>\n      <td>0.716203</td>\n      <td>0.000000</td>\n    </tr>\n    <tr>\n      <th>6</th>\n      <td>1</td>\n      <td>Stockholms län</td>\n      <td>114</td>\n      <td>Upplands Väsby</td>\n      <td>60-69</td>\n      <td>4258</td>\n      <td>3829</td>\n      <td>3786</td>\n      <td>3335.0</td>\n      <td>NaN</td>\n      <td>0.899248</td>\n      <td>0.889150</td>\n      <td>0.783232</td>\n      <td>0.000000</td>\n    </tr>\n    <tr>\n      <th>7</th>\n      <td>1</td>\n      <td>Stockholms län</td>\n      <td>114</td>\n      <td>Upplands Väsby</td>\n      <td>70-79</td>\n      <td>3987</td>\n      <td>3786</td>\n      <td>3758</td>\n      <td>3584.0</td>\n      <td>3051.0</td>\n      <td>0.949586</td>\n      <td>0.942563</td>\n      <td>0.898921</td>\n      <td>0.765237</td>\n    </tr>\n    <tr>\n      <th>8</th>\n      <td>1</td>\n      <td>Stockholms län</td>\n      <td>114</td>\n      <td>Upplands Väsby</td>\n      <td>80-89</td>\n      <td>1934</td>\n      <td>1859</td>\n      <td>1856</td>\n      <td>1802.0</td>\n      <td>1617.0</td>\n      <td>0.961220</td>\n      <td>0.959669</td>\n      <td>0.931748</td>\n      <td>0.836091</td>\n    </tr>\n    <tr>\n      <th>9</th>\n      <td>1</td>\n      <td>Stockholms län</td>\n      <td>114</td>\n      <td>Upplands Väsby</td>\n      <td>90 eller äldre</td>\n      <td>337</td>\n      <td>330</td>\n      <td>327</td>\n      <td>319.0</td>\n      <td>277.0</td>\n      <td>0.979228</td>\n      <td>0.970326</td>\n      <td>0.946588</td>\n      <td>0.821958</td>\n    </tr>\n  </tbody>\n</table>\n</div>"
     },
     "execution_count": 169,
     "metadata": {},
     "output_type": "execute_result"
    }
   ],
   "source": [
    "df_vaccine_data.head(10)"
   ],
   "metadata": {
    "collapsed": false,
    "ExecuteTime": {
     "end_time": "2023-11-14T09:20:27.803016500Z",
     "start_time": "2023-11-14T09:20:27.783349900Z"
    }
   },
   "id": "478686c5ad9bb3e"
  },
  {
   "cell_type": "code",
   "execution_count": 170,
   "outputs": [
    {
     "data": {
      "text/plain": "Län                       0\nLän_namn                  0\nKommun                    0\nKommun_namn               0\nÅlder                     0\nBefolkning                0\nAntal minst 1 dos         0\nAntal minst 2 doser       0\nAntal 3 doser           580\nAntal 4 doser          2030\nAndel minst 1 dos         0\nAndel minst 2 doser       0\nAndel 3 doser             0\nAndel 4 doser             0\ndtype: int64"
     },
     "execution_count": 170,
     "metadata": {},
     "output_type": "execute_result"
    }
   ],
   "source": [
    "df_vaccine_data.isna().sum()"
   ],
   "metadata": {
    "collapsed": false,
    "ExecuteTime": {
     "end_time": "2023-11-14T09:20:31.714784500Z",
     "start_time": "2023-11-14T09:20:31.701225400Z"
    }
   },
   "id": "a04008749459c7e7"
  },
  {
   "cell_type": "markdown",
   "source": [
    "There are quite a few NaN values in the dataset that we need to clean.\n",
    "(also cleaning \"Andel 4 doser\" since it will be used in the next task)"
   ],
   "metadata": {
    "collapsed": false
   },
   "id": "461ae6af47414e6c"
  },
  {
   "cell_type": "code",
   "execution_count": 192,
   "outputs": [
    {
     "data": {
      "text/plain": "Län                       0\nLän_namn                  0\nKommun                    0\nKommun_namn               0\nÅlder                     0\nBefolkning                0\nAntal minst 1 dos         0\nAntal minst 2 doser       0\nAntal 3 doser           580\nAntal 4 doser          2030\nAndel minst 1 dos         0\nAndel minst 2 doser       0\nAndel 3 doser             0\nAndel 4 doser             0\ndtype: int64"
     },
     "execution_count": 192,
     "metadata": {},
     "output_type": "execute_result"
    }
   ],
   "source": [
    "df_vaccine_data[\"Andel 3 doser\"] = df_vaccine_data[\"Andel 3 doser\"].fillna(0)\n",
    "df_vaccine_data[\"Andel 4 doser\"] = df_vaccine_data[\"Andel 4 doser\"].fillna(0)\n",
    "df_vaccine_data.isna().sum()"
   ],
   "metadata": {
    "collapsed": false,
    "ExecuteTime": {
     "end_time": "2023-11-14T09:55:04.901733100Z",
     "start_time": "2023-11-14T09:55:04.868059600Z"
    }
   },
   "id": "47bab99a0e1f2cd7"
  },
  {
   "cell_type": "code",
   "execution_count": 193,
   "outputs": [],
   "source": [
    "grouped_counties = df_vaccine_data.groupby(\"Län_namn\")\n",
    "vaccinated_per_county = grouped_counties[\n",
    "                            [\"Andel minst 1 dos\", \"Andel minst 2 doser\", \"Andel 3 doser\", \"Andel 4 doser\"]\n",
    "                        ].mean() *100"
   ],
   "metadata": {
    "collapsed": false,
    "ExecuteTime": {
     "end_time": "2023-11-14T09:55:06.290038900Z",
     "start_time": "2023-11-14T09:55:06.259585700Z"
    }
   },
   "id": "cdebe095c8e8182a"
  },
  {
   "cell_type": "code",
   "execution_count": 194,
   "outputs": [
    {
     "data": {
      "text/plain": "                Län_namn  Andel minst 1 dos  Andel minst 2 doser  \\\n0           Blekinge län          85.645562            84.199263   \n1           Dalarnas län          85.555434            84.134352   \n2           Gotlands län          89.034008            87.341121   \n3         Gävleborgs län          85.168444            82.888678   \n4           Hallands län          85.923815            84.421520   \n5          Jämtlands län          86.092991            84.396578   \n6         Jönköpings län          86.004452            84.670980   \n7             Kalmar län          85.129261            83.946415   \n8         Kronobergs län          82.498228            81.019738   \n9        Norrbottens län          87.033895            85.537685   \n10             Skåne län          83.586733            81.909372   \n11        Stockholms län          83.586828            80.593619   \n12     Södermanlands län          85.791380            83.344720   \n13           Uppsala län          88.242125            86.462405   \n14         Värmlands län          88.083939            86.878431   \n15     Västerbottens län          88.777276            87.432633   \n16   Västernorrlands län          87.226690            85.030002   \n17      Västmanlands län          83.648946            81.411815   \n18  Västra Götalands län          85.942073            83.968784   \n19            Örebro län          85.721485            84.344199   \n20     Östergötlands län          87.930850            86.861533   \n\n    Andel 3 doser  Andel 4 doser  \n0       59.592201      24.815388  \n1       59.475201      26.436745  \n2       62.246828      26.338467  \n3       57.957835      25.300869  \n4       59.935017      25.794072  \n5       57.845140      24.872016  \n6       59.975818      25.922680  \n7       60.302130      25.815887  \n8       55.650754      24.569816  \n9       60.227573      25.444300  \n10      55.866455      24.636018  \n11      56.832073      24.225738  \n12      58.104702      25.588125  \n13      61.398145      26.374325  \n14      61.601844      26.734018  \n15      61.853894      27.123339  \n16      60.007273      25.014668  \n17      57.739257      25.648359  \n18      57.790836      25.341537  \n19      59.917004      25.457560  \n20      62.376387      26.562731  ",
      "text/html": "<div>\n<style scoped>\n    .dataframe tbody tr th:only-of-type {\n        vertical-align: middle;\n    }\n\n    .dataframe tbody tr th {\n        vertical-align: top;\n    }\n\n    .dataframe thead th {\n        text-align: right;\n    }\n</style>\n<table border=\"1\" class=\"dataframe\">\n  <thead>\n    <tr style=\"text-align: right;\">\n      <th></th>\n      <th>Län_namn</th>\n      <th>Andel minst 1 dos</th>\n      <th>Andel minst 2 doser</th>\n      <th>Andel 3 doser</th>\n      <th>Andel 4 doser</th>\n    </tr>\n  </thead>\n  <tbody>\n    <tr>\n      <th>0</th>\n      <td>Blekinge län</td>\n      <td>85.645562</td>\n      <td>84.199263</td>\n      <td>59.592201</td>\n      <td>24.815388</td>\n    </tr>\n    <tr>\n      <th>1</th>\n      <td>Dalarnas län</td>\n      <td>85.555434</td>\n      <td>84.134352</td>\n      <td>59.475201</td>\n      <td>26.436745</td>\n    </tr>\n    <tr>\n      <th>2</th>\n      <td>Gotlands län</td>\n      <td>89.034008</td>\n      <td>87.341121</td>\n      <td>62.246828</td>\n      <td>26.338467</td>\n    </tr>\n    <tr>\n      <th>3</th>\n      <td>Gävleborgs län</td>\n      <td>85.168444</td>\n      <td>82.888678</td>\n      <td>57.957835</td>\n      <td>25.300869</td>\n    </tr>\n    <tr>\n      <th>4</th>\n      <td>Hallands län</td>\n      <td>85.923815</td>\n      <td>84.421520</td>\n      <td>59.935017</td>\n      <td>25.794072</td>\n    </tr>\n    <tr>\n      <th>5</th>\n      <td>Jämtlands län</td>\n      <td>86.092991</td>\n      <td>84.396578</td>\n      <td>57.845140</td>\n      <td>24.872016</td>\n    </tr>\n    <tr>\n      <th>6</th>\n      <td>Jönköpings län</td>\n      <td>86.004452</td>\n      <td>84.670980</td>\n      <td>59.975818</td>\n      <td>25.922680</td>\n    </tr>\n    <tr>\n      <th>7</th>\n      <td>Kalmar län</td>\n      <td>85.129261</td>\n      <td>83.946415</td>\n      <td>60.302130</td>\n      <td>25.815887</td>\n    </tr>\n    <tr>\n      <th>8</th>\n      <td>Kronobergs län</td>\n      <td>82.498228</td>\n      <td>81.019738</td>\n      <td>55.650754</td>\n      <td>24.569816</td>\n    </tr>\n    <tr>\n      <th>9</th>\n      <td>Norrbottens län</td>\n      <td>87.033895</td>\n      <td>85.537685</td>\n      <td>60.227573</td>\n      <td>25.444300</td>\n    </tr>\n    <tr>\n      <th>10</th>\n      <td>Skåne län</td>\n      <td>83.586733</td>\n      <td>81.909372</td>\n      <td>55.866455</td>\n      <td>24.636018</td>\n    </tr>\n    <tr>\n      <th>11</th>\n      <td>Stockholms län</td>\n      <td>83.586828</td>\n      <td>80.593619</td>\n      <td>56.832073</td>\n      <td>24.225738</td>\n    </tr>\n    <tr>\n      <th>12</th>\n      <td>Södermanlands län</td>\n      <td>85.791380</td>\n      <td>83.344720</td>\n      <td>58.104702</td>\n      <td>25.588125</td>\n    </tr>\n    <tr>\n      <th>13</th>\n      <td>Uppsala län</td>\n      <td>88.242125</td>\n      <td>86.462405</td>\n      <td>61.398145</td>\n      <td>26.374325</td>\n    </tr>\n    <tr>\n      <th>14</th>\n      <td>Värmlands län</td>\n      <td>88.083939</td>\n      <td>86.878431</td>\n      <td>61.601844</td>\n      <td>26.734018</td>\n    </tr>\n    <tr>\n      <th>15</th>\n      <td>Västerbottens län</td>\n      <td>88.777276</td>\n      <td>87.432633</td>\n      <td>61.853894</td>\n      <td>27.123339</td>\n    </tr>\n    <tr>\n      <th>16</th>\n      <td>Västernorrlands län</td>\n      <td>87.226690</td>\n      <td>85.030002</td>\n      <td>60.007273</td>\n      <td>25.014668</td>\n    </tr>\n    <tr>\n      <th>17</th>\n      <td>Västmanlands län</td>\n      <td>83.648946</td>\n      <td>81.411815</td>\n      <td>57.739257</td>\n      <td>25.648359</td>\n    </tr>\n    <tr>\n      <th>18</th>\n      <td>Västra Götalands län</td>\n      <td>85.942073</td>\n      <td>83.968784</td>\n      <td>57.790836</td>\n      <td>25.341537</td>\n    </tr>\n    <tr>\n      <th>19</th>\n      <td>Örebro län</td>\n      <td>85.721485</td>\n      <td>84.344199</td>\n      <td>59.917004</td>\n      <td>25.457560</td>\n    </tr>\n    <tr>\n      <th>20</th>\n      <td>Östergötlands län</td>\n      <td>87.930850</td>\n      <td>86.861533</td>\n      <td>62.376387</td>\n      <td>26.562731</td>\n    </tr>\n  </tbody>\n</table>\n</div>"
     },
     "execution_count": 194,
     "metadata": {},
     "output_type": "execute_result"
    }
   ],
   "source": [
    "vaccinated_per_county = vaccinated_per_county.reset_index()\n",
    "vaccinated_per_county"
   ],
   "metadata": {
    "collapsed": false,
    "ExecuteTime": {
     "end_time": "2023-11-14T09:55:06.887489700Z",
     "start_time": "2023-11-14T09:55:06.861657200Z"
    }
   },
   "id": "58e0c7d6b165dd21"
  },
  {
   "cell_type": "code",
   "execution_count": 203,
   "outputs": [
    {
     "data": {
      "application/vnd.plotly.v1+json": {
       "data": [
        {
         "alignmentgroup": "True",
         "hovertemplate": "Doses (%)=Andel minst 1 dos<br>Län=%{x}<br>Percentage=%{y}<extra></extra>",
         "legendgroup": "Andel minst 1 dos",
         "marker": {
          "color": "#636efa",
          "pattern": {
           "shape": ""
          }
         },
         "name": "Andel minst 1 dos",
         "offsetgroup": "Andel minst 1 dos",
         "orientation": "v",
         "showlegend": true,
         "textposition": "auto",
         "x": [
          "Blekinge län",
          "Dalarnas län",
          "Gotlands län",
          "Gävleborgs län",
          "Hallands län",
          "Jämtlands län",
          "Jönköpings län",
          "Kalmar län",
          "Kronobergs län",
          "Norrbottens län",
          "Skåne län",
          "Stockholms län",
          "Södermanlands län",
          "Uppsala län",
          "Värmlands län",
          "Västerbottens län",
          "Västernorrlands län",
          "Västmanlands län",
          "Västra Götalands län",
          "Örebro län",
          "Östergötlands län"
         ],
         "xaxis": "x",
         "y": [
          85.64556208437777,
          85.55543405783187,
          89.0340084510786,
          85.16844384648172,
          85.92381513010524,
          86.0929907205495,
          86.0044523807034,
          85.12926088968922,
          82.49822825558188,
          87.03389465139483,
          83.58673305565308,
          83.58682831084586,
          85.79137976820294,
          88.24212515250439,
          88.08393931378062,
          88.77727610504377,
          87.22669023266013,
          83.64894610815031,
          85.94207297419256,
          85.72148530962767,
          87.93085042959842
         ],
         "yaxis": "y",
         "type": "bar"
        },
        {
         "alignmentgroup": "True",
         "hovertemplate": "Doses (%)=Andel minst 2 doser<br>Län=%{x}<br>Percentage=%{y}<extra></extra>",
         "legendgroup": "Andel minst 2 doser",
         "marker": {
          "color": "#EF553B",
          "pattern": {
           "shape": ""
          }
         },
         "name": "Andel minst 2 doser",
         "offsetgroup": "Andel minst 2 doser",
         "orientation": "v",
         "showlegend": true,
         "textposition": "auto",
         "x": [
          "Blekinge län",
          "Dalarnas län",
          "Gotlands län",
          "Gävleborgs län",
          "Hallands län",
          "Jämtlands län",
          "Jönköpings län",
          "Kalmar län",
          "Kronobergs län",
          "Norrbottens län",
          "Skåne län",
          "Stockholms län",
          "Södermanlands län",
          "Uppsala län",
          "Värmlands län",
          "Västerbottens län",
          "Västernorrlands län",
          "Västmanlands län",
          "Västra Götalands län",
          "Örebro län",
          "Östergötlands län"
         ],
         "xaxis": "x",
         "y": [
          84.19926340244524,
          84.13435233291447,
          87.34112095680831,
          82.88867830043593,
          84.42152008062985,
          84.39657833731002,
          84.67098012617642,
          83.94641495822944,
          81.01973845363169,
          85.53768496929301,
          81.90937226123961,
          80.59361929799323,
          83.34472045922483,
          86.46240460739935,
          86.8784309660129,
          87.43263330983262,
          85.03000174433632,
          81.4118147978376,
          83.96878398137663,
          84.34419870605207,
          86.86153254968713
         ],
         "yaxis": "y",
         "type": "bar"
        },
        {
         "alignmentgroup": "True",
         "hovertemplate": "Doses (%)=Andel 3 doser<br>Län=%{x}<br>Percentage=%{y}<extra></extra>",
         "legendgroup": "Andel 3 doser",
         "marker": {
          "color": "#00cc96",
          "pattern": {
           "shape": ""
          }
         },
         "name": "Andel 3 doser",
         "offsetgroup": "Andel 3 doser",
         "orientation": "v",
         "showlegend": true,
         "textposition": "auto",
         "x": [
          "Blekinge län",
          "Dalarnas län",
          "Gotlands län",
          "Gävleborgs län",
          "Hallands län",
          "Jämtlands län",
          "Jönköpings län",
          "Kalmar län",
          "Kronobergs län",
          "Norrbottens län",
          "Skåne län",
          "Stockholms län",
          "Södermanlands län",
          "Uppsala län",
          "Värmlands län",
          "Västerbottens län",
          "Västernorrlands län",
          "Västmanlands län",
          "Västra Götalands län",
          "Örebro län",
          "Östergötlands län"
         ],
         "xaxis": "x",
         "y": [
          59.59220063276989,
          59.47520130637146,
          62.24682777748789,
          57.95783492163471,
          59.935016593281546,
          57.84513950988684,
          59.975817587746405,
          60.30212950727088,
          55.65075405985056,
          60.22757301502711,
          55.866454554570254,
          56.83207284440679,
          58.10470176699995,
          61.39814548726197,
          61.601844078618825,
          61.853893664967345,
          60.00727341050178,
          57.73925688602859,
          57.79083553010511,
          59.91700440494826,
          62.376386935662524
         ],
         "yaxis": "y",
         "type": "bar"
        }
       ],
       "layout": {
        "template": {
         "data": {
          "histogram2dcontour": [
           {
            "type": "histogram2dcontour",
            "colorbar": {
             "outlinewidth": 0,
             "ticks": ""
            },
            "colorscale": [
             [
              0.0,
              "#0d0887"
             ],
             [
              0.1111111111111111,
              "#46039f"
             ],
             [
              0.2222222222222222,
              "#7201a8"
             ],
             [
              0.3333333333333333,
              "#9c179e"
             ],
             [
              0.4444444444444444,
              "#bd3786"
             ],
             [
              0.5555555555555556,
              "#d8576b"
             ],
             [
              0.6666666666666666,
              "#ed7953"
             ],
             [
              0.7777777777777778,
              "#fb9f3a"
             ],
             [
              0.8888888888888888,
              "#fdca26"
             ],
             [
              1.0,
              "#f0f921"
             ]
            ]
           }
          ],
          "choropleth": [
           {
            "type": "choropleth",
            "colorbar": {
             "outlinewidth": 0,
             "ticks": ""
            }
           }
          ],
          "histogram2d": [
           {
            "type": "histogram2d",
            "colorbar": {
             "outlinewidth": 0,
             "ticks": ""
            },
            "colorscale": [
             [
              0.0,
              "#0d0887"
             ],
             [
              0.1111111111111111,
              "#46039f"
             ],
             [
              0.2222222222222222,
              "#7201a8"
             ],
             [
              0.3333333333333333,
              "#9c179e"
             ],
             [
              0.4444444444444444,
              "#bd3786"
             ],
             [
              0.5555555555555556,
              "#d8576b"
             ],
             [
              0.6666666666666666,
              "#ed7953"
             ],
             [
              0.7777777777777778,
              "#fb9f3a"
             ],
             [
              0.8888888888888888,
              "#fdca26"
             ],
             [
              1.0,
              "#f0f921"
             ]
            ]
           }
          ],
          "heatmap": [
           {
            "type": "heatmap",
            "colorbar": {
             "outlinewidth": 0,
             "ticks": ""
            },
            "colorscale": [
             [
              0.0,
              "#0d0887"
             ],
             [
              0.1111111111111111,
              "#46039f"
             ],
             [
              0.2222222222222222,
              "#7201a8"
             ],
             [
              0.3333333333333333,
              "#9c179e"
             ],
             [
              0.4444444444444444,
              "#bd3786"
             ],
             [
              0.5555555555555556,
              "#d8576b"
             ],
             [
              0.6666666666666666,
              "#ed7953"
             ],
             [
              0.7777777777777778,
              "#fb9f3a"
             ],
             [
              0.8888888888888888,
              "#fdca26"
             ],
             [
              1.0,
              "#f0f921"
             ]
            ]
           }
          ],
          "heatmapgl": [
           {
            "type": "heatmapgl",
            "colorbar": {
             "outlinewidth": 0,
             "ticks": ""
            },
            "colorscale": [
             [
              0.0,
              "#0d0887"
             ],
             [
              0.1111111111111111,
              "#46039f"
             ],
             [
              0.2222222222222222,
              "#7201a8"
             ],
             [
              0.3333333333333333,
              "#9c179e"
             ],
             [
              0.4444444444444444,
              "#bd3786"
             ],
             [
              0.5555555555555556,
              "#d8576b"
             ],
             [
              0.6666666666666666,
              "#ed7953"
             ],
             [
              0.7777777777777778,
              "#fb9f3a"
             ],
             [
              0.8888888888888888,
              "#fdca26"
             ],
             [
              1.0,
              "#f0f921"
             ]
            ]
           }
          ],
          "contourcarpet": [
           {
            "type": "contourcarpet",
            "colorbar": {
             "outlinewidth": 0,
             "ticks": ""
            }
           }
          ],
          "contour": [
           {
            "type": "contour",
            "colorbar": {
             "outlinewidth": 0,
             "ticks": ""
            },
            "colorscale": [
             [
              0.0,
              "#0d0887"
             ],
             [
              0.1111111111111111,
              "#46039f"
             ],
             [
              0.2222222222222222,
              "#7201a8"
             ],
             [
              0.3333333333333333,
              "#9c179e"
             ],
             [
              0.4444444444444444,
              "#bd3786"
             ],
             [
              0.5555555555555556,
              "#d8576b"
             ],
             [
              0.6666666666666666,
              "#ed7953"
             ],
             [
              0.7777777777777778,
              "#fb9f3a"
             ],
             [
              0.8888888888888888,
              "#fdca26"
             ],
             [
              1.0,
              "#f0f921"
             ]
            ]
           }
          ],
          "surface": [
           {
            "type": "surface",
            "colorbar": {
             "outlinewidth": 0,
             "ticks": ""
            },
            "colorscale": [
             [
              0.0,
              "#0d0887"
             ],
             [
              0.1111111111111111,
              "#46039f"
             ],
             [
              0.2222222222222222,
              "#7201a8"
             ],
             [
              0.3333333333333333,
              "#9c179e"
             ],
             [
              0.4444444444444444,
              "#bd3786"
             ],
             [
              0.5555555555555556,
              "#d8576b"
             ],
             [
              0.6666666666666666,
              "#ed7953"
             ],
             [
              0.7777777777777778,
              "#fb9f3a"
             ],
             [
              0.8888888888888888,
              "#fdca26"
             ],
             [
              1.0,
              "#f0f921"
             ]
            ]
           }
          ],
          "mesh3d": [
           {
            "type": "mesh3d",
            "colorbar": {
             "outlinewidth": 0,
             "ticks": ""
            }
           }
          ],
          "scatter": [
           {
            "marker": {
             "line": {
              "color": "#283442"
             }
            },
            "type": "scatter"
           }
          ],
          "parcoords": [
           {
            "type": "parcoords",
            "line": {
             "colorbar": {
              "outlinewidth": 0,
              "ticks": ""
             }
            }
           }
          ],
          "scatterpolargl": [
           {
            "type": "scatterpolargl",
            "marker": {
             "colorbar": {
              "outlinewidth": 0,
              "ticks": ""
             }
            }
           }
          ],
          "bar": [
           {
            "error_x": {
             "color": "#f2f5fa"
            },
            "error_y": {
             "color": "#f2f5fa"
            },
            "marker": {
             "line": {
              "color": "rgb(17,17,17)",
              "width": 0.5
             },
             "pattern": {
              "fillmode": "overlay",
              "size": 10,
              "solidity": 0.2
             }
            },
            "type": "bar"
           }
          ],
          "scattergeo": [
           {
            "type": "scattergeo",
            "marker": {
             "colorbar": {
              "outlinewidth": 0,
              "ticks": ""
             }
            }
           }
          ],
          "scatterpolar": [
           {
            "type": "scatterpolar",
            "marker": {
             "colorbar": {
              "outlinewidth": 0,
              "ticks": ""
             }
            }
           }
          ],
          "histogram": [
           {
            "marker": {
             "pattern": {
              "fillmode": "overlay",
              "size": 10,
              "solidity": 0.2
             }
            },
            "type": "histogram"
           }
          ],
          "scattergl": [
           {
            "marker": {
             "line": {
              "color": "#283442"
             }
            },
            "type": "scattergl"
           }
          ],
          "scatter3d": [
           {
            "type": "scatter3d",
            "line": {
             "colorbar": {
              "outlinewidth": 0,
              "ticks": ""
             }
            },
            "marker": {
             "colorbar": {
              "outlinewidth": 0,
              "ticks": ""
             }
            }
           }
          ],
          "scattermapbox": [
           {
            "type": "scattermapbox",
            "marker": {
             "colorbar": {
              "outlinewidth": 0,
              "ticks": ""
             }
            }
           }
          ],
          "scatterternary": [
           {
            "type": "scatterternary",
            "marker": {
             "colorbar": {
              "outlinewidth": 0,
              "ticks": ""
             }
            }
           }
          ],
          "scattercarpet": [
           {
            "type": "scattercarpet",
            "marker": {
             "colorbar": {
              "outlinewidth": 0,
              "ticks": ""
             }
            }
           }
          ],
          "carpet": [
           {
            "aaxis": {
             "endlinecolor": "#A2B1C6",
             "gridcolor": "#506784",
             "linecolor": "#506784",
             "minorgridcolor": "#506784",
             "startlinecolor": "#A2B1C6"
            },
            "baxis": {
             "endlinecolor": "#A2B1C6",
             "gridcolor": "#506784",
             "linecolor": "#506784",
             "minorgridcolor": "#506784",
             "startlinecolor": "#A2B1C6"
            },
            "type": "carpet"
           }
          ],
          "table": [
           {
            "cells": {
             "fill": {
              "color": "#506784"
             },
             "line": {
              "color": "rgb(17,17,17)"
             }
            },
            "header": {
             "fill": {
              "color": "#2a3f5f"
             },
             "line": {
              "color": "rgb(17,17,17)"
             }
            },
            "type": "table"
           }
          ],
          "barpolar": [
           {
            "marker": {
             "line": {
              "color": "rgb(17,17,17)",
              "width": 0.5
             },
             "pattern": {
              "fillmode": "overlay",
              "size": 10,
              "solidity": 0.2
             }
            },
            "type": "barpolar"
           }
          ],
          "pie": [
           {
            "automargin": true,
            "type": "pie"
           }
          ]
         },
         "layout": {
          "autotypenumbers": "strict",
          "colorway": [
           "#636efa",
           "#EF553B",
           "#00cc96",
           "#ab63fa",
           "#FFA15A",
           "#19d3f3",
           "#FF6692",
           "#B6E880",
           "#FF97FF",
           "#FECB52"
          ],
          "font": {
           "color": "#f2f5fa"
          },
          "hovermode": "closest",
          "hoverlabel": {
           "align": "left"
          },
          "paper_bgcolor": "rgb(17,17,17)",
          "plot_bgcolor": "rgb(17,17,17)",
          "polar": {
           "bgcolor": "rgb(17,17,17)",
           "angularaxis": {
            "gridcolor": "#506784",
            "linecolor": "#506784",
            "ticks": ""
           },
           "radialaxis": {
            "gridcolor": "#506784",
            "linecolor": "#506784",
            "ticks": ""
           }
          },
          "ternary": {
           "bgcolor": "rgb(17,17,17)",
           "aaxis": {
            "gridcolor": "#506784",
            "linecolor": "#506784",
            "ticks": ""
           },
           "baxis": {
            "gridcolor": "#506784",
            "linecolor": "#506784",
            "ticks": ""
           },
           "caxis": {
            "gridcolor": "#506784",
            "linecolor": "#506784",
            "ticks": ""
           }
          },
          "coloraxis": {
           "colorbar": {
            "outlinewidth": 0,
            "ticks": ""
           }
          },
          "colorscale": {
           "sequential": [
            [
             0.0,
             "#0d0887"
            ],
            [
             0.1111111111111111,
             "#46039f"
            ],
            [
             0.2222222222222222,
             "#7201a8"
            ],
            [
             0.3333333333333333,
             "#9c179e"
            ],
            [
             0.4444444444444444,
             "#bd3786"
            ],
            [
             0.5555555555555556,
             "#d8576b"
            ],
            [
             0.6666666666666666,
             "#ed7953"
            ],
            [
             0.7777777777777778,
             "#fb9f3a"
            ],
            [
             0.8888888888888888,
             "#fdca26"
            ],
            [
             1.0,
             "#f0f921"
            ]
           ],
           "sequentialminus": [
            [
             0.0,
             "#0d0887"
            ],
            [
             0.1111111111111111,
             "#46039f"
            ],
            [
             0.2222222222222222,
             "#7201a8"
            ],
            [
             0.3333333333333333,
             "#9c179e"
            ],
            [
             0.4444444444444444,
             "#bd3786"
            ],
            [
             0.5555555555555556,
             "#d8576b"
            ],
            [
             0.6666666666666666,
             "#ed7953"
            ],
            [
             0.7777777777777778,
             "#fb9f3a"
            ],
            [
             0.8888888888888888,
             "#fdca26"
            ],
            [
             1.0,
             "#f0f921"
            ]
           ],
           "diverging": [
            [
             0,
             "#8e0152"
            ],
            [
             0.1,
             "#c51b7d"
            ],
            [
             0.2,
             "#de77ae"
            ],
            [
             0.3,
             "#f1b6da"
            ],
            [
             0.4,
             "#fde0ef"
            ],
            [
             0.5,
             "#f7f7f7"
            ],
            [
             0.6,
             "#e6f5d0"
            ],
            [
             0.7,
             "#b8e186"
            ],
            [
             0.8,
             "#7fbc41"
            ],
            [
             0.9,
             "#4d9221"
            ],
            [
             1,
             "#276419"
            ]
           ]
          },
          "xaxis": {
           "gridcolor": "#283442",
           "linecolor": "#506784",
           "ticks": "",
           "title": {
            "standoff": 15
           },
           "zerolinecolor": "#283442",
           "automargin": true,
           "zerolinewidth": 2
          },
          "yaxis": {
           "gridcolor": "#283442",
           "linecolor": "#506784",
           "ticks": "",
           "title": {
            "standoff": 15
           },
           "zerolinecolor": "#283442",
           "automargin": true,
           "zerolinewidth": 2
          },
          "scene": {
           "xaxis": {
            "backgroundcolor": "rgb(17,17,17)",
            "gridcolor": "#506784",
            "linecolor": "#506784",
            "showbackground": true,
            "ticks": "",
            "zerolinecolor": "#C8D4E3",
            "gridwidth": 2
           },
           "yaxis": {
            "backgroundcolor": "rgb(17,17,17)",
            "gridcolor": "#506784",
            "linecolor": "#506784",
            "showbackground": true,
            "ticks": "",
            "zerolinecolor": "#C8D4E3",
            "gridwidth": 2
           },
           "zaxis": {
            "backgroundcolor": "rgb(17,17,17)",
            "gridcolor": "#506784",
            "linecolor": "#506784",
            "showbackground": true,
            "ticks": "",
            "zerolinecolor": "#C8D4E3",
            "gridwidth": 2
           }
          },
          "shapedefaults": {
           "line": {
            "color": "#f2f5fa"
           }
          },
          "annotationdefaults": {
           "arrowcolor": "#f2f5fa",
           "arrowhead": 0,
           "arrowwidth": 1
          },
          "geo": {
           "bgcolor": "rgb(17,17,17)",
           "landcolor": "rgb(17,17,17)",
           "subunitcolor": "#506784",
           "showland": true,
           "showlakes": true,
           "lakecolor": "rgb(17,17,17)"
          },
          "title": {
           "x": 0.05
          },
          "updatemenudefaults": {
           "bgcolor": "#506784",
           "borderwidth": 0
          },
          "sliderdefaults": {
           "bgcolor": "#C8D4E3",
           "borderwidth": 1,
           "bordercolor": "rgb(17,17,17)",
           "tickwidth": 0
          },
          "mapbox": {
           "style": "dark"
          }
         }
        },
        "xaxis": {
         "anchor": "y",
         "domain": [
          0.0,
          1.0
         ],
         "title": {
          "text": "Län"
         }
        },
        "yaxis": {
         "anchor": "x",
         "domain": [
          0.0,
          1.0
         ],
         "title": {
          "text": "Percentage"
         }
        },
        "legend": {
         "title": {
          "text": "Doses (%)"
         },
         "tracegroupgap": 0
        },
        "title": {
         "text": "Percentage amount of doses given by County"
        },
        "barmode": "group"
       },
       "config": {
        "plotlyServerURL": "https://plot.ly"
       }
      },
      "text/html": "<div>                            <div id=\"a7699a4a-f9ad-4419-8400-e36ff9a62302\" class=\"plotly-graph-div\" style=\"height:525px; width:100%;\"></div>            <script type=\"text/javascript\">                require([\"plotly\"], function(Plotly) {                    window.PLOTLYENV=window.PLOTLYENV || {};                                    if (document.getElementById(\"a7699a4a-f9ad-4419-8400-e36ff9a62302\")) {                    Plotly.newPlot(                        \"a7699a4a-f9ad-4419-8400-e36ff9a62302\",                        [{\"alignmentgroup\":\"True\",\"hovertemplate\":\"Doses (%)=Andel minst 1 dos\\u003cbr\\u003eL\\u00e4n=%{x}\\u003cbr\\u003ePercentage=%{y}\\u003cextra\\u003e\\u003c\\u002fextra\\u003e\",\"legendgroup\":\"Andel minst 1 dos\",\"marker\":{\"color\":\"#636efa\",\"pattern\":{\"shape\":\"\"}},\"name\":\"Andel minst 1 dos\",\"offsetgroup\":\"Andel minst 1 dos\",\"orientation\":\"v\",\"showlegend\":true,\"textposition\":\"auto\",\"x\":[\"Blekinge l\\u00e4n\",\"Dalarnas l\\u00e4n\",\"Gotlands l\\u00e4n\",\"G\\u00e4vleborgs l\\u00e4n\",\"Hallands l\\u00e4n\",\"J\\u00e4mtlands l\\u00e4n\",\"J\\u00f6nk\\u00f6pings l\\u00e4n\",\"Kalmar l\\u00e4n\",\"Kronobergs l\\u00e4n\",\"Norrbottens l\\u00e4n\",\"Sk\\u00e5ne l\\u00e4n\",\"Stockholms l\\u00e4n\",\"S\\u00f6dermanlands l\\u00e4n\",\"Uppsala l\\u00e4n\",\"V\\u00e4rmlands l\\u00e4n\",\"V\\u00e4sterbottens l\\u00e4n\",\"V\\u00e4sternorrlands l\\u00e4n\",\"V\\u00e4stmanlands l\\u00e4n\",\"V\\u00e4stra G\\u00f6talands l\\u00e4n\",\"\\u00d6rebro l\\u00e4n\",\"\\u00d6sterg\\u00f6tlands l\\u00e4n\"],\"xaxis\":\"x\",\"y\":[85.64556208437777,85.55543405783187,89.0340084510786,85.16844384648172,85.92381513010524,86.0929907205495,86.0044523807034,85.12926088968922,82.49822825558188,87.03389465139483,83.58673305565308,83.58682831084586,85.79137976820294,88.24212515250439,88.08393931378062,88.77727610504377,87.22669023266013,83.64894610815031,85.94207297419256,85.72148530962767,87.93085042959842],\"yaxis\":\"y\",\"type\":\"bar\"},{\"alignmentgroup\":\"True\",\"hovertemplate\":\"Doses (%)=Andel minst 2 doser\\u003cbr\\u003eL\\u00e4n=%{x}\\u003cbr\\u003ePercentage=%{y}\\u003cextra\\u003e\\u003c\\u002fextra\\u003e\",\"legendgroup\":\"Andel minst 2 doser\",\"marker\":{\"color\":\"#EF553B\",\"pattern\":{\"shape\":\"\"}},\"name\":\"Andel minst 2 doser\",\"offsetgroup\":\"Andel minst 2 doser\",\"orientation\":\"v\",\"showlegend\":true,\"textposition\":\"auto\",\"x\":[\"Blekinge l\\u00e4n\",\"Dalarnas l\\u00e4n\",\"Gotlands l\\u00e4n\",\"G\\u00e4vleborgs l\\u00e4n\",\"Hallands l\\u00e4n\",\"J\\u00e4mtlands l\\u00e4n\",\"J\\u00f6nk\\u00f6pings l\\u00e4n\",\"Kalmar l\\u00e4n\",\"Kronobergs l\\u00e4n\",\"Norrbottens l\\u00e4n\",\"Sk\\u00e5ne l\\u00e4n\",\"Stockholms l\\u00e4n\",\"S\\u00f6dermanlands l\\u00e4n\",\"Uppsala l\\u00e4n\",\"V\\u00e4rmlands l\\u00e4n\",\"V\\u00e4sterbottens l\\u00e4n\",\"V\\u00e4sternorrlands l\\u00e4n\",\"V\\u00e4stmanlands l\\u00e4n\",\"V\\u00e4stra G\\u00f6talands l\\u00e4n\",\"\\u00d6rebro l\\u00e4n\",\"\\u00d6sterg\\u00f6tlands l\\u00e4n\"],\"xaxis\":\"x\",\"y\":[84.19926340244524,84.13435233291447,87.34112095680831,82.88867830043593,84.42152008062985,84.39657833731002,84.67098012617642,83.94641495822944,81.01973845363169,85.53768496929301,81.90937226123961,80.59361929799323,83.34472045922483,86.46240460739935,86.8784309660129,87.43263330983262,85.03000174433632,81.4118147978376,83.96878398137663,84.34419870605207,86.86153254968713],\"yaxis\":\"y\",\"type\":\"bar\"},{\"alignmentgroup\":\"True\",\"hovertemplate\":\"Doses (%)=Andel 3 doser\\u003cbr\\u003eL\\u00e4n=%{x}\\u003cbr\\u003ePercentage=%{y}\\u003cextra\\u003e\\u003c\\u002fextra\\u003e\",\"legendgroup\":\"Andel 3 doser\",\"marker\":{\"color\":\"#00cc96\",\"pattern\":{\"shape\":\"\"}},\"name\":\"Andel 3 doser\",\"offsetgroup\":\"Andel 3 doser\",\"orientation\":\"v\",\"showlegend\":true,\"textposition\":\"auto\",\"x\":[\"Blekinge l\\u00e4n\",\"Dalarnas l\\u00e4n\",\"Gotlands l\\u00e4n\",\"G\\u00e4vleborgs l\\u00e4n\",\"Hallands l\\u00e4n\",\"J\\u00e4mtlands l\\u00e4n\",\"J\\u00f6nk\\u00f6pings l\\u00e4n\",\"Kalmar l\\u00e4n\",\"Kronobergs l\\u00e4n\",\"Norrbottens l\\u00e4n\",\"Sk\\u00e5ne l\\u00e4n\",\"Stockholms l\\u00e4n\",\"S\\u00f6dermanlands l\\u00e4n\",\"Uppsala l\\u00e4n\",\"V\\u00e4rmlands l\\u00e4n\",\"V\\u00e4sterbottens l\\u00e4n\",\"V\\u00e4sternorrlands l\\u00e4n\",\"V\\u00e4stmanlands l\\u00e4n\",\"V\\u00e4stra G\\u00f6talands l\\u00e4n\",\"\\u00d6rebro l\\u00e4n\",\"\\u00d6sterg\\u00f6tlands l\\u00e4n\"],\"xaxis\":\"x\",\"y\":[59.59220063276989,59.47520130637146,62.24682777748789,57.95783492163471,59.935016593281546,57.84513950988684,59.975817587746405,60.30212950727088,55.65075405985056,60.22757301502711,55.866454554570254,56.83207284440679,58.10470176699995,61.39814548726197,61.601844078618825,61.853893664967345,60.00727341050178,57.73925688602859,57.79083553010511,59.91700440494826,62.376386935662524],\"yaxis\":\"y\",\"type\":\"bar\"}],                        {\"template\":{\"data\":{\"histogram2dcontour\":[{\"type\":\"histogram2dcontour\",\"colorbar\":{\"outlinewidth\":0,\"ticks\":\"\"},\"colorscale\":[[0.0,\"#0d0887\"],[0.1111111111111111,\"#46039f\"],[0.2222222222222222,\"#7201a8\"],[0.3333333333333333,\"#9c179e\"],[0.4444444444444444,\"#bd3786\"],[0.5555555555555556,\"#d8576b\"],[0.6666666666666666,\"#ed7953\"],[0.7777777777777778,\"#fb9f3a\"],[0.8888888888888888,\"#fdca26\"],[1.0,\"#f0f921\"]]}],\"choropleth\":[{\"type\":\"choropleth\",\"colorbar\":{\"outlinewidth\":0,\"ticks\":\"\"}}],\"histogram2d\":[{\"type\":\"histogram2d\",\"colorbar\":{\"outlinewidth\":0,\"ticks\":\"\"},\"colorscale\":[[0.0,\"#0d0887\"],[0.1111111111111111,\"#46039f\"],[0.2222222222222222,\"#7201a8\"],[0.3333333333333333,\"#9c179e\"],[0.4444444444444444,\"#bd3786\"],[0.5555555555555556,\"#d8576b\"],[0.6666666666666666,\"#ed7953\"],[0.7777777777777778,\"#fb9f3a\"],[0.8888888888888888,\"#fdca26\"],[1.0,\"#f0f921\"]]}],\"heatmap\":[{\"type\":\"heatmap\",\"colorbar\":{\"outlinewidth\":0,\"ticks\":\"\"},\"colorscale\":[[0.0,\"#0d0887\"],[0.1111111111111111,\"#46039f\"],[0.2222222222222222,\"#7201a8\"],[0.3333333333333333,\"#9c179e\"],[0.4444444444444444,\"#bd3786\"],[0.5555555555555556,\"#d8576b\"],[0.6666666666666666,\"#ed7953\"],[0.7777777777777778,\"#fb9f3a\"],[0.8888888888888888,\"#fdca26\"],[1.0,\"#f0f921\"]]}],\"heatmapgl\":[{\"type\":\"heatmapgl\",\"colorbar\":{\"outlinewidth\":0,\"ticks\":\"\"},\"colorscale\":[[0.0,\"#0d0887\"],[0.1111111111111111,\"#46039f\"],[0.2222222222222222,\"#7201a8\"],[0.3333333333333333,\"#9c179e\"],[0.4444444444444444,\"#bd3786\"],[0.5555555555555556,\"#d8576b\"],[0.6666666666666666,\"#ed7953\"],[0.7777777777777778,\"#fb9f3a\"],[0.8888888888888888,\"#fdca26\"],[1.0,\"#f0f921\"]]}],\"contourcarpet\":[{\"type\":\"contourcarpet\",\"colorbar\":{\"outlinewidth\":0,\"ticks\":\"\"}}],\"contour\":[{\"type\":\"contour\",\"colorbar\":{\"outlinewidth\":0,\"ticks\":\"\"},\"colorscale\":[[0.0,\"#0d0887\"],[0.1111111111111111,\"#46039f\"],[0.2222222222222222,\"#7201a8\"],[0.3333333333333333,\"#9c179e\"],[0.4444444444444444,\"#bd3786\"],[0.5555555555555556,\"#d8576b\"],[0.6666666666666666,\"#ed7953\"],[0.7777777777777778,\"#fb9f3a\"],[0.8888888888888888,\"#fdca26\"],[1.0,\"#f0f921\"]]}],\"surface\":[{\"type\":\"surface\",\"colorbar\":{\"outlinewidth\":0,\"ticks\":\"\"},\"colorscale\":[[0.0,\"#0d0887\"],[0.1111111111111111,\"#46039f\"],[0.2222222222222222,\"#7201a8\"],[0.3333333333333333,\"#9c179e\"],[0.4444444444444444,\"#bd3786\"],[0.5555555555555556,\"#d8576b\"],[0.6666666666666666,\"#ed7953\"],[0.7777777777777778,\"#fb9f3a\"],[0.8888888888888888,\"#fdca26\"],[1.0,\"#f0f921\"]]}],\"mesh3d\":[{\"type\":\"mesh3d\",\"colorbar\":{\"outlinewidth\":0,\"ticks\":\"\"}}],\"scatter\":[{\"marker\":{\"line\":{\"color\":\"#283442\"}},\"type\":\"scatter\"}],\"parcoords\":[{\"type\":\"parcoords\",\"line\":{\"colorbar\":{\"outlinewidth\":0,\"ticks\":\"\"}}}],\"scatterpolargl\":[{\"type\":\"scatterpolargl\",\"marker\":{\"colorbar\":{\"outlinewidth\":0,\"ticks\":\"\"}}}],\"bar\":[{\"error_x\":{\"color\":\"#f2f5fa\"},\"error_y\":{\"color\":\"#f2f5fa\"},\"marker\":{\"line\":{\"color\":\"rgb(17,17,17)\",\"width\":0.5},\"pattern\":{\"fillmode\":\"overlay\",\"size\":10,\"solidity\":0.2}},\"type\":\"bar\"}],\"scattergeo\":[{\"type\":\"scattergeo\",\"marker\":{\"colorbar\":{\"outlinewidth\":0,\"ticks\":\"\"}}}],\"scatterpolar\":[{\"type\":\"scatterpolar\",\"marker\":{\"colorbar\":{\"outlinewidth\":0,\"ticks\":\"\"}}}],\"histogram\":[{\"marker\":{\"pattern\":{\"fillmode\":\"overlay\",\"size\":10,\"solidity\":0.2}},\"type\":\"histogram\"}],\"scattergl\":[{\"marker\":{\"line\":{\"color\":\"#283442\"}},\"type\":\"scattergl\"}],\"scatter3d\":[{\"type\":\"scatter3d\",\"line\":{\"colorbar\":{\"outlinewidth\":0,\"ticks\":\"\"}},\"marker\":{\"colorbar\":{\"outlinewidth\":0,\"ticks\":\"\"}}}],\"scattermapbox\":[{\"type\":\"scattermapbox\",\"marker\":{\"colorbar\":{\"outlinewidth\":0,\"ticks\":\"\"}}}],\"scatterternary\":[{\"type\":\"scatterternary\",\"marker\":{\"colorbar\":{\"outlinewidth\":0,\"ticks\":\"\"}}}],\"scattercarpet\":[{\"type\":\"scattercarpet\",\"marker\":{\"colorbar\":{\"outlinewidth\":0,\"ticks\":\"\"}}}],\"carpet\":[{\"aaxis\":{\"endlinecolor\":\"#A2B1C6\",\"gridcolor\":\"#506784\",\"linecolor\":\"#506784\",\"minorgridcolor\":\"#506784\",\"startlinecolor\":\"#A2B1C6\"},\"baxis\":{\"endlinecolor\":\"#A2B1C6\",\"gridcolor\":\"#506784\",\"linecolor\":\"#506784\",\"minorgridcolor\":\"#506784\",\"startlinecolor\":\"#A2B1C6\"},\"type\":\"carpet\"}],\"table\":[{\"cells\":{\"fill\":{\"color\":\"#506784\"},\"line\":{\"color\":\"rgb(17,17,17)\"}},\"header\":{\"fill\":{\"color\":\"#2a3f5f\"},\"line\":{\"color\":\"rgb(17,17,17)\"}},\"type\":\"table\"}],\"barpolar\":[{\"marker\":{\"line\":{\"color\":\"rgb(17,17,17)\",\"width\":0.5},\"pattern\":{\"fillmode\":\"overlay\",\"size\":10,\"solidity\":0.2}},\"type\":\"barpolar\"}],\"pie\":[{\"automargin\":true,\"type\":\"pie\"}]},\"layout\":{\"autotypenumbers\":\"strict\",\"colorway\":[\"#636efa\",\"#EF553B\",\"#00cc96\",\"#ab63fa\",\"#FFA15A\",\"#19d3f3\",\"#FF6692\",\"#B6E880\",\"#FF97FF\",\"#FECB52\"],\"font\":{\"color\":\"#f2f5fa\"},\"hovermode\":\"closest\",\"hoverlabel\":{\"align\":\"left\"},\"paper_bgcolor\":\"rgb(17,17,17)\",\"plot_bgcolor\":\"rgb(17,17,17)\",\"polar\":{\"bgcolor\":\"rgb(17,17,17)\",\"angularaxis\":{\"gridcolor\":\"#506784\",\"linecolor\":\"#506784\",\"ticks\":\"\"},\"radialaxis\":{\"gridcolor\":\"#506784\",\"linecolor\":\"#506784\",\"ticks\":\"\"}},\"ternary\":{\"bgcolor\":\"rgb(17,17,17)\",\"aaxis\":{\"gridcolor\":\"#506784\",\"linecolor\":\"#506784\",\"ticks\":\"\"},\"baxis\":{\"gridcolor\":\"#506784\",\"linecolor\":\"#506784\",\"ticks\":\"\"},\"caxis\":{\"gridcolor\":\"#506784\",\"linecolor\":\"#506784\",\"ticks\":\"\"}},\"coloraxis\":{\"colorbar\":{\"outlinewidth\":0,\"ticks\":\"\"}},\"colorscale\":{\"sequential\":[[0.0,\"#0d0887\"],[0.1111111111111111,\"#46039f\"],[0.2222222222222222,\"#7201a8\"],[0.3333333333333333,\"#9c179e\"],[0.4444444444444444,\"#bd3786\"],[0.5555555555555556,\"#d8576b\"],[0.6666666666666666,\"#ed7953\"],[0.7777777777777778,\"#fb9f3a\"],[0.8888888888888888,\"#fdca26\"],[1.0,\"#f0f921\"]],\"sequentialminus\":[[0.0,\"#0d0887\"],[0.1111111111111111,\"#46039f\"],[0.2222222222222222,\"#7201a8\"],[0.3333333333333333,\"#9c179e\"],[0.4444444444444444,\"#bd3786\"],[0.5555555555555556,\"#d8576b\"],[0.6666666666666666,\"#ed7953\"],[0.7777777777777778,\"#fb9f3a\"],[0.8888888888888888,\"#fdca26\"],[1.0,\"#f0f921\"]],\"diverging\":[[0,\"#8e0152\"],[0.1,\"#c51b7d\"],[0.2,\"#de77ae\"],[0.3,\"#f1b6da\"],[0.4,\"#fde0ef\"],[0.5,\"#f7f7f7\"],[0.6,\"#e6f5d0\"],[0.7,\"#b8e186\"],[0.8,\"#7fbc41\"],[0.9,\"#4d9221\"],[1,\"#276419\"]]},\"xaxis\":{\"gridcolor\":\"#283442\",\"linecolor\":\"#506784\",\"ticks\":\"\",\"title\":{\"standoff\":15},\"zerolinecolor\":\"#283442\",\"automargin\":true,\"zerolinewidth\":2},\"yaxis\":{\"gridcolor\":\"#283442\",\"linecolor\":\"#506784\",\"ticks\":\"\",\"title\":{\"standoff\":15},\"zerolinecolor\":\"#283442\",\"automargin\":true,\"zerolinewidth\":2},\"scene\":{\"xaxis\":{\"backgroundcolor\":\"rgb(17,17,17)\",\"gridcolor\":\"#506784\",\"linecolor\":\"#506784\",\"showbackground\":true,\"ticks\":\"\",\"zerolinecolor\":\"#C8D4E3\",\"gridwidth\":2},\"yaxis\":{\"backgroundcolor\":\"rgb(17,17,17)\",\"gridcolor\":\"#506784\",\"linecolor\":\"#506784\",\"showbackground\":true,\"ticks\":\"\",\"zerolinecolor\":\"#C8D4E3\",\"gridwidth\":2},\"zaxis\":{\"backgroundcolor\":\"rgb(17,17,17)\",\"gridcolor\":\"#506784\",\"linecolor\":\"#506784\",\"showbackground\":true,\"ticks\":\"\",\"zerolinecolor\":\"#C8D4E3\",\"gridwidth\":2}},\"shapedefaults\":{\"line\":{\"color\":\"#f2f5fa\"}},\"annotationdefaults\":{\"arrowcolor\":\"#f2f5fa\",\"arrowhead\":0,\"arrowwidth\":1},\"geo\":{\"bgcolor\":\"rgb(17,17,17)\",\"landcolor\":\"rgb(17,17,17)\",\"subunitcolor\":\"#506784\",\"showland\":true,\"showlakes\":true,\"lakecolor\":\"rgb(17,17,17)\"},\"title\":{\"x\":0.05},\"updatemenudefaults\":{\"bgcolor\":\"#506784\",\"borderwidth\":0},\"sliderdefaults\":{\"bgcolor\":\"#C8D4E3\",\"borderwidth\":1,\"bordercolor\":\"rgb(17,17,17)\",\"tickwidth\":0},\"mapbox\":{\"style\":\"dark\"}}},\"xaxis\":{\"anchor\":\"y\",\"domain\":[0.0,1.0],\"title\":{\"text\":\"L\\u00e4n\"}},\"yaxis\":{\"anchor\":\"x\",\"domain\":[0.0,1.0],\"title\":{\"text\":\"Percentage\"}},\"legend\":{\"title\":{\"text\":\"Doses (%)\"},\"tracegroupgap\":0},\"title\":{\"text\":\"Percentage amount of doses given by County\"},\"barmode\":\"group\"},                        {\"responsive\": true}                    ).then(function(){\n                            \nvar gd = document.getElementById('a7699a4a-f9ad-4419-8400-e36ff9a62302');\nvar x = new MutationObserver(function (mutations, observer) {{\n        var display = window.getComputedStyle(gd).display;\n        if (!display || display === 'none') {{\n            console.log([gd, 'removed!']);\n            Plotly.purge(gd);\n            observer.disconnect();\n        }}\n}});\n\n// Listen for the removal of the full notebook cells\nvar notebookContainer = gd.closest('#notebook-container');\nif (notebookContainer) {{\n    x.observe(notebookContainer, {childList: true});\n}}\n\n// Listen for the clearing of the current output cell\nvar outputEl = gd.closest('.output');\nif (outputEl) {{\n    x.observe(outputEl, {childList: true});\n}}\n\n                        })                };                });            </script>        </div>"
     },
     "metadata": {},
     "output_type": "display_data"
    }
   ],
   "source": [
    "amount_of_doses_county_diagram = px.bar(vaccinated_per_county,\n",
    "                                x=\"Län_namn\", \n",
    "                                y=[\"Andel minst 1 dos\", \"Andel minst 2 doser\", \"Andel 3 doser\"],\n",
    "                                title=\"Percentage amount of doses given by County\",\n",
    "                                labels={\"value\": \"Percentage\", \"variable\": \"Doses (%)\", \"Län_namn\": \"Län\"},\n",
    "                                barmode=\"group\")\n",
    "amount_of_doses_county_diagram.show()\n",
    "amount_of_doses_county_diagram.write_html(\"./Visualisations/Task_2_plotly_amount_of_doses_per_county.html\")"
   ],
   "metadata": {
    "collapsed": false,
    "ExecuteTime": {
     "end_time": "2023-11-14T10:12:14.348546500Z",
     "start_time": "2023-11-14T10:12:14.255732100Z"
    }
   },
   "id": "2e5e0eb1d799429c"
  },
  {
   "cell_type": "markdown",
   "source": [
    "### Task G\n",
    "Diagram with amount of doses for specific counties"
   ],
   "metadata": {
    "collapsed": false
   },
   "id": "87d60279faf8940e"
  },
  {
   "cell_type": "code",
   "execution_count": 204,
   "outputs": [],
   "source": [
    "included_counties = [\"Stockholms län\", \"Västra Götalands län\"]\n",
    "stholm_and_vgotaland_counties = vaccinated_per_county[vaccinated_per_county[\"Län_namn\"].isin(included_counties)]"
   ],
   "metadata": {
    "collapsed": false,
    "ExecuteTime": {
     "end_time": "2023-11-14T10:12:26.497488500Z",
     "start_time": "2023-11-14T10:12:26.465814100Z"
    }
   },
   "id": "69855b4d55c13983"
  },
  {
   "cell_type": "code",
   "execution_count": 205,
   "outputs": [
    {
     "data": {
      "text/plain": "                Län_namn  Andel minst 1 dos  Andel minst 2 doser  \\\n11        Stockholms län          83.586828            80.593619   \n18  Västra Götalands län          85.942073            83.968784   \n\n    Andel 3 doser  Andel 4 doser  \n11      56.832073      24.225738  \n18      57.790836      25.341537  ",
      "text/html": "<div>\n<style scoped>\n    .dataframe tbody tr th:only-of-type {\n        vertical-align: middle;\n    }\n\n    .dataframe tbody tr th {\n        vertical-align: top;\n    }\n\n    .dataframe thead th {\n        text-align: right;\n    }\n</style>\n<table border=\"1\" class=\"dataframe\">\n  <thead>\n    <tr style=\"text-align: right;\">\n      <th></th>\n      <th>Län_namn</th>\n      <th>Andel minst 1 dos</th>\n      <th>Andel minst 2 doser</th>\n      <th>Andel 3 doser</th>\n      <th>Andel 4 doser</th>\n    </tr>\n  </thead>\n  <tbody>\n    <tr>\n      <th>11</th>\n      <td>Stockholms län</td>\n      <td>83.586828</td>\n      <td>80.593619</td>\n      <td>56.832073</td>\n      <td>24.225738</td>\n    </tr>\n    <tr>\n      <th>18</th>\n      <td>Västra Götalands län</td>\n      <td>85.942073</td>\n      <td>83.968784</td>\n      <td>57.790836</td>\n      <td>25.341537</td>\n    </tr>\n  </tbody>\n</table>\n</div>"
     },
     "execution_count": 205,
     "metadata": {},
     "output_type": "execute_result"
    }
   ],
   "source": [
    "stholm_and_vgotaland_counties"
   ],
   "metadata": {
    "collapsed": false,
    "ExecuteTime": {
     "end_time": "2023-11-14T10:12:27.457234700Z",
     "start_time": "2023-11-14T10:12:27.428070900Z"
    }
   },
   "id": "14c261c89df63e71"
  },
  {
   "cell_type": "code",
   "execution_count": 207,
   "outputs": [
    {
     "data": {
      "application/vnd.plotly.v1+json": {
       "data": [
        {
         "alignmentgroup": "True",
         "hovertemplate": "Doses (%)=Andel minst 1 dos<br>Län=%{x}<br>Percentage=%{y}<extra></extra>",
         "legendgroup": "Andel minst 1 dos",
         "marker": {
          "color": "#636efa",
          "pattern": {
           "shape": ""
          }
         },
         "name": "Andel minst 1 dos",
         "offsetgroup": "Andel minst 1 dos",
         "orientation": "v",
         "showlegend": true,
         "textposition": "auto",
         "x": [
          "Stockholms län",
          "Västra Götalands län"
         ],
         "xaxis": "x",
         "y": [
          83.58682831084586,
          85.94207297419256
         ],
         "yaxis": "y",
         "type": "bar"
        },
        {
         "alignmentgroup": "True",
         "hovertemplate": "Doses (%)=Andel minst 2 doser<br>Län=%{x}<br>Percentage=%{y}<extra></extra>",
         "legendgroup": "Andel minst 2 doser",
         "marker": {
          "color": "#EF553B",
          "pattern": {
           "shape": ""
          }
         },
         "name": "Andel minst 2 doser",
         "offsetgroup": "Andel minst 2 doser",
         "orientation": "v",
         "showlegend": true,
         "textposition": "auto",
         "x": [
          "Stockholms län",
          "Västra Götalands län"
         ],
         "xaxis": "x",
         "y": [
          80.59361929799323,
          83.96878398137663
         ],
         "yaxis": "y",
         "type": "bar"
        },
        {
         "alignmentgroup": "True",
         "hovertemplate": "Doses (%)=Andel 3 doser<br>Län=%{x}<br>Percentage=%{y}<extra></extra>",
         "legendgroup": "Andel 3 doser",
         "marker": {
          "color": "#00cc96",
          "pattern": {
           "shape": ""
          }
         },
         "name": "Andel 3 doser",
         "offsetgroup": "Andel 3 doser",
         "orientation": "v",
         "showlegend": true,
         "textposition": "auto",
         "x": [
          "Stockholms län",
          "Västra Götalands län"
         ],
         "xaxis": "x",
         "y": [
          56.83207284440679,
          57.79083553010511
         ],
         "yaxis": "y",
         "type": "bar"
        },
        {
         "alignmentgroup": "True",
         "hovertemplate": "Doses (%)=Andel 4 doser<br>Län=%{x}<br>Percentage=%{y}<extra></extra>",
         "legendgroup": "Andel 4 doser",
         "marker": {
          "color": "#ab63fa",
          "pattern": {
           "shape": ""
          }
         },
         "name": "Andel 4 doser",
         "offsetgroup": "Andel 4 doser",
         "orientation": "v",
         "showlegend": true,
         "textposition": "auto",
         "x": [
          "Stockholms län",
          "Västra Götalands län"
         ],
         "xaxis": "x",
         "y": [
          24.225737715868114,
          25.34153713656586
         ],
         "yaxis": "y",
         "type": "bar"
        }
       ],
       "layout": {
        "template": {
         "data": {
          "histogram2dcontour": [
           {
            "type": "histogram2dcontour",
            "colorbar": {
             "outlinewidth": 0,
             "ticks": ""
            },
            "colorscale": [
             [
              0.0,
              "#0d0887"
             ],
             [
              0.1111111111111111,
              "#46039f"
             ],
             [
              0.2222222222222222,
              "#7201a8"
             ],
             [
              0.3333333333333333,
              "#9c179e"
             ],
             [
              0.4444444444444444,
              "#bd3786"
             ],
             [
              0.5555555555555556,
              "#d8576b"
             ],
             [
              0.6666666666666666,
              "#ed7953"
             ],
             [
              0.7777777777777778,
              "#fb9f3a"
             ],
             [
              0.8888888888888888,
              "#fdca26"
             ],
             [
              1.0,
              "#f0f921"
             ]
            ]
           }
          ],
          "choropleth": [
           {
            "type": "choropleth",
            "colorbar": {
             "outlinewidth": 0,
             "ticks": ""
            }
           }
          ],
          "histogram2d": [
           {
            "type": "histogram2d",
            "colorbar": {
             "outlinewidth": 0,
             "ticks": ""
            },
            "colorscale": [
             [
              0.0,
              "#0d0887"
             ],
             [
              0.1111111111111111,
              "#46039f"
             ],
             [
              0.2222222222222222,
              "#7201a8"
             ],
             [
              0.3333333333333333,
              "#9c179e"
             ],
             [
              0.4444444444444444,
              "#bd3786"
             ],
             [
              0.5555555555555556,
              "#d8576b"
             ],
             [
              0.6666666666666666,
              "#ed7953"
             ],
             [
              0.7777777777777778,
              "#fb9f3a"
             ],
             [
              0.8888888888888888,
              "#fdca26"
             ],
             [
              1.0,
              "#f0f921"
             ]
            ]
           }
          ],
          "heatmap": [
           {
            "type": "heatmap",
            "colorbar": {
             "outlinewidth": 0,
             "ticks": ""
            },
            "colorscale": [
             [
              0.0,
              "#0d0887"
             ],
             [
              0.1111111111111111,
              "#46039f"
             ],
             [
              0.2222222222222222,
              "#7201a8"
             ],
             [
              0.3333333333333333,
              "#9c179e"
             ],
             [
              0.4444444444444444,
              "#bd3786"
             ],
             [
              0.5555555555555556,
              "#d8576b"
             ],
             [
              0.6666666666666666,
              "#ed7953"
             ],
             [
              0.7777777777777778,
              "#fb9f3a"
             ],
             [
              0.8888888888888888,
              "#fdca26"
             ],
             [
              1.0,
              "#f0f921"
             ]
            ]
           }
          ],
          "heatmapgl": [
           {
            "type": "heatmapgl",
            "colorbar": {
             "outlinewidth": 0,
             "ticks": ""
            },
            "colorscale": [
             [
              0.0,
              "#0d0887"
             ],
             [
              0.1111111111111111,
              "#46039f"
             ],
             [
              0.2222222222222222,
              "#7201a8"
             ],
             [
              0.3333333333333333,
              "#9c179e"
             ],
             [
              0.4444444444444444,
              "#bd3786"
             ],
             [
              0.5555555555555556,
              "#d8576b"
             ],
             [
              0.6666666666666666,
              "#ed7953"
             ],
             [
              0.7777777777777778,
              "#fb9f3a"
             ],
             [
              0.8888888888888888,
              "#fdca26"
             ],
             [
              1.0,
              "#f0f921"
             ]
            ]
           }
          ],
          "contourcarpet": [
           {
            "type": "contourcarpet",
            "colorbar": {
             "outlinewidth": 0,
             "ticks": ""
            }
           }
          ],
          "contour": [
           {
            "type": "contour",
            "colorbar": {
             "outlinewidth": 0,
             "ticks": ""
            },
            "colorscale": [
             [
              0.0,
              "#0d0887"
             ],
             [
              0.1111111111111111,
              "#46039f"
             ],
             [
              0.2222222222222222,
              "#7201a8"
             ],
             [
              0.3333333333333333,
              "#9c179e"
             ],
             [
              0.4444444444444444,
              "#bd3786"
             ],
             [
              0.5555555555555556,
              "#d8576b"
             ],
             [
              0.6666666666666666,
              "#ed7953"
             ],
             [
              0.7777777777777778,
              "#fb9f3a"
             ],
             [
              0.8888888888888888,
              "#fdca26"
             ],
             [
              1.0,
              "#f0f921"
             ]
            ]
           }
          ],
          "surface": [
           {
            "type": "surface",
            "colorbar": {
             "outlinewidth": 0,
             "ticks": ""
            },
            "colorscale": [
             [
              0.0,
              "#0d0887"
             ],
             [
              0.1111111111111111,
              "#46039f"
             ],
             [
              0.2222222222222222,
              "#7201a8"
             ],
             [
              0.3333333333333333,
              "#9c179e"
             ],
             [
              0.4444444444444444,
              "#bd3786"
             ],
             [
              0.5555555555555556,
              "#d8576b"
             ],
             [
              0.6666666666666666,
              "#ed7953"
             ],
             [
              0.7777777777777778,
              "#fb9f3a"
             ],
             [
              0.8888888888888888,
              "#fdca26"
             ],
             [
              1.0,
              "#f0f921"
             ]
            ]
           }
          ],
          "mesh3d": [
           {
            "type": "mesh3d",
            "colorbar": {
             "outlinewidth": 0,
             "ticks": ""
            }
           }
          ],
          "scatter": [
           {
            "marker": {
             "line": {
              "color": "#283442"
             }
            },
            "type": "scatter"
           }
          ],
          "parcoords": [
           {
            "type": "parcoords",
            "line": {
             "colorbar": {
              "outlinewidth": 0,
              "ticks": ""
             }
            }
           }
          ],
          "scatterpolargl": [
           {
            "type": "scatterpolargl",
            "marker": {
             "colorbar": {
              "outlinewidth": 0,
              "ticks": ""
             }
            }
           }
          ],
          "bar": [
           {
            "error_x": {
             "color": "#f2f5fa"
            },
            "error_y": {
             "color": "#f2f5fa"
            },
            "marker": {
             "line": {
              "color": "rgb(17,17,17)",
              "width": 0.5
             },
             "pattern": {
              "fillmode": "overlay",
              "size": 10,
              "solidity": 0.2
             }
            },
            "type": "bar"
           }
          ],
          "scattergeo": [
           {
            "type": "scattergeo",
            "marker": {
             "colorbar": {
              "outlinewidth": 0,
              "ticks": ""
             }
            }
           }
          ],
          "scatterpolar": [
           {
            "type": "scatterpolar",
            "marker": {
             "colorbar": {
              "outlinewidth": 0,
              "ticks": ""
             }
            }
           }
          ],
          "histogram": [
           {
            "marker": {
             "pattern": {
              "fillmode": "overlay",
              "size": 10,
              "solidity": 0.2
             }
            },
            "type": "histogram"
           }
          ],
          "scattergl": [
           {
            "marker": {
             "line": {
              "color": "#283442"
             }
            },
            "type": "scattergl"
           }
          ],
          "scatter3d": [
           {
            "type": "scatter3d",
            "line": {
             "colorbar": {
              "outlinewidth": 0,
              "ticks": ""
             }
            },
            "marker": {
             "colorbar": {
              "outlinewidth": 0,
              "ticks": ""
             }
            }
           }
          ],
          "scattermapbox": [
           {
            "type": "scattermapbox",
            "marker": {
             "colorbar": {
              "outlinewidth": 0,
              "ticks": ""
             }
            }
           }
          ],
          "scatterternary": [
           {
            "type": "scatterternary",
            "marker": {
             "colorbar": {
              "outlinewidth": 0,
              "ticks": ""
             }
            }
           }
          ],
          "scattercarpet": [
           {
            "type": "scattercarpet",
            "marker": {
             "colorbar": {
              "outlinewidth": 0,
              "ticks": ""
             }
            }
           }
          ],
          "carpet": [
           {
            "aaxis": {
             "endlinecolor": "#A2B1C6",
             "gridcolor": "#506784",
             "linecolor": "#506784",
             "minorgridcolor": "#506784",
             "startlinecolor": "#A2B1C6"
            },
            "baxis": {
             "endlinecolor": "#A2B1C6",
             "gridcolor": "#506784",
             "linecolor": "#506784",
             "minorgridcolor": "#506784",
             "startlinecolor": "#A2B1C6"
            },
            "type": "carpet"
           }
          ],
          "table": [
           {
            "cells": {
             "fill": {
              "color": "#506784"
             },
             "line": {
              "color": "rgb(17,17,17)"
             }
            },
            "header": {
             "fill": {
              "color": "#2a3f5f"
             },
             "line": {
              "color": "rgb(17,17,17)"
             }
            },
            "type": "table"
           }
          ],
          "barpolar": [
           {
            "marker": {
             "line": {
              "color": "rgb(17,17,17)",
              "width": 0.5
             },
             "pattern": {
              "fillmode": "overlay",
              "size": 10,
              "solidity": 0.2
             }
            },
            "type": "barpolar"
           }
          ],
          "pie": [
           {
            "automargin": true,
            "type": "pie"
           }
          ]
         },
         "layout": {
          "autotypenumbers": "strict",
          "colorway": [
           "#636efa",
           "#EF553B",
           "#00cc96",
           "#ab63fa",
           "#FFA15A",
           "#19d3f3",
           "#FF6692",
           "#B6E880",
           "#FF97FF",
           "#FECB52"
          ],
          "font": {
           "color": "#f2f5fa"
          },
          "hovermode": "closest",
          "hoverlabel": {
           "align": "left"
          },
          "paper_bgcolor": "rgb(17,17,17)",
          "plot_bgcolor": "rgb(17,17,17)",
          "polar": {
           "bgcolor": "rgb(17,17,17)",
           "angularaxis": {
            "gridcolor": "#506784",
            "linecolor": "#506784",
            "ticks": ""
           },
           "radialaxis": {
            "gridcolor": "#506784",
            "linecolor": "#506784",
            "ticks": ""
           }
          },
          "ternary": {
           "bgcolor": "rgb(17,17,17)",
           "aaxis": {
            "gridcolor": "#506784",
            "linecolor": "#506784",
            "ticks": ""
           },
           "baxis": {
            "gridcolor": "#506784",
            "linecolor": "#506784",
            "ticks": ""
           },
           "caxis": {
            "gridcolor": "#506784",
            "linecolor": "#506784",
            "ticks": ""
           }
          },
          "coloraxis": {
           "colorbar": {
            "outlinewidth": 0,
            "ticks": ""
           }
          },
          "colorscale": {
           "sequential": [
            [
             0.0,
             "#0d0887"
            ],
            [
             0.1111111111111111,
             "#46039f"
            ],
            [
             0.2222222222222222,
             "#7201a8"
            ],
            [
             0.3333333333333333,
             "#9c179e"
            ],
            [
             0.4444444444444444,
             "#bd3786"
            ],
            [
             0.5555555555555556,
             "#d8576b"
            ],
            [
             0.6666666666666666,
             "#ed7953"
            ],
            [
             0.7777777777777778,
             "#fb9f3a"
            ],
            [
             0.8888888888888888,
             "#fdca26"
            ],
            [
             1.0,
             "#f0f921"
            ]
           ],
           "sequentialminus": [
            [
             0.0,
             "#0d0887"
            ],
            [
             0.1111111111111111,
             "#46039f"
            ],
            [
             0.2222222222222222,
             "#7201a8"
            ],
            [
             0.3333333333333333,
             "#9c179e"
            ],
            [
             0.4444444444444444,
             "#bd3786"
            ],
            [
             0.5555555555555556,
             "#d8576b"
            ],
            [
             0.6666666666666666,
             "#ed7953"
            ],
            [
             0.7777777777777778,
             "#fb9f3a"
            ],
            [
             0.8888888888888888,
             "#fdca26"
            ],
            [
             1.0,
             "#f0f921"
            ]
           ],
           "diverging": [
            [
             0,
             "#8e0152"
            ],
            [
             0.1,
             "#c51b7d"
            ],
            [
             0.2,
             "#de77ae"
            ],
            [
             0.3,
             "#f1b6da"
            ],
            [
             0.4,
             "#fde0ef"
            ],
            [
             0.5,
             "#f7f7f7"
            ],
            [
             0.6,
             "#e6f5d0"
            ],
            [
             0.7,
             "#b8e186"
            ],
            [
             0.8,
             "#7fbc41"
            ],
            [
             0.9,
             "#4d9221"
            ],
            [
             1,
             "#276419"
            ]
           ]
          },
          "xaxis": {
           "gridcolor": "#283442",
           "linecolor": "#506784",
           "ticks": "",
           "title": {
            "standoff": 15
           },
           "zerolinecolor": "#283442",
           "automargin": true,
           "zerolinewidth": 2
          },
          "yaxis": {
           "gridcolor": "#283442",
           "linecolor": "#506784",
           "ticks": "",
           "title": {
            "standoff": 15
           },
           "zerolinecolor": "#283442",
           "automargin": true,
           "zerolinewidth": 2
          },
          "scene": {
           "xaxis": {
            "backgroundcolor": "rgb(17,17,17)",
            "gridcolor": "#506784",
            "linecolor": "#506784",
            "showbackground": true,
            "ticks": "",
            "zerolinecolor": "#C8D4E3",
            "gridwidth": 2
           },
           "yaxis": {
            "backgroundcolor": "rgb(17,17,17)",
            "gridcolor": "#506784",
            "linecolor": "#506784",
            "showbackground": true,
            "ticks": "",
            "zerolinecolor": "#C8D4E3",
            "gridwidth": 2
           },
           "zaxis": {
            "backgroundcolor": "rgb(17,17,17)",
            "gridcolor": "#506784",
            "linecolor": "#506784",
            "showbackground": true,
            "ticks": "",
            "zerolinecolor": "#C8D4E3",
            "gridwidth": 2
           }
          },
          "shapedefaults": {
           "line": {
            "color": "#f2f5fa"
           }
          },
          "annotationdefaults": {
           "arrowcolor": "#f2f5fa",
           "arrowhead": 0,
           "arrowwidth": 1
          },
          "geo": {
           "bgcolor": "rgb(17,17,17)",
           "landcolor": "rgb(17,17,17)",
           "subunitcolor": "#506784",
           "showland": true,
           "showlakes": true,
           "lakecolor": "rgb(17,17,17)"
          },
          "title": {
           "x": 0.05
          },
          "updatemenudefaults": {
           "bgcolor": "#506784",
           "borderwidth": 0
          },
          "sliderdefaults": {
           "bgcolor": "#C8D4E3",
           "borderwidth": 1,
           "bordercolor": "rgb(17,17,17)",
           "tickwidth": 0
          },
          "mapbox": {
           "style": "dark"
          }
         }
        },
        "xaxis": {
         "anchor": "y",
         "domain": [
          0.0,
          1.0
         ],
         "title": {
          "text": "Län"
         }
        },
        "yaxis": {
         "anchor": "x",
         "domain": [
          0.0,
          1.0
         ],
         "title": {
          "text": "Percentage"
         }
        },
        "legend": {
         "title": {
          "text": "Doses (%)"
         },
         "tracegroupgap": 0
        },
        "title": {
         "text": "Percentage amount of doses given, Stockholm and Västra Götaland"
        },
        "barmode": "group"
       },
       "config": {
        "plotlyServerURL": "https://plot.ly"
       }
      },
      "text/html": "<div>                            <div id=\"01de4a5d-cc34-4f63-b303-2c11c1d228a1\" class=\"plotly-graph-div\" style=\"height:525px; width:100%;\"></div>            <script type=\"text/javascript\">                require([\"plotly\"], function(Plotly) {                    window.PLOTLYENV=window.PLOTLYENV || {};                                    if (document.getElementById(\"01de4a5d-cc34-4f63-b303-2c11c1d228a1\")) {                    Plotly.newPlot(                        \"01de4a5d-cc34-4f63-b303-2c11c1d228a1\",                        [{\"alignmentgroup\":\"True\",\"hovertemplate\":\"Doses (%)=Andel minst 1 dos\\u003cbr\\u003eL\\u00e4n=%{x}\\u003cbr\\u003ePercentage=%{y}\\u003cextra\\u003e\\u003c\\u002fextra\\u003e\",\"legendgroup\":\"Andel minst 1 dos\",\"marker\":{\"color\":\"#636efa\",\"pattern\":{\"shape\":\"\"}},\"name\":\"Andel minst 1 dos\",\"offsetgroup\":\"Andel minst 1 dos\",\"orientation\":\"v\",\"showlegend\":true,\"textposition\":\"auto\",\"x\":[\"Stockholms l\\u00e4n\",\"V\\u00e4stra G\\u00f6talands l\\u00e4n\"],\"xaxis\":\"x\",\"y\":[83.58682831084586,85.94207297419256],\"yaxis\":\"y\",\"type\":\"bar\"},{\"alignmentgroup\":\"True\",\"hovertemplate\":\"Doses (%)=Andel minst 2 doser\\u003cbr\\u003eL\\u00e4n=%{x}\\u003cbr\\u003ePercentage=%{y}\\u003cextra\\u003e\\u003c\\u002fextra\\u003e\",\"legendgroup\":\"Andel minst 2 doser\",\"marker\":{\"color\":\"#EF553B\",\"pattern\":{\"shape\":\"\"}},\"name\":\"Andel minst 2 doser\",\"offsetgroup\":\"Andel minst 2 doser\",\"orientation\":\"v\",\"showlegend\":true,\"textposition\":\"auto\",\"x\":[\"Stockholms l\\u00e4n\",\"V\\u00e4stra G\\u00f6talands l\\u00e4n\"],\"xaxis\":\"x\",\"y\":[80.59361929799323,83.96878398137663],\"yaxis\":\"y\",\"type\":\"bar\"},{\"alignmentgroup\":\"True\",\"hovertemplate\":\"Doses (%)=Andel 3 doser\\u003cbr\\u003eL\\u00e4n=%{x}\\u003cbr\\u003ePercentage=%{y}\\u003cextra\\u003e\\u003c\\u002fextra\\u003e\",\"legendgroup\":\"Andel 3 doser\",\"marker\":{\"color\":\"#00cc96\",\"pattern\":{\"shape\":\"\"}},\"name\":\"Andel 3 doser\",\"offsetgroup\":\"Andel 3 doser\",\"orientation\":\"v\",\"showlegend\":true,\"textposition\":\"auto\",\"x\":[\"Stockholms l\\u00e4n\",\"V\\u00e4stra G\\u00f6talands l\\u00e4n\"],\"xaxis\":\"x\",\"y\":[56.83207284440679,57.79083553010511],\"yaxis\":\"y\",\"type\":\"bar\"},{\"alignmentgroup\":\"True\",\"hovertemplate\":\"Doses (%)=Andel 4 doser\\u003cbr\\u003eL\\u00e4n=%{x}\\u003cbr\\u003ePercentage=%{y}\\u003cextra\\u003e\\u003c\\u002fextra\\u003e\",\"legendgroup\":\"Andel 4 doser\",\"marker\":{\"color\":\"#ab63fa\",\"pattern\":{\"shape\":\"\"}},\"name\":\"Andel 4 doser\",\"offsetgroup\":\"Andel 4 doser\",\"orientation\":\"v\",\"showlegend\":true,\"textposition\":\"auto\",\"x\":[\"Stockholms l\\u00e4n\",\"V\\u00e4stra G\\u00f6talands l\\u00e4n\"],\"xaxis\":\"x\",\"y\":[24.225737715868114,25.34153713656586],\"yaxis\":\"y\",\"type\":\"bar\"}],                        {\"template\":{\"data\":{\"histogram2dcontour\":[{\"type\":\"histogram2dcontour\",\"colorbar\":{\"outlinewidth\":0,\"ticks\":\"\"},\"colorscale\":[[0.0,\"#0d0887\"],[0.1111111111111111,\"#46039f\"],[0.2222222222222222,\"#7201a8\"],[0.3333333333333333,\"#9c179e\"],[0.4444444444444444,\"#bd3786\"],[0.5555555555555556,\"#d8576b\"],[0.6666666666666666,\"#ed7953\"],[0.7777777777777778,\"#fb9f3a\"],[0.8888888888888888,\"#fdca26\"],[1.0,\"#f0f921\"]]}],\"choropleth\":[{\"type\":\"choropleth\",\"colorbar\":{\"outlinewidth\":0,\"ticks\":\"\"}}],\"histogram2d\":[{\"type\":\"histogram2d\",\"colorbar\":{\"outlinewidth\":0,\"ticks\":\"\"},\"colorscale\":[[0.0,\"#0d0887\"],[0.1111111111111111,\"#46039f\"],[0.2222222222222222,\"#7201a8\"],[0.3333333333333333,\"#9c179e\"],[0.4444444444444444,\"#bd3786\"],[0.5555555555555556,\"#d8576b\"],[0.6666666666666666,\"#ed7953\"],[0.7777777777777778,\"#fb9f3a\"],[0.8888888888888888,\"#fdca26\"],[1.0,\"#f0f921\"]]}],\"heatmap\":[{\"type\":\"heatmap\",\"colorbar\":{\"outlinewidth\":0,\"ticks\":\"\"},\"colorscale\":[[0.0,\"#0d0887\"],[0.1111111111111111,\"#46039f\"],[0.2222222222222222,\"#7201a8\"],[0.3333333333333333,\"#9c179e\"],[0.4444444444444444,\"#bd3786\"],[0.5555555555555556,\"#d8576b\"],[0.6666666666666666,\"#ed7953\"],[0.7777777777777778,\"#fb9f3a\"],[0.8888888888888888,\"#fdca26\"],[1.0,\"#f0f921\"]]}],\"heatmapgl\":[{\"type\":\"heatmapgl\",\"colorbar\":{\"outlinewidth\":0,\"ticks\":\"\"},\"colorscale\":[[0.0,\"#0d0887\"],[0.1111111111111111,\"#46039f\"],[0.2222222222222222,\"#7201a8\"],[0.3333333333333333,\"#9c179e\"],[0.4444444444444444,\"#bd3786\"],[0.5555555555555556,\"#d8576b\"],[0.6666666666666666,\"#ed7953\"],[0.7777777777777778,\"#fb9f3a\"],[0.8888888888888888,\"#fdca26\"],[1.0,\"#f0f921\"]]}],\"contourcarpet\":[{\"type\":\"contourcarpet\",\"colorbar\":{\"outlinewidth\":0,\"ticks\":\"\"}}],\"contour\":[{\"type\":\"contour\",\"colorbar\":{\"outlinewidth\":0,\"ticks\":\"\"},\"colorscale\":[[0.0,\"#0d0887\"],[0.1111111111111111,\"#46039f\"],[0.2222222222222222,\"#7201a8\"],[0.3333333333333333,\"#9c179e\"],[0.4444444444444444,\"#bd3786\"],[0.5555555555555556,\"#d8576b\"],[0.6666666666666666,\"#ed7953\"],[0.7777777777777778,\"#fb9f3a\"],[0.8888888888888888,\"#fdca26\"],[1.0,\"#f0f921\"]]}],\"surface\":[{\"type\":\"surface\",\"colorbar\":{\"outlinewidth\":0,\"ticks\":\"\"},\"colorscale\":[[0.0,\"#0d0887\"],[0.1111111111111111,\"#46039f\"],[0.2222222222222222,\"#7201a8\"],[0.3333333333333333,\"#9c179e\"],[0.4444444444444444,\"#bd3786\"],[0.5555555555555556,\"#d8576b\"],[0.6666666666666666,\"#ed7953\"],[0.7777777777777778,\"#fb9f3a\"],[0.8888888888888888,\"#fdca26\"],[1.0,\"#f0f921\"]]}],\"mesh3d\":[{\"type\":\"mesh3d\",\"colorbar\":{\"outlinewidth\":0,\"ticks\":\"\"}}],\"scatter\":[{\"marker\":{\"line\":{\"color\":\"#283442\"}},\"type\":\"scatter\"}],\"parcoords\":[{\"type\":\"parcoords\",\"line\":{\"colorbar\":{\"outlinewidth\":0,\"ticks\":\"\"}}}],\"scatterpolargl\":[{\"type\":\"scatterpolargl\",\"marker\":{\"colorbar\":{\"outlinewidth\":0,\"ticks\":\"\"}}}],\"bar\":[{\"error_x\":{\"color\":\"#f2f5fa\"},\"error_y\":{\"color\":\"#f2f5fa\"},\"marker\":{\"line\":{\"color\":\"rgb(17,17,17)\",\"width\":0.5},\"pattern\":{\"fillmode\":\"overlay\",\"size\":10,\"solidity\":0.2}},\"type\":\"bar\"}],\"scattergeo\":[{\"type\":\"scattergeo\",\"marker\":{\"colorbar\":{\"outlinewidth\":0,\"ticks\":\"\"}}}],\"scatterpolar\":[{\"type\":\"scatterpolar\",\"marker\":{\"colorbar\":{\"outlinewidth\":0,\"ticks\":\"\"}}}],\"histogram\":[{\"marker\":{\"pattern\":{\"fillmode\":\"overlay\",\"size\":10,\"solidity\":0.2}},\"type\":\"histogram\"}],\"scattergl\":[{\"marker\":{\"line\":{\"color\":\"#283442\"}},\"type\":\"scattergl\"}],\"scatter3d\":[{\"type\":\"scatter3d\",\"line\":{\"colorbar\":{\"outlinewidth\":0,\"ticks\":\"\"}},\"marker\":{\"colorbar\":{\"outlinewidth\":0,\"ticks\":\"\"}}}],\"scattermapbox\":[{\"type\":\"scattermapbox\",\"marker\":{\"colorbar\":{\"outlinewidth\":0,\"ticks\":\"\"}}}],\"scatterternary\":[{\"type\":\"scatterternary\",\"marker\":{\"colorbar\":{\"outlinewidth\":0,\"ticks\":\"\"}}}],\"scattercarpet\":[{\"type\":\"scattercarpet\",\"marker\":{\"colorbar\":{\"outlinewidth\":0,\"ticks\":\"\"}}}],\"carpet\":[{\"aaxis\":{\"endlinecolor\":\"#A2B1C6\",\"gridcolor\":\"#506784\",\"linecolor\":\"#506784\",\"minorgridcolor\":\"#506784\",\"startlinecolor\":\"#A2B1C6\"},\"baxis\":{\"endlinecolor\":\"#A2B1C6\",\"gridcolor\":\"#506784\",\"linecolor\":\"#506784\",\"minorgridcolor\":\"#506784\",\"startlinecolor\":\"#A2B1C6\"},\"type\":\"carpet\"}],\"table\":[{\"cells\":{\"fill\":{\"color\":\"#506784\"},\"line\":{\"color\":\"rgb(17,17,17)\"}},\"header\":{\"fill\":{\"color\":\"#2a3f5f\"},\"line\":{\"color\":\"rgb(17,17,17)\"}},\"type\":\"table\"}],\"barpolar\":[{\"marker\":{\"line\":{\"color\":\"rgb(17,17,17)\",\"width\":0.5},\"pattern\":{\"fillmode\":\"overlay\",\"size\":10,\"solidity\":0.2}},\"type\":\"barpolar\"}],\"pie\":[{\"automargin\":true,\"type\":\"pie\"}]},\"layout\":{\"autotypenumbers\":\"strict\",\"colorway\":[\"#636efa\",\"#EF553B\",\"#00cc96\",\"#ab63fa\",\"#FFA15A\",\"#19d3f3\",\"#FF6692\",\"#B6E880\",\"#FF97FF\",\"#FECB52\"],\"font\":{\"color\":\"#f2f5fa\"},\"hovermode\":\"closest\",\"hoverlabel\":{\"align\":\"left\"},\"paper_bgcolor\":\"rgb(17,17,17)\",\"plot_bgcolor\":\"rgb(17,17,17)\",\"polar\":{\"bgcolor\":\"rgb(17,17,17)\",\"angularaxis\":{\"gridcolor\":\"#506784\",\"linecolor\":\"#506784\",\"ticks\":\"\"},\"radialaxis\":{\"gridcolor\":\"#506784\",\"linecolor\":\"#506784\",\"ticks\":\"\"}},\"ternary\":{\"bgcolor\":\"rgb(17,17,17)\",\"aaxis\":{\"gridcolor\":\"#506784\",\"linecolor\":\"#506784\",\"ticks\":\"\"},\"baxis\":{\"gridcolor\":\"#506784\",\"linecolor\":\"#506784\",\"ticks\":\"\"},\"caxis\":{\"gridcolor\":\"#506784\",\"linecolor\":\"#506784\",\"ticks\":\"\"}},\"coloraxis\":{\"colorbar\":{\"outlinewidth\":0,\"ticks\":\"\"}},\"colorscale\":{\"sequential\":[[0.0,\"#0d0887\"],[0.1111111111111111,\"#46039f\"],[0.2222222222222222,\"#7201a8\"],[0.3333333333333333,\"#9c179e\"],[0.4444444444444444,\"#bd3786\"],[0.5555555555555556,\"#d8576b\"],[0.6666666666666666,\"#ed7953\"],[0.7777777777777778,\"#fb9f3a\"],[0.8888888888888888,\"#fdca26\"],[1.0,\"#f0f921\"]],\"sequentialminus\":[[0.0,\"#0d0887\"],[0.1111111111111111,\"#46039f\"],[0.2222222222222222,\"#7201a8\"],[0.3333333333333333,\"#9c179e\"],[0.4444444444444444,\"#bd3786\"],[0.5555555555555556,\"#d8576b\"],[0.6666666666666666,\"#ed7953\"],[0.7777777777777778,\"#fb9f3a\"],[0.8888888888888888,\"#fdca26\"],[1.0,\"#f0f921\"]],\"diverging\":[[0,\"#8e0152\"],[0.1,\"#c51b7d\"],[0.2,\"#de77ae\"],[0.3,\"#f1b6da\"],[0.4,\"#fde0ef\"],[0.5,\"#f7f7f7\"],[0.6,\"#e6f5d0\"],[0.7,\"#b8e186\"],[0.8,\"#7fbc41\"],[0.9,\"#4d9221\"],[1,\"#276419\"]]},\"xaxis\":{\"gridcolor\":\"#283442\",\"linecolor\":\"#506784\",\"ticks\":\"\",\"title\":{\"standoff\":15},\"zerolinecolor\":\"#283442\",\"automargin\":true,\"zerolinewidth\":2},\"yaxis\":{\"gridcolor\":\"#283442\",\"linecolor\":\"#506784\",\"ticks\":\"\",\"title\":{\"standoff\":15},\"zerolinecolor\":\"#283442\",\"automargin\":true,\"zerolinewidth\":2},\"scene\":{\"xaxis\":{\"backgroundcolor\":\"rgb(17,17,17)\",\"gridcolor\":\"#506784\",\"linecolor\":\"#506784\",\"showbackground\":true,\"ticks\":\"\",\"zerolinecolor\":\"#C8D4E3\",\"gridwidth\":2},\"yaxis\":{\"backgroundcolor\":\"rgb(17,17,17)\",\"gridcolor\":\"#506784\",\"linecolor\":\"#506784\",\"showbackground\":true,\"ticks\":\"\",\"zerolinecolor\":\"#C8D4E3\",\"gridwidth\":2},\"zaxis\":{\"backgroundcolor\":\"rgb(17,17,17)\",\"gridcolor\":\"#506784\",\"linecolor\":\"#506784\",\"showbackground\":true,\"ticks\":\"\",\"zerolinecolor\":\"#C8D4E3\",\"gridwidth\":2}},\"shapedefaults\":{\"line\":{\"color\":\"#f2f5fa\"}},\"annotationdefaults\":{\"arrowcolor\":\"#f2f5fa\",\"arrowhead\":0,\"arrowwidth\":1},\"geo\":{\"bgcolor\":\"rgb(17,17,17)\",\"landcolor\":\"rgb(17,17,17)\",\"subunitcolor\":\"#506784\",\"showland\":true,\"showlakes\":true,\"lakecolor\":\"rgb(17,17,17)\"},\"title\":{\"x\":0.05},\"updatemenudefaults\":{\"bgcolor\":\"#506784\",\"borderwidth\":0},\"sliderdefaults\":{\"bgcolor\":\"#C8D4E3\",\"borderwidth\":1,\"bordercolor\":\"rgb(17,17,17)\",\"tickwidth\":0},\"mapbox\":{\"style\":\"dark\"}}},\"xaxis\":{\"anchor\":\"y\",\"domain\":[0.0,1.0],\"title\":{\"text\":\"L\\u00e4n\"}},\"yaxis\":{\"anchor\":\"x\",\"domain\":[0.0,1.0],\"title\":{\"text\":\"Percentage\"}},\"legend\":{\"title\":{\"text\":\"Doses (%)\"},\"tracegroupgap\":0},\"title\":{\"text\":\"Percentage amount of doses given, Stockholm and V\\u00e4stra G\\u00f6taland\"},\"barmode\":\"group\"},                        {\"responsive\": true}                    ).then(function(){\n                            \nvar gd = document.getElementById('01de4a5d-cc34-4f63-b303-2c11c1d228a1');\nvar x = new MutationObserver(function (mutations, observer) {{\n        var display = window.getComputedStyle(gd).display;\n        if (!display || display === 'none') {{\n            console.log([gd, 'removed!']);\n            Plotly.purge(gd);\n            observer.disconnect();\n        }}\n}});\n\n// Listen for the removal of the full notebook cells\nvar notebookContainer = gd.closest('#notebook-container');\nif (notebookContainer) {{\n    x.observe(notebookContainer, {childList: true});\n}}\n\n// Listen for the clearing of the current output cell\nvar outputEl = gd.closest('.output');\nif (outputEl) {{\n    x.observe(outputEl, {childList: true});\n}}\n\n                        })                };                });            </script>        </div>"
     },
     "metadata": {},
     "output_type": "display_data"
    }
   ],
   "source": [
    "stholm_and_vgotaland_counties_diagram = px.bar(stholm_and_vgotaland_counties, \n",
    "                                               x=\"Län_namn\", \n",
    "                                               y=[\"Andel minst 1 dos\", \n",
    "                                                  \"Andel minst 2 doser\", \n",
    "                                                  \"Andel 3 doser\",\n",
    "                                                  \"Andel 4 doser\"],\n",
    "                                               title=\"Percentage amount of doses given, Stockholm and Västra Götaland\",\n",
    "                                               labels={\"value\": \"Percentage\", \"variable\": \"Doses (%)\", \"Län_namn\": \"Län\"},\n",
    "                                               barmode=\"group\"\n",
    "                                               )\n",
    "stholm_and_vgotaland_counties_diagram.show()\n",
    "stholm_and_vgotaland_counties_diagram.write_html(\"./Visualisations/Task_2_plotly_amount_of_doses_stholm_and_vgotaland.html\")\n"
   ],
   "metadata": {
    "collapsed": false,
    "ExecuteTime": {
     "end_time": "2023-11-14T10:13:30.920240900Z",
     "start_time": "2023-11-14T10:13:30.834016600Z"
    }
   },
   "id": "5acfdf95fac6f31f"
  },
  {
   "cell_type": "markdown",
   "source": [],
   "metadata": {
    "collapsed": false
   },
   "id": "32db6f19cf4f2beb"
  },
  {
   "cell_type": "markdown",
   "source": [],
   "metadata": {
    "collapsed": false
   },
   "id": "2c9e5dd6ac293106"
  }
 ],
 "metadata": {
  "kernelspec": {
   "display_name": "Python 3",
   "language": "python",
   "name": "python3"
  },
  "language_info": {
   "codemirror_mode": {
    "name": "ipython",
    "version": 2
   },
   "file_extension": ".py",
   "mimetype": "text/x-python",
   "name": "python",
   "nbconvert_exporter": "python",
   "pygments_lexer": "ipython2",
   "version": "2.7.6"
  }
 },
 "nbformat": 4,
 "nbformat_minor": 5
}
