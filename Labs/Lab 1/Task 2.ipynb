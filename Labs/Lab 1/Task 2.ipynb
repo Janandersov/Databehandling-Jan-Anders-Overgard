{
 "cells": [
  {
   "cell_type": "code",
   "execution_count": 1,
   "id": "initial_id",
   "metadata": {
    "collapsed": true,
    "ExecuteTime": {
     "end_time": "2023-11-14T05:27:34.779446900Z",
     "start_time": "2023-11-14T05:27:34.578370600Z"
    }
   },
   "outputs": [],
   "source": [
    "import plotly_express as px\n",
    "import pandas as pd"
   ]
  },
  {
   "cell_type": "markdown",
   "source": [
    "# Importing dataset from excel file"
   ],
   "metadata": {
    "collapsed": false
   },
   "id": "5500e931d6b01d2a"
  },
  {
   "cell_type": "code",
   "execution_count": 14,
   "outputs": [],
   "source": [
    "df_vaccine_data = pd.read_excel(\"./Data/folkhalsomyndigheten_Covid19_Vaccine.xlsx\", sheet_name= \"Vaccinerade kommun och ålder\")"
   ],
   "metadata": {
    "collapsed": false,
    "ExecuteTime": {
     "end_time": "2023-11-14T05:44:31.504059200Z",
     "start_time": "2023-11-14T05:44:30.703820300Z"
    }
   },
   "id": "af8ba3df16e537ef"
  },
  {
   "cell_type": "code",
   "execution_count": 15,
   "outputs": [
    {
     "name": "stdout",
     "output_type": "stream",
     "text": [
      "<class 'pandas.core.frame.DataFrame'>\n",
      "RangeIndex: 2900 entries, 0 to 2899\n",
      "Data columns (total 14 columns):\n",
      " #   Column               Non-Null Count  Dtype  \n",
      "---  ------               --------------  -----  \n",
      " 0   Län                  2900 non-null   int64  \n",
      " 1   Län_namn             2900 non-null   object \n",
      " 2   Kommun               2900 non-null   int64  \n",
      " 3   Kommun_namn          2900 non-null   object \n",
      " 4   Ålder                2900 non-null   object \n",
      " 5   Befolkning           2900 non-null   int64  \n",
      " 6   Antal minst 1 dos    2900 non-null   int64  \n",
      " 7   Antal minst 2 doser  2900 non-null   int64  \n",
      " 8   Antal 3 doser        2320 non-null   float64\n",
      " 9   Antal 4 doser        870 non-null    float64\n",
      " 10  Andel minst 1 dos    2900 non-null   float64\n",
      " 11  Andel minst 2 doser  2900 non-null   float64\n",
      " 12  Andel 3 doser        2320 non-null   float64\n",
      " 13  Andel 4 doser        870 non-null    float64\n",
      "dtypes: float64(6), int64(5), object(3)\n",
      "memory usage: 317.3+ KB\n"
     ]
    }
   ],
   "source": [
    "df_vaccine_data.info()"
   ],
   "metadata": {
    "collapsed": false,
    "ExecuteTime": {
     "end_time": "2023-11-14T05:44:32.106170900Z",
     "start_time": "2023-11-14T05:44:32.089966100Z"
    }
   },
   "id": "7682c95fa4df29e3"
  },
  {
   "cell_type": "code",
   "execution_count": 16,
   "outputs": [
    {
     "data": {
      "text/plain": "   Län        Län_namn  Kommun     Kommun_namn  Ålder  Befolkning  \\\n0    1  Stockholms län     114  Upplands Väsby  12-15        2422   \n1    1  Stockholms län     114  Upplands Väsby  16-17        1203   \n2    1  Stockholms län     114  Upplands Väsby  18-29        6692   \n3    1  Stockholms län     114  Upplands Väsby  30-39        7332   \n4    1  Stockholms län     114  Upplands Väsby  40-49        6946   \n5    1  Stockholms län     114  Upplands Väsby  50-59        6332   \n6    1  Stockholms län     114  Upplands Väsby  60-69        4258   \n\n   Antal minst 1 dos  Antal minst 2 doser  Antal 3 doser  Antal 4 doser  \\\n0               1206                 1046            NaN            NaN   \n1                839                  755            NaN            NaN   \n2               4887                 4469         1959.0            NaN   \n3               5542                 5240         2878.0            NaN   \n4               5592                 5429         3719.0            NaN   \n5               5644                 5558         4535.0            NaN   \n6               3829                 3786         3335.0            NaN   \n\n   Andel minst 1 dos  Andel minst 2 doser  Andel 3 doser  Andel 4 doser  \n0           0.497936             0.431874            NaN            NaN  \n1           0.697423             0.627598            NaN            NaN  \n2           0.730275             0.667812       0.292738            NaN  \n3           0.755865             0.714675       0.392526            NaN  \n4           0.805068             0.781601       0.535416            NaN  \n5           0.891346             0.877764       0.716203            NaN  \n6           0.899248             0.889150       0.783232            NaN  ",
      "text/html": "<div>\n<style scoped>\n    .dataframe tbody tr th:only-of-type {\n        vertical-align: middle;\n    }\n\n    .dataframe tbody tr th {\n        vertical-align: top;\n    }\n\n    .dataframe thead th {\n        text-align: right;\n    }\n</style>\n<table border=\"1\" class=\"dataframe\">\n  <thead>\n    <tr style=\"text-align: right;\">\n      <th></th>\n      <th>Län</th>\n      <th>Län_namn</th>\n      <th>Kommun</th>\n      <th>Kommun_namn</th>\n      <th>Ålder</th>\n      <th>Befolkning</th>\n      <th>Antal minst 1 dos</th>\n      <th>Antal minst 2 doser</th>\n      <th>Antal 3 doser</th>\n      <th>Antal 4 doser</th>\n      <th>Andel minst 1 dos</th>\n      <th>Andel minst 2 doser</th>\n      <th>Andel 3 doser</th>\n      <th>Andel 4 doser</th>\n    </tr>\n  </thead>\n  <tbody>\n    <tr>\n      <th>0</th>\n      <td>1</td>\n      <td>Stockholms län</td>\n      <td>114</td>\n      <td>Upplands Väsby</td>\n      <td>12-15</td>\n      <td>2422</td>\n      <td>1206</td>\n      <td>1046</td>\n      <td>NaN</td>\n      <td>NaN</td>\n      <td>0.497936</td>\n      <td>0.431874</td>\n      <td>NaN</td>\n      <td>NaN</td>\n    </tr>\n    <tr>\n      <th>1</th>\n      <td>1</td>\n      <td>Stockholms län</td>\n      <td>114</td>\n      <td>Upplands Väsby</td>\n      <td>16-17</td>\n      <td>1203</td>\n      <td>839</td>\n      <td>755</td>\n      <td>NaN</td>\n      <td>NaN</td>\n      <td>0.697423</td>\n      <td>0.627598</td>\n      <td>NaN</td>\n      <td>NaN</td>\n    </tr>\n    <tr>\n      <th>2</th>\n      <td>1</td>\n      <td>Stockholms län</td>\n      <td>114</td>\n      <td>Upplands Väsby</td>\n      <td>18-29</td>\n      <td>6692</td>\n      <td>4887</td>\n      <td>4469</td>\n      <td>1959.0</td>\n      <td>NaN</td>\n      <td>0.730275</td>\n      <td>0.667812</td>\n      <td>0.292738</td>\n      <td>NaN</td>\n    </tr>\n    <tr>\n      <th>3</th>\n      <td>1</td>\n      <td>Stockholms län</td>\n      <td>114</td>\n      <td>Upplands Väsby</td>\n      <td>30-39</td>\n      <td>7332</td>\n      <td>5542</td>\n      <td>5240</td>\n      <td>2878.0</td>\n      <td>NaN</td>\n      <td>0.755865</td>\n      <td>0.714675</td>\n      <td>0.392526</td>\n      <td>NaN</td>\n    </tr>\n    <tr>\n      <th>4</th>\n      <td>1</td>\n      <td>Stockholms län</td>\n      <td>114</td>\n      <td>Upplands Väsby</td>\n      <td>40-49</td>\n      <td>6946</td>\n      <td>5592</td>\n      <td>5429</td>\n      <td>3719.0</td>\n      <td>NaN</td>\n      <td>0.805068</td>\n      <td>0.781601</td>\n      <td>0.535416</td>\n      <td>NaN</td>\n    </tr>\n    <tr>\n      <th>5</th>\n      <td>1</td>\n      <td>Stockholms län</td>\n      <td>114</td>\n      <td>Upplands Väsby</td>\n      <td>50-59</td>\n      <td>6332</td>\n      <td>5644</td>\n      <td>5558</td>\n      <td>4535.0</td>\n      <td>NaN</td>\n      <td>0.891346</td>\n      <td>0.877764</td>\n      <td>0.716203</td>\n      <td>NaN</td>\n    </tr>\n    <tr>\n      <th>6</th>\n      <td>1</td>\n      <td>Stockholms län</td>\n      <td>114</td>\n      <td>Upplands Väsby</td>\n      <td>60-69</td>\n      <td>4258</td>\n      <td>3829</td>\n      <td>3786</td>\n      <td>3335.0</td>\n      <td>NaN</td>\n      <td>0.899248</td>\n      <td>0.889150</td>\n      <td>0.783232</td>\n      <td>NaN</td>\n    </tr>\n  </tbody>\n</table>\n</div>"
     },
     "execution_count": 16,
     "metadata": {},
     "output_type": "execute_result"
    }
   ],
   "source": [
    "df_vaccine_data.head(7)"
   ],
   "metadata": {
    "collapsed": false,
    "ExecuteTime": {
     "end_time": "2023-11-14T05:44:33.170169500Z",
     "start_time": "2023-11-14T05:44:33.156646600Z"
    }
   },
   "id": "fd3708f6279a7f00"
  },
  {
   "cell_type": "markdown",
   "source": [
    "### Task A\n",
    "Counties in the dataset"
   ],
   "metadata": {
    "collapsed": false
   },
   "id": "b84ba40c4adb4402"
  },
  {
   "cell_type": "code",
   "execution_count": 17,
   "outputs": [
    {
     "data": {
      "text/plain": "array(['Stockholms län', 'Uppsala län', 'Södermanlands län',\n       'Östergötlands län', 'Jönköpings län', 'Kronobergs län',\n       'Kalmar län', 'Gotlands län', 'Blekinge län', 'Skåne län',\n       'Hallands län', 'Västra Götalands län', 'Värmlands län',\n       'Örebro län', 'Västmanlands län', 'Dalarnas län', 'Gävleborgs län',\n       'Västernorrlands län', 'Jämtlands län', 'Västerbottens län',\n       'Norrbottens län'], dtype=object)"
     },
     "execution_count": 17,
     "metadata": {},
     "output_type": "execute_result"
    }
   ],
   "source": [
    "df_vaccine_data[\"Län_namn\"].unique()"
   ],
   "metadata": {
    "collapsed": false,
    "ExecuteTime": {
     "end_time": "2023-11-14T05:44:36.695451Z",
     "start_time": "2023-11-14T05:44:36.684467800Z"
    }
   },
   "id": "a8bff4e991c9e5c9"
  },
  {
   "cell_type": "code",
   "execution_count": 18,
   "outputs": [
    {
     "data": {
      "text/plain": "21"
     },
     "execution_count": 18,
     "metadata": {},
     "output_type": "execute_result"
    }
   ],
   "source": [
    "df_vaccine_data[\"Län_namn\"].nunique()"
   ],
   "metadata": {
    "collapsed": false,
    "ExecuteTime": {
     "end_time": "2023-11-14T05:44:37.536847700Z",
     "start_time": "2023-11-14T05:44:37.519526300Z"
    }
   },
   "id": "fcec897fdebd0ab6"
  },
  {
   "cell_type": "markdown",
   "source": [
    "There are 21 counties in sweden, so the dataset seems to have data about all of them."
   ],
   "metadata": {
    "collapsed": false
   },
   "id": "ce85ed53101bb141"
  },
  {
   "cell_type": "markdown",
   "source": [
    "### Task B\n",
    "Municipalities in the dataset"
   ],
   "metadata": {
    "collapsed": false
   },
   "id": "6fe8959e6769a775"
  },
  {
   "cell_type": "code",
   "execution_count": 22,
   "outputs": [
    {
     "data": {
      "text/plain": "array(['Upplands Väsby', 'Vallentuna', 'Österåker', 'Värmdö', 'Järfälla',\n       'Ekerö', 'Huddinge', 'Botkyrka', 'Salem', 'Haninge', 'Tyresö',\n       'Upplands-Bro', 'Nykvarn', 'Täby', 'Danderyd', 'Sollentuna',\n       'Stockholm', 'Södertälje', 'Nacka', 'Sundbyberg', 'Solna',\n       'Lidingö', 'Vaxholm', 'Norrtälje', 'Sigtuna', 'Nynäshamn', 'Håbo',\n       'Älvkarleby', 'Knivsta', 'Heby', 'Tierp', 'Uppsala', 'Enköping',\n       'Östhammar', 'Vingåker', 'Gnesta', 'Nyköping', 'Oxelösund', 'Flen',\n       'Katrineholm', 'Eskilstuna', 'Strängnäs', 'Trosa', 'Ödeshög',\n       'Ydre', 'Kinda', 'Boxholm', 'Åtvidaberg', 'Finspång',\n       'Valdemarsvik', 'Linköping', 'Norrköping', 'Söderköping', 'Motala',\n       'Vadstena', 'Mjölby', 'Aneby', 'Gnosjö', 'Mullsjö', 'Habo',\n       'Gislaved', 'Vaggeryd', 'Jönköping', 'Nässjö', 'Värnamo', 'Sävsjö',\n       'Vetlanda', 'Eksjö', 'Tranås', 'Uppvidinge', 'Lessebo', 'Tingsryd',\n       'Alvesta', 'Älmhult', 'Markaryd', 'Växjö', 'Ljungby', 'Högsby',\n       'Torsås', 'Mörbylånga', 'Hultsfred', 'Mönsterås', 'Emmaboda',\n       'Kalmar', 'Nybro', 'Oskarshamn', 'Västervik', 'Vimmerby',\n       'Borgholm', 'Gotland', 'Olofström', 'Karlskrona', 'Ronneby',\n       'Karlshamn', 'Sölvesborg', 'Svalöv', 'Staffanstorp', 'Burlöv',\n       'Vellinge', 'Östra Göinge', 'Örkelljunga', 'Bjuv', 'Kävlinge',\n       'Lomma', 'Svedala', 'Skurup', 'Sjöbo', 'Hörby', 'Höör',\n       'Tomelilla', 'Bromölla', 'Osby', 'Perstorp', 'Klippan', 'Åstorp',\n       'Båstad', 'Malmö', 'Lund', 'Landskrona', 'Helsingborg', 'Höganäs',\n       'Eslöv', 'Ystad', 'Trelleborg', 'Kristianstad', 'Simrishamn',\n       'Ängelholm', 'Hässleholm', 'Hylte', 'Halmstad', 'Laholm',\n       'Falkenberg', 'Varberg', 'Kungsbacka', 'Härryda', 'Partille',\n       'Öckerö', 'Stenungsund', 'Tjörn', 'Orust', 'Sotenäs', 'Munkedal',\n       'Tanum', 'Dals-Ed', 'Färgelanda', 'Ale', 'Lerum', 'Vårgårda',\n       'Bollebygd', 'Grästorp', 'Essunga', 'Karlsborg', 'Gullspång',\n       'Tranemo', 'Bengtsfors', 'Mellerud', 'Lilla Edet', 'Mark',\n       'Svenljunga', 'Herrljunga', 'Vara', 'Götene', 'Tibro', 'Töreboda',\n       'Göteborg', 'Mölndal', 'Kungälv', 'Lysekil', 'Uddevalla',\n       'Strömstad', 'Vänersborg', 'Trollhättan', 'Alingsås', 'Borås',\n       'Ulricehamn', 'Åmål', 'Mariestad', 'Lidköping', 'Skara', 'Skövde',\n       'Hjo', 'Tidaholm', 'Falköping', 'Kil', 'Eda', 'Torsby', 'Storfors',\n       'Hammarö', 'Munkfors', 'Forshaga', 'Grums', 'Årjäng', 'Sunne',\n       'Karlstad', 'Kristinehamn', 'Filipstad', 'Hagfors', 'Arvika',\n       'Säffle', 'Lekeberg', 'Laxå', 'Hallsberg', 'Degerfors',\n       'Hällefors', 'Ljusnarsberg', 'Örebro', 'Kumla', 'Askersund',\n       'Karlskoga', 'Nora', 'Lindesberg', 'Skinnskatteberg', 'Surahammar',\n       'Kungsör', 'Hallstahammar', 'Norberg', 'Västerås', 'Sala',\n       'Fagersta', 'Köping', 'Arboga', 'Vansbro', 'Malung-Sälen',\n       'Gagnef', 'Leksand', 'Rättvik', 'Orsa', 'Älvdalen', 'Smedjebacken',\n       'Mora', 'Falun', 'Borlänge', 'Säter', 'Hedemora', 'Avesta',\n       'Ludvika', 'Ockelbo', 'Hofors', 'Ovanåker', 'Nordanstig',\n       'Ljusdal', 'Gävle', 'Sandviken', 'Söderhamn', 'Bollnäs',\n       'Hudiksvall', 'Ånge', 'Timrå', 'Härnösand', 'Sundsvall',\n       'Kramfors', 'Sollefteå', 'Örnsköldsvik', 'Ragunda', 'Bräcke',\n       'Krokom', 'Strömsund', 'Åre', 'Berg', 'Härjedalen', 'Östersund',\n       'Nordmaling', 'Bjurholm', 'Vindeln', 'Robertsfors', 'Norsjö',\n       'Malå', 'Storuman', 'Sorsele', 'Dorotea', 'Vännäs', 'Vilhelmina',\n       'Åsele', 'Umeå', 'Lycksele', 'Skellefteå', 'Arvidsjaur',\n       'Arjeplog', 'Jokkmokk', 'Överkalix', 'Kalix', 'Övertorneå',\n       'Pajala', 'Gällivare', 'Älvsbyn', 'Luleå', 'Piteå', 'Boden',\n       'Haparanda', 'Kiruna'], dtype=object)"
     },
     "execution_count": 22,
     "metadata": {},
     "output_type": "execute_result"
    }
   ],
   "source": [
    "df_vaccine_data[\"Kommun_namn\"].unique()"
   ],
   "metadata": {
    "collapsed": false,
    "ExecuteTime": {
     "end_time": "2023-11-14T05:45:31.884268Z",
     "start_time": "2023-11-14T05:45:31.873027500Z"
    }
   },
   "id": "8210180e5057a974"
  },
  {
   "cell_type": "code",
   "execution_count": 23,
   "outputs": [
    {
     "data": {
      "text/plain": "290"
     },
     "execution_count": 23,
     "metadata": {},
     "output_type": "execute_result"
    }
   ],
   "source": [
    "df_vaccine_data[\"Kommun_namn\"].nunique()"
   ],
   "metadata": {
    "collapsed": false,
    "ExecuteTime": {
     "end_time": "2023-11-14T05:45:32.614692500Z",
     "start_time": "2023-11-14T05:45:32.601304100Z"
    }
   },
   "id": "762374f5a73310c5"
  },
  {
   "cell_type": "markdown",
   "source": [
    "There are 290 counties in sweden, so the dataset seems to have data about all of them as well."
   ],
   "metadata": {
    "collapsed": false
   },
   "id": "1247a10736dd7cb3"
  },
  {
   "cell_type": "markdown",
   "source": [
    "### Task C\n",
    "Population in the dataset"
   ],
   "metadata": {
    "collapsed": false
   },
   "id": "fcff98a0a6cf717b"
  },
  {
   "cell_type": "code",
   "execution_count": 33,
   "outputs": [],
   "source": [
    "vaccine_data_population = df_vaccine_data[\"Befolkning\"].sum()"
   ],
   "metadata": {
    "collapsed": false,
    "ExecuteTime": {
     "end_time": "2023-11-14T06:15:53.668973300Z",
     "start_time": "2023-11-14T06:15:53.635189700Z"
    }
   },
   "id": "f53459461b81f7d5"
  },
  {
   "cell_type": "code",
   "execution_count": 34,
   "outputs": [
    {
     "data": {
      "text/plain": "9092790"
     },
     "execution_count": 34,
     "metadata": {},
     "output_type": "execute_result"
    }
   ],
   "source": [
    "vaccine_data_population"
   ],
   "metadata": {
    "collapsed": false,
    "ExecuteTime": {
     "end_time": "2023-11-14T06:15:54.218568Z",
     "start_time": "2023-11-14T06:15:54.186516700Z"
    }
   },
   "id": "8022b90f9804650d"
  },
  {
   "cell_type": "markdown",
   "source": [
    "It seems that the population in the dataset is 9 092 790 people."
   ],
   "metadata": {
    "collapsed": false
   },
   "id": "509cd2b11a3cba39"
  },
  {
   "cell_type": "markdown",
   "source": [
    "### Task D\n",
    "Children under age 18"
   ],
   "metadata": {
    "collapsed": false
   },
   "id": "ae6ec121484f761e"
  },
  {
   "cell_type": "code",
   "execution_count": 30,
   "outputs": [],
   "source": [
    "df_vaccine_data_ages = df_vaccine_data[\"Ålder\"].unique()"
   ],
   "metadata": {
    "collapsed": false,
    "ExecuteTime": {
     "end_time": "2023-11-14T06:03:47.893135400Z",
     "start_time": "2023-11-14T06:03:47.876652600Z"
    }
   },
   "id": "2f2dc9fc7e366f6f"
  },
  {
   "cell_type": "code",
   "execution_count": 31,
   "outputs": [
    {
     "data": {
      "text/plain": "array(['12-15', '16-17', '18-29', '30-39', '40-49', '50-59', '60-69',\n       '70-79', '80-89', '90 eller äldre'], dtype=object)"
     },
     "execution_count": 31,
     "metadata": {},
     "output_type": "execute_result"
    }
   ],
   "source": [
    "df_vaccine_data_ages"
   ],
   "metadata": {
    "collapsed": false,
    "ExecuteTime": {
     "end_time": "2023-11-14T06:03:48.826048900Z",
     "start_time": "2023-11-14T06:03:48.813140200Z"
    }
   },
   "id": "fb05eb9c54471db2"
  },
  {
   "cell_type": "markdown",
   "source": [
    "Looking at the dataset, it doesn't seem to have data about children under the age of 12.\n",
    "We'll have to use info about whole population of sweden in 2022 to help us find those.\n",
    "According to SCB the population of sweden was 10 521 556 in 2022."
   ],
   "metadata": {
    "collapsed": false
   },
   "id": "4d781ce2a3febca3"
  },
  {
   "cell_type": "code",
   "execution_count": 32,
   "outputs": [],
   "source": [
    "sweden_population_2022 = 10521556"
   ],
   "metadata": {
    "collapsed": false,
    "ExecuteTime": {
     "end_time": "2023-11-14T06:14:15.387965200Z",
     "start_time": "2023-11-14T06:14:15.363666600Z"
    }
   },
   "id": "74b627c894c2664f"
  },
  {
   "cell_type": "code",
   "execution_count": 36,
   "outputs": [],
   "source": [
    "excluded_age_groups = [\"12-15\", \"16-17\"]\n",
    "adult_population = df_vaccine_data[~df_vaccine_data[\"Ålder\"].isin(excluded_age_groups)][\"Befolkning\"].sum()"
   ],
   "metadata": {
    "collapsed": false,
    "ExecuteTime": {
     "end_time": "2023-11-14T06:25:59.314138600Z",
     "start_time": "2023-11-14T06:25:59.303065400Z"
    }
   },
   "id": "86e68128a7c00cad"
  },
  {
   "cell_type": "code",
   "execution_count": 37,
   "outputs": [
    {
     "data": {
      "text/plain": "8347420"
     },
     "execution_count": 37,
     "metadata": {},
     "output_type": "execute_result"
    }
   ],
   "source": [
    "adult_population"
   ],
   "metadata": {
    "collapsed": false,
    "ExecuteTime": {
     "end_time": "2023-11-14T06:26:02.107302800Z",
     "start_time": "2023-11-14T06:26:02.079735800Z"
    }
   },
   "id": "27166b2051762f3f"
  },
  {
   "cell_type": "code",
   "execution_count": 38,
   "outputs": [],
   "source": [
    "child_population = sweden_population_2022 - adult_population"
   ],
   "metadata": {
    "collapsed": false,
    "ExecuteTime": {
     "end_time": "2023-11-14T06:27:30.305700500Z",
     "start_time": "2023-11-14T06:27:30.265125700Z"
    }
   },
   "id": "b8d0b0001b7661a3"
  },
  {
   "cell_type": "code",
   "execution_count": 39,
   "outputs": [
    {
     "data": {
      "text/plain": "2174136"
     },
     "execution_count": 39,
     "metadata": {},
     "output_type": "execute_result"
    }
   ],
   "source": [
    "child_population"
   ],
   "metadata": {
    "collapsed": false,
    "ExecuteTime": {
     "end_time": "2023-11-14T06:27:33.504932500Z",
     "start_time": "2023-11-14T06:27:33.483648200Z"
    }
   },
   "id": "a4435190a556354d"
  },
  {
   "cell_type": "markdown",
   "source": [
    "Using the data from SCB we can find out that the population of children under the age of 18 is 2 174 136."
   ],
   "metadata": {
    "collapsed": false
   },
   "id": "b3f72548f5983feb"
  },
  {
   "cell_type": "code",
   "execution_count": null,
   "outputs": [],
   "source": [],
   "metadata": {
    "collapsed": false
   },
   "id": "254cfd203ed2ae52"
  }
 ],
 "metadata": {
  "kernelspec": {
   "display_name": "Python 3",
   "language": "python",
   "name": "python3"
  },
  "language_info": {
   "codemirror_mode": {
    "name": "ipython",
    "version": 2
   },
   "file_extension": ".py",
   "mimetype": "text/x-python",
   "name": "python",
   "nbconvert_exporter": "python",
   "pygments_lexer": "ipython2",
   "version": "2.7.6"
  }
 },
 "nbformat": 4,
 "nbformat_minor": 5
}
