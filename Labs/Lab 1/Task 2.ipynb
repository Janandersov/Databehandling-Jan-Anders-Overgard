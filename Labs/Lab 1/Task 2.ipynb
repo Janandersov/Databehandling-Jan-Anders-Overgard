{
 "cells": [
  {
   "cell_type": "code",
   "execution_count": 1,
   "id": "initial_id",
   "metadata": {
    "collapsed": true,
    "ExecuteTime": {
     "end_time": "2023-11-14T05:27:34.779446900Z",
     "start_time": "2023-11-14T05:27:34.578370600Z"
    }
   },
   "outputs": [],
   "source": [
    "import plotly_express as px\n",
    "import pandas as pd"
   ]
  },
  {
   "cell_type": "markdown",
   "source": [
    "# Importing dataset from excel file"
   ],
   "metadata": {
    "collapsed": false
   },
   "id": "5500e931d6b01d2a"
  },
  {
   "cell_type": "code",
   "execution_count": 2,
   "outputs": [],
   "source": [
    "vaccine_data = pd.read_excel(\"./Data/folkhalsomyndigheten_Covid19_Vaccine.xlsx\", sheet_name= \"Vaccinerade kommun och ålder\")"
   ],
   "metadata": {
    "collapsed": false,
    "ExecuteTime": {
     "end_time": "2023-11-14T05:30:16.774283600Z",
     "start_time": "2023-11-14T05:30:15.547224800Z"
    }
   },
   "id": "af8ba3df16e537ef"
  },
  {
   "cell_type": "code",
   "execution_count": 3,
   "outputs": [
    {
     "name": "stdout",
     "output_type": "stream",
     "text": [
      "<class 'pandas.core.frame.DataFrame'>\n",
      "RangeIndex: 2900 entries, 0 to 2899\n",
      "Data columns (total 14 columns):\n",
      " #   Column               Non-Null Count  Dtype  \n",
      "---  ------               --------------  -----  \n",
      " 0   Län                  2900 non-null   int64  \n",
      " 1   Län_namn             2900 non-null   object \n",
      " 2   Kommun               2900 non-null   int64  \n",
      " 3   Kommun_namn          2900 non-null   object \n",
      " 4   Ålder                2900 non-null   object \n",
      " 5   Befolkning           2900 non-null   int64  \n",
      " 6   Antal minst 1 dos    2900 non-null   int64  \n",
      " 7   Antal minst 2 doser  2900 non-null   int64  \n",
      " 8   Antal 3 doser        2320 non-null   float64\n",
      " 9   Antal 4 doser        870 non-null    float64\n",
      " 10  Andel minst 1 dos    2900 non-null   float64\n",
      " 11  Andel minst 2 doser  2900 non-null   float64\n",
      " 12  Andel 3 doser        2320 non-null   float64\n",
      " 13  Andel 4 doser        870 non-null    float64\n",
      "dtypes: float64(6), int64(5), object(3)\n",
      "memory usage: 317.3+ KB\n"
     ]
    }
   ],
   "source": [
    "vaccine_data.info()"
   ],
   "metadata": {
    "collapsed": false,
    "ExecuteTime": {
     "end_time": "2023-11-14T05:30:36.701318600Z",
     "start_time": "2023-11-14T05:30:36.678985300Z"
    }
   },
   "id": "7682c95fa4df29e3"
  },
  {
   "cell_type": "code",
   "execution_count": 4,
   "outputs": [
    {
     "data": {
      "text/plain": "   Län        Län_namn  Kommun     Kommun_namn  Ålder  Befolkning  \\\n0    1  Stockholms län     114  Upplands Väsby  12-15        2422   \n1    1  Stockholms län     114  Upplands Väsby  16-17        1203   \n2    1  Stockholms län     114  Upplands Väsby  18-29        6692   \n3    1  Stockholms län     114  Upplands Väsby  30-39        7332   \n4    1  Stockholms län     114  Upplands Väsby  40-49        6946   \n5    1  Stockholms län     114  Upplands Väsby  50-59        6332   \n6    1  Stockholms län     114  Upplands Väsby  60-69        4258   \n\n   Antal minst 1 dos  Antal minst 2 doser  Antal 3 doser  Antal 4 doser  \\\n0               1206                 1046            NaN            NaN   \n1                839                  755            NaN            NaN   \n2               4887                 4469         1959.0            NaN   \n3               5542                 5240         2878.0            NaN   \n4               5592                 5429         3719.0            NaN   \n5               5644                 5558         4535.0            NaN   \n6               3829                 3786         3335.0            NaN   \n\n   Andel minst 1 dos  Andel minst 2 doser  Andel 3 doser  Andel 4 doser  \n0           0.497936             0.431874            NaN            NaN  \n1           0.697423             0.627598            NaN            NaN  \n2           0.730275             0.667812       0.292738            NaN  \n3           0.755865             0.714675       0.392526            NaN  \n4           0.805068             0.781601       0.535416            NaN  \n5           0.891346             0.877764       0.716203            NaN  \n6           0.899248             0.889150       0.783232            NaN  ",
      "text/html": "<div>\n<style scoped>\n    .dataframe tbody tr th:only-of-type {\n        vertical-align: middle;\n    }\n\n    .dataframe tbody tr th {\n        vertical-align: top;\n    }\n\n    .dataframe thead th {\n        text-align: right;\n    }\n</style>\n<table border=\"1\" class=\"dataframe\">\n  <thead>\n    <tr style=\"text-align: right;\">\n      <th></th>\n      <th>Län</th>\n      <th>Län_namn</th>\n      <th>Kommun</th>\n      <th>Kommun_namn</th>\n      <th>Ålder</th>\n      <th>Befolkning</th>\n      <th>Antal minst 1 dos</th>\n      <th>Antal minst 2 doser</th>\n      <th>Antal 3 doser</th>\n      <th>Antal 4 doser</th>\n      <th>Andel minst 1 dos</th>\n      <th>Andel minst 2 doser</th>\n      <th>Andel 3 doser</th>\n      <th>Andel 4 doser</th>\n    </tr>\n  </thead>\n  <tbody>\n    <tr>\n      <th>0</th>\n      <td>1</td>\n      <td>Stockholms län</td>\n      <td>114</td>\n      <td>Upplands Väsby</td>\n      <td>12-15</td>\n      <td>2422</td>\n      <td>1206</td>\n      <td>1046</td>\n      <td>NaN</td>\n      <td>NaN</td>\n      <td>0.497936</td>\n      <td>0.431874</td>\n      <td>NaN</td>\n      <td>NaN</td>\n    </tr>\n    <tr>\n      <th>1</th>\n      <td>1</td>\n      <td>Stockholms län</td>\n      <td>114</td>\n      <td>Upplands Väsby</td>\n      <td>16-17</td>\n      <td>1203</td>\n      <td>839</td>\n      <td>755</td>\n      <td>NaN</td>\n      <td>NaN</td>\n      <td>0.697423</td>\n      <td>0.627598</td>\n      <td>NaN</td>\n      <td>NaN</td>\n    </tr>\n    <tr>\n      <th>2</th>\n      <td>1</td>\n      <td>Stockholms län</td>\n      <td>114</td>\n      <td>Upplands Väsby</td>\n      <td>18-29</td>\n      <td>6692</td>\n      <td>4887</td>\n      <td>4469</td>\n      <td>1959.0</td>\n      <td>NaN</td>\n      <td>0.730275</td>\n      <td>0.667812</td>\n      <td>0.292738</td>\n      <td>NaN</td>\n    </tr>\n    <tr>\n      <th>3</th>\n      <td>1</td>\n      <td>Stockholms län</td>\n      <td>114</td>\n      <td>Upplands Väsby</td>\n      <td>30-39</td>\n      <td>7332</td>\n      <td>5542</td>\n      <td>5240</td>\n      <td>2878.0</td>\n      <td>NaN</td>\n      <td>0.755865</td>\n      <td>0.714675</td>\n      <td>0.392526</td>\n      <td>NaN</td>\n    </tr>\n    <tr>\n      <th>4</th>\n      <td>1</td>\n      <td>Stockholms län</td>\n      <td>114</td>\n      <td>Upplands Väsby</td>\n      <td>40-49</td>\n      <td>6946</td>\n      <td>5592</td>\n      <td>5429</td>\n      <td>3719.0</td>\n      <td>NaN</td>\n      <td>0.805068</td>\n      <td>0.781601</td>\n      <td>0.535416</td>\n      <td>NaN</td>\n    </tr>\n    <tr>\n      <th>5</th>\n      <td>1</td>\n      <td>Stockholms län</td>\n      <td>114</td>\n      <td>Upplands Väsby</td>\n      <td>50-59</td>\n      <td>6332</td>\n      <td>5644</td>\n      <td>5558</td>\n      <td>4535.0</td>\n      <td>NaN</td>\n      <td>0.891346</td>\n      <td>0.877764</td>\n      <td>0.716203</td>\n      <td>NaN</td>\n    </tr>\n    <tr>\n      <th>6</th>\n      <td>1</td>\n      <td>Stockholms län</td>\n      <td>114</td>\n      <td>Upplands Väsby</td>\n      <td>60-69</td>\n      <td>4258</td>\n      <td>3829</td>\n      <td>3786</td>\n      <td>3335.0</td>\n      <td>NaN</td>\n      <td>0.899248</td>\n      <td>0.889150</td>\n      <td>0.783232</td>\n      <td>NaN</td>\n    </tr>\n  </tbody>\n</table>\n</div>"
     },
     "execution_count": 4,
     "metadata": {},
     "output_type": "execute_result"
    }
   ],
   "source": [
    "vaccine_data.head(7)"
   ],
   "metadata": {
    "collapsed": false,
    "ExecuteTime": {
     "end_time": "2023-11-14T05:31:07.830262Z",
     "start_time": "2023-11-14T05:31:07.737782Z"
    }
   },
   "id": "fd3708f6279a7f00"
  },
  {
   "cell_type": "markdown",
   "source": [],
   "metadata": {
    "collapsed": false
   },
   "id": "b84ba40c4adb4402"
  }
 ],
 "metadata": {
  "kernelspec": {
   "display_name": "Python 3",
   "language": "python",
   "name": "python3"
  },
  "language_info": {
   "codemirror_mode": {
    "name": "ipython",
    "version": 2
   },
   "file_extension": ".py",
   "mimetype": "text/x-python",
   "name": "python",
   "nbconvert_exporter": "python",
   "pygments_lexer": "ipython2",
   "version": "2.7.6"
  }
 },
 "nbformat": 4,
 "nbformat_minor": 5
}
