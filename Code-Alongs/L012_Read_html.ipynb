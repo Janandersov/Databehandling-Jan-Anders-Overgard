{
 "cells": [
  {
   "cell_type": "code",
   "execution_count": 1,
   "id": "initial_id",
   "metadata": {
    "collapsed": true,
    "ExecuteTime": {
     "end_time": "2023-11-02T12:37:15.133157500Z",
     "start_time": "2023-11-02T12:37:14.531728Z"
    }
   },
   "outputs": [],
   "source": [
    "import pandas as pd"
   ]
  },
  {
   "cell_type": "code",
   "execution_count": 3,
   "outputs": [],
   "source": [
    "tables = pd.read_html(\"https://en.wikipedia.org/wiki/List_of_Pixar_films\")"
   ],
   "metadata": {
    "collapsed": false,
    "ExecuteTime": {
     "end_time": "2023-11-02T12:40:04.373068100Z",
     "start_time": "2023-11-02T12:40:03.891219400Z"
    }
   },
   "id": "f54c27d748d11fd2"
  },
  {
   "cell_type": "code",
   "execution_count": 4,
   "outputs": [
    {
     "data": {
      "text/plain": "list"
     },
     "execution_count": 4,
     "metadata": {},
     "output_type": "execute_result"
    }
   ],
   "source": [
    "type(tables)"
   ],
   "metadata": {
    "collapsed": false,
    "ExecuteTime": {
     "end_time": "2023-11-02T12:41:50.338716Z",
     "start_time": "2023-11-02T12:41:50.318657300Z"
    }
   },
   "id": "b5eae8ae022a8a35"
  },
  {
   "cell_type": "code",
   "execution_count": 5,
   "outputs": [
    {
     "data": {
      "text/plain": "16"
     },
     "execution_count": 5,
     "metadata": {},
     "output_type": "execute_result"
    }
   ],
   "source": [
    "len(tables)"
   ],
   "metadata": {
    "collapsed": false,
    "ExecuteTime": {
     "end_time": "2023-11-02T12:42:06.511704900Z",
     "start_time": "2023-11-02T12:42:06.474306700Z"
    }
   },
   "id": "b20fe5fcc29054c0"
  },
  {
   "cell_type": "code",
   "execution_count": 6,
   "outputs": [
    {
     "data": {
      "text/plain": "                   Film       Release date  \\\n                   Film       Release date   \n0             Toy Story  November 22, 1995   \n1          A Bug's Life  November 20, 1998   \n2           Toy Story 2  November 24, 1999   \n3        Monsters, Inc.   November 2, 2001   \n4          Finding Nemo       May 30, 2003   \n5       The Incredibles   November 5, 2004   \n6                  Cars       June 9, 2006   \n7           Ratatouille      June 29, 2007   \n8                WALL-E      June 27, 2008   \n9                    Up       May 29, 2009   \n10          Toy Story 3      June 18, 2010   \n11               Cars 2      June 24, 2011   \n12                Brave      June 22, 2012   \n13  Monsters University      June 21, 2013   \n14           Inside Out      June 19, 2015   \n15    The Good Dinosaur  November 25, 2015   \n16         Finding Dory      June 17, 2016   \n17               Cars 3      June 16, 2017   \n18                 Coco  November 22, 2017   \n19        Incredibles 2      June 15, 2018   \n20          Toy Story 4      June 21, 2019   \n21               Onward      March 6, 2020   \n22                 Soul  December 25, 2020   \n23                 Luca      June 18, 2021   \n24          Turning Red     March 11, 2022   \n25            Lightyear      June 17, 2022   \n26            Elemental      June 16, 2023   \n\n                                          Director(s)  \\\n                                          Director(s)   \n0                                       John Lasseter   \n1         John LasseterCo-directed by: Andrew Stanton   \n2   John LasseterCo-directed by: Ash Brannon & Lee...   \n3   Pete DocterCo-directed by: David Silverman & L...   \n4           Andrew StantonCo-directed by: Lee Unkrich   \n5                                           Brad Bird   \n6              John LasseterCo-directed by: Joe Ranft   \n7                Brad BirdCo-directed by: Jan Pinkava   \n8                                      Andrew Stanton   \n9             Pete DocterCo-directed by: Bob Peterson   \n10                                        Lee Unkrich   \n11            John LasseterCo-directed by: Brad Lewis   \n12  Mark Andrews & Brenda ChapmanCo-directed by: S...   \n13                                        Dan Scanlon   \n14       Pete DocterCo-directed by: Ronnie del Carmen   \n15                                         Peter Sohn   \n16        Andrew StantonCo-directed by: Angus MacLane   \n17                                          Brian Fee   \n18           Lee UnkrichCo-directed by: Adrian Molina   \n19                                          Brad Bird   \n20                                        Josh Cooley   \n21                                        Dan Scanlon   \n22             Pete DocterCo-directed by: Kemp Powers   \n23                                    Enrico Casarosa   \n24                                          Domee Shi   \n25                                      Angus MacLane   \n26                                         Peter Sohn   \n\n                                            Writer(s)  \\\n                                                Story   \n0   Pete Docter, Lasseter, Joe Ranft & Andrew Stanton   \n1                       Lasseter, Joe Ranft & Stanton   \n2     Brannon, Pete Docter, Lasseter & Andrew Stanton   \n3   Jill Culton, Docter, Ralph Eggleston & Jeff Pi...   \n4                                             Stanton   \n5                                           Brad Bird   \n6                    Lasseter, Jorgen Klubien & Ranft   \n7                      Bird, Jim Capobianco & Pinkava   \n8                               Pete Docter & Stanton   \n9                     Docter, Tom McCarthy & Peterson   \n10            John Lasseter, Andrew Stanton & Unkrich   \n11                     Dan Fogelman, Lasseter & Lewis   \n12                                            Chapman   \n13              Robert L. Baird, Dan Gerson & Scanlon   \n14                                del Carmen & Docter   \n15  Peter Sohn, Erik Benson, Meg LeFauve, Kelsey M...   \n16                                            Stanton   \n17  Fee, Eyal Podell, Ben Queen & Jonathan E. Stewart   \n18      Matthew Aldrich, Jason Katz, Molina & Unkrich   \n19                                          Brad Bird   \n20  Cooley, Stephany Folsom, Martin Hynes, Rashida...   \n21               Keith Bunin, Jason Headley & Scanlon   \n22                        Docter, Mike Jones & Powers   \n23         Jesse Andrews, Casarosa & Simon Stephenson   \n24                   Julia Cho, Shi & Sarah Streicher   \n25           Matthew Aldrich, Jason Headley & MacLane   \n26       John Hoberg, Brenda Hsueh, Kat Likkel & Sohn   \n\n                                                       \\\n                                           Screenplay   \n0     Joel Cohen, Alec Sokolow, Stanton & Joss Whedon   \n1                  Donald McEnery, Bob Shaw & Stanton   \n2   Doug Chamberlin, Rita Hsiao, Stanton & Chris Webb   \n3                         Dan Gerson & Andrew Stanton   \n4              Bob Peterson, David Reynolds & Stanton   \n5                                           Brad Bird   \n6   Dan Fogelman, Klubien, Lasseter, Phil Lorin, K...   \n7                                                Bird   \n8                               Jim Reardon & Stanton   \n9                                   Docter & Peterson   \n10                                      Michael Arndt   \n11                                          Ben Queen   \n12           Andrews, Chapman, Irene Mecchi & Purcell   \n13              Robert L. Baird, Dan Gerson & Scanlon   \n14                  Josh Cooley, Docter & Meg LeFauve   \n15                                        Meg LeFauve   \n16                         Stanton & Victoria Strouse   \n17              Kiel Murray, Bob Peterson & Mike Rich   \n18                                   Aldrich & Molina   \n19                                          Brad Bird   \n20                                   Folsom & Stanton   \n21               Keith Bunin, Jason Headley & Scanlon   \n22                        Docter, Mike Jones & Powers   \n23                               Andrews & Mike Jones   \n24                                          Cho & Shi   \n25                                  Headley & MacLane   \n26                             Hoberg, Hsueh & Likkel   \n\n                              Producer(s)                     Composer(s)  \n                              Producer(s)                     Composer(s)  \n0        Bonnie Arnold & Ralph Guggenheim                    Randy Newman  \n1         Darla K. Anderson & Kevin Reher                    Randy Newman  \n2   Karen Robert Jackson & Helene Plotkin                    Randy Newman  \n3                       Darla K. Anderson                    Randy Newman  \n4                          Graham Walters                   Thomas Newman  \n5                             John Walker               Michael Giacchino  \n6                       Darla K. Anderson                    Randy Newman  \n7                              Brad Lewis               Michael Giacchino  \n8                              Jim Morris                   Thomas Newman  \n9                            Jonas Rivera               Michael Giacchino  \n10                      Darla K. Anderson                    Randy Newman  \n11                            Denise Ream               Michael Giacchino  \n12                     Katherine Sarafian                   Patrick Doyle  \n13                               Kori Rae                    Randy Newman  \n14                           Jonas Rivera               Michael Giacchino  \n15                            Denise Ream       Mychael Danna, Jeff Danna  \n16                        Lindsey Collins                   Thomas Newman  \n17                            Kevin Reher                    Randy Newman  \n18                      Darla K. Anderson            Michael Giacchino[a]  \n19   Nicole Paradis Grindle & John Walker               Michael Giacchino  \n20            Mark Nielsen & Jonas Rivera                    Randy Newman  \n21                               Kori Rae            Jeff & Mychael Danna  \n22                            Dana Murray  Trent Reznor & Atticus Ross[b]  \n23                          Andrea Warren                       Dan Romer  \n24                        Lindsey Collins             Ludwig Göransson[c]  \n25                           Galyn Susman               Michael Giacchino  \n26                            Denise Ream                   Thomas Newman  ",
      "text/html": "<div>\n<style scoped>\n    .dataframe tbody tr th:only-of-type {\n        vertical-align: middle;\n    }\n\n    .dataframe tbody tr th {\n        vertical-align: top;\n    }\n\n    .dataframe thead tr th {\n        text-align: left;\n    }\n</style>\n<table border=\"1\" class=\"dataframe\">\n  <thead>\n    <tr>\n      <th></th>\n      <th>Film</th>\n      <th>Release date</th>\n      <th>Director(s)</th>\n      <th colspan=\"2\" halign=\"left\">Writer(s)</th>\n      <th>Producer(s)</th>\n      <th>Composer(s)</th>\n    </tr>\n    <tr>\n      <th></th>\n      <th>Film</th>\n      <th>Release date</th>\n      <th>Director(s)</th>\n      <th>Story</th>\n      <th>Screenplay</th>\n      <th>Producer(s)</th>\n      <th>Composer(s)</th>\n    </tr>\n  </thead>\n  <tbody>\n    <tr>\n      <th>0</th>\n      <td>Toy Story</td>\n      <td>November 22, 1995</td>\n      <td>John Lasseter</td>\n      <td>Pete Docter, Lasseter, Joe Ranft &amp; Andrew Stanton</td>\n      <td>Joel Cohen, Alec Sokolow, Stanton &amp; Joss Whedon</td>\n      <td>Bonnie Arnold &amp; Ralph Guggenheim</td>\n      <td>Randy Newman</td>\n    </tr>\n    <tr>\n      <th>1</th>\n      <td>A Bug's Life</td>\n      <td>November 20, 1998</td>\n      <td>John LasseterCo-directed by: Andrew Stanton</td>\n      <td>Lasseter, Joe Ranft &amp; Stanton</td>\n      <td>Donald McEnery, Bob Shaw &amp; Stanton</td>\n      <td>Darla K. Anderson &amp; Kevin Reher</td>\n      <td>Randy Newman</td>\n    </tr>\n    <tr>\n      <th>2</th>\n      <td>Toy Story 2</td>\n      <td>November 24, 1999</td>\n      <td>John LasseterCo-directed by: Ash Brannon &amp; Lee...</td>\n      <td>Brannon, Pete Docter, Lasseter &amp; Andrew Stanton</td>\n      <td>Doug Chamberlin, Rita Hsiao, Stanton &amp; Chris Webb</td>\n      <td>Karen Robert Jackson &amp; Helene Plotkin</td>\n      <td>Randy Newman</td>\n    </tr>\n    <tr>\n      <th>3</th>\n      <td>Monsters, Inc.</td>\n      <td>November 2, 2001</td>\n      <td>Pete DocterCo-directed by: David Silverman &amp; L...</td>\n      <td>Jill Culton, Docter, Ralph Eggleston &amp; Jeff Pi...</td>\n      <td>Dan Gerson &amp; Andrew Stanton</td>\n      <td>Darla K. Anderson</td>\n      <td>Randy Newman</td>\n    </tr>\n    <tr>\n      <th>4</th>\n      <td>Finding Nemo</td>\n      <td>May 30, 2003</td>\n      <td>Andrew StantonCo-directed by: Lee Unkrich</td>\n      <td>Stanton</td>\n      <td>Bob Peterson, David Reynolds &amp; Stanton</td>\n      <td>Graham Walters</td>\n      <td>Thomas Newman</td>\n    </tr>\n    <tr>\n      <th>5</th>\n      <td>The Incredibles</td>\n      <td>November 5, 2004</td>\n      <td>Brad Bird</td>\n      <td>Brad Bird</td>\n      <td>Brad Bird</td>\n      <td>John Walker</td>\n      <td>Michael Giacchino</td>\n    </tr>\n    <tr>\n      <th>6</th>\n      <td>Cars</td>\n      <td>June 9, 2006</td>\n      <td>John LasseterCo-directed by: Joe Ranft</td>\n      <td>Lasseter, Jorgen Klubien &amp; Ranft</td>\n      <td>Dan Fogelman, Klubien, Lasseter, Phil Lorin, K...</td>\n      <td>Darla K. Anderson</td>\n      <td>Randy Newman</td>\n    </tr>\n    <tr>\n      <th>7</th>\n      <td>Ratatouille</td>\n      <td>June 29, 2007</td>\n      <td>Brad BirdCo-directed by: Jan Pinkava</td>\n      <td>Bird, Jim Capobianco &amp; Pinkava</td>\n      <td>Bird</td>\n      <td>Brad Lewis</td>\n      <td>Michael Giacchino</td>\n    </tr>\n    <tr>\n      <th>8</th>\n      <td>WALL-E</td>\n      <td>June 27, 2008</td>\n      <td>Andrew Stanton</td>\n      <td>Pete Docter &amp; Stanton</td>\n      <td>Jim Reardon &amp; Stanton</td>\n      <td>Jim Morris</td>\n      <td>Thomas Newman</td>\n    </tr>\n    <tr>\n      <th>9</th>\n      <td>Up</td>\n      <td>May 29, 2009</td>\n      <td>Pete DocterCo-directed by: Bob Peterson</td>\n      <td>Docter, Tom McCarthy &amp; Peterson</td>\n      <td>Docter &amp; Peterson</td>\n      <td>Jonas Rivera</td>\n      <td>Michael Giacchino</td>\n    </tr>\n    <tr>\n      <th>10</th>\n      <td>Toy Story 3</td>\n      <td>June 18, 2010</td>\n      <td>Lee Unkrich</td>\n      <td>John Lasseter, Andrew Stanton &amp; Unkrich</td>\n      <td>Michael Arndt</td>\n      <td>Darla K. Anderson</td>\n      <td>Randy Newman</td>\n    </tr>\n    <tr>\n      <th>11</th>\n      <td>Cars 2</td>\n      <td>June 24, 2011</td>\n      <td>John LasseterCo-directed by: Brad Lewis</td>\n      <td>Dan Fogelman, Lasseter &amp; Lewis</td>\n      <td>Ben Queen</td>\n      <td>Denise Ream</td>\n      <td>Michael Giacchino</td>\n    </tr>\n    <tr>\n      <th>12</th>\n      <td>Brave</td>\n      <td>June 22, 2012</td>\n      <td>Mark Andrews &amp; Brenda ChapmanCo-directed by: S...</td>\n      <td>Chapman</td>\n      <td>Andrews, Chapman, Irene Mecchi &amp; Purcell</td>\n      <td>Katherine Sarafian</td>\n      <td>Patrick Doyle</td>\n    </tr>\n    <tr>\n      <th>13</th>\n      <td>Monsters University</td>\n      <td>June 21, 2013</td>\n      <td>Dan Scanlon</td>\n      <td>Robert L. Baird, Dan Gerson &amp; Scanlon</td>\n      <td>Robert L. Baird, Dan Gerson &amp; Scanlon</td>\n      <td>Kori Rae</td>\n      <td>Randy Newman</td>\n    </tr>\n    <tr>\n      <th>14</th>\n      <td>Inside Out</td>\n      <td>June 19, 2015</td>\n      <td>Pete DocterCo-directed by: Ronnie del Carmen</td>\n      <td>del Carmen &amp; Docter</td>\n      <td>Josh Cooley, Docter &amp; Meg LeFauve</td>\n      <td>Jonas Rivera</td>\n      <td>Michael Giacchino</td>\n    </tr>\n    <tr>\n      <th>15</th>\n      <td>The Good Dinosaur</td>\n      <td>November 25, 2015</td>\n      <td>Peter Sohn</td>\n      <td>Peter Sohn, Erik Benson, Meg LeFauve, Kelsey M...</td>\n      <td>Meg LeFauve</td>\n      <td>Denise Ream</td>\n      <td>Mychael Danna, Jeff Danna</td>\n    </tr>\n    <tr>\n      <th>16</th>\n      <td>Finding Dory</td>\n      <td>June 17, 2016</td>\n      <td>Andrew StantonCo-directed by: Angus MacLane</td>\n      <td>Stanton</td>\n      <td>Stanton &amp; Victoria Strouse</td>\n      <td>Lindsey Collins</td>\n      <td>Thomas Newman</td>\n    </tr>\n    <tr>\n      <th>17</th>\n      <td>Cars 3</td>\n      <td>June 16, 2017</td>\n      <td>Brian Fee</td>\n      <td>Fee, Eyal Podell, Ben Queen &amp; Jonathan E. Stewart</td>\n      <td>Kiel Murray, Bob Peterson &amp; Mike Rich</td>\n      <td>Kevin Reher</td>\n      <td>Randy Newman</td>\n    </tr>\n    <tr>\n      <th>18</th>\n      <td>Coco</td>\n      <td>November 22, 2017</td>\n      <td>Lee UnkrichCo-directed by: Adrian Molina</td>\n      <td>Matthew Aldrich, Jason Katz, Molina &amp; Unkrich</td>\n      <td>Aldrich &amp; Molina</td>\n      <td>Darla K. Anderson</td>\n      <td>Michael Giacchino[a]</td>\n    </tr>\n    <tr>\n      <th>19</th>\n      <td>Incredibles 2</td>\n      <td>June 15, 2018</td>\n      <td>Brad Bird</td>\n      <td>Brad Bird</td>\n      <td>Brad Bird</td>\n      <td>Nicole Paradis Grindle &amp; John Walker</td>\n      <td>Michael Giacchino</td>\n    </tr>\n    <tr>\n      <th>20</th>\n      <td>Toy Story 4</td>\n      <td>June 21, 2019</td>\n      <td>Josh Cooley</td>\n      <td>Cooley, Stephany Folsom, Martin Hynes, Rashida...</td>\n      <td>Folsom &amp; Stanton</td>\n      <td>Mark Nielsen &amp; Jonas Rivera</td>\n      <td>Randy Newman</td>\n    </tr>\n    <tr>\n      <th>21</th>\n      <td>Onward</td>\n      <td>March 6, 2020</td>\n      <td>Dan Scanlon</td>\n      <td>Keith Bunin, Jason Headley &amp; Scanlon</td>\n      <td>Keith Bunin, Jason Headley &amp; Scanlon</td>\n      <td>Kori Rae</td>\n      <td>Jeff &amp; Mychael Danna</td>\n    </tr>\n    <tr>\n      <th>22</th>\n      <td>Soul</td>\n      <td>December 25, 2020</td>\n      <td>Pete DocterCo-directed by: Kemp Powers</td>\n      <td>Docter, Mike Jones &amp; Powers</td>\n      <td>Docter, Mike Jones &amp; Powers</td>\n      <td>Dana Murray</td>\n      <td>Trent Reznor &amp; Atticus Ross[b]</td>\n    </tr>\n    <tr>\n      <th>23</th>\n      <td>Luca</td>\n      <td>June 18, 2021</td>\n      <td>Enrico Casarosa</td>\n      <td>Jesse Andrews, Casarosa &amp; Simon Stephenson</td>\n      <td>Andrews &amp; Mike Jones</td>\n      <td>Andrea Warren</td>\n      <td>Dan Romer</td>\n    </tr>\n    <tr>\n      <th>24</th>\n      <td>Turning Red</td>\n      <td>March 11, 2022</td>\n      <td>Domee Shi</td>\n      <td>Julia Cho, Shi &amp; Sarah Streicher</td>\n      <td>Cho &amp; Shi</td>\n      <td>Lindsey Collins</td>\n      <td>Ludwig Göransson[c]</td>\n    </tr>\n    <tr>\n      <th>25</th>\n      <td>Lightyear</td>\n      <td>June 17, 2022</td>\n      <td>Angus MacLane</td>\n      <td>Matthew Aldrich, Jason Headley &amp; MacLane</td>\n      <td>Headley &amp; MacLane</td>\n      <td>Galyn Susman</td>\n      <td>Michael Giacchino</td>\n    </tr>\n    <tr>\n      <th>26</th>\n      <td>Elemental</td>\n      <td>June 16, 2023</td>\n      <td>Peter Sohn</td>\n      <td>John Hoberg, Brenda Hsueh, Kat Likkel &amp; Sohn</td>\n      <td>Hoberg, Hsueh &amp; Likkel</td>\n      <td>Denise Ream</td>\n      <td>Thomas Newman</td>\n    </tr>\n  </tbody>\n</table>\n</div>"
     },
     "execution_count": 6,
     "metadata": {},
     "output_type": "execute_result"
    }
   ],
   "source": [
    "tables[0]"
   ],
   "metadata": {
    "collapsed": false,
    "ExecuteTime": {
     "end_time": "2023-11-02T12:42:18.457845400Z",
     "start_time": "2023-11-02T12:42:18.418324400Z"
    }
   },
   "id": "a9433187041d6495"
  },
  {
   "cell_type": "code",
   "execution_count": 7,
   "outputs": [],
   "source": [
    "tables = pd.read_html(\"https://en.wikipedia.org/wiki/List_of_Pixar_films\")"
   ],
   "metadata": {
    "collapsed": false,
    "ExecuteTime": {
     "end_time": "2023-11-02T12:45:13.585120600Z",
     "start_time": "2023-11-02T12:45:13.139171300Z"
    }
   },
   "id": "70302aad3778fdd1"
  },
  {
   "cell_type": "code",
   "execution_count": 8,
   "outputs": [
    {
     "data": {
      "text/plain": "16"
     },
     "execution_count": 8,
     "metadata": {},
     "output_type": "execute_result"
    }
   ],
   "source": [
    "len(tables)"
   ],
   "metadata": {
    "collapsed": false,
    "ExecuteTime": {
     "end_time": "2023-11-02T12:45:17.576551300Z",
     "start_time": "2023-11-02T12:45:17.568893100Z"
    }
   },
   "id": "984eb90968189d7b"
  },
  {
   "cell_type": "code",
   "execution_count": 16,
   "outputs": [],
   "source": [
    "box_office = pd.read_html(\"https://en.wikipedia.org/wiki/List_of_Pixar_films\",header=1, match=\"Box office gross\")[0]"
   ],
   "metadata": {
    "collapsed": false,
    "ExecuteTime": {
     "end_time": "2023-11-02T12:49:03.480422600Z",
     "start_time": "2023-11-02T12:49:03.150343600Z"
    }
   },
   "id": "dfd4793022012f81"
  },
  {
   "cell_type": "code",
   "execution_count": 17,
   "outputs": [
    {
     "data": {
      "text/plain": "    Year                 Film            Budget U.S. and Canada  \\\n0   1995            Toy Story       $30 million    $192,523,233   \n1   1998         A Bug's Life      $120 million    $162,798,565   \n2   1999          Toy Story 2       $90 million    $245,852,179   \n3   2001       Monsters, Inc.      $115 million    $289,916,256   \n4   2003         Finding Nemo       $94 million    $339,714,978   \n5   2004      The Incredibles       $92 million    $261,441,092   \n6   2006                 Cars      $120 million    $244,082,982   \n7   2007          Ratatouille      $150 million    $206,445,654   \n8   2008               WALL-E      $180 million    $223,808,164   \n9   2009                   Up      $175 million    $293,004,164   \n10  2010          Toy Story 3      $200 million    $415,004,880   \n11  2011               Cars 2      $200 million    $191,452,396   \n12  2012                Brave      $185 million    $237,283,207   \n13  2013  Monsters University      $200 million    $268,492,764   \n14  2015           Inside Out      $175 million    $356,461,711   \n15  2015    The Good Dinosaur      $175 million    $123,087,120   \n16  2016         Finding Dory      $200 million    $486,295,561   \n17  2017               Cars 3      $175 million    $152,901,115   \n18  2017                 Coco      $175 million    $209,726,015   \n19  2018        Incredibles 2      $200 million    $608,581,744   \n20  2019          Toy Story 4      $200 million    $434,038,008   \n21  2020               Onward  $175–200 million     $61,555,145   \n22  2020                 Soul      $150 million            —[b]   \n23  2021                 Luca                 —            —[b]   \n24  2022          Turning Red      $175 million            —[b]   \n25  2022            Lightyear      $200 million    $118,307,188   \n26  2023            Elemental      $200 million    $154,426,697   \n\n   Other territories       Worldwide      Ref.  \n0       $172,747,718    $365,270,951  [53][54]  \n1       $200,460,294    $363,258,859      [55]  \n2       $265,506,097    $511,358,276  [56][57]  \n3       $342,400,393    $632,316,649      [58]  \n4       $531,300,000    $871,014,978      [59]  \n5       $370,165,621    $631,606,713      [60]  \n6       $217,900,167    $461,983,149      [61]  \n7       $417,280,431    $623,726,085      [62]  \n8       $297,503,696    $521,311,860      [63]  \n9       $442,094,918    $735,099,082      [64]  \n10      $651,964,823  $1,066,969,703      [65]  \n11      $368,400,000    $559,852,396      [66]  \n12      $301,700,000    $538,983,207      [67]  \n13      $475,066,843    $743,559,607  [68][69]  \n14      $501,149,463    $857,611,174      [70]  \n15      $209,120,551    $332,207,671  [71][72]  \n16      $542,275,328  $1,028,570,889  [73][74]  \n17      $231,029,541    $383,930,656  [75][76]  \n18      $597,356,181    $807,082,196  [77][78]  \n19      $634,223,615  $1,242,805,359  [79][80]  \n20      $639,356,585  $1,073,394,593  [81][82]  \n21       $80,394,976    $141,950,121      [83]  \n22      $120,957,731    $120,957,731      [84]  \n23       $49,750,471     $49,750,471  [85][86]  \n24       $20,122,621     $20,122,621  [87][88]  \n25      $108,118,232    $226,425,420  [89][90]  \n26      $340,309,878    $494,736,575  [91][92]  ",
      "text/html": "<div>\n<style scoped>\n    .dataframe tbody tr th:only-of-type {\n        vertical-align: middle;\n    }\n\n    .dataframe tbody tr th {\n        vertical-align: top;\n    }\n\n    .dataframe thead th {\n        text-align: right;\n    }\n</style>\n<table border=\"1\" class=\"dataframe\">\n  <thead>\n    <tr style=\"text-align: right;\">\n      <th></th>\n      <th>Year</th>\n      <th>Film</th>\n      <th>Budget</th>\n      <th>U.S. and Canada</th>\n      <th>Other territories</th>\n      <th>Worldwide</th>\n      <th>Ref.</th>\n    </tr>\n  </thead>\n  <tbody>\n    <tr>\n      <th>0</th>\n      <td>1995</td>\n      <td>Toy Story</td>\n      <td>$30 million</td>\n      <td>$192,523,233</td>\n      <td>$172,747,718</td>\n      <td>$365,270,951</td>\n      <td>[53][54]</td>\n    </tr>\n    <tr>\n      <th>1</th>\n      <td>1998</td>\n      <td>A Bug's Life</td>\n      <td>$120 million</td>\n      <td>$162,798,565</td>\n      <td>$200,460,294</td>\n      <td>$363,258,859</td>\n      <td>[55]</td>\n    </tr>\n    <tr>\n      <th>2</th>\n      <td>1999</td>\n      <td>Toy Story 2</td>\n      <td>$90 million</td>\n      <td>$245,852,179</td>\n      <td>$265,506,097</td>\n      <td>$511,358,276</td>\n      <td>[56][57]</td>\n    </tr>\n    <tr>\n      <th>3</th>\n      <td>2001</td>\n      <td>Monsters, Inc.</td>\n      <td>$115 million</td>\n      <td>$289,916,256</td>\n      <td>$342,400,393</td>\n      <td>$632,316,649</td>\n      <td>[58]</td>\n    </tr>\n    <tr>\n      <th>4</th>\n      <td>2003</td>\n      <td>Finding Nemo</td>\n      <td>$94 million</td>\n      <td>$339,714,978</td>\n      <td>$531,300,000</td>\n      <td>$871,014,978</td>\n      <td>[59]</td>\n    </tr>\n    <tr>\n      <th>5</th>\n      <td>2004</td>\n      <td>The Incredibles</td>\n      <td>$92 million</td>\n      <td>$261,441,092</td>\n      <td>$370,165,621</td>\n      <td>$631,606,713</td>\n      <td>[60]</td>\n    </tr>\n    <tr>\n      <th>6</th>\n      <td>2006</td>\n      <td>Cars</td>\n      <td>$120 million</td>\n      <td>$244,082,982</td>\n      <td>$217,900,167</td>\n      <td>$461,983,149</td>\n      <td>[61]</td>\n    </tr>\n    <tr>\n      <th>7</th>\n      <td>2007</td>\n      <td>Ratatouille</td>\n      <td>$150 million</td>\n      <td>$206,445,654</td>\n      <td>$417,280,431</td>\n      <td>$623,726,085</td>\n      <td>[62]</td>\n    </tr>\n    <tr>\n      <th>8</th>\n      <td>2008</td>\n      <td>WALL-E</td>\n      <td>$180 million</td>\n      <td>$223,808,164</td>\n      <td>$297,503,696</td>\n      <td>$521,311,860</td>\n      <td>[63]</td>\n    </tr>\n    <tr>\n      <th>9</th>\n      <td>2009</td>\n      <td>Up</td>\n      <td>$175 million</td>\n      <td>$293,004,164</td>\n      <td>$442,094,918</td>\n      <td>$735,099,082</td>\n      <td>[64]</td>\n    </tr>\n    <tr>\n      <th>10</th>\n      <td>2010</td>\n      <td>Toy Story 3</td>\n      <td>$200 million</td>\n      <td>$415,004,880</td>\n      <td>$651,964,823</td>\n      <td>$1,066,969,703</td>\n      <td>[65]</td>\n    </tr>\n    <tr>\n      <th>11</th>\n      <td>2011</td>\n      <td>Cars 2</td>\n      <td>$200 million</td>\n      <td>$191,452,396</td>\n      <td>$368,400,000</td>\n      <td>$559,852,396</td>\n      <td>[66]</td>\n    </tr>\n    <tr>\n      <th>12</th>\n      <td>2012</td>\n      <td>Brave</td>\n      <td>$185 million</td>\n      <td>$237,283,207</td>\n      <td>$301,700,000</td>\n      <td>$538,983,207</td>\n      <td>[67]</td>\n    </tr>\n    <tr>\n      <th>13</th>\n      <td>2013</td>\n      <td>Monsters University</td>\n      <td>$200 million</td>\n      <td>$268,492,764</td>\n      <td>$475,066,843</td>\n      <td>$743,559,607</td>\n      <td>[68][69]</td>\n    </tr>\n    <tr>\n      <th>14</th>\n      <td>2015</td>\n      <td>Inside Out</td>\n      <td>$175 million</td>\n      <td>$356,461,711</td>\n      <td>$501,149,463</td>\n      <td>$857,611,174</td>\n      <td>[70]</td>\n    </tr>\n    <tr>\n      <th>15</th>\n      <td>2015</td>\n      <td>The Good Dinosaur</td>\n      <td>$175 million</td>\n      <td>$123,087,120</td>\n      <td>$209,120,551</td>\n      <td>$332,207,671</td>\n      <td>[71][72]</td>\n    </tr>\n    <tr>\n      <th>16</th>\n      <td>2016</td>\n      <td>Finding Dory</td>\n      <td>$200 million</td>\n      <td>$486,295,561</td>\n      <td>$542,275,328</td>\n      <td>$1,028,570,889</td>\n      <td>[73][74]</td>\n    </tr>\n    <tr>\n      <th>17</th>\n      <td>2017</td>\n      <td>Cars 3</td>\n      <td>$175 million</td>\n      <td>$152,901,115</td>\n      <td>$231,029,541</td>\n      <td>$383,930,656</td>\n      <td>[75][76]</td>\n    </tr>\n    <tr>\n      <th>18</th>\n      <td>2017</td>\n      <td>Coco</td>\n      <td>$175 million</td>\n      <td>$209,726,015</td>\n      <td>$597,356,181</td>\n      <td>$807,082,196</td>\n      <td>[77][78]</td>\n    </tr>\n    <tr>\n      <th>19</th>\n      <td>2018</td>\n      <td>Incredibles 2</td>\n      <td>$200 million</td>\n      <td>$608,581,744</td>\n      <td>$634,223,615</td>\n      <td>$1,242,805,359</td>\n      <td>[79][80]</td>\n    </tr>\n    <tr>\n      <th>20</th>\n      <td>2019</td>\n      <td>Toy Story 4</td>\n      <td>$200 million</td>\n      <td>$434,038,008</td>\n      <td>$639,356,585</td>\n      <td>$1,073,394,593</td>\n      <td>[81][82]</td>\n    </tr>\n    <tr>\n      <th>21</th>\n      <td>2020</td>\n      <td>Onward</td>\n      <td>$175–200 million</td>\n      <td>$61,555,145</td>\n      <td>$80,394,976</td>\n      <td>$141,950,121</td>\n      <td>[83]</td>\n    </tr>\n    <tr>\n      <th>22</th>\n      <td>2020</td>\n      <td>Soul</td>\n      <td>$150 million</td>\n      <td>—[b]</td>\n      <td>$120,957,731</td>\n      <td>$120,957,731</td>\n      <td>[84]</td>\n    </tr>\n    <tr>\n      <th>23</th>\n      <td>2021</td>\n      <td>Luca</td>\n      <td>—</td>\n      <td>—[b]</td>\n      <td>$49,750,471</td>\n      <td>$49,750,471</td>\n      <td>[85][86]</td>\n    </tr>\n    <tr>\n      <th>24</th>\n      <td>2022</td>\n      <td>Turning Red</td>\n      <td>$175 million</td>\n      <td>—[b]</td>\n      <td>$20,122,621</td>\n      <td>$20,122,621</td>\n      <td>[87][88]</td>\n    </tr>\n    <tr>\n      <th>25</th>\n      <td>2022</td>\n      <td>Lightyear</td>\n      <td>$200 million</td>\n      <td>$118,307,188</td>\n      <td>$108,118,232</td>\n      <td>$226,425,420</td>\n      <td>[89][90]</td>\n    </tr>\n    <tr>\n      <th>26</th>\n      <td>2023</td>\n      <td>Elemental</td>\n      <td>$200 million</td>\n      <td>$154,426,697</td>\n      <td>$340,309,878</td>\n      <td>$494,736,575</td>\n      <td>[91][92]</td>\n    </tr>\n  </tbody>\n</table>\n</div>"
     },
     "execution_count": 17,
     "metadata": {},
     "output_type": "execute_result"
    }
   ],
   "source": [
    "box_office"
   ],
   "metadata": {
    "collapsed": false,
    "ExecuteTime": {
     "end_time": "2023-11-02T12:49:04.797531400Z",
     "start_time": "2023-11-02T12:49:04.763176200Z"
    }
   },
   "id": "a508d29094f8a85c"
  },
  {
   "cell_type": "markdown",
   "source": [
    "### Exercise\n",
    "Clean the data, convert numeric columns to float, calculate a new column \"results\", group by year, and plot using seaborn."
   ],
   "metadata": {
    "collapsed": false
   },
   "id": "ae4a0a1165cf0ed9"
  },
  {
   "cell_type": "code",
   "execution_count": null,
   "outputs": [],
   "source": [],
   "metadata": {
    "collapsed": false
   },
   "id": "7764abf2ade814b1"
  }
 ],
 "metadata": {
  "kernelspec": {
   "display_name": "Python 3",
   "language": "python",
   "name": "python3"
  },
  "language_info": {
   "codemirror_mode": {
    "name": "ipython",
    "version": 2
   },
   "file_extension": ".py",
   "mimetype": "text/x-python",
   "name": "python",
   "nbconvert_exporter": "python",
   "pygments_lexer": "ipython2",
   "version": "2.7.6"
  }
 },
 "nbformat": 4,
 "nbformat_minor": 5
}
