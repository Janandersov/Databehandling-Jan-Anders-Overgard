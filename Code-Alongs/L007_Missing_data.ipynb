{
 "cells": [
  {
   "cell_type": "markdown",
   "source": [
    "### Missing data\n",
    "Missing data occurs when values are simply absent or contain NaN (not a number) for any feature (column) in a given dataset. This will cause issues in many machine learning algorithms.\n",
    "\n",
    "**Missing data can negatively impact:**\n",
    "- Data visualisation\n",
    "- Arithmetic computations\n",
    "- Machine learning algorithms\n",
    "\n",
    "**Common methods to deal with missing data**\n",
    "- Remove rows or columns containing missing data\n",
    "- Impute with mean or median\n",
    "- Impute with mode (most frequently occurring feature)\n",
    "- Impute with forward or backward fill\n",
    "- Interpolate data between two points\n",
    "\n",
    "*Note: Domain knowledge is often needed to decide how to fill nulls."
   ],
   "metadata": {
    "collapsed": false
   },
   "id": "c829299971b0afdf"
  },
  {
   "cell_type": "code",
   "execution_count": 2,
   "outputs": [],
   "source": [
    "import pandas as pd\n",
    "import numpy as np\n",
    "import seaborn as sns"
   ],
   "metadata": {
    "collapsed": false,
    "ExecuteTime": {
     "end_time": "2023-10-27T07:29:52.650423300Z",
     "start_time": "2023-10-27T07:29:52.609547800Z"
    }
   },
   "id": "651629652e39fedb"
  },
  {
   "cell_type": "code",
   "execution_count": 20,
   "outputs": [],
   "source": [
    "df = pd.DataFrame(np.random.randn(10, 4), columns=[\"A\", \"B\", \"C\", \"D\"])"
   ],
   "metadata": {
    "collapsed": false,
    "ExecuteTime": {
     "end_time": "2023-10-27T07:34:30.801553Z",
     "start_time": "2023-10-27T07:34:30.786952400Z"
    }
   },
   "id": "efab6baaddd6b434"
  },
  {
   "cell_type": "code",
   "execution_count": 21,
   "outputs": [],
   "source": [
    "df = df[df > 0]"
   ],
   "metadata": {
    "collapsed": false,
    "ExecuteTime": {
     "end_time": "2023-10-27T07:34:30.980715Z",
     "start_time": "2023-10-27T07:34:30.960851300Z"
    }
   },
   "id": "1b810b32d29d86d"
  },
  {
   "cell_type": "code",
   "execution_count": 22,
   "outputs": [
    {
     "data": {
      "text/plain": "          A         B         C         D\n0  0.230238  0.459924  1.185044       NaN\n1       NaN       NaN       NaN       NaN\n2       NaN       NaN       NaN  0.164301\n3  0.096313       NaN       NaN  1.925863\n4  1.261786  2.420444  0.007489  0.729503\n5  0.095576  1.353026  0.463694  1.248931\n6       NaN       NaN  0.017988  0.309169\n7       NaN       NaN  1.007704  0.649609\n8  0.556035  1.073602  1.967679  0.139063\n9       NaN  0.582850       NaN       NaN",
      "text/html": "<div>\n<style scoped>\n    .dataframe tbody tr th:only-of-type {\n        vertical-align: middle;\n    }\n\n    .dataframe tbody tr th {\n        vertical-align: top;\n    }\n\n    .dataframe thead th {\n        text-align: right;\n    }\n</style>\n<table border=\"1\" class=\"dataframe\">\n  <thead>\n    <tr style=\"text-align: right;\">\n      <th></th>\n      <th>A</th>\n      <th>B</th>\n      <th>C</th>\n      <th>D</th>\n    </tr>\n  </thead>\n  <tbody>\n    <tr>\n      <th>0</th>\n      <td>0.230238</td>\n      <td>0.459924</td>\n      <td>1.185044</td>\n      <td>NaN</td>\n    </tr>\n    <tr>\n      <th>1</th>\n      <td>NaN</td>\n      <td>NaN</td>\n      <td>NaN</td>\n      <td>NaN</td>\n    </tr>\n    <tr>\n      <th>2</th>\n      <td>NaN</td>\n      <td>NaN</td>\n      <td>NaN</td>\n      <td>0.164301</td>\n    </tr>\n    <tr>\n      <th>3</th>\n      <td>0.096313</td>\n      <td>NaN</td>\n      <td>NaN</td>\n      <td>1.925863</td>\n    </tr>\n    <tr>\n      <th>4</th>\n      <td>1.261786</td>\n      <td>2.420444</td>\n      <td>0.007489</td>\n      <td>0.729503</td>\n    </tr>\n    <tr>\n      <th>5</th>\n      <td>0.095576</td>\n      <td>1.353026</td>\n      <td>0.463694</td>\n      <td>1.248931</td>\n    </tr>\n    <tr>\n      <th>6</th>\n      <td>NaN</td>\n      <td>NaN</td>\n      <td>0.017988</td>\n      <td>0.309169</td>\n    </tr>\n    <tr>\n      <th>7</th>\n      <td>NaN</td>\n      <td>NaN</td>\n      <td>1.007704</td>\n      <td>0.649609</td>\n    </tr>\n    <tr>\n      <th>8</th>\n      <td>0.556035</td>\n      <td>1.073602</td>\n      <td>1.967679</td>\n      <td>0.139063</td>\n    </tr>\n    <tr>\n      <th>9</th>\n      <td>NaN</td>\n      <td>0.582850</td>\n      <td>NaN</td>\n      <td>NaN</td>\n    </tr>\n  </tbody>\n</table>\n</div>"
     },
     "execution_count": 22,
     "metadata": {},
     "output_type": "execute_result"
    }
   ],
   "source": [
    "df"
   ],
   "metadata": {
    "collapsed": false,
    "ExecuteTime": {
     "end_time": "2023-10-27T07:34:31.123143300Z",
     "start_time": "2023-10-27T07:34:31.099490600Z"
    }
   },
   "id": "11182ce51b636cb1"
  },
  {
   "cell_type": "code",
   "execution_count": 23,
   "outputs": [],
   "source": [
    "copy = df.copy()"
   ],
   "metadata": {
    "collapsed": false,
    "ExecuteTime": {
     "end_time": "2023-10-27T07:35:43.586156800Z",
     "start_time": "2023-10-27T07:35:43.533395600Z"
    }
   },
   "id": "f21ca9f9254d158c"
  },
  {
   "cell_type": "code",
   "execution_count": 26,
   "outputs": [],
   "source": [
    "copy.drop(columns=\"A\", inplace=True)"
   ],
   "metadata": {
    "collapsed": false,
    "ExecuteTime": {
     "end_time": "2023-10-27T07:38:28.734113Z",
     "start_time": "2023-10-27T07:38:28.723716600Z"
    }
   },
   "id": "c8b430ed7b8df364"
  },
  {
   "cell_type": "markdown",
   "source": [
    "## dropna\n",
    "Remove rows (default), or columns, containing null.\n",
    "\n",
    "**Parameters**\n",
    "- **how** = \"any\" (default), or \"all\"\n",
    "- **thresh** = set number of (non-missing) values a row must contain in order to *not* drop\n",
    "- **subset** = only look for NaN in subset of columns (or rows)\n",
    "- **axis** = \"index\" (default), or \"columns\""
   ],
   "metadata": {
    "collapsed": false
   },
   "id": "f1d85374d58c2e6e"
  },
  {
   "cell_type": "code",
   "execution_count": 27,
   "outputs": [
    {
     "data": {
      "text/plain": "          B         C         D\n0  0.459924  1.185044       NaN\n1       NaN       NaN       NaN\n2       NaN       NaN  0.164301\n3       NaN       NaN  1.925863\n4  2.420444  0.007489  0.729503\n5  1.353026  0.463694  1.248931\n6       NaN  0.017988  0.309169\n7       NaN  1.007704  0.649609\n8  1.073602  1.967679  0.139063\n9  0.582850       NaN       NaN",
      "text/html": "<div>\n<style scoped>\n    .dataframe tbody tr th:only-of-type {\n        vertical-align: middle;\n    }\n\n    .dataframe tbody tr th {\n        vertical-align: top;\n    }\n\n    .dataframe thead th {\n        text-align: right;\n    }\n</style>\n<table border=\"1\" class=\"dataframe\">\n  <thead>\n    <tr style=\"text-align: right;\">\n      <th></th>\n      <th>B</th>\n      <th>C</th>\n      <th>D</th>\n    </tr>\n  </thead>\n  <tbody>\n    <tr>\n      <th>0</th>\n      <td>0.459924</td>\n      <td>1.185044</td>\n      <td>NaN</td>\n    </tr>\n    <tr>\n      <th>1</th>\n      <td>NaN</td>\n      <td>NaN</td>\n      <td>NaN</td>\n    </tr>\n    <tr>\n      <th>2</th>\n      <td>NaN</td>\n      <td>NaN</td>\n      <td>0.164301</td>\n    </tr>\n    <tr>\n      <th>3</th>\n      <td>NaN</td>\n      <td>NaN</td>\n      <td>1.925863</td>\n    </tr>\n    <tr>\n      <th>4</th>\n      <td>2.420444</td>\n      <td>0.007489</td>\n      <td>0.729503</td>\n    </tr>\n    <tr>\n      <th>5</th>\n      <td>1.353026</td>\n      <td>0.463694</td>\n      <td>1.248931</td>\n    </tr>\n    <tr>\n      <th>6</th>\n      <td>NaN</td>\n      <td>0.017988</td>\n      <td>0.309169</td>\n    </tr>\n    <tr>\n      <th>7</th>\n      <td>NaN</td>\n      <td>1.007704</td>\n      <td>0.649609</td>\n    </tr>\n    <tr>\n      <th>8</th>\n      <td>1.073602</td>\n      <td>1.967679</td>\n      <td>0.139063</td>\n    </tr>\n    <tr>\n      <th>9</th>\n      <td>0.582850</td>\n      <td>NaN</td>\n      <td>NaN</td>\n    </tr>\n  </tbody>\n</table>\n</div>"
     },
     "execution_count": 27,
     "metadata": {},
     "output_type": "execute_result"
    }
   ],
   "source": [
    "copy"
   ],
   "metadata": {
    "collapsed": false,
    "ExecuteTime": {
     "end_time": "2023-10-27T07:38:38.349419100Z",
     "start_time": "2023-10-27T07:38:38.310944400Z"
    }
   },
   "id": "b3a9986ca8ddfdd3"
  },
  {
   "cell_type": "code",
   "execution_count": 28,
   "outputs": [
    {
     "data": {
      "text/plain": "       B      C      D\n0  False  False   True\n1   True   True   True\n2   True   True  False\n3   True   True  False\n4  False  False  False\n5  False  False  False\n6   True  False  False\n7   True  False  False\n8  False  False  False\n9  False   True   True",
      "text/html": "<div>\n<style scoped>\n    .dataframe tbody tr th:only-of-type {\n        vertical-align: middle;\n    }\n\n    .dataframe tbody tr th {\n        vertical-align: top;\n    }\n\n    .dataframe thead th {\n        text-align: right;\n    }\n</style>\n<table border=\"1\" class=\"dataframe\">\n  <thead>\n    <tr style=\"text-align: right;\">\n      <th></th>\n      <th>B</th>\n      <th>C</th>\n      <th>D</th>\n    </tr>\n  </thead>\n  <tbody>\n    <tr>\n      <th>0</th>\n      <td>False</td>\n      <td>False</td>\n      <td>True</td>\n    </tr>\n    <tr>\n      <th>1</th>\n      <td>True</td>\n      <td>True</td>\n      <td>True</td>\n    </tr>\n    <tr>\n      <th>2</th>\n      <td>True</td>\n      <td>True</td>\n      <td>False</td>\n    </tr>\n    <tr>\n      <th>3</th>\n      <td>True</td>\n      <td>True</td>\n      <td>False</td>\n    </tr>\n    <tr>\n      <th>4</th>\n      <td>False</td>\n      <td>False</td>\n      <td>False</td>\n    </tr>\n    <tr>\n      <th>5</th>\n      <td>False</td>\n      <td>False</td>\n      <td>False</td>\n    </tr>\n    <tr>\n      <th>6</th>\n      <td>True</td>\n      <td>False</td>\n      <td>False</td>\n    </tr>\n    <tr>\n      <th>7</th>\n      <td>True</td>\n      <td>False</td>\n      <td>False</td>\n    </tr>\n    <tr>\n      <th>8</th>\n      <td>False</td>\n      <td>False</td>\n      <td>False</td>\n    </tr>\n    <tr>\n      <th>9</th>\n      <td>False</td>\n      <td>True</td>\n      <td>True</td>\n    </tr>\n  </tbody>\n</table>\n</div>"
     },
     "execution_count": 28,
     "metadata": {},
     "output_type": "execute_result"
    }
   ],
   "source": [
    "copy.isna()"
   ],
   "metadata": {
    "collapsed": false,
    "ExecuteTime": {
     "end_time": "2023-10-27T07:39:34.221408900Z",
     "start_time": "2023-10-27T07:39:34.181623700Z"
    }
   },
   "id": "2f5706061c8c1ebd"
  },
  {
   "cell_type": "code",
   "execution_count": 29,
   "outputs": [
    {
     "data": {
      "text/plain": "          B         C         D\n4  2.420444  0.007489  0.729503\n5  1.353026  0.463694  1.248931\n8  1.073602  1.967679  0.139063",
      "text/html": "<div>\n<style scoped>\n    .dataframe tbody tr th:only-of-type {\n        vertical-align: middle;\n    }\n\n    .dataframe tbody tr th {\n        vertical-align: top;\n    }\n\n    .dataframe thead th {\n        text-align: right;\n    }\n</style>\n<table border=\"1\" class=\"dataframe\">\n  <thead>\n    <tr style=\"text-align: right;\">\n      <th></th>\n      <th>B</th>\n      <th>C</th>\n      <th>D</th>\n    </tr>\n  </thead>\n  <tbody>\n    <tr>\n      <th>4</th>\n      <td>2.420444</td>\n      <td>0.007489</td>\n      <td>0.729503</td>\n    </tr>\n    <tr>\n      <th>5</th>\n      <td>1.353026</td>\n      <td>0.463694</td>\n      <td>1.248931</td>\n    </tr>\n    <tr>\n      <th>8</th>\n      <td>1.073602</td>\n      <td>1.967679</td>\n      <td>0.139063</td>\n    </tr>\n  </tbody>\n</table>\n</div>"
     },
     "execution_count": 29,
     "metadata": {},
     "output_type": "execute_result"
    }
   ],
   "source": [
    "copy.dropna()"
   ],
   "metadata": {
    "collapsed": false,
    "ExecuteTime": {
     "end_time": "2023-10-27T07:41:00.610069900Z",
     "start_time": "2023-10-27T07:41:00.569565900Z"
    }
   },
   "id": "496fedc475dfa5a5"
  },
  {
   "cell_type": "code",
   "execution_count": 30,
   "outputs": [
    {
     "data": {
      "text/plain": "          B         C         D\n0  0.459924  1.185044       NaN\n1       NaN       NaN       NaN\n2       NaN       NaN  0.164301\n3       NaN       NaN  1.925863\n4  2.420444  0.007489  0.729503\n5  1.353026  0.463694  1.248931\n6       NaN  0.017988  0.309169\n7       NaN  1.007704  0.649609\n8  1.073602  1.967679  0.139063\n9  0.582850       NaN       NaN",
      "text/html": "<div>\n<style scoped>\n    .dataframe tbody tr th:only-of-type {\n        vertical-align: middle;\n    }\n\n    .dataframe tbody tr th {\n        vertical-align: top;\n    }\n\n    .dataframe thead th {\n        text-align: right;\n    }\n</style>\n<table border=\"1\" class=\"dataframe\">\n  <thead>\n    <tr style=\"text-align: right;\">\n      <th></th>\n      <th>B</th>\n      <th>C</th>\n      <th>D</th>\n    </tr>\n  </thead>\n  <tbody>\n    <tr>\n      <th>0</th>\n      <td>0.459924</td>\n      <td>1.185044</td>\n      <td>NaN</td>\n    </tr>\n    <tr>\n      <th>1</th>\n      <td>NaN</td>\n      <td>NaN</td>\n      <td>NaN</td>\n    </tr>\n    <tr>\n      <th>2</th>\n      <td>NaN</td>\n      <td>NaN</td>\n      <td>0.164301</td>\n    </tr>\n    <tr>\n      <th>3</th>\n      <td>NaN</td>\n      <td>NaN</td>\n      <td>1.925863</td>\n    </tr>\n    <tr>\n      <th>4</th>\n      <td>2.420444</td>\n      <td>0.007489</td>\n      <td>0.729503</td>\n    </tr>\n    <tr>\n      <th>5</th>\n      <td>1.353026</td>\n      <td>0.463694</td>\n      <td>1.248931</td>\n    </tr>\n    <tr>\n      <th>6</th>\n      <td>NaN</td>\n      <td>0.017988</td>\n      <td>0.309169</td>\n    </tr>\n    <tr>\n      <th>7</th>\n      <td>NaN</td>\n      <td>1.007704</td>\n      <td>0.649609</td>\n    </tr>\n    <tr>\n      <th>8</th>\n      <td>1.073602</td>\n      <td>1.967679</td>\n      <td>0.139063</td>\n    </tr>\n    <tr>\n      <th>9</th>\n      <td>0.582850</td>\n      <td>NaN</td>\n      <td>NaN</td>\n    </tr>\n  </tbody>\n</table>\n</div>"
     },
     "execution_count": 30,
     "metadata": {},
     "output_type": "execute_result"
    }
   ],
   "source": [
    "copy"
   ],
   "metadata": {
    "collapsed": false,
    "ExecuteTime": {
     "end_time": "2023-10-27T07:41:15.808328800Z",
     "start_time": "2023-10-27T07:41:15.754029900Z"
    }
   },
   "id": "2bca2d4c03bab5be"
  },
  {
   "cell_type": "code",
   "execution_count": 33,
   "outputs": [
    {
     "data": {
      "text/plain": "          B         C         D\n0  0.459924  1.185044       NaN\n2       NaN       NaN  0.164301\n3       NaN       NaN  1.925863\n4  2.420444  0.007489  0.729503\n5  1.353026  0.463694  1.248931\n6       NaN  0.017988  0.309169\n7       NaN  1.007704  0.649609\n8  1.073602  1.967679  0.139063\n9  0.582850       NaN       NaN",
      "text/html": "<div>\n<style scoped>\n    .dataframe tbody tr th:only-of-type {\n        vertical-align: middle;\n    }\n\n    .dataframe tbody tr th {\n        vertical-align: top;\n    }\n\n    .dataframe thead th {\n        text-align: right;\n    }\n</style>\n<table border=\"1\" class=\"dataframe\">\n  <thead>\n    <tr style=\"text-align: right;\">\n      <th></th>\n      <th>B</th>\n      <th>C</th>\n      <th>D</th>\n    </tr>\n  </thead>\n  <tbody>\n    <tr>\n      <th>0</th>\n      <td>0.459924</td>\n      <td>1.185044</td>\n      <td>NaN</td>\n    </tr>\n    <tr>\n      <th>2</th>\n      <td>NaN</td>\n      <td>NaN</td>\n      <td>0.164301</td>\n    </tr>\n    <tr>\n      <th>3</th>\n      <td>NaN</td>\n      <td>NaN</td>\n      <td>1.925863</td>\n    </tr>\n    <tr>\n      <th>4</th>\n      <td>2.420444</td>\n      <td>0.007489</td>\n      <td>0.729503</td>\n    </tr>\n    <tr>\n      <th>5</th>\n      <td>1.353026</td>\n      <td>0.463694</td>\n      <td>1.248931</td>\n    </tr>\n    <tr>\n      <th>6</th>\n      <td>NaN</td>\n      <td>0.017988</td>\n      <td>0.309169</td>\n    </tr>\n    <tr>\n      <th>7</th>\n      <td>NaN</td>\n      <td>1.007704</td>\n      <td>0.649609</td>\n    </tr>\n    <tr>\n      <th>8</th>\n      <td>1.073602</td>\n      <td>1.967679</td>\n      <td>0.139063</td>\n    </tr>\n    <tr>\n      <th>9</th>\n      <td>0.582850</td>\n      <td>NaN</td>\n      <td>NaN</td>\n    </tr>\n  </tbody>\n</table>\n</div>"
     },
     "execution_count": 33,
     "metadata": {},
     "output_type": "execute_result"
    }
   ],
   "source": [
    "copy.dropna(how=\"all\")"
   ],
   "metadata": {
    "collapsed": false,
    "ExecuteTime": {
     "end_time": "2023-10-27T07:42:38.183064400Z",
     "start_time": "2023-10-27T07:42:38.150231600Z"
    }
   },
   "id": "a5517e00abbf4b46"
  },
  {
   "cell_type": "code",
   "execution_count": 34,
   "outputs": [
    {
     "data": {
      "text/plain": "          B         C         D\n0  0.459924  1.185044       NaN\n4  2.420444  0.007489  0.729503\n5  1.353026  0.463694  1.248931\n6       NaN  0.017988  0.309169\n7       NaN  1.007704  0.649609\n8  1.073602  1.967679  0.139063",
      "text/html": "<div>\n<style scoped>\n    .dataframe tbody tr th:only-of-type {\n        vertical-align: middle;\n    }\n\n    .dataframe tbody tr th {\n        vertical-align: top;\n    }\n\n    .dataframe thead th {\n        text-align: right;\n    }\n</style>\n<table border=\"1\" class=\"dataframe\">\n  <thead>\n    <tr style=\"text-align: right;\">\n      <th></th>\n      <th>B</th>\n      <th>C</th>\n      <th>D</th>\n    </tr>\n  </thead>\n  <tbody>\n    <tr>\n      <th>0</th>\n      <td>0.459924</td>\n      <td>1.185044</td>\n      <td>NaN</td>\n    </tr>\n    <tr>\n      <th>4</th>\n      <td>2.420444</td>\n      <td>0.007489</td>\n      <td>0.729503</td>\n    </tr>\n    <tr>\n      <th>5</th>\n      <td>1.353026</td>\n      <td>0.463694</td>\n      <td>1.248931</td>\n    </tr>\n    <tr>\n      <th>6</th>\n      <td>NaN</td>\n      <td>0.017988</td>\n      <td>0.309169</td>\n    </tr>\n    <tr>\n      <th>7</th>\n      <td>NaN</td>\n      <td>1.007704</td>\n      <td>0.649609</td>\n    </tr>\n    <tr>\n      <th>8</th>\n      <td>1.073602</td>\n      <td>1.967679</td>\n      <td>0.139063</td>\n    </tr>\n  </tbody>\n</table>\n</div>"
     },
     "execution_count": 34,
     "metadata": {},
     "output_type": "execute_result"
    }
   ],
   "source": [
    "copy.dropna(thresh=2)"
   ],
   "metadata": {
    "collapsed": false,
    "ExecuteTime": {
     "end_time": "2023-10-27T07:43:05.668636900Z",
     "start_time": "2023-10-27T07:43:05.596830100Z"
    }
   },
   "id": "d6f4a1b73d777c80"
  },
  {
   "cell_type": "code",
   "execution_count": 36,
   "outputs": [
    {
     "data": {
      "text/plain": "          B         C         D\n0  0.459924  1.185044       NaN\n4  2.420444  0.007489  0.729503\n5  1.353026  0.463694  1.248931\n8  1.073602  1.967679  0.139063\n9  0.582850       NaN       NaN",
      "text/html": "<div>\n<style scoped>\n    .dataframe tbody tr th:only-of-type {\n        vertical-align: middle;\n    }\n\n    .dataframe tbody tr th {\n        vertical-align: top;\n    }\n\n    .dataframe thead th {\n        text-align: right;\n    }\n</style>\n<table border=\"1\" class=\"dataframe\">\n  <thead>\n    <tr style=\"text-align: right;\">\n      <th></th>\n      <th>B</th>\n      <th>C</th>\n      <th>D</th>\n    </tr>\n  </thead>\n  <tbody>\n    <tr>\n      <th>0</th>\n      <td>0.459924</td>\n      <td>1.185044</td>\n      <td>NaN</td>\n    </tr>\n    <tr>\n      <th>4</th>\n      <td>2.420444</td>\n      <td>0.007489</td>\n      <td>0.729503</td>\n    </tr>\n    <tr>\n      <th>5</th>\n      <td>1.353026</td>\n      <td>0.463694</td>\n      <td>1.248931</td>\n    </tr>\n    <tr>\n      <th>8</th>\n      <td>1.073602</td>\n      <td>1.967679</td>\n      <td>0.139063</td>\n    </tr>\n    <tr>\n      <th>9</th>\n      <td>0.582850</td>\n      <td>NaN</td>\n      <td>NaN</td>\n    </tr>\n  </tbody>\n</table>\n</div>"
     },
     "execution_count": 36,
     "metadata": {},
     "output_type": "execute_result"
    }
   ],
   "source": [
    "copy.dropna(subset=\"B\")"
   ],
   "metadata": {
    "collapsed": false,
    "ExecuteTime": {
     "end_time": "2023-10-27T07:46:02.752185Z",
     "start_time": "2023-10-27T07:46:02.732397600Z"
    }
   },
   "id": "ff2444822e77f738"
  },
  {
   "cell_type": "code",
   "execution_count": 37,
   "outputs": [
    {
     "data": {
      "text/plain": "          B         C         D\n0  0.459924  1.185044       NaN\n4  2.420444  0.007489  0.729503\n5  1.353026  0.463694  1.248931\n8  1.073602  1.967679  0.139063",
      "text/html": "<div>\n<style scoped>\n    .dataframe tbody tr th:only-of-type {\n        vertical-align: middle;\n    }\n\n    .dataframe tbody tr th {\n        vertical-align: top;\n    }\n\n    .dataframe thead th {\n        text-align: right;\n    }\n</style>\n<table border=\"1\" class=\"dataframe\">\n  <thead>\n    <tr style=\"text-align: right;\">\n      <th></th>\n      <th>B</th>\n      <th>C</th>\n      <th>D</th>\n    </tr>\n  </thead>\n  <tbody>\n    <tr>\n      <th>0</th>\n      <td>0.459924</td>\n      <td>1.185044</td>\n      <td>NaN</td>\n    </tr>\n    <tr>\n      <th>4</th>\n      <td>2.420444</td>\n      <td>0.007489</td>\n      <td>0.729503</td>\n    </tr>\n    <tr>\n      <th>5</th>\n      <td>1.353026</td>\n      <td>0.463694</td>\n      <td>1.248931</td>\n    </tr>\n    <tr>\n      <th>8</th>\n      <td>1.073602</td>\n      <td>1.967679</td>\n      <td>0.139063</td>\n    </tr>\n  </tbody>\n</table>\n</div>"
     },
     "execution_count": 37,
     "metadata": {},
     "output_type": "execute_result"
    }
   ],
   "source": [
    "copy.dropna(subset=[\"B\", \"C\"])"
   ],
   "metadata": {
    "collapsed": false,
    "ExecuteTime": {
     "end_time": "2023-10-27T07:47:00.068540200Z",
     "start_time": "2023-10-27T07:47:00.012707700Z"
    }
   },
   "id": "947eab35153a65b7"
  },
  {
   "cell_type": "code",
   "execution_count": 38,
   "outputs": [
    {
     "data": {
      "text/plain": "Empty DataFrame\nColumns: []\nIndex: [0, 1, 2, 3, 4, 5, 6, 7, 8, 9]",
      "text/html": "<div>\n<style scoped>\n    .dataframe tbody tr th:only-of-type {\n        vertical-align: middle;\n    }\n\n    .dataframe tbody tr th {\n        vertical-align: top;\n    }\n\n    .dataframe thead th {\n        text-align: right;\n    }\n</style>\n<table border=\"1\" class=\"dataframe\">\n  <thead>\n    <tr style=\"text-align: right;\">\n      <th></th>\n    </tr>\n  </thead>\n  <tbody>\n    <tr>\n      <th>0</th>\n    </tr>\n    <tr>\n      <th>1</th>\n    </tr>\n    <tr>\n      <th>2</th>\n    </tr>\n    <tr>\n      <th>3</th>\n    </tr>\n    <tr>\n      <th>4</th>\n    </tr>\n    <tr>\n      <th>5</th>\n    </tr>\n    <tr>\n      <th>6</th>\n    </tr>\n    <tr>\n      <th>7</th>\n    </tr>\n    <tr>\n      <th>8</th>\n    </tr>\n    <tr>\n      <th>9</th>\n    </tr>\n  </tbody>\n</table>\n</div>"
     },
     "execution_count": 38,
     "metadata": {},
     "output_type": "execute_result"
    }
   ],
   "source": [
    "copy.dropna(axis=\"columns\")"
   ],
   "metadata": {
    "collapsed": false,
    "ExecuteTime": {
     "end_time": "2023-10-27T07:48:12.910463800Z",
     "start_time": "2023-10-27T07:48:12.853402100Z"
    }
   },
   "id": "91fd705c8fb85da2"
  },
  {
   "cell_type": "code",
   "execution_count": 40,
   "outputs": [
    {
     "data": {
      "text/plain": "          C         D\n0  1.185044       NaN\n1       NaN       NaN\n2       NaN  0.164301\n3       NaN  1.925863\n4  0.007489  0.729503\n5  0.463694  1.248931\n6  0.017988  0.309169\n7  1.007704  0.649609\n8  1.967679  0.139063\n9       NaN       NaN",
      "text/html": "<div>\n<style scoped>\n    .dataframe tbody tr th:only-of-type {\n        vertical-align: middle;\n    }\n\n    .dataframe tbody tr th {\n        vertical-align: top;\n    }\n\n    .dataframe thead th {\n        text-align: right;\n    }\n</style>\n<table border=\"1\" class=\"dataframe\">\n  <thead>\n    <tr style=\"text-align: right;\">\n      <th></th>\n      <th>C</th>\n      <th>D</th>\n    </tr>\n  </thead>\n  <tbody>\n    <tr>\n      <th>0</th>\n      <td>1.185044</td>\n      <td>NaN</td>\n    </tr>\n    <tr>\n      <th>1</th>\n      <td>NaN</td>\n      <td>NaN</td>\n    </tr>\n    <tr>\n      <th>2</th>\n      <td>NaN</td>\n      <td>0.164301</td>\n    </tr>\n    <tr>\n      <th>3</th>\n      <td>NaN</td>\n      <td>1.925863</td>\n    </tr>\n    <tr>\n      <th>4</th>\n      <td>0.007489</td>\n      <td>0.729503</td>\n    </tr>\n    <tr>\n      <th>5</th>\n      <td>0.463694</td>\n      <td>1.248931</td>\n    </tr>\n    <tr>\n      <th>6</th>\n      <td>0.017988</td>\n      <td>0.309169</td>\n    </tr>\n    <tr>\n      <th>7</th>\n      <td>1.007704</td>\n      <td>0.649609</td>\n    </tr>\n    <tr>\n      <th>8</th>\n      <td>1.967679</td>\n      <td>0.139063</td>\n    </tr>\n    <tr>\n      <th>9</th>\n      <td>NaN</td>\n      <td>NaN</td>\n    </tr>\n  </tbody>\n</table>\n</div>"
     },
     "execution_count": 40,
     "metadata": {},
     "output_type": "execute_result"
    }
   ],
   "source": [
    "copy.dropna(axis=\"columns\", thresh=6)"
   ],
   "metadata": {
    "collapsed": false,
    "ExecuteTime": {
     "end_time": "2023-10-27T07:48:59.400150800Z",
     "start_time": "2023-10-27T07:48:59.378016500Z"
    }
   },
   "id": "f691b5d1a4495f9b"
  },
  {
   "cell_type": "code",
   "execution_count": 41,
   "outputs": [
    {
     "data": {
      "text/plain": "          D\n0       NaN\n1       NaN\n2  0.164301\n3  1.925863\n4  0.729503\n5  1.248931\n6  0.309169\n7  0.649609\n8  0.139063\n9       NaN",
      "text/html": "<div>\n<style scoped>\n    .dataframe tbody tr th:only-of-type {\n        vertical-align: middle;\n    }\n\n    .dataframe tbody tr th {\n        vertical-align: top;\n    }\n\n    .dataframe thead th {\n        text-align: right;\n    }\n</style>\n<table border=\"1\" class=\"dataframe\">\n  <thead>\n    <tr style=\"text-align: right;\">\n      <th></th>\n      <th>D</th>\n    </tr>\n  </thead>\n  <tbody>\n    <tr>\n      <th>0</th>\n      <td>NaN</td>\n    </tr>\n    <tr>\n      <th>1</th>\n      <td>NaN</td>\n    </tr>\n    <tr>\n      <th>2</th>\n      <td>0.164301</td>\n    </tr>\n    <tr>\n      <th>3</th>\n      <td>1.925863</td>\n    </tr>\n    <tr>\n      <th>4</th>\n      <td>0.729503</td>\n    </tr>\n    <tr>\n      <th>5</th>\n      <td>1.248931</td>\n    </tr>\n    <tr>\n      <th>6</th>\n      <td>0.309169</td>\n    </tr>\n    <tr>\n      <th>7</th>\n      <td>0.649609</td>\n    </tr>\n    <tr>\n      <th>8</th>\n      <td>0.139063</td>\n    </tr>\n    <tr>\n      <th>9</th>\n      <td>NaN</td>\n    </tr>\n  </tbody>\n</table>\n</div>"
     },
     "execution_count": 41,
     "metadata": {},
     "output_type": "execute_result"
    }
   ],
   "source": [
    "copy.dropna(axis=\"columns\", subset=2)"
   ],
   "metadata": {
    "collapsed": false,
    "ExecuteTime": {
     "end_time": "2023-10-27T07:49:21.242092Z",
     "start_time": "2023-10-27T07:49:21.182271600Z"
    }
   },
   "id": "45ef8ce67e401314"
  },
  {
   "cell_type": "code",
   "execution_count": null,
   "outputs": [],
   "source": [],
   "metadata": {
    "collapsed": false
   },
   "id": "3eafcbf142bb4a67"
  }
 ],
 "metadata": {
  "kernelspec": {
   "display_name": "Python 3",
   "language": "python",
   "name": "python3"
  },
  "language_info": {
   "codemirror_mode": {
    "name": "ipython",
    "version": 2
   },
   "file_extension": ".py",
   "mimetype": "text/x-python",
   "name": "python",
   "nbconvert_exporter": "python",
   "pygments_lexer": "ipython2",
   "version": "2.7.6"
  }
 },
 "nbformat": 4,
 "nbformat_minor": 5
}
