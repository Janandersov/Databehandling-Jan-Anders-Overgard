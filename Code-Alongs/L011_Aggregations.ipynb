{
 "cells": [
  {
   "cell_type": "markdown",
   "source": [
    "### Aggregation\n",
    "Data aggregation is the process where raw data is gathered and expressed in a summary form for statistical analysis.\n",
    "\n",
    "For example, raw data can be aggregated over a given time period to provide statistics such as average, minimum, maximum, sum, and count. After the data is aggregated and written to a view or report, you can analyze the aggregated data to gain insights about particular resources or resource groups."
   ],
   "metadata": {
    "collapsed": false
   },
   "id": "c7b226cfb7db3446"
  },
  {
   "cell_type": "code",
   "execution_count": 2,
   "outputs": [],
   "source": [
    "import numpy as np\n",
    "import pandas as pd"
   ],
   "metadata": {
    "collapsed": false,
    "ExecuteTime": {
     "end_time": "2023-11-02T08:16:37.290365200Z",
     "start_time": "2023-11-02T08:16:36.624654100Z"
    }
   },
   "id": "9700baa11163561e"
  },
  {
   "cell_type": "markdown",
   "source": [
    "### Built-in aggregation methods in pandas\n",
    "An aggregation method takes a series of values and returns a single value."
   ],
   "metadata": {
    "collapsed": false
   },
   "id": "bc7dec3b80378486"
  },
  {
   "cell_type": "code",
   "execution_count": 3,
   "outputs": [],
   "source": [
    "numbers = pd.Series(np.random.randint(low=1, high=100, size=5))"
   ],
   "metadata": {
    "collapsed": false,
    "ExecuteTime": {
     "end_time": "2023-11-02T08:20:56.353238700Z",
     "start_time": "2023-11-02T08:20:56.329713500Z"
    }
   },
   "id": "c804492e16d057ca"
  },
  {
   "cell_type": "code",
   "execution_count": 4,
   "outputs": [
    {
     "data": {
      "text/plain": "0    10\n1     8\n2     1\n3    86\n4    63\ndtype: int32"
     },
     "execution_count": 4,
     "metadata": {},
     "output_type": "execute_result"
    }
   ],
   "source": [
    "numbers"
   ],
   "metadata": {
    "collapsed": false,
    "ExecuteTime": {
     "end_time": "2023-11-02T08:21:00.563257100Z",
     "start_time": "2023-11-02T08:21:00.511805900Z"
    }
   },
   "id": "efab249538cbd220"
  },
  {
   "cell_type": "code",
   "execution_count": 6,
   "outputs": [
    {
     "name": "stdout",
     "output_type": "stream",
     "text": [
      "numbers.min() = 1\n"
     ]
    }
   ],
   "source": [
    "# Some of pandas aggregation methods are:\n",
    "print(f\"{numbers.min() = }\")"
   ],
   "metadata": {
    "collapsed": false,
    "ExecuteTime": {
     "end_time": "2023-11-02T08:22:13.215912800Z",
     "start_time": "2023-11-02T08:22:13.186737500Z"
    }
   },
   "id": "4af1926aa6affdd9"
  },
  {
   "cell_type": "code",
   "execution_count": 7,
   "outputs": [
    {
     "name": "stdout",
     "output_type": "stream",
     "text": [
      "numbers.max() = 86\n"
     ]
    }
   ],
   "source": [
    "print(f\"{numbers.max() = }\")"
   ],
   "metadata": {
    "collapsed": false,
    "ExecuteTime": {
     "end_time": "2023-11-02T08:22:18.585375300Z",
     "start_time": "2023-11-02T08:22:18.571588Z"
    }
   },
   "id": "ce053096b9e10b83"
  },
  {
   "cell_type": "code",
   "execution_count": 8,
   "outputs": [
    {
     "name": "stdout",
     "output_type": "stream",
     "text": [
      "numbers.mean() = 33.6\n"
     ]
    }
   ],
   "source": [
    "print(f\"{numbers.mean() = }\")"
   ],
   "metadata": {
    "collapsed": false,
    "ExecuteTime": {
     "end_time": "2023-11-02T08:22:35.692564200Z",
     "start_time": "2023-11-02T08:22:35.685995500Z"
    }
   },
   "id": "d6ea17981bec5ebd"
  },
  {
   "cell_type": "code",
   "execution_count": 9,
   "outputs": [
    {
     "name": "stdout",
     "output_type": "stream",
     "text": [
      "numbers.sum() = 168\n"
     ]
    }
   ],
   "source": [
    "print(f\"{numbers.sum() = }\")"
   ],
   "metadata": {
    "collapsed": false,
    "ExecuteTime": {
     "end_time": "2023-11-02T08:22:55.591733600Z",
     "start_time": "2023-11-02T08:22:55.586018300Z"
    }
   },
   "id": "1d3c0a93c76defbc"
  },
  {
   "cell_type": "code",
   "execution_count": 10,
   "outputs": [
    {
     "name": "stdout",
     "output_type": "stream",
     "text": [
      "numbers.count() = 5\n"
     ]
    }
   ],
   "source": [
    "print(f\"{numbers.count() = }\")"
   ],
   "metadata": {
    "collapsed": false,
    "ExecuteTime": {
     "end_time": "2023-11-02T08:23:15.607981500Z",
     "start_time": "2023-11-02T08:23:15.601706400Z"
    }
   },
   "id": "a3838c6b5ab2ac30"
  },
  {
   "cell_type": "code",
   "execution_count": 11,
   "outputs": [
    {
     "name": "stdout",
     "output_type": "stream",
     "text": [
      "numbers.sum() / numbers.count() = 33.6\n"
     ]
    }
   ],
   "source": [
    "print(f\"{numbers.sum() / numbers.count() = }\")"
   ],
   "metadata": {
    "collapsed": false,
    "ExecuteTime": {
     "end_time": "2023-11-02T08:24:36.354751800Z",
     "start_time": "2023-11-02T08:24:36.300459100Z"
    }
   },
   "id": "5de2472bcd6d8a16"
  },
  {
   "cell_type": "code",
   "execution_count": 12,
   "outputs": [
    {
     "name": "stdout",
     "output_type": "stream",
     "text": [
      "numbers.median() = 10.0\n"
     ]
    }
   ],
   "source": [
    "print(f\"{numbers.median() = }\")"
   ],
   "metadata": {
    "collapsed": false,
    "ExecuteTime": {
     "end_time": "2023-11-02T08:24:56.738494300Z",
     "start_time": "2023-11-02T08:24:56.634689900Z"
    }
   },
   "id": "c5df9c2557a5589a"
  },
  {
   "cell_type": "code",
   "execution_count": 13,
   "outputs": [
    {
     "name": "stdout",
     "output_type": "stream",
     "text": [
      "numbers.mode()[0] = 1\n"
     ]
    }
   ],
   "source": [
    "print(f\"{numbers.mode()[0] = }\")"
   ],
   "metadata": {
    "collapsed": false,
    "ExecuteTime": {
     "end_time": "2023-11-02T08:26:46.161117900Z",
     "start_time": "2023-11-02T08:26:46.111320500Z"
    }
   },
   "id": "629b339c4ce88cd9"
  },
  {
   "cell_type": "code",
   "execution_count": 15,
   "outputs": [
    {
     "name": "stdout",
     "output_type": "stream",
     "text": [
      "numbers.size = 5\n"
     ]
    }
   ],
   "source": [
    "print(f\"{numbers.size = }\")"
   ],
   "metadata": {
    "collapsed": false,
    "ExecuteTime": {
     "end_time": "2023-11-02T08:27:48.257394900Z",
     "start_time": "2023-11-02T08:27:48.222801700Z"
    }
   },
   "id": "188b2d8934114729"
  },
  {
   "cell_type": "markdown",
   "source": [
    "When run on a dataframe (multiple series) they return a single value for each Series, forming a new Series. "
   ],
   "metadata": {
    "collapsed": false
   },
   "id": "eb435a2125c7786c"
  },
  {
   "cell_type": "code",
   "execution_count": 17,
   "outputs": [],
   "source": [
    "numbers_df = pd.DataFrame(np.random.randint(low=1, high=100, size=[5, 5]))"
   ],
   "metadata": {
    "collapsed": false,
    "ExecuteTime": {
     "end_time": "2023-11-02T08:32:16.970445900Z",
     "start_time": "2023-11-02T08:32:16.947765100Z"
    }
   },
   "id": "d3809317f4371abf"
  },
  {
   "cell_type": "code",
   "execution_count": 18,
   "outputs": [
    {
     "data": {
      "text/plain": "    0   1   2   3   4\n0  14  93   9  80  71\n1  26  29  46  31  85\n2   7  17  74  22  75\n3  98  28   2  98  59\n4  56  39  27  66   3",
      "text/html": "<div>\n<style scoped>\n    .dataframe tbody tr th:only-of-type {\n        vertical-align: middle;\n    }\n\n    .dataframe tbody tr th {\n        vertical-align: top;\n    }\n\n    .dataframe thead th {\n        text-align: right;\n    }\n</style>\n<table border=\"1\" class=\"dataframe\">\n  <thead>\n    <tr style=\"text-align: right;\">\n      <th></th>\n      <th>0</th>\n      <th>1</th>\n      <th>2</th>\n      <th>3</th>\n      <th>4</th>\n    </tr>\n  </thead>\n  <tbody>\n    <tr>\n      <th>0</th>\n      <td>14</td>\n      <td>93</td>\n      <td>9</td>\n      <td>80</td>\n      <td>71</td>\n    </tr>\n    <tr>\n      <th>1</th>\n      <td>26</td>\n      <td>29</td>\n      <td>46</td>\n      <td>31</td>\n      <td>85</td>\n    </tr>\n    <tr>\n      <th>2</th>\n      <td>7</td>\n      <td>17</td>\n      <td>74</td>\n      <td>22</td>\n      <td>75</td>\n    </tr>\n    <tr>\n      <th>3</th>\n      <td>98</td>\n      <td>28</td>\n      <td>2</td>\n      <td>98</td>\n      <td>59</td>\n    </tr>\n    <tr>\n      <th>4</th>\n      <td>56</td>\n      <td>39</td>\n      <td>27</td>\n      <td>66</td>\n      <td>3</td>\n    </tr>\n  </tbody>\n</table>\n</div>"
     },
     "execution_count": 18,
     "metadata": {},
     "output_type": "execute_result"
    }
   ],
   "source": [
    "numbers_df"
   ],
   "metadata": {
    "collapsed": false,
    "ExecuteTime": {
     "end_time": "2023-11-02T08:32:24.547564300Z",
     "start_time": "2023-11-02T08:32:24.519477800Z"
    }
   },
   "id": "b0e818eb8a8718d6"
  },
  {
   "cell_type": "code",
   "execution_count": 19,
   "outputs": [
    {
     "data": {
      "text/plain": "0     7\n1    17\n2     2\n3    22\n4     3\ndtype: int32"
     },
     "execution_count": 19,
     "metadata": {},
     "output_type": "execute_result"
    }
   ],
   "source": [
    "numbers_df.min() # default axis = \"index\""
   ],
   "metadata": {
    "collapsed": false,
    "ExecuteTime": {
     "end_time": "2023-11-02T08:32:35.296705300Z",
     "start_time": "2023-11-02T08:32:35.281927800Z"
    }
   },
   "id": "9c98729096e91e9e"
  },
  {
   "cell_type": "code",
   "execution_count": 20,
   "outputs": [
    {
     "data": {
      "text/plain": "0     7\n1    17\n2     2\n3    22\n4     3\ndtype: int32"
     },
     "execution_count": 20,
     "metadata": {},
     "output_type": "execute_result"
    }
   ],
   "source": [
    "numbers_df.min(axis=\"index\")"
   ],
   "metadata": {
    "collapsed": false,
    "ExecuteTime": {
     "end_time": "2023-11-02T08:33:39.411233700Z",
     "start_time": "2023-11-02T08:33:39.365825500Z"
    }
   },
   "id": "be6c2f1ca66109e8"
  },
  {
   "cell_type": "code",
   "execution_count": 21,
   "outputs": [
    {
     "data": {
      "text/plain": "0     9\n1    26\n2     7\n3     2\n4     3\ndtype: int32"
     },
     "execution_count": 21,
     "metadata": {},
     "output_type": "execute_result"
    }
   ],
   "source": [
    "numbers_df.min(axis=\"columns\")"
   ],
   "metadata": {
    "collapsed": false,
    "ExecuteTime": {
     "end_time": "2023-11-02T08:33:57.682495900Z",
     "start_time": "2023-11-02T08:33:57.642428700Z"
    }
   },
   "id": "ae5d93589f42e604"
  },
  {
   "cell_type": "code",
   "execution_count": 23,
   "outputs": [
    {
     "data": {
      "text/plain": "2"
     },
     "execution_count": 23,
     "metadata": {},
     "output_type": "execute_result"
    }
   ],
   "source": [
    "numbers_df.min(axis=\"columns\").min()"
   ],
   "metadata": {
    "collapsed": false,
    "ExecuteTime": {
     "end_time": "2023-11-02T08:35:00.497358600Z",
     "start_time": "2023-11-02T08:35:00.479369200Z"
    }
   },
   "id": "f0d33f9f5ac3d9c6"
  },
  {
   "cell_type": "code",
   "execution_count": 24,
   "outputs": [
    {
     "data": {
      "text/plain": "2"
     },
     "execution_count": 24,
     "metadata": {},
     "output_type": "execute_result"
    }
   ],
   "source": [
    "numbers_df.min(axis=\"index\").min()"
   ],
   "metadata": {
    "collapsed": false,
    "ExecuteTime": {
     "end_time": "2023-11-02T08:36:01.360670300Z",
     "start_time": "2023-11-02T08:36:01.347421700Z"
    }
   },
   "id": "56008b1e54633653"
  },
  {
   "cell_type": "code",
   "execution_count": 25,
   "outputs": [
    {
     "data": {
      "text/plain": "39.0"
     },
     "execution_count": 25,
     "metadata": {},
     "output_type": "execute_result"
    }
   ],
   "source": [
    "numbers_df.median(axis=\"columns\").median()"
   ],
   "metadata": {
    "collapsed": false,
    "ExecuteTime": {
     "end_time": "2023-11-02T08:36:31.787165700Z",
     "start_time": "2023-11-02T08:36:31.742178300Z"
    }
   },
   "id": "98367d468cd5a84c"
  },
  {
   "cell_type": "code",
   "execution_count": 26,
   "outputs": [
    {
     "data": {
      "text/plain": "29.0"
     },
     "execution_count": 26,
     "metadata": {},
     "output_type": "execute_result"
    }
   ],
   "source": [
    "numbers_df.median(axis=\"index\").median()"
   ],
   "metadata": {
    "collapsed": false,
    "ExecuteTime": {
     "end_time": "2023-11-02T08:36:47.194114800Z",
     "start_time": "2023-11-02T08:36:47.121735300Z"
    }
   },
   "id": "f96223acb3599ab7"
  },
  {
   "cell_type": "code",
   "execution_count": 27,
   "outputs": [
    {
     "data": {
      "text/plain": "26.0"
     },
     "execution_count": 27,
     "metadata": {},
     "output_type": "execute_result"
    }
   ],
   "source": [
    "numbers_df.median(axis=\"index\").min()\n"
   ],
   "metadata": {
    "collapsed": false,
    "ExecuteTime": {
     "end_time": "2023-11-02T08:37:13.143821100Z",
     "start_time": "2023-11-02T08:37:13.106397800Z"
    }
   },
   "id": "3efadaaefcfec9f5"
  },
  {
   "cell_type": "code",
   "execution_count": 28,
   "outputs": [
    {
     "data": {
      "text/plain": "       0      1      2      3      4\n0  False  False  False  False  False\n1  False  False  False  False  False\n2  False  False  False  False  False\n3  False  False  False  False  False\n4  False  False  False  False  False",
      "text/html": "<div>\n<style scoped>\n    .dataframe tbody tr th:only-of-type {\n        vertical-align: middle;\n    }\n\n    .dataframe tbody tr th {\n        vertical-align: top;\n    }\n\n    .dataframe thead th {\n        text-align: right;\n    }\n</style>\n<table border=\"1\" class=\"dataframe\">\n  <thead>\n    <tr style=\"text-align: right;\">\n      <th></th>\n      <th>0</th>\n      <th>1</th>\n      <th>2</th>\n      <th>3</th>\n      <th>4</th>\n    </tr>\n  </thead>\n  <tbody>\n    <tr>\n      <th>0</th>\n      <td>False</td>\n      <td>False</td>\n      <td>False</td>\n      <td>False</td>\n      <td>False</td>\n    </tr>\n    <tr>\n      <th>1</th>\n      <td>False</td>\n      <td>False</td>\n      <td>False</td>\n      <td>False</td>\n      <td>False</td>\n    </tr>\n    <tr>\n      <th>2</th>\n      <td>False</td>\n      <td>False</td>\n      <td>False</td>\n      <td>False</td>\n      <td>False</td>\n    </tr>\n    <tr>\n      <th>3</th>\n      <td>False</td>\n      <td>False</td>\n      <td>False</td>\n      <td>False</td>\n      <td>False</td>\n    </tr>\n    <tr>\n      <th>4</th>\n      <td>False</td>\n      <td>False</td>\n      <td>False</td>\n      <td>False</td>\n      <td>False</td>\n    </tr>\n  </tbody>\n</table>\n</div>"
     },
     "execution_count": 28,
     "metadata": {},
     "output_type": "execute_result"
    }
   ],
   "source": [
    "numbers_df.isna()"
   ],
   "metadata": {
    "collapsed": false,
    "ExecuteTime": {
     "end_time": "2023-11-02T08:39:26.084134700Z",
     "start_time": "2023-11-02T08:39:26.054800400Z"
    }
   },
   "id": "bde005ef5a11b180"
  },
  {
   "cell_type": "code",
   "execution_count": 29,
   "outputs": [
    {
     "data": {
      "text/plain": "0    0\n1    0\n2    0\n3    0\n4    0\ndtype: int64"
     },
     "execution_count": 29,
     "metadata": {},
     "output_type": "execute_result"
    }
   ],
   "source": [
    "# Count null values in each column\n",
    "numbers_df.isna().sum()"
   ],
   "metadata": {
    "collapsed": false,
    "ExecuteTime": {
     "end_time": "2023-11-02T08:40:20.542583700Z",
     "start_time": "2023-11-02T08:40:20.522104Z"
    }
   },
   "id": "f34830ddda46548d"
  },
  {
   "cell_type": "code",
   "execution_count": 32,
   "outputs": [],
   "source": [
    "numbers_df = pd.DataFrame(np.random.randint(low=1, high=100, size=[5, 5]))\n",
    "numbers_df.loc[[0,3], [1,4]] = np.nan"
   ],
   "metadata": {
    "collapsed": false,
    "ExecuteTime": {
     "end_time": "2023-11-02T08:43:42.570252400Z",
     "start_time": "2023-11-02T08:43:42.531705100Z"
    }
   },
   "id": "d741cfb80a881a49"
  },
  {
   "cell_type": "code",
   "execution_count": 33,
   "outputs": [
    {
     "data": {
      "text/plain": "    0     1   2   3     4\n0  41   NaN  73  94   NaN\n1  46  94.0  36  78  37.0\n2  17  28.0  67  14  92.0\n3  44   NaN  17  44   NaN\n4  35   1.0  26  50  83.0",
      "text/html": "<div>\n<style scoped>\n    .dataframe tbody tr th:only-of-type {\n        vertical-align: middle;\n    }\n\n    .dataframe tbody tr th {\n        vertical-align: top;\n    }\n\n    .dataframe thead th {\n        text-align: right;\n    }\n</style>\n<table border=\"1\" class=\"dataframe\">\n  <thead>\n    <tr style=\"text-align: right;\">\n      <th></th>\n      <th>0</th>\n      <th>1</th>\n      <th>2</th>\n      <th>3</th>\n      <th>4</th>\n    </tr>\n  </thead>\n  <tbody>\n    <tr>\n      <th>0</th>\n      <td>41</td>\n      <td>NaN</td>\n      <td>73</td>\n      <td>94</td>\n      <td>NaN</td>\n    </tr>\n    <tr>\n      <th>1</th>\n      <td>46</td>\n      <td>94.0</td>\n      <td>36</td>\n      <td>78</td>\n      <td>37.0</td>\n    </tr>\n    <tr>\n      <th>2</th>\n      <td>17</td>\n      <td>28.0</td>\n      <td>67</td>\n      <td>14</td>\n      <td>92.0</td>\n    </tr>\n    <tr>\n      <th>3</th>\n      <td>44</td>\n      <td>NaN</td>\n      <td>17</td>\n      <td>44</td>\n      <td>NaN</td>\n    </tr>\n    <tr>\n      <th>4</th>\n      <td>35</td>\n      <td>1.0</td>\n      <td>26</td>\n      <td>50</td>\n      <td>83.0</td>\n    </tr>\n  </tbody>\n</table>\n</div>"
     },
     "execution_count": 33,
     "metadata": {},
     "output_type": "execute_result"
    }
   ],
   "source": [
    "numbers_df"
   ],
   "metadata": {
    "collapsed": false,
    "ExecuteTime": {
     "end_time": "2023-11-02T08:43:59.322775700Z",
     "start_time": "2023-11-02T08:43:59.288316800Z"
    }
   },
   "id": "c37772d5481c308e"
  },
  {
   "cell_type": "code",
   "execution_count": 34,
   "outputs": [
    {
     "data": {
      "text/plain": "0    0\n1    2\n2    0\n3    0\n4    2\ndtype: int64"
     },
     "execution_count": 34,
     "metadata": {},
     "output_type": "execute_result"
    }
   ],
   "source": [
    "numbers_df.isna().sum()"
   ],
   "metadata": {
    "collapsed": false,
    "ExecuteTime": {
     "end_time": "2023-11-02T08:44:13.295665Z",
     "start_time": "2023-11-02T08:44:13.246480900Z"
    }
   },
   "id": "8e8fc938bb6582ca"
  },
  {
   "cell_type": "code",
   "execution_count": 35,
   "outputs": [
    {
     "data": {
      "text/plain": "0    2\n1    0\n2    0\n3    2\n4    0\ndtype: int64"
     },
     "execution_count": 35,
     "metadata": {},
     "output_type": "execute_result"
    }
   ],
   "source": [
    "numbers_df.isna().sum(axis=\"columns\")"
   ],
   "metadata": {
    "collapsed": false,
    "ExecuteTime": {
     "end_time": "2023-11-02T08:45:18.951325600Z",
     "start_time": "2023-11-02T08:45:18.908563Z"
    }
   },
   "id": "9fd84b0dc6f30681"
  },
  {
   "cell_type": "markdown",
   "source": [
    "## Working with real data"
   ],
   "metadata": {
    "collapsed": false
   },
   "id": "7754687a89e256ba"
  },
  {
   "cell_type": "code",
   "execution_count": 36,
   "outputs": [],
   "source": [
    "autos = pd.read_json(\"../Data/autos_json.json\")"
   ],
   "metadata": {
    "collapsed": false,
    "ExecuteTime": {
     "end_time": "2023-11-02T09:05:50.797443800Z",
     "start_time": "2023-11-02T09:05:50.578011700Z"
    }
   },
   "id": "e5f1b3a80a236a89"
  },
  {
   "cell_type": "code",
   "execution_count": 37,
   "outputs": [
    {
     "data": {
      "text/plain": "    aspiration body-style  bore  city-mpg  compression-ratio  curb-weight  \\\n202        std      sedan  3.58        18                8.8         3012   \n203      turbo      sedan  3.01        26               23.0         3217   \n204      turbo      sedan  3.78        19                9.5         3062   \n\n    drive-wheels engine-location  engine-size engine-type  ...   make  \\\n202          rwd           front          173        ohcv  ...  volvo   \n203          rwd           front          145         ohc  ...  volvo   \n204          rwd           front          141         ohc  ...  volvo   \n\n    normalized-losses  num-of-cylinders  num-of-doors  peak-rpm    price  \\\n202              95.0               six          four    5500.0  21485.0   \n203              95.0               six          four    4800.0  22470.0   \n204              95.0              four          four    5400.0  22625.0   \n\n    stroke  symboling wheel-base width  \n202   2.87         -1      109.1  68.9  \n203   3.40         -1      109.1  68.9  \n204   3.15         -1      109.1  68.9  \n\n[3 rows x 26 columns]",
      "text/html": "<div>\n<style scoped>\n    .dataframe tbody tr th:only-of-type {\n        vertical-align: middle;\n    }\n\n    .dataframe tbody tr th {\n        vertical-align: top;\n    }\n\n    .dataframe thead th {\n        text-align: right;\n    }\n</style>\n<table border=\"1\" class=\"dataframe\">\n  <thead>\n    <tr style=\"text-align: right;\">\n      <th></th>\n      <th>aspiration</th>\n      <th>body-style</th>\n      <th>bore</th>\n      <th>city-mpg</th>\n      <th>compression-ratio</th>\n      <th>curb-weight</th>\n      <th>drive-wheels</th>\n      <th>engine-location</th>\n      <th>engine-size</th>\n      <th>engine-type</th>\n      <th>...</th>\n      <th>make</th>\n      <th>normalized-losses</th>\n      <th>num-of-cylinders</th>\n      <th>num-of-doors</th>\n      <th>peak-rpm</th>\n      <th>price</th>\n      <th>stroke</th>\n      <th>symboling</th>\n      <th>wheel-base</th>\n      <th>width</th>\n    </tr>\n  </thead>\n  <tbody>\n    <tr>\n      <th>202</th>\n      <td>std</td>\n      <td>sedan</td>\n      <td>3.58</td>\n      <td>18</td>\n      <td>8.8</td>\n      <td>3012</td>\n      <td>rwd</td>\n      <td>front</td>\n      <td>173</td>\n      <td>ohcv</td>\n      <td>...</td>\n      <td>volvo</td>\n      <td>95.0</td>\n      <td>six</td>\n      <td>four</td>\n      <td>5500.0</td>\n      <td>21485.0</td>\n      <td>2.87</td>\n      <td>-1</td>\n      <td>109.1</td>\n      <td>68.9</td>\n    </tr>\n    <tr>\n      <th>203</th>\n      <td>turbo</td>\n      <td>sedan</td>\n      <td>3.01</td>\n      <td>26</td>\n      <td>23.0</td>\n      <td>3217</td>\n      <td>rwd</td>\n      <td>front</td>\n      <td>145</td>\n      <td>ohc</td>\n      <td>...</td>\n      <td>volvo</td>\n      <td>95.0</td>\n      <td>six</td>\n      <td>four</td>\n      <td>4800.0</td>\n      <td>22470.0</td>\n      <td>3.40</td>\n      <td>-1</td>\n      <td>109.1</td>\n      <td>68.9</td>\n    </tr>\n    <tr>\n      <th>204</th>\n      <td>turbo</td>\n      <td>sedan</td>\n      <td>3.78</td>\n      <td>19</td>\n      <td>9.5</td>\n      <td>3062</td>\n      <td>rwd</td>\n      <td>front</td>\n      <td>141</td>\n      <td>ohc</td>\n      <td>...</td>\n      <td>volvo</td>\n      <td>95.0</td>\n      <td>four</td>\n      <td>four</td>\n      <td>5400.0</td>\n      <td>22625.0</td>\n      <td>3.15</td>\n      <td>-1</td>\n      <td>109.1</td>\n      <td>68.9</td>\n    </tr>\n  </tbody>\n</table>\n<p>3 rows × 26 columns</p>\n</div>"
     },
     "execution_count": 37,
     "metadata": {},
     "output_type": "execute_result"
    }
   ],
   "source": [
    "autos.tail(3)"
   ],
   "metadata": {
    "collapsed": false,
    "ExecuteTime": {
     "end_time": "2023-11-02T09:06:02.776768100Z",
     "start_time": "2023-11-02T09:06:02.717184400Z"
    }
   },
   "id": "8fbec542ca1f61c"
  },
  {
   "cell_type": "code",
   "execution_count": 38,
   "outputs": [
    {
     "data": {
      "text/plain": "13207.129353233831"
     },
     "execution_count": 38,
     "metadata": {},
     "output_type": "execute_result"
    }
   ],
   "source": [
    "autos[\"price\"].mean()"
   ],
   "metadata": {
    "collapsed": false,
    "ExecuteTime": {
     "end_time": "2023-11-02T09:06:38.398775300Z",
     "start_time": "2023-11-02T09:06:38.360264700Z"
    }
   },
   "id": "b797e0de5a408ba6"
  },
  {
   "cell_type": "code",
   "execution_count": 40,
   "outputs": [
    {
     "data": {
      "text/plain": "   length  width  height\n0   168.8   64.1    48.8\n1   168.8   64.1    48.8\n2   171.2   65.5    52.4",
      "text/html": "<div>\n<style scoped>\n    .dataframe tbody tr th:only-of-type {\n        vertical-align: middle;\n    }\n\n    .dataframe tbody tr th {\n        vertical-align: top;\n    }\n\n    .dataframe thead th {\n        text-align: right;\n    }\n</style>\n<table border=\"1\" class=\"dataframe\">\n  <thead>\n    <tr style=\"text-align: right;\">\n      <th></th>\n      <th>length</th>\n      <th>width</th>\n      <th>height</th>\n    </tr>\n  </thead>\n  <tbody>\n    <tr>\n      <th>0</th>\n      <td>168.8</td>\n      <td>64.1</td>\n      <td>48.8</td>\n    </tr>\n    <tr>\n      <th>1</th>\n      <td>168.8</td>\n      <td>64.1</td>\n      <td>48.8</td>\n    </tr>\n    <tr>\n      <th>2</th>\n      <td>171.2</td>\n      <td>65.5</td>\n      <td>52.4</td>\n    </tr>\n  </tbody>\n</table>\n</div>"
     },
     "execution_count": 40,
     "metadata": {},
     "output_type": "execute_result"
    }
   ],
   "source": [
    "autos[[\"length\", \"width\", \"height\"]].head(3)"
   ],
   "metadata": {
    "collapsed": false,
    "ExecuteTime": {
     "end_time": "2023-11-02T09:08:00.700669800Z",
     "start_time": "2023-11-02T09:08:00.663141100Z"
    }
   },
   "id": "a6cec62cb1f43f4d"
  },
  {
   "cell_type": "code",
   "execution_count": 41,
   "outputs": [
    {
     "data": {
      "text/plain": "length    169.600000\nwidth      64.566667\nheight     50.000000\ndtype: float64"
     },
     "execution_count": 41,
     "metadata": {},
     "output_type": "execute_result"
    }
   ],
   "source": [
    "# Running mean() on multiple columns (DatsFrame) returns a series of means.\n",
    "autos[[\"length\", \"width\", \"height\"]].head(3).mean()"
   ],
   "metadata": {
    "collapsed": false,
    "ExecuteTime": {
     "end_time": "2023-11-02T09:08:59.786531500Z",
     "start_time": "2023-11-02T09:08:59.750161600Z"
    }
   },
   "id": "d48c5c2842d97db"
  },
  {
   "cell_type": "code",
   "execution_count": 42,
   "outputs": [
    {
     "data": {
      "text/plain": "length    174.049268\nwidth      65.907805\nheight     53.724878\ndtype: float64"
     },
     "execution_count": 42,
     "metadata": {},
     "output_type": "execute_result"
    }
   ],
   "source": [
    "autos[[\"length\", \"width\", \"height\"]].mean()"
   ],
   "metadata": {
    "collapsed": false,
    "ExecuteTime": {
     "end_time": "2023-11-02T09:09:26.330833Z",
     "start_time": "2023-11-02T09:09:26.291973700Z"
    }
   },
   "id": "871d3a30bde85c3"
  },
  {
   "cell_type": "code",
   "execution_count": 46,
   "outputs": [
    {
     "data": {
      "text/plain": "    aspiration body-style  bore  city-mpg  compression-ratio  curb-weight  \\\n194        std      sedan  3.78        23                9.5         2912   \n195        std      wagon  3.78        23                9.5         3034   \n196        std      sedan  3.78        24                9.5         2935   \n197        std      wagon  3.78        24                9.5         3042   \n198      turbo      sedan  3.62        17                7.5         3045   \n199      turbo      wagon  3.62        17                7.5         3157   \n200        std      sedan  3.78        23                9.5         2952   \n201      turbo      sedan  3.78        19                8.7         3049   \n202        std      sedan  3.58        18                8.8         3012   \n203      turbo      sedan  3.01        26               23.0         3217   \n204      turbo      sedan  3.78        19                9.5         3062   \n\n    drive-wheels engine-location  engine-size engine-type  ...   make  \\\n194          rwd           front          141         ohc  ...  volvo   \n195          rwd           front          141         ohc  ...  volvo   \n196          rwd           front          141         ohc  ...  volvo   \n197          rwd           front          141         ohc  ...  volvo   \n198          rwd           front          130         ohc  ...  volvo   \n199          rwd           front          130         ohc  ...  volvo   \n200          rwd           front          141         ohc  ...  volvo   \n201          rwd           front          141         ohc  ...  volvo   \n202          rwd           front          173        ohcv  ...  volvo   \n203          rwd           front          145         ohc  ...  volvo   \n204          rwd           front          141         ohc  ...  volvo   \n\n    normalized-losses  num-of-cylinders  num-of-doors  peak-rpm    price  \\\n194             103.0              four          four    5400.0  12940.0   \n195              74.0              four          four    5400.0  13415.0   \n196             103.0              four          four    5400.0  15985.0   \n197              74.0              four          four    5400.0  16515.0   \n198             103.0              four          four    5100.0  18420.0   \n199              74.0              four          four    5100.0  18950.0   \n200              95.0              four          four    5400.0  16845.0   \n201              95.0              four          four    5300.0  19045.0   \n202              95.0               six          four    5500.0  21485.0   \n203              95.0               six          four    4800.0  22470.0   \n204              95.0              four          four    5400.0  22625.0   \n\n    stroke  symboling wheel-base width  \n194   3.15         -2      104.3  67.2  \n195   3.15         -1      104.3  67.2  \n196   3.15         -2      104.3  67.2  \n197   3.15         -1      104.3  67.2  \n198   3.15         -2      104.3  67.2  \n199   3.15         -1      104.3  67.2  \n200   3.15         -1      109.1  68.9  \n201   3.15         -1      109.1  68.8  \n202   2.87         -1      109.1  68.9  \n203   3.40         -1      109.1  68.9  \n204   3.15         -1      109.1  68.9  \n\n[11 rows x 26 columns]",
      "text/html": "<div>\n<style scoped>\n    .dataframe tbody tr th:only-of-type {\n        vertical-align: middle;\n    }\n\n    .dataframe tbody tr th {\n        vertical-align: top;\n    }\n\n    .dataframe thead th {\n        text-align: right;\n    }\n</style>\n<table border=\"1\" class=\"dataframe\">\n  <thead>\n    <tr style=\"text-align: right;\">\n      <th></th>\n      <th>aspiration</th>\n      <th>body-style</th>\n      <th>bore</th>\n      <th>city-mpg</th>\n      <th>compression-ratio</th>\n      <th>curb-weight</th>\n      <th>drive-wheels</th>\n      <th>engine-location</th>\n      <th>engine-size</th>\n      <th>engine-type</th>\n      <th>...</th>\n      <th>make</th>\n      <th>normalized-losses</th>\n      <th>num-of-cylinders</th>\n      <th>num-of-doors</th>\n      <th>peak-rpm</th>\n      <th>price</th>\n      <th>stroke</th>\n      <th>symboling</th>\n      <th>wheel-base</th>\n      <th>width</th>\n    </tr>\n  </thead>\n  <tbody>\n    <tr>\n      <th>194</th>\n      <td>std</td>\n      <td>sedan</td>\n      <td>3.78</td>\n      <td>23</td>\n      <td>9.5</td>\n      <td>2912</td>\n      <td>rwd</td>\n      <td>front</td>\n      <td>141</td>\n      <td>ohc</td>\n      <td>...</td>\n      <td>volvo</td>\n      <td>103.0</td>\n      <td>four</td>\n      <td>four</td>\n      <td>5400.0</td>\n      <td>12940.0</td>\n      <td>3.15</td>\n      <td>-2</td>\n      <td>104.3</td>\n      <td>67.2</td>\n    </tr>\n    <tr>\n      <th>195</th>\n      <td>std</td>\n      <td>wagon</td>\n      <td>3.78</td>\n      <td>23</td>\n      <td>9.5</td>\n      <td>3034</td>\n      <td>rwd</td>\n      <td>front</td>\n      <td>141</td>\n      <td>ohc</td>\n      <td>...</td>\n      <td>volvo</td>\n      <td>74.0</td>\n      <td>four</td>\n      <td>four</td>\n      <td>5400.0</td>\n      <td>13415.0</td>\n      <td>3.15</td>\n      <td>-1</td>\n      <td>104.3</td>\n      <td>67.2</td>\n    </tr>\n    <tr>\n      <th>196</th>\n      <td>std</td>\n      <td>sedan</td>\n      <td>3.78</td>\n      <td>24</td>\n      <td>9.5</td>\n      <td>2935</td>\n      <td>rwd</td>\n      <td>front</td>\n      <td>141</td>\n      <td>ohc</td>\n      <td>...</td>\n      <td>volvo</td>\n      <td>103.0</td>\n      <td>four</td>\n      <td>four</td>\n      <td>5400.0</td>\n      <td>15985.0</td>\n      <td>3.15</td>\n      <td>-2</td>\n      <td>104.3</td>\n      <td>67.2</td>\n    </tr>\n    <tr>\n      <th>197</th>\n      <td>std</td>\n      <td>wagon</td>\n      <td>3.78</td>\n      <td>24</td>\n      <td>9.5</td>\n      <td>3042</td>\n      <td>rwd</td>\n      <td>front</td>\n      <td>141</td>\n      <td>ohc</td>\n      <td>...</td>\n      <td>volvo</td>\n      <td>74.0</td>\n      <td>four</td>\n      <td>four</td>\n      <td>5400.0</td>\n      <td>16515.0</td>\n      <td>3.15</td>\n      <td>-1</td>\n      <td>104.3</td>\n      <td>67.2</td>\n    </tr>\n    <tr>\n      <th>198</th>\n      <td>turbo</td>\n      <td>sedan</td>\n      <td>3.62</td>\n      <td>17</td>\n      <td>7.5</td>\n      <td>3045</td>\n      <td>rwd</td>\n      <td>front</td>\n      <td>130</td>\n      <td>ohc</td>\n      <td>...</td>\n      <td>volvo</td>\n      <td>103.0</td>\n      <td>four</td>\n      <td>four</td>\n      <td>5100.0</td>\n      <td>18420.0</td>\n      <td>3.15</td>\n      <td>-2</td>\n      <td>104.3</td>\n      <td>67.2</td>\n    </tr>\n    <tr>\n      <th>199</th>\n      <td>turbo</td>\n      <td>wagon</td>\n      <td>3.62</td>\n      <td>17</td>\n      <td>7.5</td>\n      <td>3157</td>\n      <td>rwd</td>\n      <td>front</td>\n      <td>130</td>\n      <td>ohc</td>\n      <td>...</td>\n      <td>volvo</td>\n      <td>74.0</td>\n      <td>four</td>\n      <td>four</td>\n      <td>5100.0</td>\n      <td>18950.0</td>\n      <td>3.15</td>\n      <td>-1</td>\n      <td>104.3</td>\n      <td>67.2</td>\n    </tr>\n    <tr>\n      <th>200</th>\n      <td>std</td>\n      <td>sedan</td>\n      <td>3.78</td>\n      <td>23</td>\n      <td>9.5</td>\n      <td>2952</td>\n      <td>rwd</td>\n      <td>front</td>\n      <td>141</td>\n      <td>ohc</td>\n      <td>...</td>\n      <td>volvo</td>\n      <td>95.0</td>\n      <td>four</td>\n      <td>four</td>\n      <td>5400.0</td>\n      <td>16845.0</td>\n      <td>3.15</td>\n      <td>-1</td>\n      <td>109.1</td>\n      <td>68.9</td>\n    </tr>\n    <tr>\n      <th>201</th>\n      <td>turbo</td>\n      <td>sedan</td>\n      <td>3.78</td>\n      <td>19</td>\n      <td>8.7</td>\n      <td>3049</td>\n      <td>rwd</td>\n      <td>front</td>\n      <td>141</td>\n      <td>ohc</td>\n      <td>...</td>\n      <td>volvo</td>\n      <td>95.0</td>\n      <td>four</td>\n      <td>four</td>\n      <td>5300.0</td>\n      <td>19045.0</td>\n      <td>3.15</td>\n      <td>-1</td>\n      <td>109.1</td>\n      <td>68.8</td>\n    </tr>\n    <tr>\n      <th>202</th>\n      <td>std</td>\n      <td>sedan</td>\n      <td>3.58</td>\n      <td>18</td>\n      <td>8.8</td>\n      <td>3012</td>\n      <td>rwd</td>\n      <td>front</td>\n      <td>173</td>\n      <td>ohcv</td>\n      <td>...</td>\n      <td>volvo</td>\n      <td>95.0</td>\n      <td>six</td>\n      <td>four</td>\n      <td>5500.0</td>\n      <td>21485.0</td>\n      <td>2.87</td>\n      <td>-1</td>\n      <td>109.1</td>\n      <td>68.9</td>\n    </tr>\n    <tr>\n      <th>203</th>\n      <td>turbo</td>\n      <td>sedan</td>\n      <td>3.01</td>\n      <td>26</td>\n      <td>23.0</td>\n      <td>3217</td>\n      <td>rwd</td>\n      <td>front</td>\n      <td>145</td>\n      <td>ohc</td>\n      <td>...</td>\n      <td>volvo</td>\n      <td>95.0</td>\n      <td>six</td>\n      <td>four</td>\n      <td>4800.0</td>\n      <td>22470.0</td>\n      <td>3.40</td>\n      <td>-1</td>\n      <td>109.1</td>\n      <td>68.9</td>\n    </tr>\n    <tr>\n      <th>204</th>\n      <td>turbo</td>\n      <td>sedan</td>\n      <td>3.78</td>\n      <td>19</td>\n      <td>9.5</td>\n      <td>3062</td>\n      <td>rwd</td>\n      <td>front</td>\n      <td>141</td>\n      <td>ohc</td>\n      <td>...</td>\n      <td>volvo</td>\n      <td>95.0</td>\n      <td>four</td>\n      <td>four</td>\n      <td>5400.0</td>\n      <td>22625.0</td>\n      <td>3.15</td>\n      <td>-1</td>\n      <td>109.1</td>\n      <td>68.9</td>\n    </tr>\n  </tbody>\n</table>\n<p>11 rows × 26 columns</p>\n</div>"
     },
     "execution_count": 46,
     "metadata": {},
     "output_type": "execute_result"
    }
   ],
   "source": [
    "autos.query(\"make=='volvo'\")\n",
    "# or autos[autos[\"make\"] == \"volvo\"]"
   ],
   "metadata": {
    "collapsed": false,
    "ExecuteTime": {
     "end_time": "2023-11-02T09:14:22.428996500Z",
     "start_time": "2023-11-02T09:14:22.386984700Z"
    }
   },
   "id": "999bdc20b2ae280a"
  },
  {
   "cell_type": "code",
   "execution_count": 44,
   "outputs": [
    {
     "data": {
      "text/plain": "length    188.800000\nwidth      67.963636\nheight     56.236364\ndtype: float64"
     },
     "execution_count": 44,
     "metadata": {},
     "output_type": "execute_result"
    }
   ],
   "source": [
    "autos.query(\"make=='volvo'\")[[\"length\", \"width\", \"height\"]].mean()"
   ],
   "metadata": {
    "collapsed": false,
    "ExecuteTime": {
     "end_time": "2023-11-02T09:13:27.112046100Z",
     "start_time": "2023-11-02T09:13:27.059469300Z"
    }
   },
   "id": "614314594fb52f5e"
  },
  {
   "cell_type": "code",
   "execution_count": 45,
   "outputs": [
    {
     "data": {
      "text/plain": "length    171.934375\nwidth      65.090625\nheight     53.721875\ndtype: float64"
     },
     "execution_count": 45,
     "metadata": {},
     "output_type": "execute_result"
    }
   ],
   "source": [
    "autos.query(\"make=='toyota'\")[[\"length\", \"width\", \"height\"]].mean()"
   ],
   "metadata": {
    "collapsed": false,
    "ExecuteTime": {
     "end_time": "2023-11-02T09:13:38.124878900Z",
     "start_time": "2023-11-02T09:13:38.071146100Z"
    }
   },
   "id": "335c563451e6240c"
  },
  {
   "cell_type": "markdown",
   "source": [
    "## Multiple aggregation"
   ],
   "metadata": {
    "collapsed": false
   },
   "id": "1315352f7ee69d23"
  },
  {
   "cell_type": "code",
   "execution_count": 48,
   "outputs": [
    {
     "data": {
      "text/plain": "length    174.049268\nwidth      65.907805\nheight     53.724878\ndtype: float64"
     },
     "execution_count": 48,
     "metadata": {},
     "output_type": "execute_result"
    }
   ],
   "source": [
    "autos[[\"length\", \"width\", \"height\"]].mean()"
   ],
   "metadata": {
    "collapsed": false,
    "ExecuteTime": {
     "end_time": "2023-11-02T09:16:49.247083600Z",
     "start_time": "2023-11-02T09:16:49.202559600Z"
    }
   },
   "id": "68b790260f774651"
  },
  {
   "cell_type": "code",
   "execution_count": 49,
   "outputs": [
    {
     "data": {
      "text/plain": "length    174.049268\nwidth      65.907805\nheight     53.724878\ndtype: float64"
     },
     "execution_count": 49,
     "metadata": {},
     "output_type": "execute_result"
    }
   ],
   "source": [
    "autos[[\"length\", \"width\", \"height\"]].agg(\"mean\")"
   ],
   "metadata": {
    "collapsed": false,
    "ExecuteTime": {
     "end_time": "2023-11-02T09:17:14.002711700Z",
     "start_time": "2023-11-02T09:17:13.955451300Z"
    }
   },
   "id": "a6fe8c520084f00"
  },
  {
   "cell_type": "code",
   "execution_count": 50,
   "outputs": [
    {
     "data": {
      "text/plain": "length    208.1\nwidth      72.3\nheight     59.8\ndtype: float64"
     },
     "execution_count": 50,
     "metadata": {},
     "output_type": "execute_result"
    }
   ],
   "source": [
    "autos[[\"length\", \"width\", \"height\"]].agg(\"max\")"
   ],
   "metadata": {
    "collapsed": false,
    "ExecuteTime": {
     "end_time": "2023-11-02T09:17:24.058548800Z",
     "start_time": "2023-11-02T09:17:24.018896300Z"
    }
   },
   "id": "9882c13ac6a2bbd"
  },
  {
   "cell_type": "code",
   "execution_count": 51,
   "outputs": [
    {
     "data": {
      "text/plain": "          length      width     height\nmin   141.100000  60.300000  47.800000\nmean  174.049268  65.907805  53.724878\nmax   208.100000  72.300000  59.800000",
      "text/html": "<div>\n<style scoped>\n    .dataframe tbody tr th:only-of-type {\n        vertical-align: middle;\n    }\n\n    .dataframe tbody tr th {\n        vertical-align: top;\n    }\n\n    .dataframe thead th {\n        text-align: right;\n    }\n</style>\n<table border=\"1\" class=\"dataframe\">\n  <thead>\n    <tr style=\"text-align: right;\">\n      <th></th>\n      <th>length</th>\n      <th>width</th>\n      <th>height</th>\n    </tr>\n  </thead>\n  <tbody>\n    <tr>\n      <th>min</th>\n      <td>141.100000</td>\n      <td>60.300000</td>\n      <td>47.800000</td>\n    </tr>\n    <tr>\n      <th>mean</th>\n      <td>174.049268</td>\n      <td>65.907805</td>\n      <td>53.724878</td>\n    </tr>\n    <tr>\n      <th>max</th>\n      <td>208.100000</td>\n      <td>72.300000</td>\n      <td>59.800000</td>\n    </tr>\n  </tbody>\n</table>\n</div>"
     },
     "execution_count": 51,
     "metadata": {},
     "output_type": "execute_result"
    }
   ],
   "source": [
    "autos[[\"length\", \"width\", \"height\"]].agg([\"min\", \"mean\", \"max\"])"
   ],
   "metadata": {
    "collapsed": false,
    "ExecuteTime": {
     "end_time": "2023-11-02T09:18:17.505616300Z",
     "start_time": "2023-11-02T09:18:17.450279900Z"
    }
   },
   "id": "3e5f71b153b5beb9"
  },
  {
   "cell_type": "code",
   "execution_count": 52,
   "outputs": [
    {
     "name": "stdout",
     "output_type": "stream",
     "text": [
      "<class 'pandas.core.frame.DataFrame'>\n",
      "RangeIndex: 205 entries, 0 to 204\n",
      "Data columns (total 26 columns):\n",
      " #   Column             Non-Null Count  Dtype  \n",
      "---  ------             --------------  -----  \n",
      " 0   aspiration         205 non-null    object \n",
      " 1   body-style         205 non-null    object \n",
      " 2   bore               201 non-null    float64\n",
      " 3   city-mpg           205 non-null    int64  \n",
      " 4   compression-ratio  205 non-null    float64\n",
      " 5   curb-weight        205 non-null    int64  \n",
      " 6   drive-wheels       205 non-null    object \n",
      " 7   engine-location    205 non-null    object \n",
      " 8   engine-size        205 non-null    int64  \n",
      " 9   engine-type        205 non-null    object \n",
      " 10  fuel-system        205 non-null    object \n",
      " 11  fuel-type          205 non-null    object \n",
      " 12  height             205 non-null    float64\n",
      " 13  highway-mpg        205 non-null    int64  \n",
      " 14  horsepower         203 non-null    float64\n",
      " 15  length             205 non-null    float64\n",
      " 16  make               205 non-null    object \n",
      " 17  normalized-losses  164 non-null    float64\n",
      " 18  num-of-cylinders   205 non-null    object \n",
      " 19  num-of-doors       203 non-null    object \n",
      " 20  peak-rpm           203 non-null    float64\n",
      " 21  price              201 non-null    float64\n",
      " 22  stroke             201 non-null    float64\n",
      " 23  symboling          205 non-null    int64  \n",
      " 24  wheel-base         205 non-null    float64\n",
      " 25  width              205 non-null    float64\n",
      "dtypes: float64(11), int64(5), object(10)\n",
      "memory usage: 41.8+ KB\n"
     ]
    }
   ],
   "source": [
    "autos.info()"
   ],
   "metadata": {
    "collapsed": false,
    "ExecuteTime": {
     "end_time": "2023-11-02T09:20:01.496526900Z",
     "start_time": "2023-11-02T09:20:01.430445200Z"
    }
   },
   "id": "e992cd5643d1c0a4"
  },
  {
   "cell_type": "code",
   "execution_count": 53,
   "outputs": [
    {
     "data": {
      "text/plain": "['bore',\n 'city-mpg',\n 'compression-ratio',\n 'curb-weight',\n 'engine-size',\n 'height',\n 'highway-mpg',\n 'horsepower',\n 'length',\n 'normalized-losses',\n 'peak-rpm',\n 'price',\n 'stroke',\n 'symboling',\n 'wheel-base',\n 'width']"
     },
     "execution_count": 53,
     "metadata": {},
     "output_type": "execute_result"
    }
   ],
   "source": [
    "[col for col in autos.columns if autos[col].dtype in [\"int64\", \"float64\"]]"
   ],
   "metadata": {
    "collapsed": false,
    "ExecuteTime": {
     "end_time": "2023-11-02T09:23:25.897085100Z",
     "start_time": "2023-11-02T09:23:25.833934900Z"
    }
   },
   "id": "9c20c0389f5c4e2"
  },
  {
   "cell_type": "code",
   "execution_count": 54,
   "outputs": [
    {
     "data": {
      "text/plain": "          bore   city-mpg  compression-ratio  curb-weight  engine-size  \\\nmin   2.540000  13.000000           7.000000  1488.000000    61.000000   \nmean  3.329751  25.219512          10.142537  2555.565854   126.907317   \nmax   3.940000  49.000000          23.000000  4066.000000   326.000000   \n\n         height  highway-mpg  horsepower      length  normalized-losses  \\\nmin   47.800000     16.00000   48.000000  141.100000               65.0   \nmean  53.724878     30.75122  104.256158  174.049268              122.0   \nmax   59.800000     54.00000  288.000000  208.100000              256.0   \n\n         peak-rpm         price    stroke  symboling  wheel-base      width  \nmin   4150.000000   5118.000000  2.070000  -2.000000   86.600000  60.300000  \nmean  5125.369458  13207.129353  3.255423   0.834146   98.756585  65.907805  \nmax   6600.000000  45400.000000  4.170000   3.000000  120.900000  72.300000  ",
      "text/html": "<div>\n<style scoped>\n    .dataframe tbody tr th:only-of-type {\n        vertical-align: middle;\n    }\n\n    .dataframe tbody tr th {\n        vertical-align: top;\n    }\n\n    .dataframe thead th {\n        text-align: right;\n    }\n</style>\n<table border=\"1\" class=\"dataframe\">\n  <thead>\n    <tr style=\"text-align: right;\">\n      <th></th>\n      <th>bore</th>\n      <th>city-mpg</th>\n      <th>compression-ratio</th>\n      <th>curb-weight</th>\n      <th>engine-size</th>\n      <th>height</th>\n      <th>highway-mpg</th>\n      <th>horsepower</th>\n      <th>length</th>\n      <th>normalized-losses</th>\n      <th>peak-rpm</th>\n      <th>price</th>\n      <th>stroke</th>\n      <th>symboling</th>\n      <th>wheel-base</th>\n      <th>width</th>\n    </tr>\n  </thead>\n  <tbody>\n    <tr>\n      <th>min</th>\n      <td>2.540000</td>\n      <td>13.000000</td>\n      <td>7.000000</td>\n      <td>1488.000000</td>\n      <td>61.000000</td>\n      <td>47.800000</td>\n      <td>16.00000</td>\n      <td>48.000000</td>\n      <td>141.100000</td>\n      <td>65.0</td>\n      <td>4150.000000</td>\n      <td>5118.000000</td>\n      <td>2.070000</td>\n      <td>-2.000000</td>\n      <td>86.600000</td>\n      <td>60.300000</td>\n    </tr>\n    <tr>\n      <th>mean</th>\n      <td>3.329751</td>\n      <td>25.219512</td>\n      <td>10.142537</td>\n      <td>2555.565854</td>\n      <td>126.907317</td>\n      <td>53.724878</td>\n      <td>30.75122</td>\n      <td>104.256158</td>\n      <td>174.049268</td>\n      <td>122.0</td>\n      <td>5125.369458</td>\n      <td>13207.129353</td>\n      <td>3.255423</td>\n      <td>0.834146</td>\n      <td>98.756585</td>\n      <td>65.907805</td>\n    </tr>\n    <tr>\n      <th>max</th>\n      <td>3.940000</td>\n      <td>49.000000</td>\n      <td>23.000000</td>\n      <td>4066.000000</td>\n      <td>326.000000</td>\n      <td>59.800000</td>\n      <td>54.00000</td>\n      <td>288.000000</td>\n      <td>208.100000</td>\n      <td>256.0</td>\n      <td>6600.000000</td>\n      <td>45400.000000</td>\n      <td>4.170000</td>\n      <td>3.000000</td>\n      <td>120.900000</td>\n      <td>72.300000</td>\n    </tr>\n  </tbody>\n</table>\n</div>"
     },
     "execution_count": 54,
     "metadata": {},
     "output_type": "execute_result"
    }
   ],
   "source": [
    "autos[[col for col in autos.columns if autos[col].dtype in [\"int64\", \"float64\"]]].agg([\"min\", \"mean\", \"max\"])"
   ],
   "metadata": {
    "collapsed": false,
    "ExecuteTime": {
     "end_time": "2023-11-02T09:27:20.771323900Z",
     "start_time": "2023-11-02T09:27:20.714051400Z"
    }
   },
   "id": "8500ed96116657a0"
  },
  {
   "cell_type": "code",
   "execution_count": 55,
   "outputs": [
    {
     "data": {
      "text/plain": "             bore    city-mpg  compression-ratio  curb-weight  engine-size  \\\ncount  201.000000  205.000000         205.000000   205.000000   205.000000   \nmean     3.329751   25.219512          10.142537  2555.565854   126.907317   \nstd      0.273539    6.542142           3.972040   520.680204    41.642693   \nmin      2.540000   13.000000           7.000000  1488.000000    61.000000   \n25%      3.150000   19.000000           8.600000  2145.000000    97.000000   \n50%      3.310000   24.000000           9.000000  2414.000000   120.000000   \n75%      3.590000   30.000000           9.400000  2935.000000   141.000000   \nmax      3.940000   49.000000          23.000000  4066.000000   326.000000   \n\n           height  highway-mpg  horsepower      length  normalized-losses  \\\ncount  205.000000   205.000000  203.000000  205.000000         164.000000   \nmean    53.724878    30.751220  104.256158  174.049268         122.000000   \nstd      2.443522     6.886443   39.714369   12.337289          35.442168   \nmin     47.800000    16.000000   48.000000  141.100000          65.000000   \n25%     52.000000    25.000000   70.000000  166.300000          94.000000   \n50%     54.100000    30.000000   95.000000  173.200000         115.000000   \n75%     55.500000    34.000000  116.000000  183.100000         150.000000   \nmax     59.800000    54.000000  288.000000  208.100000         256.000000   \n\n          peak-rpm         price      stroke   symboling  wheel-base  \\\ncount   203.000000    201.000000  201.000000  205.000000  205.000000   \nmean   5125.369458  13207.129353    3.255423    0.834146   98.756585   \nstd     479.334560   7947.066342    0.316717    1.245307    6.021776   \nmin    4150.000000   5118.000000    2.070000   -2.000000   86.600000   \n25%    4800.000000   7775.000000    3.110000    0.000000   94.500000   \n50%    5200.000000  10295.000000    3.290000    1.000000   97.000000   \n75%    5500.000000  16500.000000    3.410000    2.000000  102.400000   \nmax    6600.000000  45400.000000    4.170000    3.000000  120.900000   \n\n            width  \ncount  205.000000  \nmean    65.907805  \nstd      2.145204  \nmin     60.300000  \n25%     64.100000  \n50%     65.500000  \n75%     66.900000  \nmax     72.300000  ",
      "text/html": "<div>\n<style scoped>\n    .dataframe tbody tr th:only-of-type {\n        vertical-align: middle;\n    }\n\n    .dataframe tbody tr th {\n        vertical-align: top;\n    }\n\n    .dataframe thead th {\n        text-align: right;\n    }\n</style>\n<table border=\"1\" class=\"dataframe\">\n  <thead>\n    <tr style=\"text-align: right;\">\n      <th></th>\n      <th>bore</th>\n      <th>city-mpg</th>\n      <th>compression-ratio</th>\n      <th>curb-weight</th>\n      <th>engine-size</th>\n      <th>height</th>\n      <th>highway-mpg</th>\n      <th>horsepower</th>\n      <th>length</th>\n      <th>normalized-losses</th>\n      <th>peak-rpm</th>\n      <th>price</th>\n      <th>stroke</th>\n      <th>symboling</th>\n      <th>wheel-base</th>\n      <th>width</th>\n    </tr>\n  </thead>\n  <tbody>\n    <tr>\n      <th>count</th>\n      <td>201.000000</td>\n      <td>205.000000</td>\n      <td>205.000000</td>\n      <td>205.000000</td>\n      <td>205.000000</td>\n      <td>205.000000</td>\n      <td>205.000000</td>\n      <td>203.000000</td>\n      <td>205.000000</td>\n      <td>164.000000</td>\n      <td>203.000000</td>\n      <td>201.000000</td>\n      <td>201.000000</td>\n      <td>205.000000</td>\n      <td>205.000000</td>\n      <td>205.000000</td>\n    </tr>\n    <tr>\n      <th>mean</th>\n      <td>3.329751</td>\n      <td>25.219512</td>\n      <td>10.142537</td>\n      <td>2555.565854</td>\n      <td>126.907317</td>\n      <td>53.724878</td>\n      <td>30.751220</td>\n      <td>104.256158</td>\n      <td>174.049268</td>\n      <td>122.000000</td>\n      <td>5125.369458</td>\n      <td>13207.129353</td>\n      <td>3.255423</td>\n      <td>0.834146</td>\n      <td>98.756585</td>\n      <td>65.907805</td>\n    </tr>\n    <tr>\n      <th>std</th>\n      <td>0.273539</td>\n      <td>6.542142</td>\n      <td>3.972040</td>\n      <td>520.680204</td>\n      <td>41.642693</td>\n      <td>2.443522</td>\n      <td>6.886443</td>\n      <td>39.714369</td>\n      <td>12.337289</td>\n      <td>35.442168</td>\n      <td>479.334560</td>\n      <td>7947.066342</td>\n      <td>0.316717</td>\n      <td>1.245307</td>\n      <td>6.021776</td>\n      <td>2.145204</td>\n    </tr>\n    <tr>\n      <th>min</th>\n      <td>2.540000</td>\n      <td>13.000000</td>\n      <td>7.000000</td>\n      <td>1488.000000</td>\n      <td>61.000000</td>\n      <td>47.800000</td>\n      <td>16.000000</td>\n      <td>48.000000</td>\n      <td>141.100000</td>\n      <td>65.000000</td>\n      <td>4150.000000</td>\n      <td>5118.000000</td>\n      <td>2.070000</td>\n      <td>-2.000000</td>\n      <td>86.600000</td>\n      <td>60.300000</td>\n    </tr>\n    <tr>\n      <th>25%</th>\n      <td>3.150000</td>\n      <td>19.000000</td>\n      <td>8.600000</td>\n      <td>2145.000000</td>\n      <td>97.000000</td>\n      <td>52.000000</td>\n      <td>25.000000</td>\n      <td>70.000000</td>\n      <td>166.300000</td>\n      <td>94.000000</td>\n      <td>4800.000000</td>\n      <td>7775.000000</td>\n      <td>3.110000</td>\n      <td>0.000000</td>\n      <td>94.500000</td>\n      <td>64.100000</td>\n    </tr>\n    <tr>\n      <th>50%</th>\n      <td>3.310000</td>\n      <td>24.000000</td>\n      <td>9.000000</td>\n      <td>2414.000000</td>\n      <td>120.000000</td>\n      <td>54.100000</td>\n      <td>30.000000</td>\n      <td>95.000000</td>\n      <td>173.200000</td>\n      <td>115.000000</td>\n      <td>5200.000000</td>\n      <td>10295.000000</td>\n      <td>3.290000</td>\n      <td>1.000000</td>\n      <td>97.000000</td>\n      <td>65.500000</td>\n    </tr>\n    <tr>\n      <th>75%</th>\n      <td>3.590000</td>\n      <td>30.000000</td>\n      <td>9.400000</td>\n      <td>2935.000000</td>\n      <td>141.000000</td>\n      <td>55.500000</td>\n      <td>34.000000</td>\n      <td>116.000000</td>\n      <td>183.100000</td>\n      <td>150.000000</td>\n      <td>5500.000000</td>\n      <td>16500.000000</td>\n      <td>3.410000</td>\n      <td>2.000000</td>\n      <td>102.400000</td>\n      <td>66.900000</td>\n    </tr>\n    <tr>\n      <th>max</th>\n      <td>3.940000</td>\n      <td>49.000000</td>\n      <td>23.000000</td>\n      <td>4066.000000</td>\n      <td>326.000000</td>\n      <td>59.800000</td>\n      <td>54.000000</td>\n      <td>288.000000</td>\n      <td>208.100000</td>\n      <td>256.000000</td>\n      <td>6600.000000</td>\n      <td>45400.000000</td>\n      <td>4.170000</td>\n      <td>3.000000</td>\n      <td>120.900000</td>\n      <td>72.300000</td>\n    </tr>\n  </tbody>\n</table>\n</div>"
     },
     "execution_count": 55,
     "metadata": {},
     "output_type": "execute_result"
    }
   ],
   "source": [
    "autos.describe()"
   ],
   "metadata": {
    "collapsed": false,
    "ExecuteTime": {
     "end_time": "2023-11-02T09:27:40.411210500Z",
     "start_time": "2023-11-02T09:27:40.306127600Z"
    }
   },
   "id": "27347c4275f6ea79"
  },
  {
   "cell_type": "markdown",
   "source": [
    "### Split-Apply-Combine\n",
    "- Select a feature to use as key\n",
    "- Split the dataset into groups for each unique key value\n",
    "- Apply aggregation to each group\n",
    "- Combine aggregated data into a new dataset\n",
    "![image](https://nicholasvadivelu.com/assets/images/posts/groupby/split-apply-combine.svg#center)"
   ],
   "metadata": {
    "collapsed": false
   },
   "id": "c9c55379f045db8f"
  },
  {
   "cell_type": "code",
   "execution_count": 56,
   "outputs": [
    {
     "data": {
      "text/plain": "length    171.934375\nwidth      65.090625\nheight     53.721875\ndtype: float64"
     },
     "execution_count": 56,
     "metadata": {},
     "output_type": "execute_result"
    }
   ],
   "source": [
    "autos.query(\"make=='toyota'\")[[\"length\", \"width\", \"height\"]].mean()"
   ],
   "metadata": {
    "collapsed": false,
    "ExecuteTime": {
     "end_time": "2023-11-02T09:31:49.183088400Z",
     "start_time": "2023-11-02T09:31:49.122084Z"
    }
   },
   "id": "2b25f7efb6dfe577"
  },
  {
   "cell_type": "markdown",
   "source": [
    "### Group by\n",
    "Use Pandas .groupby() method to select a key and split into groups.\n",
    "\n",
    "This creates a new DataFrameGroupBy object containing the grouped DataFrames."
   ],
   "metadata": {
    "collapsed": false
   },
   "id": "becf4b57e8b750b5"
  },
  {
   "cell_type": "code",
   "execution_count": 57,
   "outputs": [],
   "source": [
    "makes = autos.groupby(\"make\")"
   ],
   "metadata": {
    "collapsed": false,
    "ExecuteTime": {
     "end_time": "2023-11-02T09:42:06.397354300Z",
     "start_time": "2023-11-02T09:42:06.345298600Z"
    }
   },
   "id": "f6b8fc117fb716b7"
  },
  {
   "cell_type": "code",
   "execution_count": 58,
   "outputs": [
    {
     "data": {
      "text/plain": "pandas.core.groupby.generic.DataFrameGroupBy"
     },
     "execution_count": 58,
     "metadata": {},
     "output_type": "execute_result"
    }
   ],
   "source": [
    "type(makes)"
   ],
   "metadata": {
    "collapsed": false,
    "ExecuteTime": {
     "end_time": "2023-11-02T09:42:17.870618500Z",
     "start_time": "2023-11-02T09:42:17.809890800Z"
    }
   },
   "id": "f030af4ab8ee17b1"
  },
  {
   "cell_type": "code",
   "execution_count": 59,
   "outputs": [
    {
     "data": {
      "text/plain": "22"
     },
     "execution_count": 59,
     "metadata": {},
     "output_type": "execute_result"
    }
   ],
   "source": [
    "len(makes)"
   ],
   "metadata": {
    "collapsed": false,
    "ExecuteTime": {
     "end_time": "2023-11-02T09:42:36.020987400Z",
     "start_time": "2023-11-02T09:42:35.965826800Z"
    }
   },
   "id": "209459f276b8e75d"
  },
  {
   "cell_type": "code",
   "execution_count": 61,
   "outputs": [
    {
     "data": {
      "text/plain": "array(['alfa-romero', 'audi', 'bmw', 'chevrolet', 'dodge', 'honda',\n       'isuzu', 'jaguar', 'mazda', 'mercedes-benz', 'mercury',\n       'mitsubishi', 'nissan', 'peugot', 'plymouth', 'porsche', 'renault',\n       'saab', 'subaru', 'toyota', 'volkswagen', 'volvo'], dtype=object)"
     },
     "execution_count": 61,
     "metadata": {},
     "output_type": "execute_result"
    }
   ],
   "source": [
    "autos[\"make\"].unique()"
   ],
   "metadata": {
    "collapsed": false,
    "ExecuteTime": {
     "end_time": "2023-11-02T09:43:54.891691900Z",
     "start_time": "2023-11-02T09:43:54.854100700Z"
    }
   },
   "id": "797b423ac7e337a7"
  },
  {
   "cell_type": "code",
   "execution_count": 63,
   "outputs": [
    {
     "data": {
      "text/plain": "22"
     },
     "execution_count": 63,
     "metadata": {},
     "output_type": "execute_result"
    }
   ],
   "source": [
    "autos[\"make\"].nunique()"
   ],
   "metadata": {
    "collapsed": false,
    "ExecuteTime": {
     "end_time": "2023-11-02T09:44:59.677668700Z",
     "start_time": "2023-11-02T09:44:59.666988400Z"
    }
   },
   "id": "715b0951941e8d0a"
  },
  {
   "cell_type": "code",
   "execution_count": 62,
   "outputs": [
    {
     "data": {
      "text/plain": "make\ntoyota           32\nnissan           18\nmazda            17\nmitsubishi       13\nhonda            13\nvolkswagen       12\nsubaru           12\npeugot           11\nvolvo            11\ndodge             9\nmercedes-benz     8\nbmw               8\naudi              7\nplymouth          7\nsaab              6\nporsche           5\nisuzu             4\njaguar            3\nchevrolet         3\nalfa-romero       3\nrenault           2\nmercury           1\nName: count, dtype: int64"
     },
     "execution_count": 62,
     "metadata": {},
     "output_type": "execute_result"
    }
   ],
   "source": [
    "autos[\"make\"].value_counts()"
   ],
   "metadata": {
    "collapsed": false,
    "ExecuteTime": {
     "end_time": "2023-11-02T09:44:14.401977200Z",
     "start_time": "2023-11-02T09:44:14.302016400Z"
    }
   },
   "id": "ac775477e49111b4"
  },
  {
   "cell_type": "code",
   "execution_count": 64,
   "outputs": [
    {
     "data": {
      "text/plain": "{'alfa-romero': [0, 1, 2], 'audi': [3, 4, 5, 6, 7, 8, 9], 'bmw': [10, 11, 12, 13, 14, 15, 16, 17], 'chevrolet': [18, 19, 20], 'dodge': [21, 22, 23, 24, 25, 26, 27, 28, 29], 'honda': [30, 31, 32, 33, 34, 35, 36, 37, 38, 39, 40, 41, 42], 'isuzu': [43, 44, 45, 46], 'jaguar': [47, 48, 49], 'mazda': [50, 51, 52, 53, 54, 55, 56, 57, 58, 59, 60, 61, 62, 63, 64, 65, 66], 'mercedes-benz': [67, 68, 69, 70, 71, 72, 73, 74], 'mercury': [75], 'mitsubishi': [76, 77, 78, 79, 80, 81, 82, 83, 84, 85, 86, 87, 88], 'nissan': [89, 90, 91, 92, 93, 94, 95, 96, 97, 98, 99, 100, 101, 102, 103, 104, 105, 106], 'peugot': [107, 108, 109, 110, 111, 112, 113, 114, 115, 116, 117], 'plymouth': [118, 119, 120, 121, 122, 123, 124], 'porsche': [125, 126, 127, 128, 129], 'renault': [130, 131], 'saab': [132, 133, 134, 135, 136, 137], 'subaru': [138, 139, 140, 141, 142, 143, 144, 145, 146, 147, 148, 149], 'toyota': [150, 151, 152, 153, 154, 155, 156, 157, 158, 159, 160, 161, 162, 163, 164, 165, 166, 167, 168, 169, 170, 171, 172, 173, 174, 175, 176, 177, 178, 179, 180, 181], 'volkswagen': [182, 183, 184, 185, 186, 187, 188, 189, 190, 191, 192, 193], 'volvo': [194, 195, 196, 197, 198, 199, 200, 201, 202, 203, 204]}"
     },
     "execution_count": 64,
     "metadata": {},
     "output_type": "execute_result"
    }
   ],
   "source": [
    "makes.groups"
   ],
   "metadata": {
    "collapsed": false,
    "ExecuteTime": {
     "end_time": "2023-11-02T09:45:15.891310400Z",
     "start_time": "2023-11-02T09:45:15.846703100Z"
    }
   },
   "id": "4c4360d658a0f350"
  },
  {
   "cell_type": "code",
   "execution_count": 65,
   "outputs": [
    {
     "data": {
      "text/plain": "dict_keys(['alfa-romero', 'audi', 'bmw', 'chevrolet', 'dodge', 'honda', 'isuzu', 'jaguar', 'mazda', 'mercedes-benz', 'mercury', 'mitsubishi', 'nissan', 'peugot', 'plymouth', 'porsche', 'renault', 'saab', 'subaru', 'toyota', 'volkswagen', 'volvo'])"
     },
     "execution_count": 65,
     "metadata": {},
     "output_type": "execute_result"
    }
   ],
   "source": [
    "makes.groups.keys()"
   ],
   "metadata": {
    "collapsed": false,
    "ExecuteTime": {
     "end_time": "2023-11-02T09:45:54.101319800Z",
     "start_time": "2023-11-02T09:45:54.035041900Z"
    }
   },
   "id": "abd23ad051be8ace"
  },
  {
   "cell_type": "code",
   "execution_count": 66,
   "outputs": [
    {
     "data": {
      "text/plain": "   aspiration body-style  bore  city-mpg  compression-ratio  curb-weight  \\\n47        std      sedan  3.63        15                8.1         4066   \n48        std      sedan  3.63        15                8.1         4066   \n49        std      sedan  3.54        13               11.5         3950   \n\n   drive-wheels engine-location  engine-size engine-type  ...    make  \\\n47          rwd           front          258        dohc  ...  jaguar   \n48          rwd           front          258        dohc  ...  jaguar   \n49          rwd           front          326        ohcv  ...  jaguar   \n\n   normalized-losses  num-of-cylinders  num-of-doors  peak-rpm    price  \\\n47             145.0               six          four    4750.0  32250.0   \n48               NaN               six          four    4750.0  35550.0   \n49               NaN            twelve           two    5000.0  36000.0   \n\n   stroke  symboling wheel-base width  \n47   4.17          0      113.0  69.6  \n48   4.17          0      113.0  69.6  \n49   2.76          0      102.0  70.6  \n\n[3 rows x 26 columns]",
      "text/html": "<div>\n<style scoped>\n    .dataframe tbody tr th:only-of-type {\n        vertical-align: middle;\n    }\n\n    .dataframe tbody tr th {\n        vertical-align: top;\n    }\n\n    .dataframe thead th {\n        text-align: right;\n    }\n</style>\n<table border=\"1\" class=\"dataframe\">\n  <thead>\n    <tr style=\"text-align: right;\">\n      <th></th>\n      <th>aspiration</th>\n      <th>body-style</th>\n      <th>bore</th>\n      <th>city-mpg</th>\n      <th>compression-ratio</th>\n      <th>curb-weight</th>\n      <th>drive-wheels</th>\n      <th>engine-location</th>\n      <th>engine-size</th>\n      <th>engine-type</th>\n      <th>...</th>\n      <th>make</th>\n      <th>normalized-losses</th>\n      <th>num-of-cylinders</th>\n      <th>num-of-doors</th>\n      <th>peak-rpm</th>\n      <th>price</th>\n      <th>stroke</th>\n      <th>symboling</th>\n      <th>wheel-base</th>\n      <th>width</th>\n    </tr>\n  </thead>\n  <tbody>\n    <tr>\n      <th>47</th>\n      <td>std</td>\n      <td>sedan</td>\n      <td>3.63</td>\n      <td>15</td>\n      <td>8.1</td>\n      <td>4066</td>\n      <td>rwd</td>\n      <td>front</td>\n      <td>258</td>\n      <td>dohc</td>\n      <td>...</td>\n      <td>jaguar</td>\n      <td>145.0</td>\n      <td>six</td>\n      <td>four</td>\n      <td>4750.0</td>\n      <td>32250.0</td>\n      <td>4.17</td>\n      <td>0</td>\n      <td>113.0</td>\n      <td>69.6</td>\n    </tr>\n    <tr>\n      <th>48</th>\n      <td>std</td>\n      <td>sedan</td>\n      <td>3.63</td>\n      <td>15</td>\n      <td>8.1</td>\n      <td>4066</td>\n      <td>rwd</td>\n      <td>front</td>\n      <td>258</td>\n      <td>dohc</td>\n      <td>...</td>\n      <td>jaguar</td>\n      <td>NaN</td>\n      <td>six</td>\n      <td>four</td>\n      <td>4750.0</td>\n      <td>35550.0</td>\n      <td>4.17</td>\n      <td>0</td>\n      <td>113.0</td>\n      <td>69.6</td>\n    </tr>\n    <tr>\n      <th>49</th>\n      <td>std</td>\n      <td>sedan</td>\n      <td>3.54</td>\n      <td>13</td>\n      <td>11.5</td>\n      <td>3950</td>\n      <td>rwd</td>\n      <td>front</td>\n      <td>326</td>\n      <td>ohcv</td>\n      <td>...</td>\n      <td>jaguar</td>\n      <td>NaN</td>\n      <td>twelve</td>\n      <td>two</td>\n      <td>5000.0</td>\n      <td>36000.0</td>\n      <td>2.76</td>\n      <td>0</td>\n      <td>102.0</td>\n      <td>70.6</td>\n    </tr>\n  </tbody>\n</table>\n<p>3 rows × 26 columns</p>\n</div>"
     },
     "execution_count": 66,
     "metadata": {},
     "output_type": "execute_result"
    }
   ],
   "source": [
    "autos.loc[makes.groups[\"jaguar\"]]"
   ],
   "metadata": {
    "collapsed": false,
    "ExecuteTime": {
     "end_time": "2023-11-02T09:47:05.284309200Z",
     "start_time": "2023-11-02T09:47:05.241596700Z"
    }
   },
   "id": "64be37504392990d"
  },
  {
   "cell_type": "code",
   "execution_count": 67,
   "outputs": [
    {
     "data": {
      "text/plain": "   aspiration body-style  bore  city-mpg  compression-ratio  curb-weight  \\\n47        std      sedan  3.63        15                8.1         4066   \n48        std      sedan  3.63        15                8.1         4066   \n49        std      sedan  3.54        13               11.5         3950   \n\n   drive-wheels engine-location  engine-size engine-type  ...    make  \\\n47          rwd           front          258        dohc  ...  jaguar   \n48          rwd           front          258        dohc  ...  jaguar   \n49          rwd           front          326        ohcv  ...  jaguar   \n\n   normalized-losses  num-of-cylinders  num-of-doors  peak-rpm    price  \\\n47             145.0               six          four    4750.0  32250.0   \n48               NaN               six          four    4750.0  35550.0   \n49               NaN            twelve           two    5000.0  36000.0   \n\n   stroke  symboling wheel-base width  \n47   4.17          0      113.0  69.6  \n48   4.17          0      113.0  69.6  \n49   2.76          0      102.0  70.6  \n\n[3 rows x 26 columns]",
      "text/html": "<div>\n<style scoped>\n    .dataframe tbody tr th:only-of-type {\n        vertical-align: middle;\n    }\n\n    .dataframe tbody tr th {\n        vertical-align: top;\n    }\n\n    .dataframe thead th {\n        text-align: right;\n    }\n</style>\n<table border=\"1\" class=\"dataframe\">\n  <thead>\n    <tr style=\"text-align: right;\">\n      <th></th>\n      <th>aspiration</th>\n      <th>body-style</th>\n      <th>bore</th>\n      <th>city-mpg</th>\n      <th>compression-ratio</th>\n      <th>curb-weight</th>\n      <th>drive-wheels</th>\n      <th>engine-location</th>\n      <th>engine-size</th>\n      <th>engine-type</th>\n      <th>...</th>\n      <th>make</th>\n      <th>normalized-losses</th>\n      <th>num-of-cylinders</th>\n      <th>num-of-doors</th>\n      <th>peak-rpm</th>\n      <th>price</th>\n      <th>stroke</th>\n      <th>symboling</th>\n      <th>wheel-base</th>\n      <th>width</th>\n    </tr>\n  </thead>\n  <tbody>\n    <tr>\n      <th>47</th>\n      <td>std</td>\n      <td>sedan</td>\n      <td>3.63</td>\n      <td>15</td>\n      <td>8.1</td>\n      <td>4066</td>\n      <td>rwd</td>\n      <td>front</td>\n      <td>258</td>\n      <td>dohc</td>\n      <td>...</td>\n      <td>jaguar</td>\n      <td>145.0</td>\n      <td>six</td>\n      <td>four</td>\n      <td>4750.0</td>\n      <td>32250.0</td>\n      <td>4.17</td>\n      <td>0</td>\n      <td>113.0</td>\n      <td>69.6</td>\n    </tr>\n    <tr>\n      <th>48</th>\n      <td>std</td>\n      <td>sedan</td>\n      <td>3.63</td>\n      <td>15</td>\n      <td>8.1</td>\n      <td>4066</td>\n      <td>rwd</td>\n      <td>front</td>\n      <td>258</td>\n      <td>dohc</td>\n      <td>...</td>\n      <td>jaguar</td>\n      <td>NaN</td>\n      <td>six</td>\n      <td>four</td>\n      <td>4750.0</td>\n      <td>35550.0</td>\n      <td>4.17</td>\n      <td>0</td>\n      <td>113.0</td>\n      <td>69.6</td>\n    </tr>\n    <tr>\n      <th>49</th>\n      <td>std</td>\n      <td>sedan</td>\n      <td>3.54</td>\n      <td>13</td>\n      <td>11.5</td>\n      <td>3950</td>\n      <td>rwd</td>\n      <td>front</td>\n      <td>326</td>\n      <td>ohcv</td>\n      <td>...</td>\n      <td>jaguar</td>\n      <td>NaN</td>\n      <td>twelve</td>\n      <td>two</td>\n      <td>5000.0</td>\n      <td>36000.0</td>\n      <td>2.76</td>\n      <td>0</td>\n      <td>102.0</td>\n      <td>70.6</td>\n    </tr>\n  </tbody>\n</table>\n<p>3 rows × 26 columns</p>\n</div>"
     },
     "execution_count": 67,
     "metadata": {},
     "output_type": "execute_result"
    }
   ],
   "source": [
    "makes.get_group(\"jaguar\")"
   ],
   "metadata": {
    "collapsed": false,
    "ExecuteTime": {
     "end_time": "2023-11-02T09:47:32.971555700Z",
     "start_time": "2023-11-02T09:47:32.919738700Z"
    }
   },
   "id": "168481805cfb06a"
  },
  {
   "cell_type": "markdown",
   "source": [
    "### Apply and combine.\n",
    "It's possible to access a single group as above.\n",
    "\n",
    "However most of the time we rather apply aggregation functions to each group individually and combine the result into a new dataset."
   ],
   "metadata": {
    "collapsed": false
   },
   "id": "b12a4a20ccba3866"
  },
  {
   "cell_type": "code",
   "execution_count": 68,
   "outputs": [],
   "source": [
    "makes = autos.groupby(\"make\")"
   ],
   "metadata": {
    "collapsed": false,
    "ExecuteTime": {
     "end_time": "2023-11-02T10:09:36.213819400Z",
     "start_time": "2023-11-02T10:09:36.164055800Z"
    }
   },
   "id": "de9a37f00d200ede"
  },
  {
   "cell_type": "code",
   "execution_count": 70,
   "outputs": [
    {
     "data": {
      "text/plain": "               aspiration  body-style  bore  city-mpg  compression-ratio  \\\nmake                                                                       \nalfa-romero             3           3     3         3                  3   \naudi                    7           7     7         7                  7   \nbmw                     8           8     8         8                  8   \nchevrolet               3           3     3         3                  3   \ndodge                   9           9     9         9                  9   \nhonda                  13          13    13        13                 13   \nisuzu                   4           4     4         4                  4   \njaguar                  3           3     3         3                  3   \nmazda                  17          17    13        17                 17   \nmercedes-benz           8           8     8         8                  8   \nmercury                 1           1     1         1                  1   \nmitsubishi             13          13    13        13                 13   \nnissan                 18          18    18        18                 18   \npeugot                 11          11    11        11                 11   \nplymouth                7           7     7         7                  7   \nporsche                 5           5     5         5                  5   \nrenault                 2           2     2         2                  2   \nsaab                    6           6     6         6                  6   \nsubaru                 12          12    12        12                 12   \ntoyota                 32          32    32        32                 32   \nvolkswagen             12          12    12        12                 12   \nvolvo                  11          11    11        11                 11   \n\n               curb-weight  drive-wheels  engine-location  engine-size  \\\nmake                                                                     \nalfa-romero              3             3                3            3   \naudi                     7             7                7            7   \nbmw                      8             8                8            8   \nchevrolet                3             3                3            3   \ndodge                    9             9                9            9   \nhonda                   13            13               13           13   \nisuzu                    4             4                4            4   \njaguar                   3             3                3            3   \nmazda                   17            17               17           17   \nmercedes-benz            8             8                8            8   \nmercury                  1             1                1            1   \nmitsubishi              13            13               13           13   \nnissan                  18            18               18           18   \npeugot                  11            11               11           11   \nplymouth                 7             7                7            7   \nporsche                  5             5                5            5   \nrenault                  2             2                2            2   \nsaab                     6             6                6            6   \nsubaru                  12            12               12           12   \ntoyota                  32            32               32           32   \nvolkswagen              12            12               12           12   \nvolvo                   11            11               11           11   \n\n               engine-type  ...  length  normalized-losses  num-of-cylinders  \\\nmake                        ...                                                \nalfa-romero              3  ...       3                  0                 3   \naudi                     7  ...       7                  4                 7   \nbmw                      8  ...       8                  4                 8   \nchevrolet                3  ...       3                  3                 3   \ndodge                    9  ...       9                  9                 9   \nhonda                   13  ...      13                 13                13   \nisuzu                    4  ...       4                  0                 4   \njaguar                   3  ...       3                  1                 3   \nmazda                   17  ...      17                 15                17   \nmercedes-benz            8  ...       8                  5                 8   \nmercury                  1  ...       1                  0                 1   \nmitsubishi              13  ...      13                 10                13   \nnissan                  18  ...      18                 18                18   \npeugot                  11  ...      11                  7                11   \nplymouth                 7  ...       7                  6                 7   \nporsche                  5  ...       5                  1                 5   \nrenault                  2  ...       2                  0                 2   \nsaab                     6  ...       6                  6                 6   \nsubaru                  12  ...      12                 12                12   \ntoyota                  32  ...      32                 31                32   \nvolkswagen              12  ...      12                  8                12   \nvolvo                   11  ...      11                 11                11   \n\n               num-of-doors  peak-rpm  price  stroke  symboling  wheel-base  \\\nmake                                                                          \nalfa-romero               3         3      3       3          3           3   \naudi                      7         7      6       7          7           7   \nbmw                       8         8      8       8          8           8   \nchevrolet                 3         3      3       3          3           3   \ndodge                     8         9      9       9          9           9   \nhonda                    13        13     13      13         13          13   \nisuzu                     4         4      2       4          4           4   \njaguar                    3         3      3       3          3           3   \nmazda                    16        17     17      13         17          17   \nmercedes-benz             8         8      8       8          8           8   \nmercury                   1         1      1       1          1           1   \nmitsubishi               13        13     13      13         13          13   \nnissan                   18        18     18      18         18          18   \npeugot                   11        11     11      11         11          11   \nplymouth                  7         7      7       7          7           7   \nporsche                   5         5      4       5          5           5   \nrenault                   2         0      2       2          2           2   \nsaab                      6         6      6       6          6           6   \nsubaru                   12        12     12      12         12          12   \ntoyota                   32        32     32      32         32          32   \nvolkswagen               12        12     12      12         12          12   \nvolvo                    11        11     11      11         11          11   \n\n               width  \nmake                  \nalfa-romero        3  \naudi               7  \nbmw                8  \nchevrolet          3  \ndodge              9  \nhonda             13  \nisuzu              4  \njaguar             3  \nmazda             17  \nmercedes-benz      8  \nmercury            1  \nmitsubishi        13  \nnissan            18  \npeugot            11  \nplymouth           7  \nporsche            5  \nrenault            2  \nsaab               6  \nsubaru            12  \ntoyota            32  \nvolkswagen        12  \nvolvo             11  \n\n[22 rows x 25 columns]",
      "text/html": "<div>\n<style scoped>\n    .dataframe tbody tr th:only-of-type {\n        vertical-align: middle;\n    }\n\n    .dataframe tbody tr th {\n        vertical-align: top;\n    }\n\n    .dataframe thead th {\n        text-align: right;\n    }\n</style>\n<table border=\"1\" class=\"dataframe\">\n  <thead>\n    <tr style=\"text-align: right;\">\n      <th></th>\n      <th>aspiration</th>\n      <th>body-style</th>\n      <th>bore</th>\n      <th>city-mpg</th>\n      <th>compression-ratio</th>\n      <th>curb-weight</th>\n      <th>drive-wheels</th>\n      <th>engine-location</th>\n      <th>engine-size</th>\n      <th>engine-type</th>\n      <th>...</th>\n      <th>length</th>\n      <th>normalized-losses</th>\n      <th>num-of-cylinders</th>\n      <th>num-of-doors</th>\n      <th>peak-rpm</th>\n      <th>price</th>\n      <th>stroke</th>\n      <th>symboling</th>\n      <th>wheel-base</th>\n      <th>width</th>\n    </tr>\n    <tr>\n      <th>make</th>\n      <th></th>\n      <th></th>\n      <th></th>\n      <th></th>\n      <th></th>\n      <th></th>\n      <th></th>\n      <th></th>\n      <th></th>\n      <th></th>\n      <th></th>\n      <th></th>\n      <th></th>\n      <th></th>\n      <th></th>\n      <th></th>\n      <th></th>\n      <th></th>\n      <th></th>\n      <th></th>\n      <th></th>\n    </tr>\n  </thead>\n  <tbody>\n    <tr>\n      <th>alfa-romero</th>\n      <td>3</td>\n      <td>3</td>\n      <td>3</td>\n      <td>3</td>\n      <td>3</td>\n      <td>3</td>\n      <td>3</td>\n      <td>3</td>\n      <td>3</td>\n      <td>3</td>\n      <td>...</td>\n      <td>3</td>\n      <td>0</td>\n      <td>3</td>\n      <td>3</td>\n      <td>3</td>\n      <td>3</td>\n      <td>3</td>\n      <td>3</td>\n      <td>3</td>\n      <td>3</td>\n    </tr>\n    <tr>\n      <th>audi</th>\n      <td>7</td>\n      <td>7</td>\n      <td>7</td>\n      <td>7</td>\n      <td>7</td>\n      <td>7</td>\n      <td>7</td>\n      <td>7</td>\n      <td>7</td>\n      <td>7</td>\n      <td>...</td>\n      <td>7</td>\n      <td>4</td>\n      <td>7</td>\n      <td>7</td>\n      <td>7</td>\n      <td>6</td>\n      <td>7</td>\n      <td>7</td>\n      <td>7</td>\n      <td>7</td>\n    </tr>\n    <tr>\n      <th>bmw</th>\n      <td>8</td>\n      <td>8</td>\n      <td>8</td>\n      <td>8</td>\n      <td>8</td>\n      <td>8</td>\n      <td>8</td>\n      <td>8</td>\n      <td>8</td>\n      <td>8</td>\n      <td>...</td>\n      <td>8</td>\n      <td>4</td>\n      <td>8</td>\n      <td>8</td>\n      <td>8</td>\n      <td>8</td>\n      <td>8</td>\n      <td>8</td>\n      <td>8</td>\n      <td>8</td>\n    </tr>\n    <tr>\n      <th>chevrolet</th>\n      <td>3</td>\n      <td>3</td>\n      <td>3</td>\n      <td>3</td>\n      <td>3</td>\n      <td>3</td>\n      <td>3</td>\n      <td>3</td>\n      <td>3</td>\n      <td>3</td>\n      <td>...</td>\n      <td>3</td>\n      <td>3</td>\n      <td>3</td>\n      <td>3</td>\n      <td>3</td>\n      <td>3</td>\n      <td>3</td>\n      <td>3</td>\n      <td>3</td>\n      <td>3</td>\n    </tr>\n    <tr>\n      <th>dodge</th>\n      <td>9</td>\n      <td>9</td>\n      <td>9</td>\n      <td>9</td>\n      <td>9</td>\n      <td>9</td>\n      <td>9</td>\n      <td>9</td>\n      <td>9</td>\n      <td>9</td>\n      <td>...</td>\n      <td>9</td>\n      <td>9</td>\n      <td>9</td>\n      <td>8</td>\n      <td>9</td>\n      <td>9</td>\n      <td>9</td>\n      <td>9</td>\n      <td>9</td>\n      <td>9</td>\n    </tr>\n    <tr>\n      <th>honda</th>\n      <td>13</td>\n      <td>13</td>\n      <td>13</td>\n      <td>13</td>\n      <td>13</td>\n      <td>13</td>\n      <td>13</td>\n      <td>13</td>\n      <td>13</td>\n      <td>13</td>\n      <td>...</td>\n      <td>13</td>\n      <td>13</td>\n      <td>13</td>\n      <td>13</td>\n      <td>13</td>\n      <td>13</td>\n      <td>13</td>\n      <td>13</td>\n      <td>13</td>\n      <td>13</td>\n    </tr>\n    <tr>\n      <th>isuzu</th>\n      <td>4</td>\n      <td>4</td>\n      <td>4</td>\n      <td>4</td>\n      <td>4</td>\n      <td>4</td>\n      <td>4</td>\n      <td>4</td>\n      <td>4</td>\n      <td>4</td>\n      <td>...</td>\n      <td>4</td>\n      <td>0</td>\n      <td>4</td>\n      <td>4</td>\n      <td>4</td>\n      <td>2</td>\n      <td>4</td>\n      <td>4</td>\n      <td>4</td>\n      <td>4</td>\n    </tr>\n    <tr>\n      <th>jaguar</th>\n      <td>3</td>\n      <td>3</td>\n      <td>3</td>\n      <td>3</td>\n      <td>3</td>\n      <td>3</td>\n      <td>3</td>\n      <td>3</td>\n      <td>3</td>\n      <td>3</td>\n      <td>...</td>\n      <td>3</td>\n      <td>1</td>\n      <td>3</td>\n      <td>3</td>\n      <td>3</td>\n      <td>3</td>\n      <td>3</td>\n      <td>3</td>\n      <td>3</td>\n      <td>3</td>\n    </tr>\n    <tr>\n      <th>mazda</th>\n      <td>17</td>\n      <td>17</td>\n      <td>13</td>\n      <td>17</td>\n      <td>17</td>\n      <td>17</td>\n      <td>17</td>\n      <td>17</td>\n      <td>17</td>\n      <td>17</td>\n      <td>...</td>\n      <td>17</td>\n      <td>15</td>\n      <td>17</td>\n      <td>16</td>\n      <td>17</td>\n      <td>17</td>\n      <td>13</td>\n      <td>17</td>\n      <td>17</td>\n      <td>17</td>\n    </tr>\n    <tr>\n      <th>mercedes-benz</th>\n      <td>8</td>\n      <td>8</td>\n      <td>8</td>\n      <td>8</td>\n      <td>8</td>\n      <td>8</td>\n      <td>8</td>\n      <td>8</td>\n      <td>8</td>\n      <td>8</td>\n      <td>...</td>\n      <td>8</td>\n      <td>5</td>\n      <td>8</td>\n      <td>8</td>\n      <td>8</td>\n      <td>8</td>\n      <td>8</td>\n      <td>8</td>\n      <td>8</td>\n      <td>8</td>\n    </tr>\n    <tr>\n      <th>mercury</th>\n      <td>1</td>\n      <td>1</td>\n      <td>1</td>\n      <td>1</td>\n      <td>1</td>\n      <td>1</td>\n      <td>1</td>\n      <td>1</td>\n      <td>1</td>\n      <td>1</td>\n      <td>...</td>\n      <td>1</td>\n      <td>0</td>\n      <td>1</td>\n      <td>1</td>\n      <td>1</td>\n      <td>1</td>\n      <td>1</td>\n      <td>1</td>\n      <td>1</td>\n      <td>1</td>\n    </tr>\n    <tr>\n      <th>mitsubishi</th>\n      <td>13</td>\n      <td>13</td>\n      <td>13</td>\n      <td>13</td>\n      <td>13</td>\n      <td>13</td>\n      <td>13</td>\n      <td>13</td>\n      <td>13</td>\n      <td>13</td>\n      <td>...</td>\n      <td>13</td>\n      <td>10</td>\n      <td>13</td>\n      <td>13</td>\n      <td>13</td>\n      <td>13</td>\n      <td>13</td>\n      <td>13</td>\n      <td>13</td>\n      <td>13</td>\n    </tr>\n    <tr>\n      <th>nissan</th>\n      <td>18</td>\n      <td>18</td>\n      <td>18</td>\n      <td>18</td>\n      <td>18</td>\n      <td>18</td>\n      <td>18</td>\n      <td>18</td>\n      <td>18</td>\n      <td>18</td>\n      <td>...</td>\n      <td>18</td>\n      <td>18</td>\n      <td>18</td>\n      <td>18</td>\n      <td>18</td>\n      <td>18</td>\n      <td>18</td>\n      <td>18</td>\n      <td>18</td>\n      <td>18</td>\n    </tr>\n    <tr>\n      <th>peugot</th>\n      <td>11</td>\n      <td>11</td>\n      <td>11</td>\n      <td>11</td>\n      <td>11</td>\n      <td>11</td>\n      <td>11</td>\n      <td>11</td>\n      <td>11</td>\n      <td>11</td>\n      <td>...</td>\n      <td>11</td>\n      <td>7</td>\n      <td>11</td>\n      <td>11</td>\n      <td>11</td>\n      <td>11</td>\n      <td>11</td>\n      <td>11</td>\n      <td>11</td>\n      <td>11</td>\n    </tr>\n    <tr>\n      <th>plymouth</th>\n      <td>7</td>\n      <td>7</td>\n      <td>7</td>\n      <td>7</td>\n      <td>7</td>\n      <td>7</td>\n      <td>7</td>\n      <td>7</td>\n      <td>7</td>\n      <td>7</td>\n      <td>...</td>\n      <td>7</td>\n      <td>6</td>\n      <td>7</td>\n      <td>7</td>\n      <td>7</td>\n      <td>7</td>\n      <td>7</td>\n      <td>7</td>\n      <td>7</td>\n      <td>7</td>\n    </tr>\n    <tr>\n      <th>porsche</th>\n      <td>5</td>\n      <td>5</td>\n      <td>5</td>\n      <td>5</td>\n      <td>5</td>\n      <td>5</td>\n      <td>5</td>\n      <td>5</td>\n      <td>5</td>\n      <td>5</td>\n      <td>...</td>\n      <td>5</td>\n      <td>1</td>\n      <td>5</td>\n      <td>5</td>\n      <td>5</td>\n      <td>4</td>\n      <td>5</td>\n      <td>5</td>\n      <td>5</td>\n      <td>5</td>\n    </tr>\n    <tr>\n      <th>renault</th>\n      <td>2</td>\n      <td>2</td>\n      <td>2</td>\n      <td>2</td>\n      <td>2</td>\n      <td>2</td>\n      <td>2</td>\n      <td>2</td>\n      <td>2</td>\n      <td>2</td>\n      <td>...</td>\n      <td>2</td>\n      <td>0</td>\n      <td>2</td>\n      <td>2</td>\n      <td>0</td>\n      <td>2</td>\n      <td>2</td>\n      <td>2</td>\n      <td>2</td>\n      <td>2</td>\n    </tr>\n    <tr>\n      <th>saab</th>\n      <td>6</td>\n      <td>6</td>\n      <td>6</td>\n      <td>6</td>\n      <td>6</td>\n      <td>6</td>\n      <td>6</td>\n      <td>6</td>\n      <td>6</td>\n      <td>6</td>\n      <td>...</td>\n      <td>6</td>\n      <td>6</td>\n      <td>6</td>\n      <td>6</td>\n      <td>6</td>\n      <td>6</td>\n      <td>6</td>\n      <td>6</td>\n      <td>6</td>\n      <td>6</td>\n    </tr>\n    <tr>\n      <th>subaru</th>\n      <td>12</td>\n      <td>12</td>\n      <td>12</td>\n      <td>12</td>\n      <td>12</td>\n      <td>12</td>\n      <td>12</td>\n      <td>12</td>\n      <td>12</td>\n      <td>12</td>\n      <td>...</td>\n      <td>12</td>\n      <td>12</td>\n      <td>12</td>\n      <td>12</td>\n      <td>12</td>\n      <td>12</td>\n      <td>12</td>\n      <td>12</td>\n      <td>12</td>\n      <td>12</td>\n    </tr>\n    <tr>\n      <th>toyota</th>\n      <td>32</td>\n      <td>32</td>\n      <td>32</td>\n      <td>32</td>\n      <td>32</td>\n      <td>32</td>\n      <td>32</td>\n      <td>32</td>\n      <td>32</td>\n      <td>32</td>\n      <td>...</td>\n      <td>32</td>\n      <td>31</td>\n      <td>32</td>\n      <td>32</td>\n      <td>32</td>\n      <td>32</td>\n      <td>32</td>\n      <td>32</td>\n      <td>32</td>\n      <td>32</td>\n    </tr>\n    <tr>\n      <th>volkswagen</th>\n      <td>12</td>\n      <td>12</td>\n      <td>12</td>\n      <td>12</td>\n      <td>12</td>\n      <td>12</td>\n      <td>12</td>\n      <td>12</td>\n      <td>12</td>\n      <td>12</td>\n      <td>...</td>\n      <td>12</td>\n      <td>8</td>\n      <td>12</td>\n      <td>12</td>\n      <td>12</td>\n      <td>12</td>\n      <td>12</td>\n      <td>12</td>\n      <td>12</td>\n      <td>12</td>\n    </tr>\n    <tr>\n      <th>volvo</th>\n      <td>11</td>\n      <td>11</td>\n      <td>11</td>\n      <td>11</td>\n      <td>11</td>\n      <td>11</td>\n      <td>11</td>\n      <td>11</td>\n      <td>11</td>\n      <td>11</td>\n      <td>...</td>\n      <td>11</td>\n      <td>11</td>\n      <td>11</td>\n      <td>11</td>\n      <td>11</td>\n      <td>11</td>\n      <td>11</td>\n      <td>11</td>\n      <td>11</td>\n      <td>11</td>\n    </tr>\n  </tbody>\n</table>\n<p>22 rows × 25 columns</p>\n</div>"
     },
     "execution_count": 70,
     "metadata": {},
     "output_type": "execute_result"
    }
   ],
   "source": [
    "makes.count()"
   ],
   "metadata": {
    "collapsed": false,
    "ExecuteTime": {
     "end_time": "2023-11-02T10:10:35.423436500Z",
     "start_time": "2023-11-02T10:10:35.400192500Z"
    }
   },
   "id": "4c17a42219e2c99a"
  },
  {
   "cell_type": "code",
   "execution_count": 71,
   "outputs": [
    {
     "data": {
      "text/plain": "             aspiration  body-style  bore  city-mpg  compression-ratio  \\\nmake                                                                     \nalfa-romero           3           3     3         3                  3   \naudi                  7           7     7         7                  7   \nbmw                   8           8     8         8                  8   \n\n             curb-weight  drive-wheels  engine-location  engine-size  \\\nmake                                                                   \nalfa-romero            3             3                3            3   \naudi                   7             7                7            7   \nbmw                    8             8                8            8   \n\n             engine-type  ...  length  normalized-losses  num-of-cylinders  \\\nmake                      ...                                                \nalfa-romero            3  ...       3                  0                 3   \naudi                   7  ...       7                  4                 7   \nbmw                    8  ...       8                  4                 8   \n\n             num-of-doors  peak-rpm  price  stroke  symboling  wheel-base  \\\nmake                                                                        \nalfa-romero             3         3      3       3          3           3   \naudi                    7         7      6       7          7           7   \nbmw                     8         8      8       8          8           8   \n\n             width  \nmake                \nalfa-romero      3  \naudi             7  \nbmw              8  \n\n[3 rows x 25 columns]",
      "text/html": "<div>\n<style scoped>\n    .dataframe tbody tr th:only-of-type {\n        vertical-align: middle;\n    }\n\n    .dataframe tbody tr th {\n        vertical-align: top;\n    }\n\n    .dataframe thead th {\n        text-align: right;\n    }\n</style>\n<table border=\"1\" class=\"dataframe\">\n  <thead>\n    <tr style=\"text-align: right;\">\n      <th></th>\n      <th>aspiration</th>\n      <th>body-style</th>\n      <th>bore</th>\n      <th>city-mpg</th>\n      <th>compression-ratio</th>\n      <th>curb-weight</th>\n      <th>drive-wheels</th>\n      <th>engine-location</th>\n      <th>engine-size</th>\n      <th>engine-type</th>\n      <th>...</th>\n      <th>length</th>\n      <th>normalized-losses</th>\n      <th>num-of-cylinders</th>\n      <th>num-of-doors</th>\n      <th>peak-rpm</th>\n      <th>price</th>\n      <th>stroke</th>\n      <th>symboling</th>\n      <th>wheel-base</th>\n      <th>width</th>\n    </tr>\n    <tr>\n      <th>make</th>\n      <th></th>\n      <th></th>\n      <th></th>\n      <th></th>\n      <th></th>\n      <th></th>\n      <th></th>\n      <th></th>\n      <th></th>\n      <th></th>\n      <th></th>\n      <th></th>\n      <th></th>\n      <th></th>\n      <th></th>\n      <th></th>\n      <th></th>\n      <th></th>\n      <th></th>\n      <th></th>\n      <th></th>\n    </tr>\n  </thead>\n  <tbody>\n    <tr>\n      <th>alfa-romero</th>\n      <td>3</td>\n      <td>3</td>\n      <td>3</td>\n      <td>3</td>\n      <td>3</td>\n      <td>3</td>\n      <td>3</td>\n      <td>3</td>\n      <td>3</td>\n      <td>3</td>\n      <td>...</td>\n      <td>3</td>\n      <td>0</td>\n      <td>3</td>\n      <td>3</td>\n      <td>3</td>\n      <td>3</td>\n      <td>3</td>\n      <td>3</td>\n      <td>3</td>\n      <td>3</td>\n    </tr>\n    <tr>\n      <th>audi</th>\n      <td>7</td>\n      <td>7</td>\n      <td>7</td>\n      <td>7</td>\n      <td>7</td>\n      <td>7</td>\n      <td>7</td>\n      <td>7</td>\n      <td>7</td>\n      <td>7</td>\n      <td>...</td>\n      <td>7</td>\n      <td>4</td>\n      <td>7</td>\n      <td>7</td>\n      <td>7</td>\n      <td>6</td>\n      <td>7</td>\n      <td>7</td>\n      <td>7</td>\n      <td>7</td>\n    </tr>\n    <tr>\n      <th>bmw</th>\n      <td>8</td>\n      <td>8</td>\n      <td>8</td>\n      <td>8</td>\n      <td>8</td>\n      <td>8</td>\n      <td>8</td>\n      <td>8</td>\n      <td>8</td>\n      <td>8</td>\n      <td>...</td>\n      <td>8</td>\n      <td>4</td>\n      <td>8</td>\n      <td>8</td>\n      <td>8</td>\n      <td>8</td>\n      <td>8</td>\n      <td>8</td>\n      <td>8</td>\n      <td>8</td>\n    </tr>\n  </tbody>\n</table>\n<p>3 rows × 25 columns</p>\n</div>"
     },
     "execution_count": 71,
     "metadata": {},
     "output_type": "execute_result"
    }
   ],
   "source": [
    "makes.count().head(3)"
   ],
   "metadata": {
    "collapsed": false,
    "ExecuteTime": {
     "end_time": "2023-11-02T10:12:25.243051Z",
     "start_time": "2023-11-02T10:12:25.181277300Z"
    }
   },
   "id": "355e3a0c7d354f85"
  },
  {
   "cell_type": "code",
   "execution_count": 73,
   "outputs": [
    {
     "data": {
      "text/plain": "                   length      width     height\nmake                                           \nalfa-romero    169.600000  64.566667  50.000000\naudi           183.828571  68.714286  54.428571\nbmw            184.500000  66.475000  54.825000\nchevrolet      151.933333  62.500000  52.400000\ndodge          160.988889  64.166667  51.644444\nhonda          160.769231  64.384615  53.238462\nisuzu          163.775000  63.550000  52.225000\njaguar         196.966667  69.933333  51.133333\nmazda          170.805882  65.588235  53.358824\nmercedes-benz  195.262500  71.062500  55.725000\nmercury        178.400000  68.000000  54.800000\nmitsubishi     168.030769  65.253846  50.692308\nnissan         170.988889  65.088889  53.633333\npeugot         191.136364  68.390909  57.181818\nplymouth       164.900000  64.271429  51.971429\nporsche        170.260000  67.120000  51.100000\nrenault        179.150000  66.550000  52.850000\nsaab           186.600000  66.500000  56.100000\nsubaru         168.858333  64.950000  53.750000\ntoyota         171.934375  65.090625  53.721875\nvolkswagen     172.533333  65.616667  55.183333\nvolvo          188.800000  67.963636  56.236364",
      "text/html": "<div>\n<style scoped>\n    .dataframe tbody tr th:only-of-type {\n        vertical-align: middle;\n    }\n\n    .dataframe tbody tr th {\n        vertical-align: top;\n    }\n\n    .dataframe thead th {\n        text-align: right;\n    }\n</style>\n<table border=\"1\" class=\"dataframe\">\n  <thead>\n    <tr style=\"text-align: right;\">\n      <th></th>\n      <th>length</th>\n      <th>width</th>\n      <th>height</th>\n    </tr>\n    <tr>\n      <th>make</th>\n      <th></th>\n      <th></th>\n      <th></th>\n    </tr>\n  </thead>\n  <tbody>\n    <tr>\n      <th>alfa-romero</th>\n      <td>169.600000</td>\n      <td>64.566667</td>\n      <td>50.000000</td>\n    </tr>\n    <tr>\n      <th>audi</th>\n      <td>183.828571</td>\n      <td>68.714286</td>\n      <td>54.428571</td>\n    </tr>\n    <tr>\n      <th>bmw</th>\n      <td>184.500000</td>\n      <td>66.475000</td>\n      <td>54.825000</td>\n    </tr>\n    <tr>\n      <th>chevrolet</th>\n      <td>151.933333</td>\n      <td>62.500000</td>\n      <td>52.400000</td>\n    </tr>\n    <tr>\n      <th>dodge</th>\n      <td>160.988889</td>\n      <td>64.166667</td>\n      <td>51.644444</td>\n    </tr>\n    <tr>\n      <th>honda</th>\n      <td>160.769231</td>\n      <td>64.384615</td>\n      <td>53.238462</td>\n    </tr>\n    <tr>\n      <th>isuzu</th>\n      <td>163.775000</td>\n      <td>63.550000</td>\n      <td>52.225000</td>\n    </tr>\n    <tr>\n      <th>jaguar</th>\n      <td>196.966667</td>\n      <td>69.933333</td>\n      <td>51.133333</td>\n    </tr>\n    <tr>\n      <th>mazda</th>\n      <td>170.805882</td>\n      <td>65.588235</td>\n      <td>53.358824</td>\n    </tr>\n    <tr>\n      <th>mercedes-benz</th>\n      <td>195.262500</td>\n      <td>71.062500</td>\n      <td>55.725000</td>\n    </tr>\n    <tr>\n      <th>mercury</th>\n      <td>178.400000</td>\n      <td>68.000000</td>\n      <td>54.800000</td>\n    </tr>\n    <tr>\n      <th>mitsubishi</th>\n      <td>168.030769</td>\n      <td>65.253846</td>\n      <td>50.692308</td>\n    </tr>\n    <tr>\n      <th>nissan</th>\n      <td>170.988889</td>\n      <td>65.088889</td>\n      <td>53.633333</td>\n    </tr>\n    <tr>\n      <th>peugot</th>\n      <td>191.136364</td>\n      <td>68.390909</td>\n      <td>57.181818</td>\n    </tr>\n    <tr>\n      <th>plymouth</th>\n      <td>164.900000</td>\n      <td>64.271429</td>\n      <td>51.971429</td>\n    </tr>\n    <tr>\n      <th>porsche</th>\n      <td>170.260000</td>\n      <td>67.120000</td>\n      <td>51.100000</td>\n    </tr>\n    <tr>\n      <th>renault</th>\n      <td>179.150000</td>\n      <td>66.550000</td>\n      <td>52.850000</td>\n    </tr>\n    <tr>\n      <th>saab</th>\n      <td>186.600000</td>\n      <td>66.500000</td>\n      <td>56.100000</td>\n    </tr>\n    <tr>\n      <th>subaru</th>\n      <td>168.858333</td>\n      <td>64.950000</td>\n      <td>53.750000</td>\n    </tr>\n    <tr>\n      <th>toyota</th>\n      <td>171.934375</td>\n      <td>65.090625</td>\n      <td>53.721875</td>\n    </tr>\n    <tr>\n      <th>volkswagen</th>\n      <td>172.533333</td>\n      <td>65.616667</td>\n      <td>55.183333</td>\n    </tr>\n    <tr>\n      <th>volvo</th>\n      <td>188.800000</td>\n      <td>67.963636</td>\n      <td>56.236364</td>\n    </tr>\n  </tbody>\n</table>\n</div>"
     },
     "execution_count": 73,
     "metadata": {},
     "output_type": "execute_result"
    }
   ],
   "source": [
    "makes[[\"length\", \"width\", \"height\"]].mean()"
   ],
   "metadata": {
    "collapsed": false,
    "ExecuteTime": {
     "end_time": "2023-11-02T10:15:48.626790300Z",
     "start_time": "2023-11-02T10:15:48.594228900Z"
    }
   },
   "id": "6d872ee56e02c4a7"
  },
  {
   "cell_type": "code",
   "execution_count": 75,
   "outputs": [
    {
     "data": {
      "text/plain": "pandas.core.groupby.generic.DataFrameGroupBy"
     },
     "execution_count": 75,
     "metadata": {},
     "output_type": "execute_result"
    }
   ],
   "source": [
    "type(makes[[\"length\", \"width\", \"height\"]])"
   ],
   "metadata": {
    "collapsed": false,
    "ExecuteTime": {
     "end_time": "2023-11-02T10:16:23.709172400Z",
     "start_time": "2023-11-02T10:16:23.668932200Z"
    }
   },
   "id": "ae8afd230852fba2"
  },
  {
   "cell_type": "code",
   "execution_count": 76,
   "outputs": [
    {
     "data": {
      "text/plain": "                 length      width     height\nmake                                         \nalfa-romero  169.600000  64.566667  50.000000\naudi         183.828571  68.714286  54.428571\nbmw          184.500000  66.475000  54.825000",
      "text/html": "<div>\n<style scoped>\n    .dataframe tbody tr th:only-of-type {\n        vertical-align: middle;\n    }\n\n    .dataframe tbody tr th {\n        vertical-align: top;\n    }\n\n    .dataframe thead th {\n        text-align: right;\n    }\n</style>\n<table border=\"1\" class=\"dataframe\">\n  <thead>\n    <tr style=\"text-align: right;\">\n      <th></th>\n      <th>length</th>\n      <th>width</th>\n      <th>height</th>\n    </tr>\n    <tr>\n      <th>make</th>\n      <th></th>\n      <th></th>\n      <th></th>\n    </tr>\n  </thead>\n  <tbody>\n    <tr>\n      <th>alfa-romero</th>\n      <td>169.600000</td>\n      <td>64.566667</td>\n      <td>50.000000</td>\n    </tr>\n    <tr>\n      <th>audi</th>\n      <td>183.828571</td>\n      <td>68.714286</td>\n      <td>54.428571</td>\n    </tr>\n    <tr>\n      <th>bmw</th>\n      <td>184.500000</td>\n      <td>66.475000</td>\n      <td>54.825000</td>\n    </tr>\n  </tbody>\n</table>\n</div>"
     },
     "execution_count": 76,
     "metadata": {},
     "output_type": "execute_result"
    }
   ],
   "source": [
    "makes[[\"length\", \"width\", \"height\"]].mean().head(3)"
   ],
   "metadata": {
    "collapsed": false,
    "ExecuteTime": {
     "end_time": "2023-11-02T10:17:05.056596400Z",
     "start_time": "2023-11-02T10:17:04.990868Z"
    }
   },
   "id": "964d213d63f72e81"
  },
  {
   "cell_type": "markdown",
   "source": [
    "### SeriesGroupBy\n",
    "Indexing a DataFrameGroupBy object with a single column will return a SeriesGroupBy object."
   ],
   "metadata": {
    "collapsed": false
   },
   "id": "3271ea67836a8106"
  },
  {
   "cell_type": "code",
   "execution_count": 79,
   "outputs": [],
   "source": [
    "sgb = makes[\"price\"]"
   ],
   "metadata": {
    "collapsed": false,
    "ExecuteTime": {
     "end_time": "2023-11-02T10:18:38.896154100Z",
     "start_time": "2023-11-02T10:18:38.864780400Z"
    }
   },
   "id": "ff5cf672041c2fb7"
  },
  {
   "cell_type": "code",
   "execution_count": 80,
   "outputs": [
    {
     "data": {
      "text/plain": "pandas.core.groupby.generic.SeriesGroupBy"
     },
     "execution_count": 80,
     "metadata": {},
     "output_type": "execute_result"
    }
   ],
   "source": [
    "type(sgb)"
   ],
   "metadata": {
    "collapsed": false,
    "ExecuteTime": {
     "end_time": "2023-11-02T10:18:39.828230100Z",
     "start_time": "2023-11-02T10:18:39.809181300Z"
    }
   },
   "id": "cb9e1cdeb428edf5"
  },
  {
   "cell_type": "code",
   "execution_count": 81,
   "outputs": [
    {
     "data": {
      "text/plain": "{'alfa-romero': [0, 1, 2], 'audi': [3, 4, 5, 6, 7, 8, 9], 'bmw': [10, 11, 12, 13, 14, 15, 16, 17], 'chevrolet': [18, 19, 20], 'dodge': [21, 22, 23, 24, 25, 26, 27, 28, 29], 'honda': [30, 31, 32, 33, 34, 35, 36, 37, 38, 39, 40, 41, 42], 'isuzu': [43, 44, 45, 46], 'jaguar': [47, 48, 49], 'mazda': [50, 51, 52, 53, 54, 55, 56, 57, 58, 59, 60, 61, 62, 63, 64, 65, 66], 'mercedes-benz': [67, 68, 69, 70, 71, 72, 73, 74], 'mercury': [75], 'mitsubishi': [76, 77, 78, 79, 80, 81, 82, 83, 84, 85, 86, 87, 88], 'nissan': [89, 90, 91, 92, 93, 94, 95, 96, 97, 98, 99, 100, 101, 102, 103, 104, 105, 106], 'peugot': [107, 108, 109, 110, 111, 112, 113, 114, 115, 116, 117], 'plymouth': [118, 119, 120, 121, 122, 123, 124], 'porsche': [125, 126, 127, 128, 129], 'renault': [130, 131], 'saab': [132, 133, 134, 135, 136, 137], 'subaru': [138, 139, 140, 141, 142, 143, 144, 145, 146, 147, 148, 149], 'toyota': [150, 151, 152, 153, 154, 155, 156, 157, 158, 159, 160, 161, 162, 163, 164, 165, 166, 167, 168, 169, 170, 171, 172, 173, 174, 175, 176, 177, 178, 179, 180, 181], 'volkswagen': [182, 183, 184, 185, 186, 187, 188, 189, 190, 191, 192, 193], 'volvo': [194, 195, 196, 197, 198, 199, 200, 201, 202, 203, 204]}"
     },
     "execution_count": 81,
     "metadata": {},
     "output_type": "execute_result"
    }
   ],
   "source": [
    "sgb.groups"
   ],
   "metadata": {
    "collapsed": false,
    "ExecuteTime": {
     "end_time": "2023-11-02T10:19:38.927912900Z",
     "start_time": "2023-11-02T10:19:38.828680700Z"
    }
   },
   "id": "dcb8ab4c6edc3191"
  },
  {
   "cell_type": "code",
   "execution_count": 82,
   "outputs": [
    {
     "data": {
      "text/plain": "47    32250.0\n48    35550.0\n49    36000.0\nName: price, dtype: float64"
     },
     "execution_count": 82,
     "metadata": {},
     "output_type": "execute_result"
    }
   ],
   "source": [
    "sgb.get_group(\"jaguar\")"
   ],
   "metadata": {
    "collapsed": false,
    "ExecuteTime": {
     "end_time": "2023-11-02T10:19:49.815110100Z",
     "start_time": "2023-11-02T10:19:49.746371900Z"
    }
   },
   "id": "c6c6b03f9b38b1f9"
  },
  {
   "cell_type": "code",
   "execution_count": 83,
   "outputs": [
    {
     "data": {
      "text/plain": "make\nalfa-romero      15498.333333\naudi             17859.166667\nbmw              26118.750000\nchevrolet         6007.000000\ndodge             7875.444444\nhonda             8184.692308\nisuzu             8916.500000\njaguar           34600.000000\nmazda            10652.882353\nmercedes-benz    33647.000000\nmercury          16503.000000\nmitsubishi        9239.769231\nnissan           10415.666667\npeugot           15489.090909\nplymouth          7963.428571\nporsche          31400.500000\nrenault           9595.000000\nsaab             15223.333333\nsubaru            8541.250000\ntoyota            9885.812500\nvolkswagen       10077.500000\nvolvo            18063.181818\nName: price, dtype: float64"
     },
     "execution_count": 83,
     "metadata": {},
     "output_type": "execute_result"
    }
   ],
   "source": [
    "sgb.mean()"
   ],
   "metadata": {
    "collapsed": false,
    "ExecuteTime": {
     "end_time": "2023-11-02T10:20:13.909904400Z",
     "start_time": "2023-11-02T10:20:13.848357900Z"
    }
   },
   "id": "4e76591f8ce119bc"
  },
  {
   "cell_type": "code",
   "execution_count": 84,
   "outputs": [
    {
     "data": {
      "text/plain": "make\nalfa-romero    15498.333333\naudi           17859.166667\nbmw            26118.750000\nName: price, dtype: float64"
     },
     "execution_count": 84,
     "metadata": {},
     "output_type": "execute_result"
    }
   ],
   "source": [
    "sgb.mean().head(3)"
   ],
   "metadata": {
    "collapsed": false,
    "ExecuteTime": {
     "end_time": "2023-11-02T10:20:50.555522200Z",
     "start_time": "2023-11-02T10:20:50.484201300Z"
    }
   },
   "id": "58af6c65e9d7a2e4"
  },
  {
   "cell_type": "code",
   "execution_count": 86,
   "outputs": [
    {
     "data": {
      "text/plain": "make\nalfa-romero    15498.333333\naudi           17859.166667\nbmw            26118.750000\nName: price, dtype: float64"
     },
     "execution_count": 86,
     "metadata": {},
     "output_type": "execute_result"
    }
   ],
   "source": [
    "autos.groupby(\"make\")[\"price\"].mean().head(3)"
   ],
   "metadata": {
    "collapsed": false,
    "ExecuteTime": {
     "end_time": "2023-11-02T10:25:32.975513300Z",
     "start_time": "2023-11-02T10:25:32.928397200Z"
    }
   },
   "id": "2b2b705f2ae99718"
  },
  {
   "cell_type": "code",
   "execution_count": 87,
   "outputs": [
    {
     "data": {
      "text/plain": "make\nalfa-romero    15498.333333\naudi           17859.166667\nbmw            26118.750000\nName: price, dtype: float64"
     },
     "execution_count": 87,
     "metadata": {},
     "output_type": "execute_result"
    }
   ],
   "source": [
    "(\n",
    "    autos\n",
    "        .groupby(\"make\")[\"price\"]\n",
    "        .mean()\n",
    "        .head(3)\n",
    ")"
   ],
   "metadata": {
    "collapsed": false,
    "ExecuteTime": {
     "end_time": "2023-11-02T10:27:06.867868Z",
     "start_time": "2023-11-02T10:27:06.806194800Z"
    }
   },
   "id": "966dee16b6f3a261"
  },
  {
   "cell_type": "code",
   "execution_count": 88,
   "outputs": [
    {
     "data": {
      "text/plain": "                 length      width     height\nmake                                         \nalfa-romero  169.600000  64.566667  50.000000\naudi         183.828571  68.714286  54.428571\nbmw          184.500000  66.475000  54.825000",
      "text/html": "<div>\n<style scoped>\n    .dataframe tbody tr th:only-of-type {\n        vertical-align: middle;\n    }\n\n    .dataframe tbody tr th {\n        vertical-align: top;\n    }\n\n    .dataframe thead th {\n        text-align: right;\n    }\n</style>\n<table border=\"1\" class=\"dataframe\">\n  <thead>\n    <tr style=\"text-align: right;\">\n      <th></th>\n      <th>length</th>\n      <th>width</th>\n      <th>height</th>\n    </tr>\n    <tr>\n      <th>make</th>\n      <th></th>\n      <th></th>\n      <th></th>\n    </tr>\n  </thead>\n  <tbody>\n    <tr>\n      <th>alfa-romero</th>\n      <td>169.600000</td>\n      <td>64.566667</td>\n      <td>50.000000</td>\n    </tr>\n    <tr>\n      <th>audi</th>\n      <td>183.828571</td>\n      <td>68.714286</td>\n      <td>54.428571</td>\n    </tr>\n    <tr>\n      <th>bmw</th>\n      <td>184.500000</td>\n      <td>66.475000</td>\n      <td>54.825000</td>\n    </tr>\n  </tbody>\n</table>\n</div>"
     },
     "execution_count": 88,
     "metadata": {},
     "output_type": "execute_result"
    }
   ],
   "source": [
    "autos.groupby(\"make\")[[\"length\", \"width\", \"height\"]].mean().head(3)"
   ],
   "metadata": {
    "collapsed": false,
    "ExecuteTime": {
     "end_time": "2023-11-02T10:32:15.843743300Z",
     "start_time": "2023-11-02T10:32:15.741279200Z"
    }
   },
   "id": "ae5e5daf8536cf34"
  },
  {
   "cell_type": "code",
   "execution_count": 89,
   "outputs": [
    {
     "data": {
      "text/plain": "make\nalfa-romero    15498.333333\naudi           17859.166667\nbmw            26118.750000\nName: price, dtype: float64"
     },
     "execution_count": 89,
     "metadata": {},
     "output_type": "execute_result"
    }
   ],
   "source": [
    "autos.groupby(\"make\")[\"price\"].mean().head(3)"
   ],
   "metadata": {
    "collapsed": false,
    "ExecuteTime": {
     "end_time": "2023-11-02T10:34:58.918061Z",
     "start_time": "2023-11-02T10:34:58.823066Z"
    }
   },
   "id": "a73ad33b4008bab9"
  },
  {
   "cell_type": "markdown",
   "source": [
    "### Multiple aggregation on SeriesGroupBy\n",
    "Uses pandas .agg() method on SeriesGroupBy to do multiple aggregations on a single feature."
   ],
   "metadata": {
    "collapsed": false
   },
   "id": "df070ba59a6cd06d"
  },
  {
   "cell_type": "code",
   "execution_count": 90,
   "outputs": [],
   "source": [
    "sgb = makes[\"price\"]"
   ],
   "metadata": {
    "collapsed": false,
    "ExecuteTime": {
     "end_time": "2023-11-02T10:36:35.139261700Z",
     "start_time": "2023-11-02T10:36:35.074751800Z"
    }
   },
   "id": "3aaebf8dd261b30d"
  },
  {
   "cell_type": "code",
   "execution_count": 91,
   "outputs": [
    {
     "data": {
      "text/plain": "make\nalfa-romero      13495.0\naudi             13950.0\nbmw              16430.0\nchevrolet         5151.0\ndodge             5572.0\nhonda             5399.0\nisuzu             6785.0\njaguar           32250.0\nmazda             5195.0\nmercedes-benz    25552.0\nmercury          16503.0\nmitsubishi        5389.0\nnissan            5499.0\npeugot           11900.0\nplymouth          5572.0\nporsche          22018.0\nrenault           9295.0\nsaab             11850.0\nsubaru            5118.0\ntoyota            5348.0\nvolkswagen        7775.0\nvolvo            12940.0\nName: price, dtype: float64"
     },
     "execution_count": 91,
     "metadata": {},
     "output_type": "execute_result"
    }
   ],
   "source": [
    "sgb.min()"
   ],
   "metadata": {
    "collapsed": false,
    "ExecuteTime": {
     "end_time": "2023-11-02T10:36:39.140122Z",
     "start_time": "2023-11-02T10:36:39.061341100Z"
    }
   },
   "id": "ec2e57809f161c9f"
  },
  {
   "cell_type": "code",
   "execution_count": 93,
   "outputs": [
    {
     "data": {
      "text/plain": "                   min          mean      max\nmake                                         \nalfa-romero    13495.0  15498.333333  16500.0\naudi           13950.0  17859.166667  23875.0\nbmw            16430.0  26118.750000  41315.0\nchevrolet       5151.0   6007.000000   6575.0\ndodge           5572.0   7875.444444  12964.0\nhonda           5399.0   8184.692308  12945.0\nisuzu           6785.0   8916.500000  11048.0\njaguar         32250.0  34600.000000  36000.0\nmazda           5195.0  10652.882353  18344.0\nmercedes-benz  25552.0  33647.000000  45400.0\nmercury        16503.0  16503.000000  16503.0\nmitsubishi      5389.0   9239.769231  14869.0\nnissan          5499.0  10415.666667  19699.0\npeugot         11900.0  15489.090909  18150.0\nplymouth        5572.0   7963.428571  12764.0\nporsche        22018.0  31400.500000  37028.0\nrenault         9295.0   9595.000000   9895.0\nsaab           11850.0  15223.333333  18620.0\nsubaru          5118.0   8541.250000  11694.0\ntoyota          5348.0   9885.812500  17669.0\nvolkswagen      7775.0  10077.500000  13845.0\nvolvo          12940.0  18063.181818  22625.0",
      "text/html": "<div>\n<style scoped>\n    .dataframe tbody tr th:only-of-type {\n        vertical-align: middle;\n    }\n\n    .dataframe tbody tr th {\n        vertical-align: top;\n    }\n\n    .dataframe thead th {\n        text-align: right;\n    }\n</style>\n<table border=\"1\" class=\"dataframe\">\n  <thead>\n    <tr style=\"text-align: right;\">\n      <th></th>\n      <th>min</th>\n      <th>mean</th>\n      <th>max</th>\n    </tr>\n    <tr>\n      <th>make</th>\n      <th></th>\n      <th></th>\n      <th></th>\n    </tr>\n  </thead>\n  <tbody>\n    <tr>\n      <th>alfa-romero</th>\n      <td>13495.0</td>\n      <td>15498.333333</td>\n      <td>16500.0</td>\n    </tr>\n    <tr>\n      <th>audi</th>\n      <td>13950.0</td>\n      <td>17859.166667</td>\n      <td>23875.0</td>\n    </tr>\n    <tr>\n      <th>bmw</th>\n      <td>16430.0</td>\n      <td>26118.750000</td>\n      <td>41315.0</td>\n    </tr>\n    <tr>\n      <th>chevrolet</th>\n      <td>5151.0</td>\n      <td>6007.000000</td>\n      <td>6575.0</td>\n    </tr>\n    <tr>\n      <th>dodge</th>\n      <td>5572.0</td>\n      <td>7875.444444</td>\n      <td>12964.0</td>\n    </tr>\n    <tr>\n      <th>honda</th>\n      <td>5399.0</td>\n      <td>8184.692308</td>\n      <td>12945.0</td>\n    </tr>\n    <tr>\n      <th>isuzu</th>\n      <td>6785.0</td>\n      <td>8916.500000</td>\n      <td>11048.0</td>\n    </tr>\n    <tr>\n      <th>jaguar</th>\n      <td>32250.0</td>\n      <td>34600.000000</td>\n      <td>36000.0</td>\n    </tr>\n    <tr>\n      <th>mazda</th>\n      <td>5195.0</td>\n      <td>10652.882353</td>\n      <td>18344.0</td>\n    </tr>\n    <tr>\n      <th>mercedes-benz</th>\n      <td>25552.0</td>\n      <td>33647.000000</td>\n      <td>45400.0</td>\n    </tr>\n    <tr>\n      <th>mercury</th>\n      <td>16503.0</td>\n      <td>16503.000000</td>\n      <td>16503.0</td>\n    </tr>\n    <tr>\n      <th>mitsubishi</th>\n      <td>5389.0</td>\n      <td>9239.769231</td>\n      <td>14869.0</td>\n    </tr>\n    <tr>\n      <th>nissan</th>\n      <td>5499.0</td>\n      <td>10415.666667</td>\n      <td>19699.0</td>\n    </tr>\n    <tr>\n      <th>peugot</th>\n      <td>11900.0</td>\n      <td>15489.090909</td>\n      <td>18150.0</td>\n    </tr>\n    <tr>\n      <th>plymouth</th>\n      <td>5572.0</td>\n      <td>7963.428571</td>\n      <td>12764.0</td>\n    </tr>\n    <tr>\n      <th>porsche</th>\n      <td>22018.0</td>\n      <td>31400.500000</td>\n      <td>37028.0</td>\n    </tr>\n    <tr>\n      <th>renault</th>\n      <td>9295.0</td>\n      <td>9595.000000</td>\n      <td>9895.0</td>\n    </tr>\n    <tr>\n      <th>saab</th>\n      <td>11850.0</td>\n      <td>15223.333333</td>\n      <td>18620.0</td>\n    </tr>\n    <tr>\n      <th>subaru</th>\n      <td>5118.0</td>\n      <td>8541.250000</td>\n      <td>11694.0</td>\n    </tr>\n    <tr>\n      <th>toyota</th>\n      <td>5348.0</td>\n      <td>9885.812500</td>\n      <td>17669.0</td>\n    </tr>\n    <tr>\n      <th>volkswagen</th>\n      <td>7775.0</td>\n      <td>10077.500000</td>\n      <td>13845.0</td>\n    </tr>\n    <tr>\n      <th>volvo</th>\n      <td>12940.0</td>\n      <td>18063.181818</td>\n      <td>22625.0</td>\n    </tr>\n  </tbody>\n</table>\n</div>"
     },
     "execution_count": 93,
     "metadata": {},
     "output_type": "execute_result"
    }
   ],
   "source": [
    "sgb.agg([\"min\", \"mean\", \"max\"])"
   ],
   "metadata": {
    "collapsed": false,
    "ExecuteTime": {
     "end_time": "2023-11-02T10:37:23.399871900Z",
     "start_time": "2023-11-02T10:37:23.367058100Z"
    }
   },
   "id": "6d43f54093b8a77c"
  },
  {
   "cell_type": "code",
   "execution_count": 94,
   "outputs": [
    {
     "data": {
      "text/plain": "                   min          mean      max\nmake                                         \nalfa-romero    13495.0  15498.333333  16500.0\naudi           13950.0  17859.166667  23875.0\nbmw            16430.0  26118.750000  41315.0\nchevrolet       5151.0   6007.000000   6575.0\ndodge           5572.0   7875.444444  12964.0\nhonda           5399.0   8184.692308  12945.0\nisuzu           6785.0   8916.500000  11048.0\njaguar         32250.0  34600.000000  36000.0\nmazda           5195.0  10652.882353  18344.0\nmercedes-benz  25552.0  33647.000000  45400.0\nmercury        16503.0  16503.000000  16503.0\nmitsubishi      5389.0   9239.769231  14869.0\nnissan          5499.0  10415.666667  19699.0\npeugot         11900.0  15489.090909  18150.0\nplymouth        5572.0   7963.428571  12764.0\nporsche        22018.0  31400.500000  37028.0\nrenault         9295.0   9595.000000   9895.0\nsaab           11850.0  15223.333333  18620.0\nsubaru          5118.0   8541.250000  11694.0\ntoyota          5348.0   9885.812500  17669.0\nvolkswagen      7775.0  10077.500000  13845.0\nvolvo          12940.0  18063.181818  22625.0",
      "text/html": "<div>\n<style scoped>\n    .dataframe tbody tr th:only-of-type {\n        vertical-align: middle;\n    }\n\n    .dataframe tbody tr th {\n        vertical-align: top;\n    }\n\n    .dataframe thead th {\n        text-align: right;\n    }\n</style>\n<table border=\"1\" class=\"dataframe\">\n  <thead>\n    <tr style=\"text-align: right;\">\n      <th></th>\n      <th>min</th>\n      <th>mean</th>\n      <th>max</th>\n    </tr>\n    <tr>\n      <th>make</th>\n      <th></th>\n      <th></th>\n      <th></th>\n    </tr>\n  </thead>\n  <tbody>\n    <tr>\n      <th>alfa-romero</th>\n      <td>13495.0</td>\n      <td>15498.333333</td>\n      <td>16500.0</td>\n    </tr>\n    <tr>\n      <th>audi</th>\n      <td>13950.0</td>\n      <td>17859.166667</td>\n      <td>23875.0</td>\n    </tr>\n    <tr>\n      <th>bmw</th>\n      <td>16430.0</td>\n      <td>26118.750000</td>\n      <td>41315.0</td>\n    </tr>\n    <tr>\n      <th>chevrolet</th>\n      <td>5151.0</td>\n      <td>6007.000000</td>\n      <td>6575.0</td>\n    </tr>\n    <tr>\n      <th>dodge</th>\n      <td>5572.0</td>\n      <td>7875.444444</td>\n      <td>12964.0</td>\n    </tr>\n    <tr>\n      <th>honda</th>\n      <td>5399.0</td>\n      <td>8184.692308</td>\n      <td>12945.0</td>\n    </tr>\n    <tr>\n      <th>isuzu</th>\n      <td>6785.0</td>\n      <td>8916.500000</td>\n      <td>11048.0</td>\n    </tr>\n    <tr>\n      <th>jaguar</th>\n      <td>32250.0</td>\n      <td>34600.000000</td>\n      <td>36000.0</td>\n    </tr>\n    <tr>\n      <th>mazda</th>\n      <td>5195.0</td>\n      <td>10652.882353</td>\n      <td>18344.0</td>\n    </tr>\n    <tr>\n      <th>mercedes-benz</th>\n      <td>25552.0</td>\n      <td>33647.000000</td>\n      <td>45400.0</td>\n    </tr>\n    <tr>\n      <th>mercury</th>\n      <td>16503.0</td>\n      <td>16503.000000</td>\n      <td>16503.0</td>\n    </tr>\n    <tr>\n      <th>mitsubishi</th>\n      <td>5389.0</td>\n      <td>9239.769231</td>\n      <td>14869.0</td>\n    </tr>\n    <tr>\n      <th>nissan</th>\n      <td>5499.0</td>\n      <td>10415.666667</td>\n      <td>19699.0</td>\n    </tr>\n    <tr>\n      <th>peugot</th>\n      <td>11900.0</td>\n      <td>15489.090909</td>\n      <td>18150.0</td>\n    </tr>\n    <tr>\n      <th>plymouth</th>\n      <td>5572.0</td>\n      <td>7963.428571</td>\n      <td>12764.0</td>\n    </tr>\n    <tr>\n      <th>porsche</th>\n      <td>22018.0</td>\n      <td>31400.500000</td>\n      <td>37028.0</td>\n    </tr>\n    <tr>\n      <th>renault</th>\n      <td>9295.0</td>\n      <td>9595.000000</td>\n      <td>9895.0</td>\n    </tr>\n    <tr>\n      <th>saab</th>\n      <td>11850.0</td>\n      <td>15223.333333</td>\n      <td>18620.0</td>\n    </tr>\n    <tr>\n      <th>subaru</th>\n      <td>5118.0</td>\n      <td>8541.250000</td>\n      <td>11694.0</td>\n    </tr>\n    <tr>\n      <th>toyota</th>\n      <td>5348.0</td>\n      <td>9885.812500</td>\n      <td>17669.0</td>\n    </tr>\n    <tr>\n      <th>volkswagen</th>\n      <td>7775.0</td>\n      <td>10077.500000</td>\n      <td>13845.0</td>\n    </tr>\n    <tr>\n      <th>volvo</th>\n      <td>12940.0</td>\n      <td>18063.181818</td>\n      <td>22625.0</td>\n    </tr>\n  </tbody>\n</table>\n</div>"
     },
     "execution_count": 94,
     "metadata": {},
     "output_type": "execute_result"
    }
   ],
   "source": [
    "autos.groupby(\"make\")[\"price\"].agg([\"min\", \"mean\", \"max\"])"
   ],
   "metadata": {
    "collapsed": false,
    "ExecuteTime": {
     "end_time": "2023-11-02T10:38:38.774298700Z",
     "start_time": "2023-11-02T10:38:38.701681400Z"
    }
   },
   "id": "ed355b1aae7bd61d"
  },
  {
   "cell_type": "code",
   "execution_count": 95,
   "outputs": [
    {
     "data": {
      "text/plain": "               count          mean          std      min       25%      50%  \\\nmake                                                                          \nalfa-romero      3.0  15498.333333  1734.937559  13495.0  14997.50  16500.0   \naudi             6.0  17859.166667  3452.379493  13950.0  15800.00  17580.0   \nbmw              8.0  26118.750000  9263.832033  16430.0  19958.75  22835.0   \nchevrolet        3.0   6007.000000   754.421633   5151.0   5723.00   6295.0   \ndodge            9.0   7875.444444  2213.386044   5572.0   6377.00   7609.0   \nhonda           13.0   8184.692308  2061.672112   5399.0   6855.00   7295.0   \nisuzu            2.0   8916.500000  3014.396208   6785.0   7850.75   8916.5   \njaguar           3.0  34600.000000  2047.559523  32250.0  33900.00  35550.0   \nmazda           17.0  10652.882353  3975.682094   5195.0   7395.00  10595.0   \nmercedes-benz    8.0  33647.000000  6789.560306  25552.0  28230.00  32892.0   \nmercury          1.0  16503.000000          NaN  16503.0  16503.00  16503.0   \nmitsubishi      13.0   9239.769231  3042.998690   5389.0   6989.00   8499.0   \nnissan          18.0  10415.666667  4477.394200   5499.0   7311.50   8124.0   \npeugot          11.0  15489.090909  2246.749673  11900.0  13530.00  16630.0   \nplymouth         7.0   7963.428571  2395.544257   5572.0   6460.50   7609.0   \nporsche          4.0  31400.500000  6528.784343  22018.0  29900.50  33278.0   \nrenault          2.0   9595.000000   424.264069   9295.0   9445.00   9595.0   \nsaab             6.0  15223.333333  2860.794761  11850.0  12887.50  15275.0   \nsubaru          12.0   8541.250000  1940.191468   5118.0   7378.75   7894.0   \ntoyota          32.0   9885.812500  3204.982114   5348.0   7870.50   9103.0   \nvolkswagen      12.0  10077.500000  2178.549872   7775.0   8145.00   9737.5   \nvolvo           11.0  18063.181818  3314.650263  12940.0  16250.00  18420.0   \n\n                    75%      max  \nmake                              \nalfa-romero    16500.00  16500.0  \naudi           18617.50  23875.0  \nbmw            32290.00  41315.0  \nchevrolet       6435.00   6575.0  \ndodge           8558.00  12964.0  \nhonda           9095.00  12945.0  \nisuzu           9982.25  11048.0  \njaguar         35775.00  36000.0  \nmazda          11845.00  18344.0  \nmercedes-benz  36532.00  45400.0  \nmercury        16503.00  16503.0  \nmitsubishi      9959.00  14869.0  \nnissan         13499.00  19699.0  \npeugot         16987.50  18150.0  \nplymouth        8439.00  12764.0  \nporsche        34778.00  37028.0  \nrenault         9745.00   9895.0  \nsaab           17490.00  18620.0  \nsubaru         10019.50  11694.0  \ntoyota         10973.25  17669.0  \nvolkswagen     11768.75  13845.0  \nvolvo          20265.00  22625.0  ",
      "text/html": "<div>\n<style scoped>\n    .dataframe tbody tr th:only-of-type {\n        vertical-align: middle;\n    }\n\n    .dataframe tbody tr th {\n        vertical-align: top;\n    }\n\n    .dataframe thead th {\n        text-align: right;\n    }\n</style>\n<table border=\"1\" class=\"dataframe\">\n  <thead>\n    <tr style=\"text-align: right;\">\n      <th></th>\n      <th>count</th>\n      <th>mean</th>\n      <th>std</th>\n      <th>min</th>\n      <th>25%</th>\n      <th>50%</th>\n      <th>75%</th>\n      <th>max</th>\n    </tr>\n    <tr>\n      <th>make</th>\n      <th></th>\n      <th></th>\n      <th></th>\n      <th></th>\n      <th></th>\n      <th></th>\n      <th></th>\n      <th></th>\n    </tr>\n  </thead>\n  <tbody>\n    <tr>\n      <th>alfa-romero</th>\n      <td>3.0</td>\n      <td>15498.333333</td>\n      <td>1734.937559</td>\n      <td>13495.0</td>\n      <td>14997.50</td>\n      <td>16500.0</td>\n      <td>16500.00</td>\n      <td>16500.0</td>\n    </tr>\n    <tr>\n      <th>audi</th>\n      <td>6.0</td>\n      <td>17859.166667</td>\n      <td>3452.379493</td>\n      <td>13950.0</td>\n      <td>15800.00</td>\n      <td>17580.0</td>\n      <td>18617.50</td>\n      <td>23875.0</td>\n    </tr>\n    <tr>\n      <th>bmw</th>\n      <td>8.0</td>\n      <td>26118.750000</td>\n      <td>9263.832033</td>\n      <td>16430.0</td>\n      <td>19958.75</td>\n      <td>22835.0</td>\n      <td>32290.00</td>\n      <td>41315.0</td>\n    </tr>\n    <tr>\n      <th>chevrolet</th>\n      <td>3.0</td>\n      <td>6007.000000</td>\n      <td>754.421633</td>\n      <td>5151.0</td>\n      <td>5723.00</td>\n      <td>6295.0</td>\n      <td>6435.00</td>\n      <td>6575.0</td>\n    </tr>\n    <tr>\n      <th>dodge</th>\n      <td>9.0</td>\n      <td>7875.444444</td>\n      <td>2213.386044</td>\n      <td>5572.0</td>\n      <td>6377.00</td>\n      <td>7609.0</td>\n      <td>8558.00</td>\n      <td>12964.0</td>\n    </tr>\n    <tr>\n      <th>honda</th>\n      <td>13.0</td>\n      <td>8184.692308</td>\n      <td>2061.672112</td>\n      <td>5399.0</td>\n      <td>6855.00</td>\n      <td>7295.0</td>\n      <td>9095.00</td>\n      <td>12945.0</td>\n    </tr>\n    <tr>\n      <th>isuzu</th>\n      <td>2.0</td>\n      <td>8916.500000</td>\n      <td>3014.396208</td>\n      <td>6785.0</td>\n      <td>7850.75</td>\n      <td>8916.5</td>\n      <td>9982.25</td>\n      <td>11048.0</td>\n    </tr>\n    <tr>\n      <th>jaguar</th>\n      <td>3.0</td>\n      <td>34600.000000</td>\n      <td>2047.559523</td>\n      <td>32250.0</td>\n      <td>33900.00</td>\n      <td>35550.0</td>\n      <td>35775.00</td>\n      <td>36000.0</td>\n    </tr>\n    <tr>\n      <th>mazda</th>\n      <td>17.0</td>\n      <td>10652.882353</td>\n      <td>3975.682094</td>\n      <td>5195.0</td>\n      <td>7395.00</td>\n      <td>10595.0</td>\n      <td>11845.00</td>\n      <td>18344.0</td>\n    </tr>\n    <tr>\n      <th>mercedes-benz</th>\n      <td>8.0</td>\n      <td>33647.000000</td>\n      <td>6789.560306</td>\n      <td>25552.0</td>\n      <td>28230.00</td>\n      <td>32892.0</td>\n      <td>36532.00</td>\n      <td>45400.0</td>\n    </tr>\n    <tr>\n      <th>mercury</th>\n      <td>1.0</td>\n      <td>16503.000000</td>\n      <td>NaN</td>\n      <td>16503.0</td>\n      <td>16503.00</td>\n      <td>16503.0</td>\n      <td>16503.00</td>\n      <td>16503.0</td>\n    </tr>\n    <tr>\n      <th>mitsubishi</th>\n      <td>13.0</td>\n      <td>9239.769231</td>\n      <td>3042.998690</td>\n      <td>5389.0</td>\n      <td>6989.00</td>\n      <td>8499.0</td>\n      <td>9959.00</td>\n      <td>14869.0</td>\n    </tr>\n    <tr>\n      <th>nissan</th>\n      <td>18.0</td>\n      <td>10415.666667</td>\n      <td>4477.394200</td>\n      <td>5499.0</td>\n      <td>7311.50</td>\n      <td>8124.0</td>\n      <td>13499.00</td>\n      <td>19699.0</td>\n    </tr>\n    <tr>\n      <th>peugot</th>\n      <td>11.0</td>\n      <td>15489.090909</td>\n      <td>2246.749673</td>\n      <td>11900.0</td>\n      <td>13530.00</td>\n      <td>16630.0</td>\n      <td>16987.50</td>\n      <td>18150.0</td>\n    </tr>\n    <tr>\n      <th>plymouth</th>\n      <td>7.0</td>\n      <td>7963.428571</td>\n      <td>2395.544257</td>\n      <td>5572.0</td>\n      <td>6460.50</td>\n      <td>7609.0</td>\n      <td>8439.00</td>\n      <td>12764.0</td>\n    </tr>\n    <tr>\n      <th>porsche</th>\n      <td>4.0</td>\n      <td>31400.500000</td>\n      <td>6528.784343</td>\n      <td>22018.0</td>\n      <td>29900.50</td>\n      <td>33278.0</td>\n      <td>34778.00</td>\n      <td>37028.0</td>\n    </tr>\n    <tr>\n      <th>renault</th>\n      <td>2.0</td>\n      <td>9595.000000</td>\n      <td>424.264069</td>\n      <td>9295.0</td>\n      <td>9445.00</td>\n      <td>9595.0</td>\n      <td>9745.00</td>\n      <td>9895.0</td>\n    </tr>\n    <tr>\n      <th>saab</th>\n      <td>6.0</td>\n      <td>15223.333333</td>\n      <td>2860.794761</td>\n      <td>11850.0</td>\n      <td>12887.50</td>\n      <td>15275.0</td>\n      <td>17490.00</td>\n      <td>18620.0</td>\n    </tr>\n    <tr>\n      <th>subaru</th>\n      <td>12.0</td>\n      <td>8541.250000</td>\n      <td>1940.191468</td>\n      <td>5118.0</td>\n      <td>7378.75</td>\n      <td>7894.0</td>\n      <td>10019.50</td>\n      <td>11694.0</td>\n    </tr>\n    <tr>\n      <th>toyota</th>\n      <td>32.0</td>\n      <td>9885.812500</td>\n      <td>3204.982114</td>\n      <td>5348.0</td>\n      <td>7870.50</td>\n      <td>9103.0</td>\n      <td>10973.25</td>\n      <td>17669.0</td>\n    </tr>\n    <tr>\n      <th>volkswagen</th>\n      <td>12.0</td>\n      <td>10077.500000</td>\n      <td>2178.549872</td>\n      <td>7775.0</td>\n      <td>8145.00</td>\n      <td>9737.5</td>\n      <td>11768.75</td>\n      <td>13845.0</td>\n    </tr>\n    <tr>\n      <th>volvo</th>\n      <td>11.0</td>\n      <td>18063.181818</td>\n      <td>3314.650263</td>\n      <td>12940.0</td>\n      <td>16250.00</td>\n      <td>18420.0</td>\n      <td>20265.00</td>\n      <td>22625.0</td>\n    </tr>\n  </tbody>\n</table>\n</div>"
     },
     "execution_count": 95,
     "metadata": {},
     "output_type": "execute_result"
    }
   ],
   "source": [
    "autos.groupby(\"make\")[\"price\"].describe()"
   ],
   "metadata": {
    "collapsed": false,
    "ExecuteTime": {
     "end_time": "2023-11-02T10:40:04.572188900Z",
     "start_time": "2023-11-02T10:40:04.426130100Z"
    }
   },
   "id": "4978ff13af769566"
  },
  {
   "cell_type": "code",
   "execution_count": 96,
   "outputs": [
    {
     "data": {
      "text/plain": "make    alfa-romero          audi           bmw    chevrolet         dodge  \\\ncount      3.000000      6.000000      8.000000     3.000000      9.000000   \nmean   15498.333333  17859.166667  26118.750000  6007.000000   7875.444444   \nstd     1734.937559   3452.379493   9263.832033   754.421633   2213.386044   \nmin    13495.000000  13950.000000  16430.000000  5151.000000   5572.000000   \n25%    14997.500000  15800.000000  19958.750000  5723.000000   6377.000000   \n50%    16500.000000  17580.000000  22835.000000  6295.000000   7609.000000   \n75%    16500.000000  18617.500000  32290.000000  6435.000000   8558.000000   \nmax    16500.000000  23875.000000  41315.000000  6575.000000  12964.000000   \n\nmake          honda         isuzu        jaguar         mazda  mercedes-benz  \\\ncount     13.000000      2.000000      3.000000     17.000000       8.000000   \nmean    8184.692308   8916.500000  34600.000000  10652.882353   33647.000000   \nstd     2061.672112   3014.396208   2047.559523   3975.682094    6789.560306   \nmin     5399.000000   6785.000000  32250.000000   5195.000000   25552.000000   \n25%     6855.000000   7850.750000  33900.000000   7395.000000   28230.000000   \n50%     7295.000000   8916.500000  35550.000000  10595.000000   32892.000000   \n75%     9095.000000   9982.250000  35775.000000  11845.000000   36532.000000   \nmax    12945.000000  11048.000000  36000.000000  18344.000000   45400.000000   \n\nmake   ...        nissan        peugot      plymouth       porsche  \\\ncount  ...     18.000000     11.000000      7.000000      4.000000   \nmean   ...  10415.666667  15489.090909   7963.428571  31400.500000   \nstd    ...   4477.394200   2246.749673   2395.544257   6528.784343   \nmin    ...   5499.000000  11900.000000   5572.000000  22018.000000   \n25%    ...   7311.500000  13530.000000   6460.500000  29900.500000   \n50%    ...   8124.000000  16630.000000   7609.000000  33278.000000   \n75%    ...  13499.000000  16987.500000   8439.000000  34778.000000   \nmax    ...  19699.000000  18150.000000  12764.000000  37028.000000   \n\nmake       renault          saab        subaru        toyota    volkswagen  \\\ncount     2.000000      6.000000     12.000000     32.000000     12.000000   \nmean   9595.000000  15223.333333   8541.250000   9885.812500  10077.500000   \nstd     424.264069   2860.794761   1940.191468   3204.982114   2178.549872   \nmin    9295.000000  11850.000000   5118.000000   5348.000000   7775.000000   \n25%    9445.000000  12887.500000   7378.750000   7870.500000   8145.000000   \n50%    9595.000000  15275.000000   7894.000000   9103.000000   9737.500000   \n75%    9745.000000  17490.000000  10019.500000  10973.250000  11768.750000   \nmax    9895.000000  18620.000000  11694.000000  17669.000000  13845.000000   \n\nmake          volvo  \ncount     11.000000  \nmean   18063.181818  \nstd     3314.650263  \nmin    12940.000000  \n25%    16250.000000  \n50%    18420.000000  \n75%    20265.000000  \nmax    22625.000000  \n\n[8 rows x 22 columns]",
      "text/html": "<div>\n<style scoped>\n    .dataframe tbody tr th:only-of-type {\n        vertical-align: middle;\n    }\n\n    .dataframe tbody tr th {\n        vertical-align: top;\n    }\n\n    .dataframe thead th {\n        text-align: right;\n    }\n</style>\n<table border=\"1\" class=\"dataframe\">\n  <thead>\n    <tr style=\"text-align: right;\">\n      <th>make</th>\n      <th>alfa-romero</th>\n      <th>audi</th>\n      <th>bmw</th>\n      <th>chevrolet</th>\n      <th>dodge</th>\n      <th>honda</th>\n      <th>isuzu</th>\n      <th>jaguar</th>\n      <th>mazda</th>\n      <th>mercedes-benz</th>\n      <th>...</th>\n      <th>nissan</th>\n      <th>peugot</th>\n      <th>plymouth</th>\n      <th>porsche</th>\n      <th>renault</th>\n      <th>saab</th>\n      <th>subaru</th>\n      <th>toyota</th>\n      <th>volkswagen</th>\n      <th>volvo</th>\n    </tr>\n  </thead>\n  <tbody>\n    <tr>\n      <th>count</th>\n      <td>3.000000</td>\n      <td>6.000000</td>\n      <td>8.000000</td>\n      <td>3.000000</td>\n      <td>9.000000</td>\n      <td>13.000000</td>\n      <td>2.000000</td>\n      <td>3.000000</td>\n      <td>17.000000</td>\n      <td>8.000000</td>\n      <td>...</td>\n      <td>18.000000</td>\n      <td>11.000000</td>\n      <td>7.000000</td>\n      <td>4.000000</td>\n      <td>2.000000</td>\n      <td>6.000000</td>\n      <td>12.000000</td>\n      <td>32.000000</td>\n      <td>12.000000</td>\n      <td>11.000000</td>\n    </tr>\n    <tr>\n      <th>mean</th>\n      <td>15498.333333</td>\n      <td>17859.166667</td>\n      <td>26118.750000</td>\n      <td>6007.000000</td>\n      <td>7875.444444</td>\n      <td>8184.692308</td>\n      <td>8916.500000</td>\n      <td>34600.000000</td>\n      <td>10652.882353</td>\n      <td>33647.000000</td>\n      <td>...</td>\n      <td>10415.666667</td>\n      <td>15489.090909</td>\n      <td>7963.428571</td>\n      <td>31400.500000</td>\n      <td>9595.000000</td>\n      <td>15223.333333</td>\n      <td>8541.250000</td>\n      <td>9885.812500</td>\n      <td>10077.500000</td>\n      <td>18063.181818</td>\n    </tr>\n    <tr>\n      <th>std</th>\n      <td>1734.937559</td>\n      <td>3452.379493</td>\n      <td>9263.832033</td>\n      <td>754.421633</td>\n      <td>2213.386044</td>\n      <td>2061.672112</td>\n      <td>3014.396208</td>\n      <td>2047.559523</td>\n      <td>3975.682094</td>\n      <td>6789.560306</td>\n      <td>...</td>\n      <td>4477.394200</td>\n      <td>2246.749673</td>\n      <td>2395.544257</td>\n      <td>6528.784343</td>\n      <td>424.264069</td>\n      <td>2860.794761</td>\n      <td>1940.191468</td>\n      <td>3204.982114</td>\n      <td>2178.549872</td>\n      <td>3314.650263</td>\n    </tr>\n    <tr>\n      <th>min</th>\n      <td>13495.000000</td>\n      <td>13950.000000</td>\n      <td>16430.000000</td>\n      <td>5151.000000</td>\n      <td>5572.000000</td>\n      <td>5399.000000</td>\n      <td>6785.000000</td>\n      <td>32250.000000</td>\n      <td>5195.000000</td>\n      <td>25552.000000</td>\n      <td>...</td>\n      <td>5499.000000</td>\n      <td>11900.000000</td>\n      <td>5572.000000</td>\n      <td>22018.000000</td>\n      <td>9295.000000</td>\n      <td>11850.000000</td>\n      <td>5118.000000</td>\n      <td>5348.000000</td>\n      <td>7775.000000</td>\n      <td>12940.000000</td>\n    </tr>\n    <tr>\n      <th>25%</th>\n      <td>14997.500000</td>\n      <td>15800.000000</td>\n      <td>19958.750000</td>\n      <td>5723.000000</td>\n      <td>6377.000000</td>\n      <td>6855.000000</td>\n      <td>7850.750000</td>\n      <td>33900.000000</td>\n      <td>7395.000000</td>\n      <td>28230.000000</td>\n      <td>...</td>\n      <td>7311.500000</td>\n      <td>13530.000000</td>\n      <td>6460.500000</td>\n      <td>29900.500000</td>\n      <td>9445.000000</td>\n      <td>12887.500000</td>\n      <td>7378.750000</td>\n      <td>7870.500000</td>\n      <td>8145.000000</td>\n      <td>16250.000000</td>\n    </tr>\n    <tr>\n      <th>50%</th>\n      <td>16500.000000</td>\n      <td>17580.000000</td>\n      <td>22835.000000</td>\n      <td>6295.000000</td>\n      <td>7609.000000</td>\n      <td>7295.000000</td>\n      <td>8916.500000</td>\n      <td>35550.000000</td>\n      <td>10595.000000</td>\n      <td>32892.000000</td>\n      <td>...</td>\n      <td>8124.000000</td>\n      <td>16630.000000</td>\n      <td>7609.000000</td>\n      <td>33278.000000</td>\n      <td>9595.000000</td>\n      <td>15275.000000</td>\n      <td>7894.000000</td>\n      <td>9103.000000</td>\n      <td>9737.500000</td>\n      <td>18420.000000</td>\n    </tr>\n    <tr>\n      <th>75%</th>\n      <td>16500.000000</td>\n      <td>18617.500000</td>\n      <td>32290.000000</td>\n      <td>6435.000000</td>\n      <td>8558.000000</td>\n      <td>9095.000000</td>\n      <td>9982.250000</td>\n      <td>35775.000000</td>\n      <td>11845.000000</td>\n      <td>36532.000000</td>\n      <td>...</td>\n      <td>13499.000000</td>\n      <td>16987.500000</td>\n      <td>8439.000000</td>\n      <td>34778.000000</td>\n      <td>9745.000000</td>\n      <td>17490.000000</td>\n      <td>10019.500000</td>\n      <td>10973.250000</td>\n      <td>11768.750000</td>\n      <td>20265.000000</td>\n    </tr>\n    <tr>\n      <th>max</th>\n      <td>16500.000000</td>\n      <td>23875.000000</td>\n      <td>41315.000000</td>\n      <td>6575.000000</td>\n      <td>12964.000000</td>\n      <td>12945.000000</td>\n      <td>11048.000000</td>\n      <td>36000.000000</td>\n      <td>18344.000000</td>\n      <td>45400.000000</td>\n      <td>...</td>\n      <td>19699.000000</td>\n      <td>18150.000000</td>\n      <td>12764.000000</td>\n      <td>37028.000000</td>\n      <td>9895.000000</td>\n      <td>18620.000000</td>\n      <td>11694.000000</td>\n      <td>17669.000000</td>\n      <td>13845.000000</td>\n      <td>22625.000000</td>\n    </tr>\n  </tbody>\n</table>\n<p>8 rows × 22 columns</p>\n</div>"
     },
     "execution_count": 96,
     "metadata": {},
     "output_type": "execute_result"
    }
   ],
   "source": [
    "autos.groupby(\"make\")[\"price\"].describe().transpose()"
   ],
   "metadata": {
    "collapsed": false,
    "ExecuteTime": {
     "end_time": "2023-11-02T10:40:12.416057600Z",
     "start_time": "2023-11-02T10:40:12.319931Z"
    }
   },
   "id": "9ef8f13476cb49dd"
  },
  {
   "cell_type": "markdown",
   "source": [
    "### Multiple aggregation on DataFrameGroupBy\n",
    "Using pandas .agg() method on a DataFrameGroupBy to do multipöe aggregations on multiple features will return a multi-index column dataframe."
   ],
   "metadata": {
    "collapsed": false
   },
   "id": "55cf979153207fd4"
  },
  {
   "cell_type": "code",
   "execution_count": 98,
   "outputs": [
    {
     "data": {
      "text/plain": "            length                    width                  height  \\\n               min        mean    max   min       mean   max    min   \nmake                                                                  \nalfa-romero  168.8  169.600000  171.2  64.1  64.566667  65.5   48.8   \naudi         176.6  183.828571  192.7  66.2  68.714286  71.4   52.0   \nbmw          176.8  184.500000  197.0  64.8  66.475000  70.9   53.7   \n\n                              \n                  mean   max  \nmake                          \nalfa-romero  50.000000  52.4  \naudi         54.428571  55.9  \nbmw          54.825000  56.3  ",
      "text/html": "<div>\n<style scoped>\n    .dataframe tbody tr th:only-of-type {\n        vertical-align: middle;\n    }\n\n    .dataframe tbody tr th {\n        vertical-align: top;\n    }\n\n    .dataframe thead tr th {\n        text-align: left;\n    }\n\n    .dataframe thead tr:last-of-type th {\n        text-align: right;\n    }\n</style>\n<table border=\"1\" class=\"dataframe\">\n  <thead>\n    <tr>\n      <th></th>\n      <th colspan=\"3\" halign=\"left\">length</th>\n      <th colspan=\"3\" halign=\"left\">width</th>\n      <th colspan=\"3\" halign=\"left\">height</th>\n    </tr>\n    <tr>\n      <th></th>\n      <th>min</th>\n      <th>mean</th>\n      <th>max</th>\n      <th>min</th>\n      <th>mean</th>\n      <th>max</th>\n      <th>min</th>\n      <th>mean</th>\n      <th>max</th>\n    </tr>\n    <tr>\n      <th>make</th>\n      <th></th>\n      <th></th>\n      <th></th>\n      <th></th>\n      <th></th>\n      <th></th>\n      <th></th>\n      <th></th>\n      <th></th>\n    </tr>\n  </thead>\n  <tbody>\n    <tr>\n      <th>alfa-romero</th>\n      <td>168.8</td>\n      <td>169.600000</td>\n      <td>171.2</td>\n      <td>64.1</td>\n      <td>64.566667</td>\n      <td>65.5</td>\n      <td>48.8</td>\n      <td>50.000000</td>\n      <td>52.4</td>\n    </tr>\n    <tr>\n      <th>audi</th>\n      <td>176.6</td>\n      <td>183.828571</td>\n      <td>192.7</td>\n      <td>66.2</td>\n      <td>68.714286</td>\n      <td>71.4</td>\n      <td>52.0</td>\n      <td>54.428571</td>\n      <td>55.9</td>\n    </tr>\n    <tr>\n      <th>bmw</th>\n      <td>176.8</td>\n      <td>184.500000</td>\n      <td>197.0</td>\n      <td>64.8</td>\n      <td>66.475000</td>\n      <td>70.9</td>\n      <td>53.7</td>\n      <td>54.825000</td>\n      <td>56.3</td>\n    </tr>\n  </tbody>\n</table>\n</div>"
     },
     "execution_count": 98,
     "metadata": {},
     "output_type": "execute_result"
    }
   ],
   "source": [
    "makes[[\"length\", \"width\", \"height\"]].agg([\"min\", \"mean\", \"max\"]).head(3)"
   ],
   "metadata": {
    "collapsed": false,
    "ExecuteTime": {
     "end_time": "2023-11-02T10:45:42.344277800Z",
     "start_time": "2023-11-02T10:45:42.297798400Z"
    }
   },
   "id": "e6b3dd489085fc95"
  },
  {
   "cell_type": "markdown",
   "source": [
    "### Custom columns aggregation"
   ],
   "metadata": {
    "collapsed": false
   },
   "id": "1e132a488405b14c"
  },
  {
   "cell_type": "code",
   "execution_count": 100,
   "outputs": [
    {
     "data": {
      "text/plain": "                    price  horsepower\nmake                                 \nalfa-romero  15498.333333       154.0\naudi         17859.166667       160.0\nbmw          26118.750000       182.0",
      "text/html": "<div>\n<style scoped>\n    .dataframe tbody tr th:only-of-type {\n        vertical-align: middle;\n    }\n\n    .dataframe tbody tr th {\n        vertical-align: top;\n    }\n\n    .dataframe thead th {\n        text-align: right;\n    }\n</style>\n<table border=\"1\" class=\"dataframe\">\n  <thead>\n    <tr style=\"text-align: right;\">\n      <th></th>\n      <th>price</th>\n      <th>horsepower</th>\n    </tr>\n    <tr>\n      <th>make</th>\n      <th></th>\n      <th></th>\n    </tr>\n  </thead>\n  <tbody>\n    <tr>\n      <th>alfa-romero</th>\n      <td>15498.333333</td>\n      <td>154.0</td>\n    </tr>\n    <tr>\n      <th>audi</th>\n      <td>17859.166667</td>\n      <td>160.0</td>\n    </tr>\n    <tr>\n      <th>bmw</th>\n      <td>26118.750000</td>\n      <td>182.0</td>\n    </tr>\n  </tbody>\n</table>\n</div>"
     },
     "execution_count": 100,
     "metadata": {},
     "output_type": "execute_result"
    }
   ],
   "source": [
    "autos.groupby(\"make\").agg({\"price\": \"mean\", \"horsepower\": \"max\"}).head(3)"
   ],
   "metadata": {
    "collapsed": false,
    "ExecuteTime": {
     "end_time": "2023-11-02T10:48:04.644417700Z",
     "start_time": "2023-11-02T10:48:04.529684Z"
    }
   },
   "id": "e2a63fd23380ea16"
  },
  {
   "cell_type": "code",
   "execution_count": 104,
   "outputs": [
    {
     "data": {
      "text/plain": "             average_price  min_horsepower  max_horsepower\nmake                                                      \nalfa-romero   15498.333333           111.0           154.0\naudi          17859.166667           102.0           160.0\nbmw           26118.750000           101.0           182.0",
      "text/html": "<div>\n<style scoped>\n    .dataframe tbody tr th:only-of-type {\n        vertical-align: middle;\n    }\n\n    .dataframe tbody tr th {\n        vertical-align: top;\n    }\n\n    .dataframe thead th {\n        text-align: right;\n    }\n</style>\n<table border=\"1\" class=\"dataframe\">\n  <thead>\n    <tr style=\"text-align: right;\">\n      <th></th>\n      <th>average_price</th>\n      <th>min_horsepower</th>\n      <th>max_horsepower</th>\n    </tr>\n    <tr>\n      <th>make</th>\n      <th></th>\n      <th></th>\n      <th></th>\n    </tr>\n  </thead>\n  <tbody>\n    <tr>\n      <th>alfa-romero</th>\n      <td>15498.333333</td>\n      <td>111.0</td>\n      <td>154.0</td>\n    </tr>\n    <tr>\n      <th>audi</th>\n      <td>17859.166667</td>\n      <td>102.0</td>\n      <td>160.0</td>\n    </tr>\n    <tr>\n      <th>bmw</th>\n      <td>26118.750000</td>\n      <td>101.0</td>\n      <td>182.0</td>\n    </tr>\n  </tbody>\n</table>\n</div>"
     },
     "execution_count": 104,
     "metadata": {},
     "output_type": "execute_result"
    }
   ],
   "source": [
    "autos.groupby(\"make\").agg(\n",
    "    average_price = pd.NamedAgg(column=\"price\", aggfunc=\"mean\"),\n",
    "    min_horsepower = pd.NamedAgg(column=\"horsepower\", aggfunc=\"min\"),\n",
    "    max_horsepower = pd.NamedAgg(column=\"horsepower\", aggfunc=\"max\")\n",
    ").head(3)"
   ],
   "metadata": {
    "collapsed": false,
    "ExecuteTime": {
     "end_time": "2023-11-02T10:51:16.735368600Z",
     "start_time": "2023-11-02T10:51:16.704528100Z"
    }
   },
   "id": "3ac0394f7ef24e43"
  },
  {
   "cell_type": "code",
   "execution_count": null,
   "outputs": [],
   "source": [],
   "metadata": {
    "collapsed": false
   },
   "id": "eaeab4675b4cd69"
  }
 ],
 "metadata": {
  "kernelspec": {
   "display_name": "Python 3",
   "language": "python",
   "name": "python3"
  },
  "language_info": {
   "codemirror_mode": {
    "name": "ipython",
    "version": 2
   },
   "file_extension": ".py",
   "mimetype": "text/x-python",
   "name": "python",
   "nbconvert_exporter": "python",
   "pygments_lexer": "ipython2",
   "version": "2.7.6"
  }
 },
 "nbformat": 4,
 "nbformat_minor": 5
}
