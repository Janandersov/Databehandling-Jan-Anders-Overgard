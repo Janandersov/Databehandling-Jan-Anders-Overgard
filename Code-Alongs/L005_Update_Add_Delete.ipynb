{
 "cells": [
  {
   "cell_type": "markdown",
   "source": [
    "### Update cells using loc or iloc\n",
    "One or multiple cells can be set to a new value using lov or iloc.\n",
    "- **df.iloc[:] = 0** sets *all* cells to 0\n",
    "- **df.iloc[0:0] = 0** sets  cell 0,0 to 0"
   ],
   "metadata": {
    "collapsed": false
   },
   "id": "8087ea9ed8c475a3"
  },
  {
   "cell_type": "code",
   "execution_count": 1,
   "outputs": [],
   "source": [
    "import pandas as pd"
   ],
   "metadata": {
    "collapsed": false,
    "ExecuteTime": {
     "end_time": "2023-10-26T11:06:52.609946800Z",
     "start_time": "2023-10-26T11:06:51.906568900Z"
    }
   },
   "id": "bd06a645f8d5acb5"
  },
  {
   "cell_type": "code",
   "execution_count": 2,
   "outputs": [],
   "source": [
    "column_values = [f\"Column{i}\" for i in range(1, 5)]\n",
    "index_values = [chr(i) for i in range(65, 72)]\n",
    "\n",
    "df = pd.DataFrame([[f\"{ind}{col}\" for col in range(1,5)] for ind in index_values],\n",
    "                  index=index_values, columns=column_values)"
   ],
   "metadata": {
    "collapsed": false,
    "ExecuteTime": {
     "end_time": "2023-10-26T11:07:55.318825600Z",
     "start_time": "2023-10-26T11:07:55.265064200Z"
    }
   },
   "id": "41fb16645ca2c11e"
  },
  {
   "cell_type": "code",
   "execution_count": 3,
   "outputs": [],
   "source": [
    "copy = df.copy()"
   ],
   "metadata": {
    "collapsed": false,
    "ExecuteTime": {
     "end_time": "2023-10-26T11:08:16.491499900Z",
     "start_time": "2023-10-26T11:08:16.453677600Z"
    }
   },
   "id": "cc08bea08fae6d2b"
  },
  {
   "cell_type": "code",
   "execution_count": 5,
   "outputs": [
    {
     "data": {
      "text/plain": "  Column1 Column2 Column3 Column4\nA      A1      A2      A3      A4\nB      B1      B2      B3      B4\nC      C1      C2      C3      C4\nD      D1      D2      D3      D4\nE      E1      E2      E3      E4\nF      F1      F2      F3      F4\nG      G1      G2      G3      G4",
      "text/html": "<div>\n<style scoped>\n    .dataframe tbody tr th:only-of-type {\n        vertical-align: middle;\n    }\n\n    .dataframe tbody tr th {\n        vertical-align: top;\n    }\n\n    .dataframe thead th {\n        text-align: right;\n    }\n</style>\n<table border=\"1\" class=\"dataframe\">\n  <thead>\n    <tr style=\"text-align: right;\">\n      <th></th>\n      <th>Column1</th>\n      <th>Column2</th>\n      <th>Column3</th>\n      <th>Column4</th>\n    </tr>\n  </thead>\n  <tbody>\n    <tr>\n      <th>A</th>\n      <td>A1</td>\n      <td>A2</td>\n      <td>A3</td>\n      <td>A4</td>\n    </tr>\n    <tr>\n      <th>B</th>\n      <td>B1</td>\n      <td>B2</td>\n      <td>B3</td>\n      <td>B4</td>\n    </tr>\n    <tr>\n      <th>C</th>\n      <td>C1</td>\n      <td>C2</td>\n      <td>C3</td>\n      <td>C4</td>\n    </tr>\n    <tr>\n      <th>D</th>\n      <td>D1</td>\n      <td>D2</td>\n      <td>D3</td>\n      <td>D4</td>\n    </tr>\n    <tr>\n      <th>E</th>\n      <td>E1</td>\n      <td>E2</td>\n      <td>E3</td>\n      <td>E4</td>\n    </tr>\n    <tr>\n      <th>F</th>\n      <td>F1</td>\n      <td>F2</td>\n      <td>F3</td>\n      <td>F4</td>\n    </tr>\n    <tr>\n      <th>G</th>\n      <td>G1</td>\n      <td>G2</td>\n      <td>G3</td>\n      <td>G4</td>\n    </tr>\n  </tbody>\n</table>\n</div>"
     },
     "execution_count": 5,
     "metadata": {},
     "output_type": "execute_result"
    }
   ],
   "source": [
    "copy"
   ],
   "metadata": {
    "collapsed": false,
    "ExecuteTime": {
     "end_time": "2023-10-26T11:08:51.729058600Z",
     "start_time": "2023-10-26T11:08:51.707547500Z"
    }
   },
   "id": "4a18d25bde0d6a8e"
  },
  {
   "cell_type": "code",
   "execution_count": 6,
   "outputs": [
    {
     "data": {
      "text/plain": "'B3'"
     },
     "execution_count": 6,
     "metadata": {},
     "output_type": "execute_result"
    }
   ],
   "source": [
    "copy.iloc[1,2]"
   ],
   "metadata": {
    "collapsed": false,
    "ExecuteTime": {
     "end_time": "2023-10-26T11:09:07.332431500Z",
     "start_time": "2023-10-26T11:09:07.280872600Z"
    }
   },
   "id": "1ac075fc37efc0a8"
  },
  {
   "cell_type": "code",
   "execution_count": 7,
   "outputs": [],
   "source": [
    "copy.iloc[1,2] = \"XX\""
   ],
   "metadata": {
    "collapsed": false,
    "ExecuteTime": {
     "end_time": "2023-10-26T11:09:27.470879300Z",
     "start_time": "2023-10-26T11:09:27.435183200Z"
    }
   },
   "id": "8f3be62380c57a8b"
  },
  {
   "cell_type": "code",
   "execution_count": 8,
   "outputs": [
    {
     "data": {
      "text/plain": "  Column1 Column2 Column3 Column4\nA      A1      A2      A3      A4\nB      B1      B2      XX      B4\nC      C1      C2      C3      C4\nD      D1      D2      D3      D4\nE      E1      E2      E3      E4\nF      F1      F2      F3      F4\nG      G1      G2      G3      G4",
      "text/html": "<div>\n<style scoped>\n    .dataframe tbody tr th:only-of-type {\n        vertical-align: middle;\n    }\n\n    .dataframe tbody tr th {\n        vertical-align: top;\n    }\n\n    .dataframe thead th {\n        text-align: right;\n    }\n</style>\n<table border=\"1\" class=\"dataframe\">\n  <thead>\n    <tr style=\"text-align: right;\">\n      <th></th>\n      <th>Column1</th>\n      <th>Column2</th>\n      <th>Column3</th>\n      <th>Column4</th>\n    </tr>\n  </thead>\n  <tbody>\n    <tr>\n      <th>A</th>\n      <td>A1</td>\n      <td>A2</td>\n      <td>A3</td>\n      <td>A4</td>\n    </tr>\n    <tr>\n      <th>B</th>\n      <td>B1</td>\n      <td>B2</td>\n      <td>XX</td>\n      <td>B4</td>\n    </tr>\n    <tr>\n      <th>C</th>\n      <td>C1</td>\n      <td>C2</td>\n      <td>C3</td>\n      <td>C4</td>\n    </tr>\n    <tr>\n      <th>D</th>\n      <td>D1</td>\n      <td>D2</td>\n      <td>D3</td>\n      <td>D4</td>\n    </tr>\n    <tr>\n      <th>E</th>\n      <td>E1</td>\n      <td>E2</td>\n      <td>E3</td>\n      <td>E4</td>\n    </tr>\n    <tr>\n      <th>F</th>\n      <td>F1</td>\n      <td>F2</td>\n      <td>F3</td>\n      <td>F4</td>\n    </tr>\n    <tr>\n      <th>G</th>\n      <td>G1</td>\n      <td>G2</td>\n      <td>G3</td>\n      <td>G4</td>\n    </tr>\n  </tbody>\n</table>\n</div>"
     },
     "execution_count": 8,
     "metadata": {},
     "output_type": "execute_result"
    }
   ],
   "source": [
    "copy"
   ],
   "metadata": {
    "collapsed": false,
    "ExecuteTime": {
     "end_time": "2023-10-26T11:09:35.253195400Z",
     "start_time": "2023-10-26T11:09:35.199891900Z"
    }
   },
   "id": "eb68ec13da238c2"
  },
  {
   "cell_type": "code",
   "execution_count": 9,
   "outputs": [],
   "source": [
    "copy.iloc[0,:] = \"YY\""
   ],
   "metadata": {
    "collapsed": false,
    "ExecuteTime": {
     "end_time": "2023-10-26T11:10:04.255908200Z",
     "start_time": "2023-10-26T11:10:04.207541400Z"
    }
   },
   "id": "c7882bf4f4baf13"
  },
  {
   "cell_type": "code",
   "execution_count": 10,
   "outputs": [
    {
     "data": {
      "text/plain": "  Column1 Column2 Column3 Column4\nA      YY      YY      YY      YY\nB      B1      B2      XX      B4\nC      C1      C2      C3      C4\nD      D1      D2      D3      D4\nE      E1      E2      E3      E4\nF      F1      F2      F3      F4\nG      G1      G2      G3      G4",
      "text/html": "<div>\n<style scoped>\n    .dataframe tbody tr th:only-of-type {\n        vertical-align: middle;\n    }\n\n    .dataframe tbody tr th {\n        vertical-align: top;\n    }\n\n    .dataframe thead th {\n        text-align: right;\n    }\n</style>\n<table border=\"1\" class=\"dataframe\">\n  <thead>\n    <tr style=\"text-align: right;\">\n      <th></th>\n      <th>Column1</th>\n      <th>Column2</th>\n      <th>Column3</th>\n      <th>Column4</th>\n    </tr>\n  </thead>\n  <tbody>\n    <tr>\n      <th>A</th>\n      <td>YY</td>\n      <td>YY</td>\n      <td>YY</td>\n      <td>YY</td>\n    </tr>\n    <tr>\n      <th>B</th>\n      <td>B1</td>\n      <td>B2</td>\n      <td>XX</td>\n      <td>B4</td>\n    </tr>\n    <tr>\n      <th>C</th>\n      <td>C1</td>\n      <td>C2</td>\n      <td>C3</td>\n      <td>C4</td>\n    </tr>\n    <tr>\n      <th>D</th>\n      <td>D1</td>\n      <td>D2</td>\n      <td>D3</td>\n      <td>D4</td>\n    </tr>\n    <tr>\n      <th>E</th>\n      <td>E1</td>\n      <td>E2</td>\n      <td>E3</td>\n      <td>E4</td>\n    </tr>\n    <tr>\n      <th>F</th>\n      <td>F1</td>\n      <td>F2</td>\n      <td>F3</td>\n      <td>F4</td>\n    </tr>\n    <tr>\n      <th>G</th>\n      <td>G1</td>\n      <td>G2</td>\n      <td>G3</td>\n      <td>G4</td>\n    </tr>\n  </tbody>\n</table>\n</div>"
     },
     "execution_count": 10,
     "metadata": {},
     "output_type": "execute_result"
    }
   ],
   "source": [
    "copy"
   ],
   "metadata": {
    "collapsed": false,
    "ExecuteTime": {
     "end_time": "2023-10-26T11:10:10.054744600Z",
     "start_time": "2023-10-26T11:10:09.980777200Z"
    }
   },
   "id": "966d7d4a7a712e5"
  },
  {
   "cell_type": "code",
   "execution_count": 13,
   "outputs": [],
   "source": [
    "copy.loc[[\"C\", \"E\", \"G\"], [\"Column2\", \"Column4\"]] = \"ZZ\""
   ],
   "metadata": {
    "collapsed": false,
    "ExecuteTime": {
     "end_time": "2023-10-26T11:12:28.830640400Z",
     "start_time": "2023-10-26T11:12:28.806620Z"
    }
   },
   "id": "e6b177f2672b10df"
  },
  {
   "cell_type": "code",
   "execution_count": 14,
   "outputs": [
    {
     "data": {
      "text/plain": "  Column1 Column2 Column3 Column4\nA      YY      YY      YY      YY\nB      B1      B2      XX      B4\nC      C1      ZZ      C3      ZZ\nD      D1      D2      D3      D4\nE      E1      ZZ      E3      ZZ\nF      F1      F2      F3      F4\nG      G1      ZZ      G3      ZZ",
      "text/html": "<div>\n<style scoped>\n    .dataframe tbody tr th:only-of-type {\n        vertical-align: middle;\n    }\n\n    .dataframe tbody tr th {\n        vertical-align: top;\n    }\n\n    .dataframe thead th {\n        text-align: right;\n    }\n</style>\n<table border=\"1\" class=\"dataframe\">\n  <thead>\n    <tr style=\"text-align: right;\">\n      <th></th>\n      <th>Column1</th>\n      <th>Column2</th>\n      <th>Column3</th>\n      <th>Column4</th>\n    </tr>\n  </thead>\n  <tbody>\n    <tr>\n      <th>A</th>\n      <td>YY</td>\n      <td>YY</td>\n      <td>YY</td>\n      <td>YY</td>\n    </tr>\n    <tr>\n      <th>B</th>\n      <td>B1</td>\n      <td>B2</td>\n      <td>XX</td>\n      <td>B4</td>\n    </tr>\n    <tr>\n      <th>C</th>\n      <td>C1</td>\n      <td>ZZ</td>\n      <td>C3</td>\n      <td>ZZ</td>\n    </tr>\n    <tr>\n      <th>D</th>\n      <td>D1</td>\n      <td>D2</td>\n      <td>D3</td>\n      <td>D4</td>\n    </tr>\n    <tr>\n      <th>E</th>\n      <td>E1</td>\n      <td>ZZ</td>\n      <td>E3</td>\n      <td>ZZ</td>\n    </tr>\n    <tr>\n      <th>F</th>\n      <td>F1</td>\n      <td>F2</td>\n      <td>F3</td>\n      <td>F4</td>\n    </tr>\n    <tr>\n      <th>G</th>\n      <td>G1</td>\n      <td>ZZ</td>\n      <td>G3</td>\n      <td>ZZ</td>\n    </tr>\n  </tbody>\n</table>\n</div>"
     },
     "execution_count": 14,
     "metadata": {},
     "output_type": "execute_result"
    }
   ],
   "source": [
    "copy"
   ],
   "metadata": {
    "collapsed": false,
    "ExecuteTime": {
     "end_time": "2023-10-26T11:12:33.338276300Z",
     "start_time": "2023-10-26T11:12:33.282124500Z"
    }
   },
   "id": "8975064710d0571e"
  },
  {
   "cell_type": "code",
   "execution_count": 15,
   "outputs": [],
   "source": [
    "copy.iloc[:2, :2] = copy.iloc[-2:,-2:]"
   ],
   "metadata": {
    "collapsed": false,
    "ExecuteTime": {
     "end_time": "2023-10-26T11:14:48.957991800Z",
     "start_time": "2023-10-26T11:14:48.893489100Z"
    }
   },
   "id": "3fb3aabb702d17a4"
  },
  {
   "cell_type": "code",
   "execution_count": 16,
   "outputs": [
    {
     "data": {
      "text/plain": "  Column1 Column2 Column3 Column4\nA      F3      F4      YY      YY\nB      G3      ZZ      XX      B4\nC      C1      ZZ      C3      ZZ\nD      D1      D2      D3      D4\nE      E1      ZZ      E3      ZZ\nF      F1      F2      F3      F4\nG      G1      ZZ      G3      ZZ",
      "text/html": "<div>\n<style scoped>\n    .dataframe tbody tr th:only-of-type {\n        vertical-align: middle;\n    }\n\n    .dataframe tbody tr th {\n        vertical-align: top;\n    }\n\n    .dataframe thead th {\n        text-align: right;\n    }\n</style>\n<table border=\"1\" class=\"dataframe\">\n  <thead>\n    <tr style=\"text-align: right;\">\n      <th></th>\n      <th>Column1</th>\n      <th>Column2</th>\n      <th>Column3</th>\n      <th>Column4</th>\n    </tr>\n  </thead>\n  <tbody>\n    <tr>\n      <th>A</th>\n      <td>F3</td>\n      <td>F4</td>\n      <td>YY</td>\n      <td>YY</td>\n    </tr>\n    <tr>\n      <th>B</th>\n      <td>G3</td>\n      <td>ZZ</td>\n      <td>XX</td>\n      <td>B4</td>\n    </tr>\n    <tr>\n      <th>C</th>\n      <td>C1</td>\n      <td>ZZ</td>\n      <td>C3</td>\n      <td>ZZ</td>\n    </tr>\n    <tr>\n      <th>D</th>\n      <td>D1</td>\n      <td>D2</td>\n      <td>D3</td>\n      <td>D4</td>\n    </tr>\n    <tr>\n      <th>E</th>\n      <td>E1</td>\n      <td>ZZ</td>\n      <td>E3</td>\n      <td>ZZ</td>\n    </tr>\n    <tr>\n      <th>F</th>\n      <td>F1</td>\n      <td>F2</td>\n      <td>F3</td>\n      <td>F4</td>\n    </tr>\n    <tr>\n      <th>G</th>\n      <td>G1</td>\n      <td>ZZ</td>\n      <td>G3</td>\n      <td>ZZ</td>\n    </tr>\n  </tbody>\n</table>\n</div>"
     },
     "execution_count": 16,
     "metadata": {},
     "output_type": "execute_result"
    }
   ],
   "source": [
    "copy"
   ],
   "metadata": {
    "collapsed": false,
    "ExecuteTime": {
     "end_time": "2023-10-26T11:14:51.677496100Z",
     "start_time": "2023-10-26T11:14:51.610256600Z"
    }
   },
   "id": "72a7d6c919c92c50"
  },
  {
   "cell_type": "code",
   "execution_count": 17,
   "outputs": [],
   "source": [
    "copy.iloc[:2, :2] = copy.iloc[-2:,-2:] + \"XX\""
   ],
   "metadata": {
    "collapsed": false,
    "ExecuteTime": {
     "end_time": "2023-10-26T11:15:21.709827400Z",
     "start_time": "2023-10-26T11:15:21.666271200Z"
    }
   },
   "id": "8a38318f14879462"
  },
  {
   "cell_type": "code",
   "execution_count": 18,
   "outputs": [
    {
     "data": {
      "text/plain": "  Column1 Column2 Column3 Column4\nA    F3XX    F4XX      YY      YY\nB    G3XX    ZZXX      XX      B4\nC      C1      ZZ      C3      ZZ\nD      D1      D2      D3      D4\nE      E1      ZZ      E3      ZZ\nF      F1      F2      F3      F4\nG      G1      ZZ      G3      ZZ",
      "text/html": "<div>\n<style scoped>\n    .dataframe tbody tr th:only-of-type {\n        vertical-align: middle;\n    }\n\n    .dataframe tbody tr th {\n        vertical-align: top;\n    }\n\n    .dataframe thead th {\n        text-align: right;\n    }\n</style>\n<table border=\"1\" class=\"dataframe\">\n  <thead>\n    <tr style=\"text-align: right;\">\n      <th></th>\n      <th>Column1</th>\n      <th>Column2</th>\n      <th>Column3</th>\n      <th>Column4</th>\n    </tr>\n  </thead>\n  <tbody>\n    <tr>\n      <th>A</th>\n      <td>F3XX</td>\n      <td>F4XX</td>\n      <td>YY</td>\n      <td>YY</td>\n    </tr>\n    <tr>\n      <th>B</th>\n      <td>G3XX</td>\n      <td>ZZXX</td>\n      <td>XX</td>\n      <td>B4</td>\n    </tr>\n    <tr>\n      <th>C</th>\n      <td>C1</td>\n      <td>ZZ</td>\n      <td>C3</td>\n      <td>ZZ</td>\n    </tr>\n    <tr>\n      <th>D</th>\n      <td>D1</td>\n      <td>D2</td>\n      <td>D3</td>\n      <td>D4</td>\n    </tr>\n    <tr>\n      <th>E</th>\n      <td>E1</td>\n      <td>ZZ</td>\n      <td>E3</td>\n      <td>ZZ</td>\n    </tr>\n    <tr>\n      <th>F</th>\n      <td>F1</td>\n      <td>F2</td>\n      <td>F3</td>\n      <td>F4</td>\n    </tr>\n    <tr>\n      <th>G</th>\n      <td>G1</td>\n      <td>ZZ</td>\n      <td>G3</td>\n      <td>ZZ</td>\n    </tr>\n  </tbody>\n</table>\n</div>"
     },
     "execution_count": 18,
     "metadata": {},
     "output_type": "execute_result"
    }
   ],
   "source": [
    "copy"
   ],
   "metadata": {
    "collapsed": false,
    "ExecuteTime": {
     "end_time": "2023-10-26T11:15:25.518577800Z",
     "start_time": "2023-10-26T11:15:25.458064900Z"
    }
   },
   "id": "4da255ea1374d98a"
  },
  {
   "cell_type": "code",
   "execution_count": 19,
   "outputs": [],
   "source": [
    "copy.iloc[:, :] = 0"
   ],
   "metadata": {
    "collapsed": false,
    "ExecuteTime": {
     "end_time": "2023-10-26T11:16:41.568351600Z",
     "start_time": "2023-10-26T11:16:41.509919Z"
    }
   },
   "id": "455f7f5890549c5b"
  },
  {
   "cell_type": "code",
   "execution_count": 20,
   "outputs": [
    {
     "data": {
      "text/plain": "  Column1 Column2 Column3 Column4\nA       0       0       0       0\nB       0       0       0       0\nC       0       0       0       0\nD       0       0       0       0\nE       0       0       0       0\nF       0       0       0       0\nG       0       0       0       0",
      "text/html": "<div>\n<style scoped>\n    .dataframe tbody tr th:only-of-type {\n        vertical-align: middle;\n    }\n\n    .dataframe tbody tr th {\n        vertical-align: top;\n    }\n\n    .dataframe thead th {\n        text-align: right;\n    }\n</style>\n<table border=\"1\" class=\"dataframe\">\n  <thead>\n    <tr style=\"text-align: right;\">\n      <th></th>\n      <th>Column1</th>\n      <th>Column2</th>\n      <th>Column3</th>\n      <th>Column4</th>\n    </tr>\n  </thead>\n  <tbody>\n    <tr>\n      <th>A</th>\n      <td>0</td>\n      <td>0</td>\n      <td>0</td>\n      <td>0</td>\n    </tr>\n    <tr>\n      <th>B</th>\n      <td>0</td>\n      <td>0</td>\n      <td>0</td>\n      <td>0</td>\n    </tr>\n    <tr>\n      <th>C</th>\n      <td>0</td>\n      <td>0</td>\n      <td>0</td>\n      <td>0</td>\n    </tr>\n    <tr>\n      <th>D</th>\n      <td>0</td>\n      <td>0</td>\n      <td>0</td>\n      <td>0</td>\n    </tr>\n    <tr>\n      <th>E</th>\n      <td>0</td>\n      <td>0</td>\n      <td>0</td>\n      <td>0</td>\n    </tr>\n    <tr>\n      <th>F</th>\n      <td>0</td>\n      <td>0</td>\n      <td>0</td>\n      <td>0</td>\n    </tr>\n    <tr>\n      <th>G</th>\n      <td>0</td>\n      <td>0</td>\n      <td>0</td>\n      <td>0</td>\n    </tr>\n  </tbody>\n</table>\n</div>"
     },
     "execution_count": 20,
     "metadata": {},
     "output_type": "execute_result"
    }
   ],
   "source": [
    "copy"
   ],
   "metadata": {
    "collapsed": false,
    "ExecuteTime": {
     "end_time": "2023-10-26T11:16:44.195291200Z",
     "start_time": "2023-10-26T11:16:44.135959500Z"
    }
   },
   "id": "2bceefedc0f13b9a"
  },
  {
   "cell_type": "markdown",
   "source": [
    "### Adding rows or columns\n",
    "Rows and columns can be added using loc (but not iloc)"
   ],
   "metadata": {
    "collapsed": false
   },
   "id": "62dc69ee2a25ff8d"
  },
  {
   "cell_type": "code",
   "execution_count": 21,
   "outputs": [],
   "source": [
    "copy = df.copy()"
   ],
   "metadata": {
    "collapsed": false,
    "ExecuteTime": {
     "end_time": "2023-10-26T11:19:34.680484700Z",
     "start_time": "2023-10-26T11:19:34.618039300Z"
    }
   },
   "id": "d46d9e1e9603d7e8"
  },
  {
   "cell_type": "code",
   "execution_count": 22,
   "outputs": [
    {
     "data": {
      "text/plain": "  Column1 Column2 Column3 Column4\nA      A1      A2      A3      A4\nB      B1      B2      B3      B4\nC      C1      C2      C3      C4\nD      D1      D2      D3      D4\nE      E1      E2      E3      E4\nF      F1      F2      F3      F4\nG      G1      G2      G3      G4",
      "text/html": "<div>\n<style scoped>\n    .dataframe tbody tr th:only-of-type {\n        vertical-align: middle;\n    }\n\n    .dataframe tbody tr th {\n        vertical-align: top;\n    }\n\n    .dataframe thead th {\n        text-align: right;\n    }\n</style>\n<table border=\"1\" class=\"dataframe\">\n  <thead>\n    <tr style=\"text-align: right;\">\n      <th></th>\n      <th>Column1</th>\n      <th>Column2</th>\n      <th>Column3</th>\n      <th>Column4</th>\n    </tr>\n  </thead>\n  <tbody>\n    <tr>\n      <th>A</th>\n      <td>A1</td>\n      <td>A2</td>\n      <td>A3</td>\n      <td>A4</td>\n    </tr>\n    <tr>\n      <th>B</th>\n      <td>B1</td>\n      <td>B2</td>\n      <td>B3</td>\n      <td>B4</td>\n    </tr>\n    <tr>\n      <th>C</th>\n      <td>C1</td>\n      <td>C2</td>\n      <td>C3</td>\n      <td>C4</td>\n    </tr>\n    <tr>\n      <th>D</th>\n      <td>D1</td>\n      <td>D2</td>\n      <td>D3</td>\n      <td>D4</td>\n    </tr>\n    <tr>\n      <th>E</th>\n      <td>E1</td>\n      <td>E2</td>\n      <td>E3</td>\n      <td>E4</td>\n    </tr>\n    <tr>\n      <th>F</th>\n      <td>F1</td>\n      <td>F2</td>\n      <td>F3</td>\n      <td>F4</td>\n    </tr>\n    <tr>\n      <th>G</th>\n      <td>G1</td>\n      <td>G2</td>\n      <td>G3</td>\n      <td>G4</td>\n    </tr>\n  </tbody>\n</table>\n</div>"
     },
     "execution_count": 22,
     "metadata": {},
     "output_type": "execute_result"
    }
   ],
   "source": [
    "copy"
   ],
   "metadata": {
    "collapsed": false,
    "ExecuteTime": {
     "end_time": "2023-10-26T11:21:16.099681100Z",
     "start_time": "2023-10-26T11:21:16.049054100Z"
    }
   },
   "id": "fd21aa4212e4a90"
  },
  {
   "cell_type": "code",
   "execution_count": 23,
   "outputs": [],
   "source": [
    "copy.loc[\"H\", :] = [\"H1\", \"H2\", \"H3\", \"H4\"]"
   ],
   "metadata": {
    "collapsed": false,
    "ExecuteTime": {
     "end_time": "2023-10-26T11:21:53.597556200Z",
     "start_time": "2023-10-26T11:21:53.520525400Z"
    }
   },
   "id": "4b06b0c949f73cb9"
  },
  {
   "cell_type": "code",
   "execution_count": 24,
   "outputs": [
    {
     "data": {
      "text/plain": "  Column1 Column2 Column3 Column4\nA      A1      A2      A3      A4\nB      B1      B2      B3      B4\nC      C1      C2      C3      C4\nD      D1      D2      D3      D4\nE      E1      E2      E3      E4\nF      F1      F2      F3      F4\nG      G1      G2      G3      G4\nH      H1      H2      H3      H4",
      "text/html": "<div>\n<style scoped>\n    .dataframe tbody tr th:only-of-type {\n        vertical-align: middle;\n    }\n\n    .dataframe tbody tr th {\n        vertical-align: top;\n    }\n\n    .dataframe thead th {\n        text-align: right;\n    }\n</style>\n<table border=\"1\" class=\"dataframe\">\n  <thead>\n    <tr style=\"text-align: right;\">\n      <th></th>\n      <th>Column1</th>\n      <th>Column2</th>\n      <th>Column3</th>\n      <th>Column4</th>\n    </tr>\n  </thead>\n  <tbody>\n    <tr>\n      <th>A</th>\n      <td>A1</td>\n      <td>A2</td>\n      <td>A3</td>\n      <td>A4</td>\n    </tr>\n    <tr>\n      <th>B</th>\n      <td>B1</td>\n      <td>B2</td>\n      <td>B3</td>\n      <td>B4</td>\n    </tr>\n    <tr>\n      <th>C</th>\n      <td>C1</td>\n      <td>C2</td>\n      <td>C3</td>\n      <td>C4</td>\n    </tr>\n    <tr>\n      <th>D</th>\n      <td>D1</td>\n      <td>D2</td>\n      <td>D3</td>\n      <td>D4</td>\n    </tr>\n    <tr>\n      <th>E</th>\n      <td>E1</td>\n      <td>E2</td>\n      <td>E3</td>\n      <td>E4</td>\n    </tr>\n    <tr>\n      <th>F</th>\n      <td>F1</td>\n      <td>F2</td>\n      <td>F3</td>\n      <td>F4</td>\n    </tr>\n    <tr>\n      <th>G</th>\n      <td>G1</td>\n      <td>G2</td>\n      <td>G3</td>\n      <td>G4</td>\n    </tr>\n    <tr>\n      <th>H</th>\n      <td>H1</td>\n      <td>H2</td>\n      <td>H3</td>\n      <td>H4</td>\n    </tr>\n  </tbody>\n</table>\n</div>"
     },
     "execution_count": 24,
     "metadata": {},
     "output_type": "execute_result"
    }
   ],
   "source": [
    "copy"
   ],
   "metadata": {
    "collapsed": false,
    "ExecuteTime": {
     "end_time": "2023-10-26T11:21:57.117179900Z",
     "start_time": "2023-10-26T11:21:57.048382100Z"
    }
   },
   "id": "9700024c13cf3eb6"
  },
  {
   "cell_type": "code",
   "execution_count": 25,
   "outputs": [],
   "source": [
    "copy.loc[:,\"Column5\"] = 0"
   ],
   "metadata": {
    "collapsed": false,
    "ExecuteTime": {
     "end_time": "2023-10-26T11:25:01.823947900Z",
     "start_time": "2023-10-26T11:25:01.750414Z"
    }
   },
   "id": "c9a926c0aff6048b"
  },
  {
   "cell_type": "code",
   "execution_count": 26,
   "outputs": [
    {
     "data": {
      "text/plain": "  Column1 Column2 Column3 Column4  Column5\nA      A1      A2      A3      A4        0\nB      B1      B2      B3      B4        0\nC      C1      C2      C3      C4        0\nD      D1      D2      D3      D4        0\nE      E1      E2      E3      E4        0\nF      F1      F2      F3      F4        0\nG      G1      G2      G3      G4        0\nH      H1      H2      H3      H4        0",
      "text/html": "<div>\n<style scoped>\n    .dataframe tbody tr th:only-of-type {\n        vertical-align: middle;\n    }\n\n    .dataframe tbody tr th {\n        vertical-align: top;\n    }\n\n    .dataframe thead th {\n        text-align: right;\n    }\n</style>\n<table border=\"1\" class=\"dataframe\">\n  <thead>\n    <tr style=\"text-align: right;\">\n      <th></th>\n      <th>Column1</th>\n      <th>Column2</th>\n      <th>Column3</th>\n      <th>Column4</th>\n      <th>Column5</th>\n    </tr>\n  </thead>\n  <tbody>\n    <tr>\n      <th>A</th>\n      <td>A1</td>\n      <td>A2</td>\n      <td>A3</td>\n      <td>A4</td>\n      <td>0</td>\n    </tr>\n    <tr>\n      <th>B</th>\n      <td>B1</td>\n      <td>B2</td>\n      <td>B3</td>\n      <td>B4</td>\n      <td>0</td>\n    </tr>\n    <tr>\n      <th>C</th>\n      <td>C1</td>\n      <td>C2</td>\n      <td>C3</td>\n      <td>C4</td>\n      <td>0</td>\n    </tr>\n    <tr>\n      <th>D</th>\n      <td>D1</td>\n      <td>D2</td>\n      <td>D3</td>\n      <td>D4</td>\n      <td>0</td>\n    </tr>\n    <tr>\n      <th>E</th>\n      <td>E1</td>\n      <td>E2</td>\n      <td>E3</td>\n      <td>E4</td>\n      <td>0</td>\n    </tr>\n    <tr>\n      <th>F</th>\n      <td>F1</td>\n      <td>F2</td>\n      <td>F3</td>\n      <td>F4</td>\n      <td>0</td>\n    </tr>\n    <tr>\n      <th>G</th>\n      <td>G1</td>\n      <td>G2</td>\n      <td>G3</td>\n      <td>G4</td>\n      <td>0</td>\n    </tr>\n    <tr>\n      <th>H</th>\n      <td>H1</td>\n      <td>H2</td>\n      <td>H3</td>\n      <td>H4</td>\n      <td>0</td>\n    </tr>\n  </tbody>\n</table>\n</div>"
     },
     "execution_count": 26,
     "metadata": {},
     "output_type": "execute_result"
    }
   ],
   "source": [
    "copy"
   ],
   "metadata": {
    "collapsed": false,
    "ExecuteTime": {
     "end_time": "2023-10-26T11:25:04.765265300Z",
     "start_time": "2023-10-26T11:25:04.583302800Z"
    }
   },
   "id": "e3988ff47f4f54c4"
  },
  {
   "cell_type": "code",
   "execution_count": 27,
   "outputs": [],
   "source": [
    "copy.loc[:, \"Column6\"] = copy.loc[:, \"Column1\"]"
   ],
   "metadata": {
    "collapsed": false,
    "ExecuteTime": {
     "end_time": "2023-10-26T11:26:11.054935900Z",
     "start_time": "2023-10-26T11:26:10.920877500Z"
    }
   },
   "id": "4da1f8e11ed581ec"
  },
  {
   "cell_type": "code",
   "execution_count": 28,
   "outputs": [
    {
     "data": {
      "text/plain": "  Column1 Column2 Column3 Column4  Column5 Column6\nA      A1      A2      A3      A4        0      A1\nB      B1      B2      B3      B4        0      B1\nC      C1      C2      C3      C4        0      C1\nD      D1      D2      D3      D4        0      D1\nE      E1      E2      E3      E4        0      E1\nF      F1      F2      F3      F4        0      F1\nG      G1      G2      G3      G4        0      G1\nH      H1      H2      H3      H4        0      H1",
      "text/html": "<div>\n<style scoped>\n    .dataframe tbody tr th:only-of-type {\n        vertical-align: middle;\n    }\n\n    .dataframe tbody tr th {\n        vertical-align: top;\n    }\n\n    .dataframe thead th {\n        text-align: right;\n    }\n</style>\n<table border=\"1\" class=\"dataframe\">\n  <thead>\n    <tr style=\"text-align: right;\">\n      <th></th>\n      <th>Column1</th>\n      <th>Column2</th>\n      <th>Column3</th>\n      <th>Column4</th>\n      <th>Column5</th>\n      <th>Column6</th>\n    </tr>\n  </thead>\n  <tbody>\n    <tr>\n      <th>A</th>\n      <td>A1</td>\n      <td>A2</td>\n      <td>A3</td>\n      <td>A4</td>\n      <td>0</td>\n      <td>A1</td>\n    </tr>\n    <tr>\n      <th>B</th>\n      <td>B1</td>\n      <td>B2</td>\n      <td>B3</td>\n      <td>B4</td>\n      <td>0</td>\n      <td>B1</td>\n    </tr>\n    <tr>\n      <th>C</th>\n      <td>C1</td>\n      <td>C2</td>\n      <td>C3</td>\n      <td>C4</td>\n      <td>0</td>\n      <td>C1</td>\n    </tr>\n    <tr>\n      <th>D</th>\n      <td>D1</td>\n      <td>D2</td>\n      <td>D3</td>\n      <td>D4</td>\n      <td>0</td>\n      <td>D1</td>\n    </tr>\n    <tr>\n      <th>E</th>\n      <td>E1</td>\n      <td>E2</td>\n      <td>E3</td>\n      <td>E4</td>\n      <td>0</td>\n      <td>E1</td>\n    </tr>\n    <tr>\n      <th>F</th>\n      <td>F1</td>\n      <td>F2</td>\n      <td>F3</td>\n      <td>F4</td>\n      <td>0</td>\n      <td>F1</td>\n    </tr>\n    <tr>\n      <th>G</th>\n      <td>G1</td>\n      <td>G2</td>\n      <td>G3</td>\n      <td>G4</td>\n      <td>0</td>\n      <td>G1</td>\n    </tr>\n    <tr>\n      <th>H</th>\n      <td>H1</td>\n      <td>H2</td>\n      <td>H3</td>\n      <td>H4</td>\n      <td>0</td>\n      <td>H1</td>\n    </tr>\n  </tbody>\n</table>\n</div>"
     },
     "execution_count": 28,
     "metadata": {},
     "output_type": "execute_result"
    }
   ],
   "source": [
    "copy"
   ],
   "metadata": {
    "collapsed": false,
    "ExecuteTime": {
     "end_time": "2023-10-26T11:26:14.205969100Z",
     "start_time": "2023-10-26T11:26:14.148360600Z"
    }
   },
   "id": "b90da3c15a126bc6"
  },
  {
   "cell_type": "code",
   "execution_count": 29,
   "outputs": [],
   "source": [
    "copy.loc[:, \"Column6\"] = copy.loc[:, \"Column1\"] + \"-\" + copy.loc[:, \"Column4\"]"
   ],
   "metadata": {
    "collapsed": false,
    "ExecuteTime": {
     "end_time": "2023-10-26T11:26:57.069184800Z",
     "start_time": "2023-10-26T11:26:57.003463700Z"
    }
   },
   "id": "2f51da125105e7db"
  },
  {
   "cell_type": "code",
   "execution_count": 30,
   "outputs": [
    {
     "data": {
      "text/plain": "  Column1 Column2 Column3 Column4  Column5 Column6\nA      A1      A2      A3      A4        0   A1-A4\nB      B1      B2      B3      B4        0   B1-B4\nC      C1      C2      C3      C4        0   C1-C4\nD      D1      D2      D3      D4        0   D1-D4\nE      E1      E2      E3      E4        0   E1-E4\nF      F1      F2      F3      F4        0   F1-F4\nG      G1      G2      G3      G4        0   G1-G4\nH      H1      H2      H3      H4        0   H1-H4",
      "text/html": "<div>\n<style scoped>\n    .dataframe tbody tr th:only-of-type {\n        vertical-align: middle;\n    }\n\n    .dataframe tbody tr th {\n        vertical-align: top;\n    }\n\n    .dataframe thead th {\n        text-align: right;\n    }\n</style>\n<table border=\"1\" class=\"dataframe\">\n  <thead>\n    <tr style=\"text-align: right;\">\n      <th></th>\n      <th>Column1</th>\n      <th>Column2</th>\n      <th>Column3</th>\n      <th>Column4</th>\n      <th>Column5</th>\n      <th>Column6</th>\n    </tr>\n  </thead>\n  <tbody>\n    <tr>\n      <th>A</th>\n      <td>A1</td>\n      <td>A2</td>\n      <td>A3</td>\n      <td>A4</td>\n      <td>0</td>\n      <td>A1-A4</td>\n    </tr>\n    <tr>\n      <th>B</th>\n      <td>B1</td>\n      <td>B2</td>\n      <td>B3</td>\n      <td>B4</td>\n      <td>0</td>\n      <td>B1-B4</td>\n    </tr>\n    <tr>\n      <th>C</th>\n      <td>C1</td>\n      <td>C2</td>\n      <td>C3</td>\n      <td>C4</td>\n      <td>0</td>\n      <td>C1-C4</td>\n    </tr>\n    <tr>\n      <th>D</th>\n      <td>D1</td>\n      <td>D2</td>\n      <td>D3</td>\n      <td>D4</td>\n      <td>0</td>\n      <td>D1-D4</td>\n    </tr>\n    <tr>\n      <th>E</th>\n      <td>E1</td>\n      <td>E2</td>\n      <td>E3</td>\n      <td>E4</td>\n      <td>0</td>\n      <td>E1-E4</td>\n    </tr>\n    <tr>\n      <th>F</th>\n      <td>F1</td>\n      <td>F2</td>\n      <td>F3</td>\n      <td>F4</td>\n      <td>0</td>\n      <td>F1-F4</td>\n    </tr>\n    <tr>\n      <th>G</th>\n      <td>G1</td>\n      <td>G2</td>\n      <td>G3</td>\n      <td>G4</td>\n      <td>0</td>\n      <td>G1-G4</td>\n    </tr>\n    <tr>\n      <th>H</th>\n      <td>H1</td>\n      <td>H2</td>\n      <td>H3</td>\n      <td>H4</td>\n      <td>0</td>\n      <td>H1-H4</td>\n    </tr>\n  </tbody>\n</table>\n</div>"
     },
     "execution_count": 30,
     "metadata": {},
     "output_type": "execute_result"
    }
   ],
   "source": [
    "copy"
   ],
   "metadata": {
    "collapsed": false,
    "ExecuteTime": {
     "end_time": "2023-10-26T11:27:00.204347Z",
     "start_time": "2023-10-26T11:27:00.088038700Z"
    }
   },
   "id": "830756eee6091e55"
  },
  {
   "cell_type": "code",
   "execution_count": 31,
   "outputs": [],
   "source": [
    "copy[\"Column7\"] = copy[\"Column1\"]"
   ],
   "metadata": {
    "collapsed": false,
    "ExecuteTime": {
     "end_time": "2023-10-26T11:28:26.636033800Z",
     "start_time": "2023-10-26T11:28:26.573172800Z"
    }
   },
   "id": "12aea6b61b6c97f0"
  },
  {
   "cell_type": "code",
   "execution_count": 32,
   "outputs": [
    {
     "data": {
      "text/plain": "  Column1 Column2 Column3 Column4  Column5 Column6 Column7\nA      A1      A2      A3      A4        0   A1-A4      A1\nB      B1      B2      B3      B4        0   B1-B4      B1\nC      C1      C2      C3      C4        0   C1-C4      C1\nD      D1      D2      D3      D4        0   D1-D4      D1\nE      E1      E2      E3      E4        0   E1-E4      E1\nF      F1      F2      F3      F4        0   F1-F4      F1\nG      G1      G2      G3      G4        0   G1-G4      G1\nH      H1      H2      H3      H4        0   H1-H4      H1",
      "text/html": "<div>\n<style scoped>\n    .dataframe tbody tr th:only-of-type {\n        vertical-align: middle;\n    }\n\n    .dataframe tbody tr th {\n        vertical-align: top;\n    }\n\n    .dataframe thead th {\n        text-align: right;\n    }\n</style>\n<table border=\"1\" class=\"dataframe\">\n  <thead>\n    <tr style=\"text-align: right;\">\n      <th></th>\n      <th>Column1</th>\n      <th>Column2</th>\n      <th>Column3</th>\n      <th>Column4</th>\n      <th>Column5</th>\n      <th>Column6</th>\n      <th>Column7</th>\n    </tr>\n  </thead>\n  <tbody>\n    <tr>\n      <th>A</th>\n      <td>A1</td>\n      <td>A2</td>\n      <td>A3</td>\n      <td>A4</td>\n      <td>0</td>\n      <td>A1-A4</td>\n      <td>A1</td>\n    </tr>\n    <tr>\n      <th>B</th>\n      <td>B1</td>\n      <td>B2</td>\n      <td>B3</td>\n      <td>B4</td>\n      <td>0</td>\n      <td>B1-B4</td>\n      <td>B1</td>\n    </tr>\n    <tr>\n      <th>C</th>\n      <td>C1</td>\n      <td>C2</td>\n      <td>C3</td>\n      <td>C4</td>\n      <td>0</td>\n      <td>C1-C4</td>\n      <td>C1</td>\n    </tr>\n    <tr>\n      <th>D</th>\n      <td>D1</td>\n      <td>D2</td>\n      <td>D3</td>\n      <td>D4</td>\n      <td>0</td>\n      <td>D1-D4</td>\n      <td>D1</td>\n    </tr>\n    <tr>\n      <th>E</th>\n      <td>E1</td>\n      <td>E2</td>\n      <td>E3</td>\n      <td>E4</td>\n      <td>0</td>\n      <td>E1-E4</td>\n      <td>E1</td>\n    </tr>\n    <tr>\n      <th>F</th>\n      <td>F1</td>\n      <td>F2</td>\n      <td>F3</td>\n      <td>F4</td>\n      <td>0</td>\n      <td>F1-F4</td>\n      <td>F1</td>\n    </tr>\n    <tr>\n      <th>G</th>\n      <td>G1</td>\n      <td>G2</td>\n      <td>G3</td>\n      <td>G4</td>\n      <td>0</td>\n      <td>G1-G4</td>\n      <td>G1</td>\n    </tr>\n    <tr>\n      <th>H</th>\n      <td>H1</td>\n      <td>H2</td>\n      <td>H3</td>\n      <td>H4</td>\n      <td>0</td>\n      <td>H1-H4</td>\n      <td>H1</td>\n    </tr>\n  </tbody>\n</table>\n</div>"
     },
     "execution_count": 32,
     "metadata": {},
     "output_type": "execute_result"
    }
   ],
   "source": [
    "copy"
   ],
   "metadata": {
    "collapsed": false,
    "ExecuteTime": {
     "end_time": "2023-10-26T11:28:28.957499500Z",
     "start_time": "2023-10-26T11:28:28.899883200Z"
    }
   },
   "id": "418d9bb477d9f70"
  },
  {
   "cell_type": "code",
   "execution_count": 33,
   "outputs": [],
   "source": [
    "copy[\"Column7\"] = copy[\"Column1\"] + \"-\" + copy[\"Column6\"]"
   ],
   "metadata": {
    "collapsed": false,
    "ExecuteTime": {
     "end_time": "2023-10-26T11:29:05.793910500Z",
     "start_time": "2023-10-26T11:29:05.691458400Z"
    }
   },
   "id": "99ad79ba704ddb09"
  },
  {
   "cell_type": "code",
   "execution_count": 34,
   "outputs": [
    {
     "data": {
      "text/plain": "  Column1 Column2 Column3 Column4  Column5 Column6   Column7\nA      A1      A2      A3      A4        0   A1-A4  A1-A1-A4\nB      B1      B2      B3      B4        0   B1-B4  B1-B1-B4\nC      C1      C2      C3      C4        0   C1-C4  C1-C1-C4\nD      D1      D2      D3      D4        0   D1-D4  D1-D1-D4\nE      E1      E2      E3      E4        0   E1-E4  E1-E1-E4\nF      F1      F2      F3      F4        0   F1-F4  F1-F1-F4\nG      G1      G2      G3      G4        0   G1-G4  G1-G1-G4\nH      H1      H2      H3      H4        0   H1-H4  H1-H1-H4",
      "text/html": "<div>\n<style scoped>\n    .dataframe tbody tr th:only-of-type {\n        vertical-align: middle;\n    }\n\n    .dataframe tbody tr th {\n        vertical-align: top;\n    }\n\n    .dataframe thead th {\n        text-align: right;\n    }\n</style>\n<table border=\"1\" class=\"dataframe\">\n  <thead>\n    <tr style=\"text-align: right;\">\n      <th></th>\n      <th>Column1</th>\n      <th>Column2</th>\n      <th>Column3</th>\n      <th>Column4</th>\n      <th>Column5</th>\n      <th>Column6</th>\n      <th>Column7</th>\n    </tr>\n  </thead>\n  <tbody>\n    <tr>\n      <th>A</th>\n      <td>A1</td>\n      <td>A2</td>\n      <td>A3</td>\n      <td>A4</td>\n      <td>0</td>\n      <td>A1-A4</td>\n      <td>A1-A1-A4</td>\n    </tr>\n    <tr>\n      <th>B</th>\n      <td>B1</td>\n      <td>B2</td>\n      <td>B3</td>\n      <td>B4</td>\n      <td>0</td>\n      <td>B1-B4</td>\n      <td>B1-B1-B4</td>\n    </tr>\n    <tr>\n      <th>C</th>\n      <td>C1</td>\n      <td>C2</td>\n      <td>C3</td>\n      <td>C4</td>\n      <td>0</td>\n      <td>C1-C4</td>\n      <td>C1-C1-C4</td>\n    </tr>\n    <tr>\n      <th>D</th>\n      <td>D1</td>\n      <td>D2</td>\n      <td>D3</td>\n      <td>D4</td>\n      <td>0</td>\n      <td>D1-D4</td>\n      <td>D1-D1-D4</td>\n    </tr>\n    <tr>\n      <th>E</th>\n      <td>E1</td>\n      <td>E2</td>\n      <td>E3</td>\n      <td>E4</td>\n      <td>0</td>\n      <td>E1-E4</td>\n      <td>E1-E1-E4</td>\n    </tr>\n    <tr>\n      <th>F</th>\n      <td>F1</td>\n      <td>F2</td>\n      <td>F3</td>\n      <td>F4</td>\n      <td>0</td>\n      <td>F1-F4</td>\n      <td>F1-F1-F4</td>\n    </tr>\n    <tr>\n      <th>G</th>\n      <td>G1</td>\n      <td>G2</td>\n      <td>G3</td>\n      <td>G4</td>\n      <td>0</td>\n      <td>G1-G4</td>\n      <td>G1-G1-G4</td>\n    </tr>\n    <tr>\n      <th>H</th>\n      <td>H1</td>\n      <td>H2</td>\n      <td>H3</td>\n      <td>H4</td>\n      <td>0</td>\n      <td>H1-H4</td>\n      <td>H1-H1-H4</td>\n    </tr>\n  </tbody>\n</table>\n</div>"
     },
     "execution_count": 34,
     "metadata": {},
     "output_type": "execute_result"
    }
   ],
   "source": [
    "copy"
   ],
   "metadata": {
    "collapsed": false,
    "ExecuteTime": {
     "end_time": "2023-10-26T11:29:08.306484600Z",
     "start_time": "2023-10-26T11:29:08.202500100Z"
    }
   },
   "id": "3d98cfb7ce2cdab"
  },
  {
   "cell_type": "code",
   "execution_count": 35,
   "outputs": [],
   "source": [
    "copy.loc[\"I\", [\"Column3\", \"Column6\"]] = \"I\""
   ],
   "metadata": {
    "collapsed": false,
    "ExecuteTime": {
     "end_time": "2023-10-26T11:30:36.964898100Z",
     "start_time": "2023-10-26T11:30:36.887558Z"
    }
   },
   "id": "54bab13fe3844def"
  },
  {
   "cell_type": "code",
   "execution_count": 36,
   "outputs": [
    {
     "data": {
      "text/plain": "  Column1 Column2 Column3 Column4  Column5 Column6   Column7\nA      A1      A2      A3      A4      0.0   A1-A4  A1-A1-A4\nB      B1      B2      B3      B4      0.0   B1-B4  B1-B1-B4\nC      C1      C2      C3      C4      0.0   C1-C4  C1-C1-C4\nD      D1      D2      D3      D4      0.0   D1-D4  D1-D1-D4\nE      E1      E2      E3      E4      0.0   E1-E4  E1-E1-E4\nF      F1      F2      F3      F4      0.0   F1-F4  F1-F1-F4\nG      G1      G2      G3      G4      0.0   G1-G4  G1-G1-G4\nH      H1      H2      H3      H4      0.0   H1-H4  H1-H1-H4\nI     NaN     NaN       I     NaN      NaN       I       NaN",
      "text/html": "<div>\n<style scoped>\n    .dataframe tbody tr th:only-of-type {\n        vertical-align: middle;\n    }\n\n    .dataframe tbody tr th {\n        vertical-align: top;\n    }\n\n    .dataframe thead th {\n        text-align: right;\n    }\n</style>\n<table border=\"1\" class=\"dataframe\">\n  <thead>\n    <tr style=\"text-align: right;\">\n      <th></th>\n      <th>Column1</th>\n      <th>Column2</th>\n      <th>Column3</th>\n      <th>Column4</th>\n      <th>Column5</th>\n      <th>Column6</th>\n      <th>Column7</th>\n    </tr>\n  </thead>\n  <tbody>\n    <tr>\n      <th>A</th>\n      <td>A1</td>\n      <td>A2</td>\n      <td>A3</td>\n      <td>A4</td>\n      <td>0.0</td>\n      <td>A1-A4</td>\n      <td>A1-A1-A4</td>\n    </tr>\n    <tr>\n      <th>B</th>\n      <td>B1</td>\n      <td>B2</td>\n      <td>B3</td>\n      <td>B4</td>\n      <td>0.0</td>\n      <td>B1-B4</td>\n      <td>B1-B1-B4</td>\n    </tr>\n    <tr>\n      <th>C</th>\n      <td>C1</td>\n      <td>C2</td>\n      <td>C3</td>\n      <td>C4</td>\n      <td>0.0</td>\n      <td>C1-C4</td>\n      <td>C1-C1-C4</td>\n    </tr>\n    <tr>\n      <th>D</th>\n      <td>D1</td>\n      <td>D2</td>\n      <td>D3</td>\n      <td>D4</td>\n      <td>0.0</td>\n      <td>D1-D4</td>\n      <td>D1-D1-D4</td>\n    </tr>\n    <tr>\n      <th>E</th>\n      <td>E1</td>\n      <td>E2</td>\n      <td>E3</td>\n      <td>E4</td>\n      <td>0.0</td>\n      <td>E1-E4</td>\n      <td>E1-E1-E4</td>\n    </tr>\n    <tr>\n      <th>F</th>\n      <td>F1</td>\n      <td>F2</td>\n      <td>F3</td>\n      <td>F4</td>\n      <td>0.0</td>\n      <td>F1-F4</td>\n      <td>F1-F1-F4</td>\n    </tr>\n    <tr>\n      <th>G</th>\n      <td>G1</td>\n      <td>G2</td>\n      <td>G3</td>\n      <td>G4</td>\n      <td>0.0</td>\n      <td>G1-G4</td>\n      <td>G1-G1-G4</td>\n    </tr>\n    <tr>\n      <th>H</th>\n      <td>H1</td>\n      <td>H2</td>\n      <td>H3</td>\n      <td>H4</td>\n      <td>0.0</td>\n      <td>H1-H4</td>\n      <td>H1-H1-H4</td>\n    </tr>\n    <tr>\n      <th>I</th>\n      <td>NaN</td>\n      <td>NaN</td>\n      <td>I</td>\n      <td>NaN</td>\n      <td>NaN</td>\n      <td>I</td>\n      <td>NaN</td>\n    </tr>\n  </tbody>\n</table>\n</div>"
     },
     "execution_count": 36,
     "metadata": {},
     "output_type": "execute_result"
    }
   ],
   "source": [
    "copy"
   ],
   "metadata": {
    "collapsed": false,
    "ExecuteTime": {
     "end_time": "2023-10-26T11:30:40.016451500Z",
     "start_time": "2023-10-26T11:30:39.892722800Z"
    }
   },
   "id": "ac92605a6d0fe19c"
  },
  {
   "cell_type": "code",
   "execution_count": 38,
   "outputs": [
    {
     "name": "stderr",
     "output_type": "stream",
     "text": [
      "C:\\Users\\janan\\AppData\\Local\\Temp\\ipykernel_3668\\1993473373.py:1: FutureWarning: Setting an item of incompatible dtype is deprecated and will raise in a future error of pandas. Value 'HELLO!' has dtype incompatible with float64, please explicitly cast to a compatible dtype first.\n",
      "  copy.loc[\"J\", \"new column\"] = \"HELLO!\"\n"
     ]
    }
   ],
   "source": [
    "copy.loc[\"J\", \"new column\"] = \"HELLO!\""
   ],
   "metadata": {
    "collapsed": false,
    "ExecuteTime": {
     "end_time": "2023-10-26T11:31:43.573641500Z",
     "start_time": "2023-10-26T11:31:43.535830300Z"
    }
   },
   "id": "e709a9cfa7276a06"
  },
  {
   "cell_type": "code",
   "execution_count": 39,
   "outputs": [
    {
     "data": {
      "text/plain": "  Column1 Column2 Column3 Column4  Column5 Column6   Column7 New column  \\\nA      A1      A2      A3      A4      0.0   A1-A4  A1-A1-A4        NaN   \nB      B1      B2      B3      B4      0.0   B1-B4  B1-B1-B4        NaN   \nC      C1      C2      C3      C4      0.0   C1-C4  C1-C1-C4        NaN   \nD      D1      D2      D3      D4      0.0   D1-D4  D1-D1-D4        NaN   \nE      E1      E2      E3      E4      0.0   E1-E4  E1-E1-E4        NaN   \nF      F1      F2      F3      F4      0.0   F1-F4  F1-F1-F4        NaN   \nG      G1      G2      G3      G4      0.0   G1-G4  G1-G1-G4        NaN   \nH      H1      H2      H3      H4      0.0   H1-H4  H1-H1-H4        NaN   \nI     NaN     NaN       I     NaN      NaN       I       NaN        NaN   \nJ     NaN     NaN     NaN     NaN      NaN     NaN       NaN     HELLO!   \n\n  new column  \nA        NaN  \nB        NaN  \nC        NaN  \nD        NaN  \nE        NaN  \nF        NaN  \nG        NaN  \nH        NaN  \nI        NaN  \nJ     HELLO!  ",
      "text/html": "<div>\n<style scoped>\n    .dataframe tbody tr th:only-of-type {\n        vertical-align: middle;\n    }\n\n    .dataframe tbody tr th {\n        vertical-align: top;\n    }\n\n    .dataframe thead th {\n        text-align: right;\n    }\n</style>\n<table border=\"1\" class=\"dataframe\">\n  <thead>\n    <tr style=\"text-align: right;\">\n      <th></th>\n      <th>Column1</th>\n      <th>Column2</th>\n      <th>Column3</th>\n      <th>Column4</th>\n      <th>Column5</th>\n      <th>Column6</th>\n      <th>Column7</th>\n      <th>New column</th>\n      <th>new column</th>\n    </tr>\n  </thead>\n  <tbody>\n    <tr>\n      <th>A</th>\n      <td>A1</td>\n      <td>A2</td>\n      <td>A3</td>\n      <td>A4</td>\n      <td>0.0</td>\n      <td>A1-A4</td>\n      <td>A1-A1-A4</td>\n      <td>NaN</td>\n      <td>NaN</td>\n    </tr>\n    <tr>\n      <th>B</th>\n      <td>B1</td>\n      <td>B2</td>\n      <td>B3</td>\n      <td>B4</td>\n      <td>0.0</td>\n      <td>B1-B4</td>\n      <td>B1-B1-B4</td>\n      <td>NaN</td>\n      <td>NaN</td>\n    </tr>\n    <tr>\n      <th>C</th>\n      <td>C1</td>\n      <td>C2</td>\n      <td>C3</td>\n      <td>C4</td>\n      <td>0.0</td>\n      <td>C1-C4</td>\n      <td>C1-C1-C4</td>\n      <td>NaN</td>\n      <td>NaN</td>\n    </tr>\n    <tr>\n      <th>D</th>\n      <td>D1</td>\n      <td>D2</td>\n      <td>D3</td>\n      <td>D4</td>\n      <td>0.0</td>\n      <td>D1-D4</td>\n      <td>D1-D1-D4</td>\n      <td>NaN</td>\n      <td>NaN</td>\n    </tr>\n    <tr>\n      <th>E</th>\n      <td>E1</td>\n      <td>E2</td>\n      <td>E3</td>\n      <td>E4</td>\n      <td>0.0</td>\n      <td>E1-E4</td>\n      <td>E1-E1-E4</td>\n      <td>NaN</td>\n      <td>NaN</td>\n    </tr>\n    <tr>\n      <th>F</th>\n      <td>F1</td>\n      <td>F2</td>\n      <td>F3</td>\n      <td>F4</td>\n      <td>0.0</td>\n      <td>F1-F4</td>\n      <td>F1-F1-F4</td>\n      <td>NaN</td>\n      <td>NaN</td>\n    </tr>\n    <tr>\n      <th>G</th>\n      <td>G1</td>\n      <td>G2</td>\n      <td>G3</td>\n      <td>G4</td>\n      <td>0.0</td>\n      <td>G1-G4</td>\n      <td>G1-G1-G4</td>\n      <td>NaN</td>\n      <td>NaN</td>\n    </tr>\n    <tr>\n      <th>H</th>\n      <td>H1</td>\n      <td>H2</td>\n      <td>H3</td>\n      <td>H4</td>\n      <td>0.0</td>\n      <td>H1-H4</td>\n      <td>H1-H1-H4</td>\n      <td>NaN</td>\n      <td>NaN</td>\n    </tr>\n    <tr>\n      <th>I</th>\n      <td>NaN</td>\n      <td>NaN</td>\n      <td>I</td>\n      <td>NaN</td>\n      <td>NaN</td>\n      <td>I</td>\n      <td>NaN</td>\n      <td>NaN</td>\n      <td>NaN</td>\n    </tr>\n    <tr>\n      <th>J</th>\n      <td>NaN</td>\n      <td>NaN</td>\n      <td>NaN</td>\n      <td>NaN</td>\n      <td>NaN</td>\n      <td>NaN</td>\n      <td>NaN</td>\n      <td>HELLO!</td>\n      <td>HELLO!</td>\n    </tr>\n  </tbody>\n</table>\n</div>"
     },
     "execution_count": 39,
     "metadata": {},
     "output_type": "execute_result"
    }
   ],
   "source": [
    "copy"
   ],
   "metadata": {
    "collapsed": false,
    "ExecuteTime": {
     "end_time": "2023-10-26T11:31:57.300490900Z",
     "start_time": "2023-10-26T11:31:57.228504700Z"
    }
   },
   "id": "36d4258290e1a5f7"
  },
  {
   "cell_type": "markdown",
   "source": [
    "### Renaming columns and indexes"
   ],
   "metadata": {
    "collapsed": false
   },
   "id": "859520c0c6559a86"
  },
  {
   "cell_type": "code",
   "execution_count": 41,
   "outputs": [],
   "source": [
    "copy = df.copy()"
   ],
   "metadata": {
    "collapsed": false,
    "ExecuteTime": {
     "end_time": "2023-10-26T11:36:48.464654400Z",
     "start_time": "2023-10-26T11:36:48.368765Z"
    }
   },
   "id": "ddc42c785850bf48"
  },
  {
   "cell_type": "code",
   "execution_count": 42,
   "outputs": [
    {
     "data": {
      "text/plain": "  Column1 Column2 Column3 Column4\nA      A1      A2      A3      A4\nB      B1      B2      B3      B4\nC      C1      C2      C3      C4\nD      D1      D2      D3      D4\nE      E1      E2      E3      E4\nF      F1      F2      F3      F4\nG      G1      G2      G3      G4",
      "text/html": "<div>\n<style scoped>\n    .dataframe tbody tr th:only-of-type {\n        vertical-align: middle;\n    }\n\n    .dataframe tbody tr th {\n        vertical-align: top;\n    }\n\n    .dataframe thead th {\n        text-align: right;\n    }\n</style>\n<table border=\"1\" class=\"dataframe\">\n  <thead>\n    <tr style=\"text-align: right;\">\n      <th></th>\n      <th>Column1</th>\n      <th>Column2</th>\n      <th>Column3</th>\n      <th>Column4</th>\n    </tr>\n  </thead>\n  <tbody>\n    <tr>\n      <th>A</th>\n      <td>A1</td>\n      <td>A2</td>\n      <td>A3</td>\n      <td>A4</td>\n    </tr>\n    <tr>\n      <th>B</th>\n      <td>B1</td>\n      <td>B2</td>\n      <td>B3</td>\n      <td>B4</td>\n    </tr>\n    <tr>\n      <th>C</th>\n      <td>C1</td>\n      <td>C2</td>\n      <td>C3</td>\n      <td>C4</td>\n    </tr>\n    <tr>\n      <th>D</th>\n      <td>D1</td>\n      <td>D2</td>\n      <td>D3</td>\n      <td>D4</td>\n    </tr>\n    <tr>\n      <th>E</th>\n      <td>E1</td>\n      <td>E2</td>\n      <td>E3</td>\n      <td>E4</td>\n    </tr>\n    <tr>\n      <th>F</th>\n      <td>F1</td>\n      <td>F2</td>\n      <td>F3</td>\n      <td>F4</td>\n    </tr>\n    <tr>\n      <th>G</th>\n      <td>G1</td>\n      <td>G2</td>\n      <td>G3</td>\n      <td>G4</td>\n    </tr>\n  </tbody>\n</table>\n</div>"
     },
     "execution_count": 42,
     "metadata": {},
     "output_type": "execute_result"
    }
   ],
   "source": [
    "copy"
   ],
   "metadata": {
    "collapsed": false,
    "ExecuteTime": {
     "end_time": "2023-10-26T11:36:52.248490600Z",
     "start_time": "2023-10-26T11:36:52.165614900Z"
    }
   },
   "id": "cd195511108fd171"
  },
  {
   "cell_type": "code",
   "execution_count": 43,
   "outputs": [
    {
     "data": {
      "text/plain": "Index(['Column1', 'Column2', 'Column3', 'Column4'], dtype='object')"
     },
     "execution_count": 43,
     "metadata": {},
     "output_type": "execute_result"
    }
   ],
   "source": [
    "copy.columns"
   ],
   "metadata": {
    "collapsed": false,
    "ExecuteTime": {
     "end_time": "2023-10-26T11:37:04.832244900Z",
     "start_time": "2023-10-26T11:37:04.749682700Z"
    }
   },
   "id": "cf01797039006863"
  },
  {
   "cell_type": "code",
   "execution_count": 44,
   "outputs": [
    {
     "data": {
      "text/plain": "['Column1', 'Column2', 'Column3', 'Column4']"
     },
     "execution_count": 44,
     "metadata": {},
     "output_type": "execute_result"
    }
   ],
   "source": [
    "list(copy.columns)"
   ],
   "metadata": {
    "collapsed": false,
    "ExecuteTime": {
     "end_time": "2023-10-26T11:37:40.183592Z",
     "start_time": "2023-10-26T11:37:40.112192100Z"
    }
   },
   "id": "a622252ac00e96f"
  },
  {
   "cell_type": "code",
   "execution_count": 45,
   "outputs": [],
   "source": [
    "copy.columns = [\"A\", \"B\", \"C\", \"D\"]"
   ],
   "metadata": {
    "collapsed": false,
    "ExecuteTime": {
     "end_time": "2023-10-26T11:38:10.405704700Z",
     "start_time": "2023-10-26T11:38:10.332715Z"
    }
   },
   "id": "e5c623d3a3ffefb9"
  },
  {
   "cell_type": "code",
   "execution_count": 46,
   "outputs": [
    {
     "data": {
      "text/plain": "    A   B   C   D\nA  A1  A2  A3  A4\nB  B1  B2  B3  B4\nC  C1  C2  C3  C4\nD  D1  D2  D3  D4\nE  E1  E2  E3  E4\nF  F1  F2  F3  F4\nG  G1  G2  G3  G4",
      "text/html": "<div>\n<style scoped>\n    .dataframe tbody tr th:only-of-type {\n        vertical-align: middle;\n    }\n\n    .dataframe tbody tr th {\n        vertical-align: top;\n    }\n\n    .dataframe thead th {\n        text-align: right;\n    }\n</style>\n<table border=\"1\" class=\"dataframe\">\n  <thead>\n    <tr style=\"text-align: right;\">\n      <th></th>\n      <th>A</th>\n      <th>B</th>\n      <th>C</th>\n      <th>D</th>\n    </tr>\n  </thead>\n  <tbody>\n    <tr>\n      <th>A</th>\n      <td>A1</td>\n      <td>A2</td>\n      <td>A3</td>\n      <td>A4</td>\n    </tr>\n    <tr>\n      <th>B</th>\n      <td>B1</td>\n      <td>B2</td>\n      <td>B3</td>\n      <td>B4</td>\n    </tr>\n    <tr>\n      <th>C</th>\n      <td>C1</td>\n      <td>C2</td>\n      <td>C3</td>\n      <td>C4</td>\n    </tr>\n    <tr>\n      <th>D</th>\n      <td>D1</td>\n      <td>D2</td>\n      <td>D3</td>\n      <td>D4</td>\n    </tr>\n    <tr>\n      <th>E</th>\n      <td>E1</td>\n      <td>E2</td>\n      <td>E3</td>\n      <td>E4</td>\n    </tr>\n    <tr>\n      <th>F</th>\n      <td>F1</td>\n      <td>F2</td>\n      <td>F3</td>\n      <td>F4</td>\n    </tr>\n    <tr>\n      <th>G</th>\n      <td>G1</td>\n      <td>G2</td>\n      <td>G3</td>\n      <td>G4</td>\n    </tr>\n  </tbody>\n</table>\n</div>"
     },
     "execution_count": 46,
     "metadata": {},
     "output_type": "execute_result"
    }
   ],
   "source": [
    "copy"
   ],
   "metadata": {
    "collapsed": false,
    "ExecuteTime": {
     "end_time": "2023-10-26T11:38:12.621681900Z",
     "start_time": "2023-10-26T11:38:12.536404900Z"
    }
   },
   "id": "3d589fa105b73edb"
  },
  {
   "cell_type": "code",
   "execution_count": 47,
   "outputs": [
    {
     "data": {
      "text/plain": "Index(['A', 'B', 'C', 'D', 'E', 'F', 'G'], dtype='object')"
     },
     "execution_count": 47,
     "metadata": {},
     "output_type": "execute_result"
    }
   ],
   "source": [
    "copy.index"
   ],
   "metadata": {
    "collapsed": false,
    "ExecuteTime": {
     "end_time": "2023-10-26T11:38:23.442325600Z",
     "start_time": "2023-10-26T11:38:23.315830900Z"
    }
   },
   "id": "a6943ac906b68380"
  },
  {
   "cell_type": "code",
   "execution_count": 48,
   "outputs": [],
   "source": [
    "copy.index = [0, 1, 2, 3, 4, 5, 6]"
   ],
   "metadata": {
    "collapsed": false,
    "ExecuteTime": {
     "end_time": "2023-10-26T11:39:04.748380200Z",
     "start_time": "2023-10-26T11:39:04.671328800Z"
    }
   },
   "id": "e148e5ed4c3b1c87"
  },
  {
   "cell_type": "code",
   "execution_count": 49,
   "outputs": [
    {
     "data": {
      "text/plain": "    A   B   C   D\n0  A1  A2  A3  A4\n1  B1  B2  B3  B4\n2  C1  C2  C3  C4\n3  D1  D2  D3  D4\n4  E1  E2  E3  E4\n5  F1  F2  F3  F4\n6  G1  G2  G3  G4",
      "text/html": "<div>\n<style scoped>\n    .dataframe tbody tr th:only-of-type {\n        vertical-align: middle;\n    }\n\n    .dataframe tbody tr th {\n        vertical-align: top;\n    }\n\n    .dataframe thead th {\n        text-align: right;\n    }\n</style>\n<table border=\"1\" class=\"dataframe\">\n  <thead>\n    <tr style=\"text-align: right;\">\n      <th></th>\n      <th>A</th>\n      <th>B</th>\n      <th>C</th>\n      <th>D</th>\n    </tr>\n  </thead>\n  <tbody>\n    <tr>\n      <th>0</th>\n      <td>A1</td>\n      <td>A2</td>\n      <td>A3</td>\n      <td>A4</td>\n    </tr>\n    <tr>\n      <th>1</th>\n      <td>B1</td>\n      <td>B2</td>\n      <td>B3</td>\n      <td>B4</td>\n    </tr>\n    <tr>\n      <th>2</th>\n      <td>C1</td>\n      <td>C2</td>\n      <td>C3</td>\n      <td>C4</td>\n    </tr>\n    <tr>\n      <th>3</th>\n      <td>D1</td>\n      <td>D2</td>\n      <td>D3</td>\n      <td>D4</td>\n    </tr>\n    <tr>\n      <th>4</th>\n      <td>E1</td>\n      <td>E2</td>\n      <td>E3</td>\n      <td>E4</td>\n    </tr>\n    <tr>\n      <th>5</th>\n      <td>F1</td>\n      <td>F2</td>\n      <td>F3</td>\n      <td>F4</td>\n    </tr>\n    <tr>\n      <th>6</th>\n      <td>G1</td>\n      <td>G2</td>\n      <td>G3</td>\n      <td>G4</td>\n    </tr>\n  </tbody>\n</table>\n</div>"
     },
     "execution_count": 49,
     "metadata": {},
     "output_type": "execute_result"
    }
   ],
   "source": [
    "copy"
   ],
   "metadata": {
    "collapsed": false,
    "ExecuteTime": {
     "end_time": "2023-10-26T11:39:07.947827200Z",
     "start_time": "2023-10-26T11:39:07.859598800Z"
    }
   },
   "id": "cfda42b0a62c0e48"
  },
  {
   "cell_type": "code",
   "execution_count": 50,
   "outputs": [
    {
     "data": {
      "text/plain": "    A Column B   C   D\n0  A1       A2  A3  A4\n1  B1       B2  B3  B4\n2  C1       C2  C3  C4\n3  D1       D2  D3  D4\n4  E1       E2  E3  E4\n5  F1       F2  F3  F4\n6  G1       G2  G3  G4",
      "text/html": "<div>\n<style scoped>\n    .dataframe tbody tr th:only-of-type {\n        vertical-align: middle;\n    }\n\n    .dataframe tbody tr th {\n        vertical-align: top;\n    }\n\n    .dataframe thead th {\n        text-align: right;\n    }\n</style>\n<table border=\"1\" class=\"dataframe\">\n  <thead>\n    <tr style=\"text-align: right;\">\n      <th></th>\n      <th>A</th>\n      <th>Column B</th>\n      <th>C</th>\n      <th>D</th>\n    </tr>\n  </thead>\n  <tbody>\n    <tr>\n      <th>0</th>\n      <td>A1</td>\n      <td>A2</td>\n      <td>A3</td>\n      <td>A4</td>\n    </tr>\n    <tr>\n      <th>1</th>\n      <td>B1</td>\n      <td>B2</td>\n      <td>B3</td>\n      <td>B4</td>\n    </tr>\n    <tr>\n      <th>2</th>\n      <td>C1</td>\n      <td>C2</td>\n      <td>C3</td>\n      <td>C4</td>\n    </tr>\n    <tr>\n      <th>3</th>\n      <td>D1</td>\n      <td>D2</td>\n      <td>D3</td>\n      <td>D4</td>\n    </tr>\n    <tr>\n      <th>4</th>\n      <td>E1</td>\n      <td>E2</td>\n      <td>E3</td>\n      <td>E4</td>\n    </tr>\n    <tr>\n      <th>5</th>\n      <td>F1</td>\n      <td>F2</td>\n      <td>F3</td>\n      <td>F4</td>\n    </tr>\n    <tr>\n      <th>6</th>\n      <td>G1</td>\n      <td>G2</td>\n      <td>G3</td>\n      <td>G4</td>\n    </tr>\n  </tbody>\n</table>\n</div>"
     },
     "execution_count": 50,
     "metadata": {},
     "output_type": "execute_result"
    }
   ],
   "source": [
    "copy.rename(columns={\"B\": \"Column B\"})"
   ],
   "metadata": {
    "collapsed": false,
    "ExecuteTime": {
     "end_time": "2023-10-26T11:41:15.049891400Z",
     "start_time": "2023-10-26T11:41:14.960164200Z"
    }
   },
   "id": "adffebbe558cbe65"
  },
  {
   "cell_type": "code",
   "execution_count": 51,
   "outputs": [
    {
     "data": {
      "text/plain": "    A   B   C   D\n0  A1  A2  A3  A4\n1  B1  B2  B3  B4\n2  C1  C2  C3  C4\n3  D1  D2  D3  D4\n4  E1  E2  E3  E4\n5  F1  F2  F3  F4\n6  G1  G2  G3  G4",
      "text/html": "<div>\n<style scoped>\n    .dataframe tbody tr th:only-of-type {\n        vertical-align: middle;\n    }\n\n    .dataframe tbody tr th {\n        vertical-align: top;\n    }\n\n    .dataframe thead th {\n        text-align: right;\n    }\n</style>\n<table border=\"1\" class=\"dataframe\">\n  <thead>\n    <tr style=\"text-align: right;\">\n      <th></th>\n      <th>A</th>\n      <th>B</th>\n      <th>C</th>\n      <th>D</th>\n    </tr>\n  </thead>\n  <tbody>\n    <tr>\n      <th>0</th>\n      <td>A1</td>\n      <td>A2</td>\n      <td>A3</td>\n      <td>A4</td>\n    </tr>\n    <tr>\n      <th>1</th>\n      <td>B1</td>\n      <td>B2</td>\n      <td>B3</td>\n      <td>B4</td>\n    </tr>\n    <tr>\n      <th>2</th>\n      <td>C1</td>\n      <td>C2</td>\n      <td>C3</td>\n      <td>C4</td>\n    </tr>\n    <tr>\n      <th>3</th>\n      <td>D1</td>\n      <td>D2</td>\n      <td>D3</td>\n      <td>D4</td>\n    </tr>\n    <tr>\n      <th>4</th>\n      <td>E1</td>\n      <td>E2</td>\n      <td>E3</td>\n      <td>E4</td>\n    </tr>\n    <tr>\n      <th>5</th>\n      <td>F1</td>\n      <td>F2</td>\n      <td>F3</td>\n      <td>F4</td>\n    </tr>\n    <tr>\n      <th>6</th>\n      <td>G1</td>\n      <td>G2</td>\n      <td>G3</td>\n      <td>G4</td>\n    </tr>\n  </tbody>\n</table>\n</div>"
     },
     "execution_count": 51,
     "metadata": {},
     "output_type": "execute_result"
    }
   ],
   "source": [
    "copy"
   ],
   "metadata": {
    "collapsed": false,
    "ExecuteTime": {
     "end_time": "2023-10-26T11:41:18.427879100Z",
     "start_time": "2023-10-26T11:41:18.288550800Z"
    }
   },
   "id": "b8a1a1314c7d6a50"
  },
  {
   "cell_type": "code",
   "execution_count": 52,
   "outputs": [],
   "source": [
    "copy.rename(columns={\"B\": \"Column B\"}, inplace=True)"
   ],
   "metadata": {
    "collapsed": false,
    "ExecuteTime": {
     "end_time": "2023-10-26T11:41:47.395367100Z",
     "start_time": "2023-10-26T11:41:47.299037800Z"
    }
   },
   "id": "4c722cb01921603e"
  },
  {
   "cell_type": "code",
   "execution_count": 53,
   "outputs": [
    {
     "data": {
      "text/plain": "    A Column B   C   D\n0  A1       A2  A3  A4\n1  B1       B2  B3  B4\n2  C1       C2  C3  C4\n3  D1       D2  D3  D4\n4  E1       E2  E3  E4\n5  F1       F2  F3  F4\n6  G1       G2  G3  G4",
      "text/html": "<div>\n<style scoped>\n    .dataframe tbody tr th:only-of-type {\n        vertical-align: middle;\n    }\n\n    .dataframe tbody tr th {\n        vertical-align: top;\n    }\n\n    .dataframe thead th {\n        text-align: right;\n    }\n</style>\n<table border=\"1\" class=\"dataframe\">\n  <thead>\n    <tr style=\"text-align: right;\">\n      <th></th>\n      <th>A</th>\n      <th>Column B</th>\n      <th>C</th>\n      <th>D</th>\n    </tr>\n  </thead>\n  <tbody>\n    <tr>\n      <th>0</th>\n      <td>A1</td>\n      <td>A2</td>\n      <td>A3</td>\n      <td>A4</td>\n    </tr>\n    <tr>\n      <th>1</th>\n      <td>B1</td>\n      <td>B2</td>\n      <td>B3</td>\n      <td>B4</td>\n    </tr>\n    <tr>\n      <th>2</th>\n      <td>C1</td>\n      <td>C2</td>\n      <td>C3</td>\n      <td>C4</td>\n    </tr>\n    <tr>\n      <th>3</th>\n      <td>D1</td>\n      <td>D2</td>\n      <td>D3</td>\n      <td>D4</td>\n    </tr>\n    <tr>\n      <th>4</th>\n      <td>E1</td>\n      <td>E2</td>\n      <td>E3</td>\n      <td>E4</td>\n    </tr>\n    <tr>\n      <th>5</th>\n      <td>F1</td>\n      <td>F2</td>\n      <td>F3</td>\n      <td>F4</td>\n    </tr>\n    <tr>\n      <th>6</th>\n      <td>G1</td>\n      <td>G2</td>\n      <td>G3</td>\n      <td>G4</td>\n    </tr>\n  </tbody>\n</table>\n</div>"
     },
     "execution_count": 53,
     "metadata": {},
     "output_type": "execute_result"
    }
   ],
   "source": [
    "copy"
   ],
   "metadata": {
    "collapsed": false,
    "ExecuteTime": {
     "end_time": "2023-10-26T11:41:50.901420600Z",
     "start_time": "2023-10-26T11:41:50.796069200Z"
    }
   },
   "id": "e6c4f928dce1e4e1"
  },
  {
   "cell_type": "code",
   "execution_count": 54,
   "outputs": [],
   "source": [
    "copy.rename(columns={\"B\": \"Column B\", \"D\": \"Jan\"}, inplace=True)"
   ],
   "metadata": {
    "collapsed": false,
    "ExecuteTime": {
     "end_time": "2023-10-26T11:43:13.059754400Z",
     "start_time": "2023-10-26T11:43:12.993643300Z"
    }
   },
   "id": "a1dcb019399f982a"
  },
  {
   "cell_type": "code",
   "execution_count": 55,
   "outputs": [
    {
     "data": {
      "text/plain": "    A Column B   C Jan\n0  A1       A2  A3  A4\n1  B1       B2  B3  B4\n2  C1       C2  C3  C4\n3  D1       D2  D3  D4\n4  E1       E2  E3  E4\n5  F1       F2  F3  F4\n6  G1       G2  G3  G4",
      "text/html": "<div>\n<style scoped>\n    .dataframe tbody tr th:only-of-type {\n        vertical-align: middle;\n    }\n\n    .dataframe tbody tr th {\n        vertical-align: top;\n    }\n\n    .dataframe thead th {\n        text-align: right;\n    }\n</style>\n<table border=\"1\" class=\"dataframe\">\n  <thead>\n    <tr style=\"text-align: right;\">\n      <th></th>\n      <th>A</th>\n      <th>Column B</th>\n      <th>C</th>\n      <th>Jan</th>\n    </tr>\n  </thead>\n  <tbody>\n    <tr>\n      <th>0</th>\n      <td>A1</td>\n      <td>A2</td>\n      <td>A3</td>\n      <td>A4</td>\n    </tr>\n    <tr>\n      <th>1</th>\n      <td>B1</td>\n      <td>B2</td>\n      <td>B3</td>\n      <td>B4</td>\n    </tr>\n    <tr>\n      <th>2</th>\n      <td>C1</td>\n      <td>C2</td>\n      <td>C3</td>\n      <td>C4</td>\n    </tr>\n    <tr>\n      <th>3</th>\n      <td>D1</td>\n      <td>D2</td>\n      <td>D3</td>\n      <td>D4</td>\n    </tr>\n    <tr>\n      <th>4</th>\n      <td>E1</td>\n      <td>E2</td>\n      <td>E3</td>\n      <td>E4</td>\n    </tr>\n    <tr>\n      <th>5</th>\n      <td>F1</td>\n      <td>F2</td>\n      <td>F3</td>\n      <td>F4</td>\n    </tr>\n    <tr>\n      <th>6</th>\n      <td>G1</td>\n      <td>G2</td>\n      <td>G3</td>\n      <td>G4</td>\n    </tr>\n  </tbody>\n</table>\n</div>"
     },
     "execution_count": 55,
     "metadata": {},
     "output_type": "execute_result"
    }
   ],
   "source": [
    "copy"
   ],
   "metadata": {
    "collapsed": false,
    "ExecuteTime": {
     "end_time": "2023-10-26T11:43:16.350435200Z",
     "start_time": "2023-10-26T11:43:16.226303500Z"
    }
   },
   "id": "ce944bec379a4c5"
  },
  {
   "cell_type": "code",
   "execution_count": 58,
   "outputs": [],
   "source": [
    "copy.rename(index={4: \"Four\"}, inplace=True)"
   ],
   "metadata": {
    "collapsed": false,
    "ExecuteTime": {
     "end_time": "2023-10-26T11:44:23.728476200Z",
     "start_time": "2023-10-26T11:44:23.667297400Z"
    }
   },
   "id": "86b34b827f5aceed"
  },
  {
   "cell_type": "code",
   "execution_count": 59,
   "outputs": [
    {
     "data": {
      "text/plain": "       A Column B   C Jan\n0     A1       A2  A3  A4\n1     B1       B2  B3  B4\n2     C1       C2  C3  C4\n3     D1       D2  D3  D4\nFour  E1       E2  E3  E4\n5     F1       F2  F3  F4\n6     G1       G2  G3  G4",
      "text/html": "<div>\n<style scoped>\n    .dataframe tbody tr th:only-of-type {\n        vertical-align: middle;\n    }\n\n    .dataframe tbody tr th {\n        vertical-align: top;\n    }\n\n    .dataframe thead th {\n        text-align: right;\n    }\n</style>\n<table border=\"1\" class=\"dataframe\">\n  <thead>\n    <tr style=\"text-align: right;\">\n      <th></th>\n      <th>A</th>\n      <th>Column B</th>\n      <th>C</th>\n      <th>Jan</th>\n    </tr>\n  </thead>\n  <tbody>\n    <tr>\n      <th>0</th>\n      <td>A1</td>\n      <td>A2</td>\n      <td>A3</td>\n      <td>A4</td>\n    </tr>\n    <tr>\n      <th>1</th>\n      <td>B1</td>\n      <td>B2</td>\n      <td>B3</td>\n      <td>B4</td>\n    </tr>\n    <tr>\n      <th>2</th>\n      <td>C1</td>\n      <td>C2</td>\n      <td>C3</td>\n      <td>C4</td>\n    </tr>\n    <tr>\n      <th>3</th>\n      <td>D1</td>\n      <td>D2</td>\n      <td>D3</td>\n      <td>D4</td>\n    </tr>\n    <tr>\n      <th>Four</th>\n      <td>E1</td>\n      <td>E2</td>\n      <td>E3</td>\n      <td>E4</td>\n    </tr>\n    <tr>\n      <th>5</th>\n      <td>F1</td>\n      <td>F2</td>\n      <td>F3</td>\n      <td>F4</td>\n    </tr>\n    <tr>\n      <th>6</th>\n      <td>G1</td>\n      <td>G2</td>\n      <td>G3</td>\n      <td>G4</td>\n    </tr>\n  </tbody>\n</table>\n</div>"
     },
     "execution_count": 59,
     "metadata": {},
     "output_type": "execute_result"
    }
   ],
   "source": [
    "copy"
   ],
   "metadata": {
    "collapsed": false,
    "ExecuteTime": {
     "end_time": "2023-10-26T11:44:24.838850Z",
     "start_time": "2023-10-26T11:44:24.794287700Z"
    }
   },
   "id": "64d8e159ecffefd4"
  },
  {
   "cell_type": "code",
   "execution_count": 60,
   "outputs": [],
   "source": [
    "copy.rename(columns={\"A\": \"Column A\"}, index={1: \"One\"}, inplace=True)"
   ],
   "metadata": {
    "collapsed": false,
    "ExecuteTime": {
     "end_time": "2023-10-26T11:45:52.793866Z",
     "start_time": "2023-10-26T11:45:52.715028400Z"
    }
   },
   "id": "3a32a89a53b65c6"
  },
  {
   "cell_type": "code",
   "execution_count": 61,
   "outputs": [
    {
     "data": {
      "text/plain": "     Column A Column B   C Jan\n0          A1       A2  A3  A4\nOne        B1       B2  B3  B4\n2          C1       C2  C3  C4\n3          D1       D2  D3  D4\nFour       E1       E2  E3  E4\n5          F1       F2  F3  F4\n6          G1       G2  G3  G4",
      "text/html": "<div>\n<style scoped>\n    .dataframe tbody tr th:only-of-type {\n        vertical-align: middle;\n    }\n\n    .dataframe tbody tr th {\n        vertical-align: top;\n    }\n\n    .dataframe thead th {\n        text-align: right;\n    }\n</style>\n<table border=\"1\" class=\"dataframe\">\n  <thead>\n    <tr style=\"text-align: right;\">\n      <th></th>\n      <th>Column A</th>\n      <th>Column B</th>\n      <th>C</th>\n      <th>Jan</th>\n    </tr>\n  </thead>\n  <tbody>\n    <tr>\n      <th>0</th>\n      <td>A1</td>\n      <td>A2</td>\n      <td>A3</td>\n      <td>A4</td>\n    </tr>\n    <tr>\n      <th>One</th>\n      <td>B1</td>\n      <td>B2</td>\n      <td>B3</td>\n      <td>B4</td>\n    </tr>\n    <tr>\n      <th>2</th>\n      <td>C1</td>\n      <td>C2</td>\n      <td>C3</td>\n      <td>C4</td>\n    </tr>\n    <tr>\n      <th>3</th>\n      <td>D1</td>\n      <td>D2</td>\n      <td>D3</td>\n      <td>D4</td>\n    </tr>\n    <tr>\n      <th>Four</th>\n      <td>E1</td>\n      <td>E2</td>\n      <td>E3</td>\n      <td>E4</td>\n    </tr>\n    <tr>\n      <th>5</th>\n      <td>F1</td>\n      <td>F2</td>\n      <td>F3</td>\n      <td>F4</td>\n    </tr>\n    <tr>\n      <th>6</th>\n      <td>G1</td>\n      <td>G2</td>\n      <td>G3</td>\n      <td>G4</td>\n    </tr>\n  </tbody>\n</table>\n</div>"
     },
     "execution_count": 61,
     "metadata": {},
     "output_type": "execute_result"
    }
   ],
   "source": [
    "copy"
   ],
   "metadata": {
    "collapsed": false,
    "ExecuteTime": {
     "end_time": "2023-10-26T11:45:55.285124100Z",
     "start_time": "2023-10-26T11:45:55.142196100Z"
    }
   },
   "id": "7528ba320e596d92"
  },
  {
   "cell_type": "markdown",
   "source": [
    "### Delete rows and columns"
   ],
   "metadata": {
    "collapsed": false
   },
   "id": "396a853816003656"
  },
  {
   "cell_type": "code",
   "execution_count": 62,
   "outputs": [],
   "source": [
    "copy = df.copy()"
   ],
   "metadata": {
    "collapsed": false,
    "ExecuteTime": {
     "end_time": "2023-10-26T11:46:58.789762100Z",
     "start_time": "2023-10-26T11:46:58.697453700Z"
    }
   },
   "id": "9ab4b78b48a0055c"
  },
  {
   "cell_type": "code",
   "execution_count": 63,
   "outputs": [
    {
     "data": {
      "text/plain": "  Column1 Column2 Column3 Column4\nA      A1      A2      A3      A4\nB      B1      B2      B3      B4\nC      C1      C2      C3      C4\nD      D1      D2      D3      D4\nE      E1      E2      E3      E4\nF      F1      F2      F3      F4\nG      G1      G2      G3      G4",
      "text/html": "<div>\n<style scoped>\n    .dataframe tbody tr th:only-of-type {\n        vertical-align: middle;\n    }\n\n    .dataframe tbody tr th {\n        vertical-align: top;\n    }\n\n    .dataframe thead th {\n        text-align: right;\n    }\n</style>\n<table border=\"1\" class=\"dataframe\">\n  <thead>\n    <tr style=\"text-align: right;\">\n      <th></th>\n      <th>Column1</th>\n      <th>Column2</th>\n      <th>Column3</th>\n      <th>Column4</th>\n    </tr>\n  </thead>\n  <tbody>\n    <tr>\n      <th>A</th>\n      <td>A1</td>\n      <td>A2</td>\n      <td>A3</td>\n      <td>A4</td>\n    </tr>\n    <tr>\n      <th>B</th>\n      <td>B1</td>\n      <td>B2</td>\n      <td>B3</td>\n      <td>B4</td>\n    </tr>\n    <tr>\n      <th>C</th>\n      <td>C1</td>\n      <td>C2</td>\n      <td>C3</td>\n      <td>C4</td>\n    </tr>\n    <tr>\n      <th>D</th>\n      <td>D1</td>\n      <td>D2</td>\n      <td>D3</td>\n      <td>D4</td>\n    </tr>\n    <tr>\n      <th>E</th>\n      <td>E1</td>\n      <td>E2</td>\n      <td>E3</td>\n      <td>E4</td>\n    </tr>\n    <tr>\n      <th>F</th>\n      <td>F1</td>\n      <td>F2</td>\n      <td>F3</td>\n      <td>F4</td>\n    </tr>\n    <tr>\n      <th>G</th>\n      <td>G1</td>\n      <td>G2</td>\n      <td>G3</td>\n      <td>G4</td>\n    </tr>\n  </tbody>\n</table>\n</div>"
     },
     "execution_count": 63,
     "metadata": {},
     "output_type": "execute_result"
    }
   ],
   "source": [
    "copy"
   ],
   "metadata": {
    "collapsed": false,
    "ExecuteTime": {
     "end_time": "2023-10-26T11:47:01.312927500Z",
     "start_time": "2023-10-26T11:47:01.184759600Z"
    }
   },
   "id": "d2739b6c62b22ebf"
  },
  {
   "cell_type": "code",
   "execution_count": 67,
   "outputs": [
    {
     "ename": "KeyError",
     "evalue": "\"['D'] not found in axis\"",
     "output_type": "error",
     "traceback": [
      "\u001B[1;31m---------------------------------------------------------------------------\u001B[0m",
      "\u001B[1;31mKeyError\u001B[0m                                  Traceback (most recent call last)",
      "Cell \u001B[1;32mIn[67], line 1\u001B[0m\n\u001B[1;32m----> 1\u001B[0m \u001B[43mcopy\u001B[49m\u001B[38;5;241;43m.\u001B[39;49m\u001B[43mdrop\u001B[49m\u001B[43m(\u001B[49m\u001B[43mindex\u001B[49m\u001B[38;5;241;43m=\u001B[39;49m\u001B[38;5;124;43m\"\u001B[39;49m\u001B[38;5;124;43mD\u001B[39;49m\u001B[38;5;124;43m\"\u001B[39;49m\u001B[43m,\u001B[49m\u001B[43m \u001B[49m\u001B[43minplace\u001B[49m\u001B[38;5;241;43m=\u001B[39;49m\u001B[38;5;28;43;01mTrue\u001B[39;49;00m\u001B[43m)\u001B[49m\n",
      "File \u001B[1;32m~\\Documents\\GitHub\\venv\\Lib\\site-packages\\pandas\\core\\frame.py:5347\u001B[0m, in \u001B[0;36mDataFrame.drop\u001B[1;34m(self, labels, axis, index, columns, level, inplace, errors)\u001B[0m\n\u001B[0;32m   5199\u001B[0m \u001B[38;5;28;01mdef\u001B[39;00m \u001B[38;5;21mdrop\u001B[39m(\n\u001B[0;32m   5200\u001B[0m     \u001B[38;5;28mself\u001B[39m,\n\u001B[0;32m   5201\u001B[0m     labels: IndexLabel \u001B[38;5;241m|\u001B[39m \u001B[38;5;28;01mNone\u001B[39;00m \u001B[38;5;241m=\u001B[39m \u001B[38;5;28;01mNone\u001B[39;00m,\n\u001B[1;32m   (...)\u001B[0m\n\u001B[0;32m   5208\u001B[0m     errors: IgnoreRaise \u001B[38;5;241m=\u001B[39m \u001B[38;5;124m\"\u001B[39m\u001B[38;5;124mraise\u001B[39m\u001B[38;5;124m\"\u001B[39m,\n\u001B[0;32m   5209\u001B[0m ) \u001B[38;5;241m-\u001B[39m\u001B[38;5;241m>\u001B[39m DataFrame \u001B[38;5;241m|\u001B[39m \u001B[38;5;28;01mNone\u001B[39;00m:\n\u001B[0;32m   5210\u001B[0m \u001B[38;5;250m    \u001B[39m\u001B[38;5;124;03m\"\"\"\u001B[39;00m\n\u001B[0;32m   5211\u001B[0m \u001B[38;5;124;03m    Drop specified labels from rows or columns.\u001B[39;00m\n\u001B[0;32m   5212\u001B[0m \n\u001B[1;32m   (...)\u001B[0m\n\u001B[0;32m   5345\u001B[0m \u001B[38;5;124;03m            weight  1.0     0.8\u001B[39;00m\n\u001B[0;32m   5346\u001B[0m \u001B[38;5;124;03m    \"\"\"\u001B[39;00m\n\u001B[1;32m-> 5347\u001B[0m     \u001B[38;5;28;01mreturn\u001B[39;00m \u001B[38;5;28;43msuper\u001B[39;49m\u001B[43m(\u001B[49m\u001B[43m)\u001B[49m\u001B[38;5;241;43m.\u001B[39;49m\u001B[43mdrop\u001B[49m\u001B[43m(\u001B[49m\n\u001B[0;32m   5348\u001B[0m \u001B[43m        \u001B[49m\u001B[43mlabels\u001B[49m\u001B[38;5;241;43m=\u001B[39;49m\u001B[43mlabels\u001B[49m\u001B[43m,\u001B[49m\n\u001B[0;32m   5349\u001B[0m \u001B[43m        \u001B[49m\u001B[43maxis\u001B[49m\u001B[38;5;241;43m=\u001B[39;49m\u001B[43maxis\u001B[49m\u001B[43m,\u001B[49m\n\u001B[0;32m   5350\u001B[0m \u001B[43m        \u001B[49m\u001B[43mindex\u001B[49m\u001B[38;5;241;43m=\u001B[39;49m\u001B[43mindex\u001B[49m\u001B[43m,\u001B[49m\n\u001B[0;32m   5351\u001B[0m \u001B[43m        \u001B[49m\u001B[43mcolumns\u001B[49m\u001B[38;5;241;43m=\u001B[39;49m\u001B[43mcolumns\u001B[49m\u001B[43m,\u001B[49m\n\u001B[0;32m   5352\u001B[0m \u001B[43m        \u001B[49m\u001B[43mlevel\u001B[49m\u001B[38;5;241;43m=\u001B[39;49m\u001B[43mlevel\u001B[49m\u001B[43m,\u001B[49m\n\u001B[0;32m   5353\u001B[0m \u001B[43m        \u001B[49m\u001B[43minplace\u001B[49m\u001B[38;5;241;43m=\u001B[39;49m\u001B[43minplace\u001B[49m\u001B[43m,\u001B[49m\n\u001B[0;32m   5354\u001B[0m \u001B[43m        \u001B[49m\u001B[43merrors\u001B[49m\u001B[38;5;241;43m=\u001B[39;49m\u001B[43merrors\u001B[49m\u001B[43m,\u001B[49m\n\u001B[0;32m   5355\u001B[0m \u001B[43m    \u001B[49m\u001B[43m)\u001B[49m\n",
      "File \u001B[1;32m~\\Documents\\GitHub\\venv\\Lib\\site-packages\\pandas\\core\\generic.py:4711\u001B[0m, in \u001B[0;36mNDFrame.drop\u001B[1;34m(self, labels, axis, index, columns, level, inplace, errors)\u001B[0m\n\u001B[0;32m   4709\u001B[0m \u001B[38;5;28;01mfor\u001B[39;00m axis, labels \u001B[38;5;129;01min\u001B[39;00m axes\u001B[38;5;241m.\u001B[39mitems():\n\u001B[0;32m   4710\u001B[0m     \u001B[38;5;28;01mif\u001B[39;00m labels \u001B[38;5;129;01mis\u001B[39;00m \u001B[38;5;129;01mnot\u001B[39;00m \u001B[38;5;28;01mNone\u001B[39;00m:\n\u001B[1;32m-> 4711\u001B[0m         obj \u001B[38;5;241m=\u001B[39m \u001B[43mobj\u001B[49m\u001B[38;5;241;43m.\u001B[39;49m\u001B[43m_drop_axis\u001B[49m\u001B[43m(\u001B[49m\u001B[43mlabels\u001B[49m\u001B[43m,\u001B[49m\u001B[43m \u001B[49m\u001B[43maxis\u001B[49m\u001B[43m,\u001B[49m\u001B[43m \u001B[49m\u001B[43mlevel\u001B[49m\u001B[38;5;241;43m=\u001B[39;49m\u001B[43mlevel\u001B[49m\u001B[43m,\u001B[49m\u001B[43m \u001B[49m\u001B[43merrors\u001B[49m\u001B[38;5;241;43m=\u001B[39;49m\u001B[43merrors\u001B[49m\u001B[43m)\u001B[49m\n\u001B[0;32m   4713\u001B[0m \u001B[38;5;28;01mif\u001B[39;00m inplace:\n\u001B[0;32m   4714\u001B[0m     \u001B[38;5;28mself\u001B[39m\u001B[38;5;241m.\u001B[39m_update_inplace(obj)\n",
      "File \u001B[1;32m~\\Documents\\GitHub\\venv\\Lib\\site-packages\\pandas\\core\\generic.py:4753\u001B[0m, in \u001B[0;36mNDFrame._drop_axis\u001B[1;34m(self, labels, axis, level, errors, only_slice)\u001B[0m\n\u001B[0;32m   4751\u001B[0m         new_axis \u001B[38;5;241m=\u001B[39m axis\u001B[38;5;241m.\u001B[39mdrop(labels, level\u001B[38;5;241m=\u001B[39mlevel, errors\u001B[38;5;241m=\u001B[39merrors)\n\u001B[0;32m   4752\u001B[0m     \u001B[38;5;28;01melse\u001B[39;00m:\n\u001B[1;32m-> 4753\u001B[0m         new_axis \u001B[38;5;241m=\u001B[39m \u001B[43maxis\u001B[49m\u001B[38;5;241;43m.\u001B[39;49m\u001B[43mdrop\u001B[49m\u001B[43m(\u001B[49m\u001B[43mlabels\u001B[49m\u001B[43m,\u001B[49m\u001B[43m \u001B[49m\u001B[43merrors\u001B[49m\u001B[38;5;241;43m=\u001B[39;49m\u001B[43merrors\u001B[49m\u001B[43m)\u001B[49m\n\u001B[0;32m   4754\u001B[0m     indexer \u001B[38;5;241m=\u001B[39m axis\u001B[38;5;241m.\u001B[39mget_indexer(new_axis)\n\u001B[0;32m   4756\u001B[0m \u001B[38;5;66;03m# Case for non-unique axis\u001B[39;00m\n\u001B[0;32m   4757\u001B[0m \u001B[38;5;28;01melse\u001B[39;00m:\n",
      "File \u001B[1;32m~\\Documents\\GitHub\\venv\\Lib\\site-packages\\pandas\\core\\indexes\\base.py:6992\u001B[0m, in \u001B[0;36mIndex.drop\u001B[1;34m(self, labels, errors)\u001B[0m\n\u001B[0;32m   6990\u001B[0m \u001B[38;5;28;01mif\u001B[39;00m mask\u001B[38;5;241m.\u001B[39many():\n\u001B[0;32m   6991\u001B[0m     \u001B[38;5;28;01mif\u001B[39;00m errors \u001B[38;5;241m!=\u001B[39m \u001B[38;5;124m\"\u001B[39m\u001B[38;5;124mignore\u001B[39m\u001B[38;5;124m\"\u001B[39m:\n\u001B[1;32m-> 6992\u001B[0m         \u001B[38;5;28;01mraise\u001B[39;00m \u001B[38;5;167;01mKeyError\u001B[39;00m(\u001B[38;5;124mf\u001B[39m\u001B[38;5;124m\"\u001B[39m\u001B[38;5;132;01m{\u001B[39;00mlabels[mask]\u001B[38;5;241m.\u001B[39mtolist()\u001B[38;5;132;01m}\u001B[39;00m\u001B[38;5;124m not found in axis\u001B[39m\u001B[38;5;124m\"\u001B[39m)\n\u001B[0;32m   6993\u001B[0m     indexer \u001B[38;5;241m=\u001B[39m indexer[\u001B[38;5;241m~\u001B[39mmask]\n\u001B[0;32m   6994\u001B[0m \u001B[38;5;28;01mreturn\u001B[39;00m \u001B[38;5;28mself\u001B[39m\u001B[38;5;241m.\u001B[39mdelete(indexer)\n",
      "\u001B[1;31mKeyError\u001B[0m: \"['D'] not found in axis\""
     ]
    }
   ],
   "source": [
    "copy.drop(index=\"D\", inplace=True)"
   ],
   "metadata": {
    "collapsed": false,
    "ExecuteTime": {
     "end_time": "2023-10-26T11:48:40.524449700Z",
     "start_time": "2023-10-26T11:48:40.388684300Z"
    }
   },
   "id": "358042ec80a6c6c5"
  },
  {
   "cell_type": "code",
   "execution_count": 68,
   "outputs": [
    {
     "data": {
      "text/plain": "  Column1 Column2 Column3 Column4\nA      A1      A2      A3      A4\nB      B1      B2      B3      B4\nC      C1      C2      C3      C4\nG      G1      G2      G3      G4",
      "text/html": "<div>\n<style scoped>\n    .dataframe tbody tr th:only-of-type {\n        vertical-align: middle;\n    }\n\n    .dataframe tbody tr th {\n        vertical-align: top;\n    }\n\n    .dataframe thead th {\n        text-align: right;\n    }\n</style>\n<table border=\"1\" class=\"dataframe\">\n  <thead>\n    <tr style=\"text-align: right;\">\n      <th></th>\n      <th>Column1</th>\n      <th>Column2</th>\n      <th>Column3</th>\n      <th>Column4</th>\n    </tr>\n  </thead>\n  <tbody>\n    <tr>\n      <th>A</th>\n      <td>A1</td>\n      <td>A2</td>\n      <td>A3</td>\n      <td>A4</td>\n    </tr>\n    <tr>\n      <th>B</th>\n      <td>B1</td>\n      <td>B2</td>\n      <td>B3</td>\n      <td>B4</td>\n    </tr>\n    <tr>\n      <th>C</th>\n      <td>C1</td>\n      <td>C2</td>\n      <td>C3</td>\n      <td>C4</td>\n    </tr>\n    <tr>\n      <th>G</th>\n      <td>G1</td>\n      <td>G2</td>\n      <td>G3</td>\n      <td>G4</td>\n    </tr>\n  </tbody>\n</table>\n</div>"
     },
     "execution_count": 68,
     "metadata": {},
     "output_type": "execute_result"
    }
   ],
   "source": [
    "copy.drop(index=[\"E\", \"F\"])"
   ],
   "metadata": {
    "collapsed": false,
    "ExecuteTime": {
     "end_time": "2023-10-26T11:49:37.407239900Z",
     "start_time": "2023-10-26T11:49:37.325142500Z"
    }
   },
   "id": "f801a608e4d9b6f5"
  },
  {
   "cell_type": "code",
   "execution_count": 69,
   "outputs": [
    {
     "data": {
      "text/plain": "  Column1 Column2 Column3 Column4\nA      A1      A2      A3      A4\nB      B1      B2      B3      B4\nC      C1      C2      C3      C4\nE      E1      E2      E3      E4\nF      F1      F2      F3      F4\nG      G1      G2      G3      G4",
      "text/html": "<div>\n<style scoped>\n    .dataframe tbody tr th:only-of-type {\n        vertical-align: middle;\n    }\n\n    .dataframe tbody tr th {\n        vertical-align: top;\n    }\n\n    .dataframe thead th {\n        text-align: right;\n    }\n</style>\n<table border=\"1\" class=\"dataframe\">\n  <thead>\n    <tr style=\"text-align: right;\">\n      <th></th>\n      <th>Column1</th>\n      <th>Column2</th>\n      <th>Column3</th>\n      <th>Column4</th>\n    </tr>\n  </thead>\n  <tbody>\n    <tr>\n      <th>A</th>\n      <td>A1</td>\n      <td>A2</td>\n      <td>A3</td>\n      <td>A4</td>\n    </tr>\n    <tr>\n      <th>B</th>\n      <td>B1</td>\n      <td>B2</td>\n      <td>B3</td>\n      <td>B4</td>\n    </tr>\n    <tr>\n      <th>C</th>\n      <td>C1</td>\n      <td>C2</td>\n      <td>C3</td>\n      <td>C4</td>\n    </tr>\n    <tr>\n      <th>E</th>\n      <td>E1</td>\n      <td>E2</td>\n      <td>E3</td>\n      <td>E4</td>\n    </tr>\n    <tr>\n      <th>F</th>\n      <td>F1</td>\n      <td>F2</td>\n      <td>F3</td>\n      <td>F4</td>\n    </tr>\n    <tr>\n      <th>G</th>\n      <td>G1</td>\n      <td>G2</td>\n      <td>G3</td>\n      <td>G4</td>\n    </tr>\n  </tbody>\n</table>\n</div>"
     },
     "execution_count": 69,
     "metadata": {},
     "output_type": "execute_result"
    }
   ],
   "source": [
    "copy"
   ],
   "metadata": {
    "collapsed": false,
    "ExecuteTime": {
     "end_time": "2023-10-26T11:49:51.179532700Z",
     "start_time": "2023-10-26T11:49:51.018401200Z"
    }
   },
   "id": "93e2b70fcb6edf62"
  },
  {
   "cell_type": "code",
   "execution_count": 70,
   "outputs": [
    {
     "data": {
      "text/plain": "  Column1 Column2 Column4\nA      A1      A2      A4\nB      B1      B2      B4\nC      C1      C2      C4\nG      G1      G2      G4",
      "text/html": "<div>\n<style scoped>\n    .dataframe tbody tr th:only-of-type {\n        vertical-align: middle;\n    }\n\n    .dataframe tbody tr th {\n        vertical-align: top;\n    }\n\n    .dataframe thead th {\n        text-align: right;\n    }\n</style>\n<table border=\"1\" class=\"dataframe\">\n  <thead>\n    <tr style=\"text-align: right;\">\n      <th></th>\n      <th>Column1</th>\n      <th>Column2</th>\n      <th>Column4</th>\n    </tr>\n  </thead>\n  <tbody>\n    <tr>\n      <th>A</th>\n      <td>A1</td>\n      <td>A2</td>\n      <td>A4</td>\n    </tr>\n    <tr>\n      <th>B</th>\n      <td>B1</td>\n      <td>B2</td>\n      <td>B4</td>\n    </tr>\n    <tr>\n      <th>C</th>\n      <td>C1</td>\n      <td>C2</td>\n      <td>C4</td>\n    </tr>\n    <tr>\n      <th>G</th>\n      <td>G1</td>\n      <td>G2</td>\n      <td>G4</td>\n    </tr>\n  </tbody>\n</table>\n</div>"
     },
     "execution_count": 70,
     "metadata": {},
     "output_type": "execute_result"
    }
   ],
   "source": [
    "copy.drop(index=[\"E\", \"F\"], columns=\"Column3\")"
   ],
   "metadata": {
    "collapsed": false,
    "ExecuteTime": {
     "end_time": "2023-10-26T11:50:26.306078100Z",
     "start_time": "2023-10-26T11:50:26.215402Z"
    }
   },
   "id": "4cd9958ee5aa2760"
  },
  {
   "cell_type": "code",
   "execution_count": 71,
   "outputs": [
    {
     "data": {
      "text/plain": "  Column1 Column2 Column3 Column4\nA      A1      A2      A3      A4\nB      B1      B2      B3      B4\nC      C1      C2      C3      C4\nE      E1      E2      E3      E4\nF      F1      F2      F3      F4\nG      G1      G2      G3      G4",
      "text/html": "<div>\n<style scoped>\n    .dataframe tbody tr th:only-of-type {\n        vertical-align: middle;\n    }\n\n    .dataframe tbody tr th {\n        vertical-align: top;\n    }\n\n    .dataframe thead th {\n        text-align: right;\n    }\n</style>\n<table border=\"1\" class=\"dataframe\">\n  <thead>\n    <tr style=\"text-align: right;\">\n      <th></th>\n      <th>Column1</th>\n      <th>Column2</th>\n      <th>Column3</th>\n      <th>Column4</th>\n    </tr>\n  </thead>\n  <tbody>\n    <tr>\n      <th>A</th>\n      <td>A1</td>\n      <td>A2</td>\n      <td>A3</td>\n      <td>A4</td>\n    </tr>\n    <tr>\n      <th>B</th>\n      <td>B1</td>\n      <td>B2</td>\n      <td>B3</td>\n      <td>B4</td>\n    </tr>\n    <tr>\n      <th>C</th>\n      <td>C1</td>\n      <td>C2</td>\n      <td>C3</td>\n      <td>C4</td>\n    </tr>\n    <tr>\n      <th>E</th>\n      <td>E1</td>\n      <td>E2</td>\n      <td>E3</td>\n      <td>E4</td>\n    </tr>\n    <tr>\n      <th>F</th>\n      <td>F1</td>\n      <td>F2</td>\n      <td>F3</td>\n      <td>F4</td>\n    </tr>\n    <tr>\n      <th>G</th>\n      <td>G1</td>\n      <td>G2</td>\n      <td>G3</td>\n      <td>G4</td>\n    </tr>\n  </tbody>\n</table>\n</div>"
     },
     "execution_count": 71,
     "metadata": {},
     "output_type": "execute_result"
    }
   ],
   "source": [
    "copy"
   ],
   "metadata": {
    "collapsed": false,
    "ExecuteTime": {
     "end_time": "2023-10-26T11:50:31.317597Z",
     "start_time": "2023-10-26T11:50:31.212329800Z"
    }
   },
   "id": "86579c555f7cbf85"
  },
  {
   "cell_type": "code",
   "execution_count": 72,
   "outputs": [],
   "source": [
    "copy.drop(index=[\"E\", \"F\"], columns=\"Column3\", inplace=True)"
   ],
   "metadata": {
    "collapsed": false,
    "ExecuteTime": {
     "end_time": "2023-10-26T11:50:49.460974700Z",
     "start_time": "2023-10-26T11:50:49.335347900Z"
    }
   },
   "id": "c4754fcecc003a7b"
  },
  {
   "cell_type": "code",
   "execution_count": 73,
   "outputs": [
    {
     "data": {
      "text/plain": "  Column1 Column2 Column4\nA      A1      A2      A4\nB      B1      B2      B4\nC      C1      C2      C4\nG      G1      G2      G4",
      "text/html": "<div>\n<style scoped>\n    .dataframe tbody tr th:only-of-type {\n        vertical-align: middle;\n    }\n\n    .dataframe tbody tr th {\n        vertical-align: top;\n    }\n\n    .dataframe thead th {\n        text-align: right;\n    }\n</style>\n<table border=\"1\" class=\"dataframe\">\n  <thead>\n    <tr style=\"text-align: right;\">\n      <th></th>\n      <th>Column1</th>\n      <th>Column2</th>\n      <th>Column4</th>\n    </tr>\n  </thead>\n  <tbody>\n    <tr>\n      <th>A</th>\n      <td>A1</td>\n      <td>A2</td>\n      <td>A4</td>\n    </tr>\n    <tr>\n      <th>B</th>\n      <td>B1</td>\n      <td>B2</td>\n      <td>B4</td>\n    </tr>\n    <tr>\n      <th>C</th>\n      <td>C1</td>\n      <td>C2</td>\n      <td>C4</td>\n    </tr>\n    <tr>\n      <th>G</th>\n      <td>G1</td>\n      <td>G2</td>\n      <td>G4</td>\n    </tr>\n  </tbody>\n</table>\n</div>"
     },
     "execution_count": 73,
     "metadata": {},
     "output_type": "execute_result"
    }
   ],
   "source": [
    "copy"
   ],
   "metadata": {
    "collapsed": false,
    "ExecuteTime": {
     "end_time": "2023-10-26T11:50:51.887537100Z",
     "start_time": "2023-10-26T11:50:51.712777300Z"
    }
   },
   "id": "cf1004632d41a424"
  },
  {
   "cell_type": "code",
   "execution_count": null,
   "outputs": [],
   "source": [],
   "metadata": {
    "collapsed": false
   },
   "id": "b94330aa44d4b94f"
  }
 ],
 "metadata": {
  "kernelspec": {
   "display_name": "Python 3",
   "language": "python",
   "name": "python3"
  },
  "language_info": {
   "codemirror_mode": {
    "name": "ipython",
    "version": 2
   },
   "file_extension": ".py",
   "mimetype": "text/x-python",
   "name": "python",
   "nbconvert_exporter": "python",
   "pygments_lexer": "ipython2",
   "version": "2.7.6"
  }
 },
 "nbformat": 4,
 "nbformat_minor": 5
}
