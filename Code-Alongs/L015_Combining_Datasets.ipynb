{
 "cells": [
  {
   "cell_type": "markdown",
   "source": [
    "### Combining datasets\n",
    "Pandas provides various facilities for easily combining Series or DataFrames.\n",
    "- **Concat:** combining DataFrames across rows or columns\n",
    "- **Join:** combining data on a key column or an index\n",
    "- **Merge:** combining data on common columns or indexes"
   ],
   "metadata": {
    "collapsed": false
   },
   "id": "f85511a5f0f97f4d"
  },
  {
   "cell_type": "code",
   "execution_count": 73,
   "outputs": [],
   "source": [
    "from helpers import sample_df, hdisplay, nowrap_display\n",
    "import pandas as pd"
   ],
   "metadata": {
    "collapsed": false,
    "ExecuteTime": {
     "end_time": "2023-11-09T10:56:20.602785400Z",
     "start_time": "2023-11-09T10:56:20.573455800Z"
    }
   },
   "id": "de5315aa10ecd60e"
  },
  {
   "cell_type": "code",
   "execution_count": 2,
   "outputs": [
    {
     "data": {
      "text/plain": "    A   B   C   D\n0  A0  B0  C0  D0\n1  A1  B1  C1  D1\n2  A2  B2  C2  D2\n3  A3  B3  C3  D3",
      "text/html": "<div>\n<style scoped>\n    .dataframe tbody tr th:only-of-type {\n        vertical-align: middle;\n    }\n\n    .dataframe tbody tr th {\n        vertical-align: top;\n    }\n\n    .dataframe thead th {\n        text-align: right;\n    }\n</style>\n<table border=\"1\" class=\"dataframe\">\n  <thead>\n    <tr style=\"text-align: right;\">\n      <th></th>\n      <th>A</th>\n      <th>B</th>\n      <th>C</th>\n      <th>D</th>\n    </tr>\n  </thead>\n  <tbody>\n    <tr>\n      <th>0</th>\n      <td>A0</td>\n      <td>B0</td>\n      <td>C0</td>\n      <td>D0</td>\n    </tr>\n    <tr>\n      <th>1</th>\n      <td>A1</td>\n      <td>B1</td>\n      <td>C1</td>\n      <td>D1</td>\n    </tr>\n    <tr>\n      <th>2</th>\n      <td>A2</td>\n      <td>B2</td>\n      <td>C2</td>\n      <td>D2</td>\n    </tr>\n    <tr>\n      <th>3</th>\n      <td>A3</td>\n      <td>B3</td>\n      <td>C3</td>\n      <td>D3</td>\n    </tr>\n  </tbody>\n</table>\n</div>"
     },
     "execution_count": 2,
     "metadata": {},
     "output_type": "execute_result"
    }
   ],
   "source": [
    "# Sample data\n",
    "sample_df(\"A0\", \"D3\")"
   ],
   "metadata": {
    "collapsed": false,
    "ExecuteTime": {
     "end_time": "2023-11-09T08:19:54.550475200Z",
     "start_time": "2023-11-09T08:19:54.449552400Z"
    }
   },
   "id": "dfb4b43bdf9b72af"
  },
  {
   "cell_type": "code",
   "execution_count": 7,
   "outputs": [],
   "source": [
    "left = sample_df(\"A0\", \"D3\", prefix=\"L_\")"
   ],
   "metadata": {
    "collapsed": false,
    "ExecuteTime": {
     "end_time": "2023-11-09T08:25:33.399321200Z",
     "start_time": "2023-11-09T08:25:33.366991900Z"
    }
   },
   "id": "487b607dbc870c82"
  },
  {
   "cell_type": "code",
   "execution_count": 8,
   "outputs": [],
   "source": [
    "right = sample_df(\"A0\", \"D3\", prefix=\"R_\")"
   ],
   "metadata": {
    "collapsed": false,
    "ExecuteTime": {
     "end_time": "2023-11-09T08:25:34.537248100Z",
     "start_time": "2023-11-09T08:25:34.513280300Z"
    }
   },
   "id": "3eb2322aff59010d"
  },
  {
   "cell_type": "code",
   "execution_count": 9,
   "outputs": [
    {
     "data": {
      "text/html": "<style type=\"text/css\">\n#T_0cdc6 th {\n  text-align: left;\n  vertical-align: top;\n}\n</style>\n<table id=\"T_0cdc6\" style='display:inline; margin-right: 50px;'>\n  <caption>left</caption>\n  <thead>\n    <tr>\n      <th class=\"blank level0\" >&nbsp;</th>\n      <th id=\"T_0cdc6_level0_col0\" class=\"col_heading level0 col0\" >A</th>\n      <th id=\"T_0cdc6_level0_col1\" class=\"col_heading level0 col1\" >B</th>\n      <th id=\"T_0cdc6_level0_col2\" class=\"col_heading level0 col2\" >C</th>\n      <th id=\"T_0cdc6_level0_col3\" class=\"col_heading level0 col3\" >D</th>\n    </tr>\n  </thead>\n  <tbody>\n    <tr>\n      <th id=\"T_0cdc6_level0_row0\" class=\"row_heading level0 row0\" >0</th>\n      <td id=\"T_0cdc6_row0_col0\" class=\"data row0 col0\" >L_A0</td>\n      <td id=\"T_0cdc6_row0_col1\" class=\"data row0 col1\" >L_B0</td>\n      <td id=\"T_0cdc6_row0_col2\" class=\"data row0 col2\" >L_C0</td>\n      <td id=\"T_0cdc6_row0_col3\" class=\"data row0 col3\" >L_D0</td>\n    </tr>\n    <tr>\n      <th id=\"T_0cdc6_level0_row1\" class=\"row_heading level0 row1\" >1</th>\n      <td id=\"T_0cdc6_row1_col0\" class=\"data row1 col0\" >L_A1</td>\n      <td id=\"T_0cdc6_row1_col1\" class=\"data row1 col1\" >L_B1</td>\n      <td id=\"T_0cdc6_row1_col2\" class=\"data row1 col2\" >L_C1</td>\n      <td id=\"T_0cdc6_row1_col3\" class=\"data row1 col3\" >L_D1</td>\n    </tr>\n    <tr>\n      <th id=\"T_0cdc6_level0_row2\" class=\"row_heading level0 row2\" >2</th>\n      <td id=\"T_0cdc6_row2_col0\" class=\"data row2 col0\" >L_A2</td>\n      <td id=\"T_0cdc6_row2_col1\" class=\"data row2 col1\" >L_B2</td>\n      <td id=\"T_0cdc6_row2_col2\" class=\"data row2 col2\" >L_C2</td>\n      <td id=\"T_0cdc6_row2_col3\" class=\"data row2 col3\" >L_D2</td>\n    </tr>\n    <tr>\n      <th id=\"T_0cdc6_level0_row3\" class=\"row_heading level0 row3\" >3</th>\n      <td id=\"T_0cdc6_row3_col0\" class=\"data row3 col0\" >L_A3</td>\n      <td id=\"T_0cdc6_row3_col1\" class=\"data row3 col1\" >L_B3</td>\n      <td id=\"T_0cdc6_row3_col2\" class=\"data row3 col2\" >L_C3</td>\n      <td id=\"T_0cdc6_row3_col3\" class=\"data row3 col3\" >L_D3</td>\n    </tr>\n  </tbody>\n</table>\n<style type=\"text/css\">\n#T_3fa86 th {\n  text-align: left;\n  vertical-align: top;\n}\n</style>\n<table id=\"T_3fa86\" style='display:inline; margin-right: 50px;'>\n  <caption>right</caption>\n  <thead>\n    <tr>\n      <th class=\"blank level0\" >&nbsp;</th>\n      <th id=\"T_3fa86_level0_col0\" class=\"col_heading level0 col0\" >A</th>\n      <th id=\"T_3fa86_level0_col1\" class=\"col_heading level0 col1\" >B</th>\n      <th id=\"T_3fa86_level0_col2\" class=\"col_heading level0 col2\" >C</th>\n      <th id=\"T_3fa86_level0_col3\" class=\"col_heading level0 col3\" >D</th>\n    </tr>\n  </thead>\n  <tbody>\n    <tr>\n      <th id=\"T_3fa86_level0_row0\" class=\"row_heading level0 row0\" >0</th>\n      <td id=\"T_3fa86_row0_col0\" class=\"data row0 col0\" >R_A0</td>\n      <td id=\"T_3fa86_row0_col1\" class=\"data row0 col1\" >R_B0</td>\n      <td id=\"T_3fa86_row0_col2\" class=\"data row0 col2\" >R_C0</td>\n      <td id=\"T_3fa86_row0_col3\" class=\"data row0 col3\" >R_D0</td>\n    </tr>\n    <tr>\n      <th id=\"T_3fa86_level0_row1\" class=\"row_heading level0 row1\" >1</th>\n      <td id=\"T_3fa86_row1_col0\" class=\"data row1 col0\" >R_A1</td>\n      <td id=\"T_3fa86_row1_col1\" class=\"data row1 col1\" >R_B1</td>\n      <td id=\"T_3fa86_row1_col2\" class=\"data row1 col2\" >R_C1</td>\n      <td id=\"T_3fa86_row1_col3\" class=\"data row1 col3\" >R_D1</td>\n    </tr>\n    <tr>\n      <th id=\"T_3fa86_level0_row2\" class=\"row_heading level0 row2\" >2</th>\n      <td id=\"T_3fa86_row2_col0\" class=\"data row2 col0\" >R_A2</td>\n      <td id=\"T_3fa86_row2_col1\" class=\"data row2 col1\" >R_B2</td>\n      <td id=\"T_3fa86_row2_col2\" class=\"data row2 col2\" >R_C2</td>\n      <td id=\"T_3fa86_row2_col3\" class=\"data row2 col3\" >R_D2</td>\n    </tr>\n    <tr>\n      <th id=\"T_3fa86_level0_row3\" class=\"row_heading level0 row3\" >3</th>\n      <td id=\"T_3fa86_row3_col0\" class=\"data row3 col0\" >R_A3</td>\n      <td id=\"T_3fa86_row3_col1\" class=\"data row3 col1\" >R_B3</td>\n      <td id=\"T_3fa86_row3_col2\" class=\"data row3 col2\" >R_C3</td>\n      <td id=\"T_3fa86_row3_col3\" class=\"data row3 col3\" >R_D3</td>\n    </tr>\n  </tbody>\n</table>\n"
     },
     "metadata": {},
     "output_type": "display_data"
    }
   ],
   "source": [
    "hdisplay([left,right], [\"left\", \"right\"])"
   ],
   "metadata": {
    "collapsed": false,
    "ExecuteTime": {
     "end_time": "2023-11-09T08:25:35.152809300Z",
     "start_time": "2023-11-09T08:25:35.112683500Z"
    }
   },
   "id": "8e866561f58888bf"
  },
  {
   "cell_type": "code",
   "execution_count": 10,
   "outputs": [
    {
     "data": {
      "text/plain": "      A     B     C     D\n0  L_A0  L_B0  L_C0  L_D0\n1  L_A1  L_B1  L_C1  L_D1\n2  L_A2  L_B2  L_C2  L_D2\n3  L_A3  L_B3  L_C3  L_D3\n0  R_A0  R_B0  R_C0  R_D0\n1  R_A1  R_B1  R_C1  R_D1\n2  R_A2  R_B2  R_C2  R_D2\n3  R_A3  R_B3  R_C3  R_D3",
      "text/html": "<div>\n<style scoped>\n    .dataframe tbody tr th:only-of-type {\n        vertical-align: middle;\n    }\n\n    .dataframe tbody tr th {\n        vertical-align: top;\n    }\n\n    .dataframe thead th {\n        text-align: right;\n    }\n</style>\n<table border=\"1\" class=\"dataframe\">\n  <thead>\n    <tr style=\"text-align: right;\">\n      <th></th>\n      <th>A</th>\n      <th>B</th>\n      <th>C</th>\n      <th>D</th>\n    </tr>\n  </thead>\n  <tbody>\n    <tr>\n      <th>0</th>\n      <td>L_A0</td>\n      <td>L_B0</td>\n      <td>L_C0</td>\n      <td>L_D0</td>\n    </tr>\n    <tr>\n      <th>1</th>\n      <td>L_A1</td>\n      <td>L_B1</td>\n      <td>L_C1</td>\n      <td>L_D1</td>\n    </tr>\n    <tr>\n      <th>2</th>\n      <td>L_A2</td>\n      <td>L_B2</td>\n      <td>L_C2</td>\n      <td>L_D2</td>\n    </tr>\n    <tr>\n      <th>3</th>\n      <td>L_A3</td>\n      <td>L_B3</td>\n      <td>L_C3</td>\n      <td>L_D3</td>\n    </tr>\n    <tr>\n      <th>0</th>\n      <td>R_A0</td>\n      <td>R_B0</td>\n      <td>R_C0</td>\n      <td>R_D0</td>\n    </tr>\n    <tr>\n      <th>1</th>\n      <td>R_A1</td>\n      <td>R_B1</td>\n      <td>R_C1</td>\n      <td>R_D1</td>\n    </tr>\n    <tr>\n      <th>2</th>\n      <td>R_A2</td>\n      <td>R_B2</td>\n      <td>R_C2</td>\n      <td>R_D2</td>\n    </tr>\n    <tr>\n      <th>3</th>\n      <td>R_A3</td>\n      <td>R_B3</td>\n      <td>R_C3</td>\n      <td>R_D3</td>\n    </tr>\n  </tbody>\n</table>\n</div>"
     },
     "execution_count": 10,
     "metadata": {},
     "output_type": "execute_result"
    }
   ],
   "source": [
    "pd.concat([left,right])"
   ],
   "metadata": {
    "collapsed": false,
    "ExecuteTime": {
     "end_time": "2023-11-09T08:25:38.964987700Z",
     "start_time": "2023-11-09T08:25:38.944750Z"
    }
   },
   "id": "2549b7acd961c535"
  },
  {
   "cell_type": "code",
   "execution_count": 12,
   "outputs": [
    {
     "data": {
      "text/plain": "      A     B     C     D\n0  L_A0  L_B0  L_C0  L_D0\n1  L_A1  L_B1  L_C1  L_D1\n2  L_A2  L_B2  L_C2  L_D2\n3  L_A3  L_B3  L_C3  L_D3\n0  R_A0  R_B0  R_C0  R_D0\n1  R_A1  R_B1  R_C1  R_D1\n2  R_A2  R_B2  R_C2  R_D2\n3  R_A3  R_B3  R_C3  R_D3",
      "text/html": "<div>\n<style scoped>\n    .dataframe tbody tr th:only-of-type {\n        vertical-align: middle;\n    }\n\n    .dataframe tbody tr th {\n        vertical-align: top;\n    }\n\n    .dataframe thead th {\n        text-align: right;\n    }\n</style>\n<table border=\"1\" class=\"dataframe\">\n  <thead>\n    <tr style=\"text-align: right;\">\n      <th></th>\n      <th>A</th>\n      <th>B</th>\n      <th>C</th>\n      <th>D</th>\n    </tr>\n  </thead>\n  <tbody>\n    <tr>\n      <th>0</th>\n      <td>L_A0</td>\n      <td>L_B0</td>\n      <td>L_C0</td>\n      <td>L_D0</td>\n    </tr>\n    <tr>\n      <th>1</th>\n      <td>L_A1</td>\n      <td>L_B1</td>\n      <td>L_C1</td>\n      <td>L_D1</td>\n    </tr>\n    <tr>\n      <th>2</th>\n      <td>L_A2</td>\n      <td>L_B2</td>\n      <td>L_C2</td>\n      <td>L_D2</td>\n    </tr>\n    <tr>\n      <th>3</th>\n      <td>L_A3</td>\n      <td>L_B3</td>\n      <td>L_C3</td>\n      <td>L_D3</td>\n    </tr>\n    <tr>\n      <th>0</th>\n      <td>R_A0</td>\n      <td>R_B0</td>\n      <td>R_C0</td>\n      <td>R_D0</td>\n    </tr>\n    <tr>\n      <th>1</th>\n      <td>R_A1</td>\n      <td>R_B1</td>\n      <td>R_C1</td>\n      <td>R_D1</td>\n    </tr>\n    <tr>\n      <th>2</th>\n      <td>R_A2</td>\n      <td>R_B2</td>\n      <td>R_C2</td>\n      <td>R_D2</td>\n    </tr>\n    <tr>\n      <th>3</th>\n      <td>R_A3</td>\n      <td>R_B3</td>\n      <td>R_C3</td>\n      <td>R_D3</td>\n    </tr>\n  </tbody>\n</table>\n</div>"
     },
     "execution_count": 12,
     "metadata": {},
     "output_type": "execute_result"
    }
   ],
   "source": [
    "pd.concat([left,right], axis=\"index\")"
   ],
   "metadata": {
    "collapsed": false,
    "ExecuteTime": {
     "end_time": "2023-11-09T08:26:25.569999Z",
     "start_time": "2023-11-09T08:26:25.539979500Z"
    }
   },
   "id": "e038348bfcda1d02"
  },
  {
   "cell_type": "code",
   "execution_count": 13,
   "outputs": [
    {
     "data": {
      "text/plain": "      A     B     C     D     A     B     C     D\n0  L_A0  L_B0  L_C0  L_D0  R_A0  R_B0  R_C0  R_D0\n1  L_A1  L_B1  L_C1  L_D1  R_A1  R_B1  R_C1  R_D1\n2  L_A2  L_B2  L_C2  L_D2  R_A2  R_B2  R_C2  R_D2\n3  L_A3  L_B3  L_C3  L_D3  R_A3  R_B3  R_C3  R_D3",
      "text/html": "<div>\n<style scoped>\n    .dataframe tbody tr th:only-of-type {\n        vertical-align: middle;\n    }\n\n    .dataframe tbody tr th {\n        vertical-align: top;\n    }\n\n    .dataframe thead th {\n        text-align: right;\n    }\n</style>\n<table border=\"1\" class=\"dataframe\">\n  <thead>\n    <tr style=\"text-align: right;\">\n      <th></th>\n      <th>A</th>\n      <th>B</th>\n      <th>C</th>\n      <th>D</th>\n      <th>A</th>\n      <th>B</th>\n      <th>C</th>\n      <th>D</th>\n    </tr>\n  </thead>\n  <tbody>\n    <tr>\n      <th>0</th>\n      <td>L_A0</td>\n      <td>L_B0</td>\n      <td>L_C0</td>\n      <td>L_D0</td>\n      <td>R_A0</td>\n      <td>R_B0</td>\n      <td>R_C0</td>\n      <td>R_D0</td>\n    </tr>\n    <tr>\n      <th>1</th>\n      <td>L_A1</td>\n      <td>L_B1</td>\n      <td>L_C1</td>\n      <td>L_D1</td>\n      <td>R_A1</td>\n      <td>R_B1</td>\n      <td>R_C1</td>\n      <td>R_D1</td>\n    </tr>\n    <tr>\n      <th>2</th>\n      <td>L_A2</td>\n      <td>L_B2</td>\n      <td>L_C2</td>\n      <td>L_D2</td>\n      <td>R_A2</td>\n      <td>R_B2</td>\n      <td>R_C2</td>\n      <td>R_D2</td>\n    </tr>\n    <tr>\n      <th>3</th>\n      <td>L_A3</td>\n      <td>L_B3</td>\n      <td>L_C3</td>\n      <td>L_D3</td>\n      <td>R_A3</td>\n      <td>R_B3</td>\n      <td>R_C3</td>\n      <td>R_D3</td>\n    </tr>\n  </tbody>\n</table>\n</div>"
     },
     "execution_count": 13,
     "metadata": {},
     "output_type": "execute_result"
    }
   ],
   "source": [
    "pd.concat([left,right], axis=\"columns\")"
   ],
   "metadata": {
    "collapsed": false,
    "ExecuteTime": {
     "end_time": "2023-11-09T08:26:35.821697300Z",
     "start_time": "2023-11-09T08:26:35.738280800Z"
    }
   },
   "id": "ec4e36ff7b151415"
  },
  {
   "cell_type": "code",
   "execution_count": 14,
   "outputs": [
    {
     "data": {
      "text/html": "<style type=\"text/css\">\n#T_8f6b2 th {\n  text-align: left;\n  vertical-align: top;\n}\n</style>\n<table id=\"T_8f6b2\" style='display:inline; margin-right: 50px;'>\n  <caption>axis='index'</caption>\n  <thead>\n    <tr>\n      <th class=\"blank level0\" >&nbsp;</th>\n      <th id=\"T_8f6b2_level0_col0\" class=\"col_heading level0 col0\" >A</th>\n      <th id=\"T_8f6b2_level0_col1\" class=\"col_heading level0 col1\" >B</th>\n      <th id=\"T_8f6b2_level0_col2\" class=\"col_heading level0 col2\" >C</th>\n      <th id=\"T_8f6b2_level0_col3\" class=\"col_heading level0 col3\" >D</th>\n    </tr>\n  </thead>\n  <tbody>\n    <tr>\n      <th id=\"T_8f6b2_level0_row0\" class=\"row_heading level0 row0\" >0</th>\n      <td id=\"T_8f6b2_row0_col0\" class=\"data row0 col0\" >L_A0</td>\n      <td id=\"T_8f6b2_row0_col1\" class=\"data row0 col1\" >L_B0</td>\n      <td id=\"T_8f6b2_row0_col2\" class=\"data row0 col2\" >L_C0</td>\n      <td id=\"T_8f6b2_row0_col3\" class=\"data row0 col3\" >L_D0</td>\n    </tr>\n    <tr>\n      <th id=\"T_8f6b2_level0_row1\" class=\"row_heading level0 row1\" >1</th>\n      <td id=\"T_8f6b2_row1_col0\" class=\"data row1 col0\" >L_A1</td>\n      <td id=\"T_8f6b2_row1_col1\" class=\"data row1 col1\" >L_B1</td>\n      <td id=\"T_8f6b2_row1_col2\" class=\"data row1 col2\" >L_C1</td>\n      <td id=\"T_8f6b2_row1_col3\" class=\"data row1 col3\" >L_D1</td>\n    </tr>\n    <tr>\n      <th id=\"T_8f6b2_level0_row2\" class=\"row_heading level0 row2\" >2</th>\n      <td id=\"T_8f6b2_row2_col0\" class=\"data row2 col0\" >L_A2</td>\n      <td id=\"T_8f6b2_row2_col1\" class=\"data row2 col1\" >L_B2</td>\n      <td id=\"T_8f6b2_row2_col2\" class=\"data row2 col2\" >L_C2</td>\n      <td id=\"T_8f6b2_row2_col3\" class=\"data row2 col3\" >L_D2</td>\n    </tr>\n    <tr>\n      <th id=\"T_8f6b2_level0_row3\" class=\"row_heading level0 row3\" >3</th>\n      <td id=\"T_8f6b2_row3_col0\" class=\"data row3 col0\" >L_A3</td>\n      <td id=\"T_8f6b2_row3_col1\" class=\"data row3 col1\" >L_B3</td>\n      <td id=\"T_8f6b2_row3_col2\" class=\"data row3 col2\" >L_C3</td>\n      <td id=\"T_8f6b2_row3_col3\" class=\"data row3 col3\" >L_D3</td>\n    </tr>\n    <tr>\n      <th id=\"T_8f6b2_level0_row4\" class=\"row_heading level0 row4\" >0</th>\n      <td id=\"T_8f6b2_row4_col0\" class=\"data row4 col0\" >R_A0</td>\n      <td id=\"T_8f6b2_row4_col1\" class=\"data row4 col1\" >R_B0</td>\n      <td id=\"T_8f6b2_row4_col2\" class=\"data row4 col2\" >R_C0</td>\n      <td id=\"T_8f6b2_row4_col3\" class=\"data row4 col3\" >R_D0</td>\n    </tr>\n    <tr>\n      <th id=\"T_8f6b2_level0_row5\" class=\"row_heading level0 row5\" >1</th>\n      <td id=\"T_8f6b2_row5_col0\" class=\"data row5 col0\" >R_A1</td>\n      <td id=\"T_8f6b2_row5_col1\" class=\"data row5 col1\" >R_B1</td>\n      <td id=\"T_8f6b2_row5_col2\" class=\"data row5 col2\" >R_C1</td>\n      <td id=\"T_8f6b2_row5_col3\" class=\"data row5 col3\" >R_D1</td>\n    </tr>\n    <tr>\n      <th id=\"T_8f6b2_level0_row6\" class=\"row_heading level0 row6\" >2</th>\n      <td id=\"T_8f6b2_row6_col0\" class=\"data row6 col0\" >R_A2</td>\n      <td id=\"T_8f6b2_row6_col1\" class=\"data row6 col1\" >R_B2</td>\n      <td id=\"T_8f6b2_row6_col2\" class=\"data row6 col2\" >R_C2</td>\n      <td id=\"T_8f6b2_row6_col3\" class=\"data row6 col3\" >R_D2</td>\n    </tr>\n    <tr>\n      <th id=\"T_8f6b2_level0_row7\" class=\"row_heading level0 row7\" >3</th>\n      <td id=\"T_8f6b2_row7_col0\" class=\"data row7 col0\" >R_A3</td>\n      <td id=\"T_8f6b2_row7_col1\" class=\"data row7 col1\" >R_B3</td>\n      <td id=\"T_8f6b2_row7_col2\" class=\"data row7 col2\" >R_C3</td>\n      <td id=\"T_8f6b2_row7_col3\" class=\"data row7 col3\" >R_D3</td>\n    </tr>\n  </tbody>\n</table>\n<style type=\"text/css\">\n#T_8ecdd th {\n  text-align: left;\n  vertical-align: top;\n}\n</style>\n<table id=\"T_8ecdd\" style='display:inline; margin-right: 50px;'>\n  <caption>axis='columns'</caption>\n  <thead>\n    <tr>\n      <th class=\"blank level0\" >&nbsp;</th>\n      <th id=\"T_8ecdd_level0_col0\" class=\"col_heading level0 col0\" >A</th>\n      <th id=\"T_8ecdd_level0_col1\" class=\"col_heading level0 col1\" >B</th>\n      <th id=\"T_8ecdd_level0_col2\" class=\"col_heading level0 col2\" >C</th>\n      <th id=\"T_8ecdd_level0_col3\" class=\"col_heading level0 col3\" >D</th>\n      <th id=\"T_8ecdd_level0_col4\" class=\"col_heading level0 col4\" >A</th>\n      <th id=\"T_8ecdd_level0_col5\" class=\"col_heading level0 col5\" >B</th>\n      <th id=\"T_8ecdd_level0_col6\" class=\"col_heading level0 col6\" >C</th>\n      <th id=\"T_8ecdd_level0_col7\" class=\"col_heading level0 col7\" >D</th>\n    </tr>\n  </thead>\n  <tbody>\n    <tr>\n      <th id=\"T_8ecdd_level0_row0\" class=\"row_heading level0 row0\" >0</th>\n      <td id=\"T_8ecdd_row0_col0\" class=\"data row0 col0\" >L_A0</td>\n      <td id=\"T_8ecdd_row0_col1\" class=\"data row0 col1\" >L_B0</td>\n      <td id=\"T_8ecdd_row0_col2\" class=\"data row0 col2\" >L_C0</td>\n      <td id=\"T_8ecdd_row0_col3\" class=\"data row0 col3\" >L_D0</td>\n      <td id=\"T_8ecdd_row0_col4\" class=\"data row0 col4\" >R_A0</td>\n      <td id=\"T_8ecdd_row0_col5\" class=\"data row0 col5\" >R_B0</td>\n      <td id=\"T_8ecdd_row0_col6\" class=\"data row0 col6\" >R_C0</td>\n      <td id=\"T_8ecdd_row0_col7\" class=\"data row0 col7\" >R_D0</td>\n    </tr>\n    <tr>\n      <th id=\"T_8ecdd_level0_row1\" class=\"row_heading level0 row1\" >1</th>\n      <td id=\"T_8ecdd_row1_col0\" class=\"data row1 col0\" >L_A1</td>\n      <td id=\"T_8ecdd_row1_col1\" class=\"data row1 col1\" >L_B1</td>\n      <td id=\"T_8ecdd_row1_col2\" class=\"data row1 col2\" >L_C1</td>\n      <td id=\"T_8ecdd_row1_col3\" class=\"data row1 col3\" >L_D1</td>\n      <td id=\"T_8ecdd_row1_col4\" class=\"data row1 col4\" >R_A1</td>\n      <td id=\"T_8ecdd_row1_col5\" class=\"data row1 col5\" >R_B1</td>\n      <td id=\"T_8ecdd_row1_col6\" class=\"data row1 col6\" >R_C1</td>\n      <td id=\"T_8ecdd_row1_col7\" class=\"data row1 col7\" >R_D1</td>\n    </tr>\n    <tr>\n      <th id=\"T_8ecdd_level0_row2\" class=\"row_heading level0 row2\" >2</th>\n      <td id=\"T_8ecdd_row2_col0\" class=\"data row2 col0\" >L_A2</td>\n      <td id=\"T_8ecdd_row2_col1\" class=\"data row2 col1\" >L_B2</td>\n      <td id=\"T_8ecdd_row2_col2\" class=\"data row2 col2\" >L_C2</td>\n      <td id=\"T_8ecdd_row2_col3\" class=\"data row2 col3\" >L_D2</td>\n      <td id=\"T_8ecdd_row2_col4\" class=\"data row2 col4\" >R_A2</td>\n      <td id=\"T_8ecdd_row2_col5\" class=\"data row2 col5\" >R_B2</td>\n      <td id=\"T_8ecdd_row2_col6\" class=\"data row2 col6\" >R_C2</td>\n      <td id=\"T_8ecdd_row2_col7\" class=\"data row2 col7\" >R_D2</td>\n    </tr>\n    <tr>\n      <th id=\"T_8ecdd_level0_row3\" class=\"row_heading level0 row3\" >3</th>\n      <td id=\"T_8ecdd_row3_col0\" class=\"data row3 col0\" >L_A3</td>\n      <td id=\"T_8ecdd_row3_col1\" class=\"data row3 col1\" >L_B3</td>\n      <td id=\"T_8ecdd_row3_col2\" class=\"data row3 col2\" >L_C3</td>\n      <td id=\"T_8ecdd_row3_col3\" class=\"data row3 col3\" >L_D3</td>\n      <td id=\"T_8ecdd_row3_col4\" class=\"data row3 col4\" >R_A3</td>\n      <td id=\"T_8ecdd_row3_col5\" class=\"data row3 col5\" >R_B3</td>\n      <td id=\"T_8ecdd_row3_col6\" class=\"data row3 col6\" >R_C3</td>\n      <td id=\"T_8ecdd_row3_col7\" class=\"data row3 col7\" >R_D3</td>\n    </tr>\n  </tbody>\n</table>\n"
     },
     "metadata": {},
     "output_type": "display_data"
    }
   ],
   "source": [
    "hdisplay([\n",
    "    pd.concat([left,right], axis=\"index\"),\n",
    "    pd.concat([left,right], axis=\"columns\")],\n",
    "    [\"axis='index'\", \"axis='columns'\"]\n",
    ")"
   ],
   "metadata": {
    "collapsed": false,
    "ExecuteTime": {
     "end_time": "2023-11-09T08:28:27.096031800Z",
     "start_time": "2023-11-09T08:28:27.046925400Z"
    }
   },
   "id": "3eb79085ea1b17a4"
  },
  {
   "cell_type": "code",
   "execution_count": 15,
   "outputs": [
    {
     "data": {
      "text/plain": "      A     B     C     D\n0  L_A0  L_B0  L_C0  L_D0\n1  L_A1  L_B1  L_C1  L_D1\n2  L_A2  L_B2  L_C2  L_D2\n3  L_A3  L_B3  L_C3  L_D3\n0  R_A0  R_B0  R_C0  R_D0\n1  R_A1  R_B1  R_C1  R_D1\n2  R_A2  R_B2  R_C2  R_D2\n3  R_A3  R_B3  R_C3  R_D3",
      "text/html": "<div>\n<style scoped>\n    .dataframe tbody tr th:only-of-type {\n        vertical-align: middle;\n    }\n\n    .dataframe tbody tr th {\n        vertical-align: top;\n    }\n\n    .dataframe thead th {\n        text-align: right;\n    }\n</style>\n<table border=\"1\" class=\"dataframe\">\n  <thead>\n    <tr style=\"text-align: right;\">\n      <th></th>\n      <th>A</th>\n      <th>B</th>\n      <th>C</th>\n      <th>D</th>\n    </tr>\n  </thead>\n  <tbody>\n    <tr>\n      <th>0</th>\n      <td>L_A0</td>\n      <td>L_B0</td>\n      <td>L_C0</td>\n      <td>L_D0</td>\n    </tr>\n    <tr>\n      <th>1</th>\n      <td>L_A1</td>\n      <td>L_B1</td>\n      <td>L_C1</td>\n      <td>L_D1</td>\n    </tr>\n    <tr>\n      <th>2</th>\n      <td>L_A2</td>\n      <td>L_B2</td>\n      <td>L_C2</td>\n      <td>L_D2</td>\n    </tr>\n    <tr>\n      <th>3</th>\n      <td>L_A3</td>\n      <td>L_B3</td>\n      <td>L_C3</td>\n      <td>L_D3</td>\n    </tr>\n    <tr>\n      <th>0</th>\n      <td>R_A0</td>\n      <td>R_B0</td>\n      <td>R_C0</td>\n      <td>R_D0</td>\n    </tr>\n    <tr>\n      <th>1</th>\n      <td>R_A1</td>\n      <td>R_B1</td>\n      <td>R_C1</td>\n      <td>R_D1</td>\n    </tr>\n    <tr>\n      <th>2</th>\n      <td>R_A2</td>\n      <td>R_B2</td>\n      <td>R_C2</td>\n      <td>R_D2</td>\n    </tr>\n    <tr>\n      <th>3</th>\n      <td>R_A3</td>\n      <td>R_B3</td>\n      <td>R_C3</td>\n      <td>R_D3</td>\n    </tr>\n  </tbody>\n</table>\n</div>"
     },
     "execution_count": 15,
     "metadata": {},
     "output_type": "execute_result"
    }
   ],
   "source": [
    "pd.concat([left, right])"
   ],
   "metadata": {
    "collapsed": false,
    "ExecuteTime": {
     "end_time": "2023-11-09T08:28:50.012989500Z",
     "start_time": "2023-11-09T08:28:49.939951100Z"
    }
   },
   "id": "4693127eda5c837b"
  },
  {
   "cell_type": "code",
   "execution_count": 16,
   "outputs": [
    {
     "data": {
      "text/plain": "   index     A     B     C     D\n0      0  L_A0  L_B0  L_C0  L_D0\n1      1  L_A1  L_B1  L_C1  L_D1\n2      2  L_A2  L_B2  L_C2  L_D2\n3      3  L_A3  L_B3  L_C3  L_D3\n4      0  R_A0  R_B0  R_C0  R_D0\n5      1  R_A1  R_B1  R_C1  R_D1\n6      2  R_A2  R_B2  R_C2  R_D2\n7      3  R_A3  R_B3  R_C3  R_D3",
      "text/html": "<div>\n<style scoped>\n    .dataframe tbody tr th:only-of-type {\n        vertical-align: middle;\n    }\n\n    .dataframe tbody tr th {\n        vertical-align: top;\n    }\n\n    .dataframe thead th {\n        text-align: right;\n    }\n</style>\n<table border=\"1\" class=\"dataframe\">\n  <thead>\n    <tr style=\"text-align: right;\">\n      <th></th>\n      <th>index</th>\n      <th>A</th>\n      <th>B</th>\n      <th>C</th>\n      <th>D</th>\n    </tr>\n  </thead>\n  <tbody>\n    <tr>\n      <th>0</th>\n      <td>0</td>\n      <td>L_A0</td>\n      <td>L_B0</td>\n      <td>L_C0</td>\n      <td>L_D0</td>\n    </tr>\n    <tr>\n      <th>1</th>\n      <td>1</td>\n      <td>L_A1</td>\n      <td>L_B1</td>\n      <td>L_C1</td>\n      <td>L_D1</td>\n    </tr>\n    <tr>\n      <th>2</th>\n      <td>2</td>\n      <td>L_A2</td>\n      <td>L_B2</td>\n      <td>L_C2</td>\n      <td>L_D2</td>\n    </tr>\n    <tr>\n      <th>3</th>\n      <td>3</td>\n      <td>L_A3</td>\n      <td>L_B3</td>\n      <td>L_C3</td>\n      <td>L_D3</td>\n    </tr>\n    <tr>\n      <th>4</th>\n      <td>0</td>\n      <td>R_A0</td>\n      <td>R_B0</td>\n      <td>R_C0</td>\n      <td>R_D0</td>\n    </tr>\n    <tr>\n      <th>5</th>\n      <td>1</td>\n      <td>R_A1</td>\n      <td>R_B1</td>\n      <td>R_C1</td>\n      <td>R_D1</td>\n    </tr>\n    <tr>\n      <th>6</th>\n      <td>2</td>\n      <td>R_A2</td>\n      <td>R_B2</td>\n      <td>R_C2</td>\n      <td>R_D2</td>\n    </tr>\n    <tr>\n      <th>7</th>\n      <td>3</td>\n      <td>R_A3</td>\n      <td>R_B3</td>\n      <td>R_C3</td>\n      <td>R_D3</td>\n    </tr>\n  </tbody>\n</table>\n</div>"
     },
     "execution_count": 16,
     "metadata": {},
     "output_type": "execute_result"
    }
   ],
   "source": [
    "pd.concat([left, right]).reset_index()"
   ],
   "metadata": {
    "collapsed": false,
    "ExecuteTime": {
     "end_time": "2023-11-09T08:29:15.327333Z",
     "start_time": "2023-11-09T08:29:15.286151100Z"
    }
   },
   "id": "afd8f74e049ad59e"
  },
  {
   "cell_type": "code",
   "execution_count": 17,
   "outputs": [
    {
     "data": {
      "text/plain": "      A     B     C     D\n0  L_A0  L_B0  L_C0  L_D0\n1  L_A1  L_B1  L_C1  L_D1\n2  L_A2  L_B2  L_C2  L_D2\n3  L_A3  L_B3  L_C3  L_D3\n4  R_A0  R_B0  R_C0  R_D0\n5  R_A1  R_B1  R_C1  R_D1\n6  R_A2  R_B2  R_C2  R_D2\n7  R_A3  R_B3  R_C3  R_D3",
      "text/html": "<div>\n<style scoped>\n    .dataframe tbody tr th:only-of-type {\n        vertical-align: middle;\n    }\n\n    .dataframe tbody tr th {\n        vertical-align: top;\n    }\n\n    .dataframe thead th {\n        text-align: right;\n    }\n</style>\n<table border=\"1\" class=\"dataframe\">\n  <thead>\n    <tr style=\"text-align: right;\">\n      <th></th>\n      <th>A</th>\n      <th>B</th>\n      <th>C</th>\n      <th>D</th>\n    </tr>\n  </thead>\n  <tbody>\n    <tr>\n      <th>0</th>\n      <td>L_A0</td>\n      <td>L_B0</td>\n      <td>L_C0</td>\n      <td>L_D0</td>\n    </tr>\n    <tr>\n      <th>1</th>\n      <td>L_A1</td>\n      <td>L_B1</td>\n      <td>L_C1</td>\n      <td>L_D1</td>\n    </tr>\n    <tr>\n      <th>2</th>\n      <td>L_A2</td>\n      <td>L_B2</td>\n      <td>L_C2</td>\n      <td>L_D2</td>\n    </tr>\n    <tr>\n      <th>3</th>\n      <td>L_A3</td>\n      <td>L_B3</td>\n      <td>L_C3</td>\n      <td>L_D3</td>\n    </tr>\n    <tr>\n      <th>4</th>\n      <td>R_A0</td>\n      <td>R_B0</td>\n      <td>R_C0</td>\n      <td>R_D0</td>\n    </tr>\n    <tr>\n      <th>5</th>\n      <td>R_A1</td>\n      <td>R_B1</td>\n      <td>R_C1</td>\n      <td>R_D1</td>\n    </tr>\n    <tr>\n      <th>6</th>\n      <td>R_A2</td>\n      <td>R_B2</td>\n      <td>R_C2</td>\n      <td>R_D2</td>\n    </tr>\n    <tr>\n      <th>7</th>\n      <td>R_A3</td>\n      <td>R_B3</td>\n      <td>R_C3</td>\n      <td>R_D3</td>\n    </tr>\n  </tbody>\n</table>\n</div>"
     },
     "execution_count": 17,
     "metadata": {},
     "output_type": "execute_result"
    }
   ],
   "source": [
    "pd.concat([left, right]).reset_index(drop=True)"
   ],
   "metadata": {
    "collapsed": false,
    "ExecuteTime": {
     "end_time": "2023-11-09T08:29:44.249785900Z",
     "start_time": "2023-11-09T08:29:44.210563500Z"
    }
   },
   "id": "6ba4aa7c71b61010"
  },
  {
   "cell_type": "code",
   "execution_count": 18,
   "outputs": [
    {
     "data": {
      "text/plain": "         B     C     D\nA                     \nL_A0  L_B0  L_C0  L_D0\nL_A1  L_B1  L_C1  L_D1\nL_A2  L_B2  L_C2  L_D2\nL_A3  L_B3  L_C3  L_D3\nR_A0  R_B0  R_C0  R_D0\nR_A1  R_B1  R_C1  R_D1\nR_A2  R_B2  R_C2  R_D2\nR_A3  R_B3  R_C3  R_D3",
      "text/html": "<div>\n<style scoped>\n    .dataframe tbody tr th:only-of-type {\n        vertical-align: middle;\n    }\n\n    .dataframe tbody tr th {\n        vertical-align: top;\n    }\n\n    .dataframe thead th {\n        text-align: right;\n    }\n</style>\n<table border=\"1\" class=\"dataframe\">\n  <thead>\n    <tr style=\"text-align: right;\">\n      <th></th>\n      <th>B</th>\n      <th>C</th>\n      <th>D</th>\n    </tr>\n    <tr>\n      <th>A</th>\n      <th></th>\n      <th></th>\n      <th></th>\n    </tr>\n  </thead>\n  <tbody>\n    <tr>\n      <th>L_A0</th>\n      <td>L_B0</td>\n      <td>L_C0</td>\n      <td>L_D0</td>\n    </tr>\n    <tr>\n      <th>L_A1</th>\n      <td>L_B1</td>\n      <td>L_C1</td>\n      <td>L_D1</td>\n    </tr>\n    <tr>\n      <th>L_A2</th>\n      <td>L_B2</td>\n      <td>L_C2</td>\n      <td>L_D2</td>\n    </tr>\n    <tr>\n      <th>L_A3</th>\n      <td>L_B3</td>\n      <td>L_C3</td>\n      <td>L_D3</td>\n    </tr>\n    <tr>\n      <th>R_A0</th>\n      <td>R_B0</td>\n      <td>R_C0</td>\n      <td>R_D0</td>\n    </tr>\n    <tr>\n      <th>R_A1</th>\n      <td>R_B1</td>\n      <td>R_C1</td>\n      <td>R_D1</td>\n    </tr>\n    <tr>\n      <th>R_A2</th>\n      <td>R_B2</td>\n      <td>R_C2</td>\n      <td>R_D2</td>\n    </tr>\n    <tr>\n      <th>R_A3</th>\n      <td>R_B3</td>\n      <td>R_C3</td>\n      <td>R_D3</td>\n    </tr>\n  </tbody>\n</table>\n</div>"
     },
     "execution_count": 18,
     "metadata": {},
     "output_type": "execute_result"
    }
   ],
   "source": [
    "pd.concat([left, right]).set_index(\"A\")"
   ],
   "metadata": {
    "collapsed": false,
    "ExecuteTime": {
     "end_time": "2023-11-09T08:30:41.145538400Z",
     "start_time": "2023-11-09T08:30:41.090761900Z"
    }
   },
   "id": "d5ddc73c82cefacd"
  },
  {
   "cell_type": "code",
   "execution_count": 19,
   "outputs": [
    {
     "data": {
      "text/plain": "      A     B     C     D\n0  L_A0  L_B0  L_C0  L_D0\n1  L_A1  L_B1  L_C1  L_D1\n2  L_A2  L_B2  L_C2  L_D2\n3  L_A3  L_B3  L_C3  L_D3\n4  R_A0  R_B0  R_C0  R_D0\n5  R_A1  R_B1  R_C1  R_D1\n6  R_A2  R_B2  R_C2  R_D2\n7  R_A3  R_B3  R_C3  R_D3",
      "text/html": "<div>\n<style scoped>\n    .dataframe tbody tr th:only-of-type {\n        vertical-align: middle;\n    }\n\n    .dataframe tbody tr th {\n        vertical-align: top;\n    }\n\n    .dataframe thead th {\n        text-align: right;\n    }\n</style>\n<table border=\"1\" class=\"dataframe\">\n  <thead>\n    <tr style=\"text-align: right;\">\n      <th></th>\n      <th>A</th>\n      <th>B</th>\n      <th>C</th>\n      <th>D</th>\n    </tr>\n  </thead>\n  <tbody>\n    <tr>\n      <th>0</th>\n      <td>L_A0</td>\n      <td>L_B0</td>\n      <td>L_C0</td>\n      <td>L_D0</td>\n    </tr>\n    <tr>\n      <th>1</th>\n      <td>L_A1</td>\n      <td>L_B1</td>\n      <td>L_C1</td>\n      <td>L_D1</td>\n    </tr>\n    <tr>\n      <th>2</th>\n      <td>L_A2</td>\n      <td>L_B2</td>\n      <td>L_C2</td>\n      <td>L_D2</td>\n    </tr>\n    <tr>\n      <th>3</th>\n      <td>L_A3</td>\n      <td>L_B3</td>\n      <td>L_C3</td>\n      <td>L_D3</td>\n    </tr>\n    <tr>\n      <th>4</th>\n      <td>R_A0</td>\n      <td>R_B0</td>\n      <td>R_C0</td>\n      <td>R_D0</td>\n    </tr>\n    <tr>\n      <th>5</th>\n      <td>R_A1</td>\n      <td>R_B1</td>\n      <td>R_C1</td>\n      <td>R_D1</td>\n    </tr>\n    <tr>\n      <th>6</th>\n      <td>R_A2</td>\n      <td>R_B2</td>\n      <td>R_C2</td>\n      <td>R_D2</td>\n    </tr>\n    <tr>\n      <th>7</th>\n      <td>R_A3</td>\n      <td>R_B3</td>\n      <td>R_C3</td>\n      <td>R_D3</td>\n    </tr>\n  </tbody>\n</table>\n</div>"
     },
     "execution_count": 19,
     "metadata": {},
     "output_type": "execute_result"
    }
   ],
   "source": [
    "pd.concat([left, right], ignore_index=True)"
   ],
   "metadata": {
    "collapsed": false,
    "ExecuteTime": {
     "end_time": "2023-11-09T08:31:13.123561200Z",
     "start_time": "2023-11-09T08:31:13.070604300Z"
    }
   },
   "id": "e3259fb1814d4e0"
  },
  {
   "cell_type": "code",
   "execution_count": 20,
   "outputs": [
    {
     "data": {
      "text/plain": "      0     1     2     3     4     5     6     7\n0  L_A0  L_B0  L_C0  L_D0  R_A0  R_B0  R_C0  R_D0\n1  L_A1  L_B1  L_C1  L_D1  R_A1  R_B1  R_C1  R_D1\n2  L_A2  L_B2  L_C2  L_D2  R_A2  R_B2  R_C2  R_D2\n3  L_A3  L_B3  L_C3  L_D3  R_A3  R_B3  R_C3  R_D3",
      "text/html": "<div>\n<style scoped>\n    .dataframe tbody tr th:only-of-type {\n        vertical-align: middle;\n    }\n\n    .dataframe tbody tr th {\n        vertical-align: top;\n    }\n\n    .dataframe thead th {\n        text-align: right;\n    }\n</style>\n<table border=\"1\" class=\"dataframe\">\n  <thead>\n    <tr style=\"text-align: right;\">\n      <th></th>\n      <th>0</th>\n      <th>1</th>\n      <th>2</th>\n      <th>3</th>\n      <th>4</th>\n      <th>5</th>\n      <th>6</th>\n      <th>7</th>\n    </tr>\n  </thead>\n  <tbody>\n    <tr>\n      <th>0</th>\n      <td>L_A0</td>\n      <td>L_B0</td>\n      <td>L_C0</td>\n      <td>L_D0</td>\n      <td>R_A0</td>\n      <td>R_B0</td>\n      <td>R_C0</td>\n      <td>R_D0</td>\n    </tr>\n    <tr>\n      <th>1</th>\n      <td>L_A1</td>\n      <td>L_B1</td>\n      <td>L_C1</td>\n      <td>L_D1</td>\n      <td>R_A1</td>\n      <td>R_B1</td>\n      <td>R_C1</td>\n      <td>R_D1</td>\n    </tr>\n    <tr>\n      <th>2</th>\n      <td>L_A2</td>\n      <td>L_B2</td>\n      <td>L_C2</td>\n      <td>L_D2</td>\n      <td>R_A2</td>\n      <td>R_B2</td>\n      <td>R_C2</td>\n      <td>R_D2</td>\n    </tr>\n    <tr>\n      <th>3</th>\n      <td>L_A3</td>\n      <td>L_B3</td>\n      <td>L_C3</td>\n      <td>L_D3</td>\n      <td>R_A3</td>\n      <td>R_B3</td>\n      <td>R_C3</td>\n      <td>R_D3</td>\n    </tr>\n  </tbody>\n</table>\n</div>"
     },
     "execution_count": 20,
     "metadata": {},
     "output_type": "execute_result"
    }
   ],
   "source": [
    "pd.concat([left, right], axis=\"columns\", ignore_index=True)"
   ],
   "metadata": {
    "collapsed": false,
    "ExecuteTime": {
     "end_time": "2023-11-09T08:32:52.255265500Z",
     "start_time": "2023-11-09T08:32:52.180368500Z"
    }
   },
   "id": "9089f3553efd4807"
  },
  {
   "cell_type": "code",
   "execution_count": null,
   "outputs": [],
   "source": [
    "hdisplay([\n",
    "    pd.concat([left, right], ignore_index=False),\n",
    "    pd.concat([left, right], ignore_index=True),\n",
    "    pd.concat([left, right], axis=\"columns\", ignore_index=True)],\n",
    "    [\"ignore_index=False\", \"ignore_index=True\",  ]\n",
    ")"
   ],
   "metadata": {
    "collapsed": false
   },
   "id": "bc075cb784be7114"
  },
  {
   "cell_type": "code",
   "execution_count": 21,
   "outputs": [],
   "source": [
    "# New sample data\n",
    "left = sample_df(\"A0\", \"D3\", prefix=\"L_\")\n",
    "right = sample_df(\"C2\", \"F5\", prefix=\"R_\")"
   ],
   "metadata": {
    "collapsed": false,
    "ExecuteTime": {
     "end_time": "2023-11-09T08:37:36.022151700Z",
     "start_time": "2023-11-09T08:37:35.969477800Z"
    }
   },
   "id": "6335bfd6d2a88c49"
  },
  {
   "cell_type": "code",
   "execution_count": 22,
   "outputs": [
    {
     "data": {
      "text/plain": "      A     B     C     D     E     F\n0  L_A0  L_B0  L_C0  L_D0   NaN   NaN\n1  L_A1  L_B1  L_C1  L_D1   NaN   NaN\n2  L_A2  L_B2  L_C2  L_D2   NaN   NaN\n3  L_A3  L_B3  L_C3  L_D3   NaN   NaN\n2   NaN   NaN  R_C2  R_D2  R_E2  R_F2\n3   NaN   NaN  R_C3  R_D3  R_E3  R_F3\n4   NaN   NaN  R_C4  R_D4  R_E4  R_F4\n5   NaN   NaN  R_C5  R_D5  R_E5  R_F5",
      "text/html": "<div>\n<style scoped>\n    .dataframe tbody tr th:only-of-type {\n        vertical-align: middle;\n    }\n\n    .dataframe tbody tr th {\n        vertical-align: top;\n    }\n\n    .dataframe thead th {\n        text-align: right;\n    }\n</style>\n<table border=\"1\" class=\"dataframe\">\n  <thead>\n    <tr style=\"text-align: right;\">\n      <th></th>\n      <th>A</th>\n      <th>B</th>\n      <th>C</th>\n      <th>D</th>\n      <th>E</th>\n      <th>F</th>\n    </tr>\n  </thead>\n  <tbody>\n    <tr>\n      <th>0</th>\n      <td>L_A0</td>\n      <td>L_B0</td>\n      <td>L_C0</td>\n      <td>L_D0</td>\n      <td>NaN</td>\n      <td>NaN</td>\n    </tr>\n    <tr>\n      <th>1</th>\n      <td>L_A1</td>\n      <td>L_B1</td>\n      <td>L_C1</td>\n      <td>L_D1</td>\n      <td>NaN</td>\n      <td>NaN</td>\n    </tr>\n    <tr>\n      <th>2</th>\n      <td>L_A2</td>\n      <td>L_B2</td>\n      <td>L_C2</td>\n      <td>L_D2</td>\n      <td>NaN</td>\n      <td>NaN</td>\n    </tr>\n    <tr>\n      <th>3</th>\n      <td>L_A3</td>\n      <td>L_B3</td>\n      <td>L_C3</td>\n      <td>L_D3</td>\n      <td>NaN</td>\n      <td>NaN</td>\n    </tr>\n    <tr>\n      <th>2</th>\n      <td>NaN</td>\n      <td>NaN</td>\n      <td>R_C2</td>\n      <td>R_D2</td>\n      <td>R_E2</td>\n      <td>R_F2</td>\n    </tr>\n    <tr>\n      <th>3</th>\n      <td>NaN</td>\n      <td>NaN</td>\n      <td>R_C3</td>\n      <td>R_D3</td>\n      <td>R_E3</td>\n      <td>R_F3</td>\n    </tr>\n    <tr>\n      <th>4</th>\n      <td>NaN</td>\n      <td>NaN</td>\n      <td>R_C4</td>\n      <td>R_D4</td>\n      <td>R_E4</td>\n      <td>R_F4</td>\n    </tr>\n    <tr>\n      <th>5</th>\n      <td>NaN</td>\n      <td>NaN</td>\n      <td>R_C5</td>\n      <td>R_D5</td>\n      <td>R_E5</td>\n      <td>R_F5</td>\n    </tr>\n  </tbody>\n</table>\n</div>"
     },
     "execution_count": 22,
     "metadata": {},
     "output_type": "execute_result"
    }
   ],
   "source": [
    "pd.concat([left,right])"
   ],
   "metadata": {
    "collapsed": false,
    "ExecuteTime": {
     "end_time": "2023-11-09T08:37:47.780504800Z",
     "start_time": "2023-11-09T08:37:47.723635500Z"
    }
   },
   "id": "ed9ae0ceab12ccc4"
  },
  {
   "cell_type": "code",
   "execution_count": 23,
   "outputs": [
    {
     "data": {
      "text/plain": "      A     B     C     D     C     D     E     F\n0  L_A0  L_B0  L_C0  L_D0   NaN   NaN   NaN   NaN\n1  L_A1  L_B1  L_C1  L_D1   NaN   NaN   NaN   NaN\n2  L_A2  L_B2  L_C2  L_D2  R_C2  R_D2  R_E2  R_F2\n3  L_A3  L_B3  L_C3  L_D3  R_C3  R_D3  R_E3  R_F3\n4   NaN   NaN   NaN   NaN  R_C4  R_D4  R_E4  R_F4\n5   NaN   NaN   NaN   NaN  R_C5  R_D5  R_E5  R_F5",
      "text/html": "<div>\n<style scoped>\n    .dataframe tbody tr th:only-of-type {\n        vertical-align: middle;\n    }\n\n    .dataframe tbody tr th {\n        vertical-align: top;\n    }\n\n    .dataframe thead th {\n        text-align: right;\n    }\n</style>\n<table border=\"1\" class=\"dataframe\">\n  <thead>\n    <tr style=\"text-align: right;\">\n      <th></th>\n      <th>A</th>\n      <th>B</th>\n      <th>C</th>\n      <th>D</th>\n      <th>C</th>\n      <th>D</th>\n      <th>E</th>\n      <th>F</th>\n    </tr>\n  </thead>\n  <tbody>\n    <tr>\n      <th>0</th>\n      <td>L_A0</td>\n      <td>L_B0</td>\n      <td>L_C0</td>\n      <td>L_D0</td>\n      <td>NaN</td>\n      <td>NaN</td>\n      <td>NaN</td>\n      <td>NaN</td>\n    </tr>\n    <tr>\n      <th>1</th>\n      <td>L_A1</td>\n      <td>L_B1</td>\n      <td>L_C1</td>\n      <td>L_D1</td>\n      <td>NaN</td>\n      <td>NaN</td>\n      <td>NaN</td>\n      <td>NaN</td>\n    </tr>\n    <tr>\n      <th>2</th>\n      <td>L_A2</td>\n      <td>L_B2</td>\n      <td>L_C2</td>\n      <td>L_D2</td>\n      <td>R_C2</td>\n      <td>R_D2</td>\n      <td>R_E2</td>\n      <td>R_F2</td>\n    </tr>\n    <tr>\n      <th>3</th>\n      <td>L_A3</td>\n      <td>L_B3</td>\n      <td>L_C3</td>\n      <td>L_D3</td>\n      <td>R_C3</td>\n      <td>R_D3</td>\n      <td>R_E3</td>\n      <td>R_F3</td>\n    </tr>\n    <tr>\n      <th>4</th>\n      <td>NaN</td>\n      <td>NaN</td>\n      <td>NaN</td>\n      <td>NaN</td>\n      <td>R_C4</td>\n      <td>R_D4</td>\n      <td>R_E4</td>\n      <td>R_F4</td>\n    </tr>\n    <tr>\n      <th>5</th>\n      <td>NaN</td>\n      <td>NaN</td>\n      <td>NaN</td>\n      <td>NaN</td>\n      <td>R_C5</td>\n      <td>R_D5</td>\n      <td>R_E5</td>\n      <td>R_F5</td>\n    </tr>\n  </tbody>\n</table>\n</div>"
     },
     "execution_count": 23,
     "metadata": {},
     "output_type": "execute_result"
    }
   ],
   "source": [
    "pd.concat([left,right], axis=\"columns\")"
   ],
   "metadata": {
    "collapsed": false,
    "ExecuteTime": {
     "end_time": "2023-11-09T08:39:16.759074300Z",
     "start_time": "2023-11-09T08:39:16.719813800Z"
    }
   },
   "id": "814fbae3ff43334c"
  },
  {
   "cell_type": "code",
   "execution_count": 24,
   "outputs": [
    {
     "data": {
      "text/html": "<style type=\"text/css\">\n#T_61ec3 th {\n  text-align: left;\n  vertical-align: top;\n}\n</style>\n<table id=\"T_61ec3\" style='display:inline; margin-right: 20px;'>\n  <caption>axis='index'</caption>\n  <thead>\n    <tr>\n      <th class=\"blank level0\" >&nbsp;</th>\n      <th id=\"T_61ec3_level0_col0\" class=\"col_heading level0 col0\" >A</th>\n      <th id=\"T_61ec3_level0_col1\" class=\"col_heading level0 col1\" >B</th>\n      <th id=\"T_61ec3_level0_col2\" class=\"col_heading level0 col2\" >C</th>\n      <th id=\"T_61ec3_level0_col3\" class=\"col_heading level0 col3\" >D</th>\n      <th id=\"T_61ec3_level0_col4\" class=\"col_heading level0 col4\" >E</th>\n      <th id=\"T_61ec3_level0_col5\" class=\"col_heading level0 col5\" >F</th>\n    </tr>\n  </thead>\n  <tbody>\n    <tr>\n      <th id=\"T_61ec3_level0_row0\" class=\"row_heading level0 row0\" >0</th>\n      <td id=\"T_61ec3_row0_col0\" class=\"data row0 col0\" >L_A0</td>\n      <td id=\"T_61ec3_row0_col1\" class=\"data row0 col1\" >L_B0</td>\n      <td id=\"T_61ec3_row0_col2\" class=\"data row0 col2\" >L_C0</td>\n      <td id=\"T_61ec3_row0_col3\" class=\"data row0 col3\" >L_D0</td>\n      <td id=\"T_61ec3_row0_col4\" class=\"data row0 col4\" >nan</td>\n      <td id=\"T_61ec3_row0_col5\" class=\"data row0 col5\" >nan</td>\n    </tr>\n    <tr>\n      <th id=\"T_61ec3_level0_row1\" class=\"row_heading level0 row1\" >1</th>\n      <td id=\"T_61ec3_row1_col0\" class=\"data row1 col0\" >L_A1</td>\n      <td id=\"T_61ec3_row1_col1\" class=\"data row1 col1\" >L_B1</td>\n      <td id=\"T_61ec3_row1_col2\" class=\"data row1 col2\" >L_C1</td>\n      <td id=\"T_61ec3_row1_col3\" class=\"data row1 col3\" >L_D1</td>\n      <td id=\"T_61ec3_row1_col4\" class=\"data row1 col4\" >nan</td>\n      <td id=\"T_61ec3_row1_col5\" class=\"data row1 col5\" >nan</td>\n    </tr>\n    <tr>\n      <th id=\"T_61ec3_level0_row2\" class=\"row_heading level0 row2\" >2</th>\n      <td id=\"T_61ec3_row2_col0\" class=\"data row2 col0\" >L_A2</td>\n      <td id=\"T_61ec3_row2_col1\" class=\"data row2 col1\" >L_B2</td>\n      <td id=\"T_61ec3_row2_col2\" class=\"data row2 col2\" >L_C2</td>\n      <td id=\"T_61ec3_row2_col3\" class=\"data row2 col3\" >L_D2</td>\n      <td id=\"T_61ec3_row2_col4\" class=\"data row2 col4\" >nan</td>\n      <td id=\"T_61ec3_row2_col5\" class=\"data row2 col5\" >nan</td>\n    </tr>\n    <tr>\n      <th id=\"T_61ec3_level0_row3\" class=\"row_heading level0 row3\" >3</th>\n      <td id=\"T_61ec3_row3_col0\" class=\"data row3 col0\" >L_A3</td>\n      <td id=\"T_61ec3_row3_col1\" class=\"data row3 col1\" >L_B3</td>\n      <td id=\"T_61ec3_row3_col2\" class=\"data row3 col2\" >L_C3</td>\n      <td id=\"T_61ec3_row3_col3\" class=\"data row3 col3\" >L_D3</td>\n      <td id=\"T_61ec3_row3_col4\" class=\"data row3 col4\" >nan</td>\n      <td id=\"T_61ec3_row3_col5\" class=\"data row3 col5\" >nan</td>\n    </tr>\n    <tr>\n      <th id=\"T_61ec3_level0_row4\" class=\"row_heading level0 row4\" >2</th>\n      <td id=\"T_61ec3_row4_col0\" class=\"data row4 col0\" >nan</td>\n      <td id=\"T_61ec3_row4_col1\" class=\"data row4 col1\" >nan</td>\n      <td id=\"T_61ec3_row4_col2\" class=\"data row4 col2\" >R_C2</td>\n      <td id=\"T_61ec3_row4_col3\" class=\"data row4 col3\" >R_D2</td>\n      <td id=\"T_61ec3_row4_col4\" class=\"data row4 col4\" >R_E2</td>\n      <td id=\"T_61ec3_row4_col5\" class=\"data row4 col5\" >R_F2</td>\n    </tr>\n    <tr>\n      <th id=\"T_61ec3_level0_row5\" class=\"row_heading level0 row5\" >3</th>\n      <td id=\"T_61ec3_row5_col0\" class=\"data row5 col0\" >nan</td>\n      <td id=\"T_61ec3_row5_col1\" class=\"data row5 col1\" >nan</td>\n      <td id=\"T_61ec3_row5_col2\" class=\"data row5 col2\" >R_C3</td>\n      <td id=\"T_61ec3_row5_col3\" class=\"data row5 col3\" >R_D3</td>\n      <td id=\"T_61ec3_row5_col4\" class=\"data row5 col4\" >R_E3</td>\n      <td id=\"T_61ec3_row5_col5\" class=\"data row5 col5\" >R_F3</td>\n    </tr>\n    <tr>\n      <th id=\"T_61ec3_level0_row6\" class=\"row_heading level0 row6\" >4</th>\n      <td id=\"T_61ec3_row6_col0\" class=\"data row6 col0\" >nan</td>\n      <td id=\"T_61ec3_row6_col1\" class=\"data row6 col1\" >nan</td>\n      <td id=\"T_61ec3_row6_col2\" class=\"data row6 col2\" >R_C4</td>\n      <td id=\"T_61ec3_row6_col3\" class=\"data row6 col3\" >R_D4</td>\n      <td id=\"T_61ec3_row6_col4\" class=\"data row6 col4\" >R_E4</td>\n      <td id=\"T_61ec3_row6_col5\" class=\"data row6 col5\" >R_F4</td>\n    </tr>\n    <tr>\n      <th id=\"T_61ec3_level0_row7\" class=\"row_heading level0 row7\" >5</th>\n      <td id=\"T_61ec3_row7_col0\" class=\"data row7 col0\" >nan</td>\n      <td id=\"T_61ec3_row7_col1\" class=\"data row7 col1\" >nan</td>\n      <td id=\"T_61ec3_row7_col2\" class=\"data row7 col2\" >R_C5</td>\n      <td id=\"T_61ec3_row7_col3\" class=\"data row7 col3\" >R_D5</td>\n      <td id=\"T_61ec3_row7_col4\" class=\"data row7 col4\" >R_E5</td>\n      <td id=\"T_61ec3_row7_col5\" class=\"data row7 col5\" >R_F5</td>\n    </tr>\n  </tbody>\n</table>\n<style type=\"text/css\">\n#T_4bdf0 th {\n  text-align: left;\n  vertical-align: top;\n}\n</style>\n<table id=\"T_4bdf0\" style='display:inline; margin-right: 20px;'>\n  <caption>axis='columns'</caption>\n  <thead>\n    <tr>\n      <th class=\"blank level0\" >&nbsp;</th>\n      <th id=\"T_4bdf0_level0_col0\" class=\"col_heading level0 col0\" >A</th>\n      <th id=\"T_4bdf0_level0_col1\" class=\"col_heading level0 col1\" >B</th>\n      <th id=\"T_4bdf0_level0_col2\" class=\"col_heading level0 col2\" >C</th>\n      <th id=\"T_4bdf0_level0_col3\" class=\"col_heading level0 col3\" >D</th>\n      <th id=\"T_4bdf0_level0_col4\" class=\"col_heading level0 col4\" >C</th>\n      <th id=\"T_4bdf0_level0_col5\" class=\"col_heading level0 col5\" >D</th>\n      <th id=\"T_4bdf0_level0_col6\" class=\"col_heading level0 col6\" >E</th>\n      <th id=\"T_4bdf0_level0_col7\" class=\"col_heading level0 col7\" >F</th>\n    </tr>\n  </thead>\n  <tbody>\n    <tr>\n      <th id=\"T_4bdf0_level0_row0\" class=\"row_heading level0 row0\" >0</th>\n      <td id=\"T_4bdf0_row0_col0\" class=\"data row0 col0\" >L_A0</td>\n      <td id=\"T_4bdf0_row0_col1\" class=\"data row0 col1\" >L_B0</td>\n      <td id=\"T_4bdf0_row0_col2\" class=\"data row0 col2\" >L_C0</td>\n      <td id=\"T_4bdf0_row0_col3\" class=\"data row0 col3\" >L_D0</td>\n      <td id=\"T_4bdf0_row0_col4\" class=\"data row0 col4\" >nan</td>\n      <td id=\"T_4bdf0_row0_col5\" class=\"data row0 col5\" >nan</td>\n      <td id=\"T_4bdf0_row0_col6\" class=\"data row0 col6\" >nan</td>\n      <td id=\"T_4bdf0_row0_col7\" class=\"data row0 col7\" >nan</td>\n    </tr>\n    <tr>\n      <th id=\"T_4bdf0_level0_row1\" class=\"row_heading level0 row1\" >1</th>\n      <td id=\"T_4bdf0_row1_col0\" class=\"data row1 col0\" >L_A1</td>\n      <td id=\"T_4bdf0_row1_col1\" class=\"data row1 col1\" >L_B1</td>\n      <td id=\"T_4bdf0_row1_col2\" class=\"data row1 col2\" >L_C1</td>\n      <td id=\"T_4bdf0_row1_col3\" class=\"data row1 col3\" >L_D1</td>\n      <td id=\"T_4bdf0_row1_col4\" class=\"data row1 col4\" >nan</td>\n      <td id=\"T_4bdf0_row1_col5\" class=\"data row1 col5\" >nan</td>\n      <td id=\"T_4bdf0_row1_col6\" class=\"data row1 col6\" >nan</td>\n      <td id=\"T_4bdf0_row1_col7\" class=\"data row1 col7\" >nan</td>\n    </tr>\n    <tr>\n      <th id=\"T_4bdf0_level0_row2\" class=\"row_heading level0 row2\" >2</th>\n      <td id=\"T_4bdf0_row2_col0\" class=\"data row2 col0\" >L_A2</td>\n      <td id=\"T_4bdf0_row2_col1\" class=\"data row2 col1\" >L_B2</td>\n      <td id=\"T_4bdf0_row2_col2\" class=\"data row2 col2\" >L_C2</td>\n      <td id=\"T_4bdf0_row2_col3\" class=\"data row2 col3\" >L_D2</td>\n      <td id=\"T_4bdf0_row2_col4\" class=\"data row2 col4\" >R_C2</td>\n      <td id=\"T_4bdf0_row2_col5\" class=\"data row2 col5\" >R_D2</td>\n      <td id=\"T_4bdf0_row2_col6\" class=\"data row2 col6\" >R_E2</td>\n      <td id=\"T_4bdf0_row2_col7\" class=\"data row2 col7\" >R_F2</td>\n    </tr>\n    <tr>\n      <th id=\"T_4bdf0_level0_row3\" class=\"row_heading level0 row3\" >3</th>\n      <td id=\"T_4bdf0_row3_col0\" class=\"data row3 col0\" >L_A3</td>\n      <td id=\"T_4bdf0_row3_col1\" class=\"data row3 col1\" >L_B3</td>\n      <td id=\"T_4bdf0_row3_col2\" class=\"data row3 col2\" >L_C3</td>\n      <td id=\"T_4bdf0_row3_col3\" class=\"data row3 col3\" >L_D3</td>\n      <td id=\"T_4bdf0_row3_col4\" class=\"data row3 col4\" >R_C3</td>\n      <td id=\"T_4bdf0_row3_col5\" class=\"data row3 col5\" >R_D3</td>\n      <td id=\"T_4bdf0_row3_col6\" class=\"data row3 col6\" >R_E3</td>\n      <td id=\"T_4bdf0_row3_col7\" class=\"data row3 col7\" >R_F3</td>\n    </tr>\n    <tr>\n      <th id=\"T_4bdf0_level0_row4\" class=\"row_heading level0 row4\" >4</th>\n      <td id=\"T_4bdf0_row4_col0\" class=\"data row4 col0\" >nan</td>\n      <td id=\"T_4bdf0_row4_col1\" class=\"data row4 col1\" >nan</td>\n      <td id=\"T_4bdf0_row4_col2\" class=\"data row4 col2\" >nan</td>\n      <td id=\"T_4bdf0_row4_col3\" class=\"data row4 col3\" >nan</td>\n      <td id=\"T_4bdf0_row4_col4\" class=\"data row4 col4\" >R_C4</td>\n      <td id=\"T_4bdf0_row4_col5\" class=\"data row4 col5\" >R_D4</td>\n      <td id=\"T_4bdf0_row4_col6\" class=\"data row4 col6\" >R_E4</td>\n      <td id=\"T_4bdf0_row4_col7\" class=\"data row4 col7\" >R_F4</td>\n    </tr>\n    <tr>\n      <th id=\"T_4bdf0_level0_row5\" class=\"row_heading level0 row5\" >5</th>\n      <td id=\"T_4bdf0_row5_col0\" class=\"data row5 col0\" >nan</td>\n      <td id=\"T_4bdf0_row5_col1\" class=\"data row5 col1\" >nan</td>\n      <td id=\"T_4bdf0_row5_col2\" class=\"data row5 col2\" >nan</td>\n      <td id=\"T_4bdf0_row5_col3\" class=\"data row5 col3\" >nan</td>\n      <td id=\"T_4bdf0_row5_col4\" class=\"data row5 col4\" >R_C5</td>\n      <td id=\"T_4bdf0_row5_col5\" class=\"data row5 col5\" >R_D5</td>\n      <td id=\"T_4bdf0_row5_col6\" class=\"data row5 col6\" >R_E5</td>\n      <td id=\"T_4bdf0_row5_col7\" class=\"data row5 col7\" >R_F5</td>\n    </tr>\n  </tbody>\n</table>\n<style type=\"text/css\">\n#T_34fc1 th {\n  text-align: left;\n  vertical-align: top;\n}\n</style>\n<table id=\"T_34fc1\" style='display:inline; margin-right: 20px;'>\n  <caption>axis='columns'</caption>\n  <thead>\n    <tr>\n      <th class=\"blank level0\" >&nbsp;</th>\n      <th id=\"T_34fc1_level0_col0\" class=\"col_heading level0 col0\" >A</th>\n      <th id=\"T_34fc1_level0_col1\" class=\"col_heading level0 col1\" >B</th>\n      <th id=\"T_34fc1_level0_col2\" class=\"col_heading level0 col2\" >C</th>\n      <th id=\"T_34fc1_level0_col3\" class=\"col_heading level0 col3\" >D</th>\n      <th id=\"T_34fc1_level0_col4\" class=\"col_heading level0 col4\" >C</th>\n      <th id=\"T_34fc1_level0_col5\" class=\"col_heading level0 col5\" >D</th>\n      <th id=\"T_34fc1_level0_col6\" class=\"col_heading level0 col6\" >E</th>\n      <th id=\"T_34fc1_level0_col7\" class=\"col_heading level0 col7\" >F</th>\n    </tr>\n  </thead>\n  <tbody>\n    <tr>\n      <th id=\"T_34fc1_level0_row0\" class=\"row_heading level0 row0\" >2</th>\n      <td id=\"T_34fc1_row0_col0\" class=\"data row0 col0\" >L_A2</td>\n      <td id=\"T_34fc1_row0_col1\" class=\"data row0 col1\" >L_B2</td>\n      <td id=\"T_34fc1_row0_col2\" class=\"data row0 col2\" >L_C2</td>\n      <td id=\"T_34fc1_row0_col3\" class=\"data row0 col3\" >L_D2</td>\n      <td id=\"T_34fc1_row0_col4\" class=\"data row0 col4\" >R_C2</td>\n      <td id=\"T_34fc1_row0_col5\" class=\"data row0 col5\" >R_D2</td>\n      <td id=\"T_34fc1_row0_col6\" class=\"data row0 col6\" >R_E2</td>\n      <td id=\"T_34fc1_row0_col7\" class=\"data row0 col7\" >R_F2</td>\n    </tr>\n    <tr>\n      <th id=\"T_34fc1_level0_row1\" class=\"row_heading level0 row1\" >3</th>\n      <td id=\"T_34fc1_row1_col0\" class=\"data row1 col0\" >L_A3</td>\n      <td id=\"T_34fc1_row1_col1\" class=\"data row1 col1\" >L_B3</td>\n      <td id=\"T_34fc1_row1_col2\" class=\"data row1 col2\" >L_C3</td>\n      <td id=\"T_34fc1_row1_col3\" class=\"data row1 col3\" >L_D3</td>\n      <td id=\"T_34fc1_row1_col4\" class=\"data row1 col4\" >R_C3</td>\n      <td id=\"T_34fc1_row1_col5\" class=\"data row1 col5\" >R_D3</td>\n      <td id=\"T_34fc1_row1_col6\" class=\"data row1 col6\" >R_E3</td>\n      <td id=\"T_34fc1_row1_col7\" class=\"data row1 col7\" >R_F3</td>\n    </tr>\n  </tbody>\n</table>\n"
     },
     "metadata": {},
     "output_type": "display_data"
    }
   ],
   "source": [
    "hdisplay([\n",
    "    pd.concat([left,right], axis=\"index\"),\n",
    "    pd.concat([left,right], axis=\"columns\", join=\"outer\"),  # union (default)\n",
    "    pd.concat([left,right], axis=\"columns\", join=\"inner\")], # intersection\n",
    "    [\"axis='index'\", \"axis='columns'\", \"axis='columns'\"],\n",
    "    20\n",
    ")"
   ],
   "metadata": {
    "collapsed": false,
    "ExecuteTime": {
     "end_time": "2023-11-09T08:43:24.434741600Z",
     "start_time": "2023-11-09T08:43:24.370302700Z"
    }
   },
   "id": "957cc430cfa69fea"
  },
  {
   "cell_type": "code",
   "execution_count": 25,
   "outputs": [
    {
     "data": {
      "text/plain": "      A     B     C     D     E     F\n0  L_A0  L_B0  L_C0  L_D0   NaN   NaN\n1  L_A1  L_B1  L_C1  L_D1   NaN   NaN\n2  L_A2  L_B2  L_C2  L_D2   NaN   NaN\n3  L_A3  L_B3  L_C3  L_D3   NaN   NaN\n2   NaN   NaN  R_C2  R_D2  R_E2  R_F2\n3   NaN   NaN  R_C3  R_D3  R_E3  R_F3\n4   NaN   NaN  R_C4  R_D4  R_E4  R_F4\n5   NaN   NaN  R_C5  R_D5  R_E5  R_F5",
      "text/html": "<div>\n<style scoped>\n    .dataframe tbody tr th:only-of-type {\n        vertical-align: middle;\n    }\n\n    .dataframe tbody tr th {\n        vertical-align: top;\n    }\n\n    .dataframe thead th {\n        text-align: right;\n    }\n</style>\n<table border=\"1\" class=\"dataframe\">\n  <thead>\n    <tr style=\"text-align: right;\">\n      <th></th>\n      <th>A</th>\n      <th>B</th>\n      <th>C</th>\n      <th>D</th>\n      <th>E</th>\n      <th>F</th>\n    </tr>\n  </thead>\n  <tbody>\n    <tr>\n      <th>0</th>\n      <td>L_A0</td>\n      <td>L_B0</td>\n      <td>L_C0</td>\n      <td>L_D0</td>\n      <td>NaN</td>\n      <td>NaN</td>\n    </tr>\n    <tr>\n      <th>1</th>\n      <td>L_A1</td>\n      <td>L_B1</td>\n      <td>L_C1</td>\n      <td>L_D1</td>\n      <td>NaN</td>\n      <td>NaN</td>\n    </tr>\n    <tr>\n      <th>2</th>\n      <td>L_A2</td>\n      <td>L_B2</td>\n      <td>L_C2</td>\n      <td>L_D2</td>\n      <td>NaN</td>\n      <td>NaN</td>\n    </tr>\n    <tr>\n      <th>3</th>\n      <td>L_A3</td>\n      <td>L_B3</td>\n      <td>L_C3</td>\n      <td>L_D3</td>\n      <td>NaN</td>\n      <td>NaN</td>\n    </tr>\n    <tr>\n      <th>2</th>\n      <td>NaN</td>\n      <td>NaN</td>\n      <td>R_C2</td>\n      <td>R_D2</td>\n      <td>R_E2</td>\n      <td>R_F2</td>\n    </tr>\n    <tr>\n      <th>3</th>\n      <td>NaN</td>\n      <td>NaN</td>\n      <td>R_C3</td>\n      <td>R_D3</td>\n      <td>R_E3</td>\n      <td>R_F3</td>\n    </tr>\n    <tr>\n      <th>4</th>\n      <td>NaN</td>\n      <td>NaN</td>\n      <td>R_C4</td>\n      <td>R_D4</td>\n      <td>R_E4</td>\n      <td>R_F4</td>\n    </tr>\n    <tr>\n      <th>5</th>\n      <td>NaN</td>\n      <td>NaN</td>\n      <td>R_C5</td>\n      <td>R_D5</td>\n      <td>R_E5</td>\n      <td>R_F5</td>\n    </tr>\n  </tbody>\n</table>\n</div>"
     },
     "execution_count": 25,
     "metadata": {},
     "output_type": "execute_result"
    }
   ],
   "source": [
    "pd.concat([left, right])"
   ],
   "metadata": {
    "collapsed": false,
    "ExecuteTime": {
     "end_time": "2023-11-09T08:47:06.555589300Z",
     "start_time": "2023-11-09T08:47:06.496571400Z"
    }
   },
   "id": "f81b7e007097b67"
  },
  {
   "cell_type": "code",
   "execution_count": 26,
   "outputs": [
    {
     "data": {
      "text/plain": "            A     B     C     D     E     F\nleft  0  L_A0  L_B0  L_C0  L_D0   NaN   NaN\n      1  L_A1  L_B1  L_C1  L_D1   NaN   NaN\n      2  L_A2  L_B2  L_C2  L_D2   NaN   NaN\n      3  L_A3  L_B3  L_C3  L_D3   NaN   NaN\nright 2   NaN   NaN  R_C2  R_D2  R_E2  R_F2\n      3   NaN   NaN  R_C3  R_D3  R_E3  R_F3\n      4   NaN   NaN  R_C4  R_D4  R_E4  R_F4\n      5   NaN   NaN  R_C5  R_D5  R_E5  R_F5",
      "text/html": "<div>\n<style scoped>\n    .dataframe tbody tr th:only-of-type {\n        vertical-align: middle;\n    }\n\n    .dataframe tbody tr th {\n        vertical-align: top;\n    }\n\n    .dataframe thead th {\n        text-align: right;\n    }\n</style>\n<table border=\"1\" class=\"dataframe\">\n  <thead>\n    <tr style=\"text-align: right;\">\n      <th></th>\n      <th></th>\n      <th>A</th>\n      <th>B</th>\n      <th>C</th>\n      <th>D</th>\n      <th>E</th>\n      <th>F</th>\n    </tr>\n  </thead>\n  <tbody>\n    <tr>\n      <th rowspan=\"4\" valign=\"top\">left</th>\n      <th>0</th>\n      <td>L_A0</td>\n      <td>L_B0</td>\n      <td>L_C0</td>\n      <td>L_D0</td>\n      <td>NaN</td>\n      <td>NaN</td>\n    </tr>\n    <tr>\n      <th>1</th>\n      <td>L_A1</td>\n      <td>L_B1</td>\n      <td>L_C1</td>\n      <td>L_D1</td>\n      <td>NaN</td>\n      <td>NaN</td>\n    </tr>\n    <tr>\n      <th>2</th>\n      <td>L_A2</td>\n      <td>L_B2</td>\n      <td>L_C2</td>\n      <td>L_D2</td>\n      <td>NaN</td>\n      <td>NaN</td>\n    </tr>\n    <tr>\n      <th>3</th>\n      <td>L_A3</td>\n      <td>L_B3</td>\n      <td>L_C3</td>\n      <td>L_D3</td>\n      <td>NaN</td>\n      <td>NaN</td>\n    </tr>\n    <tr>\n      <th rowspan=\"4\" valign=\"top\">right</th>\n      <th>2</th>\n      <td>NaN</td>\n      <td>NaN</td>\n      <td>R_C2</td>\n      <td>R_D2</td>\n      <td>R_E2</td>\n      <td>R_F2</td>\n    </tr>\n    <tr>\n      <th>3</th>\n      <td>NaN</td>\n      <td>NaN</td>\n      <td>R_C3</td>\n      <td>R_D3</td>\n      <td>R_E3</td>\n      <td>R_F3</td>\n    </tr>\n    <tr>\n      <th>4</th>\n      <td>NaN</td>\n      <td>NaN</td>\n      <td>R_C4</td>\n      <td>R_D4</td>\n      <td>R_E4</td>\n      <td>R_F4</td>\n    </tr>\n    <tr>\n      <th>5</th>\n      <td>NaN</td>\n      <td>NaN</td>\n      <td>R_C5</td>\n      <td>R_D5</td>\n      <td>R_E5</td>\n      <td>R_F5</td>\n    </tr>\n  </tbody>\n</table>\n</div>"
     },
     "execution_count": 26,
     "metadata": {},
     "output_type": "execute_result"
    }
   ],
   "source": [
    "pd.concat([left, right], keys=[\"left\", \"right\"])"
   ],
   "metadata": {
    "collapsed": false,
    "ExecuteTime": {
     "end_time": "2023-11-09T08:47:31.266762600Z",
     "start_time": "2023-11-09T08:47:31.161050500Z"
    }
   },
   "id": "881d5521bca670f8"
  },
  {
   "cell_type": "code",
   "execution_count": 27,
   "outputs": [
    {
     "data": {
      "text/html": "<style type=\"text/css\">\n#T_69d21 th {\n  text-align: left;\n  vertical-align: top;\n}\n</style>\n<table id=\"T_69d21\" style='display:inline; margin-right: 50px;'>\n  <caption>DataFrame 0</caption>\n  <thead>\n    <tr>\n      <th class=\"blank\" >&nbsp;</th>\n      <th class=\"blank level0\" >&nbsp;</th>\n      <th id=\"T_69d21_level0_col0\" class=\"col_heading level0 col0\" >A</th>\n      <th id=\"T_69d21_level0_col1\" class=\"col_heading level0 col1\" >B</th>\n      <th id=\"T_69d21_level0_col2\" class=\"col_heading level0 col2\" >C</th>\n      <th id=\"T_69d21_level0_col3\" class=\"col_heading level0 col3\" >D</th>\n      <th id=\"T_69d21_level0_col4\" class=\"col_heading level0 col4\" >E</th>\n      <th id=\"T_69d21_level0_col5\" class=\"col_heading level0 col5\" >F</th>\n    </tr>\n  </thead>\n  <tbody>\n    <tr>\n      <th id=\"T_69d21_level0_row0\" class=\"row_heading level0 row0\" rowspan=\"4\">left</th>\n      <th id=\"T_69d21_level1_row0\" class=\"row_heading level1 row0\" >0</th>\n      <td id=\"T_69d21_row0_col0\" class=\"data row0 col0\" >L_A0</td>\n      <td id=\"T_69d21_row0_col1\" class=\"data row0 col1\" >L_B0</td>\n      <td id=\"T_69d21_row0_col2\" class=\"data row0 col2\" >L_C0</td>\n      <td id=\"T_69d21_row0_col3\" class=\"data row0 col3\" >L_D0</td>\n      <td id=\"T_69d21_row0_col4\" class=\"data row0 col4\" >nan</td>\n      <td id=\"T_69d21_row0_col5\" class=\"data row0 col5\" >nan</td>\n    </tr>\n    <tr>\n      <th id=\"T_69d21_level1_row1\" class=\"row_heading level1 row1\" >1</th>\n      <td id=\"T_69d21_row1_col0\" class=\"data row1 col0\" >L_A1</td>\n      <td id=\"T_69d21_row1_col1\" class=\"data row1 col1\" >L_B1</td>\n      <td id=\"T_69d21_row1_col2\" class=\"data row1 col2\" >L_C1</td>\n      <td id=\"T_69d21_row1_col3\" class=\"data row1 col3\" >L_D1</td>\n      <td id=\"T_69d21_row1_col4\" class=\"data row1 col4\" >nan</td>\n      <td id=\"T_69d21_row1_col5\" class=\"data row1 col5\" >nan</td>\n    </tr>\n    <tr>\n      <th id=\"T_69d21_level1_row2\" class=\"row_heading level1 row2\" >2</th>\n      <td id=\"T_69d21_row2_col0\" class=\"data row2 col0\" >L_A2</td>\n      <td id=\"T_69d21_row2_col1\" class=\"data row2 col1\" >L_B2</td>\n      <td id=\"T_69d21_row2_col2\" class=\"data row2 col2\" >L_C2</td>\n      <td id=\"T_69d21_row2_col3\" class=\"data row2 col3\" >L_D2</td>\n      <td id=\"T_69d21_row2_col4\" class=\"data row2 col4\" >nan</td>\n      <td id=\"T_69d21_row2_col5\" class=\"data row2 col5\" >nan</td>\n    </tr>\n    <tr>\n      <th id=\"T_69d21_level1_row3\" class=\"row_heading level1 row3\" >3</th>\n      <td id=\"T_69d21_row3_col0\" class=\"data row3 col0\" >L_A3</td>\n      <td id=\"T_69d21_row3_col1\" class=\"data row3 col1\" >L_B3</td>\n      <td id=\"T_69d21_row3_col2\" class=\"data row3 col2\" >L_C3</td>\n      <td id=\"T_69d21_row3_col3\" class=\"data row3 col3\" >L_D3</td>\n      <td id=\"T_69d21_row3_col4\" class=\"data row3 col4\" >nan</td>\n      <td id=\"T_69d21_row3_col5\" class=\"data row3 col5\" >nan</td>\n    </tr>\n    <tr>\n      <th id=\"T_69d21_level0_row4\" class=\"row_heading level0 row4\" rowspan=\"4\">right</th>\n      <th id=\"T_69d21_level1_row4\" class=\"row_heading level1 row4\" >2</th>\n      <td id=\"T_69d21_row4_col0\" class=\"data row4 col0\" >nan</td>\n      <td id=\"T_69d21_row4_col1\" class=\"data row4 col1\" >nan</td>\n      <td id=\"T_69d21_row4_col2\" class=\"data row4 col2\" >R_C2</td>\n      <td id=\"T_69d21_row4_col3\" class=\"data row4 col3\" >R_D2</td>\n      <td id=\"T_69d21_row4_col4\" class=\"data row4 col4\" >R_E2</td>\n      <td id=\"T_69d21_row4_col5\" class=\"data row4 col5\" >R_F2</td>\n    </tr>\n    <tr>\n      <th id=\"T_69d21_level1_row5\" class=\"row_heading level1 row5\" >3</th>\n      <td id=\"T_69d21_row5_col0\" class=\"data row5 col0\" >nan</td>\n      <td id=\"T_69d21_row5_col1\" class=\"data row5 col1\" >nan</td>\n      <td id=\"T_69d21_row5_col2\" class=\"data row5 col2\" >R_C3</td>\n      <td id=\"T_69d21_row5_col3\" class=\"data row5 col3\" >R_D3</td>\n      <td id=\"T_69d21_row5_col4\" class=\"data row5 col4\" >R_E3</td>\n      <td id=\"T_69d21_row5_col5\" class=\"data row5 col5\" >R_F3</td>\n    </tr>\n    <tr>\n      <th id=\"T_69d21_level1_row6\" class=\"row_heading level1 row6\" >4</th>\n      <td id=\"T_69d21_row6_col0\" class=\"data row6 col0\" >nan</td>\n      <td id=\"T_69d21_row6_col1\" class=\"data row6 col1\" >nan</td>\n      <td id=\"T_69d21_row6_col2\" class=\"data row6 col2\" >R_C4</td>\n      <td id=\"T_69d21_row6_col3\" class=\"data row6 col3\" >R_D4</td>\n      <td id=\"T_69d21_row6_col4\" class=\"data row6 col4\" >R_E4</td>\n      <td id=\"T_69d21_row6_col5\" class=\"data row6 col5\" >R_F4</td>\n    </tr>\n    <tr>\n      <th id=\"T_69d21_level1_row7\" class=\"row_heading level1 row7\" >5</th>\n      <td id=\"T_69d21_row7_col0\" class=\"data row7 col0\" >nan</td>\n      <td id=\"T_69d21_row7_col1\" class=\"data row7 col1\" >nan</td>\n      <td id=\"T_69d21_row7_col2\" class=\"data row7 col2\" >R_C5</td>\n      <td id=\"T_69d21_row7_col3\" class=\"data row7 col3\" >R_D5</td>\n      <td id=\"T_69d21_row7_col4\" class=\"data row7 col4\" >R_E5</td>\n      <td id=\"T_69d21_row7_col5\" class=\"data row7 col5\" >R_F5</td>\n    </tr>\n  </tbody>\n</table>\n<style type=\"text/css\">\n#T_8aba8 th {\n  text-align: left;\n  vertical-align: top;\n}\n</style>\n<table id=\"T_8aba8\" style='display:inline; margin-right: 50px;'>\n  <caption>DataFrame 1</caption>\n  <thead>\n    <tr>\n      <th class=\"blank level0\" >&nbsp;</th>\n      <th id=\"T_8aba8_level0_col0\" class=\"col_heading level0 col0\" colspan=\"4\">left</th>\n      <th id=\"T_8aba8_level0_col4\" class=\"col_heading level0 col4\" colspan=\"4\">right</th>\n    </tr>\n    <tr>\n      <th class=\"blank level1\" >&nbsp;</th>\n      <th id=\"T_8aba8_level1_col0\" class=\"col_heading level1 col0\" >A</th>\n      <th id=\"T_8aba8_level1_col1\" class=\"col_heading level1 col1\" >B</th>\n      <th id=\"T_8aba8_level1_col2\" class=\"col_heading level1 col2\" >C</th>\n      <th id=\"T_8aba8_level1_col3\" class=\"col_heading level1 col3\" >D</th>\n      <th id=\"T_8aba8_level1_col4\" class=\"col_heading level1 col4\" >C</th>\n      <th id=\"T_8aba8_level1_col5\" class=\"col_heading level1 col5\" >D</th>\n      <th id=\"T_8aba8_level1_col6\" class=\"col_heading level1 col6\" >E</th>\n      <th id=\"T_8aba8_level1_col7\" class=\"col_heading level1 col7\" >F</th>\n    </tr>\n  </thead>\n  <tbody>\n    <tr>\n      <th id=\"T_8aba8_level0_row0\" class=\"row_heading level0 row0\" >0</th>\n      <td id=\"T_8aba8_row0_col0\" class=\"data row0 col0\" >L_A0</td>\n      <td id=\"T_8aba8_row0_col1\" class=\"data row0 col1\" >L_B0</td>\n      <td id=\"T_8aba8_row0_col2\" class=\"data row0 col2\" >L_C0</td>\n      <td id=\"T_8aba8_row0_col3\" class=\"data row0 col3\" >L_D0</td>\n      <td id=\"T_8aba8_row0_col4\" class=\"data row0 col4\" >nan</td>\n      <td id=\"T_8aba8_row0_col5\" class=\"data row0 col5\" >nan</td>\n      <td id=\"T_8aba8_row0_col6\" class=\"data row0 col6\" >nan</td>\n      <td id=\"T_8aba8_row0_col7\" class=\"data row0 col7\" >nan</td>\n    </tr>\n    <tr>\n      <th id=\"T_8aba8_level0_row1\" class=\"row_heading level0 row1\" >1</th>\n      <td id=\"T_8aba8_row1_col0\" class=\"data row1 col0\" >L_A1</td>\n      <td id=\"T_8aba8_row1_col1\" class=\"data row1 col1\" >L_B1</td>\n      <td id=\"T_8aba8_row1_col2\" class=\"data row1 col2\" >L_C1</td>\n      <td id=\"T_8aba8_row1_col3\" class=\"data row1 col3\" >L_D1</td>\n      <td id=\"T_8aba8_row1_col4\" class=\"data row1 col4\" >nan</td>\n      <td id=\"T_8aba8_row1_col5\" class=\"data row1 col5\" >nan</td>\n      <td id=\"T_8aba8_row1_col6\" class=\"data row1 col6\" >nan</td>\n      <td id=\"T_8aba8_row1_col7\" class=\"data row1 col7\" >nan</td>\n    </tr>\n    <tr>\n      <th id=\"T_8aba8_level0_row2\" class=\"row_heading level0 row2\" >2</th>\n      <td id=\"T_8aba8_row2_col0\" class=\"data row2 col0\" >L_A2</td>\n      <td id=\"T_8aba8_row2_col1\" class=\"data row2 col1\" >L_B2</td>\n      <td id=\"T_8aba8_row2_col2\" class=\"data row2 col2\" >L_C2</td>\n      <td id=\"T_8aba8_row2_col3\" class=\"data row2 col3\" >L_D2</td>\n      <td id=\"T_8aba8_row2_col4\" class=\"data row2 col4\" >R_C2</td>\n      <td id=\"T_8aba8_row2_col5\" class=\"data row2 col5\" >R_D2</td>\n      <td id=\"T_8aba8_row2_col6\" class=\"data row2 col6\" >R_E2</td>\n      <td id=\"T_8aba8_row2_col7\" class=\"data row2 col7\" >R_F2</td>\n    </tr>\n    <tr>\n      <th id=\"T_8aba8_level0_row3\" class=\"row_heading level0 row3\" >3</th>\n      <td id=\"T_8aba8_row3_col0\" class=\"data row3 col0\" >L_A3</td>\n      <td id=\"T_8aba8_row3_col1\" class=\"data row3 col1\" >L_B3</td>\n      <td id=\"T_8aba8_row3_col2\" class=\"data row3 col2\" >L_C3</td>\n      <td id=\"T_8aba8_row3_col3\" class=\"data row3 col3\" >L_D3</td>\n      <td id=\"T_8aba8_row3_col4\" class=\"data row3 col4\" >R_C3</td>\n      <td id=\"T_8aba8_row3_col5\" class=\"data row3 col5\" >R_D3</td>\n      <td id=\"T_8aba8_row3_col6\" class=\"data row3 col6\" >R_E3</td>\n      <td id=\"T_8aba8_row3_col7\" class=\"data row3 col7\" >R_F3</td>\n    </tr>\n    <tr>\n      <th id=\"T_8aba8_level0_row4\" class=\"row_heading level0 row4\" >4</th>\n      <td id=\"T_8aba8_row4_col0\" class=\"data row4 col0\" >nan</td>\n      <td id=\"T_8aba8_row4_col1\" class=\"data row4 col1\" >nan</td>\n      <td id=\"T_8aba8_row4_col2\" class=\"data row4 col2\" >nan</td>\n      <td id=\"T_8aba8_row4_col3\" class=\"data row4 col3\" >nan</td>\n      <td id=\"T_8aba8_row4_col4\" class=\"data row4 col4\" >R_C4</td>\n      <td id=\"T_8aba8_row4_col5\" class=\"data row4 col5\" >R_D4</td>\n      <td id=\"T_8aba8_row4_col6\" class=\"data row4 col6\" >R_E4</td>\n      <td id=\"T_8aba8_row4_col7\" class=\"data row4 col7\" >R_F4</td>\n    </tr>\n    <tr>\n      <th id=\"T_8aba8_level0_row5\" class=\"row_heading level0 row5\" >5</th>\n      <td id=\"T_8aba8_row5_col0\" class=\"data row5 col0\" >nan</td>\n      <td id=\"T_8aba8_row5_col1\" class=\"data row5 col1\" >nan</td>\n      <td id=\"T_8aba8_row5_col2\" class=\"data row5 col2\" >nan</td>\n      <td id=\"T_8aba8_row5_col3\" class=\"data row5 col3\" >nan</td>\n      <td id=\"T_8aba8_row5_col4\" class=\"data row5 col4\" >R_C5</td>\n      <td id=\"T_8aba8_row5_col5\" class=\"data row5 col5\" >R_D5</td>\n      <td id=\"T_8aba8_row5_col6\" class=\"data row5 col6\" >R_E5</td>\n      <td id=\"T_8aba8_row5_col7\" class=\"data row5 col7\" >R_F5</td>\n    </tr>\n  </tbody>\n</table>\n"
     },
     "metadata": {},
     "output_type": "display_data"
    }
   ],
   "source": [
    "hdisplay([\n",
    "    pd.concat([left, right], keys=[\"left\", \"right\"], axis=\"index\"),\n",
    "    pd.concat([left, right], keys=[\"left\", \"right\"], axis=\"columns\")]\n",
    ")"
   ],
   "metadata": {
    "collapsed": false,
    "ExecuteTime": {
     "end_time": "2023-11-09T08:50:52.241725600Z",
     "start_time": "2023-11-09T08:50:52.163949400Z"
    }
   },
   "id": "e24ac0010812aa22"
  },
  {
   "cell_type": "markdown",
   "source": [
    "### Join\n",
    "Join first aligns the index of two dataframes, and then picks up the remaining columns from the aligned rows in each DataFrame. \n",
    "The **how** parameter can be any of the following:\n",
    "- **left:** get *all* rows from the left table, and join matching rows from the right table. **(default)**\n",
    "- **right:** get *all* rows from the right table, and join matching rows from the left table.\n",
    "- **outer:** get *all* rows from both tables, joining all matching rows on both sides. **(union)**\n",
    "- **inner:** get *only* rows that exist in both tables. **(intersection)**\n",
    "- **cross:** get every possible combination of rows and columns"
   ],
   "metadata": {
    "collapsed": false
   },
   "id": "180a25b5c9145b3b"
  },
  {
   "cell_type": "code",
   "execution_count": 29,
   "outputs": [
    {
     "data": {
      "text/html": "<style type=\"text/css\">\n#T_0476b th {\n  text-align: left;\n  vertical-align: top;\n}\n</style>\n<table id=\"T_0476b\" style='display:inline; margin-right: 50px;'>\n  <caption>Left</caption>\n  <thead>\n    <tr>\n      <th class=\"blank level0\" >&nbsp;</th>\n      <th id=\"T_0476b_level0_col0\" class=\"col_heading level0 col0\" >A</th>\n      <th id=\"T_0476b_level0_col1\" class=\"col_heading level0 col1\" >B</th>\n      <th id=\"T_0476b_level0_col2\" class=\"col_heading level0 col2\" >C</th>\n      <th id=\"T_0476b_level0_col3\" class=\"col_heading level0 col3\" >D</th>\n    </tr>\n  </thead>\n  <tbody>\n    <tr>\n      <th id=\"T_0476b_level0_row0\" class=\"row_heading level0 row0\" >0</th>\n      <td id=\"T_0476b_row0_col0\" class=\"data row0 col0\" >LA0</td>\n      <td id=\"T_0476b_row0_col1\" class=\"data row0 col1\" >LB0</td>\n      <td id=\"T_0476b_row0_col2\" class=\"data row0 col2\" >LC0</td>\n      <td id=\"T_0476b_row0_col3\" class=\"data row0 col3\" >LD0</td>\n    </tr>\n    <tr>\n      <th id=\"T_0476b_level0_row1\" class=\"row_heading level0 row1\" >1</th>\n      <td id=\"T_0476b_row1_col0\" class=\"data row1 col0\" >LA1</td>\n      <td id=\"T_0476b_row1_col1\" class=\"data row1 col1\" >LB1</td>\n      <td id=\"T_0476b_row1_col2\" class=\"data row1 col2\" >LC1</td>\n      <td id=\"T_0476b_row1_col3\" class=\"data row1 col3\" >LD1</td>\n    </tr>\n    <tr>\n      <th id=\"T_0476b_level0_row2\" class=\"row_heading level0 row2\" >2</th>\n      <td id=\"T_0476b_row2_col0\" class=\"data row2 col0\" >LA2</td>\n      <td id=\"T_0476b_row2_col1\" class=\"data row2 col1\" >LB2</td>\n      <td id=\"T_0476b_row2_col2\" class=\"data row2 col2\" >LC2</td>\n      <td id=\"T_0476b_row2_col3\" class=\"data row2 col3\" >LD2</td>\n    </tr>\n    <tr>\n      <th id=\"T_0476b_level0_row3\" class=\"row_heading level0 row3\" >3</th>\n      <td id=\"T_0476b_row3_col0\" class=\"data row3 col0\" >LA3</td>\n      <td id=\"T_0476b_row3_col1\" class=\"data row3 col1\" >LB3</td>\n      <td id=\"T_0476b_row3_col2\" class=\"data row3 col2\" >LC3</td>\n      <td id=\"T_0476b_row3_col3\" class=\"data row3 col3\" >LD3</td>\n    </tr>\n  </tbody>\n</table>\n<style type=\"text/css\">\n#T_1b0df th {\n  text-align: left;\n  vertical-align: top;\n}\n</style>\n<table id=\"T_1b0df\" style='display:inline; margin-right: 50px;'>\n  <caption>Right</caption>\n  <thead>\n    <tr>\n      <th class=\"blank level0\" >&nbsp;</th>\n      <th id=\"T_1b0df_level0_col0\" class=\"col_heading level0 col0\" >C</th>\n      <th id=\"T_1b0df_level0_col1\" class=\"col_heading level0 col1\" >D</th>\n      <th id=\"T_1b0df_level0_col2\" class=\"col_heading level0 col2\" >E</th>\n      <th id=\"T_1b0df_level0_col3\" class=\"col_heading level0 col3\" >F</th>\n    </tr>\n  </thead>\n  <tbody>\n    <tr>\n      <th id=\"T_1b0df_level0_row0\" class=\"row_heading level0 row0\" >2</th>\n      <td id=\"T_1b0df_row0_col0\" class=\"data row0 col0\" >RC2</td>\n      <td id=\"T_1b0df_row0_col1\" class=\"data row0 col1\" >RD2</td>\n      <td id=\"T_1b0df_row0_col2\" class=\"data row0 col2\" >RE2</td>\n      <td id=\"T_1b0df_row0_col3\" class=\"data row0 col3\" >RF2</td>\n    </tr>\n    <tr>\n      <th id=\"T_1b0df_level0_row1\" class=\"row_heading level0 row1\" >3</th>\n      <td id=\"T_1b0df_row1_col0\" class=\"data row1 col0\" >RC3</td>\n      <td id=\"T_1b0df_row1_col1\" class=\"data row1 col1\" >RD3</td>\n      <td id=\"T_1b0df_row1_col2\" class=\"data row1 col2\" >RE3</td>\n      <td id=\"T_1b0df_row1_col3\" class=\"data row1 col3\" >RF3</td>\n    </tr>\n    <tr>\n      <th id=\"T_1b0df_level0_row2\" class=\"row_heading level0 row2\" >4</th>\n      <td id=\"T_1b0df_row2_col0\" class=\"data row2 col0\" >RC4</td>\n      <td id=\"T_1b0df_row2_col1\" class=\"data row2 col1\" >RD4</td>\n      <td id=\"T_1b0df_row2_col2\" class=\"data row2 col2\" >RE4</td>\n      <td id=\"T_1b0df_row2_col3\" class=\"data row2 col3\" >RF4</td>\n    </tr>\n    <tr>\n      <th id=\"T_1b0df_level0_row3\" class=\"row_heading level0 row3\" >5</th>\n      <td id=\"T_1b0df_row3_col0\" class=\"data row3 col0\" >RC5</td>\n      <td id=\"T_1b0df_row3_col1\" class=\"data row3 col1\" >RD5</td>\n      <td id=\"T_1b0df_row3_col2\" class=\"data row3 col2\" >RE5</td>\n      <td id=\"T_1b0df_row3_col3\" class=\"data row3 col3\" >RF5</td>\n    </tr>\n  </tbody>\n</table>\n"
     },
     "metadata": {},
     "output_type": "display_data"
    }
   ],
   "source": [
    "# New sample data\n",
    "left = sample_df(\"A0\", \"D3\", prefix=\"L\")\n",
    "right = sample_df(\"C2\", \"F5\", prefix=\"R\")\n",
    "hdisplay([left, right], [\"Left\", \"Right\"])"
   ],
   "metadata": {
    "collapsed": false,
    "ExecuteTime": {
     "end_time": "2023-11-09T09:22:14.633935100Z",
     "start_time": "2023-11-09T09:22:14.622000100Z"
    }
   },
   "id": "f23546291dc4da59"
  },
  {
   "cell_type": "code",
   "execution_count": 30,
   "outputs": [
    {
     "ename": "ValueError",
     "evalue": "columns overlap but no suffix specified: Index(['C', 'D'], dtype='object')",
     "output_type": "error",
     "traceback": [
      "\u001B[1;31m---------------------------------------------------------------------------\u001B[0m",
      "\u001B[1;31mValueError\u001B[0m                                Traceback (most recent call last)",
      "Cell \u001B[1;32mIn[30], line 1\u001B[0m\n\u001B[1;32m----> 1\u001B[0m \u001B[43mleft\u001B[49m\u001B[38;5;241;43m.\u001B[39;49m\u001B[43mjoin\u001B[49m\u001B[43m(\u001B[49m\u001B[43mright\u001B[49m\u001B[43m)\u001B[49m\n",
      "File \u001B[1;32m~\\Documents\\GitHub\\venv\\Lib\\site-packages\\pandas\\core\\frame.py:10415\u001B[0m, in \u001B[0;36mDataFrame.join\u001B[1;34m(self, other, on, how, lsuffix, rsuffix, sort, validate)\u001B[0m\n\u001B[0;32m  10405\u001B[0m     \u001B[38;5;28;01mif\u001B[39;00m how \u001B[38;5;241m==\u001B[39m \u001B[38;5;124m\"\u001B[39m\u001B[38;5;124mcross\u001B[39m\u001B[38;5;124m\"\u001B[39m:\n\u001B[0;32m  10406\u001B[0m         \u001B[38;5;28;01mreturn\u001B[39;00m merge(\n\u001B[0;32m  10407\u001B[0m             \u001B[38;5;28mself\u001B[39m,\n\u001B[0;32m  10408\u001B[0m             other,\n\u001B[1;32m   (...)\u001B[0m\n\u001B[0;32m  10413\u001B[0m             validate\u001B[38;5;241m=\u001B[39mvalidate,\n\u001B[0;32m  10414\u001B[0m         )\n\u001B[1;32m> 10415\u001B[0m     \u001B[38;5;28;01mreturn\u001B[39;00m \u001B[43mmerge\u001B[49m\u001B[43m(\u001B[49m\n\u001B[0;32m  10416\u001B[0m \u001B[43m        \u001B[49m\u001B[38;5;28;43mself\u001B[39;49m\u001B[43m,\u001B[49m\n\u001B[0;32m  10417\u001B[0m \u001B[43m        \u001B[49m\u001B[43mother\u001B[49m\u001B[43m,\u001B[49m\n\u001B[0;32m  10418\u001B[0m \u001B[43m        \u001B[49m\u001B[43mleft_on\u001B[49m\u001B[38;5;241;43m=\u001B[39;49m\u001B[43mon\u001B[49m\u001B[43m,\u001B[49m\n\u001B[0;32m  10419\u001B[0m \u001B[43m        \u001B[49m\u001B[43mhow\u001B[49m\u001B[38;5;241;43m=\u001B[39;49m\u001B[43mhow\u001B[49m\u001B[43m,\u001B[49m\n\u001B[0;32m  10420\u001B[0m \u001B[43m        \u001B[49m\u001B[43mleft_index\u001B[49m\u001B[38;5;241;43m=\u001B[39;49m\u001B[43mon\u001B[49m\u001B[43m \u001B[49m\u001B[38;5;129;43;01mis\u001B[39;49;00m\u001B[43m \u001B[49m\u001B[38;5;28;43;01mNone\u001B[39;49;00m\u001B[43m,\u001B[49m\n\u001B[0;32m  10421\u001B[0m \u001B[43m        \u001B[49m\u001B[43mright_index\u001B[49m\u001B[38;5;241;43m=\u001B[39;49m\u001B[38;5;28;43;01mTrue\u001B[39;49;00m\u001B[43m,\u001B[49m\n\u001B[0;32m  10422\u001B[0m \u001B[43m        \u001B[49m\u001B[43msuffixes\u001B[49m\u001B[38;5;241;43m=\u001B[39;49m\u001B[43m(\u001B[49m\u001B[43mlsuffix\u001B[49m\u001B[43m,\u001B[49m\u001B[43m \u001B[49m\u001B[43mrsuffix\u001B[49m\u001B[43m)\u001B[49m\u001B[43m,\u001B[49m\n\u001B[0;32m  10423\u001B[0m \u001B[43m        \u001B[49m\u001B[43msort\u001B[49m\u001B[38;5;241;43m=\u001B[39;49m\u001B[43msort\u001B[49m\u001B[43m,\u001B[49m\n\u001B[0;32m  10424\u001B[0m \u001B[43m        \u001B[49m\u001B[43mvalidate\u001B[49m\u001B[38;5;241;43m=\u001B[39;49m\u001B[43mvalidate\u001B[49m\u001B[43m,\u001B[49m\n\u001B[0;32m  10425\u001B[0m \u001B[43m    \u001B[49m\u001B[43m)\u001B[49m\n\u001B[0;32m  10426\u001B[0m \u001B[38;5;28;01melse\u001B[39;00m:\n\u001B[0;32m  10427\u001B[0m     \u001B[38;5;28;01mif\u001B[39;00m on \u001B[38;5;129;01mis\u001B[39;00m \u001B[38;5;129;01mnot\u001B[39;00m \u001B[38;5;28;01mNone\u001B[39;00m:\n",
      "File \u001B[1;32m~\\Documents\\GitHub\\venv\\Lib\\site-packages\\pandas\\core\\reshape\\merge.py:183\u001B[0m, in \u001B[0;36mmerge\u001B[1;34m(left, right, how, on, left_on, right_on, left_index, right_index, sort, suffixes, copy, indicator, validate)\u001B[0m\n\u001B[0;32m    168\u001B[0m \u001B[38;5;28;01melse\u001B[39;00m:\n\u001B[0;32m    169\u001B[0m     op \u001B[38;5;241m=\u001B[39m _MergeOperation(\n\u001B[0;32m    170\u001B[0m         left_df,\n\u001B[0;32m    171\u001B[0m         right_df,\n\u001B[1;32m   (...)\u001B[0m\n\u001B[0;32m    181\u001B[0m         validate\u001B[38;5;241m=\u001B[39mvalidate,\n\u001B[0;32m    182\u001B[0m     )\n\u001B[1;32m--> 183\u001B[0m     \u001B[38;5;28;01mreturn\u001B[39;00m \u001B[43mop\u001B[49m\u001B[38;5;241;43m.\u001B[39;49m\u001B[43mget_result\u001B[49m\u001B[43m(\u001B[49m\u001B[43mcopy\u001B[49m\u001B[38;5;241;43m=\u001B[39;49m\u001B[43mcopy\u001B[49m\u001B[43m)\u001B[49m\n",
      "File \u001B[1;32m~\\Documents\\GitHub\\venv\\Lib\\site-packages\\pandas\\core\\reshape\\merge.py:885\u001B[0m, in \u001B[0;36m_MergeOperation.get_result\u001B[1;34m(self, copy)\u001B[0m\n\u001B[0;32m    881\u001B[0m     \u001B[38;5;28mself\u001B[39m\u001B[38;5;241m.\u001B[39mleft, \u001B[38;5;28mself\u001B[39m\u001B[38;5;241m.\u001B[39mright \u001B[38;5;241m=\u001B[39m \u001B[38;5;28mself\u001B[39m\u001B[38;5;241m.\u001B[39m_indicator_pre_merge(\u001B[38;5;28mself\u001B[39m\u001B[38;5;241m.\u001B[39mleft, \u001B[38;5;28mself\u001B[39m\u001B[38;5;241m.\u001B[39mright)\n\u001B[0;32m    883\u001B[0m join_index, left_indexer, right_indexer \u001B[38;5;241m=\u001B[39m \u001B[38;5;28mself\u001B[39m\u001B[38;5;241m.\u001B[39m_get_join_info()\n\u001B[1;32m--> 885\u001B[0m result \u001B[38;5;241m=\u001B[39m \u001B[38;5;28;43mself\u001B[39;49m\u001B[38;5;241;43m.\u001B[39;49m\u001B[43m_reindex_and_concat\u001B[49m\u001B[43m(\u001B[49m\n\u001B[0;32m    886\u001B[0m \u001B[43m    \u001B[49m\u001B[43mjoin_index\u001B[49m\u001B[43m,\u001B[49m\u001B[43m \u001B[49m\u001B[43mleft_indexer\u001B[49m\u001B[43m,\u001B[49m\u001B[43m \u001B[49m\u001B[43mright_indexer\u001B[49m\u001B[43m,\u001B[49m\u001B[43m \u001B[49m\u001B[43mcopy\u001B[49m\u001B[38;5;241;43m=\u001B[39;49m\u001B[43mcopy\u001B[49m\n\u001B[0;32m    887\u001B[0m \u001B[43m\u001B[49m\u001B[43m)\u001B[49m\n\u001B[0;32m    888\u001B[0m result \u001B[38;5;241m=\u001B[39m result\u001B[38;5;241m.\u001B[39m__finalize__(\u001B[38;5;28mself\u001B[39m, method\u001B[38;5;241m=\u001B[39m\u001B[38;5;28mself\u001B[39m\u001B[38;5;241m.\u001B[39m_merge_type)\n\u001B[0;32m    890\u001B[0m \u001B[38;5;28;01mif\u001B[39;00m \u001B[38;5;28mself\u001B[39m\u001B[38;5;241m.\u001B[39mindicator:\n",
      "File \u001B[1;32m~\\Documents\\GitHub\\venv\\Lib\\site-packages\\pandas\\core\\reshape\\merge.py:837\u001B[0m, in \u001B[0;36m_MergeOperation._reindex_and_concat\u001B[1;34m(self, join_index, left_indexer, right_indexer, copy)\u001B[0m\n\u001B[0;32m    834\u001B[0m left \u001B[38;5;241m=\u001B[39m \u001B[38;5;28mself\u001B[39m\u001B[38;5;241m.\u001B[39mleft[:]\n\u001B[0;32m    835\u001B[0m right \u001B[38;5;241m=\u001B[39m \u001B[38;5;28mself\u001B[39m\u001B[38;5;241m.\u001B[39mright[:]\n\u001B[1;32m--> 837\u001B[0m llabels, rlabels \u001B[38;5;241m=\u001B[39m \u001B[43m_items_overlap_with_suffix\u001B[49m\u001B[43m(\u001B[49m\n\u001B[0;32m    838\u001B[0m \u001B[43m    \u001B[49m\u001B[38;5;28;43mself\u001B[39;49m\u001B[38;5;241;43m.\u001B[39;49m\u001B[43mleft\u001B[49m\u001B[38;5;241;43m.\u001B[39;49m\u001B[43m_info_axis\u001B[49m\u001B[43m,\u001B[49m\u001B[43m \u001B[49m\u001B[38;5;28;43mself\u001B[39;49m\u001B[38;5;241;43m.\u001B[39;49m\u001B[43mright\u001B[49m\u001B[38;5;241;43m.\u001B[39;49m\u001B[43m_info_axis\u001B[49m\u001B[43m,\u001B[49m\u001B[43m \u001B[49m\u001B[38;5;28;43mself\u001B[39;49m\u001B[38;5;241;43m.\u001B[39;49m\u001B[43msuffixes\u001B[49m\n\u001B[0;32m    839\u001B[0m \u001B[43m\u001B[49m\u001B[43m)\u001B[49m\n\u001B[0;32m    841\u001B[0m \u001B[38;5;28;01mif\u001B[39;00m left_indexer \u001B[38;5;129;01mis\u001B[39;00m \u001B[38;5;129;01mnot\u001B[39;00m \u001B[38;5;28;01mNone\u001B[39;00m \u001B[38;5;129;01mand\u001B[39;00m \u001B[38;5;129;01mnot\u001B[39;00m is_range_indexer(left_indexer, \u001B[38;5;28mlen\u001B[39m(left)):\n\u001B[0;32m    842\u001B[0m     \u001B[38;5;66;03m# Pinning the index here (and in the right code just below) is not\u001B[39;00m\n\u001B[0;32m    843\u001B[0m     \u001B[38;5;66;03m#  necessary, but makes the `.take` more performant if we have e.g.\u001B[39;00m\n\u001B[0;32m    844\u001B[0m     \u001B[38;5;66;03m#  a MultiIndex for left.index.\u001B[39;00m\n\u001B[0;32m    845\u001B[0m     lmgr \u001B[38;5;241m=\u001B[39m left\u001B[38;5;241m.\u001B[39m_mgr\u001B[38;5;241m.\u001B[39mreindex_indexer(\n\u001B[0;32m    846\u001B[0m         join_index,\n\u001B[0;32m    847\u001B[0m         left_indexer,\n\u001B[1;32m   (...)\u001B[0m\n\u001B[0;32m    852\u001B[0m         use_na_proxy\u001B[38;5;241m=\u001B[39m\u001B[38;5;28;01mTrue\u001B[39;00m,\n\u001B[0;32m    853\u001B[0m     )\n",
      "File \u001B[1;32m~\\Documents\\GitHub\\venv\\Lib\\site-packages\\pandas\\core\\reshape\\merge.py:2655\u001B[0m, in \u001B[0;36m_items_overlap_with_suffix\u001B[1;34m(left, right, suffixes)\u001B[0m\n\u001B[0;32m   2652\u001B[0m lsuffix, rsuffix \u001B[38;5;241m=\u001B[39m suffixes\n\u001B[0;32m   2654\u001B[0m \u001B[38;5;28;01mif\u001B[39;00m \u001B[38;5;129;01mnot\u001B[39;00m lsuffix \u001B[38;5;129;01mand\u001B[39;00m \u001B[38;5;129;01mnot\u001B[39;00m rsuffix:\n\u001B[1;32m-> 2655\u001B[0m     \u001B[38;5;28;01mraise\u001B[39;00m \u001B[38;5;167;01mValueError\u001B[39;00m(\u001B[38;5;124mf\u001B[39m\u001B[38;5;124m\"\u001B[39m\u001B[38;5;124mcolumns overlap but no suffix specified: \u001B[39m\u001B[38;5;132;01m{\u001B[39;00mto_rename\u001B[38;5;132;01m}\u001B[39;00m\u001B[38;5;124m\"\u001B[39m)\n\u001B[0;32m   2657\u001B[0m \u001B[38;5;28;01mdef\u001B[39;00m \u001B[38;5;21mrenamer\u001B[39m(x, suffix: \u001B[38;5;28mstr\u001B[39m \u001B[38;5;241m|\u001B[39m \u001B[38;5;28;01mNone\u001B[39;00m):\n\u001B[0;32m   2658\u001B[0m \u001B[38;5;250m    \u001B[39m\u001B[38;5;124;03m\"\"\"\u001B[39;00m\n\u001B[0;32m   2659\u001B[0m \u001B[38;5;124;03m    Rename the left and right indices.\u001B[39;00m\n\u001B[0;32m   2660\u001B[0m \n\u001B[1;32m   (...)\u001B[0m\n\u001B[0;32m   2671\u001B[0m \u001B[38;5;124;03m    x : renamed column name\u001B[39;00m\n\u001B[0;32m   2672\u001B[0m \u001B[38;5;124;03m    \"\"\"\u001B[39;00m\n",
      "\u001B[1;31mValueError\u001B[0m: columns overlap but no suffix specified: Index(['C', 'D'], dtype='object')"
     ]
    }
   ],
   "source": [
    "left.join(right)"
   ],
   "metadata": {
    "collapsed": false,
    "ExecuteTime": {
     "end_time": "2023-11-09T09:23:10.121334400Z",
     "start_time": "2023-11-09T09:23:08.965495700Z"
    }
   },
   "id": "540b72d44bb46ea5"
  },
  {
   "cell_type": "code",
   "execution_count": 32,
   "outputs": [
    {
     "data": {
      "text/plain": "     A    B  C_L  D_L    C    D    E    F\n0  LA0  LB0  LC0  LD0  NaN  NaN  NaN  NaN\n1  LA1  LB1  LC1  LD1  NaN  NaN  NaN  NaN\n2  LA2  LB2  LC2  LD2  RC2  RD2  RE2  RF2\n3  LA3  LB3  LC3  LD3  RC3  RD3  RE3  RF3",
      "text/html": "<div>\n<style scoped>\n    .dataframe tbody tr th:only-of-type {\n        vertical-align: middle;\n    }\n\n    .dataframe tbody tr th {\n        vertical-align: top;\n    }\n\n    .dataframe thead th {\n        text-align: right;\n    }\n</style>\n<table border=\"1\" class=\"dataframe\">\n  <thead>\n    <tr style=\"text-align: right;\">\n      <th></th>\n      <th>A</th>\n      <th>B</th>\n      <th>C_L</th>\n      <th>D_L</th>\n      <th>C</th>\n      <th>D</th>\n      <th>E</th>\n      <th>F</th>\n    </tr>\n  </thead>\n  <tbody>\n    <tr>\n      <th>0</th>\n      <td>LA0</td>\n      <td>LB0</td>\n      <td>LC0</td>\n      <td>LD0</td>\n      <td>NaN</td>\n      <td>NaN</td>\n      <td>NaN</td>\n      <td>NaN</td>\n    </tr>\n    <tr>\n      <th>1</th>\n      <td>LA1</td>\n      <td>LB1</td>\n      <td>LC1</td>\n      <td>LD1</td>\n      <td>NaN</td>\n      <td>NaN</td>\n      <td>NaN</td>\n      <td>NaN</td>\n    </tr>\n    <tr>\n      <th>2</th>\n      <td>LA2</td>\n      <td>LB2</td>\n      <td>LC2</td>\n      <td>LD2</td>\n      <td>RC2</td>\n      <td>RD2</td>\n      <td>RE2</td>\n      <td>RF2</td>\n    </tr>\n    <tr>\n      <th>3</th>\n      <td>LA3</td>\n      <td>LB3</td>\n      <td>LC3</td>\n      <td>LD3</td>\n      <td>RC3</td>\n      <td>RD3</td>\n      <td>RE3</td>\n      <td>RF3</td>\n    </tr>\n  </tbody>\n</table>\n</div>"
     },
     "execution_count": 32,
     "metadata": {},
     "output_type": "execute_result"
    }
   ],
   "source": [
    "left.join(right, lsuffix=\"_L\")"
   ],
   "metadata": {
    "collapsed": false,
    "ExecuteTime": {
     "end_time": "2023-11-09T09:25:01.814288900Z",
     "start_time": "2023-11-09T09:25:01.771096800Z"
    }
   },
   "id": "ae03e316d8a8e10b"
  },
  {
   "cell_type": "code",
   "execution_count": 33,
   "outputs": [
    {
     "data": {
      "text/html": "<style type=\"text/css\">\n#T_b3e0a th {\n  text-align: left;\n  vertical-align: top;\n}\n</style>\n<table id=\"T_b3e0a\" style='display:inline; margin-right: 50px;'>\n  <caption>Left</caption>\n  <thead>\n    <tr>\n      <th class=\"blank level0\" >&nbsp;</th>\n      <th id=\"T_b3e0a_level0_col0\" class=\"col_heading level0 col0\" >LA</th>\n      <th id=\"T_b3e0a_level0_col1\" class=\"col_heading level0 col1\" >LB</th>\n      <th id=\"T_b3e0a_level0_col2\" class=\"col_heading level0 col2\" >LC</th>\n      <th id=\"T_b3e0a_level0_col3\" class=\"col_heading level0 col3\" >LD</th>\n    </tr>\n  </thead>\n  <tbody>\n    <tr>\n      <th id=\"T_b3e0a_level0_row0\" class=\"row_heading level0 row0\" >0</th>\n      <td id=\"T_b3e0a_row0_col0\" class=\"data row0 col0\" >LA0</td>\n      <td id=\"T_b3e0a_row0_col1\" class=\"data row0 col1\" >LB0</td>\n      <td id=\"T_b3e0a_row0_col2\" class=\"data row0 col2\" >LC0</td>\n      <td id=\"T_b3e0a_row0_col3\" class=\"data row0 col3\" >LD0</td>\n    </tr>\n    <tr>\n      <th id=\"T_b3e0a_level0_row1\" class=\"row_heading level0 row1\" >1</th>\n      <td id=\"T_b3e0a_row1_col0\" class=\"data row1 col0\" >LA1</td>\n      <td id=\"T_b3e0a_row1_col1\" class=\"data row1 col1\" >LB1</td>\n      <td id=\"T_b3e0a_row1_col2\" class=\"data row1 col2\" >LC1</td>\n      <td id=\"T_b3e0a_row1_col3\" class=\"data row1 col3\" >LD1</td>\n    </tr>\n    <tr>\n      <th id=\"T_b3e0a_level0_row2\" class=\"row_heading level0 row2\" >2</th>\n      <td id=\"T_b3e0a_row2_col0\" class=\"data row2 col0\" >LA2</td>\n      <td id=\"T_b3e0a_row2_col1\" class=\"data row2 col1\" >LB2</td>\n      <td id=\"T_b3e0a_row2_col2\" class=\"data row2 col2\" >LC2</td>\n      <td id=\"T_b3e0a_row2_col3\" class=\"data row2 col3\" >LD2</td>\n    </tr>\n    <tr>\n      <th id=\"T_b3e0a_level0_row3\" class=\"row_heading level0 row3\" >3</th>\n      <td id=\"T_b3e0a_row3_col0\" class=\"data row3 col0\" >LA3</td>\n      <td id=\"T_b3e0a_row3_col1\" class=\"data row3 col1\" >LB3</td>\n      <td id=\"T_b3e0a_row3_col2\" class=\"data row3 col2\" >LC3</td>\n      <td id=\"T_b3e0a_row3_col3\" class=\"data row3 col3\" >LD3</td>\n    </tr>\n  </tbody>\n</table>\n<style type=\"text/css\">\n#T_27d2a th {\n  text-align: left;\n  vertical-align: top;\n}\n</style>\n<table id=\"T_27d2a\" style='display:inline; margin-right: 50px;'>\n  <caption>Right</caption>\n  <thead>\n    <tr>\n      <th class=\"blank level0\" >&nbsp;</th>\n      <th id=\"T_27d2a_level0_col0\" class=\"col_heading level0 col0\" >RC</th>\n      <th id=\"T_27d2a_level0_col1\" class=\"col_heading level0 col1\" >RD</th>\n      <th id=\"T_27d2a_level0_col2\" class=\"col_heading level0 col2\" >RE</th>\n      <th id=\"T_27d2a_level0_col3\" class=\"col_heading level0 col3\" >RF</th>\n    </tr>\n  </thead>\n  <tbody>\n    <tr>\n      <th id=\"T_27d2a_level0_row0\" class=\"row_heading level0 row0\" >2</th>\n      <td id=\"T_27d2a_row0_col0\" class=\"data row0 col0\" >RC2</td>\n      <td id=\"T_27d2a_row0_col1\" class=\"data row0 col1\" >RD2</td>\n      <td id=\"T_27d2a_row0_col2\" class=\"data row0 col2\" >RE2</td>\n      <td id=\"T_27d2a_row0_col3\" class=\"data row0 col3\" >RF2</td>\n    </tr>\n    <tr>\n      <th id=\"T_27d2a_level0_row1\" class=\"row_heading level0 row1\" >3</th>\n      <td id=\"T_27d2a_row1_col0\" class=\"data row1 col0\" >RC3</td>\n      <td id=\"T_27d2a_row1_col1\" class=\"data row1 col1\" >RD3</td>\n      <td id=\"T_27d2a_row1_col2\" class=\"data row1 col2\" >RE3</td>\n      <td id=\"T_27d2a_row1_col3\" class=\"data row1 col3\" >RF3</td>\n    </tr>\n    <tr>\n      <th id=\"T_27d2a_level0_row2\" class=\"row_heading level0 row2\" >4</th>\n      <td id=\"T_27d2a_row2_col0\" class=\"data row2 col0\" >RC4</td>\n      <td id=\"T_27d2a_row2_col1\" class=\"data row2 col1\" >RD4</td>\n      <td id=\"T_27d2a_row2_col2\" class=\"data row2 col2\" >RE4</td>\n      <td id=\"T_27d2a_row2_col3\" class=\"data row2 col3\" >RF4</td>\n    </tr>\n    <tr>\n      <th id=\"T_27d2a_level0_row3\" class=\"row_heading level0 row3\" >5</th>\n      <td id=\"T_27d2a_row3_col0\" class=\"data row3 col0\" >RC5</td>\n      <td id=\"T_27d2a_row3_col1\" class=\"data row3 col1\" >RD5</td>\n      <td id=\"T_27d2a_row3_col2\" class=\"data row3 col2\" >RE5</td>\n      <td id=\"T_27d2a_row3_col3\" class=\"data row3 col3\" >RF5</td>\n    </tr>\n  </tbody>\n</table>\n"
     },
     "metadata": {},
     "output_type": "display_data"
    }
   ],
   "source": [
    "# New sample data\n",
    "left = sample_df(\"A0\", \"D3\", prefix=\"L\").add_prefix(\"L\")\n",
    "right = sample_df(\"C2\", \"F5\", prefix=\"R\").add_prefix(\"R\")\n",
    "hdisplay([left, right], [\"Left\", \"Right\"])"
   ],
   "metadata": {
    "collapsed": false,
    "ExecuteTime": {
     "end_time": "2023-11-09T09:26:45.465777200Z",
     "start_time": "2023-11-09T09:26:45.414575200Z"
    }
   },
   "id": "157a792525cd66f4"
  },
  {
   "cell_type": "code",
   "execution_count": 34,
   "outputs": [
    {
     "data": {
      "text/plain": "    LA   LB   LC   LD   RC   RD   RE   RF\n0  LA0  LB0  LC0  LD0  NaN  NaN  NaN  NaN\n1  LA1  LB1  LC1  LD1  NaN  NaN  NaN  NaN\n2  LA2  LB2  LC2  LD2  RC2  RD2  RE2  RF2\n3  LA3  LB3  LC3  LD3  RC3  RD3  RE3  RF3",
      "text/html": "<div>\n<style scoped>\n    .dataframe tbody tr th:only-of-type {\n        vertical-align: middle;\n    }\n\n    .dataframe tbody tr th {\n        vertical-align: top;\n    }\n\n    .dataframe thead th {\n        text-align: right;\n    }\n</style>\n<table border=\"1\" class=\"dataframe\">\n  <thead>\n    <tr style=\"text-align: right;\">\n      <th></th>\n      <th>LA</th>\n      <th>LB</th>\n      <th>LC</th>\n      <th>LD</th>\n      <th>RC</th>\n      <th>RD</th>\n      <th>RE</th>\n      <th>RF</th>\n    </tr>\n  </thead>\n  <tbody>\n    <tr>\n      <th>0</th>\n      <td>LA0</td>\n      <td>LB0</td>\n      <td>LC0</td>\n      <td>LD0</td>\n      <td>NaN</td>\n      <td>NaN</td>\n      <td>NaN</td>\n      <td>NaN</td>\n    </tr>\n    <tr>\n      <th>1</th>\n      <td>LA1</td>\n      <td>LB1</td>\n      <td>LC1</td>\n      <td>LD1</td>\n      <td>NaN</td>\n      <td>NaN</td>\n      <td>NaN</td>\n      <td>NaN</td>\n    </tr>\n    <tr>\n      <th>2</th>\n      <td>LA2</td>\n      <td>LB2</td>\n      <td>LC2</td>\n      <td>LD2</td>\n      <td>RC2</td>\n      <td>RD2</td>\n      <td>RE2</td>\n      <td>RF2</td>\n    </tr>\n    <tr>\n      <th>3</th>\n      <td>LA3</td>\n      <td>LB3</td>\n      <td>LC3</td>\n      <td>LD3</td>\n      <td>RC3</td>\n      <td>RD3</td>\n      <td>RE3</td>\n      <td>RF3</td>\n    </tr>\n  </tbody>\n</table>\n</div>"
     },
     "execution_count": 34,
     "metadata": {},
     "output_type": "execute_result"
    }
   ],
   "source": [
    "left.join(right)"
   ],
   "metadata": {
    "collapsed": false,
    "ExecuteTime": {
     "end_time": "2023-11-09T09:26:59.749586300Z",
     "start_time": "2023-11-09T09:26:59.698276Z"
    }
   },
   "id": "cc536177c1748e15"
  },
  {
   "cell_type": "code",
   "execution_count": 35,
   "outputs": [
    {
     "data": {
      "text/plain": "    LA   LB   LC   LD   RC   RD   RE   RF\n0  LA0  LB0  LC0  LD0  NaN  NaN  NaN  NaN\n1  LA1  LB1  LC1  LD1  NaN  NaN  NaN  NaN\n2  LA2  LB2  LC2  LD2  RC2  RD2  RE2  RF2\n3  LA3  LB3  LC3  LD3  RC3  RD3  RE3  RF3",
      "text/html": "<div>\n<style scoped>\n    .dataframe tbody tr th:only-of-type {\n        vertical-align: middle;\n    }\n\n    .dataframe tbody tr th {\n        vertical-align: top;\n    }\n\n    .dataframe thead th {\n        text-align: right;\n    }\n</style>\n<table border=\"1\" class=\"dataframe\">\n  <thead>\n    <tr style=\"text-align: right;\">\n      <th></th>\n      <th>LA</th>\n      <th>LB</th>\n      <th>LC</th>\n      <th>LD</th>\n      <th>RC</th>\n      <th>RD</th>\n      <th>RE</th>\n      <th>RF</th>\n    </tr>\n  </thead>\n  <tbody>\n    <tr>\n      <th>0</th>\n      <td>LA0</td>\n      <td>LB0</td>\n      <td>LC0</td>\n      <td>LD0</td>\n      <td>NaN</td>\n      <td>NaN</td>\n      <td>NaN</td>\n      <td>NaN</td>\n    </tr>\n    <tr>\n      <th>1</th>\n      <td>LA1</td>\n      <td>LB1</td>\n      <td>LC1</td>\n      <td>LD1</td>\n      <td>NaN</td>\n      <td>NaN</td>\n      <td>NaN</td>\n      <td>NaN</td>\n    </tr>\n    <tr>\n      <th>2</th>\n      <td>LA2</td>\n      <td>LB2</td>\n      <td>LC2</td>\n      <td>LD2</td>\n      <td>RC2</td>\n      <td>RD2</td>\n      <td>RE2</td>\n      <td>RF2</td>\n    </tr>\n    <tr>\n      <th>3</th>\n      <td>LA3</td>\n      <td>LB3</td>\n      <td>LC3</td>\n      <td>LD3</td>\n      <td>RC3</td>\n      <td>RD3</td>\n      <td>RE3</td>\n      <td>RF3</td>\n    </tr>\n  </tbody>\n</table>\n</div>"
     },
     "execution_count": 35,
     "metadata": {},
     "output_type": "execute_result"
    }
   ],
   "source": [
    "left.join(right, how=\"left\")"
   ],
   "metadata": {
    "collapsed": false,
    "ExecuteTime": {
     "end_time": "2023-11-09T09:29:41.457855600Z",
     "start_time": "2023-11-09T09:29:41.412560900Z"
    }
   },
   "id": "fc2779e0bdb5b686"
  },
  {
   "cell_type": "code",
   "execution_count": 36,
   "outputs": [
    {
     "data": {
      "text/plain": "    LA   LB   LC   LD   RC   RD   RE   RF\n2  LA2  LB2  LC2  LD2  RC2  RD2  RE2  RF2\n3  LA3  LB3  LC3  LD3  RC3  RD3  RE3  RF3\n4  NaN  NaN  NaN  NaN  RC4  RD4  RE4  RF4\n5  NaN  NaN  NaN  NaN  RC5  RD5  RE5  RF5",
      "text/html": "<div>\n<style scoped>\n    .dataframe tbody tr th:only-of-type {\n        vertical-align: middle;\n    }\n\n    .dataframe tbody tr th {\n        vertical-align: top;\n    }\n\n    .dataframe thead th {\n        text-align: right;\n    }\n</style>\n<table border=\"1\" class=\"dataframe\">\n  <thead>\n    <tr style=\"text-align: right;\">\n      <th></th>\n      <th>LA</th>\n      <th>LB</th>\n      <th>LC</th>\n      <th>LD</th>\n      <th>RC</th>\n      <th>RD</th>\n      <th>RE</th>\n      <th>RF</th>\n    </tr>\n  </thead>\n  <tbody>\n    <tr>\n      <th>2</th>\n      <td>LA2</td>\n      <td>LB2</td>\n      <td>LC2</td>\n      <td>LD2</td>\n      <td>RC2</td>\n      <td>RD2</td>\n      <td>RE2</td>\n      <td>RF2</td>\n    </tr>\n    <tr>\n      <th>3</th>\n      <td>LA3</td>\n      <td>LB3</td>\n      <td>LC3</td>\n      <td>LD3</td>\n      <td>RC3</td>\n      <td>RD3</td>\n      <td>RE3</td>\n      <td>RF3</td>\n    </tr>\n    <tr>\n      <th>4</th>\n      <td>NaN</td>\n      <td>NaN</td>\n      <td>NaN</td>\n      <td>NaN</td>\n      <td>RC4</td>\n      <td>RD4</td>\n      <td>RE4</td>\n      <td>RF4</td>\n    </tr>\n    <tr>\n      <th>5</th>\n      <td>NaN</td>\n      <td>NaN</td>\n      <td>NaN</td>\n      <td>NaN</td>\n      <td>RC5</td>\n      <td>RD5</td>\n      <td>RE5</td>\n      <td>RF5</td>\n    </tr>\n  </tbody>\n</table>\n</div>"
     },
     "execution_count": 36,
     "metadata": {},
     "output_type": "execute_result"
    }
   ],
   "source": [
    "left.join(right, how=\"right\")"
   ],
   "metadata": {
    "collapsed": false,
    "ExecuteTime": {
     "end_time": "2023-11-09T09:29:53.036077900Z",
     "start_time": "2023-11-09T09:29:52.964510800Z"
    }
   },
   "id": "37a15b54ae965e61"
  },
  {
   "cell_type": "code",
   "execution_count": 38,
   "outputs": [
    {
     "data": {
      "text/html": "<style type=\"text/css\">\n#T_ff333 th {\n  text-align: left;\n  vertical-align: top;\n}\n</style>\n<table id=\"T_ff333\" style='display:inline; margin-right: 50px;'>\n  <caption>how='left</caption>\n  <thead>\n    <tr>\n      <th class=\"blank level0\" >&nbsp;</th>\n      <th id=\"T_ff333_level0_col0\" class=\"col_heading level0 col0\" >LA</th>\n      <th id=\"T_ff333_level0_col1\" class=\"col_heading level0 col1\" >LB</th>\n      <th id=\"T_ff333_level0_col2\" class=\"col_heading level0 col2\" >LC</th>\n      <th id=\"T_ff333_level0_col3\" class=\"col_heading level0 col3\" >LD</th>\n      <th id=\"T_ff333_level0_col4\" class=\"col_heading level0 col4\" >RC</th>\n      <th id=\"T_ff333_level0_col5\" class=\"col_heading level0 col5\" >RD</th>\n      <th id=\"T_ff333_level0_col6\" class=\"col_heading level0 col6\" >RE</th>\n      <th id=\"T_ff333_level0_col7\" class=\"col_heading level0 col7\" >RF</th>\n    </tr>\n  </thead>\n  <tbody>\n    <tr>\n      <th id=\"T_ff333_level0_row0\" class=\"row_heading level0 row0\" >0</th>\n      <td id=\"T_ff333_row0_col0\" class=\"data row0 col0\" >LA0</td>\n      <td id=\"T_ff333_row0_col1\" class=\"data row0 col1\" >LB0</td>\n      <td id=\"T_ff333_row0_col2\" class=\"data row0 col2\" >LC0</td>\n      <td id=\"T_ff333_row0_col3\" class=\"data row0 col3\" >LD0</td>\n      <td id=\"T_ff333_row0_col4\" class=\"data row0 col4\" >nan</td>\n      <td id=\"T_ff333_row0_col5\" class=\"data row0 col5\" >nan</td>\n      <td id=\"T_ff333_row0_col6\" class=\"data row0 col6\" >nan</td>\n      <td id=\"T_ff333_row0_col7\" class=\"data row0 col7\" >nan</td>\n    </tr>\n    <tr>\n      <th id=\"T_ff333_level0_row1\" class=\"row_heading level0 row1\" >1</th>\n      <td id=\"T_ff333_row1_col0\" class=\"data row1 col0\" >LA1</td>\n      <td id=\"T_ff333_row1_col1\" class=\"data row1 col1\" >LB1</td>\n      <td id=\"T_ff333_row1_col2\" class=\"data row1 col2\" >LC1</td>\n      <td id=\"T_ff333_row1_col3\" class=\"data row1 col3\" >LD1</td>\n      <td id=\"T_ff333_row1_col4\" class=\"data row1 col4\" >nan</td>\n      <td id=\"T_ff333_row1_col5\" class=\"data row1 col5\" >nan</td>\n      <td id=\"T_ff333_row1_col6\" class=\"data row1 col6\" >nan</td>\n      <td id=\"T_ff333_row1_col7\" class=\"data row1 col7\" >nan</td>\n    </tr>\n    <tr>\n      <th id=\"T_ff333_level0_row2\" class=\"row_heading level0 row2\" >2</th>\n      <td id=\"T_ff333_row2_col0\" class=\"data row2 col0\" >LA2</td>\n      <td id=\"T_ff333_row2_col1\" class=\"data row2 col1\" >LB2</td>\n      <td id=\"T_ff333_row2_col2\" class=\"data row2 col2\" >LC2</td>\n      <td id=\"T_ff333_row2_col3\" class=\"data row2 col3\" >LD2</td>\n      <td id=\"T_ff333_row2_col4\" class=\"data row2 col4\" >RC2</td>\n      <td id=\"T_ff333_row2_col5\" class=\"data row2 col5\" >RD2</td>\n      <td id=\"T_ff333_row2_col6\" class=\"data row2 col6\" >RE2</td>\n      <td id=\"T_ff333_row2_col7\" class=\"data row2 col7\" >RF2</td>\n    </tr>\n    <tr>\n      <th id=\"T_ff333_level0_row3\" class=\"row_heading level0 row3\" >3</th>\n      <td id=\"T_ff333_row3_col0\" class=\"data row3 col0\" >LA3</td>\n      <td id=\"T_ff333_row3_col1\" class=\"data row3 col1\" >LB3</td>\n      <td id=\"T_ff333_row3_col2\" class=\"data row3 col2\" >LC3</td>\n      <td id=\"T_ff333_row3_col3\" class=\"data row3 col3\" >LD3</td>\n      <td id=\"T_ff333_row3_col4\" class=\"data row3 col4\" >RC3</td>\n      <td id=\"T_ff333_row3_col5\" class=\"data row3 col5\" >RD3</td>\n      <td id=\"T_ff333_row3_col6\" class=\"data row3 col6\" >RE3</td>\n      <td id=\"T_ff333_row3_col7\" class=\"data row3 col7\" >RF3</td>\n    </tr>\n  </tbody>\n</table>\n<style type=\"text/css\">\n#T_ee68e th {\n  text-align: left;\n  vertical-align: top;\n}\n</style>\n<table id=\"T_ee68e\" style='display:inline; margin-right: 50px;'>\n  <caption>how='right'</caption>\n  <thead>\n    <tr>\n      <th class=\"blank level0\" >&nbsp;</th>\n      <th id=\"T_ee68e_level0_col0\" class=\"col_heading level0 col0\" >LA</th>\n      <th id=\"T_ee68e_level0_col1\" class=\"col_heading level0 col1\" >LB</th>\n      <th id=\"T_ee68e_level0_col2\" class=\"col_heading level0 col2\" >LC</th>\n      <th id=\"T_ee68e_level0_col3\" class=\"col_heading level0 col3\" >LD</th>\n      <th id=\"T_ee68e_level0_col4\" class=\"col_heading level0 col4\" >RC</th>\n      <th id=\"T_ee68e_level0_col5\" class=\"col_heading level0 col5\" >RD</th>\n      <th id=\"T_ee68e_level0_col6\" class=\"col_heading level0 col6\" >RE</th>\n      <th id=\"T_ee68e_level0_col7\" class=\"col_heading level0 col7\" >RF</th>\n    </tr>\n  </thead>\n  <tbody>\n    <tr>\n      <th id=\"T_ee68e_level0_row0\" class=\"row_heading level0 row0\" >2</th>\n      <td id=\"T_ee68e_row0_col0\" class=\"data row0 col0\" >LA2</td>\n      <td id=\"T_ee68e_row0_col1\" class=\"data row0 col1\" >LB2</td>\n      <td id=\"T_ee68e_row0_col2\" class=\"data row0 col2\" >LC2</td>\n      <td id=\"T_ee68e_row0_col3\" class=\"data row0 col3\" >LD2</td>\n      <td id=\"T_ee68e_row0_col4\" class=\"data row0 col4\" >RC2</td>\n      <td id=\"T_ee68e_row0_col5\" class=\"data row0 col5\" >RD2</td>\n      <td id=\"T_ee68e_row0_col6\" class=\"data row0 col6\" >RE2</td>\n      <td id=\"T_ee68e_row0_col7\" class=\"data row0 col7\" >RF2</td>\n    </tr>\n    <tr>\n      <th id=\"T_ee68e_level0_row1\" class=\"row_heading level0 row1\" >3</th>\n      <td id=\"T_ee68e_row1_col0\" class=\"data row1 col0\" >LA3</td>\n      <td id=\"T_ee68e_row1_col1\" class=\"data row1 col1\" >LB3</td>\n      <td id=\"T_ee68e_row1_col2\" class=\"data row1 col2\" >LC3</td>\n      <td id=\"T_ee68e_row1_col3\" class=\"data row1 col3\" >LD3</td>\n      <td id=\"T_ee68e_row1_col4\" class=\"data row1 col4\" >RC3</td>\n      <td id=\"T_ee68e_row1_col5\" class=\"data row1 col5\" >RD3</td>\n      <td id=\"T_ee68e_row1_col6\" class=\"data row1 col6\" >RE3</td>\n      <td id=\"T_ee68e_row1_col7\" class=\"data row1 col7\" >RF3</td>\n    </tr>\n    <tr>\n      <th id=\"T_ee68e_level0_row2\" class=\"row_heading level0 row2\" >4</th>\n      <td id=\"T_ee68e_row2_col0\" class=\"data row2 col0\" >nan</td>\n      <td id=\"T_ee68e_row2_col1\" class=\"data row2 col1\" >nan</td>\n      <td id=\"T_ee68e_row2_col2\" class=\"data row2 col2\" >nan</td>\n      <td id=\"T_ee68e_row2_col3\" class=\"data row2 col3\" >nan</td>\n      <td id=\"T_ee68e_row2_col4\" class=\"data row2 col4\" >RC4</td>\n      <td id=\"T_ee68e_row2_col5\" class=\"data row2 col5\" >RD4</td>\n      <td id=\"T_ee68e_row2_col6\" class=\"data row2 col6\" >RE4</td>\n      <td id=\"T_ee68e_row2_col7\" class=\"data row2 col7\" >RF4</td>\n    </tr>\n    <tr>\n      <th id=\"T_ee68e_level0_row3\" class=\"row_heading level0 row3\" >5</th>\n      <td id=\"T_ee68e_row3_col0\" class=\"data row3 col0\" >nan</td>\n      <td id=\"T_ee68e_row3_col1\" class=\"data row3 col1\" >nan</td>\n      <td id=\"T_ee68e_row3_col2\" class=\"data row3 col2\" >nan</td>\n      <td id=\"T_ee68e_row3_col3\" class=\"data row3 col3\" >nan</td>\n      <td id=\"T_ee68e_row3_col4\" class=\"data row3 col4\" >RC5</td>\n      <td id=\"T_ee68e_row3_col5\" class=\"data row3 col5\" >RD5</td>\n      <td id=\"T_ee68e_row3_col6\" class=\"data row3 col6\" >RE5</td>\n      <td id=\"T_ee68e_row3_col7\" class=\"data row3 col7\" >RF5</td>\n    </tr>\n  </tbody>\n</table>\n"
     },
     "metadata": {},
     "output_type": "display_data"
    }
   ],
   "source": [
    "hdisplay([\n",
    "    left.join(right, how=\"left\"),\n",
    "    left.join(right, how=\"right\")],\n",
    "    [\"how='left\", \"how='right'\"]\n",
    ")"
   ],
   "metadata": {
    "collapsed": false,
    "ExecuteTime": {
     "end_time": "2023-11-09T09:31:11.742861Z",
     "start_time": "2023-11-09T09:31:11.701690200Z"
    }
   },
   "id": "7a06846841d040b8"
  },
  {
   "cell_type": "code",
   "execution_count": 40,
   "outputs": [
    {
     "data": {
      "text/html": "<style type=\"text/css\">\n#T_4b68b th {\n  text-align: left;\n  vertical-align: top;\n}\n</style>\n<table id=\"T_4b68b\" style='display:inline; margin-right: 50px;'>\n  <caption>how='inner'</caption>\n  <thead>\n    <tr>\n      <th class=\"blank level0\" >&nbsp;</th>\n      <th id=\"T_4b68b_level0_col0\" class=\"col_heading level0 col0\" >LA</th>\n      <th id=\"T_4b68b_level0_col1\" class=\"col_heading level0 col1\" >LB</th>\n      <th id=\"T_4b68b_level0_col2\" class=\"col_heading level0 col2\" >LC</th>\n      <th id=\"T_4b68b_level0_col3\" class=\"col_heading level0 col3\" >LD</th>\n      <th id=\"T_4b68b_level0_col4\" class=\"col_heading level0 col4\" >RC</th>\n      <th id=\"T_4b68b_level0_col5\" class=\"col_heading level0 col5\" >RD</th>\n      <th id=\"T_4b68b_level0_col6\" class=\"col_heading level0 col6\" >RE</th>\n      <th id=\"T_4b68b_level0_col7\" class=\"col_heading level0 col7\" >RF</th>\n    </tr>\n  </thead>\n  <tbody>\n    <tr>\n      <th id=\"T_4b68b_level0_row0\" class=\"row_heading level0 row0\" >2</th>\n      <td id=\"T_4b68b_row0_col0\" class=\"data row0 col0\" >LA2</td>\n      <td id=\"T_4b68b_row0_col1\" class=\"data row0 col1\" >LB2</td>\n      <td id=\"T_4b68b_row0_col2\" class=\"data row0 col2\" >LC2</td>\n      <td id=\"T_4b68b_row0_col3\" class=\"data row0 col3\" >LD2</td>\n      <td id=\"T_4b68b_row0_col4\" class=\"data row0 col4\" >RC2</td>\n      <td id=\"T_4b68b_row0_col5\" class=\"data row0 col5\" >RD2</td>\n      <td id=\"T_4b68b_row0_col6\" class=\"data row0 col6\" >RE2</td>\n      <td id=\"T_4b68b_row0_col7\" class=\"data row0 col7\" >RF2</td>\n    </tr>\n    <tr>\n      <th id=\"T_4b68b_level0_row1\" class=\"row_heading level0 row1\" >3</th>\n      <td id=\"T_4b68b_row1_col0\" class=\"data row1 col0\" >LA3</td>\n      <td id=\"T_4b68b_row1_col1\" class=\"data row1 col1\" >LB3</td>\n      <td id=\"T_4b68b_row1_col2\" class=\"data row1 col2\" >LC3</td>\n      <td id=\"T_4b68b_row1_col3\" class=\"data row1 col3\" >LD3</td>\n      <td id=\"T_4b68b_row1_col4\" class=\"data row1 col4\" >RC3</td>\n      <td id=\"T_4b68b_row1_col5\" class=\"data row1 col5\" >RD3</td>\n      <td id=\"T_4b68b_row1_col6\" class=\"data row1 col6\" >RE3</td>\n      <td id=\"T_4b68b_row1_col7\" class=\"data row1 col7\" >RF3</td>\n    </tr>\n  </tbody>\n</table>\n<style type=\"text/css\">\n#T_f1998 th {\n  text-align: left;\n  vertical-align: top;\n}\n</style>\n<table id=\"T_f1998\" style='display:inline; margin-right: 50px;'>\n  <caption>how='outer'</caption>\n  <thead>\n    <tr>\n      <th class=\"blank level0\" >&nbsp;</th>\n      <th id=\"T_f1998_level0_col0\" class=\"col_heading level0 col0\" >LA</th>\n      <th id=\"T_f1998_level0_col1\" class=\"col_heading level0 col1\" >LB</th>\n      <th id=\"T_f1998_level0_col2\" class=\"col_heading level0 col2\" >LC</th>\n      <th id=\"T_f1998_level0_col3\" class=\"col_heading level0 col3\" >LD</th>\n      <th id=\"T_f1998_level0_col4\" class=\"col_heading level0 col4\" >RC</th>\n      <th id=\"T_f1998_level0_col5\" class=\"col_heading level0 col5\" >RD</th>\n      <th id=\"T_f1998_level0_col6\" class=\"col_heading level0 col6\" >RE</th>\n      <th id=\"T_f1998_level0_col7\" class=\"col_heading level0 col7\" >RF</th>\n    </tr>\n  </thead>\n  <tbody>\n    <tr>\n      <th id=\"T_f1998_level0_row0\" class=\"row_heading level0 row0\" >0</th>\n      <td id=\"T_f1998_row0_col0\" class=\"data row0 col0\" >LA0</td>\n      <td id=\"T_f1998_row0_col1\" class=\"data row0 col1\" >LB0</td>\n      <td id=\"T_f1998_row0_col2\" class=\"data row0 col2\" >LC0</td>\n      <td id=\"T_f1998_row0_col3\" class=\"data row0 col3\" >LD0</td>\n      <td id=\"T_f1998_row0_col4\" class=\"data row0 col4\" >nan</td>\n      <td id=\"T_f1998_row0_col5\" class=\"data row0 col5\" >nan</td>\n      <td id=\"T_f1998_row0_col6\" class=\"data row0 col6\" >nan</td>\n      <td id=\"T_f1998_row0_col7\" class=\"data row0 col7\" >nan</td>\n    </tr>\n    <tr>\n      <th id=\"T_f1998_level0_row1\" class=\"row_heading level0 row1\" >1</th>\n      <td id=\"T_f1998_row1_col0\" class=\"data row1 col0\" >LA1</td>\n      <td id=\"T_f1998_row1_col1\" class=\"data row1 col1\" >LB1</td>\n      <td id=\"T_f1998_row1_col2\" class=\"data row1 col2\" >LC1</td>\n      <td id=\"T_f1998_row1_col3\" class=\"data row1 col3\" >LD1</td>\n      <td id=\"T_f1998_row1_col4\" class=\"data row1 col4\" >nan</td>\n      <td id=\"T_f1998_row1_col5\" class=\"data row1 col5\" >nan</td>\n      <td id=\"T_f1998_row1_col6\" class=\"data row1 col6\" >nan</td>\n      <td id=\"T_f1998_row1_col7\" class=\"data row1 col7\" >nan</td>\n    </tr>\n    <tr>\n      <th id=\"T_f1998_level0_row2\" class=\"row_heading level0 row2\" >2</th>\n      <td id=\"T_f1998_row2_col0\" class=\"data row2 col0\" >LA2</td>\n      <td id=\"T_f1998_row2_col1\" class=\"data row2 col1\" >LB2</td>\n      <td id=\"T_f1998_row2_col2\" class=\"data row2 col2\" >LC2</td>\n      <td id=\"T_f1998_row2_col3\" class=\"data row2 col3\" >LD2</td>\n      <td id=\"T_f1998_row2_col4\" class=\"data row2 col4\" >RC2</td>\n      <td id=\"T_f1998_row2_col5\" class=\"data row2 col5\" >RD2</td>\n      <td id=\"T_f1998_row2_col6\" class=\"data row2 col6\" >RE2</td>\n      <td id=\"T_f1998_row2_col7\" class=\"data row2 col7\" >RF2</td>\n    </tr>\n    <tr>\n      <th id=\"T_f1998_level0_row3\" class=\"row_heading level0 row3\" >3</th>\n      <td id=\"T_f1998_row3_col0\" class=\"data row3 col0\" >LA3</td>\n      <td id=\"T_f1998_row3_col1\" class=\"data row3 col1\" >LB3</td>\n      <td id=\"T_f1998_row3_col2\" class=\"data row3 col2\" >LC3</td>\n      <td id=\"T_f1998_row3_col3\" class=\"data row3 col3\" >LD3</td>\n      <td id=\"T_f1998_row3_col4\" class=\"data row3 col4\" >RC3</td>\n      <td id=\"T_f1998_row3_col5\" class=\"data row3 col5\" >RD3</td>\n      <td id=\"T_f1998_row3_col6\" class=\"data row3 col6\" >RE3</td>\n      <td id=\"T_f1998_row3_col7\" class=\"data row3 col7\" >RF3</td>\n    </tr>\n    <tr>\n      <th id=\"T_f1998_level0_row4\" class=\"row_heading level0 row4\" >4</th>\n      <td id=\"T_f1998_row4_col0\" class=\"data row4 col0\" >nan</td>\n      <td id=\"T_f1998_row4_col1\" class=\"data row4 col1\" >nan</td>\n      <td id=\"T_f1998_row4_col2\" class=\"data row4 col2\" >nan</td>\n      <td id=\"T_f1998_row4_col3\" class=\"data row4 col3\" >nan</td>\n      <td id=\"T_f1998_row4_col4\" class=\"data row4 col4\" >RC4</td>\n      <td id=\"T_f1998_row4_col5\" class=\"data row4 col5\" >RD4</td>\n      <td id=\"T_f1998_row4_col6\" class=\"data row4 col6\" >RE4</td>\n      <td id=\"T_f1998_row4_col7\" class=\"data row4 col7\" >RF4</td>\n    </tr>\n    <tr>\n      <th id=\"T_f1998_level0_row5\" class=\"row_heading level0 row5\" >5</th>\n      <td id=\"T_f1998_row5_col0\" class=\"data row5 col0\" >nan</td>\n      <td id=\"T_f1998_row5_col1\" class=\"data row5 col1\" >nan</td>\n      <td id=\"T_f1998_row5_col2\" class=\"data row5 col2\" >nan</td>\n      <td id=\"T_f1998_row5_col3\" class=\"data row5 col3\" >nan</td>\n      <td id=\"T_f1998_row5_col4\" class=\"data row5 col4\" >RC5</td>\n      <td id=\"T_f1998_row5_col5\" class=\"data row5 col5\" >RD5</td>\n      <td id=\"T_f1998_row5_col6\" class=\"data row5 col6\" >RE5</td>\n      <td id=\"T_f1998_row5_col7\" class=\"data row5 col7\" >RF5</td>\n    </tr>\n  </tbody>\n</table>\n"
     },
     "metadata": {},
     "output_type": "display_data"
    }
   ],
   "source": [
    "hdisplay([\n",
    "    left.join(right, how=\"inner\"),\n",
    "    left.join(right, how=\"outer\")],\n",
    "    [\"how='inner'\", \"how='outer'\"]\n",
    ")"
   ],
   "metadata": {
    "collapsed": false,
    "ExecuteTime": {
     "end_time": "2023-11-09T09:36:59.604797900Z",
     "start_time": "2023-11-09T09:36:59.558747800Z"
    }
   },
   "id": "b1601f3e17ad80e2"
  },
  {
   "cell_type": "code",
   "execution_count": 41,
   "outputs": [
    {
     "data": {
      "text/plain": "     LA   LB   LC   LD   RC   RD   RE   RF\n0   LA0  LB0  LC0  LD0  RC2  RD2  RE2  RF2\n1   LA0  LB0  LC0  LD0  RC3  RD3  RE3  RF3\n2   LA0  LB0  LC0  LD0  RC4  RD4  RE4  RF4\n3   LA0  LB0  LC0  LD0  RC5  RD5  RE5  RF5\n4   LA1  LB1  LC1  LD1  RC2  RD2  RE2  RF2\n5   LA1  LB1  LC1  LD1  RC3  RD3  RE3  RF3\n6   LA1  LB1  LC1  LD1  RC4  RD4  RE4  RF4\n7   LA1  LB1  LC1  LD1  RC5  RD5  RE5  RF5\n8   LA2  LB2  LC2  LD2  RC2  RD2  RE2  RF2\n9   LA2  LB2  LC2  LD2  RC3  RD3  RE3  RF3\n10  LA2  LB2  LC2  LD2  RC4  RD4  RE4  RF4\n11  LA2  LB2  LC2  LD2  RC5  RD5  RE5  RF5\n12  LA3  LB3  LC3  LD3  RC2  RD2  RE2  RF2\n13  LA3  LB3  LC3  LD3  RC3  RD3  RE3  RF3\n14  LA3  LB3  LC3  LD3  RC4  RD4  RE4  RF4\n15  LA3  LB3  LC3  LD3  RC5  RD5  RE5  RF5",
      "text/html": "<div>\n<style scoped>\n    .dataframe tbody tr th:only-of-type {\n        vertical-align: middle;\n    }\n\n    .dataframe tbody tr th {\n        vertical-align: top;\n    }\n\n    .dataframe thead th {\n        text-align: right;\n    }\n</style>\n<table border=\"1\" class=\"dataframe\">\n  <thead>\n    <tr style=\"text-align: right;\">\n      <th></th>\n      <th>LA</th>\n      <th>LB</th>\n      <th>LC</th>\n      <th>LD</th>\n      <th>RC</th>\n      <th>RD</th>\n      <th>RE</th>\n      <th>RF</th>\n    </tr>\n  </thead>\n  <tbody>\n    <tr>\n      <th>0</th>\n      <td>LA0</td>\n      <td>LB0</td>\n      <td>LC0</td>\n      <td>LD0</td>\n      <td>RC2</td>\n      <td>RD2</td>\n      <td>RE2</td>\n      <td>RF2</td>\n    </tr>\n    <tr>\n      <th>1</th>\n      <td>LA0</td>\n      <td>LB0</td>\n      <td>LC0</td>\n      <td>LD0</td>\n      <td>RC3</td>\n      <td>RD3</td>\n      <td>RE3</td>\n      <td>RF3</td>\n    </tr>\n    <tr>\n      <th>2</th>\n      <td>LA0</td>\n      <td>LB0</td>\n      <td>LC0</td>\n      <td>LD0</td>\n      <td>RC4</td>\n      <td>RD4</td>\n      <td>RE4</td>\n      <td>RF4</td>\n    </tr>\n    <tr>\n      <th>3</th>\n      <td>LA0</td>\n      <td>LB0</td>\n      <td>LC0</td>\n      <td>LD0</td>\n      <td>RC5</td>\n      <td>RD5</td>\n      <td>RE5</td>\n      <td>RF5</td>\n    </tr>\n    <tr>\n      <th>4</th>\n      <td>LA1</td>\n      <td>LB1</td>\n      <td>LC1</td>\n      <td>LD1</td>\n      <td>RC2</td>\n      <td>RD2</td>\n      <td>RE2</td>\n      <td>RF2</td>\n    </tr>\n    <tr>\n      <th>5</th>\n      <td>LA1</td>\n      <td>LB1</td>\n      <td>LC1</td>\n      <td>LD1</td>\n      <td>RC3</td>\n      <td>RD3</td>\n      <td>RE3</td>\n      <td>RF3</td>\n    </tr>\n    <tr>\n      <th>6</th>\n      <td>LA1</td>\n      <td>LB1</td>\n      <td>LC1</td>\n      <td>LD1</td>\n      <td>RC4</td>\n      <td>RD4</td>\n      <td>RE4</td>\n      <td>RF4</td>\n    </tr>\n    <tr>\n      <th>7</th>\n      <td>LA1</td>\n      <td>LB1</td>\n      <td>LC1</td>\n      <td>LD1</td>\n      <td>RC5</td>\n      <td>RD5</td>\n      <td>RE5</td>\n      <td>RF5</td>\n    </tr>\n    <tr>\n      <th>8</th>\n      <td>LA2</td>\n      <td>LB2</td>\n      <td>LC2</td>\n      <td>LD2</td>\n      <td>RC2</td>\n      <td>RD2</td>\n      <td>RE2</td>\n      <td>RF2</td>\n    </tr>\n    <tr>\n      <th>9</th>\n      <td>LA2</td>\n      <td>LB2</td>\n      <td>LC2</td>\n      <td>LD2</td>\n      <td>RC3</td>\n      <td>RD3</td>\n      <td>RE3</td>\n      <td>RF3</td>\n    </tr>\n    <tr>\n      <th>10</th>\n      <td>LA2</td>\n      <td>LB2</td>\n      <td>LC2</td>\n      <td>LD2</td>\n      <td>RC4</td>\n      <td>RD4</td>\n      <td>RE4</td>\n      <td>RF4</td>\n    </tr>\n    <tr>\n      <th>11</th>\n      <td>LA2</td>\n      <td>LB2</td>\n      <td>LC2</td>\n      <td>LD2</td>\n      <td>RC5</td>\n      <td>RD5</td>\n      <td>RE5</td>\n      <td>RF5</td>\n    </tr>\n    <tr>\n      <th>12</th>\n      <td>LA3</td>\n      <td>LB3</td>\n      <td>LC3</td>\n      <td>LD3</td>\n      <td>RC2</td>\n      <td>RD2</td>\n      <td>RE2</td>\n      <td>RF2</td>\n    </tr>\n    <tr>\n      <th>13</th>\n      <td>LA3</td>\n      <td>LB3</td>\n      <td>LC3</td>\n      <td>LD3</td>\n      <td>RC3</td>\n      <td>RD3</td>\n      <td>RE3</td>\n      <td>RF3</td>\n    </tr>\n    <tr>\n      <th>14</th>\n      <td>LA3</td>\n      <td>LB3</td>\n      <td>LC3</td>\n      <td>LD3</td>\n      <td>RC4</td>\n      <td>RD4</td>\n      <td>RE4</td>\n      <td>RF4</td>\n    </tr>\n    <tr>\n      <th>15</th>\n      <td>LA3</td>\n      <td>LB3</td>\n      <td>LC3</td>\n      <td>LD3</td>\n      <td>RC5</td>\n      <td>RD5</td>\n      <td>RE5</td>\n      <td>RF5</td>\n    </tr>\n  </tbody>\n</table>\n</div>"
     },
     "execution_count": 41,
     "metadata": {},
     "output_type": "execute_result"
    }
   ],
   "source": [
    "left.join(right, how=\"cross\")"
   ],
   "metadata": {
    "collapsed": false,
    "ExecuteTime": {
     "end_time": "2023-11-09T09:43:32.946919800Z",
     "start_time": "2023-11-09T09:43:32.877842600Z"
    }
   },
   "id": "22ab310a28ceaad2"
  },
  {
   "cell_type": "markdown",
   "source": [
    "### Merge\n",
    "Pandas .merge() method is similar to .join(), but is more versatile,\n",
    "and allows us to specify columns beside the index to join for both DataFrames.\n",
    "Note: *how* parameter works the same as for join(), but the default for merge() is \"inner\", not \"left\"."
   ],
   "metadata": {
    "collapsed": false
   },
   "id": "1c4c140c551e3c6b"
  },
  {
   "cell_type": "code",
   "execution_count": 52,
   "outputs": [
    {
     "data": {
      "text/html": "<style type=\"text/css\">\n#T_0288a th {\n  text-align: left;\n  vertical-align: top;\n}\n</style>\n<table id=\"T_0288a\" style='display:inline; margin-right: 50px;'>\n  <caption>Left</caption>\n  <thead>\n    <tr>\n      <th class=\"blank level0\" >&nbsp;</th>\n      <th id=\"T_0288a_level0_col0\" class=\"col_heading level0 col0\" >A</th>\n      <th id=\"T_0288a_level0_col1\" class=\"col_heading level0 col1\" >B</th>\n      <th id=\"T_0288a_level0_col2\" class=\"col_heading level0 col2\" >C</th>\n      <th id=\"T_0288a_level0_col3\" class=\"col_heading level0 col3\" >D</th>\n      <th id=\"T_0288a_level0_col4\" class=\"col_heading level0 col4\" >E</th>\n      <th id=\"T_0288a_level0_col5\" class=\"col_heading level0 col5\" >F</th>\n    </tr>\n  </thead>\n  <tbody>\n    <tr>\n      <th id=\"T_0288a_level0_row0\" class=\"row_heading level0 row0\" >0</th>\n      <td id=\"T_0288a_row0_col0\" class=\"data row0 col0\" >A0</td>\n      <td id=\"T_0288a_row0_col1\" class=\"data row0 col1\" >B0</td>\n      <td id=\"T_0288a_row0_col2\" class=\"data row0 col2\" >C0</td>\n      <td id=\"T_0288a_row0_col3\" class=\"data row0 col3\" >D0</td>\n      <td id=\"T_0288a_row0_col4\" class=\"data row0 col4\" >E0</td>\n      <td id=\"T_0288a_row0_col5\" class=\"data row0 col5\" >F10</td>\n    </tr>\n    <tr>\n      <th id=\"T_0288a_level0_row1\" class=\"row_heading level0 row1\" >1</th>\n      <td id=\"T_0288a_row1_col0\" class=\"data row1 col0\" >A1</td>\n      <td id=\"T_0288a_row1_col1\" class=\"data row1 col1\" >B1</td>\n      <td id=\"T_0288a_row1_col2\" class=\"data row1 col2\" >C1</td>\n      <td id=\"T_0288a_row1_col3\" class=\"data row1 col3\" >D1</td>\n      <td id=\"T_0288a_row1_col4\" class=\"data row1 col4\" >E1</td>\n      <td id=\"T_0288a_row1_col5\" class=\"data row1 col5\" >F11</td>\n    </tr>\n    <tr>\n      <th id=\"T_0288a_level0_row2\" class=\"row_heading level0 row2\" >2</th>\n      <td id=\"T_0288a_row2_col0\" class=\"data row2 col0\" >A2</td>\n      <td id=\"T_0288a_row2_col1\" class=\"data row2 col1\" >B2</td>\n      <td id=\"T_0288a_row2_col2\" class=\"data row2 col2\" >C2</td>\n      <td id=\"T_0288a_row2_col3\" class=\"data row2 col3\" >D2</td>\n      <td id=\"T_0288a_row2_col4\" class=\"data row2 col4\" >E2</td>\n      <td id=\"T_0288a_row2_col5\" class=\"data row2 col5\" >F12</td>\n    </tr>\n    <tr>\n      <th id=\"T_0288a_level0_row3\" class=\"row_heading level0 row3\" >3</th>\n      <td id=\"T_0288a_row3_col0\" class=\"data row3 col0\" >A3</td>\n      <td id=\"T_0288a_row3_col1\" class=\"data row3 col1\" >B3</td>\n      <td id=\"T_0288a_row3_col2\" class=\"data row3 col2\" >C3</td>\n      <td id=\"T_0288a_row3_col3\" class=\"data row3 col3\" >D3</td>\n      <td id=\"T_0288a_row3_col4\" class=\"data row3 col4\" >E3</td>\n      <td id=\"T_0288a_row3_col5\" class=\"data row3 col5\" >F13</td>\n    </tr>\n  </tbody>\n</table>\n<style type=\"text/css\">\n#T_63758 th {\n  text-align: left;\n  vertical-align: top;\n}\n</style>\n<table id=\"T_63758\" style='display:inline; margin-right: 50px;'>\n  <caption>Right</caption>\n  <thead>\n    <tr>\n      <th class=\"blank level0\" >&nbsp;</th>\n      <th id=\"T_63758_level0_col0\" class=\"col_heading level0 col0\" >F</th>\n      <th id=\"T_63758_level0_col1\" class=\"col_heading level0 col1\" >G</th>\n      <th id=\"T_63758_level0_col2\" class=\"col_heading level0 col2\" >H</th>\n      <th id=\"T_63758_level0_col3\" class=\"col_heading level0 col3\" >I</th>\n      <th id=\"T_63758_level0_col4\" class=\"col_heading level0 col4\" >J</th>\n    </tr>\n  </thead>\n  <tbody>\n    <tr>\n      <th id=\"T_63758_level0_row0\" class=\"row_heading level0 row0\" >10</th>\n      <td id=\"T_63758_row0_col0\" class=\"data row0 col0\" >F10</td>\n      <td id=\"T_63758_row0_col1\" class=\"data row0 col1\" >G10</td>\n      <td id=\"T_63758_row0_col2\" class=\"data row0 col2\" >H10</td>\n      <td id=\"T_63758_row0_col3\" class=\"data row0 col3\" >I10</td>\n      <td id=\"T_63758_row0_col4\" class=\"data row0 col4\" >J10</td>\n    </tr>\n    <tr>\n      <th id=\"T_63758_level0_row1\" class=\"row_heading level0 row1\" >11</th>\n      <td id=\"T_63758_row1_col0\" class=\"data row1 col0\" >F11</td>\n      <td id=\"T_63758_row1_col1\" class=\"data row1 col1\" >G11</td>\n      <td id=\"T_63758_row1_col2\" class=\"data row1 col2\" >H11</td>\n      <td id=\"T_63758_row1_col3\" class=\"data row1 col3\" >I11</td>\n      <td id=\"T_63758_row1_col4\" class=\"data row1 col4\" >J11</td>\n    </tr>\n    <tr>\n      <th id=\"T_63758_level0_row2\" class=\"row_heading level0 row2\" >12</th>\n      <td id=\"T_63758_row2_col0\" class=\"data row2 col0\" >F12</td>\n      <td id=\"T_63758_row2_col1\" class=\"data row2 col1\" >G12</td>\n      <td id=\"T_63758_row2_col2\" class=\"data row2 col2\" >H12</td>\n      <td id=\"T_63758_row2_col3\" class=\"data row2 col3\" >I12</td>\n      <td id=\"T_63758_row2_col4\" class=\"data row2 col4\" >J12</td>\n    </tr>\n    <tr>\n      <th id=\"T_63758_level0_row3\" class=\"row_heading level0 row3\" >13</th>\n      <td id=\"T_63758_row3_col0\" class=\"data row3 col0\" >F13</td>\n      <td id=\"T_63758_row3_col1\" class=\"data row3 col1\" >G13</td>\n      <td id=\"T_63758_row3_col2\" class=\"data row3 col2\" >H13</td>\n      <td id=\"T_63758_row3_col3\" class=\"data row3 col3\" >I13</td>\n      <td id=\"T_63758_row3_col4\" class=\"data row3 col4\" >J13</td>\n    </tr>\n  </tbody>\n</table>\n"
     },
     "metadata": {},
     "output_type": "display_data"
    }
   ],
   "source": [
    "# new sample data\n",
    "left = sample_df(\"A0\", \"E3\")\n",
    "left.loc[:,\"F\"] = [\"F10\", \"F11\", \"F12\", \"F13\"]\n",
    "right = sample_df(\"F10\", \"J13\")\n",
    "hdisplay([left, right], [\"Left\", \"Right\"])"
   ],
   "metadata": {
    "collapsed": false,
    "ExecuteTime": {
     "end_time": "2023-11-09T10:18:32.724287400Z",
     "start_time": "2023-11-09T10:18:32.680732800Z"
    }
   },
   "id": "84b54438e92aee66"
  },
  {
   "cell_type": "code",
   "execution_count": 53,
   "outputs": [
    {
     "data": {
      "text/plain": "    A   B   C   D   E    F    G    H    I    J\n0  A0  B0  C0  D0  E0  F10  G10  H10  I10  J10\n1  A1  B1  C1  D1  E1  F11  G11  H11  I11  J11\n2  A2  B2  C2  D2  E2  F12  G12  H12  I12  J12\n3  A3  B3  C3  D3  E3  F13  G13  H13  I13  J13",
      "text/html": "<div>\n<style scoped>\n    .dataframe tbody tr th:only-of-type {\n        vertical-align: middle;\n    }\n\n    .dataframe tbody tr th {\n        vertical-align: top;\n    }\n\n    .dataframe thead th {\n        text-align: right;\n    }\n</style>\n<table border=\"1\" class=\"dataframe\">\n  <thead>\n    <tr style=\"text-align: right;\">\n      <th></th>\n      <th>A</th>\n      <th>B</th>\n      <th>C</th>\n      <th>D</th>\n      <th>E</th>\n      <th>F</th>\n      <th>G</th>\n      <th>H</th>\n      <th>I</th>\n      <th>J</th>\n    </tr>\n  </thead>\n  <tbody>\n    <tr>\n      <th>0</th>\n      <td>A0</td>\n      <td>B0</td>\n      <td>C0</td>\n      <td>D0</td>\n      <td>E0</td>\n      <td>F10</td>\n      <td>G10</td>\n      <td>H10</td>\n      <td>I10</td>\n      <td>J10</td>\n    </tr>\n    <tr>\n      <th>1</th>\n      <td>A1</td>\n      <td>B1</td>\n      <td>C1</td>\n      <td>D1</td>\n      <td>E1</td>\n      <td>F11</td>\n      <td>G11</td>\n      <td>H11</td>\n      <td>I11</td>\n      <td>J11</td>\n    </tr>\n    <tr>\n      <th>2</th>\n      <td>A2</td>\n      <td>B2</td>\n      <td>C2</td>\n      <td>D2</td>\n      <td>E2</td>\n      <td>F12</td>\n      <td>G12</td>\n      <td>H12</td>\n      <td>I12</td>\n      <td>J12</td>\n    </tr>\n    <tr>\n      <th>3</th>\n      <td>A3</td>\n      <td>B3</td>\n      <td>C3</td>\n      <td>D3</td>\n      <td>E3</td>\n      <td>F13</td>\n      <td>G13</td>\n      <td>H13</td>\n      <td>I13</td>\n      <td>J13</td>\n    </tr>\n  </tbody>\n</table>\n</div>"
     },
     "execution_count": 53,
     "metadata": {},
     "output_type": "execute_result"
    }
   ],
   "source": [
    "left.merge(right)"
   ],
   "metadata": {
    "collapsed": false,
    "ExecuteTime": {
     "end_time": "2023-11-09T10:18:34.839977800Z",
     "start_time": "2023-11-09T10:18:34.804242300Z"
    }
   },
   "id": "f21d9560df733bd2"
  },
  {
   "cell_type": "code",
   "execution_count": 54,
   "outputs": [
    {
     "data": {
      "text/html": "<style type=\"text/css\">\n#T_26f2a th {\n  text-align: left;\n  vertical-align: top;\n}\n</style>\n<table id=\"T_26f2a\" style='display:inline; margin-right: 50px;'>\n  <caption>Left</caption>\n  <thead>\n    <tr>\n      <th class=\"blank level0\" >&nbsp;</th>\n      <th id=\"T_26f2a_level0_col0\" class=\"col_heading level0 col0\" >LA</th>\n      <th id=\"T_26f2a_level0_col1\" class=\"col_heading level0 col1\" >LB</th>\n      <th id=\"T_26f2a_level0_col2\" class=\"col_heading level0 col2\" >LC</th>\n      <th id=\"T_26f2a_level0_col3\" class=\"col_heading level0 col3\" >LD</th>\n      <th id=\"T_26f2a_level0_col4\" class=\"col_heading level0 col4\" >LE</th>\n      <th id=\"T_26f2a_level0_col5\" class=\"col_heading level0 col5\" >LF</th>\n    </tr>\n  </thead>\n  <tbody>\n    <tr>\n      <th id=\"T_26f2a_level0_row0\" class=\"row_heading level0 row0\" >0</th>\n      <td id=\"T_26f2a_row0_col0\" class=\"data row0 col0\" >A0</td>\n      <td id=\"T_26f2a_row0_col1\" class=\"data row0 col1\" >B0</td>\n      <td id=\"T_26f2a_row0_col2\" class=\"data row0 col2\" >C0</td>\n      <td id=\"T_26f2a_row0_col3\" class=\"data row0 col3\" >D0</td>\n      <td id=\"T_26f2a_row0_col4\" class=\"data row0 col4\" >E0</td>\n      <td id=\"T_26f2a_row0_col5\" class=\"data row0 col5\" >F10</td>\n    </tr>\n    <tr>\n      <th id=\"T_26f2a_level0_row1\" class=\"row_heading level0 row1\" >1</th>\n      <td id=\"T_26f2a_row1_col0\" class=\"data row1 col0\" >A1</td>\n      <td id=\"T_26f2a_row1_col1\" class=\"data row1 col1\" >B1</td>\n      <td id=\"T_26f2a_row1_col2\" class=\"data row1 col2\" >C1</td>\n      <td id=\"T_26f2a_row1_col3\" class=\"data row1 col3\" >D1</td>\n      <td id=\"T_26f2a_row1_col4\" class=\"data row1 col4\" >E1</td>\n      <td id=\"T_26f2a_row1_col5\" class=\"data row1 col5\" >F11</td>\n    </tr>\n    <tr>\n      <th id=\"T_26f2a_level0_row2\" class=\"row_heading level0 row2\" >2</th>\n      <td id=\"T_26f2a_row2_col0\" class=\"data row2 col0\" >A2</td>\n      <td id=\"T_26f2a_row2_col1\" class=\"data row2 col1\" >B2</td>\n      <td id=\"T_26f2a_row2_col2\" class=\"data row2 col2\" >C2</td>\n      <td id=\"T_26f2a_row2_col3\" class=\"data row2 col3\" >D2</td>\n      <td id=\"T_26f2a_row2_col4\" class=\"data row2 col4\" >E2</td>\n      <td id=\"T_26f2a_row2_col5\" class=\"data row2 col5\" >F12</td>\n    </tr>\n    <tr>\n      <th id=\"T_26f2a_level0_row3\" class=\"row_heading level0 row3\" >3</th>\n      <td id=\"T_26f2a_row3_col0\" class=\"data row3 col0\" >A3</td>\n      <td id=\"T_26f2a_row3_col1\" class=\"data row3 col1\" >B3</td>\n      <td id=\"T_26f2a_row3_col2\" class=\"data row3 col2\" >C3</td>\n      <td id=\"T_26f2a_row3_col3\" class=\"data row3 col3\" >D3</td>\n      <td id=\"T_26f2a_row3_col4\" class=\"data row3 col4\" >E3</td>\n      <td id=\"T_26f2a_row3_col5\" class=\"data row3 col5\" >F13</td>\n    </tr>\n  </tbody>\n</table>\n<style type=\"text/css\">\n#T_3d59a th {\n  text-align: left;\n  vertical-align: top;\n}\n</style>\n<table id=\"T_3d59a\" style='display:inline; margin-right: 50px;'>\n  <caption>Right</caption>\n  <thead>\n    <tr>\n      <th class=\"blank level0\" >&nbsp;</th>\n      <th id=\"T_3d59a_level0_col0\" class=\"col_heading level0 col0\" >RF</th>\n      <th id=\"T_3d59a_level0_col1\" class=\"col_heading level0 col1\" >RG</th>\n      <th id=\"T_3d59a_level0_col2\" class=\"col_heading level0 col2\" >RH</th>\n      <th id=\"T_3d59a_level0_col3\" class=\"col_heading level0 col3\" >RI</th>\n      <th id=\"T_3d59a_level0_col4\" class=\"col_heading level0 col4\" >RJ</th>\n    </tr>\n  </thead>\n  <tbody>\n    <tr>\n      <th id=\"T_3d59a_level0_row0\" class=\"row_heading level0 row0\" >10</th>\n      <td id=\"T_3d59a_row0_col0\" class=\"data row0 col0\" >F10</td>\n      <td id=\"T_3d59a_row0_col1\" class=\"data row0 col1\" >G10</td>\n      <td id=\"T_3d59a_row0_col2\" class=\"data row0 col2\" >H10</td>\n      <td id=\"T_3d59a_row0_col3\" class=\"data row0 col3\" >I10</td>\n      <td id=\"T_3d59a_row0_col4\" class=\"data row0 col4\" >J10</td>\n    </tr>\n    <tr>\n      <th id=\"T_3d59a_level0_row1\" class=\"row_heading level0 row1\" >11</th>\n      <td id=\"T_3d59a_row1_col0\" class=\"data row1 col0\" >F11</td>\n      <td id=\"T_3d59a_row1_col1\" class=\"data row1 col1\" >G11</td>\n      <td id=\"T_3d59a_row1_col2\" class=\"data row1 col2\" >H11</td>\n      <td id=\"T_3d59a_row1_col3\" class=\"data row1 col3\" >I11</td>\n      <td id=\"T_3d59a_row1_col4\" class=\"data row1 col4\" >J11</td>\n    </tr>\n    <tr>\n      <th id=\"T_3d59a_level0_row2\" class=\"row_heading level0 row2\" >12</th>\n      <td id=\"T_3d59a_row2_col0\" class=\"data row2 col0\" >F12</td>\n      <td id=\"T_3d59a_row2_col1\" class=\"data row2 col1\" >G12</td>\n      <td id=\"T_3d59a_row2_col2\" class=\"data row2 col2\" >H12</td>\n      <td id=\"T_3d59a_row2_col3\" class=\"data row2 col3\" >I12</td>\n      <td id=\"T_3d59a_row2_col4\" class=\"data row2 col4\" >J12</td>\n    </tr>\n    <tr>\n      <th id=\"T_3d59a_level0_row3\" class=\"row_heading level0 row3\" >13</th>\n      <td id=\"T_3d59a_row3_col0\" class=\"data row3 col0\" >F13</td>\n      <td id=\"T_3d59a_row3_col1\" class=\"data row3 col1\" >G13</td>\n      <td id=\"T_3d59a_row3_col2\" class=\"data row3 col2\" >H13</td>\n      <td id=\"T_3d59a_row3_col3\" class=\"data row3 col3\" >I13</td>\n      <td id=\"T_3d59a_row3_col4\" class=\"data row3 col4\" >J13</td>\n    </tr>\n  </tbody>\n</table>\n"
     },
     "metadata": {},
     "output_type": "display_data"
    }
   ],
   "source": [
    "# new sample data\n",
    "left = sample_df(\"A0\", \"E3\").add_prefix(\"L\")\n",
    "left.loc[:,\"LF\"] = [\"F10\", \"F11\", \"F12\", \"F13\"]\n",
    "right = sample_df(\"F10\", \"J13\").add_prefix(\"R\")\n",
    "hdisplay([left, right], [\"Left\", \"Right\"])"
   ],
   "metadata": {
    "collapsed": false,
    "ExecuteTime": {
     "end_time": "2023-11-09T10:18:36.369257900Z",
     "start_time": "2023-11-09T10:18:36.338996600Z"
    }
   },
   "id": "749b6cfcc2f4fca6"
  },
  {
   "cell_type": "code",
   "execution_count": 55,
   "outputs": [
    {
     "data": {
      "text/plain": "   LA  LB  LC  LD  LE   LF   RF   RG   RH   RI   RJ\n0  A0  B0  C0  D0  E0  F10  F10  G10  H10  I10  J10\n1  A1  B1  C1  D1  E1  F11  F11  G11  H11  I11  J11\n2  A2  B2  C2  D2  E2  F12  F12  G12  H12  I12  J12\n3  A3  B3  C3  D3  E3  F13  F13  G13  H13  I13  J13",
      "text/html": "<div>\n<style scoped>\n    .dataframe tbody tr th:only-of-type {\n        vertical-align: middle;\n    }\n\n    .dataframe tbody tr th {\n        vertical-align: top;\n    }\n\n    .dataframe thead th {\n        text-align: right;\n    }\n</style>\n<table border=\"1\" class=\"dataframe\">\n  <thead>\n    <tr style=\"text-align: right;\">\n      <th></th>\n      <th>LA</th>\n      <th>LB</th>\n      <th>LC</th>\n      <th>LD</th>\n      <th>LE</th>\n      <th>LF</th>\n      <th>RF</th>\n      <th>RG</th>\n      <th>RH</th>\n      <th>RI</th>\n      <th>RJ</th>\n    </tr>\n  </thead>\n  <tbody>\n    <tr>\n      <th>0</th>\n      <td>A0</td>\n      <td>B0</td>\n      <td>C0</td>\n      <td>D0</td>\n      <td>E0</td>\n      <td>F10</td>\n      <td>F10</td>\n      <td>G10</td>\n      <td>H10</td>\n      <td>I10</td>\n      <td>J10</td>\n    </tr>\n    <tr>\n      <th>1</th>\n      <td>A1</td>\n      <td>B1</td>\n      <td>C1</td>\n      <td>D1</td>\n      <td>E1</td>\n      <td>F11</td>\n      <td>F11</td>\n      <td>G11</td>\n      <td>H11</td>\n      <td>I11</td>\n      <td>J11</td>\n    </tr>\n    <tr>\n      <th>2</th>\n      <td>A2</td>\n      <td>B2</td>\n      <td>C2</td>\n      <td>D2</td>\n      <td>E2</td>\n      <td>F12</td>\n      <td>F12</td>\n      <td>G12</td>\n      <td>H12</td>\n      <td>I12</td>\n      <td>J12</td>\n    </tr>\n    <tr>\n      <th>3</th>\n      <td>A3</td>\n      <td>B3</td>\n      <td>C3</td>\n      <td>D3</td>\n      <td>E3</td>\n      <td>F13</td>\n      <td>F13</td>\n      <td>G13</td>\n      <td>H13</td>\n      <td>I13</td>\n      <td>J13</td>\n    </tr>\n  </tbody>\n</table>\n</div>"
     },
     "execution_count": 55,
     "metadata": {},
     "output_type": "execute_result"
    }
   ],
   "source": [
    "left.merge(right, how=\"inner\", left_on=\"LF\", right_on=\"RF\")"
   ],
   "metadata": {
    "collapsed": false,
    "ExecuteTime": {
     "end_time": "2023-11-09T10:18:37.443042600Z",
     "start_time": "2023-11-09T10:18:37.410264800Z"
    }
   },
   "id": "59f2cf153bab49eb"
  },
  {
   "cell_type": "code",
   "execution_count": 56,
   "outputs": [
    {
     "data": {
      "text/html": "<style type=\"text/css\">\n#T_0740b th {\n  text-align: left;\n  vertical-align: top;\n}\n</style>\n<table id=\"T_0740b\" style='display:inline; margin-right: 50px;'>\n  <caption>Left</caption>\n  <thead>\n    <tr>\n      <th class=\"blank level0\" >&nbsp;</th>\n      <th id=\"T_0740b_level0_col0\" class=\"col_heading level0 col0\" >LA</th>\n      <th id=\"T_0740b_level0_col1\" class=\"col_heading level0 col1\" >LB</th>\n      <th id=\"T_0740b_level0_col2\" class=\"col_heading level0 col2\" >LC</th>\n      <th id=\"T_0740b_level0_col3\" class=\"col_heading level0 col3\" >LD</th>\n      <th id=\"T_0740b_level0_col4\" class=\"col_heading level0 col4\" >LE</th>\n      <th id=\"T_0740b_level0_col5\" class=\"col_heading level0 col5\" >LF</th>\n    </tr>\n  </thead>\n  <tbody>\n    <tr>\n      <th id=\"T_0740b_level0_row0\" class=\"row_heading level0 row0\" >0</th>\n      <td id=\"T_0740b_row0_col0\" class=\"data row0 col0\" >A0</td>\n      <td id=\"T_0740b_row0_col1\" class=\"data row0 col1\" >B0</td>\n      <td id=\"T_0740b_row0_col2\" class=\"data row0 col2\" >C0</td>\n      <td id=\"T_0740b_row0_col3\" class=\"data row0 col3\" >D0</td>\n      <td id=\"T_0740b_row0_col4\" class=\"data row0 col4\" >E0</td>\n      <td id=\"T_0740b_row0_col5\" class=\"data row0 col5\" >F8</td>\n    </tr>\n    <tr>\n      <th id=\"T_0740b_level0_row1\" class=\"row_heading level0 row1\" >1</th>\n      <td id=\"T_0740b_row1_col0\" class=\"data row1 col0\" >A1</td>\n      <td id=\"T_0740b_row1_col1\" class=\"data row1 col1\" >B1</td>\n      <td id=\"T_0740b_row1_col2\" class=\"data row1 col2\" >C1</td>\n      <td id=\"T_0740b_row1_col3\" class=\"data row1 col3\" >D1</td>\n      <td id=\"T_0740b_row1_col4\" class=\"data row1 col4\" >E1</td>\n      <td id=\"T_0740b_row1_col5\" class=\"data row1 col5\" >F9</td>\n    </tr>\n    <tr>\n      <th id=\"T_0740b_level0_row2\" class=\"row_heading level0 row2\" >2</th>\n      <td id=\"T_0740b_row2_col0\" class=\"data row2 col0\" >A2</td>\n      <td id=\"T_0740b_row2_col1\" class=\"data row2 col1\" >B2</td>\n      <td id=\"T_0740b_row2_col2\" class=\"data row2 col2\" >C2</td>\n      <td id=\"T_0740b_row2_col3\" class=\"data row2 col3\" >D2</td>\n      <td id=\"T_0740b_row2_col4\" class=\"data row2 col4\" >E2</td>\n      <td id=\"T_0740b_row2_col5\" class=\"data row2 col5\" >F10</td>\n    </tr>\n    <tr>\n      <th id=\"T_0740b_level0_row3\" class=\"row_heading level0 row3\" >3</th>\n      <td id=\"T_0740b_row3_col0\" class=\"data row3 col0\" >A3</td>\n      <td id=\"T_0740b_row3_col1\" class=\"data row3 col1\" >B3</td>\n      <td id=\"T_0740b_row3_col2\" class=\"data row3 col2\" >C3</td>\n      <td id=\"T_0740b_row3_col3\" class=\"data row3 col3\" >D3</td>\n      <td id=\"T_0740b_row3_col4\" class=\"data row3 col4\" >E3</td>\n      <td id=\"T_0740b_row3_col5\" class=\"data row3 col5\" >F11</td>\n    </tr>\n  </tbody>\n</table>\n<style type=\"text/css\">\n#T_82eaf th {\n  text-align: left;\n  vertical-align: top;\n}\n</style>\n<table id=\"T_82eaf\" style='display:inline; margin-right: 50px;'>\n  <caption>Right</caption>\n  <thead>\n    <tr>\n      <th class=\"blank level0\" >&nbsp;</th>\n      <th id=\"T_82eaf_level0_col0\" class=\"col_heading level0 col0\" >RF</th>\n      <th id=\"T_82eaf_level0_col1\" class=\"col_heading level0 col1\" >RG</th>\n      <th id=\"T_82eaf_level0_col2\" class=\"col_heading level0 col2\" >RH</th>\n      <th id=\"T_82eaf_level0_col3\" class=\"col_heading level0 col3\" >RI</th>\n      <th id=\"T_82eaf_level0_col4\" class=\"col_heading level0 col4\" >RJ</th>\n    </tr>\n  </thead>\n  <tbody>\n    <tr>\n      <th id=\"T_82eaf_level0_row0\" class=\"row_heading level0 row0\" >10</th>\n      <td id=\"T_82eaf_row0_col0\" class=\"data row0 col0\" >F10</td>\n      <td id=\"T_82eaf_row0_col1\" class=\"data row0 col1\" >G10</td>\n      <td id=\"T_82eaf_row0_col2\" class=\"data row0 col2\" >H10</td>\n      <td id=\"T_82eaf_row0_col3\" class=\"data row0 col3\" >I10</td>\n      <td id=\"T_82eaf_row0_col4\" class=\"data row0 col4\" >J10</td>\n    </tr>\n    <tr>\n      <th id=\"T_82eaf_level0_row1\" class=\"row_heading level0 row1\" >11</th>\n      <td id=\"T_82eaf_row1_col0\" class=\"data row1 col0\" >F11</td>\n      <td id=\"T_82eaf_row1_col1\" class=\"data row1 col1\" >G11</td>\n      <td id=\"T_82eaf_row1_col2\" class=\"data row1 col2\" >H11</td>\n      <td id=\"T_82eaf_row1_col3\" class=\"data row1 col3\" >I11</td>\n      <td id=\"T_82eaf_row1_col4\" class=\"data row1 col4\" >J11</td>\n    </tr>\n    <tr>\n      <th id=\"T_82eaf_level0_row2\" class=\"row_heading level0 row2\" >12</th>\n      <td id=\"T_82eaf_row2_col0\" class=\"data row2 col0\" >F12</td>\n      <td id=\"T_82eaf_row2_col1\" class=\"data row2 col1\" >G12</td>\n      <td id=\"T_82eaf_row2_col2\" class=\"data row2 col2\" >H12</td>\n      <td id=\"T_82eaf_row2_col3\" class=\"data row2 col3\" >I12</td>\n      <td id=\"T_82eaf_row2_col4\" class=\"data row2 col4\" >J12</td>\n    </tr>\n    <tr>\n      <th id=\"T_82eaf_level0_row3\" class=\"row_heading level0 row3\" >13</th>\n      <td id=\"T_82eaf_row3_col0\" class=\"data row3 col0\" >F13</td>\n      <td id=\"T_82eaf_row3_col1\" class=\"data row3 col1\" >G13</td>\n      <td id=\"T_82eaf_row3_col2\" class=\"data row3 col2\" >H13</td>\n      <td id=\"T_82eaf_row3_col3\" class=\"data row3 col3\" >I13</td>\n      <td id=\"T_82eaf_row3_col4\" class=\"data row3 col4\" >J13</td>\n    </tr>\n  </tbody>\n</table>\n"
     },
     "metadata": {},
     "output_type": "display_data"
    }
   ],
   "source": [
    "# new sample data\n",
    "left = sample_df(\"A0\", \"E3\").add_prefix(\"L\")\n",
    "left.loc[:,\"LF\"] = [\"F8\", \"F9\", \"F10\", \"F11\"]\n",
    "right = sample_df(\"F10\", \"J13\").add_prefix(\"R\")\n",
    "hdisplay([left, right], [\"Left\", \"Right\"])"
   ],
   "metadata": {
    "collapsed": false,
    "ExecuteTime": {
     "end_time": "2023-11-09T10:24:25.269873800Z",
     "start_time": "2023-11-09T10:24:25.203175200Z"
    }
   },
   "id": "198b553b9dacba7b"
  },
  {
   "cell_type": "code",
   "execution_count": 57,
   "outputs": [
    {
     "data": {
      "text/plain": "    LA   LB   LC   LD   LE   LF   RF   RG   RH   RI   RJ\n0   A0   B0   C0   D0   E0   F8  NaN  NaN  NaN  NaN  NaN\n1   A1   B1   C1   D1   E1   F9  NaN  NaN  NaN  NaN  NaN\n2   A2   B2   C2   D2   E2  F10  F10  G10  H10  I10  J10\n3   A3   B3   C3   D3   E3  F11  F11  G11  H11  I11  J11\n4  NaN  NaN  NaN  NaN  NaN  NaN  F12  G12  H12  I12  J12\n5  NaN  NaN  NaN  NaN  NaN  NaN  F13  G13  H13  I13  J13",
      "text/html": "<div>\n<style scoped>\n    .dataframe tbody tr th:only-of-type {\n        vertical-align: middle;\n    }\n\n    .dataframe tbody tr th {\n        vertical-align: top;\n    }\n\n    .dataframe thead th {\n        text-align: right;\n    }\n</style>\n<table border=\"1\" class=\"dataframe\">\n  <thead>\n    <tr style=\"text-align: right;\">\n      <th></th>\n      <th>LA</th>\n      <th>LB</th>\n      <th>LC</th>\n      <th>LD</th>\n      <th>LE</th>\n      <th>LF</th>\n      <th>RF</th>\n      <th>RG</th>\n      <th>RH</th>\n      <th>RI</th>\n      <th>RJ</th>\n    </tr>\n  </thead>\n  <tbody>\n    <tr>\n      <th>0</th>\n      <td>A0</td>\n      <td>B0</td>\n      <td>C0</td>\n      <td>D0</td>\n      <td>E0</td>\n      <td>F8</td>\n      <td>NaN</td>\n      <td>NaN</td>\n      <td>NaN</td>\n      <td>NaN</td>\n      <td>NaN</td>\n    </tr>\n    <tr>\n      <th>1</th>\n      <td>A1</td>\n      <td>B1</td>\n      <td>C1</td>\n      <td>D1</td>\n      <td>E1</td>\n      <td>F9</td>\n      <td>NaN</td>\n      <td>NaN</td>\n      <td>NaN</td>\n      <td>NaN</td>\n      <td>NaN</td>\n    </tr>\n    <tr>\n      <th>2</th>\n      <td>A2</td>\n      <td>B2</td>\n      <td>C2</td>\n      <td>D2</td>\n      <td>E2</td>\n      <td>F10</td>\n      <td>F10</td>\n      <td>G10</td>\n      <td>H10</td>\n      <td>I10</td>\n      <td>J10</td>\n    </tr>\n    <tr>\n      <th>3</th>\n      <td>A3</td>\n      <td>B3</td>\n      <td>C3</td>\n      <td>D3</td>\n      <td>E3</td>\n      <td>F11</td>\n      <td>F11</td>\n      <td>G11</td>\n      <td>H11</td>\n      <td>I11</td>\n      <td>J11</td>\n    </tr>\n    <tr>\n      <th>4</th>\n      <td>NaN</td>\n      <td>NaN</td>\n      <td>NaN</td>\n      <td>NaN</td>\n      <td>NaN</td>\n      <td>NaN</td>\n      <td>F12</td>\n      <td>G12</td>\n      <td>H12</td>\n      <td>I12</td>\n      <td>J12</td>\n    </tr>\n    <tr>\n      <th>5</th>\n      <td>NaN</td>\n      <td>NaN</td>\n      <td>NaN</td>\n      <td>NaN</td>\n      <td>NaN</td>\n      <td>NaN</td>\n      <td>F13</td>\n      <td>G13</td>\n      <td>H13</td>\n      <td>I13</td>\n      <td>J13</td>\n    </tr>\n  </tbody>\n</table>\n</div>"
     },
     "execution_count": 57,
     "metadata": {},
     "output_type": "execute_result"
    }
   ],
   "source": [
    "left.merge(right, how=\"outer\", left_on=\"LF\", right_on=\"RF\")"
   ],
   "metadata": {
    "collapsed": false,
    "ExecuteTime": {
     "end_time": "2023-11-09T10:24:47.159161300Z",
     "start_time": "2023-11-09T10:24:47.116416800Z"
    }
   },
   "id": "a0dec2e11a3eefe"
  },
  {
   "cell_type": "markdown",
   "source": [
    "### Working with real data"
   ],
   "metadata": {
    "collapsed": false
   },
   "id": "f17a7aa31f896356"
  },
  {
   "cell_type": "code",
   "execution_count": 67,
   "outputs": [
    {
     "data": {
      "text/plain": "  first_name last_name              job_title  salary       department\n0       John       Doe         Sales Director  120000            Sales\n1       Jane     Smith         HR Coordinator   60000  Human Resources\n2    Michael   Johnson      Software Engineer  110000               IT\n3      Sarah  Williams   Marketing Specialist   75000            Sales\n4      David     Brown             HR Manager   90000  Human Resources\n5      Emily     Davis  IT Support Specialist   55000               IT\n6      Jacob    Wilson   Sales Representative   80000            Sales\n7     Olivia     Moore      Marketing Manager  100000            Sales\n8      Ethan       Lee      Financial Analyst   85000            Sales\n9     Sophia    Taylor           HR Assistant   50000  Human Resources",
      "text/html": "<div>\n<style scoped>\n    .dataframe tbody tr th:only-of-type {\n        vertical-align: middle;\n    }\n\n    .dataframe tbody tr th {\n        vertical-align: top;\n    }\n\n    .dataframe thead th {\n        text-align: right;\n    }\n</style>\n<table border=\"1\" class=\"dataframe\">\n  <thead>\n    <tr style=\"text-align: right;\">\n      <th></th>\n      <th>first_name</th>\n      <th>last_name</th>\n      <th>job_title</th>\n      <th>salary</th>\n      <th>department</th>\n    </tr>\n  </thead>\n  <tbody>\n    <tr>\n      <th>0</th>\n      <td>John</td>\n      <td>Doe</td>\n      <td>Sales Director</td>\n      <td>120000</td>\n      <td>Sales</td>\n    </tr>\n    <tr>\n      <th>1</th>\n      <td>Jane</td>\n      <td>Smith</td>\n      <td>HR Coordinator</td>\n      <td>60000</td>\n      <td>Human Resources</td>\n    </tr>\n    <tr>\n      <th>2</th>\n      <td>Michael</td>\n      <td>Johnson</td>\n      <td>Software Engineer</td>\n      <td>110000</td>\n      <td>IT</td>\n    </tr>\n    <tr>\n      <th>3</th>\n      <td>Sarah</td>\n      <td>Williams</td>\n      <td>Marketing Specialist</td>\n      <td>75000</td>\n      <td>Sales</td>\n    </tr>\n    <tr>\n      <th>4</th>\n      <td>David</td>\n      <td>Brown</td>\n      <td>HR Manager</td>\n      <td>90000</td>\n      <td>Human Resources</td>\n    </tr>\n    <tr>\n      <th>5</th>\n      <td>Emily</td>\n      <td>Davis</td>\n      <td>IT Support Specialist</td>\n      <td>55000</td>\n      <td>IT</td>\n    </tr>\n    <tr>\n      <th>6</th>\n      <td>Jacob</td>\n      <td>Wilson</td>\n      <td>Sales Representative</td>\n      <td>80000</td>\n      <td>Sales</td>\n    </tr>\n    <tr>\n      <th>7</th>\n      <td>Olivia</td>\n      <td>Moore</td>\n      <td>Marketing Manager</td>\n      <td>100000</td>\n      <td>Sales</td>\n    </tr>\n    <tr>\n      <th>8</th>\n      <td>Ethan</td>\n      <td>Lee</td>\n      <td>Financial Analyst</td>\n      <td>85000</td>\n      <td>Sales</td>\n    </tr>\n    <tr>\n      <th>9</th>\n      <td>Sophia</td>\n      <td>Taylor</td>\n      <td>HR Assistant</td>\n      <td>50000</td>\n      <td>Human Resources</td>\n    </tr>\n  </tbody>\n</table>\n</div>"
     },
     "metadata": {},
     "output_type": "display_data"
    },
    {
     "data": {
      "text/plain": "   department_name  department_head       location  office_number   budget\n0            Sales   Sarah Williams       New York            101  1000000\n1  Human Resources      David Brown        Chicago            202   800000\n2               IT  Michael Johnson  San Francisco            303  1200000",
      "text/html": "<div>\n<style scoped>\n    .dataframe tbody tr th:only-of-type {\n        vertical-align: middle;\n    }\n\n    .dataframe tbody tr th {\n        vertical-align: top;\n    }\n\n    .dataframe thead th {\n        text-align: right;\n    }\n</style>\n<table border=\"1\" class=\"dataframe\">\n  <thead>\n    <tr style=\"text-align: right;\">\n      <th></th>\n      <th>department_name</th>\n      <th>department_head</th>\n      <th>location</th>\n      <th>office_number</th>\n      <th>budget</th>\n    </tr>\n  </thead>\n  <tbody>\n    <tr>\n      <th>0</th>\n      <td>Sales</td>\n      <td>Sarah Williams</td>\n      <td>New York</td>\n      <td>101</td>\n      <td>1000000</td>\n    </tr>\n    <tr>\n      <th>1</th>\n      <td>Human Resources</td>\n      <td>David Brown</td>\n      <td>Chicago</td>\n      <td>202</td>\n      <td>800000</td>\n    </tr>\n    <tr>\n      <th>2</th>\n      <td>IT</td>\n      <td>Michael Johnson</td>\n      <td>San Francisco</td>\n      <td>303</td>\n      <td>1200000</td>\n    </tr>\n  </tbody>\n</table>\n</div>"
     },
     "metadata": {},
     "output_type": "display_data"
    }
   ],
   "source": [
    "employees = pd.read_json(\"../data/employees.json\")\n",
    "departments = pd.read_json(\"../data/departments.json\")\n",
    "display(employees)\n",
    "display(departments)"
   ],
   "metadata": {
    "collapsed": false,
    "ExecuteTime": {
     "end_time": "2023-11-09T10:51:10.770942Z",
     "start_time": "2023-11-09T10:51:10.702690700Z"
    }
   },
   "id": "43c2591dc8534b94"
  },
  {
   "cell_type": "code",
   "execution_count": 68,
   "outputs": [],
   "source": [
    "new_df = employees.merge(departments, left_on=\"department\", right_on=\"department_name\")"
   ],
   "metadata": {
    "collapsed": false,
    "ExecuteTime": {
     "end_time": "2023-11-09T10:51:11.512611700Z",
     "start_time": "2023-11-09T10:51:11.477721300Z"
    }
   },
   "id": "1f51d958bb095fe3"
  },
  {
   "cell_type": "code",
   "execution_count": 70,
   "outputs": [
    {
     "data": {
      "text/plain": "  first_name last_name              job_title  salary       department  \\\n0       John       Doe         Sales Director  120000            Sales   \n1      Sarah  Williams   Marketing Specialist   75000            Sales   \n2      Jacob    Wilson   Sales Representative   80000            Sales   \n3     Olivia     Moore      Marketing Manager  100000            Sales   \n4      Ethan       Lee      Financial Analyst   85000            Sales   \n5       Jane     Smith         HR Coordinator   60000  Human Resources   \n6      David     Brown             HR Manager   90000  Human Resources   \n7     Sophia    Taylor           HR Assistant   50000  Human Resources   \n8    Michael   Johnson      Software Engineer  110000               IT   \n9      Emily     Davis  IT Support Specialist   55000               IT   \n\n   department_name  department_head       location  office_number   budget  \n0            Sales   Sarah Williams       New York            101  1000000  \n1            Sales   Sarah Williams       New York            101  1000000  \n2            Sales   Sarah Williams       New York            101  1000000  \n3            Sales   Sarah Williams       New York            101  1000000  \n4            Sales   Sarah Williams       New York            101  1000000  \n5  Human Resources      David Brown        Chicago            202   800000  \n6  Human Resources      David Brown        Chicago            202   800000  \n7  Human Resources      David Brown        Chicago            202   800000  \n8               IT  Michael Johnson  San Francisco            303  1200000  \n9               IT  Michael Johnson  San Francisco            303  1200000  ",
      "text/html": "<div>\n<style scoped>\n    .dataframe tbody tr th:only-of-type {\n        vertical-align: middle;\n    }\n\n    .dataframe tbody tr th {\n        vertical-align: top;\n    }\n\n    .dataframe thead th {\n        text-align: right;\n    }\n</style>\n<table border=\"1\" class=\"dataframe\">\n  <thead>\n    <tr style=\"text-align: right;\">\n      <th></th>\n      <th>first_name</th>\n      <th>last_name</th>\n      <th>job_title</th>\n      <th>salary</th>\n      <th>department</th>\n      <th>department_name</th>\n      <th>department_head</th>\n      <th>location</th>\n      <th>office_number</th>\n      <th>budget</th>\n    </tr>\n  </thead>\n  <tbody>\n    <tr>\n      <th>0</th>\n      <td>John</td>\n      <td>Doe</td>\n      <td>Sales Director</td>\n      <td>120000</td>\n      <td>Sales</td>\n      <td>Sales</td>\n      <td>Sarah Williams</td>\n      <td>New York</td>\n      <td>101</td>\n      <td>1000000</td>\n    </tr>\n    <tr>\n      <th>1</th>\n      <td>Sarah</td>\n      <td>Williams</td>\n      <td>Marketing Specialist</td>\n      <td>75000</td>\n      <td>Sales</td>\n      <td>Sales</td>\n      <td>Sarah Williams</td>\n      <td>New York</td>\n      <td>101</td>\n      <td>1000000</td>\n    </tr>\n    <tr>\n      <th>2</th>\n      <td>Jacob</td>\n      <td>Wilson</td>\n      <td>Sales Representative</td>\n      <td>80000</td>\n      <td>Sales</td>\n      <td>Sales</td>\n      <td>Sarah Williams</td>\n      <td>New York</td>\n      <td>101</td>\n      <td>1000000</td>\n    </tr>\n    <tr>\n      <th>3</th>\n      <td>Olivia</td>\n      <td>Moore</td>\n      <td>Marketing Manager</td>\n      <td>100000</td>\n      <td>Sales</td>\n      <td>Sales</td>\n      <td>Sarah Williams</td>\n      <td>New York</td>\n      <td>101</td>\n      <td>1000000</td>\n    </tr>\n    <tr>\n      <th>4</th>\n      <td>Ethan</td>\n      <td>Lee</td>\n      <td>Financial Analyst</td>\n      <td>85000</td>\n      <td>Sales</td>\n      <td>Sales</td>\n      <td>Sarah Williams</td>\n      <td>New York</td>\n      <td>101</td>\n      <td>1000000</td>\n    </tr>\n    <tr>\n      <th>5</th>\n      <td>Jane</td>\n      <td>Smith</td>\n      <td>HR Coordinator</td>\n      <td>60000</td>\n      <td>Human Resources</td>\n      <td>Human Resources</td>\n      <td>David Brown</td>\n      <td>Chicago</td>\n      <td>202</td>\n      <td>800000</td>\n    </tr>\n    <tr>\n      <th>6</th>\n      <td>David</td>\n      <td>Brown</td>\n      <td>HR Manager</td>\n      <td>90000</td>\n      <td>Human Resources</td>\n      <td>Human Resources</td>\n      <td>David Brown</td>\n      <td>Chicago</td>\n      <td>202</td>\n      <td>800000</td>\n    </tr>\n    <tr>\n      <th>7</th>\n      <td>Sophia</td>\n      <td>Taylor</td>\n      <td>HR Assistant</td>\n      <td>50000</td>\n      <td>Human Resources</td>\n      <td>Human Resources</td>\n      <td>David Brown</td>\n      <td>Chicago</td>\n      <td>202</td>\n      <td>800000</td>\n    </tr>\n    <tr>\n      <th>8</th>\n      <td>Michael</td>\n      <td>Johnson</td>\n      <td>Software Engineer</td>\n      <td>110000</td>\n      <td>IT</td>\n      <td>IT</td>\n      <td>Michael Johnson</td>\n      <td>San Francisco</td>\n      <td>303</td>\n      <td>1200000</td>\n    </tr>\n    <tr>\n      <th>9</th>\n      <td>Emily</td>\n      <td>Davis</td>\n      <td>IT Support Specialist</td>\n      <td>55000</td>\n      <td>IT</td>\n      <td>IT</td>\n      <td>Michael Johnson</td>\n      <td>San Francisco</td>\n      <td>303</td>\n      <td>1200000</td>\n    </tr>\n  </tbody>\n</table>\n</div>"
     },
     "execution_count": 70,
     "metadata": {},
     "output_type": "execute_result"
    }
   ],
   "source": [
    "new_df"
   ],
   "metadata": {
    "collapsed": false,
    "ExecuteTime": {
     "end_time": "2023-11-09T10:51:25.689449400Z",
     "start_time": "2023-11-09T10:51:25.661629Z"
    }
   },
   "id": "7a036e625b5e482a"
  },
  {
   "cell_type": "code",
   "execution_count": 71,
   "outputs": [],
   "source": [
    "users = pd.read_json(\"../data/users.json\")"
   ],
   "metadata": {
    "collapsed": false,
    "ExecuteTime": {
     "end_time": "2023-11-09T10:56:03.838377Z",
     "start_time": "2023-11-09T10:56:03.801270Z"
    }
   },
   "id": "7a3b0436deba09e4"
  },
  {
   "cell_type": "code",
   "execution_count": 76,
   "outputs": [
    {
     "data": {
      "text/plain": "  username                                           password  \\\n0   johdoe  7e684c07e48bf68c0181306c2dab1a0e2b8298e9a59a37...   \n1   jansmi  a6ab128c25d59951f9eb29a0b63806a0a2df924a384f61...   \n2   micjoh  9f01f5cfa05a6b14367d4d0e6c788c5977f094ad4e2381...   \n3   sarwil  fdb1e5c757d39e5f27065f12f27fbc94d50f47a66e8cdd...   \n4   davbro  1d99b7d777fb1b04ac1bea3d4b04a4ea5f654f9b304da4...   \n5   emidav  1953b5a2e8cc313b6db9f1708e9d0b84a84c6b3a60706e...   \n6   jacwil  8d5ee4f5e3a5e9202a2f21d3b7c30a10c9c51d0133a731...   \n7   olimoo  79cfd142536a5d27528d3306ef28e26d038c625764167b...   \n8   ethlee  5f51c17c9b81d68a1c9b99f1a8627a457bd0a4048d594c...   \n9   soptay  a429b013ebfb9f86a3cb8cf2311e2bfa3b00b238d439eb...   \n\n                             email           phone         host  \n0         john.doe@mockcompany.com  (212) 591-7254  192.168.1.1  \n1       jane.smith@mockcompany.com  (312) 623-3364  192.168.1.2  \n2  michael.johnson@mockcompany.com  (415) 602-6872  192.168.1.3  \n3   sarah.williams@mockcompany.com  (212) 623-6568  192.168.1.1  \n4      david.brown@mockcompany.com  (312) 709-8933  192.168.1.2  \n5      emily.davis@mockcompany.com  (415) 775-6149  192.168.1.3  \n6     jacob.wilson@mockcompany.com  (212) 285-2027  192.168.1.1  \n7     olivia.moore@mockcompany.com  (212) 335-5297  192.168.1.1  \n8        ethan.lee@mockcompany.com  (212) 509-8922  192.168.1.1  \n9    sophia.taylor@mockcompany.com  (312) 826-6711  192.168.1.2  ",
      "text/html": "<div>\n<style scoped>\n    .dataframe tbody tr th:only-of-type {\n        vertical-align: middle;\n    }\n\n    .dataframe tbody tr th {\n        vertical-align: top;\n    }\n\n    .dataframe thead th {\n        text-align: right;\n    }\n</style>\n<table border=\"1\" class=\"dataframe\">\n  <thead>\n    <tr style=\"text-align: right;\">\n      <th></th>\n      <th>username</th>\n      <th>password</th>\n      <th>email</th>\n      <th>phone</th>\n      <th>host</th>\n    </tr>\n  </thead>\n  <tbody>\n    <tr>\n      <th>0</th>\n      <td>johdoe</td>\n      <td>7e684c07e48bf68c0181306c2dab1a0e2b8298e9a59a37...</td>\n      <td>john.doe@mockcompany.com</td>\n      <td>(212) 591-7254</td>\n      <td>192.168.1.1</td>\n    </tr>\n    <tr>\n      <th>1</th>\n      <td>jansmi</td>\n      <td>a6ab128c25d59951f9eb29a0b63806a0a2df924a384f61...</td>\n      <td>jane.smith@mockcompany.com</td>\n      <td>(312) 623-3364</td>\n      <td>192.168.1.2</td>\n    </tr>\n    <tr>\n      <th>2</th>\n      <td>micjoh</td>\n      <td>9f01f5cfa05a6b14367d4d0e6c788c5977f094ad4e2381...</td>\n      <td>michael.johnson@mockcompany.com</td>\n      <td>(415) 602-6872</td>\n      <td>192.168.1.3</td>\n    </tr>\n    <tr>\n      <th>3</th>\n      <td>sarwil</td>\n      <td>fdb1e5c757d39e5f27065f12f27fbc94d50f47a66e8cdd...</td>\n      <td>sarah.williams@mockcompany.com</td>\n      <td>(212) 623-6568</td>\n      <td>192.168.1.1</td>\n    </tr>\n    <tr>\n      <th>4</th>\n      <td>davbro</td>\n      <td>1d99b7d777fb1b04ac1bea3d4b04a4ea5f654f9b304da4...</td>\n      <td>david.brown@mockcompany.com</td>\n      <td>(312) 709-8933</td>\n      <td>192.168.1.2</td>\n    </tr>\n    <tr>\n      <th>5</th>\n      <td>emidav</td>\n      <td>1953b5a2e8cc313b6db9f1708e9d0b84a84c6b3a60706e...</td>\n      <td>emily.davis@mockcompany.com</td>\n      <td>(415) 775-6149</td>\n      <td>192.168.1.3</td>\n    </tr>\n    <tr>\n      <th>6</th>\n      <td>jacwil</td>\n      <td>8d5ee4f5e3a5e9202a2f21d3b7c30a10c9c51d0133a731...</td>\n      <td>jacob.wilson@mockcompany.com</td>\n      <td>(212) 285-2027</td>\n      <td>192.168.1.1</td>\n    </tr>\n    <tr>\n      <th>7</th>\n      <td>olimoo</td>\n      <td>79cfd142536a5d27528d3306ef28e26d038c625764167b...</td>\n      <td>olivia.moore@mockcompany.com</td>\n      <td>(212) 335-5297</td>\n      <td>192.168.1.1</td>\n    </tr>\n    <tr>\n      <th>8</th>\n      <td>ethlee</td>\n      <td>5f51c17c9b81d68a1c9b99f1a8627a457bd0a4048d594c...</td>\n      <td>ethan.lee@mockcompany.com</td>\n      <td>(212) 509-8922</td>\n      <td>192.168.1.1</td>\n    </tr>\n    <tr>\n      <th>9</th>\n      <td>soptay</td>\n      <td>a429b013ebfb9f86a3cb8cf2311e2bfa3b00b238d439eb...</td>\n      <td>sophia.taylor@mockcompany.com</td>\n      <td>(312) 826-6711</td>\n      <td>192.168.1.2</td>\n    </tr>\n  </tbody>\n</table>\n</div>"
     },
     "execution_count": 76,
     "metadata": {},
     "output_type": "execute_result"
    }
   ],
   "source": [
    "users"
   ],
   "metadata": {
    "collapsed": false,
    "ExecuteTime": {
     "end_time": "2023-11-09T10:56:34.327646300Z",
     "start_time": "2023-11-09T10:56:34.290584200Z"
    }
   },
   "id": "65a829b495b0b26f"
  },
  {
   "cell_type": "code",
   "execution_count": null,
   "outputs": [],
   "source": [],
   "metadata": {
    "collapsed": false
   },
   "id": "e6fbaa1546eb6e70"
  }
 ],
 "metadata": {
  "kernelspec": {
   "display_name": "Python 3",
   "language": "python",
   "name": "python3"
  },
  "language_info": {
   "codemirror_mode": {
    "name": "ipython",
    "version": 2
   },
   "file_extension": ".py",
   "mimetype": "text/x-python",
   "name": "python",
   "nbconvert_exporter": "python",
   "pygments_lexer": "ipython2",
   "version": "2.7.6"
  }
 },
 "nbformat": 4,
 "nbformat_minor": 5
}
