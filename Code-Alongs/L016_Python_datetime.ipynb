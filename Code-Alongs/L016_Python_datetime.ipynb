{
 "cells": [
  {
   "cell_type": "markdown",
   "source": [
    "### Working with date and time in python"
   ],
   "metadata": {
    "collapsed": false
   },
   "id": "9c5759be55944227"
  },
  {
   "cell_type": "code",
   "execution_count": 1,
   "outputs": [],
   "source": [
    "from datetime import datetime, timedelta, date, time"
   ],
   "metadata": {
    "collapsed": false,
    "ExecuteTime": {
     "end_time": "2023-11-10T08:05:21.889291500Z",
     "start_time": "2023-11-10T08:05:21.887277700Z"
    }
   },
   "id": "81ae72132b9f4796"
  },
  {
   "cell_type": "code",
   "execution_count": 2,
   "outputs": [],
   "source": [
    "now = datetime.now()"
   ],
   "metadata": {
    "collapsed": false,
    "ExecuteTime": {
     "end_time": "2023-11-10T08:07:09.868501400Z",
     "start_time": "2023-11-10T08:07:09.860540800Z"
    }
   },
   "id": "6ced51e9741612e2"
  },
  {
   "cell_type": "code",
   "execution_count": 4,
   "outputs": [
    {
     "data": {
      "text/plain": "datetime.datetime"
     },
     "execution_count": 4,
     "metadata": {},
     "output_type": "execute_result"
    }
   ],
   "source": [
    "type(now)"
   ],
   "metadata": {
    "collapsed": false,
    "ExecuteTime": {
     "end_time": "2023-11-10T08:07:20.493800400Z",
     "start_time": "2023-11-10T08:07:20.479118300Z"
    }
   },
   "id": "adfe57952930fe75"
  },
  {
   "cell_type": "code",
   "execution_count": 7,
   "outputs": [
    {
     "name": "stdout",
     "output_type": "stream",
     "text": [
      "Now is 2023-11-10 09:07:09.858845\n",
      "now = datetime.datetime(2023, 11, 10, 9, 7, 9, 858845)\n"
     ]
    }
   ],
   "source": [
    "print(f\"Now is {now}\")\n",
    "print(f\"{now = }\")"
   ],
   "metadata": {
    "collapsed": false,
    "ExecuteTime": {
     "end_time": "2023-11-10T08:09:24.026215600Z",
     "start_time": "2023-11-10T08:09:23.997871700Z"
    }
   },
   "id": "ee96b4463e829fd8"
  },
  {
   "cell_type": "code",
   "execution_count": 19,
   "outputs": [
    {
     "name": "stdout",
     "output_type": "stream",
     "text": [
      "now.year = 2023\n",
      "now.month = 11\n",
      "now.day = 10\n",
      "now.hour = 9\n",
      "now.minute = 7\n",
      "now.second = 9\n",
      "now.microsecond = 858845\n",
      "datetime.IsoCalendarDate(year=2023, week=45, weekday=5)\n"
     ]
    }
   ],
   "source": [
    "print(f\"{now.year = }\")\n",
    "print(f\"{now.month = }\")\n",
    "print(f\"{now.day = }\")\n",
    "print(f\"{now.hour = }\")\n",
    "print(f\"{now.minute = }\")\n",
    "print(f\"{now.second = }\")\n",
    "print(f\"{now.microsecond = }\")\n",
    "\n",
    "print(f\"{now.isocalendar()}\")"
   ],
   "metadata": {
    "collapsed": false,
    "ExecuteTime": {
     "end_time": "2023-11-10T08:26:44.634390200Z",
     "start_time": "2023-11-10T08:26:44.619017600Z"
    }
   },
   "id": "eda0013958bc7209"
  },
  {
   "cell_type": "code",
   "execution_count": 10,
   "outputs": [
    {
     "name": "stdout",
     "output_type": "stream",
     "text": [
      "2023-11-10\n"
     ]
    }
   ],
   "source": [
    "print(f\"{now.year}-{now.month}-{now.day}\")"
   ],
   "metadata": {
    "collapsed": false,
    "ExecuteTime": {
     "end_time": "2023-11-10T08:11:54.230523100Z",
     "start_time": "2023-11-10T08:11:54.208399700Z"
    }
   },
   "id": "c224f138535ecc35"
  },
  {
   "cell_type": "code",
   "execution_count": 11,
   "outputs": [
    {
     "name": "stdout",
     "output_type": "stream",
     "text": [
      "now.strftime('%Y-%m-%d') = '2023-11-10'\n"
     ]
    }
   ],
   "source": [
    "print(f\"{now.strftime('%Y-%m-%d') = }\")"
   ],
   "metadata": {
    "collapsed": false,
    "ExecuteTime": {
     "end_time": "2023-11-10T08:14:53.057515400Z",
     "start_time": "2023-11-10T08:14:53.050333200Z"
    }
   },
   "id": "eb09e448b0658b8b"
  },
  {
   "cell_type": "code",
   "execution_count": 13,
   "outputs": [
    {
     "name": "stdout",
     "output_type": "stream",
     "text": [
      "now.strftime('Today is a %A in %B') = 'Today is a Friday in November'\n"
     ]
    }
   ],
   "source": [
    "print(f\"{now.strftime('Today is a %A in %B') = }\")"
   ],
   "metadata": {
    "collapsed": false,
    "ExecuteTime": {
     "end_time": "2023-11-10T08:15:43.466757300Z",
     "start_time": "2023-11-10T08:15:43.451510400Z"
    }
   },
   "id": "2206f40ca21e8bf"
  },
  {
   "cell_type": "code",
   "execution_count": 14,
   "outputs": [],
   "source": [
    "christmas = datetime(2023, 12, 24)"
   ],
   "metadata": {
    "collapsed": false,
    "ExecuteTime": {
     "end_time": "2023-11-10T08:18:10.291846700Z",
     "start_time": "2023-11-10T08:18:10.282153100Z"
    }
   },
   "id": "6c64b50eb99c69b5"
  },
  {
   "cell_type": "code",
   "execution_count": 15,
   "outputs": [
    {
     "data": {
      "text/plain": "'2023-12-24 00:00:00'"
     },
     "execution_count": 15,
     "metadata": {},
     "output_type": "execute_result"
    }
   ],
   "source": [
    "str(christmas)"
   ],
   "metadata": {
    "collapsed": false,
    "ExecuteTime": {
     "end_time": "2023-11-10T08:18:18.102955600Z",
     "start_time": "2023-11-10T08:18:18.094233900Z"
    }
   },
   "id": "33d415e6f6bbb53b"
  },
  {
   "cell_type": "code",
   "execution_count": 16,
   "outputs": [],
   "source": [
    "new_year = \"2024-01-01\""
   ],
   "metadata": {
    "collapsed": false,
    "ExecuteTime": {
     "end_time": "2023-11-10T08:19:25.717806300Z",
     "start_time": "2023-11-10T08:19:25.708767500Z"
    }
   },
   "id": "241ebd5be4d240b3"
  },
  {
   "cell_type": "code",
   "execution_count": 17,
   "outputs": [],
   "source": [
    "next_year = datetime.strptime(new_year, \"%Y-%m-%d\")"
   ],
   "metadata": {
    "collapsed": false,
    "ExecuteTime": {
     "end_time": "2023-11-10T08:20:12.654185Z",
     "start_time": "2023-11-10T08:20:12.608492600Z"
    }
   },
   "id": "8b1c20c3687b29b9"
  },
  {
   "cell_type": "code",
   "execution_count": 20,
   "outputs": [
    {
     "name": "stdout",
     "output_type": "stream",
     "text": [
      "2024-01-01 00:00:00\n"
     ]
    }
   ],
   "source": [
    "print(next_year)"
   ],
   "metadata": {
    "collapsed": false,
    "ExecuteTime": {
     "end_time": "2023-11-10T08:28:02.408465300Z",
     "start_time": "2023-11-10T08:28:02.387745600Z"
    }
   },
   "id": "e5f56a268411f425"
  },
  {
   "cell_type": "code",
   "execution_count": 21,
   "outputs": [
    {
     "data": {
      "text/plain": "datetime.date(2023, 11, 10)"
     },
     "execution_count": 21,
     "metadata": {},
     "output_type": "execute_result"
    }
   ],
   "source": [
    "now.date()"
   ],
   "metadata": {
    "collapsed": false,
    "ExecuteTime": {
     "end_time": "2023-11-10T08:28:21.269586100Z",
     "start_time": "2023-11-10T08:28:21.239962600Z"
    }
   },
   "id": "1ac1d10de5044b61"
  },
  {
   "cell_type": "code",
   "execution_count": 22,
   "outputs": [
    {
     "name": "stdout",
     "output_type": "stream",
     "text": [
      "2023-11-10\n",
      "09:07:09.858845\n"
     ]
    }
   ],
   "source": [
    "print(now.date())\n",
    "print(now.time())"
   ],
   "metadata": {
    "collapsed": false,
    "ExecuteTime": {
     "end_time": "2023-11-10T08:29:45.440789100Z",
     "start_time": "2023-11-10T08:29:45.429499100Z"
    }
   },
   "id": "8b9ff4679ed7c264"
  },
  {
   "cell_type": "markdown",
   "source": [
    "### Timedelta"
   ],
   "metadata": {
    "collapsed": false
   },
   "id": "9aca6861579f658b"
  },
  {
   "cell_type": "code",
   "execution_count": 24,
   "outputs": [],
   "source": [
    "# Calculating the diff between two datetimes gives us a timedelta object\n",
    "time_until_next_year = next_year - now"
   ],
   "metadata": {
    "collapsed": false,
    "ExecuteTime": {
     "end_time": "2023-11-10T08:32:39.201588200Z",
     "start_time": "2023-11-10T08:32:39.190989400Z"
    }
   },
   "id": "e16d8ab77546d76d"
  },
  {
   "cell_type": "code",
   "execution_count": 25,
   "outputs": [
    {
     "data": {
      "text/plain": "datetime.timedelta"
     },
     "execution_count": 25,
     "metadata": {},
     "output_type": "execute_result"
    }
   ],
   "source": [
    "type(time_until_next_year)"
   ],
   "metadata": {
    "collapsed": false,
    "ExecuteTime": {
     "end_time": "2023-11-10T08:32:49.727920100Z",
     "start_time": "2023-11-10T08:32:49.701588300Z"
    }
   },
   "id": "7ce7c95b567faa58"
  },
  {
   "cell_type": "code",
   "execution_count": 26,
   "outputs": [
    {
     "name": "stdout",
     "output_type": "stream",
     "text": [
      "str(time_until_next_year) = '51 days, 14:52:50.141155'\n",
      "repr(time_until_next_year) = 'datetime.timedelta(days=51, seconds=53570, microseconds=141155)'\n"
     ]
    }
   ],
   "source": [
    "print(f\"{str(time_until_next_year) = }\")\n",
    "print(f\"{repr(time_until_next_year) = }\")\n"
   ],
   "metadata": {
    "collapsed": false,
    "ExecuteTime": {
     "end_time": "2023-11-10T08:33:23.964114700Z",
     "start_time": "2023-11-10T08:33:23.921349600Z"
    }
   },
   "id": "812a766d7500d602"
  },
  {
   "cell_type": "code",
   "execution_count": 30,
   "outputs": [
    {
     "name": "stdout",
     "output_type": "stream",
     "text": [
      "51 days, 14:25:15.045715\n"
     ]
    }
   ],
   "source": [
    "print(next_year - datetime.now())"
   ],
   "metadata": {
    "collapsed": false,
    "ExecuteTime": {
     "end_time": "2023-11-10T08:34:44.963178600Z",
     "start_time": "2023-11-10T08:34:44.956123800Z"
    }
   },
   "id": "6e0ede0667f6c230"
  },
  {
   "cell_type": "code",
   "execution_count": 33,
   "outputs": [
    {
     "name": "stdout",
     "output_type": "stream",
     "text": [
      "time_until_next_year.days = 51\n",
      "time_until_next_year.seconds = 53570\n",
      "time_until_next_year.microseconds = 141155\n",
      "time_until_next_year.total_seconds() = 4459970.141155\n"
     ]
    }
   ],
   "source": [
    "print(f\"{time_until_next_year.days = }\")\n",
    "print(f\"{time_until_next_year.seconds = }\")\n",
    "print(f\"{time_until_next_year.microseconds = }\")\n",
    "print(f\"{time_until_next_year.total_seconds() = }\")"
   ],
   "metadata": {
    "collapsed": false,
    "ExecuteTime": {
     "end_time": "2023-11-10T08:36:17.598643900Z",
     "start_time": "2023-11-10T08:36:17.574292100Z"
    }
   },
   "id": "52be029b9bf8f231"
  },
  {
   "cell_type": "code",
   "execution_count": 34,
   "outputs": [
    {
     "data": {
      "text/plain": "datetime.timedelta(days=51, seconds=53570, microseconds=141155)"
     },
     "execution_count": 34,
     "metadata": {},
     "output_type": "execute_result"
    }
   ],
   "source": [
    "# Arithmetics can be applied on timedelta\n",
    "time_until_next_year"
   ],
   "metadata": {
    "collapsed": false,
    "ExecuteTime": {
     "end_time": "2023-11-10T08:37:36.271682300Z",
     "start_time": "2023-11-10T08:37:36.243360800Z"
    }
   },
   "id": "db8e661ccd1bcee1"
  },
  {
   "cell_type": "code",
   "execution_count": 35,
   "outputs": [
    {
     "data": {
      "text/plain": "datetime.timedelta(days=103, seconds=20740, microseconds=282310)"
     },
     "execution_count": 35,
     "metadata": {},
     "output_type": "execute_result"
    }
   ],
   "source": [
    "time_until_next_year * 2"
   ],
   "metadata": {
    "collapsed": false,
    "ExecuteTime": {
     "end_time": "2023-11-10T08:37:49.700474300Z",
     "start_time": "2023-11-10T08:37:49.663403900Z"
    }
   },
   "id": "97f1550c7979b874"
  },
  {
   "cell_type": "code",
   "execution_count": 36,
   "outputs": [
    {
     "data": {
      "text/plain": "datetime.timedelta(days=25, seconds=69985, microseconds=70578)"
     },
     "execution_count": 36,
     "metadata": {},
     "output_type": "execute_result"
    }
   ],
   "source": [
    "time_until_next_year / 2"
   ],
   "metadata": {
    "collapsed": false,
    "ExecuteTime": {
     "end_time": "2023-11-10T08:37:58.813627900Z",
     "start_time": "2023-11-10T08:37:58.769731500Z"
    }
   },
   "id": "3881775b5cca995b"
  },
  {
   "cell_type": "code",
   "execution_count": 38,
   "outputs": [
    {
     "name": "stdout",
     "output_type": "stream",
     "text": [
      "2024-02-21 14:52:50.141155\n"
     ]
    }
   ],
   "source": [
    "# Adding (or subtracting) a timedelta to a datetime gives us a new datetime\n",
    "print(next_year + time_until_next_year)"
   ],
   "metadata": {
    "collapsed": false,
    "ExecuteTime": {
     "end_time": "2023-11-10T08:41:39.775389800Z",
     "start_time": "2023-11-10T08:41:39.742412100Z"
    }
   },
   "id": "945d9408062525b0"
  },
  {
   "cell_type": "code",
   "execution_count": 39,
   "outputs": [
    {
     "name": "stdout",
     "output_type": "stream",
     "text": [
      "2023-11-10 09:43:16.826722\n"
     ]
    }
   ],
   "source": [
    "print(datetime.now())"
   ],
   "metadata": {
    "collapsed": false,
    "ExecuteTime": {
     "end_time": "2023-11-10T08:43:16.870500Z",
     "start_time": "2023-11-10T08:43:16.827972Z"
    }
   },
   "id": "9f7558bcab7ab22f"
  },
  {
   "cell_type": "code",
   "execution_count": 40,
   "outputs": [
    {
     "name": "stdout",
     "output_type": "stream",
     "text": [
      "2023-11-17 09:43:32.993574\n"
     ]
    }
   ],
   "source": [
    "print(datetime.now() + timedelta(7))"
   ],
   "metadata": {
    "collapsed": false,
    "ExecuteTime": {
     "end_time": "2023-11-10T08:43:33.051495100Z",
     "start_time": "2023-11-10T08:43:32.994767600Z"
    }
   },
   "id": "e81f00177956447e"
  },
  {
   "cell_type": "code",
   "execution_count": 41,
   "outputs": [],
   "source": [
    "from dateutil.relativedelta import relativedelta"
   ],
   "metadata": {
    "collapsed": false,
    "ExecuteTime": {
     "end_time": "2023-11-10T08:45:44.029230200Z",
     "start_time": "2023-11-10T08:45:43.998005800Z"
    }
   },
   "id": "3153bbe58d444656"
  },
  {
   "cell_type": "code",
   "execution_count": 42,
   "outputs": [
    {
     "name": "stdout",
     "output_type": "stream",
     "text": [
      "2024-04-10 09:46:48.349029\n"
     ]
    }
   ],
   "source": [
    "print(datetime.now() + relativedelta(months=5))"
   ],
   "metadata": {
    "collapsed": false,
    "ExecuteTime": {
     "end_time": "2023-11-10T08:46:48.394193800Z",
     "start_time": "2023-11-10T08:46:48.350633Z"
    }
   },
   "id": "a8295ff3784d0f64"
  },
  {
   "cell_type": "code",
   "execution_count": 43,
   "outputs": [
    {
     "name": "stdout",
     "output_type": "stream",
     "text": [
      "2023-11-24 09:47:05.181269\n"
     ]
    }
   ],
   "source": [
    "print(datetime.now() + relativedelta(weeks=2))"
   ],
   "metadata": {
    "collapsed": false,
    "ExecuteTime": {
     "end_time": "2023-11-10T08:47:05.229028100Z",
     "start_time": "2023-11-10T08:47:05.183317100Z"
    }
   },
   "id": "c326024f0c383133"
  },
  {
   "cell_type": "code",
   "execution_count": null,
   "outputs": [],
   "source": [],
   "metadata": {
    "collapsed": false
   },
   "id": "3dbd09fd1354bd6e"
  }
 ],
 "metadata": {
  "kernelspec": {
   "display_name": "Python 3",
   "language": "python",
   "name": "python3"
  },
  "language_info": {
   "codemirror_mode": {
    "name": "ipython",
    "version": 2
   },
   "file_extension": ".py",
   "mimetype": "text/x-python",
   "name": "python",
   "nbconvert_exporter": "python",
   "pygments_lexer": "ipython2",
   "version": "2.7.6"
  }
 },
 "nbformat": 4,
 "nbformat_minor": 5
}
